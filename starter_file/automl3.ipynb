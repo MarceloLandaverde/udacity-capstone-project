{
  "cells": [
    {
      "cell_type": "markdown",
      "source": [
        "# Automated ML\n",
        "\n",
        "TODO: Import Dependencies. In the cell below, import all the dependencies that you will need to complete the project."
      ],
      "metadata": {}
    },
    {
      "cell_type": "code",
      "source": [
        "import logging\n",
        "import os\n",
        "import csv\n",
        "\n",
        "from matplotlib import pyplot as plt\n",
        "import numpy as np\n",
        "import pandas as pd\n",
        "from azureml.data.dataset_factory import TabularDatasetFactory\n",
        "import pkg_resources\n",
        "\n",
        "import azureml.core\n",
        "from azureml.core.experiment import Experiment\n",
        "from azureml.core.workspace import Workspace\n",
        "from azureml.train.automl import AutoMLConfig\n",
        "from azureml.core.dataset import Dataset\n",
        "\n",
        "from azureml.pipeline.steps import AutoMLStep\n",
        "\n",
        "# Check core SDK version number\n",
        "print(\"SDK version:\", azureml.core.VERSION)"
      ],
      "outputs": [
        {
          "output_type": "stream",
          "name": "stdout",
          "text": [
            "SDK version: 1.20.0\n"
          ]
        }
      ],
      "execution_count": 1,
      "metadata": {
        "gather": {
          "logged": 1612604370401
        },
        "jupyter": {
          "outputs_hidden": false,
          "source_hidden": false
        },
        "nteract": {
          "transient": {
            "deleting": false
          }
        }
      }
    },
    {
      "cell_type": "code",
      "source": [
        "#Testing the authentication using the Workspace method \"from_config\"\n",
        "Workspace.from_config()"
      ],
      "outputs": [
        {
          "output_type": "stream",
          "name": "stdout",
          "text": [
            "Performing interactive authentication. Please follow the instructions on the terminal.\n",
            "To sign in, use a web browser to open the page https://microsoft.com/devicelogin and enter the code E5HNA65DJ to authenticate.\n",
            "You have logged in. Now let us find all the subscriptions to which you have access...\n",
            "Interactive authentication successfully completed.\n"
          ]
        },
        {
          "output_type": "execute_result",
          "execution_count": 2,
          "data": {
            "text/plain": "Workspace.create(name='quick-starts-ws-137436', subscription_id='510b94ba-e453-4417-988b-fbdc37b55ca7', resource_group='aml-quickstarts-137436')"
          },
          "metadata": {}
        }
      ],
      "execution_count": 2,
      "metadata": {
        "gather": {
          "logged": 1612604400407
        }
      }
    },
    {
      "cell_type": "code",
      "source": [
        "#create workspace\r\n",
        "ws = Workspace.from_config()"
      ],
      "outputs": [],
      "execution_count": 3,
      "metadata": {
        "collapsed": true,
        "jupyter": {
          "source_hidden": false,
          "outputs_hidden": false
        },
        "nteract": {
          "transient": {
            "deleting": false
          }
        },
        "gather": {
          "logged": 1612604416240
        }
      }
    },
    {
      "cell_type": "markdown",
      "source": [
        "#original code:\n",
        "ws = Workspace.from_config()\n",
        "\n",
        "# choose a name for experiment\n",
        "experiment_name = 'your experiment name here'\n",
        "\n",
        "experiment=Experiment(ws, experiment_name)"
      ],
      "metadata": {
        "gather": {
          "logged": 1598423890461
        },
        "jupyter": {
          "outputs_hidden": false,
          "source_hidden": false
        },
        "nteract": {
          "transient": {
            "deleting": false
          }
        }
      }
    },
    {
      "cell_type": "code",
      "source": [
        "# Choose a name for the run history container in the workspace.\n",
        "# NOTE: update these to match your existing experiment name\n",
        "experiment_name = 'automl-experiment-1'\n",
        "project_folder = './pipeline-project'\n",
        "\n",
        "experiment = Experiment(ws, experiment_name)\n",
        "experiment"
      ],
      "outputs": [
        {
          "output_type": "execute_result",
          "execution_count": 4,
          "data": {
            "text/plain": "Experiment(Name: automl-experiment-1,\nWorkspace: quick-starts-ws-137436)",
            "text/html": "<table style=\"width:100%\"><tr><th>Name</th><th>Workspace</th><th>Report Page</th><th>Docs Page</th></tr><tr><td>automl-experiment-1</td><td>quick-starts-ws-137436</td><td><a href=\"https://ml.azure.com/experiments/automl-experiment-1?wsid=/subscriptions/510b94ba-e453-4417-988b-fbdc37b55ca7/resourcegroups/aml-quickstarts-137436/workspaces/quick-starts-ws-137436\" target=\"_blank\" rel=\"noopener\">Link to Azure Machine Learning studio</a></td><td><a href=\"https://docs.microsoft.com/en-us/python/api/azureml-core/azureml.core.experiment.Experiment?view=azure-ml-py\" target=\"_blank\" rel=\"noopener\">Link to Documentation</a></td></tr></table>"
          },
          "metadata": {}
        }
      ],
      "execution_count": 4,
      "metadata": {
        "gather": {
          "logged": 1612604424176
        }
      }
    },
    {
      "cell_type": "markdown",
      "source": [
        "## Dataset\n",
        "\n",
        "### Overview\n",
        "TODO: In this markdown cell, give an overview of the dataset you are using. Also mention the task you will be performing.\n",
        "\n",
        "\n",
        "TODO: Get data. In the cell below, write code to access the data you will be using in this project. Remember that the dataset needs to be external."
      ],
      "metadata": {}
    },
    {
      "cell_type": "code",
      "source": [
        "\n",
        "\n",
        "dataset = TabularDatasetFactory.from_delimited_files('https://www.openml.org/data/get_csv/16826755/phpMYEkMl')\n",
        "\n",
        "\n",
        "dataset = dataset.to_pandas_dataframe()\n",
        "dataset.describe()"
      ],
      "outputs": [
        {
          "output_type": "execute_result",
          "execution_count": 5,
          "data": {
            "text/plain": "            pclass     survived        sibsp        parch         fare\ncount  1309.000000  1309.000000  1309.000000  1309.000000  1308.000000\nmean      2.294882     0.381971     0.498854     0.385027    33.295479\nstd       0.837836     0.486055     1.041658     0.865560    51.758668\nmin       1.000000     0.000000     0.000000     0.000000     0.000000\n25%       2.000000     0.000000     0.000000     0.000000     7.895800\n50%       3.000000     0.000000     0.000000     0.000000    14.454200\n75%       3.000000     1.000000     1.000000     0.000000    31.275000\nmax       3.000000     1.000000     8.000000     9.000000   512.329200",
            "text/html": "<div>\n<style scoped>\n    .dataframe tbody tr th:only-of-type {\n        vertical-align: middle;\n    }\n\n    .dataframe tbody tr th {\n        vertical-align: top;\n    }\n\n    .dataframe thead th {\n        text-align: right;\n    }\n</style>\n<table border=\"1\" class=\"dataframe\">\n  <thead>\n    <tr style=\"text-align: right;\">\n      <th></th>\n      <th>pclass</th>\n      <th>survived</th>\n      <th>sibsp</th>\n      <th>parch</th>\n      <th>fare</th>\n    </tr>\n  </thead>\n  <tbody>\n    <tr>\n      <th>count</th>\n      <td>1309.000000</td>\n      <td>1309.000000</td>\n      <td>1309.000000</td>\n      <td>1309.000000</td>\n      <td>1308.000000</td>\n    </tr>\n    <tr>\n      <th>mean</th>\n      <td>2.294882</td>\n      <td>0.381971</td>\n      <td>0.498854</td>\n      <td>0.385027</td>\n      <td>33.295479</td>\n    </tr>\n    <tr>\n      <th>std</th>\n      <td>0.837836</td>\n      <td>0.486055</td>\n      <td>1.041658</td>\n      <td>0.865560</td>\n      <td>51.758668</td>\n    </tr>\n    <tr>\n      <th>min</th>\n      <td>1.000000</td>\n      <td>0.000000</td>\n      <td>0.000000</td>\n      <td>0.000000</td>\n      <td>0.000000</td>\n    </tr>\n    <tr>\n      <th>25%</th>\n      <td>2.000000</td>\n      <td>0.000000</td>\n      <td>0.000000</td>\n      <td>0.000000</td>\n      <td>7.895800</td>\n    </tr>\n    <tr>\n      <th>50%</th>\n      <td>3.000000</td>\n      <td>0.000000</td>\n      <td>0.000000</td>\n      <td>0.000000</td>\n      <td>14.454200</td>\n    </tr>\n    <tr>\n      <th>75%</th>\n      <td>3.000000</td>\n      <td>1.000000</td>\n      <td>1.000000</td>\n      <td>0.000000</td>\n      <td>31.275000</td>\n    </tr>\n    <tr>\n      <th>max</th>\n      <td>3.000000</td>\n      <td>1.000000</td>\n      <td>8.000000</td>\n      <td>9.000000</td>\n      <td>512.329200</td>\n    </tr>\n  </tbody>\n</table>\n</div>"
          },
          "metadata": {}
        }
      ],
      "execution_count": 5,
      "metadata": {
        "gather": {
          "logged": 1612604448713
        }
      }
    },
    {
      "cell_type": "code",
      "source": [
        "###Just in case:\n",
        "from azureml.core.compute import AmlCompute\n",
        "from azureml.core.compute import ComputeTarget\n",
        "from azureml.core.compute_target import ComputeTargetException\n",
        "\n",
        "# NOTE: update the cluster name to match the existing cluster\n",
        "# Choose a name for your CPU cluster\n",
        "amlcompute_cluster_name = \"auto-ml\"\n",
        "\n",
        "# Verify that cluster does not exist already\n",
        "try:\n",
        "    compute_target = ComputeTarget(workspace=ws, name=amlcompute_cluster_name)\n",
        "    print('Found existing cluster, use it.')\n",
        "except ComputeTargetException:\n",
        "    compute_config = AmlCompute.provisioning_configuration(vm_size='STANDARD_DS12_V2',# for GPU, use \"STANDARD_NC6\"\n",
        "                                                           #vm_priority = 'lowpriority', # optional\n",
        "                                                           min_nodes=1,\n",
        "                                                           max_nodes=6)\n",
        "    compute_target = ComputeTarget.create(ws, amlcompute_cluster_name, compute_config)\n",
        "\n",
        "compute_target.wait_for_completion(show_output=True)\n",
        "# For a more detailed view of current AmlCompute status, use get_status()."
      ],
      "outputs": [
        {
          "output_type": "stream",
          "name": "stdout",
          "text": [
            "Found existing cluster, use it.\n",
            "\n",
            "Running\n"
          ]
        }
      ],
      "execution_count": 6,
      "metadata": {
        "gather": {
          "logged": 1612604463780
        }
      }
    },
    {
      "cell_type": "markdown",
      "source": [
        "### Clean Data:"
      ],
      "metadata": {}
    },
    {
      "cell_type": "code",
      "source": [
        "from train import clean_data"
      ],
      "outputs": [],
      "execution_count": 7,
      "metadata": {
        "gather": {
          "logged": 1612604478299
        }
      }
    },
    {
      "cell_type": "code",
      "source": [
        "x, y = clean_data(dataset)"
      ],
      "outputs": [],
      "execution_count": 8,
      "metadata": {
        "gather": {
          "logged": 1612604483930
        }
      }
    },
    {
      "cell_type": "code",
      "source": [
        "from sklearn.preprocessing import StandardScaler"
      ],
      "outputs": [],
      "execution_count": 9,
      "metadata": {
        "gather": {
          "logged": 1612604489997
        }
      }
    },
    {
      "cell_type": "code",
      "source": [
        "# create scaler\n",
        "variables = x.columns.tolist()\n",
        "\n",
        "scaler = StandardScaler()\n",
        "scaler.fit(x[variables]) \n",
        "\n",
        "x = scaler.transform(x[variables])"
      ],
      "outputs": [],
      "execution_count": 10,
      "metadata": {
        "gather": {
          "logged": 1612604494438
        }
      }
    },
    {
      "cell_type": "code",
      "source": [
        "x = pd.DataFrame(x,columns=variables)\r\n"
      ],
      "outputs": [],
      "execution_count": 11,
      "metadata": {
        "collapsed": true,
        "jupyter": {
          "source_hidden": false,
          "outputs_hidden": false
        },
        "nteract": {
          "transient": {
            "deleting": false
          }
        },
        "gather": {
          "logged": 1612604500511
        }
      }
    },
    {
      "cell_type": "code",
      "source": [
        "from sklearn.model_selection import train_test_split\n",
        "\n",
        "x_train, x_test, y_train, y_test = train_test_split(x,y,\n",
        "                                                    test_size = 0.2,\n",
        "                                                    random_state=0)"
      ],
      "outputs": [],
      "execution_count": 12,
      "metadata": {
        "gather": {
          "logged": 1612604507566
        }
      }
    },
    {
      "cell_type": "code",
      "source": [
        "#bring them together them again\n",
        "dataset = pd.concat([x_train,y_train],axis=1)"
      ],
      "outputs": [],
      "execution_count": 13,
      "metadata": {
        "gather": {
          "logged": 1612604514916
        }
      }
    },
    {
      "cell_type": "code",
      "source": [
        "dataset.head()"
      ],
      "outputs": [
        {
          "output_type": "execute_result",
          "execution_count": 14,
          "data": {
            "text/plain": "        pclass       age     sibsp  parch      fare    age_NA  fare_NA  \\\n1118  0.841916 -0.349075 -0.479087 -0.445 -0.490240 -0.501432 -0.02765   \n44   -1.546098  0.891204 -0.479087 -0.445  1.956990 -0.501432 -0.02765   \n1072  0.841916 -0.116523 -0.479087 -0.445 -0.493947  1.994288 -0.02765   \n1130  0.841916 -0.891698 -0.479087 -0.445 -0.493141 -0.501432 -0.02765   \n574  -0.352091 -0.039005  0.481288 -0.445 -0.237445 -0.501432 -0.02765   \n\n      sex_male  cabin_Missing  cabin_Rare  embarked_Q  embarked_Rare  \\\n1118  0.743497       0.539377   -0.425920   -0.322040      -0.039118   \n44   -1.344995      -1.853992    2.347858   -0.322040      -0.039118   \n1072  0.743497       0.539377   -0.425920    3.105202      -0.039118   \n1130 -1.344995       0.539377   -0.425920   -0.322040      -0.039118   \n574   0.743497       0.539377   -0.425920   -0.322040      -0.039118   \n\n      embarked_S  title_Mr  title_Mrs  title_Rare  survived  \n1118    0.657394  0.852592   -0.42592   -0.274947         0  \n44     -1.521159 -1.172894   -0.42592   -0.274947         1  \n1072   -1.521159  0.852592   -0.42592   -0.274947         0  \n1130    0.657394 -1.172894   -0.42592   -0.274947         0  \n574     0.657394  0.852592   -0.42592   -0.274947         0  ",
            "text/html": "<div>\n<style scoped>\n    .dataframe tbody tr th:only-of-type {\n        vertical-align: middle;\n    }\n\n    .dataframe tbody tr th {\n        vertical-align: top;\n    }\n\n    .dataframe thead th {\n        text-align: right;\n    }\n</style>\n<table border=\"1\" class=\"dataframe\">\n  <thead>\n    <tr style=\"text-align: right;\">\n      <th></th>\n      <th>pclass</th>\n      <th>age</th>\n      <th>sibsp</th>\n      <th>parch</th>\n      <th>fare</th>\n      <th>age_NA</th>\n      <th>fare_NA</th>\n      <th>sex_male</th>\n      <th>cabin_Missing</th>\n      <th>cabin_Rare</th>\n      <th>embarked_Q</th>\n      <th>embarked_Rare</th>\n      <th>embarked_S</th>\n      <th>title_Mr</th>\n      <th>title_Mrs</th>\n      <th>title_Rare</th>\n      <th>survived</th>\n    </tr>\n  </thead>\n  <tbody>\n    <tr>\n      <th>1118</th>\n      <td>0.841916</td>\n      <td>-0.349075</td>\n      <td>-0.479087</td>\n      <td>-0.445</td>\n      <td>-0.490240</td>\n      <td>-0.501432</td>\n      <td>-0.02765</td>\n      <td>0.743497</td>\n      <td>0.539377</td>\n      <td>-0.425920</td>\n      <td>-0.322040</td>\n      <td>-0.039118</td>\n      <td>0.657394</td>\n      <td>0.852592</td>\n      <td>-0.42592</td>\n      <td>-0.274947</td>\n      <td>0</td>\n    </tr>\n    <tr>\n      <th>44</th>\n      <td>-1.546098</td>\n      <td>0.891204</td>\n      <td>-0.479087</td>\n      <td>-0.445</td>\n      <td>1.956990</td>\n      <td>-0.501432</td>\n      <td>-0.02765</td>\n      <td>-1.344995</td>\n      <td>-1.853992</td>\n      <td>2.347858</td>\n      <td>-0.322040</td>\n      <td>-0.039118</td>\n      <td>-1.521159</td>\n      <td>-1.172894</td>\n      <td>-0.42592</td>\n      <td>-0.274947</td>\n      <td>1</td>\n    </tr>\n    <tr>\n      <th>1072</th>\n      <td>0.841916</td>\n      <td>-0.116523</td>\n      <td>-0.479087</td>\n      <td>-0.445</td>\n      <td>-0.493947</td>\n      <td>1.994288</td>\n      <td>-0.02765</td>\n      <td>0.743497</td>\n      <td>0.539377</td>\n      <td>-0.425920</td>\n      <td>3.105202</td>\n      <td>-0.039118</td>\n      <td>-1.521159</td>\n      <td>0.852592</td>\n      <td>-0.42592</td>\n      <td>-0.274947</td>\n      <td>0</td>\n    </tr>\n    <tr>\n      <th>1130</th>\n      <td>0.841916</td>\n      <td>-0.891698</td>\n      <td>-0.479087</td>\n      <td>-0.445</td>\n      <td>-0.493141</td>\n      <td>-0.501432</td>\n      <td>-0.02765</td>\n      <td>-1.344995</td>\n      <td>0.539377</td>\n      <td>-0.425920</td>\n      <td>-0.322040</td>\n      <td>-0.039118</td>\n      <td>0.657394</td>\n      <td>-1.172894</td>\n      <td>-0.42592</td>\n      <td>-0.274947</td>\n      <td>0</td>\n    </tr>\n    <tr>\n      <th>574</th>\n      <td>-0.352091</td>\n      <td>-0.039005</td>\n      <td>0.481288</td>\n      <td>-0.445</td>\n      <td>-0.237445</td>\n      <td>-0.501432</td>\n      <td>-0.02765</td>\n      <td>0.743497</td>\n      <td>0.539377</td>\n      <td>-0.425920</td>\n      <td>-0.322040</td>\n      <td>-0.039118</td>\n      <td>0.657394</td>\n      <td>0.852592</td>\n      <td>-0.42592</td>\n      <td>-0.274947</td>\n      <td>0</td>\n    </tr>\n  </tbody>\n</table>\n</div>"
          },
          "metadata": {}
        }
      ],
      "execution_count": 14,
      "metadata": {
        "gather": {
          "logged": 1612604520993
        }
      }
    },
    {
      "cell_type": "code",
      "source": [
        "#To train the model we need a TabularDataset and not a dataframe, therefore the current df will be converterd \n",
        "#into a TabularDataset:\n",
        "\n",
        "#Convert the dataframe into a csv\n",
        "local_path = 'prepared.csv'\n",
        "\n",
        "#Save it locally\n",
        "dataset.to_csv(local_path,index=None)\n",
        "\n",
        "#Generate the a datastore object which is the the default datastore\n",
        "datastore = ws.get_default_datastore()"
      ],
      "outputs": [],
      "execution_count": 15,
      "metadata": {
        "gather": {
          "logged": 1612604571420
        }
      }
    },
    {
      "cell_type": "code",
      "source": [
        "#Upload the dataframe which was previosly converted into a csv\n",
        "datastore.upload(src_dir='.', target_path='data')"
      ],
      "outputs": [
        {
          "output_type": "stream",
          "name": "stdout",
          "text": [
            "Uploading an estimated of 11 files\n",
            "Uploading ./.amlignore\n",
            "Uploaded ./.amlignore, 1 files out of an estimated total of 11\n",
            "Uploading ./.amlignore.amltmp\n",
            "Uploaded ./.amlignore.amltmp, 2 files out of an estimated total of 11\n",
            "Uploading ./hyperparameter_tuning.ipynb\n",
            "Uploaded ./hyperparameter_tuning.ipynb, 3 files out of an estimated total of 11\n",
            "Uploading ./prepared.csv\n",
            "Uploaded ./prepared.csv, 4 files out of an estimated total of 11\n",
            "Uploading ./.ipynb_aml_checkpoints/automl2-checkpoint2021-1-6-9-34-17.ipynb\n",
            "Uploaded ./.ipynb_aml_checkpoints/automl2-checkpoint2021-1-6-9-34-17.ipynb, 5 files out of an estimated total of 11\n",
            "Uploading ./automl2.ipynb\n",
            "Uploaded ./automl2.ipynb, 6 files out of an estimated total of 11\n",
            "Uploading ./automl2.ipynb.amltmp\n",
            "Uploaded ./automl2.ipynb.amltmp, 7 files out of an estimated total of 11\n",
            "Uploading ./pre_preprocess.py\n",
            "Uploaded ./pre_preprocess.py, 8 files out of an estimated total of 11\n",
            "Uploading ./train.py\n",
            "Uploaded ./train.py, 9 files out of an estimated total of 11\n",
            "Uploading ./__pycache__/pre_preprocess.cpython-36.pyc\n",
            "Uploaded ./__pycache__/pre_preprocess.cpython-36.pyc, 10 files out of an estimated total of 11\n",
            "Uploading ./__pycache__/train.cpython-36.pyc\n",
            "Uploaded ./__pycache__/train.cpython-36.pyc, 11 files out of an estimated total of 11\n",
            "Uploaded 11 files\n"
          ]
        },
        {
          "output_type": "execute_result",
          "execution_count": 16,
          "data": {
            "text/plain": "$AZUREML_DATAREFERENCE_2f3aa2e328194355a1b335f5b7f79b89"
          },
          "metadata": {}
        }
      ],
      "execution_count": 16,
      "metadata": {
        "gather": {
          "logged": 1612604577426
        }
      }
    },
    {
      "cell_type": "code",
      "source": [
        "#For the sake of checking; check the path\n",
        "datastore.path()"
      ],
      "outputs": [
        {
          "output_type": "execute_result",
          "execution_count": 17,
          "data": {
            "text/plain": "$AZUREML_DATAREFERENCE_workspaceblobstore"
          },
          "metadata": {}
        }
      ],
      "execution_count": 17,
      "metadata": {
        "gather": {
          "logged": 1612604601347
        }
      }
    },
    {
      "cell_type": "code",
      "source": [
        "#Now the uploaded file will be transformed into a Tabular dataset and store in a varible named 'training_dataset'\n",
        "training_dataset = Dataset.Tabular.from_delimited_files(path= [(datastore,('data/prepared.csv'))])"
      ],
      "outputs": [],
      "execution_count": 18,
      "metadata": {
        "gather": {
          "logged": 1612604611375
        }
      }
    },
    {
      "cell_type": "code",
      "source": [
        "#let's visualize the data:\n",
        "training_dataset.to_pandas_dataframe().head()"
      ],
      "outputs": [
        {
          "output_type": "execute_result",
          "execution_count": 19,
          "data": {
            "text/plain": "     pclass       age     sibsp  parch      fare    age_NA  fare_NA  sex_male  \\\n0  0.841916 -0.349075 -0.479087 -0.445 -0.490240 -0.501432 -0.02765  0.743497   \n1 -1.546098  0.891204 -0.479087 -0.445  1.956990 -0.501432 -0.02765 -1.344995   \n2  0.841916 -0.116523 -0.479087 -0.445 -0.493947  1.994288 -0.02765  0.743497   \n3  0.841916 -0.891698 -0.479087 -0.445 -0.493141 -0.501432 -0.02765 -1.344995   \n4 -0.352091 -0.039005  0.481288 -0.445 -0.237445 -0.501432 -0.02765  0.743497   \n\n   cabin_Missing  cabin_Rare  embarked_Q  embarked_Rare  embarked_S  title_Mr  \\\n0       0.539377   -0.425920   -0.322040      -0.039118    0.657394  0.852592   \n1      -1.853992    2.347858   -0.322040      -0.039118   -1.521159 -1.172894   \n2       0.539377   -0.425920    3.105202      -0.039118   -1.521159  0.852592   \n3       0.539377   -0.425920   -0.322040      -0.039118    0.657394 -1.172894   \n4       0.539377   -0.425920   -0.322040      -0.039118    0.657394  0.852592   \n\n   title_Mrs  title_Rare  survived  \n0   -0.42592   -0.274947         0  \n1   -0.42592   -0.274947         1  \n2   -0.42592   -0.274947         0  \n3   -0.42592   -0.274947         0  \n4   -0.42592   -0.274947         0  ",
            "text/html": "<div>\n<style scoped>\n    .dataframe tbody tr th:only-of-type {\n        vertical-align: middle;\n    }\n\n    .dataframe tbody tr th {\n        vertical-align: top;\n    }\n\n    .dataframe thead th {\n        text-align: right;\n    }\n</style>\n<table border=\"1\" class=\"dataframe\">\n  <thead>\n    <tr style=\"text-align: right;\">\n      <th></th>\n      <th>pclass</th>\n      <th>age</th>\n      <th>sibsp</th>\n      <th>parch</th>\n      <th>fare</th>\n      <th>age_NA</th>\n      <th>fare_NA</th>\n      <th>sex_male</th>\n      <th>cabin_Missing</th>\n      <th>cabin_Rare</th>\n      <th>embarked_Q</th>\n      <th>embarked_Rare</th>\n      <th>embarked_S</th>\n      <th>title_Mr</th>\n      <th>title_Mrs</th>\n      <th>title_Rare</th>\n      <th>survived</th>\n    </tr>\n  </thead>\n  <tbody>\n    <tr>\n      <th>0</th>\n      <td>0.841916</td>\n      <td>-0.349075</td>\n      <td>-0.479087</td>\n      <td>-0.445</td>\n      <td>-0.490240</td>\n      <td>-0.501432</td>\n      <td>-0.02765</td>\n      <td>0.743497</td>\n      <td>0.539377</td>\n      <td>-0.425920</td>\n      <td>-0.322040</td>\n      <td>-0.039118</td>\n      <td>0.657394</td>\n      <td>0.852592</td>\n      <td>-0.42592</td>\n      <td>-0.274947</td>\n      <td>0</td>\n    </tr>\n    <tr>\n      <th>1</th>\n      <td>-1.546098</td>\n      <td>0.891204</td>\n      <td>-0.479087</td>\n      <td>-0.445</td>\n      <td>1.956990</td>\n      <td>-0.501432</td>\n      <td>-0.02765</td>\n      <td>-1.344995</td>\n      <td>-1.853992</td>\n      <td>2.347858</td>\n      <td>-0.322040</td>\n      <td>-0.039118</td>\n      <td>-1.521159</td>\n      <td>-1.172894</td>\n      <td>-0.42592</td>\n      <td>-0.274947</td>\n      <td>1</td>\n    </tr>\n    <tr>\n      <th>2</th>\n      <td>0.841916</td>\n      <td>-0.116523</td>\n      <td>-0.479087</td>\n      <td>-0.445</td>\n      <td>-0.493947</td>\n      <td>1.994288</td>\n      <td>-0.02765</td>\n      <td>0.743497</td>\n      <td>0.539377</td>\n      <td>-0.425920</td>\n      <td>3.105202</td>\n      <td>-0.039118</td>\n      <td>-1.521159</td>\n      <td>0.852592</td>\n      <td>-0.42592</td>\n      <td>-0.274947</td>\n      <td>0</td>\n    </tr>\n    <tr>\n      <th>3</th>\n      <td>0.841916</td>\n      <td>-0.891698</td>\n      <td>-0.479087</td>\n      <td>-0.445</td>\n      <td>-0.493141</td>\n      <td>-0.501432</td>\n      <td>-0.02765</td>\n      <td>-1.344995</td>\n      <td>0.539377</td>\n      <td>-0.425920</td>\n      <td>-0.322040</td>\n      <td>-0.039118</td>\n      <td>0.657394</td>\n      <td>-1.172894</td>\n      <td>-0.42592</td>\n      <td>-0.274947</td>\n      <td>0</td>\n    </tr>\n    <tr>\n      <th>4</th>\n      <td>-0.352091</td>\n      <td>-0.039005</td>\n      <td>0.481288</td>\n      <td>-0.445</td>\n      <td>-0.237445</td>\n      <td>-0.501432</td>\n      <td>-0.02765</td>\n      <td>0.743497</td>\n      <td>0.539377</td>\n      <td>-0.425920</td>\n      <td>-0.322040</td>\n      <td>-0.039118</td>\n      <td>0.657394</td>\n      <td>0.852592</td>\n      <td>-0.42592</td>\n      <td>-0.274947</td>\n      <td>0</td>\n    </tr>\n  </tbody>\n</table>\n</div>"
          },
          "metadata": {}
        }
      ],
      "execution_count": 19,
      "metadata": {
        "gather": {
          "logged": 1612604617472
        }
      }
    },
    {
      "cell_type": "markdown",
      "source": [
        "## AutoML Configuration\n",
        "\n",
        "TODO: Explain why you chose the automl settings and cofiguration you used below."
      ],
      "metadata": {}
    },
    {
      "cell_type": "code",
      "source": [
        "#Create the automl settings which will be used as argurments in the automl config\n",
        "automl_settings = {\n",
        "    \"experiment_timeout_minutes\": 20,\n",
        "    \"max_concurrent_iterations\": 5,\n",
        "    \"primary_metric\" : 'accuracy'\n",
        "}\n",
        "\n",
        "#Create the automl_config\n",
        "automl_config = AutoMLConfig(compute_target=compute_target,\n",
        "                             task = \"classification\",\n",
        "                             training_data=training_dataset,\n",
        "                             label_column_name=\"survived\",   \n",
        "                             path = project_folder,\n",
        "                             enable_early_stopping= True,\n",
        "                             featurization= 'auto',\n",
        "                             debug_log = \"automl_errors.log\",\n",
        "                             **automl_settings\n",
        "                            )"
      ],
      "outputs": [],
      "execution_count": 20,
      "metadata": {
        "gather": {
          "logged": 1612604629970
        }
      }
    },
    {
      "cell_type": "code",
      "source": [
        "#New one\n",
        "#Original code\n",
        "# TODO: Submit your experiment\n",
        "#remote_run = experiment.submit(automl_config)\n",
        "automl_run = experiment.submit(automl_config,show_output=True)"
      ],
      "outputs": [
        {
          "output_type": "stream",
          "name": "stdout",
          "text": [
            "Running on remote.\n",
            "No run_configuration provided, running on auto-ml with default configuration\n",
            "Running on remote compute: auto-ml\n",
            "Parent Run ID: AutoML_6a7cdab9-3d16-4453-bf9a-f612a6904d93\n",
            "\n",
            "Current status: FeaturesGeneration. Generating features for the dataset.\n",
            "Current status: ModelSelection. Beginning model selection.\n",
            "\n",
            "****************************************************************************************************\n",
            "DATA GUARDRAILS: \n",
            "\n",
            "TYPE:         Cross validation\n",
            "STATUS:       DONE\n",
            "DESCRIPTION:  Each iteration of the trained model was validated through cross-validation.\n",
            "              \n",
            "DETAILS:      \n",
            "+---------------------------------+\n",
            "|Number of folds                  |\n",
            "+=================================+\n",
            "|3                                |\n",
            "+---------------------------------+\n",
            "\n",
            "****************************************************************************************************\n",
            "\n",
            "TYPE:         Class balancing detection\n",
            "STATUS:       PASSED\n",
            "DESCRIPTION:  Your inputs were analyzed, and all classes are balanced in your training data.\n",
            "              Learn more about imbalanced data: https://aka.ms/AutomatedMLImbalancedData\n",
            "\n",
            "****************************************************************************************************\n",
            "\n",
            "TYPE:         Missing feature values imputation\n",
            "STATUS:       PASSED\n",
            "DESCRIPTION:  No feature missing values were detected in the training data.\n",
            "              Learn more about missing value imputation: https://aka.ms/AutomatedMLFeaturization\n",
            "\n",
            "****************************************************************************************************\n",
            "\n",
            "TYPE:         High cardinality feature detection\n",
            "STATUS:       PASSED\n",
            "DESCRIPTION:  Your inputs were analyzed, and no high cardinality features were detected.\n",
            "              Learn more about high cardinality feature handling: https://aka.ms/AutomatedMLFeaturization\n",
            "\n",
            "****************************************************************************************************\n",
            "\n",
            "****************************************************************************************************\n",
            "ITERATION: The iteration being evaluated.\n",
            "PIPELINE: A summary description of the pipeline being evaluated.\n",
            "DURATION: Time taken for the current iteration.\n",
            "METRIC: The result of computing score on the fitted pipeline.\n",
            "BEST: The best observed score thus far.\n",
            "****************************************************************************************************\n",
            "\n",
            " ITERATION   PIPELINE                                       DURATION      METRIC      BEST\n",
            "         2   MinMaxScaler RandomForest                      0:00:51       0.7994    0.7994\n",
            "         0   MaxAbsScaler LightGBM                          0:00:54       0.7880    0.7994\n",
            "         1   MaxAbsScaler XGBoostClassifier                 0:00:55       0.8080    0.8080\n",
            "         3   MinMaxScaler RandomForest                      0:01:01       0.7956    0.8080\n",
            "         4   MinMaxScaler RandomForest                      0:00:53       0.7985    0.8080\n",
            "         5   SparseNormalizer XGBoostClassifier             0:00:58       0.8013    0.8080\n",
            "         6   MinMaxScaler SVM                               0:00:54       0.7985    0.8080\n",
            "         7   SparseNormalizer XGBoostClassifier             0:00:56       0.7851    0.8080\n",
            "         8   RobustScaler SVM                               0:00:53       0.6781    0.8080\n",
            "         9   SparseNormalizer XGBoostClassifier             0:00:54       0.7861    0.8080\n",
            "        10   SparseNormalizer XGBoostClassifier             0:00:53       0.8042    0.8080\n",
            "        14   StandardScalerWrapper LightGBM                 0:00:49       0.7975    0.8080\n",
            "        11   StandardScalerWrapper RandomForest             0:00:58       0.7947    0.8080\n",
            "        12   MaxAbsScaler LightGBM                          0:00:55       0.7889    0.8080\n",
            "        13   StandardScalerWrapper XGBoostClassifier        0:00:56       0.7889    0.8080\n",
            "        15   StandardScalerWrapper LightGBM                 0:00:50       0.8004    0.8080\n",
            "        18   StandardScalerWrapper LightGBM                 0:00:50       0.7899    0.8080\n",
            "        16   SparseNormalizer XGBoostClassifier             0:00:57       0.7956    0.8080\n",
            "        17   StandardScalerWrapper LightGBM                 0:00:49       0.7908    0.8080\n",
            "        19   MinMaxScaler LightGBM                          0:00:49       0.7841    0.8080\n",
            "        20   MaxAbsScaler RandomForest                      0:00:59       0.7975    0.8080\n",
            "        21   StandardScalerWrapper ExtremeRandomTrees       0:00:53       0.7899    0.8080\n",
            "        22   StandardScalerWrapper LightGBM                 0:00:55       0.8157    0.8157\n",
            "        23   MaxAbsScaler LightGBM                          0:00:53       0.7622    0.8157\n",
            "        24   SparseNormalizer XGBoostClassifier             0:01:01       0.7841    0.8157\n",
            "        25   TruncatedSVDWrapper XGBoostClassifier          0:00:56       0.6180    0.8157\n",
            "        26   SparseNormalizer ExtremeRandomTrees            0:00:56       0.7698    0.8157\n",
            "        27   StandardScalerWrapper ExtremeRandomTrees       0:00:55       0.7584    0.8157\n",
            "        28   MaxAbsScaler ExtremeRandomTrees                0:01:02       0.7631    0.8157\n",
            "        29   RobustScaler KNN                               0:00:51       0.7870    0.8157\n",
            "        30   SparseNormalizer LightGBM                      0:00:53       0.7937    0.8157\n",
            "        31   StandardScalerWrapper LogisticRegression       0:00:53       0.7994    0.8157\n",
            "        32   StandardScalerWrapper XGBoostClassifier        0:00:51       0.8071    0.8157\n",
            "        33   MinMaxScaler RandomForest                      0:00:49       0.8032    0.8157\n",
            "        34   StandardScalerWrapper XGBoostClassifier        0:00:53       0.7994    0.8157\n",
            "        35   SparseNormalizer LightGBM                      0:00:48       0.7832    0.8157\n",
            "        37   MaxAbsScaler LightGBM                          0:00:47       0.7899    0.8157\n",
            "        36   StandardScalerWrapper LightGBM                 0:00:55       0.8052    0.8157\n",
            "        38   MaxAbsScaler LightGBM                          0:00:55       0.8138    0.8157\n",
            "        39   MaxAbsScaler LightGBM                          0:00:53       0.8013    0.8157\n",
            "        40                                                  0:00:04          nan    0.8157\n",
            "ERROR: {\n",
            "    \"additional_properties\": {},\n",
            "    \"error\": {\n",
            "        \"additional_properties\": {\n",
            "            \"debugInfo\": null\n",
            "        },\n",
            "        \"code\": \"UserError\",\n",
            "        \"severity\": null,\n",
            "        \"message\": \"AzureMLCompute job AutoML_6a7cdab9-3d16-4453-bf9a-f612a6904d93_40 does not exist.\",\n",
            "        \"message_format\": \"{Component} job {RunId} does not exist.\",\n",
            "        \"message_parameters\": {\n",
            "            \"Component\": \"AzureMLCompute\",\n",
            "            \"RunId\": \"AutoML_6a7cdab9-3d16-4453-bf9a-f612a6904d93_40\"\n",
            "        },\n",
            "        \"reference_code\": null,\n",
            "        \"details_uri\": null,\n",
            "        \"target\": \"CancelUnderlyingJob\",\n",
            "        \"details\": [],\n",
            "        \"inner_error\": {\n",
            "            \"additional_properties\": {},\n",
            "            \"code\": \"BadArgument\",\n",
            "            \"inner_error\": {\n",
            "                \"additional_properties\": {},\n",
            "                \"code\": \"JobNotFound\",\n",
            "                \"inner_error\": null\n",
            "            }\n",
            "        }\n",
            "    },\n",
            "    \"correlation\": {\n",
            "        \"operation\": null,\n",
            "        \"request\": \"b2e390f560d3055e\"\n",
            "    },\n",
            "    \"environment\": \"southcentralus\",\n",
            "    \"location\": \"southcentralus\",\n",
            "    \"time\": {},\n",
            "    \"component_name\": \"execution-worker\"\n",
            "}\n",
            "        41    VotingEnsemble                                0:01:23       0.8300    0.8300\n",
            "        42    StackEnsemble                                 0:01:23       0.8157    0.8300\n"
          ]
        }
      ],
      "execution_count": 21,
      "metadata": {
        "gather": {
          "logged": 1612605592627
        },
        "jupyter": {
          "outputs_hidden": false,
          "source_hidden": false
        },
        "nteract": {
          "transient": {
            "deleting": false
          }
        }
      }
    },
    {
      "cell_type": "code",
      "source": [
        "#Additional Run Details\r\n",
        "from azureml.widgets import RunDetails\r\n",
        "\r\n",
        "RunDetails(automl_run).show()"
      ],
      "outputs": [
        {
          "output_type": "display_data",
          "data": {
            "text/plain": "_AutoMLWidget(widget_settings={'childWidgetDisplay': 'popup', 'send_telemetry': False, 'log_level': 'INFO', 's…",
            "application/vnd.jupyter.widget-view+json": {
              "version_major": 2,
              "version_minor": 0,
              "model_id": "5d71c7d1117a4bac81b76fa2e107d52c"
            }
          },
          "metadata": {}
        },
        {
          "output_type": "display_data",
          "data": {
            "application/aml.mini.widget.v1": "{\"status\": \"Completed\", \"workbench_run_details_uri\": \"https://ml.azure.com/experiments/automl-experiment-1/runs/AutoML_6a7cdab9-3d16-4453-bf9a-f612a6904d93?wsid=/subscriptions/510b94ba-e453-4417-988b-fbdc37b55ca7/resourcegroups/aml-quickstarts-137436/workspaces/quick-starts-ws-137436\", \"run_id\": \"AutoML_6a7cdab9-3d16-4453-bf9a-f612a6904d93\", \"run_properties\": {\"run_id\": \"AutoML_6a7cdab9-3d16-4453-bf9a-f612a6904d93\", \"created_utc\": \"2021-02-06T09:43:59.635173Z\", \"properties\": {\"num_iterations\": \"1000\", \"training_type\": \"TrainFull\", \"acquisition_function\": \"EI\", \"primary_metric\": \"accuracy\", \"train_split\": \"0\", \"acquisition_parameter\": \"0\", \"num_cross_validation\": null, \"target\": \"auto-ml\", \"AMLSettingsJsonString\": \"{\\\"path\\\":null,\\\"name\\\":\\\"automl-experiment-1\\\",\\\"subscription_id\\\":\\\"510b94ba-e453-4417-988b-fbdc37b55ca7\\\",\\\"resource_group\\\":\\\"aml-quickstarts-137436\\\",\\\"workspace_name\\\":\\\"quick-starts-ws-137436\\\",\\\"region\\\":\\\"southcentralus\\\",\\\"compute_target\\\":\\\"auto-ml\\\",\\\"spark_service\\\":null,\\\"azure_service\\\":\\\"remote\\\",\\\"many_models\\\":false,\\\"pipeline_fetch_max_batch_size\\\":1,\\\"iterations\\\":1000,\\\"primary_metric\\\":\\\"accuracy\\\",\\\"task_type\\\":\\\"classification\\\",\\\"data_script\\\":null,\\\"validation_size\\\":0.0,\\\"n_cross_validations\\\":null,\\\"y_min\\\":null,\\\"y_max\\\":null,\\\"num_classes\\\":null,\\\"featurization\\\":\\\"auto\\\",\\\"_ignore_package_version_incompatibilities\\\":false,\\\"is_timeseries\\\":false,\\\"max_cores_per_iteration\\\":1,\\\"max_concurrent_iterations\\\":5,\\\"iteration_timeout_minutes\\\":null,\\\"mem_in_mb\\\":null,\\\"enforce_time_on_windows\\\":false,\\\"experiment_timeout_minutes\\\":20,\\\"experiment_exit_score\\\":null,\\\"whitelist_models\\\":null,\\\"blacklist_algos\\\":[\\\"TensorFlowLinearClassifier\\\",\\\"TensorFlowDNN\\\"],\\\"supported_models\\\":[\\\"DecisionTree\\\",\\\"XGBoostClassifier\\\",\\\"BernoulliNaiveBayes\\\",\\\"TensorFlowLinearClassifier\\\",\\\"LogisticRegression\\\",\\\"GradientBoosting\\\",\\\"RandomForest\\\",\\\"SGD\\\",\\\"LightGBM\\\",\\\"KNN\\\",\\\"TensorFlowDNN\\\",\\\"AveragedPerceptronClassifier\\\",\\\"ExtremeRandomTrees\\\",\\\"MultinomialNaiveBayes\\\",\\\"LinearSVM\\\",\\\"SVM\\\"],\\\"auto_blacklist\\\":true,\\\"blacklist_samples_reached\\\":false,\\\"exclude_nan_labels\\\":true,\\\"verbosity\\\":20,\\\"_debug_log\\\":\\\"azureml_automl.log\\\",\\\"show_warnings\\\":false,\\\"model_explainability\\\":true,\\\"service_url\\\":null,\\\"sdk_url\\\":null,\\\"sdk_packages\\\":null,\\\"enable_onnx_compatible_models\\\":false,\\\"enable_split_onnx_featurizer_estimator_models\\\":false,\\\"vm_type\\\":\\\"STANDARD_DS12_V2\\\",\\\"telemetry_verbosity\\\":20,\\\"send_telemetry\\\":true,\\\"enable_dnn\\\":false,\\\"scenario\\\":\\\"SDK-1.13.0\\\",\\\"environment_label\\\":null,\\\"force_text_dnn\\\":false,\\\"enable_feature_sweeping\\\":true,\\\"enable_early_stopping\\\":true,\\\"early_stopping_n_iters\\\":10,\\\"metrics\\\":null,\\\"enable_ensembling\\\":true,\\\"enable_stack_ensembling\\\":true,\\\"ensemble_iterations\\\":15,\\\"enable_tf\\\":false,\\\"enable_subsampling\\\":null,\\\"subsample_seed\\\":null,\\\"enable_nimbusml\\\":false,\\\"enable_streaming\\\":false,\\\"force_streaming\\\":false,\\\"track_child_runs\\\":true,\\\"allowed_private_models\\\":[],\\\"label_column_name\\\":\\\"survived\\\",\\\"weight_column_name\\\":null,\\\"cv_split_column_names\\\":null,\\\"enable_local_managed\\\":false,\\\"_local_managed_run_id\\\":null,\\\"cost_mode\\\":1,\\\"lag_length\\\":0,\\\"metric_operation\\\":\\\"maximize\\\",\\\"preprocess\\\":true}\", \"DataPrepJsonString\": \"{\\\\\\\"training_data\\\\\\\": \\\\\\\"{\\\\\\\\\\\\\\\"blocks\\\\\\\\\\\\\\\": [{\\\\\\\\\\\\\\\"id\\\\\\\\\\\\\\\": \\\\\\\\\\\\\\\"034547f1-70d4-44ef-ab92-d246abb02274\\\\\\\\\\\\\\\", \\\\\\\\\\\\\\\"type\\\\\\\\\\\\\\\": \\\\\\\\\\\\\\\"Microsoft.DPrep.GetDatastoreFilesBlock\\\\\\\\\\\\\\\", \\\\\\\\\\\\\\\"arguments\\\\\\\\\\\\\\\": {\\\\\\\\\\\\\\\"datastores\\\\\\\\\\\\\\\": [{\\\\\\\\\\\\\\\"datastoreName\\\\\\\\\\\\\\\": \\\\\\\\\\\\\\\"workspaceblobstore\\\\\\\\\\\\\\\", \\\\\\\\\\\\\\\"path\\\\\\\\\\\\\\\": \\\\\\\\\\\\\\\"data/prepared.csv\\\\\\\\\\\\\\\", \\\\\\\\\\\\\\\"resourceGroup\\\\\\\\\\\\\\\": \\\\\\\\\\\\\\\"aml-quickstarts-137436\\\\\\\\\\\\\\\", \\\\\\\\\\\\\\\"subscription\\\\\\\\\\\\\\\": \\\\\\\\\\\\\\\"510b94ba-e453-4417-988b-fbdc37b55ca7\\\\\\\\\\\\\\\", \\\\\\\\\\\\\\\"workspaceName\\\\\\\\\\\\\\\": \\\\\\\\\\\\\\\"quick-starts-ws-137436\\\\\\\\\\\\\\\"}]}, \\\\\\\\\\\\\\\"localData\\\\\\\\\\\\\\\": {}, \\\\\\\\\\\\\\\"isEnabled\\\\\\\\\\\\\\\": true, \\\\\\\\\\\\\\\"name\\\\\\\\\\\\\\\": null, \\\\\\\\\\\\\\\"annotation\\\\\\\\\\\\\\\": null}, {\\\\\\\\\\\\\\\"id\\\\\\\\\\\\\\\": \\\\\\\\\\\\\\\"2fc5ba23-4bdc-4966-b3f1-03de24e8270e\\\\\\\\\\\\\\\", \\\\\\\\\\\\\\\"type\\\\\\\\\\\\\\\": \\\\\\\\\\\\\\\"Microsoft.DPrep.ParseDelimitedBlock\\\\\\\\\\\\\\\", \\\\\\\\\\\\\\\"arguments\\\\\\\\\\\\\\\": {\\\\\\\\\\\\\\\"columnHeadersMode\\\\\\\\\\\\\\\": 3, \\\\\\\\\\\\\\\"fileEncoding\\\\\\\\\\\\\\\": 0, \\\\\\\\\\\\\\\"handleQuotedLineBreaks\\\\\\\\\\\\\\\": false, \\\\\\\\\\\\\\\"preview\\\\\\\\\\\\\\\": false, \\\\\\\\\\\\\\\"separator\\\\\\\\\\\\\\\": \\\\\\\\\\\\\\\",\\\\\\\\\\\\\\\", \\\\\\\\\\\\\\\"skipRows\\\\\\\\\\\\\\\": 0, \\\\\\\\\\\\\\\"skipRowsMode\\\\\\\\\\\\\\\": 0}, \\\\\\\\\\\\\\\"localData\\\\\\\\\\\\\\\": {}, \\\\\\\\\\\\\\\"isEnabled\\\\\\\\\\\\\\\": true, \\\\\\\\\\\\\\\"name\\\\\\\\\\\\\\\": null, \\\\\\\\\\\\\\\"annotation\\\\\\\\\\\\\\\": null}, {\\\\\\\\\\\\\\\"id\\\\\\\\\\\\\\\": \\\\\\\\\\\\\\\"bf8c4974-be09-4b94-9f79-7e724eb1b0bf\\\\\\\\\\\\\\\", \\\\\\\\\\\\\\\"type\\\\\\\\\\\\\\\": \\\\\\\\\\\\\\\"Microsoft.DPrep.DropColumnsBlock\\\\\\\\\\\\\\\", \\\\\\\\\\\\\\\"arguments\\\\\\\\\\\\\\\": {\\\\\\\\\\\\\\\"columns\\\\\\\\\\\\\\\": {\\\\\\\\\\\\\\\"type\\\\\\\\\\\\\\\": 0, \\\\\\\\\\\\\\\"details\\\\\\\\\\\\\\\": {\\\\\\\\\\\\\\\"selectedColumns\\\\\\\\\\\\\\\": [\\\\\\\\\\\\\\\"Path\\\\\\\\\\\\\\\"]}}}, \\\\\\\\\\\\\\\"localData\\\\\\\\\\\\\\\": {}, \\\\\\\\\\\\\\\"isEnabled\\\\\\\\\\\\\\\": true, \\\\\\\\\\\\\\\"name\\\\\\\\\\\\\\\": null, \\\\\\\\\\\\\\\"annotation\\\\\\\\\\\\\\\": null}, {\\\\\\\\\\\\\\\"id\\\\\\\\\\\\\\\": \\\\\\\\\\\\\\\"6b714b1e-5ef2-4b45-8a56-3fd04e358f69\\\\\\\\\\\\\\\", \\\\\\\\\\\\\\\"type\\\\\\\\\\\\\\\": \\\\\\\\\\\\\\\"Microsoft.DPrep.SetColumnTypesBlock\\\\\\\\\\\\\\\", \\\\\\\\\\\\\\\"arguments\\\\\\\\\\\\\\\": {\\\\\\\\\\\\\\\"columnConversion\\\\\\\\\\\\\\\": [{\\\\\\\\\\\\\\\"column\\\\\\\\\\\\\\\": {\\\\\\\\\\\\\\\"type\\\\\\\\\\\\\\\": 2, \\\\\\\\\\\\\\\"details\\\\\\\\\\\\\\\": {\\\\\\\\\\\\\\\"selectedColumn\\\\\\\\\\\\\\\": \\\\\\\\\\\\\\\"pclass\\\\\\\\\\\\\\\"}}, \\\\\\\\\\\\\\\"typeProperty\\\\\\\\\\\\\\\": 3}, {\\\\\\\\\\\\\\\"column\\\\\\\\\\\\\\\": {\\\\\\\\\\\\\\\"type\\\\\\\\\\\\\\\": 2, \\\\\\\\\\\\\\\"details\\\\\\\\\\\\\\\": {\\\\\\\\\\\\\\\"selectedColumn\\\\\\\\\\\\\\\": \\\\\\\\\\\\\\\"age\\\\\\\\\\\\\\\"}}, \\\\\\\\\\\\\\\"typeProperty\\\\\\\\\\\\\\\": 3}, {\\\\\\\\\\\\\\\"column\\\\\\\\\\\\\\\": {\\\\\\\\\\\\\\\"type\\\\\\\\\\\\\\\": 2, \\\\\\\\\\\\\\\"details\\\\\\\\\\\\\\\": {\\\\\\\\\\\\\\\"selectedColumn\\\\\\\\\\\\\\\": \\\\\\\\\\\\\\\"sibsp\\\\\\\\\\\\\\\"}}, \\\\\\\\\\\\\\\"typeProperty\\\\\\\\\\\\\\\": 3}, {\\\\\\\\\\\\\\\"column\\\\\\\\\\\\\\\": {\\\\\\\\\\\\\\\"type\\\\\\\\\\\\\\\": 2, \\\\\\\\\\\\\\\"details\\\\\\\\\\\\\\\": {\\\\\\\\\\\\\\\"selectedColumn\\\\\\\\\\\\\\\": \\\\\\\\\\\\\\\"parch\\\\\\\\\\\\\\\"}}, \\\\\\\\\\\\\\\"typeProperty\\\\\\\\\\\\\\\": 3}, {\\\\\\\\\\\\\\\"column\\\\\\\\\\\\\\\": {\\\\\\\\\\\\\\\"type\\\\\\\\\\\\\\\": 2, \\\\\\\\\\\\\\\"details\\\\\\\\\\\\\\\": {\\\\\\\\\\\\\\\"selectedColumn\\\\\\\\\\\\\\\": \\\\\\\\\\\\\\\"fare\\\\\\\\\\\\\\\"}}, \\\\\\\\\\\\\\\"typeProperty\\\\\\\\\\\\\\\": 3}, {\\\\\\\\\\\\\\\"column\\\\\\\\\\\\\\\": {\\\\\\\\\\\\\\\"type\\\\\\\\\\\\\\\": 2, \\\\\\\\\\\\\\\"details\\\\\\\\\\\\\\\": {\\\\\\\\\\\\\\\"selectedColumn\\\\\\\\\\\\\\\": \\\\\\\\\\\\\\\"age_NA\\\\\\\\\\\\\\\"}}, \\\\\\\\\\\\\\\"typeProperty\\\\\\\\\\\\\\\": 3}, {\\\\\\\\\\\\\\\"column\\\\\\\\\\\\\\\": {\\\\\\\\\\\\\\\"type\\\\\\\\\\\\\\\": 2, \\\\\\\\\\\\\\\"details\\\\\\\\\\\\\\\": {\\\\\\\\\\\\\\\"selectedColumn\\\\\\\\\\\\\\\": \\\\\\\\\\\\\\\"fare_NA\\\\\\\\\\\\\\\"}}, \\\\\\\\\\\\\\\"typeProperty\\\\\\\\\\\\\\\": 3}, {\\\\\\\\\\\\\\\"column\\\\\\\\\\\\\\\": {\\\\\\\\\\\\\\\"type\\\\\\\\\\\\\\\": 2, \\\\\\\\\\\\\\\"details\\\\\\\\\\\\\\\": {\\\\\\\\\\\\\\\"selectedColumn\\\\\\\\\\\\\\\": \\\\\\\\\\\\\\\"sex_male\\\\\\\\\\\\\\\"}}, \\\\\\\\\\\\\\\"typeProperty\\\\\\\\\\\\\\\": 3}, {\\\\\\\\\\\\\\\"column\\\\\\\\\\\\\\\": {\\\\\\\\\\\\\\\"type\\\\\\\\\\\\\\\": 2, \\\\\\\\\\\\\\\"details\\\\\\\\\\\\\\\": {\\\\\\\\\\\\\\\"selectedColumn\\\\\\\\\\\\\\\": \\\\\\\\\\\\\\\"cabin_Missing\\\\\\\\\\\\\\\"}}, \\\\\\\\\\\\\\\"typeProperty\\\\\\\\\\\\\\\": 3}, {\\\\\\\\\\\\\\\"column\\\\\\\\\\\\\\\": {\\\\\\\\\\\\\\\"type\\\\\\\\\\\\\\\": 2, \\\\\\\\\\\\\\\"details\\\\\\\\\\\\\\\": {\\\\\\\\\\\\\\\"selectedColumn\\\\\\\\\\\\\\\": \\\\\\\\\\\\\\\"cabin_Rare\\\\\\\\\\\\\\\"}}, \\\\\\\\\\\\\\\"typeProperty\\\\\\\\\\\\\\\": 3}, {\\\\\\\\\\\\\\\"column\\\\\\\\\\\\\\\": {\\\\\\\\\\\\\\\"type\\\\\\\\\\\\\\\": 2, \\\\\\\\\\\\\\\"details\\\\\\\\\\\\\\\": {\\\\\\\\\\\\\\\"selectedColumn\\\\\\\\\\\\\\\": \\\\\\\\\\\\\\\"embarked_Q\\\\\\\\\\\\\\\"}}, \\\\\\\\\\\\\\\"typeProperty\\\\\\\\\\\\\\\": 3}, {\\\\\\\\\\\\\\\"column\\\\\\\\\\\\\\\": {\\\\\\\\\\\\\\\"type\\\\\\\\\\\\\\\": 2, \\\\\\\\\\\\\\\"details\\\\\\\\\\\\\\\": {\\\\\\\\\\\\\\\"selectedColumn\\\\\\\\\\\\\\\": \\\\\\\\\\\\\\\"embarked_Rare\\\\\\\\\\\\\\\"}}, \\\\\\\\\\\\\\\"typeProperty\\\\\\\\\\\\\\\": 3}, {\\\\\\\\\\\\\\\"column\\\\\\\\\\\\\\\": {\\\\\\\\\\\\\\\"type\\\\\\\\\\\\\\\": 2, \\\\\\\\\\\\\\\"details\\\\\\\\\\\\\\\": {\\\\\\\\\\\\\\\"selectedColumn\\\\\\\\\\\\\\\": \\\\\\\\\\\\\\\"embarked_S\\\\\\\\\\\\\\\"}}, \\\\\\\\\\\\\\\"typeProperty\\\\\\\\\\\\\\\": 3}, {\\\\\\\\\\\\\\\"column\\\\\\\\\\\\\\\": {\\\\\\\\\\\\\\\"type\\\\\\\\\\\\\\\": 2, \\\\\\\\\\\\\\\"details\\\\\\\\\\\\\\\": {\\\\\\\\\\\\\\\"selectedColumn\\\\\\\\\\\\\\\": \\\\\\\\\\\\\\\"title_Mr\\\\\\\\\\\\\\\"}}, \\\\\\\\\\\\\\\"typeProperty\\\\\\\\\\\\\\\": 3}, {\\\\\\\\\\\\\\\"column\\\\\\\\\\\\\\\": {\\\\\\\\\\\\\\\"type\\\\\\\\\\\\\\\": 2, \\\\\\\\\\\\\\\"details\\\\\\\\\\\\\\\": {\\\\\\\\\\\\\\\"selectedColumn\\\\\\\\\\\\\\\": \\\\\\\\\\\\\\\"title_Mrs\\\\\\\\\\\\\\\"}}, \\\\\\\\\\\\\\\"typeProperty\\\\\\\\\\\\\\\": 3}, {\\\\\\\\\\\\\\\"column\\\\\\\\\\\\\\\": {\\\\\\\\\\\\\\\"type\\\\\\\\\\\\\\\": 2, \\\\\\\\\\\\\\\"details\\\\\\\\\\\\\\\": {\\\\\\\\\\\\\\\"selectedColumn\\\\\\\\\\\\\\\": \\\\\\\\\\\\\\\"title_Rare\\\\\\\\\\\\\\\"}}, \\\\\\\\\\\\\\\"typeProperty\\\\\\\\\\\\\\\": 3}, {\\\\\\\\\\\\\\\"column\\\\\\\\\\\\\\\": {\\\\\\\\\\\\\\\"type\\\\\\\\\\\\\\\": 2, \\\\\\\\\\\\\\\"details\\\\\\\\\\\\\\\": {\\\\\\\\\\\\\\\"selectedColumn\\\\\\\\\\\\\\\": \\\\\\\\\\\\\\\"survived\\\\\\\\\\\\\\\"}}, \\\\\\\\\\\\\\\"typeProperty\\\\\\\\\\\\\\\": 2}]}, \\\\\\\\\\\\\\\"localData\\\\\\\\\\\\\\\": {}, \\\\\\\\\\\\\\\"isEnabled\\\\\\\\\\\\\\\": true, \\\\\\\\\\\\\\\"name\\\\\\\\\\\\\\\": null, \\\\\\\\\\\\\\\"annotation\\\\\\\\\\\\\\\": null}], \\\\\\\\\\\\\\\"inspectors\\\\\\\\\\\\\\\": [], \\\\\\\\\\\\\\\"meta\\\\\\\\\\\\\\\": {\\\\\\\\\\\\\\\"savedDatasetId\\\\\\\\\\\\\\\": \\\\\\\\\\\\\\\"73c06de4-7f19-45f5-a60c-2f2b10eb9d26\\\\\\\\\\\\\\\", \\\\\\\\\\\\\\\"datasetType\\\\\\\\\\\\\\\": \\\\\\\\\\\\\\\"tabular\\\\\\\\\\\\\\\", \\\\\\\\\\\\\\\"subscriptionId\\\\\\\\\\\\\\\": \\\\\\\\\\\\\\\"510b94ba-e453-4417-988b-fbdc37b55ca7\\\\\\\\\\\\\\\", \\\\\\\\\\\\\\\"workspaceId\\\\\\\\\\\\\\\": \\\\\\\\\\\\\\\"44b3c556-7377-4207-8637-2a60df600a39\\\\\\\\\\\\\\\", \\\\\\\\\\\\\\\"workspaceLocation\\\\\\\\\\\\\\\": \\\\\\\\\\\\\\\"southcentralus\\\\\\\\\\\\\\\"}}\\\\\\\", \\\\\\\"activities\\\\\\\": 0}\", \"EnableSubsampling\": null, \"runTemplate\": \"AutoML\", \"azureml.runsource\": \"automl\", \"display_task_type\": \"classification\", \"dependencies_versions\": \"{\\\"azureml-widgets\\\": \\\"1.20.0\\\", \\\"azureml-train\\\": \\\"1.20.0\\\", \\\"azureml-train-restclients-hyperdrive\\\": \\\"1.20.0\\\", \\\"azureml-train-core\\\": \\\"1.20.0\\\", \\\"azureml-train-automl\\\": \\\"1.20.0\\\", \\\"azureml-train-automl-runtime\\\": \\\"1.20.0\\\", \\\"azureml-train-automl-client\\\": \\\"1.20.0\\\", \\\"azureml-tensorboard\\\": \\\"1.20.0\\\", \\\"azureml-telemetry\\\": \\\"1.20.0\\\", \\\"azureml-sdk\\\": \\\"1.20.0\\\", \\\"azureml-samples\\\": \\\"0+unknown\\\", \\\"azureml-pipeline\\\": \\\"1.20.0\\\", \\\"azureml-pipeline-steps\\\": \\\"1.20.0\\\", \\\"azureml-pipeline-core\\\": \\\"1.20.0\\\", \\\"azureml-opendatasets\\\": \\\"1.20.0\\\", \\\"azureml-model-management-sdk\\\": \\\"1.0.1b6.post1\\\", \\\"azureml-mlflow\\\": \\\"1.20.0.post1\\\", \\\"azureml-interpret\\\": \\\"1.20.0\\\", \\\"azureml-explain-model\\\": \\\"1.20.0\\\", \\\"azureml-defaults\\\": \\\"1.20.0\\\", \\\"azureml-dataset-runtime\\\": \\\"1.20.0\\\", \\\"azureml-dataprep\\\": \\\"2.7.3\\\", \\\"azureml-dataprep-rslex\\\": \\\"1.5.0\\\", \\\"azureml-dataprep-native\\\": \\\"27.0.0\\\", \\\"azureml-datadrift\\\": \\\"1.20.0\\\", \\\"azureml-core\\\": \\\"1.20.0\\\", \\\"azureml-contrib-services\\\": \\\"1.20.0\\\", \\\"azureml-contrib-server\\\": \\\"1.20.0\\\", \\\"azureml-contrib-reinforcementlearning\\\": \\\"1.20.0\\\", \\\"azureml-contrib-pipeline-steps\\\": \\\"1.20.0\\\", \\\"azureml-contrib-notebook\\\": \\\"1.20.0\\\", \\\"azureml-contrib-interpret\\\": \\\"1.20.0\\\", \\\"azureml-contrib-gbdt\\\": \\\"1.20.0\\\", \\\"azureml-contrib-fairness\\\": \\\"1.20.0\\\", \\\"azureml-contrib-dataset\\\": \\\"1.20.0\\\", \\\"azureml-cli-common\\\": \\\"1.20.0\\\", \\\"azureml-automl-runtime\\\": \\\"1.20.0\\\", \\\"azureml-automl-core\\\": \\\"1.20.0\\\", \\\"azureml-accel-models\\\": \\\"1.20.0\\\"}\", \"_aml_system_scenario_identification\": \"Remote.Parent\", \"ClientType\": \"SDK\", \"environment_cpu_name\": \"AzureML-AutoML\", \"environment_cpu_label\": \"prod\", \"environment_gpu_name\": \"AzureML-AutoML-GPU\", \"environment_gpu_label\": \"prod\", \"root_attribution\": \"automl\", \"attribution\": \"AutoML\", \"Orchestrator\": \"AutoML\", \"CancelUri\": \"https://southcentralus.experiments.azureml.net/jasmine/v1.0/subscriptions/510b94ba-e453-4417-988b-fbdc37b55ca7/resourceGroups/aml-quickstarts-137436/providers/Microsoft.MachineLearningServices/workspaces/quick-starts-ws-137436/experimentids/83962033-efd9-40c0-ab54-5865105e90b9/cancel/AutoML_6a7cdab9-3d16-4453-bf9a-f612a6904d93\", \"ClientSdkVersion\": \"1.21.0\", \"snapshotId\": \"00000000-0000-0000-0000-000000000000\", \"SetupRunId\": \"AutoML_6a7cdab9-3d16-4453-bf9a-f612a6904d93_setup\", \"SetupRunContainerId\": \"dcid.AutoML_6a7cdab9-3d16-4453-bf9a-f612a6904d93_setup\", \"FeaturizationRunJsonPath\": \"featurizer_container.json\", \"FeaturizationRunId\": \"AutoML_6a7cdab9-3d16-4453-bf9a-f612a6904d93_featurize\", \"ProblemInfoJsonString\": \"{\\\"dataset_num_categorical\\\": 0, \\\"is_sparse\\\": false, \\\"subsampling\\\": false, \\\"dataset_classes\\\": 2, \\\"dataset_features\\\": 16, \\\"dataset_samples\\\": 1047, \\\"single_frequency_class_detected\\\": false}\", \"ModelExplainRunId\": \"AutoML_6a7cdab9-3d16-4453-bf9a-f612a6904d93_ModelExplain\"}, \"tags\": {\"model_explain_run\": \"best_run\", \"_aml_system_azureml.automlComponent\": \"AutoML\", \"pipeline_id\": \"\", \"score\": \"\", \"predicted_cost\": \"\", \"fit_time\": \"\", \"training_percent\": \"\", \"iteration\": \"\", \"run_preprocessor\": \"\", \"run_algorithm\": \"\", \"dynamic_whitelisting_iterations\": \"<25>;<30>;<35>;<40>;\", \"automl_best_child_run_id\": \"AutoML_6a7cdab9-3d16-4453-bf9a-f612a6904d93_41\", \"model_explain_best_run_child_id\": \"AutoML_6a7cdab9-3d16-4453-bf9a-f612a6904d93_41\"}, \"end_time_utc\": \"2021-02-06T09:59:39.693907Z\", \"status\": \"Completed\", \"log_files\": {}, \"log_groups\": [], \"run_duration\": \"0:15:40\"}, \"child_runs\": [{\"run_id\": \"AutoML_6a7cdab9-3d16-4453-bf9a-f612a6904d93_1\", \"run_number\": 5, \"metric\": null, \"status\": \"Completed\", \"run_type\": \"azureml.scriptrun\", \"training_percent\": \"100\", \"start_time\": \"2021-02-06T09:48:34.506926Z\", \"end_time\": \"2021-02-06T09:49:29.498871Z\", \"created_time\": \"2021-02-06T09:48:18.525667Z\", \"created_time_dt\": \"2021-02-06T09:48:18.525667Z\", \"duration\": \"0:01:10\", \"iteration\": \"1\", \"goal\": \"accuracy_max\", \"run_name\": \"MaxAbsScaler, XGBoostClassifier\", \"run_properties\": \"copy=True\", \"primary_metric\": 0.80802292, \"best_metric\": 0.80802292}, {\"run_id\": \"AutoML_6a7cdab9-3d16-4453-bf9a-f612a6904d93_4\", \"run_number\": 6, \"metric\": null, \"status\": \"Completed\", \"run_type\": \"azureml.scriptrun\", \"training_percent\": \"100\", \"start_time\": \"2021-02-06T09:48:33.079767Z\", \"end_time\": \"2021-02-06T09:49:26.526925Z\", \"created_time\": \"2021-02-06T09:48:18.536511Z\", \"created_time_dt\": \"2021-02-06T09:48:18.536511Z\", \"duration\": \"0:01:07\", \"iteration\": \"4\", \"goal\": \"accuracy_max\", \"run_name\": \"MinMaxScaler, RandomForest\", \"run_properties\": \"copy=True, feature_range=(0, 1\", \"primary_metric\": 0.79847182, \"best_metric\": 0.80802292}, {\"run_id\": \"AutoML_6a7cdab9-3d16-4453-bf9a-f612a6904d93_0\", \"run_number\": 7, \"metric\": null, \"status\": \"Completed\", \"run_type\": \"azureml.scriptrun\", \"training_percent\": \"100\", \"start_time\": \"2021-02-06T09:48:34.194453Z\", \"end_time\": \"2021-02-06T09:49:27.902943Z\", \"created_time\": \"2021-02-06T09:48:18.686384Z\", \"created_time_dt\": \"2021-02-06T09:48:18.686384Z\", \"duration\": \"0:01:09\", \"iteration\": \"0\", \"goal\": \"accuracy_max\", \"run_name\": \"MaxAbsScaler, LightGBM\", \"run_properties\": \"copy=True\", \"primary_metric\": 0.78796562, \"best_metric\": 0.78796562}, {\"run_id\": \"AutoML_6a7cdab9-3d16-4453-bf9a-f612a6904d93_3\", \"run_number\": 8, \"metric\": null, \"status\": \"Completed\", \"run_type\": \"azureml.scriptrun\", \"training_percent\": \"100\", \"start_time\": \"2021-02-06T09:48:34.635389Z\", \"end_time\": \"2021-02-06T09:49:35.933809Z\", \"created_time\": \"2021-02-06T09:48:18.529253Z\", \"created_time_dt\": \"2021-02-06T09:48:18.529253Z\", \"duration\": \"0:01:17\", \"iteration\": \"3\", \"goal\": \"accuracy_max\", \"run_name\": \"MinMaxScaler, RandomForest\", \"run_properties\": \"copy=True, feature_range=(0, 1\", \"primary_metric\": 0.79560649, \"best_metric\": 0.80802292}, {\"run_id\": \"AutoML_6a7cdab9-3d16-4453-bf9a-f612a6904d93_2\", \"run_number\": 9, \"metric\": null, \"status\": \"Completed\", \"run_type\": \"azureml.scriptrun\", \"training_percent\": \"100\", \"start_time\": \"2021-02-06T09:48:33.610192Z\", \"end_time\": \"2021-02-06T09:49:24.463458Z\", \"created_time\": \"2021-02-06T09:48:18.550531Z\", \"created_time_dt\": \"2021-02-06T09:48:18.550531Z\", \"duration\": \"0:01:05\", \"iteration\": \"2\", \"goal\": \"accuracy_max\", \"run_name\": \"MinMaxScaler, RandomForest\", \"run_properties\": \"copy=True, feature_range=(0, 1\", \"primary_metric\": 0.79942693, \"best_metric\": 0.80802292}, {\"run_id\": \"AutoML_6a7cdab9-3d16-4453-bf9a-f612a6904d93_5\", \"run_number\": 10, \"metric\": null, \"status\": \"Completed\", \"run_type\": \"azureml.scriptrun\", \"training_percent\": \"100\", \"start_time\": \"2021-02-06T09:49:43.624542Z\", \"end_time\": \"2021-02-06T09:50:41.241569Z\", \"created_time\": \"2021-02-06T09:49:29.190721Z\", \"created_time_dt\": \"2021-02-06T09:49:29.190721Z\", \"duration\": \"0:01:12\", \"iteration\": \"5\", \"goal\": \"accuracy_max\", \"run_name\": \"SparseNormalizer, XGBoostClassifier\", \"run_properties\": \"<azureml.automl.runtime.shared.model_wrappers.SparseNormalizer object at 0x7f76d8c87cc0\", \"primary_metric\": 0.80133715, \"best_metric\": 0.80802292}, {\"run_id\": \"AutoML_6a7cdab9-3d16-4453-bf9a-f612a6904d93_6\", \"run_number\": 11, \"metric\": null, \"status\": \"Completed\", \"run_type\": \"azureml.scriptrun\", \"training_percent\": \"100\", \"start_time\": \"2021-02-06T09:49:46.477389Z\", \"end_time\": \"2021-02-06T09:50:40.754013Z\", \"created_time\": \"2021-02-06T09:49:34.002324Z\", \"created_time_dt\": \"2021-02-06T09:49:34.002324Z\", \"duration\": \"0:01:06\", \"iteration\": \"6\", \"goal\": \"accuracy_max\", \"run_name\": \"MinMaxScaler, SVM\", \"run_properties\": \"copy=True, feature_range=(0, 1\", \"primary_metric\": 0.79847182, \"best_metric\": 0.80802292}, {\"run_id\": \"AutoML_6a7cdab9-3d16-4453-bf9a-f612a6904d93_7\", \"run_number\": 12, \"metric\": null, \"status\": \"Completed\", \"run_type\": \"azureml.scriptrun\", \"training_percent\": \"100\", \"start_time\": \"2021-02-06T09:49:44.686298Z\", \"end_time\": \"2021-02-06T09:50:40.947648Z\", \"created_time\": \"2021-02-06T09:49:34.051599Z\", \"created_time_dt\": \"2021-02-06T09:49:34.051599Z\", \"duration\": \"0:01:06\", \"iteration\": \"7\", \"goal\": \"accuracy_max\", \"run_name\": \"SparseNormalizer, XGBoostClassifier\", \"run_properties\": \"<azureml.automl.runtime.shared.model_wrappers.SparseNormalizer object at 0x7f38a4a62ba8\", \"primary_metric\": 0.78510029, \"best_metric\": 0.80802292}, {\"run_id\": \"AutoML_6a7cdab9-3d16-4453-bf9a-f612a6904d93_8\", \"run_number\": 13, \"metric\": null, \"status\": \"Completed\", \"run_type\": \"azureml.scriptrun\", \"training_percent\": \"100\", \"start_time\": \"2021-02-06T09:49:44.890191Z\", \"end_time\": \"2021-02-06T09:50:38.182723Z\", \"created_time\": \"2021-02-06T09:49:34.302255Z\", \"created_time_dt\": \"2021-02-06T09:49:34.302255Z\", \"duration\": \"0:01:03\", \"iteration\": \"8\", \"goal\": \"accuracy_max\", \"run_name\": \"RobustScaler, SVM\", \"run_properties\": \"copy=True, quantile_range=[10, 90], with_centering=True,\\n             with_scaling=True\", \"primary_metric\": 0.67812798, \"best_metric\": 0.80802292}, {\"run_id\": \"AutoML_6a7cdab9-3d16-4453-bf9a-f612a6904d93_9\", \"run_number\": 14, \"metric\": null, \"status\": \"Completed\", \"run_type\": \"azureml.scriptrun\", \"training_percent\": \"100\", \"start_time\": \"2021-02-06T09:49:51.008397Z\", \"end_time\": \"2021-02-06T09:50:44.899472Z\", \"created_time\": \"2021-02-06T09:49:39.330005Z\", \"created_time_dt\": \"2021-02-06T09:49:39.330005Z\", \"duration\": \"0:01:05\", \"iteration\": \"9\", \"goal\": \"accuracy_max\", \"run_name\": \"SparseNormalizer, XGBoostClassifier\", \"run_properties\": \"<azureml.automl.runtime.shared.model_wrappers.SparseNormalizer object at 0x7fce80781be0\", \"primary_metric\": 0.7860554, \"best_metric\": 0.80802292}, {\"run_id\": \"AutoML_6a7cdab9-3d16-4453-bf9a-f612a6904d93_10\", \"run_number\": 15, \"metric\": null, \"status\": \"Completed\", \"run_type\": \"azureml.scriptrun\", \"training_percent\": \"100\", \"start_time\": \"2021-02-06T09:50:55.985401Z\", \"end_time\": \"2021-02-06T09:51:49.039978Z\", \"created_time\": \"2021-02-06T09:50:40.007798Z\", \"created_time_dt\": \"2021-02-06T09:50:40.007798Z\", \"duration\": \"0:01:09\", \"iteration\": \"10\", \"goal\": \"accuracy_max\", \"run_name\": \"SparseNormalizer, XGBoostClassifier\", \"run_properties\": \"<azureml.automl.runtime.shared.model_wrappers.SparseNormalizer object at 0x7efbd6dc0b00\", \"primary_metric\": 0.80420248, \"best_metric\": 0.80802292}, {\"run_id\": \"AutoML_6a7cdab9-3d16-4453-bf9a-f612a6904d93_11\", \"run_number\": 16, \"metric\": null, \"status\": \"Completed\", \"run_type\": \"azureml.scriptrun\", \"training_percent\": \"100\", \"start_time\": \"2021-02-06T09:50:56.676702Z\", \"end_time\": \"2021-02-06T09:51:54.970901Z\", \"created_time\": \"2021-02-06T09:50:43.831148Z\", \"created_time_dt\": \"2021-02-06T09:50:43.831148Z\", \"duration\": \"0:01:11\", \"iteration\": \"11\", \"goal\": \"accuracy_max\", \"run_name\": \"StandardScalerWrapper, RandomForest\", \"run_properties\": \"<azureml.automl.runtime.shared.model_wrappers.StandardScalerWrapper object at 0x7f24ebbef668\", \"primary_metric\": 0.79465138, \"best_metric\": 0.80802292}, {\"run_id\": \"AutoML_6a7cdab9-3d16-4453-bf9a-f612a6904d93_12\", \"run_number\": 17, \"metric\": null, \"status\": \"Completed\", \"run_type\": \"azureml.scriptrun\", \"training_percent\": \"100\", \"start_time\": \"2021-02-06T09:50:57.933401Z\", \"end_time\": \"2021-02-06T09:51:53.245588Z\", \"created_time\": \"2021-02-06T09:50:43.865171Z\", \"created_time_dt\": \"2021-02-06T09:50:43.865171Z\", \"duration\": \"0:01:09\", \"iteration\": \"12\", \"goal\": \"accuracy_max\", \"run_name\": \"MaxAbsScaler, LightGBM\", \"run_properties\": \"copy=True\", \"primary_metric\": 0.78892073, \"best_metric\": 0.80802292}, {\"run_id\": \"AutoML_6a7cdab9-3d16-4453-bf9a-f612a6904d93_13\", \"run_number\": 18, \"metric\": null, \"status\": \"Completed\", \"run_type\": \"azureml.scriptrun\", \"training_percent\": \"100\", \"start_time\": \"2021-02-06T09:50:55.502775Z\", \"end_time\": \"2021-02-06T09:51:51.959921Z\", \"created_time\": \"2021-02-06T09:50:43.994165Z\", \"created_time_dt\": \"2021-02-06T09:50:43.994165Z\", \"duration\": \"0:01:07\", \"iteration\": \"13\", \"goal\": \"accuracy_max\", \"run_name\": \"StandardScalerWrapper, XGBoostClassifier\", \"run_properties\": \"<azureml.automl.runtime.shared.model_wrappers.StandardScalerWrapper object at 0x7f19b0a704a8\", \"primary_metric\": 0.78892073, \"best_metric\": 0.80802292}, {\"run_id\": \"AutoML_6a7cdab9-3d16-4453-bf9a-f612a6904d93_14\", \"run_number\": 19, \"metric\": null, \"status\": \"Completed\", \"run_type\": \"azureml.scriptrun\", \"training_percent\": \"100\", \"start_time\": \"2021-02-06T09:51:00.520445Z\", \"end_time\": \"2021-02-06T09:51:49.025207Z\", \"created_time\": \"2021-02-06T09:50:48.646129Z\", \"created_time_dt\": \"2021-02-06T09:50:48.646129Z\", \"duration\": \"0:01:00\", \"iteration\": \"14\", \"goal\": \"accuracy_max\", \"run_name\": \"StandardScalerWrapper, LightGBM\", \"run_properties\": \"<azureml.automl.runtime.shared.model_wrappers.StandardScalerWrapper object at 0x7f9d0eaca9b0\", \"primary_metric\": 0.79751671, \"best_metric\": 0.80802292}, {\"run_id\": \"AutoML_6a7cdab9-3d16-4453-bf9a-f612a6904d93_15\", \"run_number\": 20, \"metric\": null, \"status\": \"Completed\", \"run_type\": \"azureml.scriptrun\", \"training_percent\": \"100\", \"start_time\": \"2021-02-06T09:52:01.289235Z\", \"end_time\": \"2021-02-06T09:52:51.590632Z\", \"created_time\": \"2021-02-06T09:51:50.86223Z\", \"created_time_dt\": \"2021-02-06T09:51:50.86223Z\", \"duration\": \"0:01:00\", \"iteration\": \"15\", \"goal\": \"accuracy_max\", \"run_name\": \"StandardScalerWrapper, LightGBM\", \"run_properties\": \"<azureml.automl.runtime.shared.model_wrappers.StandardScalerWrapper object at 0x7f4b4d7054e0\", \"primary_metric\": 0.80038204, \"best_metric\": 0.80802292}, {\"run_id\": \"AutoML_6a7cdab9-3d16-4453-bf9a-f612a6904d93_16\", \"run_number\": 21, \"metric\": null, \"status\": \"Completed\", \"run_type\": \"azureml.scriptrun\", \"training_percent\": \"100\", \"start_time\": \"2021-02-06T09:52:01.841013Z\", \"end_time\": \"2021-02-06T09:52:58.58454Z\", \"created_time\": \"2021-02-06T09:51:50.90674Z\", \"created_time_dt\": \"2021-02-06T09:51:50.90674Z\", \"duration\": \"0:01:07\", \"iteration\": \"16\", \"goal\": \"accuracy_max\", \"run_name\": \"SparseNormalizer, XGBoostClassifier\", \"run_properties\": \"<azureml.automl.runtime.shared.model_wrappers.SparseNormalizer object at 0x7fa949c5ae10\", \"primary_metric\": 0.79560649, \"best_metric\": 0.80802292}, {\"run_id\": \"AutoML_6a7cdab9-3d16-4453-bf9a-f612a6904d93_17\", \"run_number\": 22, \"metric\": null, \"status\": \"Completed\", \"run_type\": \"azureml.scriptrun\", \"training_percent\": \"100\", \"start_time\": \"2021-02-06T09:52:07.260012Z\", \"end_time\": \"2021-02-06T09:52:56.266083Z\", \"created_time\": \"2021-02-06T09:51:54.740434Z\", \"created_time_dt\": \"2021-02-06T09:51:54.740434Z\", \"duration\": \"0:01:01\", \"iteration\": \"17\", \"goal\": \"accuracy_max\", \"run_name\": \"StandardScalerWrapper, LightGBM\", \"run_properties\": \"<azureml.automl.runtime.shared.model_wrappers.StandardScalerWrapper object at 0x7f320765db38\", \"primary_metric\": 0.79083095, \"best_metric\": 0.80802292}, {\"run_id\": \"AutoML_6a7cdab9-3d16-4453-bf9a-f612a6904d93_18\", \"run_number\": 23, \"metric\": null, \"status\": \"Completed\", \"run_type\": \"azureml.scriptrun\", \"training_percent\": \"100\", \"start_time\": \"2021-02-06T09:52:04.802622Z\", \"end_time\": \"2021-02-06T09:52:55.218597Z\", \"created_time\": \"2021-02-06T09:51:54.808351Z\", \"created_time_dt\": \"2021-02-06T09:51:54.808351Z\", \"duration\": \"0:01:00\", \"iteration\": \"18\", \"goal\": \"accuracy_max\", \"run_name\": \"StandardScalerWrapper, LightGBM\", \"run_properties\": \"<azureml.automl.runtime.shared.model_wrappers.StandardScalerWrapper object at 0x7f4ba279b438\", \"primary_metric\": 0.78987584, \"best_metric\": 0.80802292}, {\"run_id\": \"AutoML_6a7cdab9-3d16-4453-bf9a-f612a6904d93_19\", \"run_number\": 24, \"metric\": null, \"status\": \"Completed\", \"run_type\": \"azureml.scriptrun\", \"training_percent\": \"100\", \"start_time\": \"2021-02-06T09:52:12.422916Z\", \"end_time\": \"2021-02-06T09:53:01.675143Z\", \"created_time\": \"2021-02-06T09:51:58.83171Z\", \"created_time_dt\": \"2021-02-06T09:51:58.83171Z\", \"duration\": \"0:01:02\", \"iteration\": \"19\", \"goal\": \"accuracy_max\", \"run_name\": \"MinMaxScaler, LightGBM\", \"run_properties\": \"copy=True, feature_range=(0, 1\", \"primary_metric\": 0.78414518, \"best_metric\": 0.80802292}, {\"run_id\": \"AutoML_6a7cdab9-3d16-4453-bf9a-f612a6904d93_20\", \"run_number\": 25, \"metric\": null, \"status\": \"Completed\", \"run_type\": \"azureml.scriptrun\", \"training_percent\": \"100\", \"start_time\": \"2021-02-06T09:53:10.30849Z\", \"end_time\": \"2021-02-06T09:54:09.808412Z\", \"created_time\": \"2021-02-06T09:52:53.940886Z\", \"created_time_dt\": \"2021-02-06T09:52:53.940886Z\", \"duration\": \"0:01:15\", \"iteration\": \"20\", \"goal\": \"accuracy_max\", \"run_name\": \"MaxAbsScaler, RandomForest\", \"run_properties\": \"copy=True\", \"primary_metric\": 0.79751671, \"best_metric\": 0.80802292}, {\"run_id\": \"AutoML_6a7cdab9-3d16-4453-bf9a-f612a6904d93_21\", \"run_number\": 26, \"metric\": null, \"status\": \"Completed\", \"run_type\": \"azureml.scriptrun\", \"training_percent\": \"100\", \"start_time\": \"2021-02-06T09:53:12.545037Z\", \"end_time\": \"2021-02-06T09:54:05.538608Z\", \"created_time\": \"2021-02-06T09:52:57.507901Z\", \"created_time_dt\": \"2021-02-06T09:52:57.507901Z\", \"duration\": \"0:01:08\", \"iteration\": \"21\", \"goal\": \"accuracy_max\", \"run_name\": \"StandardScalerWrapper, ExtremeRandomTrees\", \"run_properties\": \"<azureml.automl.runtime.shared.model_wrappers.StandardScalerWrapper object at 0x7fd1d19e5080\", \"primary_metric\": 0.78987584, \"best_metric\": 0.80802292}, {\"run_id\": \"AutoML_6a7cdab9-3d16-4453-bf9a-f612a6904d93_22\", \"run_number\": 27, \"metric\": null, \"status\": \"Completed\", \"run_type\": \"azureml.scriptrun\", \"training_percent\": \"100\", \"start_time\": \"2021-02-06T09:53:12.157181Z\", \"end_time\": \"2021-02-06T09:54:07.514907Z\", \"created_time\": \"2021-02-06T09:53:01.623816Z\", \"created_time_dt\": \"2021-02-06T09:53:01.623816Z\", \"duration\": \"0:01:05\", \"iteration\": \"22\", \"goal\": \"accuracy_max\", \"run_name\": \"StandardScalerWrapper, LightGBM\", \"run_properties\": \"<azureml.automl.runtime.shared.model_wrappers.StandardScalerWrapper object at 0x7f5fd80fde80\", \"primary_metric\": 0.8156638, \"best_metric\": 0.8156638}, {\"run_id\": \"AutoML_6a7cdab9-3d16-4453-bf9a-f612a6904d93_23\", \"run_number\": 28, \"metric\": null, \"status\": \"Completed\", \"run_type\": \"azureml.scriptrun\", \"training_percent\": \"100\", \"start_time\": \"2021-02-06T09:53:15.736688Z\", \"end_time\": \"2021-02-06T09:54:09.06884Z\", \"created_time\": \"2021-02-06T09:53:01.626758Z\", \"created_time_dt\": \"2021-02-06T09:53:01.626758Z\", \"duration\": \"0:01:07\", \"iteration\": \"23\", \"goal\": \"accuracy_max\", \"run_name\": \"MaxAbsScaler, LightGBM\", \"run_properties\": \"copy=True\", \"primary_metric\": 0.76217765, \"best_metric\": 0.8156638}, {\"run_id\": \"AutoML_6a7cdab9-3d16-4453-bf9a-f612a6904d93_24\", \"run_number\": 29, \"metric\": null, \"status\": \"Completed\", \"run_type\": \"azureml.scriptrun\", \"training_percent\": \"100\", \"start_time\": \"2021-02-06T09:53:18.387544Z\", \"end_time\": \"2021-02-06T09:54:19.548829Z\", \"created_time\": \"2021-02-06T09:53:05.215174Z\", \"created_time_dt\": \"2021-02-06T09:53:05.215174Z\", \"duration\": \"0:01:14\", \"iteration\": \"24\", \"goal\": \"accuracy_max\", \"run_name\": \"SparseNormalizer, XGBoostClassifier\", \"run_properties\": \"<azureml.automl.runtime.shared.model_wrappers.SparseNormalizer object at 0x7f8ec3ead550\", \"primary_metric\": 0.78414518, \"best_metric\": 0.8156638}, {\"run_id\": \"AutoML_6a7cdab9-3d16-4453-bf9a-f612a6904d93_25\", \"run_number\": 30, \"metric\": null, \"status\": \"Completed\", \"run_type\": \"azureml.scriptrun\", \"training_percent\": \"100\", \"start_time\": \"2021-02-06T09:54:23.498839Z\", \"end_time\": \"2021-02-06T09:55:19.728932Z\", \"created_time\": \"2021-02-06T09:54:08.964652Z\", \"created_time_dt\": \"2021-02-06T09:54:08.964652Z\", \"duration\": \"0:01:10\", \"iteration\": \"25\", \"goal\": \"accuracy_max\", \"run_name\": \"TruncatedSVDWrapper, XGBoostClassifier\", \"run_properties\": \"n_components=0.2573684210526316, random_state=None\", \"primary_metric\": 0.61795606, \"best_metric\": 0.8156638}, {\"run_id\": \"AutoML_6a7cdab9-3d16-4453-bf9a-f612a6904d93_26\", \"run_number\": 31, \"metric\": null, \"status\": \"Completed\", \"run_type\": \"azureml.scriptrun\", \"training_percent\": \"100\", \"start_time\": \"2021-02-06T09:54:25.468029Z\", \"end_time\": \"2021-02-06T09:55:21.475777Z\", \"created_time\": \"2021-02-06T09:54:12.40918Z\", \"created_time_dt\": \"2021-02-06T09:54:12.40918Z\", \"duration\": \"0:01:09\", \"iteration\": \"26\", \"goal\": \"accuracy_max\", \"run_name\": \"SparseNormalizer, ExtremeRandomTrees\", \"run_properties\": \"<azureml.automl.runtime.shared.model_wrappers.SparseNormalizer object at 0x7faf848b6358\", \"primary_metric\": 0.76981853, \"best_metric\": 0.8156638}, {\"run_id\": \"AutoML_6a7cdab9-3d16-4453-bf9a-f612a6904d93_27\", \"run_number\": 32, \"metric\": null, \"status\": \"Completed\", \"run_type\": \"azureml.scriptrun\", \"training_percent\": \"100\", \"start_time\": \"2021-02-06T09:54:24.605613Z\", \"end_time\": \"2021-02-06T09:55:20.045092Z\", \"created_time\": \"2021-02-06T09:54:12.431239Z\", \"created_time_dt\": \"2021-02-06T09:54:12.431239Z\", \"duration\": \"0:01:07\", \"iteration\": \"27\", \"goal\": \"accuracy_max\", \"run_name\": \"StandardScalerWrapper, ExtremeRandomTrees\", \"run_properties\": \"<azureml.automl.runtime.shared.model_wrappers.StandardScalerWrapper object at 0x7f72a2c03e10\", \"primary_metric\": 0.75835721, \"best_metric\": 0.8156638}, {\"run_id\": \"AutoML_6a7cdab9-3d16-4453-bf9a-f612a6904d93_28\", \"run_number\": 33, \"metric\": null, \"status\": \"Completed\", \"run_type\": \"azureml.scriptrun\", \"training_percent\": \"100\", \"start_time\": \"2021-02-06T09:54:24.230011Z\", \"end_time\": \"2021-02-06T09:55:25.916593Z\", \"created_time\": \"2021-02-06T09:54:12.860362Z\", \"created_time_dt\": \"2021-02-06T09:54:12.860362Z\", \"duration\": \"0:01:13\", \"iteration\": \"28\", \"goal\": \"accuracy_max\", \"run_name\": \"MaxAbsScaler, ExtremeRandomTrees\", \"run_properties\": \"copy=True\", \"primary_metric\": 0.76313276, \"best_metric\": 0.8156638}, {\"run_id\": \"AutoML_6a7cdab9-3d16-4453-bf9a-f612a6904d93_29\", \"run_number\": 34, \"metric\": null, \"status\": \"Completed\", \"run_type\": \"azureml.scriptrun\", \"training_percent\": \"100\", \"start_time\": \"2021-02-06T09:54:33.564418Z\", \"end_time\": \"2021-02-06T09:55:24.537464Z\", \"created_time\": \"2021-02-06T09:54:21.126245Z\", \"created_time_dt\": \"2021-02-06T09:54:21.126245Z\", \"duration\": \"0:01:03\", \"iteration\": \"29\", \"goal\": \"accuracy_max\", \"run_name\": \"RobustScaler, KNN\", \"run_properties\": \"copy=True, quantile_range=[25, 75], with_centering=True,\\n             with_scaling=False\", \"primary_metric\": 0.78701051, \"best_metric\": 0.8156638}, {\"run_id\": \"AutoML_6a7cdab9-3d16-4453-bf9a-f612a6904d93_30\", \"run_number\": 35, \"metric\": null, \"status\": \"Completed\", \"run_type\": \"azureml.scriptrun\", \"training_percent\": \"100\", \"start_time\": \"2021-02-06T09:55:36.44203Z\", \"end_time\": \"2021-02-06T09:56:29.262583Z\", \"created_time\": \"2021-02-06T09:55:22.701201Z\", \"created_time_dt\": \"2021-02-06T09:55:22.701201Z\", \"duration\": \"0:01:06\", \"iteration\": \"30\", \"goal\": \"accuracy_max\", \"run_name\": \"SparseNormalizer, LightGBM\", \"run_properties\": \"<azureml.automl.runtime.shared.model_wrappers.SparseNormalizer object at 0x7ff074154cf8\", \"primary_metric\": 0.79369628, \"best_metric\": 0.8156638}, {\"run_id\": \"AutoML_6a7cdab9-3d16-4453-bf9a-f612a6904d93_31\", \"run_number\": 36, \"metric\": null, \"status\": \"Completed\", \"run_type\": \"azureml.scriptrun\", \"training_percent\": \"100\", \"start_time\": \"2021-02-06T09:55:38.052799Z\", \"end_time\": \"2021-02-06T09:56:31.05217Z\", \"created_time\": \"2021-02-06T09:55:22.706128Z\", \"created_time_dt\": \"2021-02-06T09:55:22.706128Z\", \"duration\": \"0:01:08\", \"iteration\": \"31\", \"goal\": \"accuracy_max\", \"run_name\": \"StandardScalerWrapper, LogisticRegression\", \"run_properties\": \"<azureml.automl.runtime.shared.model_wrappers.StandardScalerWrapper object at 0x7f4c05646be0\", \"primary_metric\": 0.79942693, \"best_metric\": 0.8156638}, {\"run_id\": \"AutoML_6a7cdab9-3d16-4453-bf9a-f612a6904d93_32\", \"run_number\": 37, \"metric\": null, \"status\": \"Completed\", \"run_type\": \"azureml.scriptrun\", \"training_percent\": \"100\", \"start_time\": \"2021-02-06T09:55:37.822638Z\", \"end_time\": \"2021-02-06T09:56:28.33564Z\", \"created_time\": \"2021-02-06T09:55:27.174036Z\", \"created_time_dt\": \"2021-02-06T09:55:27.174036Z\", \"duration\": \"0:01:01\", \"iteration\": \"32\", \"goal\": \"accuracy_max\", \"run_name\": \"StandardScalerWrapper, XGBoostClassifier\", \"run_properties\": \"<azureml.automl.runtime.shared.model_wrappers.StandardScalerWrapper object at 0x7f05960bcc50\", \"primary_metric\": 0.80706781, \"best_metric\": 0.8156638}, {\"run_id\": \"AutoML_6a7cdab9-3d16-4453-bf9a-f612a6904d93_33\", \"run_number\": 38, \"metric\": null, \"status\": \"Completed\", \"run_type\": \"azureml.scriptrun\", \"training_percent\": \"100\", \"start_time\": \"2021-02-06T09:55:40.326592Z\", \"end_time\": \"2021-02-06T09:56:29.678822Z\", \"created_time\": \"2021-02-06T09:55:27.189963Z\", \"created_time_dt\": \"2021-02-06T09:55:27.189963Z\", \"duration\": \"0:01:02\", \"iteration\": \"33\", \"goal\": \"accuracy_max\", \"run_name\": \"MinMaxScaler, RandomForest\", \"run_properties\": \"copy=True, feature_range=(0, 1\", \"primary_metric\": 0.80324737, \"best_metric\": 0.8156638}, {\"run_id\": \"AutoML_6a7cdab9-3d16-4453-bf9a-f612a6904d93_34\", \"run_number\": 39, \"metric\": null, \"status\": \"Completed\", \"run_type\": \"azureml.scriptrun\", \"training_percent\": \"100\", \"start_time\": \"2021-02-06T09:55:44.263058Z\", \"end_time\": \"2021-02-06T09:56:36.972767Z\", \"created_time\": \"2021-02-06T09:55:31.61584Z\", \"created_time_dt\": \"2021-02-06T09:55:31.61584Z\", \"duration\": \"0:01:05\", \"iteration\": \"34\", \"goal\": \"accuracy_max\", \"run_name\": \"StandardScalerWrapper, XGBoostClassifier\", \"run_properties\": \"<azureml.automl.runtime.shared.model_wrappers.StandardScalerWrapper object at 0x7f10b4779fd0\", \"primary_metric\": 0.79942693, \"best_metric\": 0.8156638}, {\"run_id\": \"AutoML_6a7cdab9-3d16-4453-bf9a-f612a6904d93_35\", \"run_number\": 40, \"metric\": null, \"status\": \"Completed\", \"run_type\": \"azureml.scriptrun\", \"training_percent\": \"100\", \"start_time\": \"2021-02-06T09:56:44.597312Z\", \"end_time\": \"2021-02-06T09:57:32.738987Z\", \"created_time\": \"2021-02-06T09:56:31.374628Z\", \"created_time_dt\": \"2021-02-06T09:56:31.374628Z\", \"duration\": \"0:01:01\", \"iteration\": \"35\", \"goal\": \"accuracy_max\", \"run_name\": \"SparseNormalizer, LightGBM\", \"run_properties\": \"<azureml.automl.runtime.shared.model_wrappers.SparseNormalizer object at 0x7fc845ab5860\", \"primary_metric\": 0.78319007, \"best_metric\": 0.8156638}, {\"run_id\": \"AutoML_6a7cdab9-3d16-4453-bf9a-f612a6904d93_36\", \"run_number\": 41, \"metric\": null, \"status\": \"Canceled\", \"run_type\": \"azureml.scriptrun\", \"training_percent\": \"100\", \"start_time\": \"2021-02-06T09:56:49.25981Z\", \"end_time\": \"2021-02-06T09:57:44.353506Z\", \"created_time\": \"2021-02-06T09:56:36.301622Z\", \"created_time_dt\": \"2021-02-06T09:56:36.301622Z\", \"duration\": \"0:01:08\", \"iteration\": \"36\", \"goal\": \"accuracy_max\", \"run_name\": \"StandardScalerWrapper, LightGBM\", \"run_properties\": \"<azureml.automl.runtime.shared.model_wrappers.StandardScalerWrapper object at 0x7f436a9f55c0\", \"primary_metric\": 0.80515759, \"best_metric\": 0.8156638}, {\"run_id\": \"AutoML_6a7cdab9-3d16-4453-bf9a-f612a6904d93_37\", \"run_number\": 42, \"metric\": null, \"status\": \"Completed\", \"run_type\": \"azureml.scriptrun\", \"training_percent\": \"100\", \"start_time\": \"2021-02-06T09:56:50.434274Z\", \"end_time\": \"2021-02-06T09:57:37.149614Z\", \"created_time\": \"2021-02-06T09:56:36.314103Z\", \"created_time_dt\": \"2021-02-06T09:56:36.314103Z\", \"duration\": \"0:01:00\", \"iteration\": \"37\", \"goal\": \"accuracy_max\", \"run_name\": \"MaxAbsScaler, LightGBM\", \"run_properties\": \"copy=True\", \"primary_metric\": 0.78987584, \"best_metric\": 0.8156638}, {\"run_id\": \"AutoML_6a7cdab9-3d16-4453-bf9a-f612a6904d93_38\", \"run_number\": 43, \"metric\": null, \"status\": \"Canceled\", \"run_type\": \"azureml.scriptrun\", \"training_percent\": \"100\", \"start_time\": \"2021-02-06T09:56:50.11698Z\", \"end_time\": \"2021-02-06T09:57:44.737142Z\", \"created_time\": \"2021-02-06T09:56:36.3349Z\", \"created_time_dt\": \"2021-02-06T09:56:36.3349Z\", \"duration\": \"0:01:08\", \"iteration\": \"38\", \"goal\": \"accuracy_max\", \"run_name\": \"MaxAbsScaler, LightGBM\", \"run_properties\": \"copy=True\", \"primary_metric\": 0.81375358, \"best_metric\": 0.8156638}, {\"run_id\": \"AutoML_6a7cdab9-3d16-4453-bf9a-f612a6904d93_39\", \"run_number\": 44, \"metric\": null, \"status\": \"Canceled\", \"run_type\": \"azureml.scriptrun\", \"training_percent\": \"100\", \"start_time\": \"2021-02-06T09:56:54.361643Z\", \"end_time\": \"2021-02-06T09:57:47.210859Z\", \"created_time\": \"2021-02-06T09:56:41.237549Z\", \"created_time_dt\": \"2021-02-06T09:56:41.237549Z\", \"duration\": \"0:01:05\", \"iteration\": \"39\", \"goal\": \"accuracy_max\", \"run_name\": \"MaxAbsScaler, LightGBM\", \"run_properties\": \"copy=True\", \"primary_metric\": 0.80133715, \"best_metric\": 0.8156638}, {\"run_id\": \"AutoML_6a7cdab9-3d16-4453-bf9a-f612a6904d93_40\", \"run_number\": 45, \"metric\": null, \"status\": \"Canceled\", \"run_type\": \"azureml.scriptrun\", \"training_percent\": \"100\", \"start_time\": \"2021-02-06T09:57:35.622507Z\", \"end_time\": \"2021-02-06T09:57:39.213846Z\", \"created_time\": \"2021-02-06T09:57:35.622507Z\", \"created_time_dt\": \"2021-02-06T09:57:35.622507Z\", \"duration\": \"0:00:03\", \"iteration\": \"40\", \"goal\": null, \"run_name\": \"Canceled\", \"run_properties\": null}, {\"run_id\": \"AutoML_6a7cdab9-3d16-4453-bf9a-f612a6904d93_41\", \"run_number\": 46, \"metric\": null, \"status\": \"Completed\", \"run_type\": \"azureml.scriptrun\", \"training_percent\": \"100\", \"start_time\": \"2021-02-06T09:58:04.081471Z\", \"end_time\": \"2021-02-06T09:59:26.843308Z\", \"created_time\": \"2021-02-06T09:57:51.005536Z\", \"created_time_dt\": \"2021-02-06T09:57:51.005536Z\", \"duration\": \"0:01:35\", \"iteration\": \"41\", \"goal\": \"accuracy_max\", \"run_name\": \"VotingEnsemble\", \"run_properties\": \"classification_labels=None,\\n                              estimators=[('22',\\n                                           Pipeline(memory=None,\\n                                                    steps=[('standardscalerwrapper',\\n                                                            <azureml.automl.runtime.shared.model_wrappers.StandardScalerWrapper object at 0x7fbbf41a6c50>\", \"primary_metric\": 0.82999045, \"best_metric\": 0.82999045}, {\"run_id\": \"AutoML_6a7cdab9-3d16-4453-bf9a-f612a6904d93_42\", \"run_number\": 47, \"metric\": null, \"status\": \"Completed\", \"run_type\": \"azureml.scriptrun\", \"training_percent\": \"100\", \"start_time\": \"2021-02-06T09:58:07.76049Z\", \"end_time\": \"2021-02-06T09:59:30.3928Z\", \"created_time\": \"2021-02-06T09:57:51.074621Z\", \"created_time_dt\": \"2021-02-06T09:57:51.074621Z\", \"duration\": \"0:01:39\", \"iteration\": \"42\", \"goal\": \"accuracy_max\", \"run_name\": \"StackEnsemble\", \"run_properties\": \"base_learners=[('22',\\n                                        Pipeline(memory=None,\\n                                                 steps=[('standardscalerwrapper',\\n                                                         <azureml.automl.runtime.shared.model_wrappers.StandardScalerWrapper object at 0x7faa60674a58>\", \"primary_metric\": 0.8156638, \"best_metric\": 0.82999045}], \"children_metrics\": {\"categories\": [0], \"series\": {\"accuracy\": [{\"categories\": [\"0\", \"1\", \"2\", \"3\", \"4\", \"5\", \"6\", \"7\", \"8\", \"9\", \"10\", \"11\", \"12\", \"13\", \"14\", \"15\", \"16\", \"17\", \"18\", \"19\", \"20\", \"21\", \"22\", \"23\", \"24\", \"25\", \"26\", \"27\", \"28\", \"29\", \"30\", \"31\", \"32\", \"33\", \"34\", \"35\", \"36\", \"37\", \"38\", \"39\", \"41\", \"42\"], \"mode\": \"markers\", \"name\": \"accuracy\", \"stepped\": false, \"type\": \"scatter\", \"data\": [0.7879656160458453, 0.8080229226361032, 0.7994269340974212, 0.7956064947468958, 0.7984718242597898, 0.8013371537726838, 0.7984718242597898, 0.7851002865329514, 0.6781279847182425, 0.7860553963705826, 0.8042024832855779, 0.7946513849092645, 0.7889207258834766, 0.7889207258834766, 0.7975167144221585, 0.8003820439350525, 0.7956064947468958, 0.7908309455587393, 0.7898758357211081, 0.7841451766953199, 0.7975167144221585, 0.7898758357211079, 0.8156638013371538, 0.7621776504297996, 0.7841451766953199, 0.617956064947469, 0.76981852913085, 0.7583572110792741, 0.7631327602674308, 0.7870105062082139, 0.7936962750716332, 0.7994269340974212, 0.8070678127984717, 0.8032473734479465, 0.7994269340974212, 0.7831900668576885, 0.8051575931232092, 0.7898758357211081, 0.8137535816618912, 0.8013371537726838, 0.8299904489016238, 0.8156638013371538]}, {\"categories\": [\"0\", \"1\", \"2\", \"3\", \"4\", \"5\", \"6\", \"7\", \"8\", \"9\", \"10\", \"11\", \"12\", \"13\", \"14\", \"15\", \"16\", \"17\", \"18\", \"19\", \"20\", \"21\", \"22\", \"23\", \"24\", \"25\", \"26\", \"27\", \"28\", \"29\", \"30\", \"31\", \"32\", \"33\", \"34\", \"35\", \"36\", \"37\", \"38\", \"39\", \"41\", \"42\"], \"mode\": \"lines\", \"name\": \"accuracy_max\", \"stepped\": true, \"type\": \"scatter\", \"data\": [0.7879656160458453, 0.8080229226361032, 0.8080229226361032, 0.8080229226361032, 0.8080229226361032, 0.8080229226361032, 0.8080229226361032, 0.8080229226361032, 0.8080229226361032, 0.8080229226361032, 0.8080229226361032, 0.8080229226361032, 0.8080229226361032, 0.8080229226361032, 0.8080229226361032, 0.8080229226361032, 0.8080229226361032, 0.8080229226361032, 0.8080229226361032, 0.8080229226361032, 0.8080229226361032, 0.8080229226361032, 0.8156638013371538, 0.8156638013371538, 0.8156638013371538, 0.8156638013371538, 0.8156638013371538, 0.8156638013371538, 0.8156638013371538, 0.8156638013371538, 0.8156638013371538, 0.8156638013371538, 0.8156638013371538, 0.8156638013371538, 0.8156638013371538, 0.8156638013371538, 0.8156638013371538, 0.8156638013371538, 0.8156638013371538, 0.8156638013371538, 0.8299904489016238, 0.8299904489016238]}], \"f1_score_macro\": [{\"categories\": [\"0\", \"1\", \"2\", \"3\", \"4\", \"5\", \"6\", \"7\", \"8\", \"9\", \"10\", \"11\", \"12\", \"13\", \"14\", \"15\", \"16\", \"17\", \"18\", \"19\", \"20\", \"21\", \"22\", \"23\", \"24\", \"25\", \"26\", \"27\", \"28\", \"29\", \"30\", \"31\", \"32\", \"33\", \"34\", \"35\", \"36\", \"37\", \"38\", \"39\", \"41\", \"42\"], \"mode\": \"markers\", \"name\": \"f1_score_macro\", \"stepped\": false, \"type\": \"scatter\", \"data\": [0.7703578865954945, 0.7886104338170347, 0.7827564882104596, 0.7819643249664959, 0.7868338128534808, 0.7845539422061144, 0.7767084616375907, 0.7668354770566846, 0.5151336880252729, 0.7661476986207404, 0.7888513650175053, 0.7775561082928831, 0.7518023793375789, 0.7673781757847252, 0.780265645927, 0.7786966230368323, 0.7762684329548915, 0.7668773371165772, 0.7678656633818695, 0.7440021779725289, 0.7790785589968996, 0.7772493843802429, 0.7995770211138656, 0.7184279368516551, 0.7660261627458135, 0.3819228523840639, 0.7604130023887361, 0.7505151163708303, 0.7532379555153424, 0.7720681092125007, 0.7736190401940203, 0.7869637373705007, 0.7887899530455867, 0.7851741630040134, 0.7790951848999681, 0.7425838414086187, 0.7884288358393814, 0.7708750977867881, 0.7986132343591749, 0.7814743404872391, 0.8149394176470709, 0.797666908850287]}, {\"categories\": [\"0\", \"1\", \"2\", \"3\", \"4\", \"5\", \"6\", \"7\", \"8\", \"9\", \"10\", \"11\", \"12\", \"13\", \"14\", \"15\", \"16\", \"17\", \"18\", \"19\", \"20\", \"21\", \"22\", \"23\", \"24\", \"25\", \"26\", \"27\", \"28\", \"29\", \"30\", \"31\", \"32\", \"33\", \"34\", \"35\", \"36\", \"37\", \"38\", \"39\", \"41\", \"42\"], \"mode\": \"lines\", \"name\": \"f1_score_macro_max\", \"stepped\": true, \"type\": \"scatter\", \"data\": [0.7703578865954945, 0.7886104338170347, 0.7886104338170347, 0.7886104338170347, 0.7886104338170347, 0.7886104338170347, 0.7886104338170347, 0.7886104338170347, 0.7886104338170347, 0.7886104338170347, 0.7888513650175053, 0.7888513650175053, 0.7888513650175053, 0.7888513650175053, 0.7888513650175053, 0.7888513650175053, 0.7888513650175053, 0.7888513650175053, 0.7888513650175053, 0.7888513650175053, 0.7888513650175053, 0.7888513650175053, 0.7995770211138656, 0.7995770211138656, 0.7995770211138656, 0.7995770211138656, 0.7995770211138656, 0.7995770211138656, 0.7995770211138656, 0.7995770211138656, 0.7995770211138656, 0.7995770211138656, 0.7995770211138656, 0.7995770211138656, 0.7995770211138656, 0.7995770211138656, 0.7995770211138656, 0.7995770211138656, 0.7995770211138656, 0.7995770211138656, 0.8149394176470709, 0.8149394176470709]}], \"f1_score_micro\": [{\"categories\": [\"0\", \"1\", \"2\", \"3\", \"4\", \"5\", \"6\", \"7\", \"8\", \"9\", \"10\", \"11\", \"12\", \"13\", \"14\", \"15\", \"16\", \"17\", \"18\", \"19\", \"20\", \"21\", \"22\", \"23\", \"24\", \"25\", \"26\", \"27\", \"28\", \"29\", \"30\", \"31\", \"32\", \"33\", \"34\", \"35\", \"36\", \"37\", \"38\", \"39\", \"41\", \"42\"], \"mode\": \"markers\", \"name\": \"f1_score_micro\", \"stepped\": false, \"type\": \"scatter\", \"data\": [0.7879656160458453, 0.8080229226361032, 0.7994269340974212, 0.7956064947468958, 0.7984718242597898, 0.8013371537726838, 0.7984718242597898, 0.7851002865329514, 0.6781279847182425, 0.7860553963705826, 0.8042024832855779, 0.7946513849092645, 0.7889207258834766, 0.7889207258834766, 0.7975167144221585, 0.8003820439350525, 0.7956064947468958, 0.7908309455587393, 0.7898758357211081, 0.7841451766953199, 0.7975167144221587, 0.7898758357211079, 0.8156638013371538, 0.7621776504297996, 0.7841451766953199, 0.617956064947469, 0.7698185291308501, 0.7583572110792742, 0.7631327602674306, 0.787010506208214, 0.7936962750716332, 0.7994269340974212, 0.8070678127984717, 0.8032473734479465, 0.7994269340974212, 0.7831900668576885, 0.8051575931232092, 0.7898758357211081, 0.8137535816618912, 0.801337153772684, 0.8299904489016238, 0.8156638013371538]}, {\"categories\": [\"0\", \"1\", \"2\", \"3\", \"4\", \"5\", \"6\", \"7\", \"8\", \"9\", \"10\", \"11\", \"12\", \"13\", \"14\", \"15\", \"16\", \"17\", \"18\", \"19\", \"20\", \"21\", \"22\", \"23\", \"24\", \"25\", \"26\", \"27\", \"28\", \"29\", \"30\", \"31\", \"32\", \"33\", \"34\", \"35\", \"36\", \"37\", \"38\", \"39\", \"41\", \"42\"], \"mode\": \"lines\", \"name\": \"f1_score_micro_max\", \"stepped\": true, \"type\": \"scatter\", \"data\": [0.7879656160458453, 0.8080229226361032, 0.8080229226361032, 0.8080229226361032, 0.8080229226361032, 0.8080229226361032, 0.8080229226361032, 0.8080229226361032, 0.8080229226361032, 0.8080229226361032, 0.8080229226361032, 0.8080229226361032, 0.8080229226361032, 0.8080229226361032, 0.8080229226361032, 0.8080229226361032, 0.8080229226361032, 0.8080229226361032, 0.8080229226361032, 0.8080229226361032, 0.8080229226361032, 0.8080229226361032, 0.8156638013371538, 0.8156638013371538, 0.8156638013371538, 0.8156638013371538, 0.8156638013371538, 0.8156638013371538, 0.8156638013371538, 0.8156638013371538, 0.8156638013371538, 0.8156638013371538, 0.8156638013371538, 0.8156638013371538, 0.8156638013371538, 0.8156638013371538, 0.8156638013371538, 0.8156638013371538, 0.8156638013371538, 0.8156638013371538, 0.8299904489016238, 0.8299904489016238]}], \"precision_score_micro\": [{\"categories\": [\"0\", \"1\", \"2\", \"3\", \"4\", \"5\", \"6\", \"7\", \"8\", \"9\", \"10\", \"11\", \"12\", \"13\", \"14\", \"15\", \"16\", \"17\", \"18\", \"19\", \"20\", \"21\", \"22\", \"23\", \"24\", \"25\", \"26\", \"27\", \"28\", \"29\", \"30\", \"31\", \"32\", \"33\", \"34\", \"35\", \"36\", \"37\", \"38\", \"39\", \"41\", \"42\"], \"mode\": \"markers\", \"name\": \"precision_score_micro\", \"stepped\": false, \"type\": \"scatter\", \"data\": [0.7879656160458453, 0.8080229226361032, 0.7994269340974212, 0.7956064947468958, 0.7984718242597898, 0.8013371537726838, 0.7984718242597898, 0.7851002865329514, 0.6781279847182425, 0.7860553963705826, 0.8042024832855779, 0.7946513849092645, 0.7889207258834766, 0.7889207258834766, 0.7975167144221585, 0.8003820439350525, 0.7956064947468958, 0.7908309455587393, 0.7898758357211081, 0.7841451766953199, 0.7975167144221585, 0.7898758357211079, 0.8156638013371538, 0.7621776504297996, 0.7841451766953199, 0.617956064947469, 0.76981852913085, 0.7583572110792741, 0.7631327602674308, 0.7870105062082139, 0.7936962750716332, 0.7994269340974212, 0.8070678127984717, 0.8032473734479465, 0.7994269340974212, 0.7831900668576885, 0.8051575931232092, 0.7898758357211081, 0.8137535816618912, 0.8013371537726838, 0.8299904489016238, 0.8156638013371538]}, {\"categories\": [\"0\", \"1\", \"2\", \"3\", \"4\", \"5\", \"6\", \"7\", \"8\", \"9\", \"10\", \"11\", \"12\", \"13\", \"14\", \"15\", \"16\", \"17\", \"18\", \"19\", \"20\", \"21\", \"22\", \"23\", \"24\", \"25\", \"26\", \"27\", \"28\", \"29\", \"30\", \"31\", \"32\", \"33\", \"34\", \"35\", \"36\", \"37\", \"38\", \"39\", \"41\", \"42\"], \"mode\": \"lines\", \"name\": \"precision_score_micro_max\", \"stepped\": true, \"type\": \"scatter\", \"data\": [0.7879656160458453, 0.8080229226361032, 0.8080229226361032, 0.8080229226361032, 0.8080229226361032, 0.8080229226361032, 0.8080229226361032, 0.8080229226361032, 0.8080229226361032, 0.8080229226361032, 0.8080229226361032, 0.8080229226361032, 0.8080229226361032, 0.8080229226361032, 0.8080229226361032, 0.8080229226361032, 0.8080229226361032, 0.8080229226361032, 0.8080229226361032, 0.8080229226361032, 0.8080229226361032, 0.8080229226361032, 0.8156638013371538, 0.8156638013371538, 0.8156638013371538, 0.8156638013371538, 0.8156638013371538, 0.8156638013371538, 0.8156638013371538, 0.8156638013371538, 0.8156638013371538, 0.8156638013371538, 0.8156638013371538, 0.8156638013371538, 0.8156638013371538, 0.8156638013371538, 0.8156638013371538, 0.8156638013371538, 0.8156638013371538, 0.8156638013371538, 0.8299904489016238, 0.8299904489016238]}], \"recall_score_weighted\": [{\"categories\": [\"0\", \"1\", \"2\", \"3\", \"4\", \"5\", \"6\", \"7\", \"8\", \"9\", \"10\", \"11\", \"12\", \"13\", \"14\", \"15\", \"16\", \"17\", \"18\", \"19\", \"20\", \"21\", \"22\", \"23\", \"24\", \"25\", \"26\", \"27\", \"28\", \"29\", \"30\", \"31\", \"32\", \"33\", \"34\", \"35\", \"36\", \"37\", \"38\", \"39\", \"41\", \"42\"], \"mode\": \"markers\", \"name\": \"recall_score_weighted\", \"stepped\": false, \"type\": \"scatter\", \"data\": [0.7879656160458453, 0.8080229226361032, 0.7994269340974212, 0.7956064947468958, 0.7984718242597898, 0.8013371537726838, 0.7984718242597898, 0.7851002865329514, 0.6781279847182425, 0.7860553963705826, 0.8042024832855779, 0.7946513849092645, 0.7889207258834766, 0.7889207258834766, 0.7975167144221585, 0.8003820439350525, 0.7956064947468958, 0.7908309455587393, 0.7898758357211081, 0.7841451766953199, 0.7975167144221585, 0.7898758357211079, 0.8156638013371538, 0.7621776504297996, 0.7841451766953199, 0.617956064947469, 0.76981852913085, 0.7583572110792741, 0.7631327602674308, 0.7870105062082139, 0.7936962750716332, 0.7994269340974212, 0.8070678127984717, 0.8032473734479465, 0.7994269340974212, 0.7831900668576885, 0.8051575931232092, 0.7898758357211081, 0.8137535816618912, 0.8013371537726838, 0.8299904489016238, 0.8156638013371538]}, {\"categories\": [\"0\", \"1\", \"2\", \"3\", \"4\", \"5\", \"6\", \"7\", \"8\", \"9\", \"10\", \"11\", \"12\", \"13\", \"14\", \"15\", \"16\", \"17\", \"18\", \"19\", \"20\", \"21\", \"22\", \"23\", \"24\", \"25\", \"26\", \"27\", \"28\", \"29\", \"30\", \"31\", \"32\", \"33\", \"34\", \"35\", \"36\", \"37\", \"38\", \"39\", \"41\", \"42\"], \"mode\": \"lines\", \"name\": \"recall_score_weighted_max\", \"stepped\": true, \"type\": \"scatter\", \"data\": [0.7879656160458453, 0.8080229226361032, 0.8080229226361032, 0.8080229226361032, 0.8080229226361032, 0.8080229226361032, 0.8080229226361032, 0.8080229226361032, 0.8080229226361032, 0.8080229226361032, 0.8080229226361032, 0.8080229226361032, 0.8080229226361032, 0.8080229226361032, 0.8080229226361032, 0.8080229226361032, 0.8080229226361032, 0.8080229226361032, 0.8080229226361032, 0.8080229226361032, 0.8080229226361032, 0.8080229226361032, 0.8156638013371538, 0.8156638013371538, 0.8156638013371538, 0.8156638013371538, 0.8156638013371538, 0.8156638013371538, 0.8156638013371538, 0.8156638013371538, 0.8156638013371538, 0.8156638013371538, 0.8156638013371538, 0.8156638013371538, 0.8156638013371538, 0.8156638013371538, 0.8156638013371538, 0.8156638013371538, 0.8156638013371538, 0.8156638013371538, 0.8299904489016238, 0.8299904489016238]}], \"AUC_weighted\": [{\"categories\": [\"0\", \"1\", \"2\", \"3\", \"4\", \"5\", \"6\", \"7\", \"8\", \"9\", \"10\", \"11\", \"12\", \"13\", \"14\", \"15\", \"16\", \"17\", \"18\", \"19\", \"20\", \"21\", \"22\", \"23\", \"24\", \"25\", \"26\", \"27\", \"28\", \"29\", \"30\", \"31\", \"32\", \"33\", \"34\", \"35\", \"36\", \"37\", \"38\", \"39\", \"41\", \"42\"], \"mode\": \"markers\", \"name\": \"AUC_weighted\", \"stepped\": false, \"type\": \"scatter\", \"data\": [0.8536678514349533, 0.8678531479143805, 0.8521807391226623, 0.83785489683259, 0.8566015176603369, 0.854703792562706, 0.8159469547660616, 0.8422872289487172, 0.6168074756784435, 0.8365041651068185, 0.8570316963081416, 0.8459926832733826, 0.8391855585106726, 0.8322673854061087, 0.844730746032656, 0.845125089356655, 0.8451263737888562, 0.8394802860143776, 0.8464616811018866, 0.8333421824660793, 0.84377841822675, 0.8439308247996241, 0.8482495661797541, 0.8382888139206249, 0.8366919785469338, 0.5, 0.8433952906732479, 0.8321244860822002, 0.8421112620194449, 0.8190643617443268, 0.8354816908064823, 0.8499535947318045, 0.8466286805342899, 0.8527475696702784, 0.8543955828288882, 0.8403060142256997, 0.8535607126912158, 0.8389081566454354, 0.858307040907897, 0.8388983630935275, 0.8613093423084832, 0.8641480060564425]}, {\"categories\": [\"0\", \"1\", \"2\", \"3\", \"4\", \"5\", \"6\", \"7\", \"8\", \"9\", \"10\", \"11\", \"12\", \"13\", \"14\", \"15\", \"16\", \"17\", \"18\", \"19\", \"20\", \"21\", \"22\", \"23\", \"24\", \"25\", \"26\", \"27\", \"28\", \"29\", \"30\", \"31\", \"32\", \"33\", \"34\", \"35\", \"36\", \"37\", \"38\", \"39\", \"41\", \"42\"], \"mode\": \"lines\", \"name\": \"AUC_weighted_max\", \"stepped\": true, \"type\": \"scatter\", \"data\": [0.8536678514349533, 0.8678531479143805, 0.8678531479143805, 0.8678531479143805, 0.8678531479143805, 0.8678531479143805, 0.8678531479143805, 0.8678531479143805, 0.8678531479143805, 0.8678531479143805, 0.8678531479143805, 0.8678531479143805, 0.8678531479143805, 0.8678531479143805, 0.8678531479143805, 0.8678531479143805, 0.8678531479143805, 0.8678531479143805, 0.8678531479143805, 0.8678531479143805, 0.8678531479143805, 0.8678531479143805, 0.8678531479143805, 0.8678531479143805, 0.8678531479143805, 0.8678531479143805, 0.8678531479143805, 0.8678531479143805, 0.8678531479143805, 0.8678531479143805, 0.8678531479143805, 0.8678531479143805, 0.8678531479143805, 0.8678531479143805, 0.8678531479143805, 0.8678531479143805, 0.8678531479143805, 0.8678531479143805, 0.8678531479143805, 0.8678531479143805, 0.8678531479143805, 0.8678531479143805]}], \"average_precision_score_macro\": [{\"categories\": [\"0\", \"1\", \"2\", \"3\", \"4\", \"5\", \"6\", \"7\", \"8\", \"9\", \"10\", \"11\", \"12\", \"13\", \"14\", \"15\", \"16\", \"17\", \"18\", \"19\", \"20\", \"21\", \"22\", \"23\", \"24\", \"25\", \"26\", \"27\", \"28\", \"29\", \"30\", \"31\", \"32\", \"33\", \"34\", \"35\", \"36\", \"37\", \"38\", \"39\", \"41\", \"42\"], \"mode\": \"markers\", \"name\": \"average_precision_score_macro\", \"stepped\": false, \"type\": \"scatter\", \"data\": [0.8498630991374253, 0.8626483091697338, 0.8479237608747058, 0.8360891160628121, 0.8522781351013521, 0.8504476001525179, 0.8097323581610353, 0.8348950394308008, 0.6113095396984992, 0.8298997404961274, 0.8550474348722226, 0.8388897113029979, 0.8316810115105376, 0.8078952155377165, 0.8434468230429846, 0.8406943023842691, 0.8335720969534693, 0.8353360536209591, 0.8418024431944393, 0.8213952491417821, 0.8393779241330601, 0.836590781260795, 0.8402161477071061, 0.8351063539129423, 0.8289703914787165, 0.5, 0.8353811893961245, 0.8261297262190697, 0.8374833669758915, 0.7814886926869115, 0.8289244916878324, 0.846313632571572, 0.8349142647934945, 0.8488958721008878, 0.8478103729502103, 0.8320944471540098, 0.8523053558300148, 0.8344505068581989, 0.8494113327766425, 0.8366202591553238, 0.857179228953756, 0.8596749089461438]}, {\"categories\": [\"0\", \"1\", \"2\", \"3\", \"4\", \"5\", \"6\", \"7\", \"8\", \"9\", \"10\", \"11\", \"12\", \"13\", \"14\", \"15\", \"16\", \"17\", \"18\", \"19\", \"20\", \"21\", \"22\", \"23\", \"24\", \"25\", \"26\", \"27\", \"28\", \"29\", \"30\", \"31\", \"32\", \"33\", \"34\", \"35\", \"36\", \"37\", \"38\", \"39\", \"41\", \"42\"], \"mode\": \"lines\", \"name\": \"average_precision_score_macro_max\", \"stepped\": true, \"type\": \"scatter\", \"data\": [0.8498630991374253, 0.8626483091697338, 0.8626483091697338, 0.8626483091697338, 0.8626483091697338, 0.8626483091697338, 0.8626483091697338, 0.8626483091697338, 0.8626483091697338, 0.8626483091697338, 0.8626483091697338, 0.8626483091697338, 0.8626483091697338, 0.8626483091697338, 0.8626483091697338, 0.8626483091697338, 0.8626483091697338, 0.8626483091697338, 0.8626483091697338, 0.8626483091697338, 0.8626483091697338, 0.8626483091697338, 0.8626483091697338, 0.8626483091697338, 0.8626483091697338, 0.8626483091697338, 0.8626483091697338, 0.8626483091697338, 0.8626483091697338, 0.8626483091697338, 0.8626483091697338, 0.8626483091697338, 0.8626483091697338, 0.8626483091697338, 0.8626483091697338, 0.8626483091697338, 0.8626483091697338, 0.8626483091697338, 0.8626483091697338, 0.8626483091697338, 0.8626483091697338, 0.8626483091697338]}], \"precision_score_weighted\": [{\"categories\": [\"0\", \"1\", \"2\", \"3\", \"4\", \"5\", \"6\", \"7\", \"8\", \"9\", \"10\", \"11\", \"12\", \"13\", \"14\", \"15\", \"16\", \"17\", \"18\", \"19\", \"20\", \"21\", \"22\", \"23\", \"24\", \"25\", \"26\", \"27\", \"28\", \"29\", \"30\", \"31\", \"32\", \"33\", \"34\", \"35\", \"36\", \"37\", \"38\", \"39\", \"41\", \"42\"], \"mode\": \"markers\", \"name\": \"precision_score_weighted\", \"stepped\": false, \"type\": \"scatter\", \"data\": [0.7859357439862147, 0.8087665135888517, 0.799061506207218, 0.7987538104338983, 0.8003345976314726, 0.800480039232815, 0.7992455758351498, 0.7840735334655783, 0.5198568504838852, 0.783888869356653, 0.8037252638641265, 0.7943312867886066, 0.8055940452423384, 0.7970626442990424, 0.7994390856285084, 0.8015628443303714, 0.7949163786110899, 0.7970428058770006, 0.7901949239394471, 0.8026281084267479, 0.7970527940029827, 0.790722252635854, 0.8151718112750509, 0.7760277155571709, 0.7823132489246672, 0.38192625676308073, 0.7770512162649995, 0.7701269690649662, 0.7695247559716084, 0.7859127966601162, 0.7939919464649834, 0.7995236222404944, 0.8061160094966873, 0.804611692373896, 0.7987477648928266, 0.8013252065138609, 0.8031506330916413, 0.7904321845988838, 0.8125217524132186, 0.8044249070636673, 0.829556241723696, 0.8168907998566111]}, {\"categories\": [\"0\", \"1\", \"2\", \"3\", \"4\", \"5\", \"6\", \"7\", \"8\", \"9\", \"10\", \"11\", \"12\", \"13\", \"14\", \"15\", \"16\", \"17\", \"18\", \"19\", \"20\", \"21\", \"22\", \"23\", \"24\", \"25\", \"26\", \"27\", \"28\", \"29\", \"30\", \"31\", \"32\", \"33\", \"34\", \"35\", \"36\", \"37\", \"38\", \"39\", \"41\", \"42\"], \"mode\": \"lines\", \"name\": \"precision_score_weighted_max\", \"stepped\": true, \"type\": \"scatter\", \"data\": [0.7859357439862147, 0.8087665135888517, 0.8087665135888517, 0.8087665135888517, 0.8087665135888517, 0.8087665135888517, 0.8087665135888517, 0.8087665135888517, 0.8087665135888517, 0.8087665135888517, 0.8087665135888517, 0.8087665135888517, 0.8087665135888517, 0.8087665135888517, 0.8087665135888517, 0.8087665135888517, 0.8087665135888517, 0.8087665135888517, 0.8087665135888517, 0.8087665135888517, 0.8087665135888517, 0.8087665135888517, 0.8151718112750509, 0.8151718112750509, 0.8151718112750509, 0.8151718112750509, 0.8151718112750509, 0.8151718112750509, 0.8151718112750509, 0.8151718112750509, 0.8151718112750509, 0.8151718112750509, 0.8151718112750509, 0.8151718112750509, 0.8151718112750509, 0.8151718112750509, 0.8151718112750509, 0.8151718112750509, 0.8151718112750509, 0.8151718112750509, 0.829556241723696, 0.829556241723696]}], \"average_precision_score_micro\": [{\"categories\": [\"0\", \"1\", \"2\", \"3\", \"4\", \"5\", \"6\", \"7\", \"8\", \"9\", \"10\", \"11\", \"12\", \"13\", \"14\", \"15\", \"16\", \"17\", \"18\", \"19\", \"20\", \"21\", \"22\", \"23\", \"24\", \"25\", \"26\", \"27\", \"28\", \"29\", \"30\", \"31\", \"32\", \"33\", \"34\", \"35\", \"36\", \"37\", \"38\", \"39\", \"41\", \"42\"], \"mode\": \"markers\", \"name\": \"average_precision_score_micro\", \"stepped\": false, \"type\": \"scatter\", \"data\": [0.863666599473822, 0.876507107561335, 0.8616197524634552, 0.8379565985978537, 0.864604679328321, 0.8631354260943925, 0.8315999139612081, 0.8501875129850879, 0.6629594376719529, 0.8453685196018138, 0.866772039683712, 0.8508292709294984, 0.8274244216045327, 0.8321648730456398, 0.8511450465234883, 0.8511552783133228, 0.8503399877874797, 0.8435899363897187, 0.8552385330337083, 0.8180355548507915, 0.852373141665701, 0.8432957455145035, 0.853045308178744, 0.8322075289157622, 0.844113832371634, 0.5729482242893462, 0.8436743160904668, 0.8272257758964706, 0.8501996618209566, 0.801528619820084, 0.8342938246462036, 0.8599892369090849, 0.8555689318783436, 0.8614251993975951, 0.8631260063371302, 0.8347195094901925, 0.8676822165097101, 0.8358703418024485, 0.8632738249469748, 0.8537181426193556, 0.8709351998699634, 0.8705041358359035]}, {\"categories\": [\"0\", \"1\", \"2\", \"3\", \"4\", \"5\", \"6\", \"7\", \"8\", \"9\", \"10\", \"11\", \"12\", \"13\", \"14\", \"15\", \"16\", \"17\", \"18\", \"19\", \"20\", \"21\", \"22\", \"23\", \"24\", \"25\", \"26\", \"27\", \"28\", \"29\", \"30\", \"31\", \"32\", \"33\", \"34\", \"35\", \"36\", \"37\", \"38\", \"39\", \"41\", \"42\"], \"mode\": \"lines\", \"name\": \"average_precision_score_micro_max\", \"stepped\": true, \"type\": \"scatter\", \"data\": [0.863666599473822, 0.876507107561335, 0.876507107561335, 0.876507107561335, 0.876507107561335, 0.876507107561335, 0.876507107561335, 0.876507107561335, 0.876507107561335, 0.876507107561335, 0.876507107561335, 0.876507107561335, 0.876507107561335, 0.876507107561335, 0.876507107561335, 0.876507107561335, 0.876507107561335, 0.876507107561335, 0.876507107561335, 0.876507107561335, 0.876507107561335, 0.876507107561335, 0.876507107561335, 0.876507107561335, 0.876507107561335, 0.876507107561335, 0.876507107561335, 0.876507107561335, 0.876507107561335, 0.876507107561335, 0.876507107561335, 0.876507107561335, 0.876507107561335, 0.876507107561335, 0.876507107561335, 0.876507107561335, 0.876507107561335, 0.876507107561335, 0.876507107561335, 0.876507107561335, 0.876507107561335, 0.876507107561335]}], \"AUC_micro\": [{\"categories\": [\"0\", \"1\", \"2\", \"3\", \"4\", \"5\", \"6\", \"7\", \"8\", \"9\", \"10\", \"11\", \"12\", \"13\", \"14\", \"15\", \"16\", \"17\", \"18\", \"19\", \"20\", \"21\", \"22\", \"23\", \"24\", \"25\", \"26\", \"27\", \"28\", \"29\", \"30\", \"31\", \"32\", \"33\", \"34\", \"35\", \"36\", \"37\", \"38\", \"39\", \"41\", \"42\"], \"mode\": \"markers\", \"name\": \"AUC_micro\", \"stepped\": false, \"type\": \"scatter\", \"data\": [0.8704444134284612, 0.885578388792648, 0.8722643218583318, 0.8551380256867075, 0.871651300071428, 0.8726611439971759, 0.8481758496783004, 0.8605594371146378, 0.696302438677296, 0.8570701389972166, 0.8758658248563913, 0.8660574762659311, 0.8494949412019058, 0.8574614877272492, 0.8623382949784211, 0.8670262696255916, 0.8660520028571194, 0.8607865835803209, 0.863391926174662, 0.8451381077878398, 0.8659945320645971, 0.8610657274297145, 0.8683782016020668, 0.8429295873323427, 0.8577351581678311, 0.617956064947469, 0.8526695183126575, 0.8367528454884058, 0.8562546010842823, 0.8341557130072824, 0.8563969097133849, 0.8683385193881824, 0.8708494456805226, 0.8719660210780972, 0.8751898588681538, 0.8553460152215498, 0.8749709225156881, 0.8562080771093834, 0.8766457856120503, 0.8633508756085746, 0.8802226582704575, 0.8798641499932951]}, {\"categories\": [\"0\", \"1\", \"2\", \"3\", \"4\", \"5\", \"6\", \"7\", \"8\", \"9\", \"10\", \"11\", \"12\", \"13\", \"14\", \"15\", \"16\", \"17\", \"18\", \"19\", \"20\", \"21\", \"22\", \"23\", \"24\", \"25\", \"26\", \"27\", \"28\", \"29\", \"30\", \"31\", \"32\", \"33\", \"34\", \"35\", \"36\", \"37\", \"38\", \"39\", \"41\", \"42\"], \"mode\": \"lines\", \"name\": \"AUC_micro_max\", \"stepped\": true, \"type\": \"scatter\", \"data\": [0.8704444134284612, 0.885578388792648, 0.885578388792648, 0.885578388792648, 0.885578388792648, 0.885578388792648, 0.885578388792648, 0.885578388792648, 0.885578388792648, 0.885578388792648, 0.885578388792648, 0.885578388792648, 0.885578388792648, 0.885578388792648, 0.885578388792648, 0.885578388792648, 0.885578388792648, 0.885578388792648, 0.885578388792648, 0.885578388792648, 0.885578388792648, 0.885578388792648, 0.885578388792648, 0.885578388792648, 0.885578388792648, 0.885578388792648, 0.885578388792648, 0.885578388792648, 0.885578388792648, 0.885578388792648, 0.885578388792648, 0.885578388792648, 0.885578388792648, 0.885578388792648, 0.885578388792648, 0.885578388792648, 0.885578388792648, 0.885578388792648, 0.885578388792648, 0.885578388792648, 0.885578388792648, 0.885578388792648]}], \"recall_score_micro\": [{\"categories\": [\"0\", \"1\", \"2\", \"3\", \"4\", \"5\", \"6\", \"7\", \"8\", \"9\", \"10\", \"11\", \"12\", \"13\", \"14\", \"15\", \"16\", \"17\", \"18\", \"19\", \"20\", \"21\", \"22\", \"23\", \"24\", \"25\", \"26\", \"27\", \"28\", \"29\", \"30\", \"31\", \"32\", \"33\", \"34\", \"35\", \"36\", \"37\", \"38\", \"39\", \"41\", \"42\"], \"mode\": \"markers\", \"name\": \"recall_score_micro\", \"stepped\": false, \"type\": \"scatter\", \"data\": [0.7879656160458453, 0.8080229226361032, 0.7994269340974212, 0.7956064947468958, 0.7984718242597898, 0.8013371537726838, 0.7984718242597898, 0.7851002865329514, 0.6781279847182425, 0.7860553963705826, 0.8042024832855779, 0.7946513849092645, 0.7889207258834766, 0.7889207258834766, 0.7975167144221585, 0.8003820439350525, 0.7956064947468958, 0.7908309455587393, 0.7898758357211081, 0.7841451766953199, 0.7975167144221585, 0.7898758357211079, 0.8156638013371538, 0.7621776504297996, 0.7841451766953199, 0.617956064947469, 0.76981852913085, 0.7583572110792741, 0.7631327602674308, 0.7870105062082139, 0.7936962750716332, 0.7994269340974212, 0.8070678127984717, 0.8032473734479465, 0.7994269340974212, 0.7831900668576885, 0.8051575931232092, 0.7898758357211081, 0.8137535816618912, 0.8013371537726838, 0.8299904489016238, 0.8156638013371538]}, {\"categories\": [\"0\", \"1\", \"2\", \"3\", \"4\", \"5\", \"6\", \"7\", \"8\", \"9\", \"10\", \"11\", \"12\", \"13\", \"14\", \"15\", \"16\", \"17\", \"18\", \"19\", \"20\", \"21\", \"22\", \"23\", \"24\", \"25\", \"26\", \"27\", \"28\", \"29\", \"30\", \"31\", \"32\", \"33\", \"34\", \"35\", \"36\", \"37\", \"38\", \"39\", \"41\", \"42\"], \"mode\": \"lines\", \"name\": \"recall_score_micro_max\", \"stepped\": true, \"type\": \"scatter\", \"data\": [0.7879656160458453, 0.8080229226361032, 0.8080229226361032, 0.8080229226361032, 0.8080229226361032, 0.8080229226361032, 0.8080229226361032, 0.8080229226361032, 0.8080229226361032, 0.8080229226361032, 0.8080229226361032, 0.8080229226361032, 0.8080229226361032, 0.8080229226361032, 0.8080229226361032, 0.8080229226361032, 0.8080229226361032, 0.8080229226361032, 0.8080229226361032, 0.8080229226361032, 0.8080229226361032, 0.8080229226361032, 0.8156638013371538, 0.8156638013371538, 0.8156638013371538, 0.8156638013371538, 0.8156638013371538, 0.8156638013371538, 0.8156638013371538, 0.8156638013371538, 0.8156638013371538, 0.8156638013371538, 0.8156638013371538, 0.8156638013371538, 0.8156638013371538, 0.8156638013371538, 0.8156638013371538, 0.8156638013371538, 0.8156638013371538, 0.8156638013371538, 0.8299904489016238, 0.8299904489016238]}], \"AUC_macro\": [{\"categories\": [\"0\", \"1\", \"2\", \"3\", \"4\", \"5\", \"6\", \"7\", \"8\", \"9\", \"10\", \"11\", \"12\", \"13\", \"14\", \"15\", \"16\", \"17\", \"18\", \"19\", \"20\", \"21\", \"22\", \"23\", \"24\", \"25\", \"26\", \"27\", \"28\", \"29\", \"30\", \"31\", \"32\", \"33\", \"34\", \"35\", \"36\", \"37\", \"38\", \"39\", \"41\", \"42\"], \"mode\": \"markers\", \"name\": \"AUC_macro\", \"stepped\": false, \"type\": \"scatter\", \"data\": [0.8536678514349534, 0.8678531479143805, 0.8521807391226623, 0.83785489683259, 0.8566015176603369, 0.8547037925627062, 0.8159469547660616, 0.8422872289487172, 0.6168074756784434, 0.8365041651068185, 0.8570316963081416, 0.8459926832733826, 0.8391855585106726, 0.8322673854061087, 0.8447307460326559, 0.845125089356655, 0.8451263737888562, 0.8394802860143779, 0.8464616811018866, 0.8333421824660793, 0.8437784182267499, 0.8439308247996241, 0.8482495661797541, 0.838288813920625, 0.8366919785469338, 0.5, 0.8433952906732479, 0.8321244860822005, 0.8421112620194448, 0.8190643617443266, 0.8354816908064823, 0.8499543221510555, 0.8466286805342899, 0.8527475696702785, 0.8543955828288882, 0.8403060142256994, 0.8535607126912158, 0.8389081566454356, 0.858307040907897, 0.8388983630935275, 0.8613093423084832, 0.8641480060564426]}, {\"categories\": [\"0\", \"1\", \"2\", \"3\", \"4\", \"5\", \"6\", \"7\", \"8\", \"9\", \"10\", \"11\", \"12\", \"13\", \"14\", \"15\", \"16\", \"17\", \"18\", \"19\", \"20\", \"21\", \"22\", \"23\", \"24\", \"25\", \"26\", \"27\", \"28\", \"29\", \"30\", \"31\", \"32\", \"33\", \"34\", \"35\", \"36\", \"37\", \"38\", \"39\", \"41\", \"42\"], \"mode\": \"lines\", \"name\": \"AUC_macro_max\", \"stepped\": true, \"type\": \"scatter\", \"data\": [0.8536678514349534, 0.8678531479143805, 0.8678531479143805, 0.8678531479143805, 0.8678531479143805, 0.8678531479143805, 0.8678531479143805, 0.8678531479143805, 0.8678531479143805, 0.8678531479143805, 0.8678531479143805, 0.8678531479143805, 0.8678531479143805, 0.8678531479143805, 0.8678531479143805, 0.8678531479143805, 0.8678531479143805, 0.8678531479143805, 0.8678531479143805, 0.8678531479143805, 0.8678531479143805, 0.8678531479143805, 0.8678531479143805, 0.8678531479143805, 0.8678531479143805, 0.8678531479143805, 0.8678531479143805, 0.8678531479143805, 0.8678531479143805, 0.8678531479143805, 0.8678531479143805, 0.8678531479143805, 0.8678531479143805, 0.8678531479143805, 0.8678531479143805, 0.8678531479143805, 0.8678531479143805, 0.8678531479143805, 0.8678531479143805, 0.8678531479143805, 0.8678531479143805, 0.8678531479143805]}], \"f1_score_weighted\": [{\"categories\": [\"0\", \"1\", \"2\", \"3\", \"4\", \"5\", \"6\", \"7\", \"8\", \"9\", \"10\", \"11\", \"12\", \"13\", \"14\", \"15\", \"16\", \"17\", \"18\", \"19\", \"20\", \"21\", \"22\", \"23\", \"24\", \"25\", \"26\", \"27\", \"28\", \"29\", \"30\", \"31\", \"32\", \"33\", \"34\", \"35\", \"36\", \"37\", \"38\", \"39\", \"41\", \"42\"], \"mode\": \"markers\", \"name\": \"f1_score_weighted\", \"stepped\": false, \"type\": \"scatter\", \"data\": [0.7854079241439006, 0.8038003129381203, 0.797045127423389, 0.7947013511659876, 0.7986420122662814, 0.7988021448525542, 0.7932359850909046, 0.7822623959975598, 0.5794009843580021, 0.7824183988507655, 0.8023693448577355, 0.7921514718007776, 0.7745311300188812, 0.7837557130924505, 0.7947316321366849, 0.7951391118758485, 0.7918909746766832, 0.784389984021398, 0.7847645943994609, 0.7680553069194497, 0.7942001948074179, 0.7898557257946157, 0.8130656479754409, 0.7445986656404369, 0.7815032363336231, 0.47206642512681, 0.7715912391148446, 0.7609383127086417, 0.764963582891513, 0.7859217628344654, 0.7896068613476152, 0.7992445719750311, 0.8035332914155054, 0.7999013697967082, 0.7950418549284018, 0.7669316322498, 0.8026096493953522, 0.7864402294546039, 0.8118019848351107, 0.79694561492745, 0.8275378905254099, 0.8119648314757074]}, {\"categories\": [\"0\", \"1\", \"2\", \"3\", \"4\", \"5\", \"6\", \"7\", \"8\", \"9\", \"10\", \"11\", \"12\", \"13\", \"14\", \"15\", \"16\", \"17\", \"18\", \"19\", \"20\", \"21\", \"22\", \"23\", \"24\", \"25\", \"26\", \"27\", \"28\", \"29\", \"30\", \"31\", \"32\", \"33\", \"34\", \"35\", \"36\", \"37\", \"38\", \"39\", \"41\", \"42\"], \"mode\": \"lines\", \"name\": \"f1_score_weighted_max\", \"stepped\": true, \"type\": \"scatter\", \"data\": [0.7854079241439006, 0.8038003129381203, 0.8038003129381203, 0.8038003129381203, 0.8038003129381203, 0.8038003129381203, 0.8038003129381203, 0.8038003129381203, 0.8038003129381203, 0.8038003129381203, 0.8038003129381203, 0.8038003129381203, 0.8038003129381203, 0.8038003129381203, 0.8038003129381203, 0.8038003129381203, 0.8038003129381203, 0.8038003129381203, 0.8038003129381203, 0.8038003129381203, 0.8038003129381203, 0.8038003129381203, 0.8130656479754409, 0.8130656479754409, 0.8130656479754409, 0.8130656479754409, 0.8130656479754409, 0.8130656479754409, 0.8130656479754409, 0.8130656479754409, 0.8130656479754409, 0.8130656479754409, 0.8130656479754409, 0.8130656479754409, 0.8130656479754409, 0.8130656479754409, 0.8130656479754409, 0.8130656479754409, 0.8130656479754409, 0.8130656479754409, 0.8275378905254099, 0.8275378905254099]}], \"balanced_accuracy\": [{\"categories\": [\"0\", \"1\", \"2\", \"3\", \"4\", \"5\", \"6\", \"7\", \"8\", \"9\", \"10\", \"11\", \"12\", \"13\", \"14\", \"15\", \"16\", \"17\", \"18\", \"19\", \"20\", \"21\", \"22\", \"23\", \"24\", \"25\", \"26\", \"27\", \"28\", \"29\", \"30\", \"31\", \"32\", \"33\", \"34\", \"35\", \"36\", \"37\", \"38\", \"39\", \"41\", \"42\"], \"mode\": \"markers\", \"name\": \"balanced_accuracy\", \"stepped\": false, \"type\": \"scatter\", \"data\": [0.7663876731554501, 0.7802620657427856, 0.7772025111004948, 0.7795745865851028, 0.7879504405753869, 0.7793308049103814, 0.7677599371165694, 0.7619934402171857, 0.5919098822324629, 0.7600857508564793, 0.7842221407610195, 0.7723389758614081, 0.739490611130841, 0.7604252104846285, 0.7743829784516801, 0.7696497767370664, 0.7694724239092698, 0.7577679349628283, 0.7595638248689426, 0.732146248967819, 0.7729550732986686, 0.7769070482250416, 0.7938355456890179, 0.7090144802334519, 0.7614754521658801, 0.5, 0.7661869864308691, 0.7593955038741754, 0.7587474807842947, 0.7699729728143643, 0.7662460755349123, 0.7863918742818624, 0.7817503169536354, 0.7780647198601417, 0.7711862558413612, 0.7302987771206974, 0.7828680168300703, 0.7647807813282789, 0.7933046053689292, 0.774021386615741, 0.8083141775566068, 0.7898085603535963]}, {\"categories\": [\"0\", \"1\", \"2\", \"3\", \"4\", \"5\", \"6\", \"7\", \"8\", \"9\", \"10\", \"11\", \"12\", \"13\", \"14\", \"15\", \"16\", \"17\", \"18\", \"19\", \"20\", \"21\", \"22\", \"23\", \"24\", \"25\", \"26\", \"27\", \"28\", \"29\", \"30\", \"31\", \"32\", \"33\", \"34\", \"35\", \"36\", \"37\", \"38\", \"39\", \"41\", \"42\"], \"mode\": \"lines\", \"name\": \"balanced_accuracy_max\", \"stepped\": true, \"type\": \"scatter\", \"data\": [0.7663876731554501, 0.7802620657427856, 0.7802620657427856, 0.7802620657427856, 0.7879504405753869, 0.7879504405753869, 0.7879504405753869, 0.7879504405753869, 0.7879504405753869, 0.7879504405753869, 0.7879504405753869, 0.7879504405753869, 0.7879504405753869, 0.7879504405753869, 0.7879504405753869, 0.7879504405753869, 0.7879504405753869, 0.7879504405753869, 0.7879504405753869, 0.7879504405753869, 0.7879504405753869, 0.7879504405753869, 0.7938355456890179, 0.7938355456890179, 0.7938355456890179, 0.7938355456890179, 0.7938355456890179, 0.7938355456890179, 0.7938355456890179, 0.7938355456890179, 0.7938355456890179, 0.7938355456890179, 0.7938355456890179, 0.7938355456890179, 0.7938355456890179, 0.7938355456890179, 0.7938355456890179, 0.7938355456890179, 0.7938355456890179, 0.7938355456890179, 0.8083141775566068, 0.8083141775566068]}], \"average_precision_score_weighted\": [{\"categories\": [\"0\", \"1\", \"2\", \"3\", \"4\", \"5\", \"6\", \"7\", \"8\", \"9\", \"10\", \"11\", \"12\", \"13\", \"14\", \"15\", \"16\", \"17\", \"18\", \"19\", \"20\", \"21\", \"22\", \"23\", \"24\", \"25\", \"26\", \"27\", \"28\", \"29\", \"30\", \"31\", \"32\", \"33\", \"34\", \"35\", \"36\", \"37\", \"38\", \"39\", \"41\", \"42\"], \"mode\": \"markers\", \"name\": \"average_precision_score_weighted\", \"stepped\": false, \"type\": \"scatter\", \"data\": [0.8577584361582775, 0.869844220208552, 0.8550055357506903, 0.8420087666058024, 0.8582666129256701, 0.8580120685864214, 0.8137269042859376, 0.8429268067126943, 0.6337938021482211, 0.8374052309946128, 0.8624594241139025, 0.8461479686461155, 0.8382503090823551, 0.8165373867328656, 0.8510811292097791, 0.8471150466882703, 0.8394684976089742, 0.8409301965959801, 0.8500876544599708, 0.8275906588458191, 0.8448930246756522, 0.843022956355604, 0.8476125894592738, 0.8442321998582679, 0.836328983242212, 0.5279403836312236, 0.8416285296924491, 0.8333440621585119, 0.8450154965900719, 0.7970721739164258, 0.8354103804823773, 0.8541603989449631, 0.8410643453008154, 0.8557185445775851, 0.853223182437319, 0.839576315765449, 0.8583495968912582, 0.8407516830634632, 0.8561137809802447, 0.8419350561141122, 0.8634459412906675, 0.8660686010626838]}, {\"categories\": [\"0\", \"1\", \"2\", \"3\", \"4\", \"5\", \"6\", \"7\", \"8\", \"9\", \"10\", \"11\", \"12\", \"13\", \"14\", \"15\", \"16\", \"17\", \"18\", \"19\", \"20\", \"21\", \"22\", \"23\", \"24\", \"25\", \"26\", \"27\", \"28\", \"29\", \"30\", \"31\", \"32\", \"33\", \"34\", \"35\", \"36\", \"37\", \"38\", \"39\", \"41\", \"42\"], \"mode\": \"lines\", \"name\": \"average_precision_score_weighted_max\", \"stepped\": true, \"type\": \"scatter\", \"data\": [0.8577584361582775, 0.869844220208552, 0.869844220208552, 0.869844220208552, 0.869844220208552, 0.869844220208552, 0.869844220208552, 0.869844220208552, 0.869844220208552, 0.869844220208552, 0.869844220208552, 0.869844220208552, 0.869844220208552, 0.869844220208552, 0.869844220208552, 0.869844220208552, 0.869844220208552, 0.869844220208552, 0.869844220208552, 0.869844220208552, 0.869844220208552, 0.869844220208552, 0.869844220208552, 0.869844220208552, 0.869844220208552, 0.869844220208552, 0.869844220208552, 0.869844220208552, 0.869844220208552, 0.869844220208552, 0.869844220208552, 0.869844220208552, 0.869844220208552, 0.869844220208552, 0.869844220208552, 0.869844220208552, 0.869844220208552, 0.869844220208552, 0.869844220208552, 0.869844220208552, 0.869844220208552, 0.869844220208552]}], \"recall_score_macro\": [{\"categories\": [\"0\", \"1\", \"2\", \"3\", \"4\", \"5\", \"6\", \"7\", \"8\", \"9\", \"10\", \"11\", \"12\", \"13\", \"14\", \"15\", \"16\", \"17\", \"18\", \"19\", \"20\", \"21\", \"22\", \"23\", \"24\", \"25\", \"26\", \"27\", \"28\", \"29\", \"30\", \"31\", \"32\", \"33\", \"34\", \"35\", \"36\", \"37\", \"38\", \"39\", \"41\", \"42\"], \"mode\": \"markers\", \"name\": \"recall_score_macro\", \"stepped\": false, \"type\": \"scatter\", \"data\": [0.7663876731554501, 0.7802620657427856, 0.7772025111004948, 0.7795745865851028, 0.7879504405753869, 0.7793308049103814, 0.7677599371165694, 0.7619934402171857, 0.5919098822324629, 0.7600857508564793, 0.7842221407610195, 0.7723389758614081, 0.739490611130841, 0.7604252104846285, 0.7743829784516801, 0.7696497767370664, 0.7694724239092698, 0.7577679349628283, 0.7595638248689426, 0.732146248967819, 0.7729550732986686, 0.7769070482250416, 0.7938355456890179, 0.7090144802334519, 0.7614754521658801, 0.5, 0.7661869864308691, 0.7593955038741754, 0.7587474807842947, 0.7699729728143643, 0.7662460755349123, 0.7863918742818624, 0.7817503169536354, 0.7780647198601417, 0.7711862558413612, 0.7302987771206974, 0.7828680168300703, 0.7647807813282789, 0.7933046053689292, 0.774021386615741, 0.8083141775566068, 0.7898085603535963]}, {\"categories\": [\"0\", \"1\", \"2\", \"3\", \"4\", \"5\", \"6\", \"7\", \"8\", \"9\", \"10\", \"11\", \"12\", \"13\", \"14\", \"15\", \"16\", \"17\", \"18\", \"19\", \"20\", \"21\", \"22\", \"23\", \"24\", \"25\", \"26\", \"27\", \"28\", \"29\", \"30\", \"31\", \"32\", \"33\", \"34\", \"35\", \"36\", \"37\", \"38\", \"39\", \"41\", \"42\"], \"mode\": \"lines\", \"name\": \"recall_score_macro_max\", \"stepped\": true, \"type\": \"scatter\", \"data\": [0.7663876731554501, 0.7802620657427856, 0.7802620657427856, 0.7802620657427856, 0.7879504405753869, 0.7879504405753869, 0.7879504405753869, 0.7879504405753869, 0.7879504405753869, 0.7879504405753869, 0.7879504405753869, 0.7879504405753869, 0.7879504405753869, 0.7879504405753869, 0.7879504405753869, 0.7879504405753869, 0.7879504405753869, 0.7879504405753869, 0.7879504405753869, 0.7879504405753869, 0.7879504405753869, 0.7879504405753869, 0.7938355456890179, 0.7938355456890179, 0.7938355456890179, 0.7938355456890179, 0.7938355456890179, 0.7938355456890179, 0.7938355456890179, 0.7938355456890179, 0.7938355456890179, 0.7938355456890179, 0.7938355456890179, 0.7938355456890179, 0.7938355456890179, 0.7938355456890179, 0.7938355456890179, 0.7938355456890179, 0.7938355456890179, 0.7938355456890179, 0.8083141775566068, 0.8083141775566068]}], \"norm_macro_recall\": [{\"categories\": [\"0\", \"1\", \"2\", \"3\", \"4\", \"5\", \"6\", \"7\", \"8\", \"9\", \"10\", \"11\", \"12\", \"13\", \"14\", \"15\", \"16\", \"17\", \"18\", \"19\", \"20\", \"21\", \"22\", \"23\", \"24\", \"25\", \"26\", \"27\", \"28\", \"29\", \"30\", \"31\", \"32\", \"33\", \"34\", \"35\", \"36\", \"37\", \"38\", \"39\", \"41\", \"42\"], \"mode\": \"markers\", \"name\": \"norm_macro_recall\", \"stepped\": false, \"type\": \"scatter\", \"data\": [0.5327753463109004, 0.5605241314855711, 0.5544050222009896, 0.5591491731702054, 0.5759008811507739, 0.5586616098207627, 0.5355198742331387, 0.5239868804343714, 0.18381976446492576, 0.5201715017129588, 0.5684442815220391, 0.5446779517228161, 0.47898122226168205, 0.5208504209692569, 0.54876595690336, 0.5392995534741328, 0.5389448478185396, 0.5155358699256568, 0.5191276497378855, 0.4642924979356378, 0.5459101465973373, 0.5538140964500832, 0.5876710913780359, 0.418028960466904, 0.5229509043317603, 0.0, 0.5323739728617382, 0.5187910077483507, 0.5174949615685892, 0.5399459456287284, 0.5324921510698245, 0.5727837485637249, 0.5635006339072707, 0.5561294397202833, 0.5423725116827226, 0.4605975542413945, 0.5657360336601408, 0.5295615626565577, 0.5866092107378585, 0.5480427732314821, 0.6166283551132137, 0.5796171207071924]}, {\"categories\": [\"0\", \"1\", \"2\", \"3\", \"4\", \"5\", \"6\", \"7\", \"8\", \"9\", \"10\", \"11\", \"12\", \"13\", \"14\", \"15\", \"16\", \"17\", \"18\", \"19\", \"20\", \"21\", \"22\", \"23\", \"24\", \"25\", \"26\", \"27\", \"28\", \"29\", \"30\", \"31\", \"32\", \"33\", \"34\", \"35\", \"36\", \"37\", \"38\", \"39\", \"41\", \"42\"], \"mode\": \"lines\", \"name\": \"norm_macro_recall_max\", \"stepped\": true, \"type\": \"scatter\", \"data\": [0.5327753463109004, 0.5605241314855711, 0.5605241314855711, 0.5605241314855711, 0.5759008811507739, 0.5759008811507739, 0.5759008811507739, 0.5759008811507739, 0.5759008811507739, 0.5759008811507739, 0.5759008811507739, 0.5759008811507739, 0.5759008811507739, 0.5759008811507739, 0.5759008811507739, 0.5759008811507739, 0.5759008811507739, 0.5759008811507739, 0.5759008811507739, 0.5759008811507739, 0.5759008811507739, 0.5759008811507739, 0.5876710913780359, 0.5876710913780359, 0.5876710913780359, 0.5876710913780359, 0.5876710913780359, 0.5876710913780359, 0.5876710913780359, 0.5876710913780359, 0.5876710913780359, 0.5876710913780359, 0.5876710913780359, 0.5876710913780359, 0.5876710913780359, 0.5876710913780359, 0.5876710913780359, 0.5876710913780359, 0.5876710913780359, 0.5876710913780359, 0.6166283551132137, 0.6166283551132137]}], \"matthews_correlation\": [{\"categories\": [\"0\", \"1\", \"2\", \"3\", \"4\", \"5\", \"6\", \"7\", \"8\", \"9\", \"10\", \"11\", \"12\", \"13\", \"14\", \"15\", \"16\", \"17\", \"18\", \"19\", \"20\", \"21\", \"22\", \"23\", \"24\", \"25\", \"26\", \"27\", \"28\", \"29\", \"30\", \"31\", \"32\", \"33\", \"34\", \"35\", \"36\", \"37\", \"38\", \"39\", \"41\", \"42\"], \"mode\": \"markers\", \"name\": \"matthews_correlation\", \"stepped\": false, \"type\": \"scatter\", \"data\": [0.5440028669916473, 0.5869092880764009, 0.570137760295261, 0.569154906948281, 0.5752841639679579, 0.5735769996982304, 0.5652737134612915, 0.5386016069866116, 0.1905082618253298, 0.5377200579784969, 0.5810758071445254, 0.5600523989470644, 0.5508979300563356, 0.5538339639477738, 0.5684200336562656, 0.5697036186886013, 0.5596729371647212, 0.553654182825416, 0.5468170769602446, 0.5406683364088487, 0.5646901752529935, 0.5554388024054474, 0.6041377977092685, 0.48786284102720884, 0.5357205977751396, 0.0, 0.5246995189029211, 0.5079580342573068, 0.5093400683322216, 0.5452858082923497, 0.5561766930563833, 0.5744182732482724, 0.5840527868098674, 0.5788018103343414, 0.5667484094909113, 0.537966240206383, 0.5801358992574323, 0.5495747396480528, 0.6000465990102651, 0.5754509330807783, 0.6346070730036413, 0.6044244069442583]}, {\"categories\": [\"0\", \"1\", \"2\", \"3\", \"4\", \"5\", \"6\", \"7\", \"8\", \"9\", \"10\", \"11\", \"12\", \"13\", \"14\", \"15\", \"16\", \"17\", \"18\", \"19\", \"20\", \"21\", \"22\", \"23\", \"24\", \"25\", \"26\", \"27\", \"28\", \"29\", \"30\", \"31\", \"32\", \"33\", \"34\", \"35\", \"36\", \"37\", \"38\", \"39\", \"41\", \"42\"], \"mode\": \"lines\", \"name\": \"matthews_correlation_max\", \"stepped\": true, \"type\": \"scatter\", \"data\": [0.5440028669916473, 0.5869092880764009, 0.5869092880764009, 0.5869092880764009, 0.5869092880764009, 0.5869092880764009, 0.5869092880764009, 0.5869092880764009, 0.5869092880764009, 0.5869092880764009, 0.5869092880764009, 0.5869092880764009, 0.5869092880764009, 0.5869092880764009, 0.5869092880764009, 0.5869092880764009, 0.5869092880764009, 0.5869092880764009, 0.5869092880764009, 0.5869092880764009, 0.5869092880764009, 0.5869092880764009, 0.6041377977092685, 0.6041377977092685, 0.6041377977092685, 0.6041377977092685, 0.6041377977092685, 0.6041377977092685, 0.6041377977092685, 0.6041377977092685, 0.6041377977092685, 0.6041377977092685, 0.6041377977092685, 0.6041377977092685, 0.6041377977092685, 0.6041377977092685, 0.6041377977092685, 0.6041377977092685, 0.6041377977092685, 0.6041377977092685, 0.6346070730036413, 0.6346070730036413]}], \"weighted_accuracy\": [{\"categories\": [\"0\", \"1\", \"2\", \"3\", \"4\", \"5\", \"6\", \"7\", \"8\", \"9\", \"10\", \"11\", \"12\", \"13\", \"14\", \"15\", \"16\", \"17\", \"18\", \"19\", \"20\", \"21\", \"22\", \"23\", \"24\", \"25\", \"26\", \"27\", \"28\", \"29\", \"30\", \"31\", \"32\", \"33\", \"34\", \"35\", \"36\", \"37\", \"38\", \"39\", \"41\", \"42\"], \"mode\": \"markers\", \"name\": \"weighted_accuracy\", \"stepped\": false, \"type\": \"scatter\", \"data\": [0.8071732841121863, 0.8328467405870117, 0.8193206515243675, 0.8100096765633803, 0.8078476058749331, 0.8209692286359296, 0.825929637950149, 0.8057326314829959, 0.7553307728941098, 0.8092011873904476, 0.8220608950919615, 0.8146156818103961, 0.833098280973498, 0.8145464792090554, 0.8182503882770749, 0.8278396835632504, 0.8189362656688113, 0.8204742754482351, 0.817004268915198, 0.830596530247436, 0.8194456872580892, 0.8014699544072386, 0.8351506693432231, 0.8097199404767772, 0.8043532329402964, 0.7233423881241151, 0.7730240409566891, 0.7574078589397272, 0.7669895674610161, 0.8021752847214859, 0.8182421428602719, 0.8110525209781688, 0.8296845611127949, 0.8258094671491767, 0.8246460572815164, 0.8304185575256814, 0.82503774709473, 0.8123479474262808, 0.8320178816064617, 0.8257893193785785, 0.8493467922228329, 0.8387921616663551]}, {\"categories\": [\"0\", \"1\", \"2\", \"3\", \"4\", \"5\", \"6\", \"7\", \"8\", \"9\", \"10\", \"11\", \"12\", \"13\", \"14\", \"15\", \"16\", \"17\", \"18\", \"19\", \"20\", \"21\", \"22\", \"23\", \"24\", \"25\", \"26\", \"27\", \"28\", \"29\", \"30\", \"31\", \"32\", \"33\", \"34\", \"35\", \"36\", \"37\", \"38\", \"39\", \"41\", \"42\"], \"mode\": \"lines\", \"name\": \"weighted_accuracy_max\", \"stepped\": true, \"type\": \"scatter\", \"data\": [0.8071732841121863, 0.8328467405870117, 0.8328467405870117, 0.8328467405870117, 0.8328467405870117, 0.8328467405870117, 0.8328467405870117, 0.8328467405870117, 0.8328467405870117, 0.8328467405870117, 0.8328467405870117, 0.8328467405870117, 0.833098280973498, 0.833098280973498, 0.833098280973498, 0.833098280973498, 0.833098280973498, 0.833098280973498, 0.833098280973498, 0.833098280973498, 0.833098280973498, 0.833098280973498, 0.8351506693432231, 0.8351506693432231, 0.8351506693432231, 0.8351506693432231, 0.8351506693432231, 0.8351506693432231, 0.8351506693432231, 0.8351506693432231, 0.8351506693432231, 0.8351506693432231, 0.8351506693432231, 0.8351506693432231, 0.8351506693432231, 0.8351506693432231, 0.8351506693432231, 0.8351506693432231, 0.8351506693432231, 0.8351506693432231, 0.8493467922228329, 0.8493467922228329]}], \"log_loss\": [{\"categories\": [\"0\", \"1\", \"2\", \"3\", \"4\", \"5\", \"6\", \"7\", \"8\", \"9\", \"10\", \"11\", \"12\", \"13\", \"14\", \"15\", \"16\", \"17\", \"18\", \"19\", \"20\", \"21\", \"22\", \"23\", \"24\", \"25\", \"26\", \"27\", \"28\", \"29\", \"30\", \"31\", \"32\", \"33\", \"34\", \"35\", \"36\", \"37\", \"38\", \"39\", \"41\", \"42\"], \"mode\": \"markers\", \"name\": \"log_loss\", \"stepped\": false, \"type\": \"scatter\", \"data\": [0.4998363352915116, 0.4311231554949873, 0.4543099796652456, 0.4774478862711667, 0.4580543708713596, 0.46222033287790315, 0.4827030756743018, 0.4966055440968242, 0.6042492664221156, 0.4770386595004256, 0.44477360032935714, 0.46252420232231817, 0.514293483539782, 0.5081883518066995, 0.47630352382159485, 0.4654403462135009, 0.4580220427314323, 0.4735400385779947, 0.4663774705302055, 0.5204600146363089, 0.4584127111731615, 0.46983069607012157, 0.4576042227508596, 0.5269900920220173, 0.5102188714932184, 0.6651545936777012, 0.487542890954387, 0.5162527755209566, 0.4830414322823772, 1.5822285078821239, 0.4770562256180056, 0.4574548977190121, 0.4867466055610759, 0.45009811158438623, 0.4875238076825465, 0.4919635425957338, 0.4438228290622787, 0.47933182429658777, 0.444546276103575, 0.45986889461908587, 0.4411178538124789, 0.45167498223160907]}, {\"categories\": [\"0\", \"1\", \"2\", \"3\", \"4\", \"5\", \"6\", \"7\", \"8\", \"9\", \"10\", \"11\", \"12\", \"13\", \"14\", \"15\", \"16\", \"17\", \"18\", \"19\", \"20\", \"21\", \"22\", \"23\", \"24\", \"25\", \"26\", \"27\", \"28\", \"29\", \"30\", \"31\", \"32\", \"33\", \"34\", \"35\", \"36\", \"37\", \"38\", \"39\", \"41\", \"42\"], \"mode\": \"lines\", \"name\": \"log_loss_min\", \"stepped\": true, \"type\": \"scatter\", \"data\": [0.4998363352915116, 0.4311231554949873, 0.4311231554949873, 0.4311231554949873, 0.4311231554949873, 0.4311231554949873, 0.4311231554949873, 0.4311231554949873, 0.4311231554949873, 0.4311231554949873, 0.4311231554949873, 0.4311231554949873, 0.4311231554949873, 0.4311231554949873, 0.4311231554949873, 0.4311231554949873, 0.4311231554949873, 0.4311231554949873, 0.4311231554949873, 0.4311231554949873, 0.4311231554949873, 0.4311231554949873, 0.4311231554949873, 0.4311231554949873, 0.4311231554949873, 0.4311231554949873, 0.4311231554949873, 0.4311231554949873, 0.4311231554949873, 0.4311231554949873, 0.4311231554949873, 0.4311231554949873, 0.4311231554949873, 0.4311231554949873, 0.4311231554949873, 0.4311231554949873, 0.4311231554949873, 0.4311231554949873, 0.4311231554949873, 0.4311231554949873, 0.4311231554949873, 0.4311231554949873]}], \"precision_score_macro\": [{\"categories\": [\"0\", \"1\", \"2\", \"3\", \"4\", \"5\", \"6\", \"7\", \"8\", \"9\", \"10\", \"11\", \"12\", \"13\", \"14\", \"15\", \"16\", \"17\", \"18\", \"19\", \"20\", \"21\", \"22\", \"23\", \"24\", \"25\", \"26\", \"27\", \"28\", \"29\", \"30\", \"31\", \"32\", \"33\", \"34\", \"35\", \"36\", \"37\", \"38\", \"39\", \"41\", \"42\"], \"mode\": \"markers\", \"name\": \"precision_score_macro\", \"stepped\": false, \"type\": \"scatter\", \"data\": [0.7778292651817117, 0.8073870581234374, 0.7932382101973888, 0.7898502500027743, 0.7873952455973597, 0.7945750062980457, 0.7984373998110058, 0.7769572520049085, 0.4707353457542023, 0.7780006751995665, 0.7970674669349159, 0.7880359538557266, 0.8172564346318504, 0.7955423841991184, 0.7946131854244322, 0.8010618182883581, 0.7907332937452504, 0.7978754034631903, 0.7880950401082193, 0.8152891752612943, 0.7922304602717697, 0.7785673805062707, 0.8106599819494833, 0.7849803308436321, 0.7744913458076815, 0.3089780324737345, 0.7585923118147462, 0.7486850091996358, 0.7506579779212466, 0.7753808090905673, 0.790600280170135, 0.7880490957616093, 0.8027475515258615, 0.8013863539278544, 0.7961783872975321, 0.8142045667838597, 0.797460601830692, 0.7853569663733767, 0.8069067990179812, 0.8025003951318705, 0.8266115186604742, 0.8153190222873222]}, {\"categories\": [\"0\", \"1\", \"2\", \"3\", \"4\", \"5\", \"6\", \"7\", \"8\", \"9\", \"10\", \"11\", \"12\", \"13\", \"14\", \"15\", \"16\", \"17\", \"18\", \"19\", \"20\", \"21\", \"22\", \"23\", \"24\", \"25\", \"26\", \"27\", \"28\", \"29\", \"30\", \"31\", \"32\", \"33\", \"34\", \"35\", \"36\", \"37\", \"38\", \"39\", \"41\", \"42\"], \"mode\": \"lines\", \"name\": \"precision_score_macro_max\", \"stepped\": true, \"type\": \"scatter\", \"data\": [0.7778292651817117, 0.8073870581234374, 0.8073870581234374, 0.8073870581234374, 0.8073870581234374, 0.8073870581234374, 0.8073870581234374, 0.8073870581234374, 0.8073870581234374, 0.8073870581234374, 0.8073870581234374, 0.8073870581234374, 0.8172564346318504, 0.8172564346318504, 0.8172564346318504, 0.8172564346318504, 0.8172564346318504, 0.8172564346318504, 0.8172564346318504, 0.8172564346318504, 0.8172564346318504, 0.8172564346318504, 0.8172564346318504, 0.8172564346318504, 0.8172564346318504, 0.8172564346318504, 0.8172564346318504, 0.8172564346318504, 0.8172564346318504, 0.8172564346318504, 0.8172564346318504, 0.8172564346318504, 0.8172564346318504, 0.8172564346318504, 0.8172564346318504, 0.8172564346318504, 0.8172564346318504, 0.8172564346318504, 0.8172564346318504, 0.8172564346318504, 0.8266115186604742, 0.8266115186604742]}]}, \"metricName\": null, \"primaryMetricName\": \"accuracy\", \"showLegend\": false}, \"run_metrics\": [{\"name\": \"experiment_status\", \"run_id\": \"AutoML_6a7cdab9-3d16-4453-bf9a-f612a6904d93\", \"categories\": [0, 1, 2, 3, 4, 5, 6, 7, 8, 9, 10, 11, 12, 13], \"series\": [{\"data\": [\"DatasetEvaluation\", \"FeaturesGeneration\", \"DatasetFeaturization\", \"DatasetFeaturizationCompleted\", \"DatasetCrossValidationSplit\", \"ModelSelection\", \"BestRunExplainModel\", \"ModelExplanationDataSetSetup\", \"PickSurrogateModel\", \"EngineeredFeatureExplanations\", \"EngineeredFeatureExplanations\", \"RawFeaturesExplanations\", \"RawFeaturesExplanations\", \"BestRunExplainModel\"]}]}, {\"name\": \"experiment_status_description\", \"run_id\": \"AutoML_6a7cdab9-3d16-4453-bf9a-f612a6904d93\", \"categories\": [0, 1, 2, 3, 4, 5, 6, 7, 8, 9, 10, 11, 12, 13], \"series\": [{\"data\": [\"Gathering dataset statistics.\", \"Generating features for the dataset.\", \"Beginning to fit featurizers and featurize the dataset.\", \"Completed fit featurizers and featurizing the dataset.\", \"Generating individually featurized CV splits.\", \"Beginning model selection.\", \"Best run model explanations started\", \"Model explanations data setup completed\", \"Choosing LightGBM as the surrogate model for explanations\", \"Computation of engineered features started\", \"Computation of engineered features completed\", \"Computation of raw features started\", \"Computation of raw features completed\", \"Best run model explanations completed\"]}]}, {\"name\": \"matthews_correlation\", \"run_id\": \"AutoML_6a7cdab9-3d16-4453-bf9a-f612a6904d93\", \"categories\": [0], \"series\": [{\"data\": [0.6346070730036413]}]}, {\"name\": \"balanced_accuracy\", \"run_id\": \"AutoML_6a7cdab9-3d16-4453-bf9a-f612a6904d93\", \"categories\": [0], \"series\": [{\"data\": [0.8083141775566068]}]}, {\"name\": \"recall_score_micro\", \"run_id\": \"AutoML_6a7cdab9-3d16-4453-bf9a-f612a6904d93\", \"categories\": [0], \"series\": [{\"data\": [0.8299904489016238]}]}, {\"name\": \"log_loss\", \"run_id\": \"AutoML_6a7cdab9-3d16-4453-bf9a-f612a6904d93\", \"categories\": [0], \"series\": [{\"data\": [0.4411178538124789]}]}, {\"name\": \"average_precision_score_weighted\", \"run_id\": \"AutoML_6a7cdab9-3d16-4453-bf9a-f612a6904d93\", \"categories\": [0], \"series\": [{\"data\": [0.8634459412906675]}]}, {\"name\": \"recall_score_macro\", \"run_id\": \"AutoML_6a7cdab9-3d16-4453-bf9a-f612a6904d93\", \"categories\": [0], \"series\": [{\"data\": [0.8083141775566068]}]}, {\"name\": \"f1_score_macro\", \"run_id\": \"AutoML_6a7cdab9-3d16-4453-bf9a-f612a6904d93\", \"categories\": [0], \"series\": [{\"data\": [0.8149394176470709]}]}, {\"name\": \"AUC_macro\", \"run_id\": \"AutoML_6a7cdab9-3d16-4453-bf9a-f612a6904d93\", \"categories\": [0], \"series\": [{\"data\": [0.8613093423084832]}]}, {\"name\": \"precision_score_macro\", \"run_id\": \"AutoML_6a7cdab9-3d16-4453-bf9a-f612a6904d93\", \"categories\": [0], \"series\": [{\"data\": [0.8266115186604742]}]}, {\"name\": \"norm_macro_recall\", \"run_id\": \"AutoML_6a7cdab9-3d16-4453-bf9a-f612a6904d93\", \"categories\": [0], \"series\": [{\"data\": [0.6166283551132137]}]}, {\"name\": \"weighted_accuracy\", \"run_id\": \"AutoML_6a7cdab9-3d16-4453-bf9a-f612a6904d93\", \"categories\": [0], \"series\": [{\"data\": [0.8493467922228329]}]}, {\"name\": \"f1_score_weighted\", \"run_id\": \"AutoML_6a7cdab9-3d16-4453-bf9a-f612a6904d93\", \"categories\": [0], \"series\": [{\"data\": [0.8275378905254099]}]}, {\"name\": \"f1_score_micro\", \"run_id\": \"AutoML_6a7cdab9-3d16-4453-bf9a-f612a6904d93\", \"categories\": [0], \"series\": [{\"data\": [0.8299904489016238]}]}, {\"name\": \"precision_score_weighted\", \"run_id\": \"AutoML_6a7cdab9-3d16-4453-bf9a-f612a6904d93\", \"categories\": [0], \"series\": [{\"data\": [0.829556241723696]}]}, {\"name\": \"AUC_micro\", \"run_id\": \"AutoML_6a7cdab9-3d16-4453-bf9a-f612a6904d93\", \"categories\": [0], \"series\": [{\"data\": [0.8802226582704575]}]}, {\"name\": \"AUC_weighted\", \"run_id\": \"AutoML_6a7cdab9-3d16-4453-bf9a-f612a6904d93\", \"categories\": [0], \"series\": [{\"data\": [0.8613093423084832]}]}, {\"name\": \"precision_score_micro\", \"run_id\": \"AutoML_6a7cdab9-3d16-4453-bf9a-f612a6904d93\", \"categories\": [0], \"series\": [{\"data\": [0.8299904489016238]}]}, {\"name\": \"average_precision_score_macro\", \"run_id\": \"AutoML_6a7cdab9-3d16-4453-bf9a-f612a6904d93\", \"categories\": [0], \"series\": [{\"data\": [0.857179228953756]}]}, {\"name\": \"accuracy\", \"run_id\": \"AutoML_6a7cdab9-3d16-4453-bf9a-f612a6904d93\", \"categories\": [0], \"series\": [{\"data\": [0.8299904489016238]}]}, {\"name\": \"recall_score_weighted\", \"run_id\": \"AutoML_6a7cdab9-3d16-4453-bf9a-f612a6904d93\", \"categories\": [0], \"series\": [{\"data\": [0.8299904489016238]}]}, {\"name\": \"average_precision_score_micro\", \"run_id\": \"AutoML_6a7cdab9-3d16-4453-bf9a-f612a6904d93\", \"categories\": [0], \"series\": [{\"data\": [0.8709351998699634]}]}], \"run_logs\": \"\\nRun is completed.\", \"graph\": {}, \"widget_settings\": {\"childWidgetDisplay\": \"popup\", \"send_telemetry\": false, \"log_level\": \"INFO\", \"sdk_version\": \"1.20.0\"}, \"loading\": false}"
          },
          "metadata": {}
        }
      ],
      "execution_count": 22,
      "metadata": {
        "collapsed": true,
        "jupyter": {
          "source_hidden": false,
          "outputs_hidden": false
        },
        "nteract": {
          "transient": {
            "deleting": false
          }
        },
        "gather": {
          "logged": 1612605743855
        }
      }
    },
    {
      "cell_type": "code",
      "source": [
        "#Get generic outputs from the automl_run\r\n",
        "automl_run.get_output()"
      ],
      "outputs": [
        {
          "output_type": "stream",
          "name": "stderr",
          "text": [
            "WARNING:root:The version of the SDK does not match the version the model was trained on.\n",
            "WARNING:root:The consistency in the result may not be guaranteed.\n",
            "WARNING:root:Package:azureml-automl-core, training version:1.21.0, current version:1.20.0\n",
            "Package:azureml-automl-runtime, training version:1.21.0, current version:1.20.0\n",
            "Package:azureml-core, training version:1.21.0.post1, current version:1.20.0\n",
            "Package:azureml-dataprep, training version:2.8.2, current version:2.7.3\n",
            "Package:azureml-dataprep-native, training version:28.0.0, current version:27.0.0\n",
            "Package:azureml-dataprep-rslex, training version:1.6.0, current version:1.5.0\n",
            "Package:azureml-dataset-runtime, training version:1.21.0, current version:1.20.0\n",
            "Package:azureml-defaults, training version:1.21.0, current version:1.20.0\n",
            "Package:azureml-interpret, training version:1.21.0, current version:1.20.0\n",
            "Package:azureml-pipeline-core, training version:1.21.0, current version:1.20.0\n",
            "Package:azureml-telemetry, training version:1.21.0, current version:1.20.0\n",
            "Package:azureml-train-automl-client, training version:1.21.0, current version:1.20.0\n",
            "Package:azureml-train-automl-runtime, training version:1.21.0, current version:1.20.0\n",
            "WARNING:root:Please ensure the version of your local conda dependencies match the version on which your model was trained in order to properly retrieve your model.\n"
          ]
        },
        {
          "output_type": "execute_result",
          "execution_count": 23,
          "data": {
            "text/plain": "(Run(Experiment: automl-experiment-1,\n Id: AutoML_6a7cdab9-3d16-4453-bf9a-f612a6904d93_41,\n Type: azureml.scriptrun,\n Status: Completed),\n Pipeline(memory=None,\n          steps=[('datatransformer',\n                  DataTransformer(enable_dnn=None, enable_feature_sweeping=None,\n                                  feature_sweeping_config=None,\n                                  feature_sweeping_timeout=None,\n                                  featurization_config=None, force_text_dnn=None,\n                                  is_cross_validation=None,\n                                  is_onnx_compatible=None, logger=None,\n                                  observer=None, task=None, working_dir=None)),\n                 ('prefittedsoftvotingclassifier',...\n                                                                                                     min_samples_leaf=0.01,\n                                                                                                     min_samples_split=0.01,\n                                                                                                     min_weight_fraction_leaf=0.0,\n                                                                                                     n_estimators=25,\n                                                                                                     n_jobs=1,\n                                                                                                     oob_score=True,\n                                                                                                     random_state=None,\n                                                                                                     verbose=0,\n                                                                                                     warm_start=False))],\n                                                                      verbose=False))],\n                                                flatten_transform=None,\n                                                weights=[0.2727272727272727,\n                                                         0.09090909090909091,\n                                                         0.09090909090909091,\n                                                         0.18181818181818182,\n                                                         0.09090909090909091,\n                                                         0.09090909090909091,\n                                                         0.18181818181818182]))],\n          verbose=False))"
          },
          "metadata": {}
        }
      ],
      "execution_count": 23,
      "metadata": {
        "collapsed": true,
        "jupyter": {
          "source_hidden": false,
          "outputs_hidden": false
        },
        "nteract": {
          "transient": {
            "deleting": false
          }
        },
        "gather": {
          "logged": 1612605835972
        }
      }
    },
    {
      "cell_type": "code",
      "source": [
        "#Get the best model outputs\r\n",
        "best_automl_run, best_model = automl_run.get_output()\r\n"
      ],
      "outputs": [
        {
          "output_type": "stream",
          "name": "stderr",
          "text": [
            "WARNING:root:The version of the SDK does not match the version the model was trained on.\n",
            "WARNING:root:The consistency in the result may not be guaranteed.\n",
            "WARNING:root:Package:azureml-automl-core, training version:1.21.0, current version:1.20.0\n",
            "Package:azureml-automl-runtime, training version:1.21.0, current version:1.20.0\n",
            "Package:azureml-core, training version:1.21.0.post1, current version:1.20.0\n",
            "Package:azureml-dataprep, training version:2.8.2, current version:2.7.3\n",
            "Package:azureml-dataprep-native, training version:28.0.0, current version:27.0.0\n",
            "Package:azureml-dataprep-rslex, training version:1.6.0, current version:1.5.0\n",
            "Package:azureml-dataset-runtime, training version:1.21.0, current version:1.20.0\n",
            "Package:azureml-defaults, training version:1.21.0, current version:1.20.0\n",
            "Package:azureml-interpret, training version:1.21.0, current version:1.20.0\n",
            "Package:azureml-pipeline-core, training version:1.21.0, current version:1.20.0\n",
            "Package:azureml-telemetry, training version:1.21.0, current version:1.20.0\n",
            "Package:azureml-train-automl-client, training version:1.21.0, current version:1.20.0\n",
            "Package:azureml-train-automl-runtime, training version:1.21.0, current version:1.20.0\n",
            "WARNING:root:Please ensure the version of your local conda dependencies match the version on which your model was trained in order to properly retrieve your model.\n"
          ]
        }
      ],
      "execution_count": 24,
      "metadata": {
        "collapsed": true,
        "jupyter": {
          "source_hidden": false,
          "outputs_hidden": false
        },
        "nteract": {
          "transient": {
            "deleting": false
          }
        },
        "gather": {
          "logged": 1612605847936
        }
      }
    },
    {
      "cell_type": "code",
      "source": [
        "#Get the best model id\r\n",
        "print(best_automl_run.id)"
      ],
      "outputs": [
        {
          "output_type": "stream",
          "name": "stdout",
          "text": [
            "AutoML_6a7cdab9-3d16-4453-bf9a-f612a6904d93_41\n"
          ]
        }
      ],
      "execution_count": 25,
      "metadata": {
        "collapsed": true,
        "jupyter": {
          "source_hidden": false,
          "outputs_hidden": false
        },
        "nteract": {
          "transient": {
            "deleting": false
          }
        },
        "gather": {
          "logged": 1612605865570
        }
      }
    },
    {
      "cell_type": "code",
      "source": [
        "os.makedirs('outputs',exist_ok=True)"
      ],
      "outputs": [],
      "execution_count": 39,
      "metadata": {
        "collapsed": true,
        "jupyter": {
          "source_hidden": false,
          "outputs_hidden": false
        },
        "nteract": {
          "transient": {
            "deleting": false
          }
        },
        "gather": {
          "logged": 1612606662567
        }
      }
    },
    {
      "cell_type": "code",
      "source": [
        "#let's deploy since the automl is stronger thatn the hyperparametr model\r\n",
        "from azureml.core.model import Model\r\n",
        "from azureml.core.environment import Environment\r\n",
        "from azureml.core.model import InferenceConfig\r\n"
      ],
      "outputs": [],
      "execution_count": 40,
      "metadata": {
        "collapsed": true,
        "jupyter": {
          "source_hidden": false,
          "outputs_hidden": false
        },
        "nteract": {
          "transient": {
            "deleting": false
          }
        },
        "gather": {
          "logged": 1612606673494
        }
      }
    },
    {
      "cell_type": "code",
      "source": [
        "#Register your best model\r\n",
        "model = best_automl_run.register_model(model_name = \"best_run_automl.pkl\", model_path = './outputs/') \r\n",
        "\r\n",
        "#model = Model.register(workspace = ws,\r\n",
        " #                       model_path ='./outputs/' ,\r\n",
        "  #                      model_name = \"best_run_automl.pkl\")\r\n",
        "\r\n",
        "#model_path = '/odl_user_137436/outputs'\r\n",
        "#model = Model.register(workspace = ws ,model_name = \"best_run_automl.pkl\", model_path = model_path)\r\n",
        "\r\n",
        "#~/cloudfiles/code/Users/odl_user_137436/outputs"
      ],
      "outputs": [],
      "execution_count": 46,
      "metadata": {
        "collapsed": true,
        "jupyter": {
          "source_hidden": false,
          "outputs_hidden": false
        },
        "nteract": {
          "transient": {
            "deleting": false
          }
        },
        "gather": {
          "logged": 1612607155675
        }
      }
    },
    {
      "cell_type": "code",
      "source": [
        "model"
      ],
      "outputs": [
        {
          "output_type": "execute_result",
          "execution_count": 47,
          "data": {
            "text/plain": "Model(workspace=Workspace.create(name='quick-starts-ws-137436', subscription_id='510b94ba-e453-4417-988b-fbdc37b55ca7', resource_group='aml-quickstarts-137436'), name=best_run_automl.pkl, id=best_run_automl.pkl:1, version=1, tags={}, properties={})"
          },
          "metadata": {}
        }
      ],
      "execution_count": 47,
      "metadata": {
        "collapsed": true,
        "jupyter": {
          "source_hidden": false,
          "outputs_hidden": false
        },
        "nteract": {
          "transient": {
            "deleting": false
          }
        },
        "gather": {
          "logged": 1612607164556
        }
      }
    },
    {
      "cell_type": "code",
      "source": [
        "print(model.id)\r\n"
      ],
      "outputs": [
        {
          "output_type": "stream",
          "name": "stdout",
          "text": [
            "best_run_automl.pkl:1\n"
          ]
        }
      ],
      "execution_count": 48,
      "metadata": {
        "collapsed": true,
        "jupyter": {
          "source_hidden": false,
          "outputs_hidden": false
        },
        "nteract": {
          "transient": {
            "deleting": false
          }
        },
        "gather": {
          "logged": 1612607184067
        }
      }
    },
    {
      "cell_type": "code",
      "source": [
        "#Defining the deployment\r\n",
        "from azureml.core.webservice import AciWebservice"
      ],
      "outputs": [],
      "execution_count": 50,
      "metadata": {
        "collapsed": true,
        "jupyter": {
          "source_hidden": false,
          "outputs_hidden": false
        },
        "nteract": {
          "transient": {
            "deleting": false
          }
        },
        "gather": {
          "logged": 1612607402675
        }
      }
    },
    {
      "cell_type": "code",
      "source": [
        "aci_config = AciWebservice.deploy_configuration(cpu_cores=1, memory_gb=2,\r\n",
        "                                              enable_app_insights=True)"
      ],
      "outputs": [],
      "execution_count": 51,
      "metadata": {
        "collapsed": true,
        "jupyter": {
          "source_hidden": false,
          "outputs_hidden": false
        },
        "nteract": {
          "transient": {
            "deleting": false
          }
        },
        "gather": {
          "logged": 1612607413339
        }
      }
    },
    {
      "cell_type": "code",
      "source": [
        "#Generating the environment needed:\r\n",
        "env = best_automl_run.get_environment()"
      ],
      "outputs": [],
      "execution_count": 54,
      "metadata": {
        "collapsed": true,
        "jupyter": {
          "source_hidden": false,
          "outputs_hidden": false
        },
        "nteract": {
          "transient": {
            "deleting": false
          }
        },
        "gather": {
          "logged": 1612608089676
        }
      }
    },
    {
      "cell_type": "code",
      "source": [
        "for pip_package in [\"scikit-learn\"]:\r\n",
        "    env.python.conda_dependencies.add_pip_package(pip_package)\r\n",
        "\r\n",
        "inference_config = InferenceConfig(entry_script='score.py',environment=env)"
      ],
      "outputs": [],
      "execution_count": 55,
      "metadata": {
        "collapsed": true,
        "jupyter": {
          "source_hidden": false,
          "outputs_hidden": false
        },
        "nteract": {
          "transient": {
            "deleting": false
          }
        },
        "gather": {
          "logged": 1612608390530
        }
      }
    },
    {
      "cell_type": "code",
      "source": [
        "#service = model.deploy(Workspace=ws,name = 'titanic best model',models = [model],inference_config = inference_config, deployment_config=aci_config,overwrite=True)\r\n",
        "\r\n",
        "service_name = 'my-service-ml'\r\n",
        "\r\n",
        "service = Model.deploy(ws, service_name, [model], inference_config, deployment_config=aci_config)"
      ],
      "outputs": [],
      "execution_count": 59,
      "metadata": {
        "collapsed": true,
        "jupyter": {
          "source_hidden": false,
          "outputs_hidden": false
        },
        "nteract": {
          "transient": {
            "deleting": false
          }
        },
        "gather": {
          "logged": 1612608752014
        }
      }
    },
    {
      "cell_type": "code",
      "source": [
        "#check on service\r\n",
        "service"
      ],
      "outputs": [
        {
          "output_type": "execute_result",
          "execution_count": 60,
          "data": {
            "text/plain": "AciWebservice(workspace=Workspace.create(name='quick-starts-ws-137436', subscription_id='510b94ba-e453-4417-988b-fbdc37b55ca7', resource_group='aml-quickstarts-137436'), name=my-service-ml, image_id=None, compute_type=None, state=ACI, scoring_uri=Transitioning, tags=None, properties={}, created_by={})"
          },
          "metadata": {}
        }
      ],
      "execution_count": 60,
      "metadata": {
        "collapsed": true,
        "jupyter": {
          "source_hidden": false,
          "outputs_hidden": false
        },
        "nteract": {
          "transient": {
            "deleting": false
          }
        },
        "gather": {
          "logged": 1612608769798
        }
      }
    },
    {
      "cell_type": "code",
      "source": [
        "#Check on deployment status:\r\n",
        "service.wait_for_deployment(True)\r\n",
        "print(service.state)\r\n"
      ],
      "outputs": [],
      "execution_count": null,
      "metadata": {
        "collapsed": true,
        "jupyter": {
          "source_hidden": false,
          "outputs_hidden": false
        },
        "nteract": {
          "transient": {
            "deleting": false
          }
        }
      }
    },
    {
      "cell_type": "code",
      "source": [
        "#Now let's get the scoring URI:\r\n",
        "scoring_uri = service.scoring_uri\r\n",
        "scoring_uri"
      ],
      "outputs": [],
      "execution_count": null,
      "metadata": {
        "collapsed": true,
        "jupyter": {
          "source_hidden": false,
          "outputs_hidden": false
        },
        "nteract": {
          "transient": {
            "deleting": false
          }
        }
      }
    },
    {
      "cell_type": "code",
      "source": [
        "#let's test:\r\n",
        "scoring_uri = scoring_uri\r\n",
        "headers = {'Content-Type':'application/json'}\r\n",
        "\r\n",
        "test_data = json.dumps({'data':[{\r\n",
        "    'age':75,\r\n",
        "    'anaemia':0,\r\n",
        "    'creatinine_phosphokinase':582,\r\n",
        "    'diabetes':0,\r\n",
        "    'ejection_fraction':20,\r\n",
        "    'high_blood_pressure':1,\r\n",
        "    'platelets':265000,\r\n",
        "    'serum_creatinine':1.9,\r\n",
        "    'serum_sodium':130,\r\n",
        "    'sex':1,\r\n",
        "    'smoking':0,\r\n",
        "    'time':4}\r\n",
        "    ]\r\n",
        "        })\r\n",
        "\r\n",
        "test_data2 = json.dumps({'data':[{\r\n",
        "    'age':40,\r\n",
        "    'anaemia':0,\r\n",
        "    'creatinine_phosphokinase':321,\r\n",
        "    'diabetes':0,\r\n",
        "    'ejection_fraction':35,\r\n",
        "    'high_blood_pressure':0,\r\n",
        "    'platelets':265000,\r\n",
        "    'serum_creatinine':1,\r\n",
        "    'serum_sodium':130,\r\n",
        "    'sex':1,\r\n",
        "    'smoking':0,\r\n",
        "    'time':198}\r\n",
        "    ]\r\n",
        "        })\r\n",
        "\r\n",
        "\r\n",
        "response = requests.post(scoring_uri, data=test_data2, headers=headers)\r\n",
        "\r\n",
        "print(\"Result:\",response.text)"
      ],
      "outputs": [],
      "execution_count": null,
      "metadata": {
        "collapsed": true,
        "jupyter": {
          "source_hidden": false,
          "outputs_hidden": false
        },
        "nteract": {
          "transient": {
            "deleting": false
          }
        }
      }
    },
    {
      "cell_type": "markdown",
      "source": [
        "### The above code is not needed anymore; only the very next line will be then matched befores we submit the experiment"
      ],
      "metadata": {
        "nteract": {
          "transient": {
            "deleting": false
          }
        }
      }
    },
    {
      "cell_type": "markdown",
      "source": [
        "## Run Details\n",
        "\n",
        "OPTIONAL: Write about the different models trained and their performance. Why do you think some models did better than others?\n",
        "\n",
        "TODO: In the cell below, use the `RunDetails` widget to show the different experiments."
      ],
      "metadata": {}
    },
    {
      "cell_type": "code",
      "source": [
        "from azureml.widgets import RunDetails\n",
        "RunDetails(pipeline_run).show()"
      ],
      "outputs": [],
      "execution_count": null,
      "metadata": {
        "gather": {
          "logged": 1612085133959
        },
        "jupyter": {
          "outputs_hidden": false,
          "source_hidden": false
        },
        "nteract": {
          "transient": {
            "deleting": false
          }
        }
      }
    },
    {
      "cell_type": "code",
      "source": [
        "pipeline_run.wait_for_completion()"
      ],
      "outputs": [],
      "execution_count": null,
      "metadata": {
        "gather": {
          "logged": 1612086926119
        }
      }
    },
    {
      "cell_type": "markdown",
      "source": [
        "## Examine Results\n",
        "\n",
        "### Retrieve the metrics of all child runs\n",
        "Outputs of above run can be used as inputs of other steps in pipeline. In this tutorial, we will examine the outputs by retrieve output data and running some tests."
      ],
      "metadata": {}
    },
    {
      "cell_type": "code",
      "source": [
        "metrics_output = pipeline_run.get_pipeline_output(metrics_output_name)\n",
        "metrics_output"
      ],
      "outputs": [],
      "execution_count": null,
      "metadata": {
        "gather": {
          "logged": 1612087269821
        }
      }
    },
    {
      "cell_type": "code",
      "source": [
        "num_file_downloaded = metrics_output.download('.', show_progress=True)"
      ],
      "outputs": [],
      "execution_count": null,
      "metadata": {
        "gather": {
          "logged": 1612087300726
        }
      }
    },
    {
      "cell_type": "code",
      "source": [
        "import json\n",
        "with open(metrics_output._path_on_datastore) as f:\n",
        "    metrics_output_result = f.read()\n",
        "    \n",
        "deserialized_metrics_output = json.loads(metrics_output_result)\n",
        "df = pd.DataFrame(deserialized_metrics_output)\n",
        "df"
      ],
      "outputs": [],
      "execution_count": null,
      "metadata": {
        "gather": {
          "logged": 1612087307461
        }
      }
    },
    {
      "cell_type": "markdown",
      "source": [
        "## Best Model\n",
        "\n",
        "TODO: In the cell below, get the best model from the automl experiments and display all the properties of the model.\n",
        "\n"
      ],
      "metadata": {}
    },
    {
      "cell_type": "code",
      "source": [
        "# Retrieve best model from Pipeline Run\n",
        "best_model_output = pipeline_run.get_pipeline_output(best_model_output_name)\n",
        "num_file_downloaded = best_model_output.download('.', show_progress=True)"
      ],
      "outputs": [],
      "execution_count": null,
      "metadata": {
        "gather": {
          "logged": 1612087328730
        },
        "jupyter": {
          "outputs_hidden": false,
          "source_hidden": false
        },
        "nteract": {
          "transient": {
            "deleting": false
          }
        }
      }
    },
    {
      "cell_type": "code",
      "source": [
        "#TODO: Save the best model\n",
        "import pickle\n",
        "\n",
        "with open(best_model_output._path_on_datastore, \"rb\" ) as f:\n",
        "    best_model = pickle.load(f)\n",
        "best_model"
      ],
      "outputs": [],
      "execution_count": null,
      "metadata": {
        "gather": {
          "logged": 1612087350205
        },
        "jupyter": {
          "outputs_hidden": false,
          "source_hidden": false
        },
        "nteract": {
          "transient": {
            "deleting": false
          }
        }
      }
    },
    {
      "cell_type": "code",
      "source": [
        "best_model.steps"
      ],
      "outputs": [],
      "execution_count": null,
      "metadata": {
        "gather": {
          "logged": 1612087362075
        }
      }
    },
    {
      "cell_type": "markdown",
      "source": [
        "### Test the Model:"
      ],
      "metadata": {}
    },
    {
      "cell_type": "code",
      "source": [
        "from sklearn.metrics import confusion_matrix\n",
        "ypred = best_model.predict(x_test)\n",
        "cm = confusion_matrix(y_test, ypred)"
      ],
      "outputs": [],
      "execution_count": null,
      "metadata": {
        "gather": {
          "logged": 1612087383962
        }
      }
    },
    {
      "cell_type": "code",
      "source": [
        "pd.DataFrame(cm).style.background_gradient(cmap='Blues', low=0, high=0.9)"
      ],
      "outputs": [],
      "execution_count": null,
      "metadata": {
        "gather": {
          "logged": 1612087393337
        }
      }
    },
    {
      "cell_type": "code",
      "source": [
        "#Accuracy Test:\r\n",
        "(152 + 62) / (152 + 62 + 38+10)"
      ],
      "outputs": [],
      "execution_count": null,
      "metadata": {
        "collapsed": true,
        "jupyter": {
          "source_hidden": false,
          "outputs_hidden": false
        },
        "nteract": {
          "transient": {
            "deleting": false
          }
        },
        "gather": {
          "logged": 1612087466563
        }
      }
    },
    {
      "cell_type": "markdown",
      "source": [
        "## Model Deployment\n",
        "\n",
        "Remember you have to deploy only one of the two models you trained.. Perform the steps in the rest of this notebook only if you wish to deploy this model.\n",
        "\n",
        "TODO: In the cell below, register the model, create an inference config and deploy the model as a web service."
      ],
      "metadata": {}
    },
    {
      "cell_type": "code",
      "source": [
        "best_model"
      ],
      "outputs": [],
      "execution_count": null,
      "metadata": {
        "gather": {
          "logged": 1612090412353
        },
        "jupyter": {
          "outputs_hidden": false,
          "source_hidden": false
        },
        "nteract": {
          "transient": {
            "deleting": false
          }
        }
      }
    },
    {
      "cell_type": "markdown",
      "source": [
        "TODO: In the cell below, send a request to the web service you deployed to test it."
      ],
      "metadata": {
        "collapsed": true,
        "gather": {
          "logged": 1598431657736
        },
        "jupyter": {
          "outputs_hidden": false,
          "source_hidden": false
        },
        "nteract": {
          "transient": {
            "deleting": false
          }
        }
      }
    },
    {
      "cell_type": "code",
      "source": [
        "#help(best_model)\r\n",
        "dir(pipeline_run)"
      ],
      "outputs": [],
      "execution_count": null,
      "metadata": {
        "gather": {
          "logged": 1612091863719
        },
        "jupyter": {
          "outputs_hidden": false,
          "source_hidden": false
        },
        "nteract": {
          "transient": {
            "deleting": false
          }
        }
      }
    },
    {
      "cell_type": "code",
      "source": [
        "pipeline_run.experiment"
      ],
      "outputs": [],
      "execution_count": null,
      "metadata": {
        "collapsed": true,
        "jupyter": {
          "source_hidden": false,
          "outputs_hidden": false
        },
        "nteract": {
          "transient": {
            "deleting": false
          }
        },
        "gather": {
          "logged": 1612092169172
        }
      }
    },
    {
      "cell_type": "markdown",
      "source": [
        "TODO: In the cell below, print the logs of the web service and delete the service"
      ],
      "metadata": {
        "collapsed": true,
        "gather": {
          "logged": 1598432765711
        },
        "jupyter": {
          "outputs_hidden": false,
          "source_hidden": false
        },
        "nteract": {
          "transient": {
            "deleting": false
          }
        }
      }
    },
    {
      "cell_type": "code",
      "source": [],
      "outputs": [],
      "execution_count": null,
      "metadata": {
        "jupyter": {
          "outputs_hidden": false,
          "source_hidden": false
        },
        "nteract": {
          "transient": {
            "deleting": false
          }
        }
      }
    }
  ],
  "metadata": {
    "kernel_info": {
      "name": "python3"
    },
    "kernelspec": {
      "name": "python3",
      "language": "python",
      "display_name": "Python 3"
    },
    "language_info": {
      "name": "python",
      "version": "3.6.9",
      "mimetype": "text/x-python",
      "codemirror_mode": {
        "name": "ipython",
        "version": 3
      },
      "pygments_lexer": "ipython3",
      "nbconvert_exporter": "python",
      "file_extension": ".py"
    },
    "nteract": {
      "version": "nteract-front-end@1.0.0"
    }
  },
  "nbformat": 4,
  "nbformat_minor": 2
}