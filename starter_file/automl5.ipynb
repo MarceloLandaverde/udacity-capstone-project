{
  "cells": [
    {
      "cell_type": "markdown",
      "source": [
        "# Automated ML\n",
        "\n",
        "TODO: Import Dependencies. In the cell below, import all the dependencies that you will need to complete the project."
      ],
      "metadata": {}
    },
    {
      "cell_type": "code",
      "source": [
        "import logging\n",
        "import os\n",
        "import csv\n",
        "\n",
        "from matplotlib import pyplot as plt\n",
        "import numpy as np\n",
        "import pandas as pd\n",
        "from azureml.data.dataset_factory import TabularDatasetFactory\n",
        "import pkg_resources\n",
        "\n",
        "import azureml.core\n",
        "from azureml.core.experiment import Experiment\n",
        "from azureml.core.workspace import Workspace\n",
        "from azureml.train.automl import AutoMLConfig\n",
        "from azureml.core.dataset import Dataset\n",
        "\n",
        "from azureml.pipeline.steps import AutoMLStep\n",
        "\n",
        "# Check core SDK version number\n",
        "print(\"SDK version:\", azureml.core.VERSION)"
      ],
      "outputs": [
        {
          "output_type": "stream",
          "name": "stdout",
          "text": [
            "SDK version: 1.20.0\n"
          ]
        }
      ],
      "execution_count": 2,
      "metadata": {
        "gather": {
          "logged": 1612715210941
        },
        "jupyter": {
          "outputs_hidden": false,
          "source_hidden": false
        },
        "nteract": {
          "transient": {
            "deleting": false
          }
        }
      }
    },
    {
      "cell_type": "code",
      "source": [
        "#Testing the authentication using the Workspace method \"from_config\"\n",
        "Workspace.from_config()"
      ],
      "outputs": [
        {
          "output_type": "execute_result",
          "execution_count": 3,
          "data": {
            "text/plain": "Workspace.create(name='quick-starts-ws-137889', subscription_id='d4ad7261-832d-46b2-b093-22156001df5b', resource_group='aml-quickstarts-137889')"
          },
          "metadata": {}
        }
      ],
      "execution_count": 3,
      "metadata": {
        "gather": {
          "logged": 1612715217238
        }
      }
    },
    {
      "cell_type": "code",
      "source": [
        "#create workspace\r\n",
        "ws = Workspace.from_config()"
      ],
      "outputs": [],
      "execution_count": 4,
      "metadata": {
        "collapsed": true,
        "jupyter": {
          "source_hidden": false,
          "outputs_hidden": false
        },
        "nteract": {
          "transient": {
            "deleting": false
          }
        },
        "gather": {
          "logged": 1612715221230
        }
      }
    },
    {
      "cell_type": "markdown",
      "source": [
        "#original code:\n",
        "ws = Workspace.from_config()\n",
        "\n",
        "# choose a name for experiment\n",
        "experiment_name = 'your experiment name here'\n",
        "\n",
        "experiment=Experiment(ws, experiment_name)"
      ],
      "metadata": {
        "gather": {
          "logged": 1598423890461
        },
        "jupyter": {
          "outputs_hidden": false,
          "source_hidden": false
        },
        "nteract": {
          "transient": {
            "deleting": false
          }
        }
      }
    },
    {
      "cell_type": "code",
      "source": [
        "# Choose a name for the run history container in the workspace.\n",
        "# NOTE: update these to match your existing experiment name\n",
        "experiment_name = 'automl-experiment-1'\n",
        "project_folder = './pipeline-project'\n",
        "\n",
        "experiment = Experiment(ws, experiment_name)\n",
        "experiment"
      ],
      "outputs": [
        {
          "output_type": "execute_result",
          "execution_count": 5,
          "data": {
            "text/plain": "Experiment(Name: automl-experiment-1,\nWorkspace: quick-starts-ws-137889)",
            "text/html": "<table style=\"width:100%\"><tr><th>Name</th><th>Workspace</th><th>Report Page</th><th>Docs Page</th></tr><tr><td>automl-experiment-1</td><td>quick-starts-ws-137889</td><td><a href=\"https://ml.azure.com/experiments/automl-experiment-1?wsid=/subscriptions/d4ad7261-832d-46b2-b093-22156001df5b/resourcegroups/aml-quickstarts-137889/workspaces/quick-starts-ws-137889\" target=\"_blank\" rel=\"noopener\">Link to Azure Machine Learning studio</a></td><td><a href=\"https://docs.microsoft.com/en-us/python/api/azureml-core/azureml.core.experiment.Experiment?view=azure-ml-py\" target=\"_blank\" rel=\"noopener\">Link to Documentation</a></td></tr></table>"
          },
          "metadata": {}
        }
      ],
      "execution_count": 5,
      "metadata": {
        "gather": {
          "logged": 1612715253352
        }
      }
    },
    {
      "cell_type": "markdown",
      "source": [
        "## Dataset\n",
        "\n",
        "### Overview\n",
        "TODO: In this markdown cell, give an overview of the dataset you are using. Also mention the task you will be performing.\n",
        "\n",
        "\n",
        "TODO: Get data. In the cell below, write code to access the data you will be using in this project. Remember that the dataset needs to be external."
      ],
      "metadata": {}
    },
    {
      "cell_type": "code",
      "source": [
        "\n",
        "\n",
        "dataset = TabularDatasetFactory.from_delimited_files('https://www.openml.org/data/get_csv/16826755/phpMYEkMl')\n",
        "\n",
        "\n",
        "dataset = dataset.to_pandas_dataframe()\n",
        "dataset.describe()"
      ],
      "outputs": [
        {
          "output_type": "execute_result",
          "execution_count": 6,
          "data": {
            "text/plain": "            pclass     survived        sibsp        parch         fare\ncount  1309.000000  1309.000000  1309.000000  1309.000000  1308.000000\nmean      2.294882     0.381971     0.498854     0.385027    33.295479\nstd       0.837836     0.486055     1.041658     0.865560    51.758668\nmin       1.000000     0.000000     0.000000     0.000000     0.000000\n25%       2.000000     0.000000     0.000000     0.000000     7.895800\n50%       3.000000     0.000000     0.000000     0.000000    14.454200\n75%       3.000000     1.000000     1.000000     0.000000    31.275000\nmax       3.000000     1.000000     8.000000     9.000000   512.329200",
            "text/html": "<div>\n<style scoped>\n    .dataframe tbody tr th:only-of-type {\n        vertical-align: middle;\n    }\n\n    .dataframe tbody tr th {\n        vertical-align: top;\n    }\n\n    .dataframe thead th {\n        text-align: right;\n    }\n</style>\n<table border=\"1\" class=\"dataframe\">\n  <thead>\n    <tr style=\"text-align: right;\">\n      <th></th>\n      <th>pclass</th>\n      <th>survived</th>\n      <th>sibsp</th>\n      <th>parch</th>\n      <th>fare</th>\n    </tr>\n  </thead>\n  <tbody>\n    <tr>\n      <th>count</th>\n      <td>1309.000000</td>\n      <td>1309.000000</td>\n      <td>1309.000000</td>\n      <td>1309.000000</td>\n      <td>1308.000000</td>\n    </tr>\n    <tr>\n      <th>mean</th>\n      <td>2.294882</td>\n      <td>0.381971</td>\n      <td>0.498854</td>\n      <td>0.385027</td>\n      <td>33.295479</td>\n    </tr>\n    <tr>\n      <th>std</th>\n      <td>0.837836</td>\n      <td>0.486055</td>\n      <td>1.041658</td>\n      <td>0.865560</td>\n      <td>51.758668</td>\n    </tr>\n    <tr>\n      <th>min</th>\n      <td>1.000000</td>\n      <td>0.000000</td>\n      <td>0.000000</td>\n      <td>0.000000</td>\n      <td>0.000000</td>\n    </tr>\n    <tr>\n      <th>25%</th>\n      <td>2.000000</td>\n      <td>0.000000</td>\n      <td>0.000000</td>\n      <td>0.000000</td>\n      <td>7.895800</td>\n    </tr>\n    <tr>\n      <th>50%</th>\n      <td>3.000000</td>\n      <td>0.000000</td>\n      <td>0.000000</td>\n      <td>0.000000</td>\n      <td>14.454200</td>\n    </tr>\n    <tr>\n      <th>75%</th>\n      <td>3.000000</td>\n      <td>1.000000</td>\n      <td>1.000000</td>\n      <td>0.000000</td>\n      <td>31.275000</td>\n    </tr>\n    <tr>\n      <th>max</th>\n      <td>3.000000</td>\n      <td>1.000000</td>\n      <td>8.000000</td>\n      <td>9.000000</td>\n      <td>512.329200</td>\n    </tr>\n  </tbody>\n</table>\n</div>"
          },
          "metadata": {}
        }
      ],
      "execution_count": 6,
      "metadata": {
        "gather": {
          "logged": 1612715273960
        }
      }
    },
    {
      "cell_type": "code",
      "source": [
        "###Just in case:\n",
        "from azureml.core.compute import AmlCompute\n",
        "from azureml.core.compute import ComputeTarget\n",
        "from azureml.core.compute_target import ComputeTargetException\n",
        "\n",
        "# NOTE: update the cluster name to match the existing cluster\n",
        "# Choose a name for your CPU cluster\n",
        "amlcompute_cluster_name = \"auto-ml\"\n",
        "\n",
        "# Verify that cluster does not exist already\n",
        "try:\n",
        "    compute_target = ComputeTarget(workspace=ws, name=amlcompute_cluster_name)\n",
        "    print('Found existing cluster, use it.')\n",
        "except ComputeTargetException:\n",
        "    compute_config = AmlCompute.provisioning_configuration(vm_size='STANDARD_DS12_V2',# for GPU, use \"STANDARD_NC6\"\n",
        "                                                           #vm_priority = 'lowpriority', # optional\n",
        "                                                           min_nodes=1,\n",
        "                                                           max_nodes=6)\n",
        "    compute_target = ComputeTarget.create(ws, amlcompute_cluster_name, compute_config)\n",
        "\n",
        "compute_target.wait_for_completion(show_output=True)\n",
        "# For a more detailed view of current AmlCompute status, use get_status()."
      ],
      "outputs": [
        {
          "output_type": "stream",
          "name": "stdout",
          "text": [
            "Found existing cluster, use it.\n",
            "\n",
            "Running\n"
          ]
        }
      ],
      "execution_count": 7,
      "metadata": {
        "gather": {
          "logged": 1612715279141
        }
      }
    },
    {
      "cell_type": "markdown",
      "source": [
        "### Clean Data:"
      ],
      "metadata": {}
    },
    {
      "cell_type": "code",
      "source": [
        "from train import clean_data"
      ],
      "outputs": [],
      "execution_count": 8,
      "metadata": {
        "gather": {
          "logged": 1612715286987
        }
      }
    },
    {
      "cell_type": "code",
      "source": [
        "x, y = clean_data(dataset)"
      ],
      "outputs": [],
      "execution_count": 9,
      "metadata": {
        "gather": {
          "logged": 1612715287452
        }
      }
    },
    {
      "cell_type": "code",
      "source": [
        "from sklearn.preprocessing import StandardScaler"
      ],
      "outputs": [],
      "execution_count": 10,
      "metadata": {
        "gather": {
          "logged": 1612715287899
        }
      }
    },
    {
      "cell_type": "code",
      "source": [
        "# create scaler\n",
        "variables = x.columns.tolist()\n",
        "\n",
        "scaler = StandardScaler()\n",
        "scaler.fit(x[variables]) \n",
        "\n",
        "x = scaler.transform(x[variables])"
      ],
      "outputs": [],
      "execution_count": 11,
      "metadata": {
        "gather": {
          "logged": 1612715288526
        }
      }
    },
    {
      "cell_type": "code",
      "source": [
        "x = pd.DataFrame(x,columns=variables)\r\n"
      ],
      "outputs": [],
      "execution_count": 12,
      "metadata": {
        "collapsed": true,
        "jupyter": {
          "source_hidden": false,
          "outputs_hidden": false
        },
        "nteract": {
          "transient": {
            "deleting": false
          }
        },
        "gather": {
          "logged": 1612715290973
        }
      }
    },
    {
      "cell_type": "code",
      "source": [
        "from sklearn.model_selection import train_test_split\n",
        "\n",
        "x_train, x_test, y_train, y_test = train_test_split(x,y,\n",
        "                                                    test_size = 0.2,\n",
        "                                                    random_state=0)"
      ],
      "outputs": [],
      "execution_count": 13,
      "metadata": {
        "gather": {
          "logged": 1612715296118
        }
      }
    },
    {
      "cell_type": "code",
      "source": [
        "#bring them together them again\n",
        "dataset = pd.concat([x_train,y_train],axis=1)"
      ],
      "outputs": [],
      "execution_count": 14,
      "metadata": {
        "gather": {
          "logged": 1612715299552
        }
      }
    },
    {
      "cell_type": "code",
      "source": [
        "dataset.head()"
      ],
      "outputs": [
        {
          "output_type": "execute_result",
          "execution_count": 15,
          "data": {
            "text/plain": "        pclass       age     sibsp  parch      fare    age_NA  fare_NA  \\\n1118  0.841916 -0.349075 -0.479087 -0.445 -0.490240 -0.501432 -0.02765   \n44   -1.546098  0.891204 -0.479087 -0.445  1.956990 -0.501432 -0.02765   \n1072  0.841916 -0.116523 -0.479087 -0.445 -0.493947  1.994288 -0.02765   \n1130  0.841916 -0.891698 -0.479087 -0.445 -0.493141 -0.501432 -0.02765   \n574  -0.352091 -0.039005  0.481288 -0.445 -0.237445 -0.501432 -0.02765   \n\n      sex_male  cabin_Missing  cabin_Rare  embarked_Q  embarked_Rare  \\\n1118  0.743497       0.539377   -0.425920   -0.322040      -0.039118   \n44   -1.344995      -1.853992    2.347858   -0.322040      -0.039118   \n1072  0.743497       0.539377   -0.425920    3.105202      -0.039118   \n1130 -1.344995       0.539377   -0.425920   -0.322040      -0.039118   \n574   0.743497       0.539377   -0.425920   -0.322040      -0.039118   \n\n      embarked_S  title_Mr  title_Mrs  title_Rare  survived  \n1118    0.657394  0.852592   -0.42592   -0.274947         0  \n44     -1.521159 -1.172894   -0.42592   -0.274947         1  \n1072   -1.521159  0.852592   -0.42592   -0.274947         0  \n1130    0.657394 -1.172894   -0.42592   -0.274947         0  \n574     0.657394  0.852592   -0.42592   -0.274947         0  ",
            "text/html": "<div>\n<style scoped>\n    .dataframe tbody tr th:only-of-type {\n        vertical-align: middle;\n    }\n\n    .dataframe tbody tr th {\n        vertical-align: top;\n    }\n\n    .dataframe thead th {\n        text-align: right;\n    }\n</style>\n<table border=\"1\" class=\"dataframe\">\n  <thead>\n    <tr style=\"text-align: right;\">\n      <th></th>\n      <th>pclass</th>\n      <th>age</th>\n      <th>sibsp</th>\n      <th>parch</th>\n      <th>fare</th>\n      <th>age_NA</th>\n      <th>fare_NA</th>\n      <th>sex_male</th>\n      <th>cabin_Missing</th>\n      <th>cabin_Rare</th>\n      <th>embarked_Q</th>\n      <th>embarked_Rare</th>\n      <th>embarked_S</th>\n      <th>title_Mr</th>\n      <th>title_Mrs</th>\n      <th>title_Rare</th>\n      <th>survived</th>\n    </tr>\n  </thead>\n  <tbody>\n    <tr>\n      <th>1118</th>\n      <td>0.841916</td>\n      <td>-0.349075</td>\n      <td>-0.479087</td>\n      <td>-0.445</td>\n      <td>-0.490240</td>\n      <td>-0.501432</td>\n      <td>-0.02765</td>\n      <td>0.743497</td>\n      <td>0.539377</td>\n      <td>-0.425920</td>\n      <td>-0.322040</td>\n      <td>-0.039118</td>\n      <td>0.657394</td>\n      <td>0.852592</td>\n      <td>-0.42592</td>\n      <td>-0.274947</td>\n      <td>0</td>\n    </tr>\n    <tr>\n      <th>44</th>\n      <td>-1.546098</td>\n      <td>0.891204</td>\n      <td>-0.479087</td>\n      <td>-0.445</td>\n      <td>1.956990</td>\n      <td>-0.501432</td>\n      <td>-0.02765</td>\n      <td>-1.344995</td>\n      <td>-1.853992</td>\n      <td>2.347858</td>\n      <td>-0.322040</td>\n      <td>-0.039118</td>\n      <td>-1.521159</td>\n      <td>-1.172894</td>\n      <td>-0.42592</td>\n      <td>-0.274947</td>\n      <td>1</td>\n    </tr>\n    <tr>\n      <th>1072</th>\n      <td>0.841916</td>\n      <td>-0.116523</td>\n      <td>-0.479087</td>\n      <td>-0.445</td>\n      <td>-0.493947</td>\n      <td>1.994288</td>\n      <td>-0.02765</td>\n      <td>0.743497</td>\n      <td>0.539377</td>\n      <td>-0.425920</td>\n      <td>3.105202</td>\n      <td>-0.039118</td>\n      <td>-1.521159</td>\n      <td>0.852592</td>\n      <td>-0.42592</td>\n      <td>-0.274947</td>\n      <td>0</td>\n    </tr>\n    <tr>\n      <th>1130</th>\n      <td>0.841916</td>\n      <td>-0.891698</td>\n      <td>-0.479087</td>\n      <td>-0.445</td>\n      <td>-0.493141</td>\n      <td>-0.501432</td>\n      <td>-0.02765</td>\n      <td>-1.344995</td>\n      <td>0.539377</td>\n      <td>-0.425920</td>\n      <td>-0.322040</td>\n      <td>-0.039118</td>\n      <td>0.657394</td>\n      <td>-1.172894</td>\n      <td>-0.42592</td>\n      <td>-0.274947</td>\n      <td>0</td>\n    </tr>\n    <tr>\n      <th>574</th>\n      <td>-0.352091</td>\n      <td>-0.039005</td>\n      <td>0.481288</td>\n      <td>-0.445</td>\n      <td>-0.237445</td>\n      <td>-0.501432</td>\n      <td>-0.02765</td>\n      <td>0.743497</td>\n      <td>0.539377</td>\n      <td>-0.425920</td>\n      <td>-0.322040</td>\n      <td>-0.039118</td>\n      <td>0.657394</td>\n      <td>0.852592</td>\n      <td>-0.42592</td>\n      <td>-0.274947</td>\n      <td>0</td>\n    </tr>\n  </tbody>\n</table>\n</div>"
          },
          "metadata": {}
        }
      ],
      "execution_count": 15,
      "metadata": {
        "gather": {
          "logged": 1612715302811
        }
      }
    },
    {
      "cell_type": "code",
      "source": [
        "#To train the model we need a TabularDataset and not a dataframe, therefore the current df will be converterd \n",
        "#into a TabularDataset:\n",
        "\n",
        "#Convert the dataframe into a csv\n",
        "local_path = 'prepared.csv'\n",
        "\n",
        "#Save it locally\n",
        "dataset.to_csv(local_path,index=None)\n",
        "\n",
        "#Generate the a datastore object which is the the default datastore\n",
        "datastore = ws.get_default_datastore()"
      ],
      "outputs": [],
      "execution_count": 16,
      "metadata": {
        "gather": {
          "logged": 1612715307461
        }
      }
    },
    {
      "cell_type": "code",
      "source": [
        "#Upload the dataframe which was previosly converted into a csv\n",
        "datastore.upload(src_dir='.', target_path='data')"
      ],
      "outputs": [
        {
          "output_type": "stream",
          "name": "stdout",
          "text": [
            "Uploading an estimated of 21 files\n",
            "Target already exists. Skipping upload for data/.amlignore\n",
            "Target already exists. Skipping upload for data/.amlignore.amltmp\n",
            "Target already exists. Skipping upload for data/automl3.ipynb\n",
            "Target already exists. Skipping upload for data/automl3.ipynb.amltmp\n",
            "Target already exists. Skipping upload for data/hyperparameter_tuning.ipynb\n",
            "Target already exists. Skipping upload for data/prepared.csv\n",
            "Target already exists. Skipping upload for data/pre_preprocess.py\n",
            "Target already exists. Skipping upload for data/score.py\n",
            "Target already exists. Skipping upload for data/score.py.amltmp\n",
            "Target already exists. Skipping upload for data/train.py\n",
            "Target already exists. Skipping upload for data/.ipynb_aml_checkpoints/automl3-checkpoint2021-1-7-15-32-48.ipynb\n",
            "Target already exists. Skipping upload for data/__pycache__/pre_preprocess.cpython-36.pyc\n",
            "Target already exists. Skipping upload for data/__pycache__/train.cpython-36.pyc\n",
            "Uploading ./automl.log\n",
            "Uploaded ./automl.log, 1 files out of an estimated total of 19\n",
            "Uploading ./azureml_automl.log\n",
            "Uploaded ./azureml_automl.log, 2 files out of an estimated total of 17\n",
            "Uploading ./env.yml\n",
            "Uploaded ./env.yml, 3 files out of an estimated total of 17\n",
            "Uploading ./.ipynb_aml_checkpoints/automl3-checkpoint2021-1-7-15-53-36.ipynb\n",
            "Uploaded ./.ipynb_aml_checkpoints/automl3-checkpoint2021-1-7-15-53-36.ipynb, 4 files out of an estimated total of 10\n",
            "Uploading ./outputs/best_run_automl_2.pkl\n",
            "Uploaded ./outputs/best_run_automl_2.pkl, 5 files out of an estimated total of 10\n",
            "Uploading ./outputs/score_aml.py\n",
            "Uploaded ./outputs/score_aml.py, 6 files out of an estimated total of 10\n",
            "Uploading ./automl_errors.log\n",
            "Uploaded ./automl_errors.log, 7 files out of an estimated total of 17\n",
            "Uploading ./outputs/automl_driver.py\n",
            "Uploaded ./outputs/automl_driver.py, 8 files out of an estimated total of 10\n",
            "Uploaded 8 files\n"
          ]
        },
        {
          "output_type": "execute_result",
          "execution_count": 17,
          "data": {
            "text/plain": "$AZUREML_DATAREFERENCE_1dceef11c58048109999751130ae8ec5"
          },
          "metadata": {}
        }
      ],
      "execution_count": 17,
      "metadata": {
        "gather": {
          "logged": 1612715313495
        }
      }
    },
    {
      "cell_type": "code",
      "source": [
        "#For the sake of checking; check the path\n",
        "datastore.path()"
      ],
      "outputs": [
        {
          "output_type": "execute_result",
          "execution_count": 18,
          "data": {
            "text/plain": "$AZUREML_DATAREFERENCE_workspaceblobstore"
          },
          "metadata": {}
        }
      ],
      "execution_count": 18,
      "metadata": {
        "gather": {
          "logged": 1612715321134
        }
      }
    },
    {
      "cell_type": "code",
      "source": [
        "#Now the uploaded file will be transformed into a Tabular dataset and store in a varible named 'training_dataset'\n",
        "training_dataset = Dataset.Tabular.from_delimited_files(path= [(datastore,('data/prepared.csv'))])"
      ],
      "outputs": [],
      "execution_count": 19,
      "metadata": {
        "gather": {
          "logged": 1612715325325
        }
      }
    },
    {
      "cell_type": "code",
      "source": [
        "#let's visualize the data:\n",
        "training_dataset.to_pandas_dataframe().head()"
      ],
      "outputs": [
        {
          "output_type": "execute_result",
          "execution_count": 20,
          "data": {
            "text/plain": "     pclass       age     sibsp  parch      fare    age_NA  fare_NA  sex_male  \\\n0  0.841916 -0.349075 -0.479087 -0.445 -0.490240 -0.501432 -0.02765  0.743497   \n1 -1.546098  0.891204 -0.479087 -0.445  1.956990 -0.501432 -0.02765 -1.344995   \n2  0.841916 -0.116523 -0.479087 -0.445 -0.493947  1.994288 -0.02765  0.743497   \n3  0.841916 -0.891698 -0.479087 -0.445 -0.493141 -0.501432 -0.02765 -1.344995   \n4 -0.352091 -0.039005  0.481288 -0.445 -0.237445 -0.501432 -0.02765  0.743497   \n\n   cabin_Missing  cabin_Rare  embarked_Q  embarked_Rare  embarked_S  title_Mr  \\\n0       0.539377   -0.425920   -0.322040      -0.039118    0.657394  0.852592   \n1      -1.853992    2.347858   -0.322040      -0.039118   -1.521159 -1.172894   \n2       0.539377   -0.425920    3.105202      -0.039118   -1.521159  0.852592   \n3       0.539377   -0.425920   -0.322040      -0.039118    0.657394 -1.172894   \n4       0.539377   -0.425920   -0.322040      -0.039118    0.657394  0.852592   \n\n   title_Mrs  title_Rare  survived  \n0   -0.42592   -0.274947         0  \n1   -0.42592   -0.274947         1  \n2   -0.42592   -0.274947         0  \n3   -0.42592   -0.274947         0  \n4   -0.42592   -0.274947         0  ",
            "text/html": "<div>\n<style scoped>\n    .dataframe tbody tr th:only-of-type {\n        vertical-align: middle;\n    }\n\n    .dataframe tbody tr th {\n        vertical-align: top;\n    }\n\n    .dataframe thead th {\n        text-align: right;\n    }\n</style>\n<table border=\"1\" class=\"dataframe\">\n  <thead>\n    <tr style=\"text-align: right;\">\n      <th></th>\n      <th>pclass</th>\n      <th>age</th>\n      <th>sibsp</th>\n      <th>parch</th>\n      <th>fare</th>\n      <th>age_NA</th>\n      <th>fare_NA</th>\n      <th>sex_male</th>\n      <th>cabin_Missing</th>\n      <th>cabin_Rare</th>\n      <th>embarked_Q</th>\n      <th>embarked_Rare</th>\n      <th>embarked_S</th>\n      <th>title_Mr</th>\n      <th>title_Mrs</th>\n      <th>title_Rare</th>\n      <th>survived</th>\n    </tr>\n  </thead>\n  <tbody>\n    <tr>\n      <th>0</th>\n      <td>0.841916</td>\n      <td>-0.349075</td>\n      <td>-0.479087</td>\n      <td>-0.445</td>\n      <td>-0.490240</td>\n      <td>-0.501432</td>\n      <td>-0.02765</td>\n      <td>0.743497</td>\n      <td>0.539377</td>\n      <td>-0.425920</td>\n      <td>-0.322040</td>\n      <td>-0.039118</td>\n      <td>0.657394</td>\n      <td>0.852592</td>\n      <td>-0.42592</td>\n      <td>-0.274947</td>\n      <td>0</td>\n    </tr>\n    <tr>\n      <th>1</th>\n      <td>-1.546098</td>\n      <td>0.891204</td>\n      <td>-0.479087</td>\n      <td>-0.445</td>\n      <td>1.956990</td>\n      <td>-0.501432</td>\n      <td>-0.02765</td>\n      <td>-1.344995</td>\n      <td>-1.853992</td>\n      <td>2.347858</td>\n      <td>-0.322040</td>\n      <td>-0.039118</td>\n      <td>-1.521159</td>\n      <td>-1.172894</td>\n      <td>-0.42592</td>\n      <td>-0.274947</td>\n      <td>1</td>\n    </tr>\n    <tr>\n      <th>2</th>\n      <td>0.841916</td>\n      <td>-0.116523</td>\n      <td>-0.479087</td>\n      <td>-0.445</td>\n      <td>-0.493947</td>\n      <td>1.994288</td>\n      <td>-0.02765</td>\n      <td>0.743497</td>\n      <td>0.539377</td>\n      <td>-0.425920</td>\n      <td>3.105202</td>\n      <td>-0.039118</td>\n      <td>-1.521159</td>\n      <td>0.852592</td>\n      <td>-0.42592</td>\n      <td>-0.274947</td>\n      <td>0</td>\n    </tr>\n    <tr>\n      <th>3</th>\n      <td>0.841916</td>\n      <td>-0.891698</td>\n      <td>-0.479087</td>\n      <td>-0.445</td>\n      <td>-0.493141</td>\n      <td>-0.501432</td>\n      <td>-0.02765</td>\n      <td>-1.344995</td>\n      <td>0.539377</td>\n      <td>-0.425920</td>\n      <td>-0.322040</td>\n      <td>-0.039118</td>\n      <td>0.657394</td>\n      <td>-1.172894</td>\n      <td>-0.42592</td>\n      <td>-0.274947</td>\n      <td>0</td>\n    </tr>\n    <tr>\n      <th>4</th>\n      <td>-0.352091</td>\n      <td>-0.039005</td>\n      <td>0.481288</td>\n      <td>-0.445</td>\n      <td>-0.237445</td>\n      <td>-0.501432</td>\n      <td>-0.02765</td>\n      <td>0.743497</td>\n      <td>0.539377</td>\n      <td>-0.425920</td>\n      <td>-0.322040</td>\n      <td>-0.039118</td>\n      <td>0.657394</td>\n      <td>0.852592</td>\n      <td>-0.42592</td>\n      <td>-0.274947</td>\n      <td>0</td>\n    </tr>\n  </tbody>\n</table>\n</div>"
          },
          "metadata": {}
        }
      ],
      "execution_count": 20,
      "metadata": {
        "gather": {
          "logged": 1612715333876
        }
      }
    },
    {
      "cell_type": "markdown",
      "source": [
        "## AutoML Configuration\n",
        "\n",
        "TODO: Explain why you chose the automl settings and cofiguration you used below."
      ],
      "metadata": {}
    },
    {
      "cell_type": "code",
      "source": [
        "#Create the automl settings which will be used as argurments in the automl config\n",
        "automl_settings = {\n",
        "    \"experiment_timeout_minutes\": 20,\n",
        "    \"max_concurrent_iterations\": 5,\n",
        "    \"primary_metric\" : 'accuracy'\n",
        "}\n",
        "\n",
        "#Create the automl_config\n",
        "automl_config = AutoMLConfig(compute_target=compute_target,\n",
        "                             task = \"classification\",\n",
        "                             training_data=training_dataset,\n",
        "                             label_column_name=\"survived\",   \n",
        "                             path = project_folder,\n",
        "                             enable_early_stopping= True,\n",
        "                             featurization= 'auto',\n",
        "                             debug_log = \"automl_errors.log\",\n",
        "                             **automl_settings\n",
        "                            )"
      ],
      "outputs": [],
      "execution_count": 21,
      "metadata": {
        "gather": {
          "logged": 1612715343118
        }
      }
    },
    {
      "cell_type": "code",
      "source": [
        "#New one\n",
        "#Original code\n",
        "# TODO: Submit your experiment\n",
        "#remote_run = experiment.submit(automl_config)\n",
        "automl_run = experiment.submit(automl_config,show_output=True)"
      ],
      "outputs": [
        {
          "output_type": "stream",
          "name": "stdout",
          "text": [
            "Running on remote.\n",
            "No run_configuration provided, running on auto-ml with default configuration\n",
            "Running on remote compute: auto-ml\n",
            "Parent Run ID: AutoML_198f108e-08a7-4ea8-b191-e589efb0305d\n",
            "\n",
            "Current status: FeaturesGeneration. Generating features for the dataset.\n",
            "Current status: DatasetCrossValidationSplit. Generating individually featurized CV splits.\n",
            "Current status: ModelSelection. Beginning model selection.\n",
            "\n",
            "****************************************************************************************************\n",
            "DATA GUARDRAILS: \n",
            "\n",
            "TYPE:         Cross validation\n",
            "STATUS:       DONE\n",
            "DESCRIPTION:  Each iteration of the trained model was validated through cross-validation.\n",
            "              \n",
            "DETAILS:      \n",
            "+---------------------------------+\n",
            "|Number of folds                  |\n",
            "+=================================+\n",
            "|3                                |\n",
            "+---------------------------------+\n",
            "\n",
            "****************************************************************************************************\n",
            "\n",
            "TYPE:         Class balancing detection\n",
            "STATUS:       PASSED\n",
            "DESCRIPTION:  Your inputs were analyzed, and all classes are balanced in your training data.\n",
            "              Learn more about imbalanced data: https://aka.ms/AutomatedMLImbalancedData\n",
            "\n",
            "****************************************************************************************************\n",
            "\n",
            "TYPE:         Missing feature values imputation\n",
            "STATUS:       PASSED\n",
            "DESCRIPTION:  No feature missing values were detected in the training data.\n",
            "              Learn more about missing value imputation: https://aka.ms/AutomatedMLFeaturization\n",
            "\n",
            "****************************************************************************************************\n",
            "\n",
            "TYPE:         High cardinality feature detection\n",
            "STATUS:       PASSED\n",
            "DESCRIPTION:  Your inputs were analyzed, and no high cardinality features were detected.\n",
            "              Learn more about high cardinality feature handling: https://aka.ms/AutomatedMLFeaturization\n",
            "\n",
            "****************************************************************************************************\n",
            "\n",
            "****************************************************************************************************\n",
            "ITERATION: The iteration being evaluated.\n",
            "PIPELINE: A summary description of the pipeline being evaluated.\n",
            "DURATION: Time taken for the current iteration.\n",
            "METRIC: The result of computing score on the fitted pipeline.\n",
            "BEST: The best observed score thus far.\n",
            "****************************************************************************************************\n",
            "\n",
            " ITERATION   PIPELINE                                       DURATION      METRIC      BEST\n",
            "         0   MaxAbsScaler LightGBM                          0:00:53       0.7880    0.7880\n",
            "         1   MaxAbsScaler XGBoostClassifier                 0:00:55       0.8080    0.8080\n",
            "         2   MinMaxScaler RandomForest                      0:00:56       0.7947    0.8080\n",
            "         3   MinMaxScaler RandomForest                      0:01:00       0.7937    0.8080\n",
            "         4   MinMaxScaler RandomForest                      0:00:55       0.8023    0.8080\n",
            "         6   MinMaxScaler SVM                               0:00:50       0.7966    0.8080\n",
            "         7   SparseNormalizer XGBoostClassifier             0:00:54       0.7851    0.8080\n",
            "         8   RobustScaler SVM                               0:00:50       0.6772    0.8080\n",
            "         9   SparseNormalizer XGBoostClassifier             0:00:46       0.7861    0.8080\n",
            "         5   StandardScalerWrapper XGBoostClassifier        0:00:58       0.8061    0.8080\n",
            "        11   StandardScalerWrapper RandomForest             0:00:48       0.8013    0.8080\n",
            "        12   MaxAbsScaler LightGBM                          0:00:49       0.7889    0.8080\n",
            "        10   MaxAbsScaler GradientBoosting                  0:00:55       0.7918    0.8080\n",
            "        13   StandardScalerWrapper LightGBM                 0:00:52       0.7908    0.8080\n",
            "        14   StandardScalerWrapper LightGBM                 0:00:57       0.7975    0.8080\n",
            "        15   RobustScaler ExtremeRandomTrees                0:00:48       0.8032    0.8080\n",
            "        16   SparseNormalizer XGBoostClassifier             0:00:45       0.8042    0.8080\n",
            "        17   SparseNormalizer XGBoostClassifier             0:00:57       0.7937    0.8080\n",
            "        18   MaxAbsScaler LightGBM                          0:00:51       0.7937    0.8080\n",
            "        19   SparseNormalizer XGBoostClassifier             0:01:27       0.7937    0.8080\n",
            "        20   StandardScalerWrapper LightGBM                 0:00:56       0.7966    0.8080\n",
            "        21   RobustScaler LightGBM                          0:00:59       0.8052    0.8080\n",
            "        22   StandardScalerWrapper XGBoostClassifier        0:00:57       0.8061    0.8080\n",
            "        23   SparseNormalizer XGBoostClassifier             0:00:52       0.7889    0.8080\n",
            "        24   SparseNormalizer XGBoostClassifier             0:00:55       0.7947    0.8080\n",
            "        25   SparseNormalizer XGBoostClassifier             0:00:57       0.6180    0.8080\n",
            "        26   MaxAbsScaler ExtremeRandomTrees                0:00:56       0.7736    0.8080\n",
            "        27   StandardScalerWrapper ExtremeRandomTrees       0:00:52       0.7670    0.8080\n",
            "        28   RobustScaler LightGBM                          0:00:58       0.7966    0.8080\n",
            "        29   MinMaxScaler LightGBM                          0:00:59       0.7784    0.8080\n",
            "        30   StandardScalerWrapper XGBoostClassifier        0:00:53       0.7966    0.8080\n",
            "        32   StandardScalerWrapper LightGBM                 0:00:50       0.7870    0.8080\n",
            "        31   MaxAbsScaler LightGBM                          0:00:52       0.8013    0.8080\n",
            "        33   StandardScalerWrapper XGBoostClassifier        0:00:54       0.8099    0.8099\n",
            "        34   StandardScalerWrapper LightGBM                 0:00:51       0.7755    0.8099\n",
            "        35   StandardScalerWrapper XGBoostClassifier        0:00:50       0.7927    0.8099\n",
            "        36   StandardScalerWrapper XGBoostClassifier        0:00:51       0.8061    0.8099\n",
            "        37   RobustScaler KNN                               0:00:52       0.7870    0.8099\n",
            "        38   MinMaxScaler RandomForest                      0:00:53       0.7947    0.8099\n",
            "        39   MaxAbsScaler LightGBM                          0:00:49       0.7899    0.8099\n",
            "        40   StandardScalerWrapper XGBoostClassifier        0:00:47       0.8109    0.8109\n",
            "        41   StandardScalerWrapper RandomForest             0:00:53       0.7985    0.8109\n",
            "        42   RobustScaler LightGBM                          0:00:53       0.8013    0.8109\n",
            "        43   SparseNormalizer XGBoostClassifier             0:00:50       0.7966    0.8109\n",
            "        44   MinMaxScaler LightGBM                          0:00:50       0.8090    0.8109\n",
            "        45   StandardScalerWrapper XGBoostClassifier        0:00:52       0.8109    0.8109\n",
            "        46   RobustScaler RandomForest                      0:00:55       0.7956    0.8109\n",
            "        48   StandardScalerWrapper XGBoostClassifier        0:01:11       0.8080    0.8109\n",
            "        47   StandardScalerWrapper XGBoostClassifier        0:01:22       0.8090    0.8109\n",
            "        49   StandardScalerWrapper XGBoostClassifier        0:00:50       0.8157    0.8157\n",
            "        50   StandardScalerWrapper XGBoostClassifier        0:00:55       0.8052    0.8157\n",
            "        51   StandardScalerWrapper XGBoostClassifier        0:00:52       0.8099    0.8157\n",
            "        52   MinMaxScaler LightGBM                          0:01:04       0.8166    0.8166\n",
            "        53   StandardScalerWrapper RandomForest             0:00:59       0.8032    0.8166\n",
            "        54   StandardScalerWrapper XGBoostClassifier        0:00:56       0.8109    0.8166\n",
            "        55   StandardScalerWrapper XGBoostClassifier        0:00:52       0.7918    0.8166\n",
            "        56   StandardScalerWrapper RandomForest             0:00:59       0.7660    0.8166\n",
            "        57   StandardScalerWrapper LightGBM                 0:00:59       0.8052    0.8166\n",
            "        59   StandardScalerWrapper XGBoostClassifier        0:00:49       0.7880    0.8166\n",
            "        58   MinMaxScaler LightGBM                          0:01:12       0.7975    0.8166\n",
            "        60   MinMaxScaler LightGBM                          0:00:51       0.6762    0.8166\n",
            "        61   StandardScalerWrapper XGBoostClassifier        0:01:26       0.8080    0.8166\n",
            "        62   SparseNormalizer XGBoostClassifier             0:00:52       0.7985    0.8166\n",
            "        63   StandardScalerWrapper XGBoostClassifier        0:00:51       0.8071    0.8166\n",
            "        64   StandardScalerWrapper XGBoostClassifier        0:00:53       0.8090    0.8166\n",
            "        65   StandardScalerWrapper LightGBM                 0:00:54       0.8061    0.8166\n",
            "        67   StandardScalerWrapper XGBoostClassifier        0:00:47       0.8004    0.8166\n",
            "        66   StandardScalerWrapper RandomForest             0:00:56       0.7966    0.8166\n",
            "        68   StandardScalerWrapper XGBoostClassifier        0:00:50       0.7851    0.8166\n",
            "        69   StandardScalerWrapper XGBoostClassifier        0:00:43       0.8071    0.8166\n",
            "        70   MaxAbsScaler LightGBM                          0:00:33       0.8013    0.8166\n",
            "        71    VotingEnsemble                                0:01:47       0.8243    0.8243\n",
            "        72    StackEnsemble                                 0:01:52       0.8109    0.8243\n"
          ]
        }
      ],
      "execution_count": 22,
      "metadata": {
        "gather": {
          "logged": 1612716689612
        },
        "jupyter": {
          "outputs_hidden": false,
          "source_hidden": false
        },
        "nteract": {
          "transient": {
            "deleting": false
          }
        }
      }
    },
    {
      "cell_type": "code",
      "source": [
        "#Additional Run Details\r\n",
        "from azureml.widgets import RunDetails\r\n",
        "\r\n",
        "RunDetails(automl_run).show()"
      ],
      "outputs": [
        {
          "output_type": "display_data",
          "data": {
            "text/plain": "_AutoMLWidget(widget_settings={'childWidgetDisplay': 'popup', 'send_telemetry': False, 'log_level': 'INFO', 's…",
            "application/vnd.jupyter.widget-view+json": {
              "version_major": 2,
              "version_minor": 0,
              "model_id": "d8c3fcfdd0f445faaa644a3a6c0e49ab"
            }
          },
          "metadata": {}
        },
        {
          "output_type": "display_data",
          "data": {
            "application/aml.mini.widget.v1": "{\"status\": \"Completed\", \"workbench_run_details_uri\": \"https://ml.azure.com/experiments/automl-experiment-1/runs/AutoML_198f108e-08a7-4ea8-b191-e589efb0305d?wsid=/subscriptions/d4ad7261-832d-46b2-b093-22156001df5b/resourcegroups/aml-quickstarts-137889/workspaces/quick-starts-ws-137889\", \"run_id\": \"AutoML_198f108e-08a7-4ea8-b191-e589efb0305d\", \"run_properties\": {\"run_id\": \"AutoML_198f108e-08a7-4ea8-b191-e589efb0305d\", \"created_utc\": \"2021-02-07T16:29:10.709508Z\", \"properties\": {\"num_iterations\": \"1000\", \"training_type\": \"TrainFull\", \"acquisition_function\": \"EI\", \"primary_metric\": \"accuracy\", \"train_split\": \"0\", \"acquisition_parameter\": \"0\", \"num_cross_validation\": null, \"target\": \"auto-ml\", \"AMLSettingsJsonString\": \"{\\\"path\\\":null,\\\"name\\\":\\\"automl-experiment-1\\\",\\\"subscription_id\\\":\\\"d4ad7261-832d-46b2-b093-22156001df5b\\\",\\\"resource_group\\\":\\\"aml-quickstarts-137889\\\",\\\"workspace_name\\\":\\\"quick-starts-ws-137889\\\",\\\"region\\\":\\\"southcentralus\\\",\\\"compute_target\\\":\\\"auto-ml\\\",\\\"spark_service\\\":null,\\\"azure_service\\\":\\\"remote\\\",\\\"many_models\\\":false,\\\"pipeline_fetch_max_batch_size\\\":1,\\\"iterations\\\":1000,\\\"primary_metric\\\":\\\"accuracy\\\",\\\"task_type\\\":\\\"classification\\\",\\\"data_script\\\":null,\\\"validation_size\\\":0.0,\\\"n_cross_validations\\\":null,\\\"y_min\\\":null,\\\"y_max\\\":null,\\\"num_classes\\\":null,\\\"featurization\\\":\\\"auto\\\",\\\"_ignore_package_version_incompatibilities\\\":false,\\\"is_timeseries\\\":false,\\\"max_cores_per_iteration\\\":1,\\\"max_concurrent_iterations\\\":5,\\\"iteration_timeout_minutes\\\":null,\\\"mem_in_mb\\\":null,\\\"enforce_time_on_windows\\\":false,\\\"experiment_timeout_minutes\\\":20,\\\"experiment_exit_score\\\":null,\\\"whitelist_models\\\":null,\\\"blacklist_algos\\\":[\\\"TensorFlowLinearClassifier\\\",\\\"TensorFlowDNN\\\"],\\\"supported_models\\\":[\\\"ExtremeRandomTrees\\\",\\\"TensorFlowLinearClassifier\\\",\\\"LinearSVM\\\",\\\"RandomForest\\\",\\\"TensorFlowDNN\\\",\\\"KNN\\\",\\\"LightGBM\\\",\\\"SGD\\\",\\\"GradientBoosting\\\",\\\"LogisticRegression\\\",\\\"SVM\\\",\\\"XGBoostClassifier\\\",\\\"MultinomialNaiveBayes\\\",\\\"AveragedPerceptronClassifier\\\",\\\"DecisionTree\\\",\\\"BernoulliNaiveBayes\\\"],\\\"auto_blacklist\\\":true,\\\"blacklist_samples_reached\\\":false,\\\"exclude_nan_labels\\\":true,\\\"verbosity\\\":20,\\\"_debug_log\\\":\\\"azureml_automl.log\\\",\\\"show_warnings\\\":false,\\\"model_explainability\\\":true,\\\"service_url\\\":null,\\\"sdk_url\\\":null,\\\"sdk_packages\\\":null,\\\"enable_onnx_compatible_models\\\":false,\\\"enable_split_onnx_featurizer_estimator_models\\\":false,\\\"vm_type\\\":\\\"STANDARD_DS12_V2\\\",\\\"telemetry_verbosity\\\":20,\\\"send_telemetry\\\":true,\\\"enable_dnn\\\":false,\\\"scenario\\\":\\\"SDK-1.13.0\\\",\\\"environment_label\\\":null,\\\"force_text_dnn\\\":false,\\\"enable_feature_sweeping\\\":true,\\\"enable_early_stopping\\\":true,\\\"early_stopping_n_iters\\\":10,\\\"metrics\\\":null,\\\"enable_ensembling\\\":true,\\\"enable_stack_ensembling\\\":true,\\\"ensemble_iterations\\\":15,\\\"enable_tf\\\":false,\\\"enable_subsampling\\\":null,\\\"subsample_seed\\\":null,\\\"enable_nimbusml\\\":false,\\\"enable_streaming\\\":false,\\\"force_streaming\\\":false,\\\"track_child_runs\\\":true,\\\"allowed_private_models\\\":[],\\\"label_column_name\\\":\\\"survived\\\",\\\"weight_column_name\\\":null,\\\"cv_split_column_names\\\":null,\\\"enable_local_managed\\\":false,\\\"_local_managed_run_id\\\":null,\\\"cost_mode\\\":1,\\\"lag_length\\\":0,\\\"metric_operation\\\":\\\"maximize\\\",\\\"preprocess\\\":true}\", \"DataPrepJsonString\": \"{\\\\\\\"training_data\\\\\\\": \\\\\\\"{\\\\\\\\\\\\\\\"blocks\\\\\\\\\\\\\\\": [{\\\\\\\\\\\\\\\"id\\\\\\\\\\\\\\\": \\\\\\\\\\\\\\\"e96e0a4a-d3fa-4966-a218-bd84cbff5465\\\\\\\\\\\\\\\", \\\\\\\\\\\\\\\"type\\\\\\\\\\\\\\\": \\\\\\\\\\\\\\\"Microsoft.DPrep.GetDatastoreFilesBlock\\\\\\\\\\\\\\\", \\\\\\\\\\\\\\\"arguments\\\\\\\\\\\\\\\": {\\\\\\\\\\\\\\\"datastores\\\\\\\\\\\\\\\": [{\\\\\\\\\\\\\\\"datastoreName\\\\\\\\\\\\\\\": \\\\\\\\\\\\\\\"workspaceblobstore\\\\\\\\\\\\\\\", \\\\\\\\\\\\\\\"path\\\\\\\\\\\\\\\": \\\\\\\\\\\\\\\"data/prepared.csv\\\\\\\\\\\\\\\", \\\\\\\\\\\\\\\"resourceGroup\\\\\\\\\\\\\\\": \\\\\\\\\\\\\\\"aml-quickstarts-137889\\\\\\\\\\\\\\\", \\\\\\\\\\\\\\\"subscription\\\\\\\\\\\\\\\": \\\\\\\\\\\\\\\"d4ad7261-832d-46b2-b093-22156001df5b\\\\\\\\\\\\\\\", \\\\\\\\\\\\\\\"workspaceName\\\\\\\\\\\\\\\": \\\\\\\\\\\\\\\"quick-starts-ws-137889\\\\\\\\\\\\\\\"}]}, \\\\\\\\\\\\\\\"localData\\\\\\\\\\\\\\\": {}, \\\\\\\\\\\\\\\"isEnabled\\\\\\\\\\\\\\\": true, \\\\\\\\\\\\\\\"name\\\\\\\\\\\\\\\": null, \\\\\\\\\\\\\\\"annotation\\\\\\\\\\\\\\\": null}, {\\\\\\\\\\\\\\\"id\\\\\\\\\\\\\\\": \\\\\\\\\\\\\\\"1b083686-28ad-4e9b-914b-afe5b5a70ea0\\\\\\\\\\\\\\\", \\\\\\\\\\\\\\\"type\\\\\\\\\\\\\\\": \\\\\\\\\\\\\\\"Microsoft.DPrep.ParseDelimitedBlock\\\\\\\\\\\\\\\", \\\\\\\\\\\\\\\"arguments\\\\\\\\\\\\\\\": {\\\\\\\\\\\\\\\"columnHeadersMode\\\\\\\\\\\\\\\": 3, \\\\\\\\\\\\\\\"fileEncoding\\\\\\\\\\\\\\\": 0, \\\\\\\\\\\\\\\"handleQuotedLineBreaks\\\\\\\\\\\\\\\": false, \\\\\\\\\\\\\\\"preview\\\\\\\\\\\\\\\": false, \\\\\\\\\\\\\\\"separator\\\\\\\\\\\\\\\": \\\\\\\\\\\\\\\",\\\\\\\\\\\\\\\", \\\\\\\\\\\\\\\"skipRows\\\\\\\\\\\\\\\": 0, \\\\\\\\\\\\\\\"skipRowsMode\\\\\\\\\\\\\\\": 0}, \\\\\\\\\\\\\\\"localData\\\\\\\\\\\\\\\": {}, \\\\\\\\\\\\\\\"isEnabled\\\\\\\\\\\\\\\": true, \\\\\\\\\\\\\\\"name\\\\\\\\\\\\\\\": null, \\\\\\\\\\\\\\\"annotation\\\\\\\\\\\\\\\": null}, {\\\\\\\\\\\\\\\"id\\\\\\\\\\\\\\\": \\\\\\\\\\\\\\\"b2e6ddd5-d5fa-467e-b3f6-fc1320e8429e\\\\\\\\\\\\\\\", \\\\\\\\\\\\\\\"type\\\\\\\\\\\\\\\": \\\\\\\\\\\\\\\"Microsoft.DPrep.DropColumnsBlock\\\\\\\\\\\\\\\", \\\\\\\\\\\\\\\"arguments\\\\\\\\\\\\\\\": {\\\\\\\\\\\\\\\"columns\\\\\\\\\\\\\\\": {\\\\\\\\\\\\\\\"type\\\\\\\\\\\\\\\": 0, \\\\\\\\\\\\\\\"details\\\\\\\\\\\\\\\": {\\\\\\\\\\\\\\\"selectedColumns\\\\\\\\\\\\\\\": [\\\\\\\\\\\\\\\"Path\\\\\\\\\\\\\\\"]}}}, \\\\\\\\\\\\\\\"localData\\\\\\\\\\\\\\\": {}, \\\\\\\\\\\\\\\"isEnabled\\\\\\\\\\\\\\\": true, \\\\\\\\\\\\\\\"name\\\\\\\\\\\\\\\": null, \\\\\\\\\\\\\\\"annotation\\\\\\\\\\\\\\\": null}, {\\\\\\\\\\\\\\\"id\\\\\\\\\\\\\\\": \\\\\\\\\\\\\\\"edc221c5-80b6-4eaa-a0f5-d8e398219cf5\\\\\\\\\\\\\\\", \\\\\\\\\\\\\\\"type\\\\\\\\\\\\\\\": \\\\\\\\\\\\\\\"Microsoft.DPrep.SetColumnTypesBlock\\\\\\\\\\\\\\\", \\\\\\\\\\\\\\\"arguments\\\\\\\\\\\\\\\": {\\\\\\\\\\\\\\\"columnConversion\\\\\\\\\\\\\\\": [{\\\\\\\\\\\\\\\"column\\\\\\\\\\\\\\\": {\\\\\\\\\\\\\\\"type\\\\\\\\\\\\\\\": 2, \\\\\\\\\\\\\\\"details\\\\\\\\\\\\\\\": {\\\\\\\\\\\\\\\"selectedColumn\\\\\\\\\\\\\\\": \\\\\\\\\\\\\\\"pclass\\\\\\\\\\\\\\\"}}, \\\\\\\\\\\\\\\"typeProperty\\\\\\\\\\\\\\\": 3}, {\\\\\\\\\\\\\\\"column\\\\\\\\\\\\\\\": {\\\\\\\\\\\\\\\"type\\\\\\\\\\\\\\\": 2, \\\\\\\\\\\\\\\"details\\\\\\\\\\\\\\\": {\\\\\\\\\\\\\\\"selectedColumn\\\\\\\\\\\\\\\": \\\\\\\\\\\\\\\"age\\\\\\\\\\\\\\\"}}, \\\\\\\\\\\\\\\"typeProperty\\\\\\\\\\\\\\\": 3}, {\\\\\\\\\\\\\\\"column\\\\\\\\\\\\\\\": {\\\\\\\\\\\\\\\"type\\\\\\\\\\\\\\\": 2, \\\\\\\\\\\\\\\"details\\\\\\\\\\\\\\\": {\\\\\\\\\\\\\\\"selectedColumn\\\\\\\\\\\\\\\": \\\\\\\\\\\\\\\"sibsp\\\\\\\\\\\\\\\"}}, \\\\\\\\\\\\\\\"typeProperty\\\\\\\\\\\\\\\": 3}, {\\\\\\\\\\\\\\\"column\\\\\\\\\\\\\\\": {\\\\\\\\\\\\\\\"type\\\\\\\\\\\\\\\": 2, \\\\\\\\\\\\\\\"details\\\\\\\\\\\\\\\": {\\\\\\\\\\\\\\\"selectedColumn\\\\\\\\\\\\\\\": \\\\\\\\\\\\\\\"parch\\\\\\\\\\\\\\\"}}, \\\\\\\\\\\\\\\"typeProperty\\\\\\\\\\\\\\\": 3}, {\\\\\\\\\\\\\\\"column\\\\\\\\\\\\\\\": {\\\\\\\\\\\\\\\"type\\\\\\\\\\\\\\\": 2, \\\\\\\\\\\\\\\"details\\\\\\\\\\\\\\\": {\\\\\\\\\\\\\\\"selectedColumn\\\\\\\\\\\\\\\": \\\\\\\\\\\\\\\"fare\\\\\\\\\\\\\\\"}}, \\\\\\\\\\\\\\\"typeProperty\\\\\\\\\\\\\\\": 3}, {\\\\\\\\\\\\\\\"column\\\\\\\\\\\\\\\": {\\\\\\\\\\\\\\\"type\\\\\\\\\\\\\\\": 2, \\\\\\\\\\\\\\\"details\\\\\\\\\\\\\\\": {\\\\\\\\\\\\\\\"selectedColumn\\\\\\\\\\\\\\\": \\\\\\\\\\\\\\\"age_NA\\\\\\\\\\\\\\\"}}, \\\\\\\\\\\\\\\"typeProperty\\\\\\\\\\\\\\\": 3}, {\\\\\\\\\\\\\\\"column\\\\\\\\\\\\\\\": {\\\\\\\\\\\\\\\"type\\\\\\\\\\\\\\\": 2, \\\\\\\\\\\\\\\"details\\\\\\\\\\\\\\\": {\\\\\\\\\\\\\\\"selectedColumn\\\\\\\\\\\\\\\": \\\\\\\\\\\\\\\"fare_NA\\\\\\\\\\\\\\\"}}, \\\\\\\\\\\\\\\"typeProperty\\\\\\\\\\\\\\\": 3}, {\\\\\\\\\\\\\\\"column\\\\\\\\\\\\\\\": {\\\\\\\\\\\\\\\"type\\\\\\\\\\\\\\\": 2, \\\\\\\\\\\\\\\"details\\\\\\\\\\\\\\\": {\\\\\\\\\\\\\\\"selectedColumn\\\\\\\\\\\\\\\": \\\\\\\\\\\\\\\"sex_male\\\\\\\\\\\\\\\"}}, \\\\\\\\\\\\\\\"typeProperty\\\\\\\\\\\\\\\": 3}, {\\\\\\\\\\\\\\\"column\\\\\\\\\\\\\\\": {\\\\\\\\\\\\\\\"type\\\\\\\\\\\\\\\": 2, \\\\\\\\\\\\\\\"details\\\\\\\\\\\\\\\": {\\\\\\\\\\\\\\\"selectedColumn\\\\\\\\\\\\\\\": \\\\\\\\\\\\\\\"cabin_Missing\\\\\\\\\\\\\\\"}}, \\\\\\\\\\\\\\\"typeProperty\\\\\\\\\\\\\\\": 3}, {\\\\\\\\\\\\\\\"column\\\\\\\\\\\\\\\": {\\\\\\\\\\\\\\\"type\\\\\\\\\\\\\\\": 2, \\\\\\\\\\\\\\\"details\\\\\\\\\\\\\\\": {\\\\\\\\\\\\\\\"selectedColumn\\\\\\\\\\\\\\\": \\\\\\\\\\\\\\\"cabin_Rare\\\\\\\\\\\\\\\"}}, \\\\\\\\\\\\\\\"typeProperty\\\\\\\\\\\\\\\": 3}, {\\\\\\\\\\\\\\\"column\\\\\\\\\\\\\\\": {\\\\\\\\\\\\\\\"type\\\\\\\\\\\\\\\": 2, \\\\\\\\\\\\\\\"details\\\\\\\\\\\\\\\": {\\\\\\\\\\\\\\\"selectedColumn\\\\\\\\\\\\\\\": \\\\\\\\\\\\\\\"embarked_Q\\\\\\\\\\\\\\\"}}, \\\\\\\\\\\\\\\"typeProperty\\\\\\\\\\\\\\\": 3}, {\\\\\\\\\\\\\\\"column\\\\\\\\\\\\\\\": {\\\\\\\\\\\\\\\"type\\\\\\\\\\\\\\\": 2, \\\\\\\\\\\\\\\"details\\\\\\\\\\\\\\\": {\\\\\\\\\\\\\\\"selectedColumn\\\\\\\\\\\\\\\": \\\\\\\\\\\\\\\"embarked_Rare\\\\\\\\\\\\\\\"}}, \\\\\\\\\\\\\\\"typeProperty\\\\\\\\\\\\\\\": 3}, {\\\\\\\\\\\\\\\"column\\\\\\\\\\\\\\\": {\\\\\\\\\\\\\\\"type\\\\\\\\\\\\\\\": 2, \\\\\\\\\\\\\\\"details\\\\\\\\\\\\\\\": {\\\\\\\\\\\\\\\"selectedColumn\\\\\\\\\\\\\\\": \\\\\\\\\\\\\\\"embarked_S\\\\\\\\\\\\\\\"}}, \\\\\\\\\\\\\\\"typeProperty\\\\\\\\\\\\\\\": 3}, {\\\\\\\\\\\\\\\"column\\\\\\\\\\\\\\\": {\\\\\\\\\\\\\\\"type\\\\\\\\\\\\\\\": 2, \\\\\\\\\\\\\\\"details\\\\\\\\\\\\\\\": {\\\\\\\\\\\\\\\"selectedColumn\\\\\\\\\\\\\\\": \\\\\\\\\\\\\\\"title_Mr\\\\\\\\\\\\\\\"}}, \\\\\\\\\\\\\\\"typeProperty\\\\\\\\\\\\\\\": 3}, {\\\\\\\\\\\\\\\"column\\\\\\\\\\\\\\\": {\\\\\\\\\\\\\\\"type\\\\\\\\\\\\\\\": 2, \\\\\\\\\\\\\\\"details\\\\\\\\\\\\\\\": {\\\\\\\\\\\\\\\"selectedColumn\\\\\\\\\\\\\\\": \\\\\\\\\\\\\\\"title_Mrs\\\\\\\\\\\\\\\"}}, \\\\\\\\\\\\\\\"typeProperty\\\\\\\\\\\\\\\": 3}, {\\\\\\\\\\\\\\\"column\\\\\\\\\\\\\\\": {\\\\\\\\\\\\\\\"type\\\\\\\\\\\\\\\": 2, \\\\\\\\\\\\\\\"details\\\\\\\\\\\\\\\": {\\\\\\\\\\\\\\\"selectedColumn\\\\\\\\\\\\\\\": \\\\\\\\\\\\\\\"title_Rare\\\\\\\\\\\\\\\"}}, \\\\\\\\\\\\\\\"typeProperty\\\\\\\\\\\\\\\": 3}, {\\\\\\\\\\\\\\\"column\\\\\\\\\\\\\\\": {\\\\\\\\\\\\\\\"type\\\\\\\\\\\\\\\": 2, \\\\\\\\\\\\\\\"details\\\\\\\\\\\\\\\": {\\\\\\\\\\\\\\\"selectedColumn\\\\\\\\\\\\\\\": \\\\\\\\\\\\\\\"survived\\\\\\\\\\\\\\\"}}, \\\\\\\\\\\\\\\"typeProperty\\\\\\\\\\\\\\\": 2}]}, \\\\\\\\\\\\\\\"localData\\\\\\\\\\\\\\\": {}, \\\\\\\\\\\\\\\"isEnabled\\\\\\\\\\\\\\\": true, \\\\\\\\\\\\\\\"name\\\\\\\\\\\\\\\": null, \\\\\\\\\\\\\\\"annotation\\\\\\\\\\\\\\\": null}], \\\\\\\\\\\\\\\"inspectors\\\\\\\\\\\\\\\": [], \\\\\\\\\\\\\\\"meta\\\\\\\\\\\\\\\": {\\\\\\\\\\\\\\\"savedDatasetId\\\\\\\\\\\\\\\": \\\\\\\\\\\\\\\"8421dd5f-149d-490c-8156-8c0a2d886846\\\\\\\\\\\\\\\", \\\\\\\\\\\\\\\"datasetType\\\\\\\\\\\\\\\": \\\\\\\\\\\\\\\"tabular\\\\\\\\\\\\\\\", \\\\\\\\\\\\\\\"subscriptionId\\\\\\\\\\\\\\\": \\\\\\\\\\\\\\\"d4ad7261-832d-46b2-b093-22156001df5b\\\\\\\\\\\\\\\", \\\\\\\\\\\\\\\"workspaceId\\\\\\\\\\\\\\\": \\\\\\\\\\\\\\\"5b68156e-1c30-4451-ad2f-3eb592922766\\\\\\\\\\\\\\\", \\\\\\\\\\\\\\\"workspaceLocation\\\\\\\\\\\\\\\": \\\\\\\\\\\\\\\"southcentralus\\\\\\\\\\\\\\\"}}\\\\\\\", \\\\\\\"activities\\\\\\\": 0}\", \"EnableSubsampling\": null, \"runTemplate\": \"AutoML\", \"azureml.runsource\": \"automl\", \"display_task_type\": \"classification\", \"dependencies_versions\": \"{\\\"azureml-widgets\\\": \\\"1.20.0\\\", \\\"azureml-train\\\": \\\"1.20.0\\\", \\\"azureml-train-restclients-hyperdrive\\\": \\\"1.20.0\\\", \\\"azureml-train-core\\\": \\\"1.20.0\\\", \\\"azureml-train-automl\\\": \\\"1.20.0\\\", \\\"azureml-train-automl-runtime\\\": \\\"1.20.0\\\", \\\"azureml-train-automl-client\\\": \\\"1.20.0\\\", \\\"azureml-tensorboard\\\": \\\"1.20.0\\\", \\\"azureml-telemetry\\\": \\\"1.20.0\\\", \\\"azureml-sdk\\\": \\\"1.20.0\\\", \\\"azureml-samples\\\": \\\"0+unknown\\\", \\\"azureml-pipeline\\\": \\\"1.20.0\\\", \\\"azureml-pipeline-steps\\\": \\\"1.20.0\\\", \\\"azureml-pipeline-core\\\": \\\"1.20.0\\\", \\\"azureml-opendatasets\\\": \\\"1.20.0\\\", \\\"azureml-model-management-sdk\\\": \\\"1.0.1b6.post1\\\", \\\"azureml-mlflow\\\": \\\"1.20.0.post1\\\", \\\"azureml-interpret\\\": \\\"1.20.0\\\", \\\"azureml-explain-model\\\": \\\"1.20.0\\\", \\\"azureml-defaults\\\": \\\"1.20.0\\\", \\\"azureml-dataset-runtime\\\": \\\"1.20.0\\\", \\\"azureml-dataprep\\\": \\\"2.7.3\\\", \\\"azureml-dataprep-rslex\\\": \\\"1.5.0\\\", \\\"azureml-dataprep-native\\\": \\\"27.0.0\\\", \\\"azureml-datadrift\\\": \\\"1.20.0\\\", \\\"azureml-core\\\": \\\"1.20.0\\\", \\\"azureml-contrib-services\\\": \\\"1.20.0\\\", \\\"azureml-contrib-server\\\": \\\"1.20.0\\\", \\\"azureml-contrib-reinforcementlearning\\\": \\\"1.20.0\\\", \\\"azureml-contrib-pipeline-steps\\\": \\\"1.20.0\\\", \\\"azureml-contrib-notebook\\\": \\\"1.20.0\\\", \\\"azureml-contrib-interpret\\\": \\\"1.20.0\\\", \\\"azureml-contrib-gbdt\\\": \\\"1.20.0\\\", \\\"azureml-contrib-fairness\\\": \\\"1.20.0\\\", \\\"azureml-contrib-dataset\\\": \\\"1.20.0\\\", \\\"azureml-cli-common\\\": \\\"1.20.0\\\", \\\"azureml-automl-runtime\\\": \\\"1.20.0\\\", \\\"azureml-automl-core\\\": \\\"1.20.0\\\", \\\"azureml-accel-models\\\": \\\"1.20.0\\\"}\", \"_aml_system_scenario_identification\": \"Remote.Parent\", \"ClientType\": \"SDK\", \"environment_cpu_name\": \"AzureML-AutoML\", \"environment_cpu_label\": \"prod\", \"environment_gpu_name\": \"AzureML-AutoML-GPU\", \"environment_gpu_label\": \"prod\", \"root_attribution\": \"automl\", \"attribution\": \"AutoML\", \"Orchestrator\": \"AutoML\", \"CancelUri\": \"https://southcentralus.experiments.azureml.net/jasmine/v1.0/subscriptions/d4ad7261-832d-46b2-b093-22156001df5b/resourceGroups/aml-quickstarts-137889/providers/Microsoft.MachineLearningServices/workspaces/quick-starts-ws-137889/experimentids/6cc98a8c-83fe-4e40-9e1c-7ee0aed3260b/cancel/AutoML_198f108e-08a7-4ea8-b191-e589efb0305d\", \"ClientSdkVersion\": \"1.21.0\", \"snapshotId\": \"00000000-0000-0000-0000-000000000000\", \"SetupRunId\": \"AutoML_198f108e-08a7-4ea8-b191-e589efb0305d_setup\", \"SetupRunContainerId\": \"dcid.AutoML_198f108e-08a7-4ea8-b191-e589efb0305d_setup\", \"FeaturizationRunJsonPath\": \"featurizer_container.json\", \"FeaturizationRunId\": \"AutoML_198f108e-08a7-4ea8-b191-e589efb0305d_featurize\", \"ProblemInfoJsonString\": \"{\\\"dataset_num_categorical\\\": 0, \\\"is_sparse\\\": false, \\\"subsampling\\\": false, \\\"dataset_classes\\\": 2, \\\"dataset_features\\\": 16, \\\"dataset_samples\\\": 1047, \\\"single_frequency_class_detected\\\": false}\", \"ModelExplainRunId\": \"AutoML_198f108e-08a7-4ea8-b191-e589efb0305d_ModelExplain\"}, \"tags\": {\"model_explain_run\": \"best_run\", \"_aml_system_azureml.automlComponent\": \"AutoML\", \"pipeline_id\": \"\", \"score\": \"\", \"predicted_cost\": \"\", \"fit_time\": \"\", \"training_percent\": \"\", \"iteration\": \"\", \"run_preprocessor\": \"\", \"run_algorithm\": \"\", \"dynamic_whitelisting_iterations\": \"<25>;<30>;<35>;<40>;<45>;<50>;<55>;<60>;<65>;<70>;\", \"automl_best_child_run_id\": \"AutoML_198f108e-08a7-4ea8-b191-e589efb0305d_71\", \"model_explain_best_run_child_id\": \"AutoML_198f108e-08a7-4ea8-b191-e589efb0305d_71\"}, \"end_time_utc\": \"2021-02-07T16:51:26.070801Z\", \"status\": \"Completed\", \"log_files\": {}, \"log_groups\": [], \"run_duration\": \"0:22:15\"}, \"child_runs\": [{\"run_id\": \"AutoML_198f108e-08a7-4ea8-b191-e589efb0305d_0\", \"run_number\": 50, \"metric\": null, \"status\": \"Completed\", \"run_type\": \"azureml.scriptrun\", \"training_percent\": \"100\", \"start_time\": \"2021-02-07T16:32:22.764734Z\", \"end_time\": \"2021-02-07T16:33:15.785341Z\", \"created_time\": \"2021-02-07T16:32:08.604081Z\", \"created_time_dt\": \"2021-02-07T16:32:08.604081Z\", \"duration\": \"0:01:07\", \"iteration\": \"0\", \"goal\": \"accuracy_max\", \"run_name\": \"MaxAbsScaler, LightGBM\", \"run_properties\": \"copy=True\", \"primary_metric\": 0.78796562, \"best_metric\": 0.78796562}, {\"run_id\": \"AutoML_198f108e-08a7-4ea8-b191-e589efb0305d_2\", \"run_number\": 51, \"metric\": null, \"status\": \"Completed\", \"run_type\": \"azureml.scriptrun\", \"training_percent\": \"100\", \"start_time\": \"2021-02-07T16:32:22.254505Z\", \"end_time\": \"2021-02-07T16:33:17.836097Z\", \"created_time\": \"2021-02-07T16:32:08.640242Z\", \"created_time_dt\": \"2021-02-07T16:32:08.640242Z\", \"duration\": \"0:01:09\", \"iteration\": \"2\", \"goal\": \"accuracy_max\", \"run_name\": \"MinMaxScaler, RandomForest\", \"run_properties\": \"copy=True, feature_range=(0, 1\", \"primary_metric\": 0.79465138, \"best_metric\": 0.80802292}, {\"run_id\": \"AutoML_198f108e-08a7-4ea8-b191-e589efb0305d_4\", \"run_number\": 52, \"metric\": null, \"status\": \"Completed\", \"run_type\": \"azureml.scriptrun\", \"training_percent\": \"100\", \"start_time\": \"2021-02-07T16:32:21.487389Z\", \"end_time\": \"2021-02-07T16:33:16.763495Z\", \"created_time\": \"2021-02-07T16:32:08.644077Z\", \"created_time_dt\": \"2021-02-07T16:32:08.644077Z\", \"duration\": \"0:01:08\", \"iteration\": \"4\", \"goal\": \"accuracy_max\", \"run_name\": \"MinMaxScaler, RandomForest\", \"run_properties\": \"copy=True, feature_range=(0, 1\", \"primary_metric\": 0.80229226, \"best_metric\": 0.80802292}, {\"run_id\": \"AutoML_198f108e-08a7-4ea8-b191-e589efb0305d_1\", \"run_number\": 53, \"metric\": null, \"status\": \"Completed\", \"run_type\": \"azureml.scriptrun\", \"training_percent\": \"100\", \"start_time\": \"2021-02-07T16:32:22.370525Z\", \"end_time\": \"2021-02-07T16:33:17.550857Z\", \"created_time\": \"2021-02-07T16:32:08.810204Z\", \"created_time_dt\": \"2021-02-07T16:32:08.810204Z\", \"duration\": \"0:01:08\", \"iteration\": \"1\", \"goal\": \"accuracy_max\", \"run_name\": \"MaxAbsScaler, XGBoostClassifier\", \"run_properties\": \"copy=True\", \"primary_metric\": 0.80802292, \"best_metric\": 0.80802292}, {\"run_id\": \"AutoML_198f108e-08a7-4ea8-b191-e589efb0305d_3\", \"run_number\": 54, \"metric\": null, \"status\": \"Completed\", \"run_type\": \"azureml.scriptrun\", \"training_percent\": \"100\", \"start_time\": \"2021-02-07T16:32:22.424277Z\", \"end_time\": \"2021-02-07T16:33:22.743589Z\", \"created_time\": \"2021-02-07T16:32:08.634905Z\", \"created_time_dt\": \"2021-02-07T16:32:08.634905Z\", \"duration\": \"0:01:14\", \"iteration\": \"3\", \"goal\": \"accuracy_max\", \"run_name\": \"MinMaxScaler, RandomForest\", \"run_properties\": \"copy=True, feature_range=(0, 1\", \"primary_metric\": 0.79369628, \"best_metric\": 0.80802292}, {\"run_id\": \"AutoML_198f108e-08a7-4ea8-b191-e589efb0305d_5\", \"run_number\": 55, \"metric\": null, \"status\": \"Completed\", \"run_type\": \"azureml.scriptrun\", \"training_percent\": \"100\", \"start_time\": \"2021-02-07T16:33:33.749148Z\", \"end_time\": \"2021-02-07T16:34:32.18909Z\", \"created_time\": \"2021-02-07T16:33:17.73093Z\", \"created_time_dt\": \"2021-02-07T16:33:17.73093Z\", \"duration\": \"0:01:14\", \"iteration\": \"5\", \"goal\": \"accuracy_max\", \"run_name\": \"StandardScalerWrapper, XGBoostClassifier\", \"run_properties\": \"<azureml.automl.runtime.shared.model_wrappers.StandardScalerWrapper object at 0x7f929e82bcf8\", \"primary_metric\": 0.8061127, \"best_metric\": 0.80802292}, {\"run_id\": \"AutoML_198f108e-08a7-4ea8-b191-e589efb0305d_6\", \"run_number\": 56, \"metric\": null, \"status\": \"Completed\", \"run_type\": \"azureml.scriptrun\", \"training_percent\": \"100\", \"start_time\": \"2021-02-07T16:33:33.393389Z\", \"end_time\": \"2021-02-07T16:34:23.810098Z\", \"created_time\": \"2021-02-07T16:33:22.664282Z\", \"created_time_dt\": \"2021-02-07T16:33:22.664282Z\", \"duration\": \"0:01:01\", \"iteration\": \"6\", \"goal\": \"accuracy_max\", \"run_name\": \"MinMaxScaler, SVM\", \"run_properties\": \"copy=True, feature_range=(0, 1\", \"primary_metric\": 0.7965616, \"best_metric\": 0.80802292}, {\"run_id\": \"AutoML_198f108e-08a7-4ea8-b191-e589efb0305d_7\", \"run_number\": 57, \"metric\": null, \"status\": \"Completed\", \"run_type\": \"azureml.scriptrun\", \"training_percent\": \"100\", \"start_time\": \"2021-02-07T16:33:33.886273Z\", \"end_time\": \"2021-02-07T16:34:28.158405Z\", \"created_time\": \"2021-02-07T16:33:22.791808Z\", \"created_time_dt\": \"2021-02-07T16:33:22.791808Z\", \"duration\": \"0:01:05\", \"iteration\": \"7\", \"goal\": \"accuracy_max\", \"run_name\": \"SparseNormalizer, XGBoostClassifier\", \"run_properties\": \"<azureml.automl.runtime.shared.model_wrappers.SparseNormalizer object at 0x7fcb452c9e80\", \"primary_metric\": 0.78510029, \"best_metric\": 0.80802292}, {\"run_id\": \"AutoML_198f108e-08a7-4ea8-b191-e589efb0305d_8\", \"run_number\": 58, \"metric\": null, \"status\": \"Completed\", \"run_type\": \"azureml.scriptrun\", \"training_percent\": \"100\", \"start_time\": \"2021-02-07T16:33:35.263727Z\", \"end_time\": \"2021-02-07T16:34:25.194828Z\", \"created_time\": \"2021-02-07T16:33:22.825727Z\", \"created_time_dt\": \"2021-02-07T16:33:22.825727Z\", \"duration\": \"0:01:02\", \"iteration\": \"8\", \"goal\": \"accuracy_max\", \"run_name\": \"RobustScaler, SVM\", \"run_properties\": \"copy=True, quantile_range=[10, 90], with_centering=True,\\n             with_scaling=True\", \"primary_metric\": 0.67717287, \"best_metric\": 0.80802292}, {\"run_id\": \"AutoML_198f108e-08a7-4ea8-b191-e589efb0305d_9\", \"run_number\": 59, \"metric\": null, \"status\": \"Completed\", \"run_type\": \"azureml.scriptrun\", \"training_percent\": \"100\", \"start_time\": \"2021-02-07T16:33:40.499195Z\", \"end_time\": \"2021-02-07T16:34:26.965504Z\", \"created_time\": \"2021-02-07T16:33:27.501437Z\", \"created_time_dt\": \"2021-02-07T16:33:27.501437Z\", \"duration\": \"0:00:59\", \"iteration\": \"9\", \"goal\": \"accuracy_max\", \"run_name\": \"SparseNormalizer, XGBoostClassifier\", \"run_properties\": \"<azureml.automl.runtime.shared.model_wrappers.SparseNormalizer object at 0x7f89595bbc50\", \"primary_metric\": 0.7860554, \"best_metric\": 0.80802292}, {\"run_id\": \"AutoML_198f108e-08a7-4ea8-b191-e589efb0305d_10\", \"run_number\": 60, \"metric\": null, \"status\": \"Completed\", \"run_type\": \"azureml.scriptrun\", \"training_percent\": \"100\", \"start_time\": \"2021-02-07T16:34:41.881357Z\", \"end_time\": \"2021-02-07T16:35:37.349303Z\", \"created_time\": \"2021-02-07T16:34:26.018494Z\", \"created_time_dt\": \"2021-02-07T16:34:26.018494Z\", \"duration\": \"0:01:11\", \"iteration\": \"10\", \"goal\": \"accuracy_max\", \"run_name\": \"MaxAbsScaler, GradientBoosting\", \"run_properties\": \"copy=True\", \"primary_metric\": 0.79178606, \"best_metric\": 0.80802292}, {\"run_id\": \"AutoML_198f108e-08a7-4ea8-b191-e589efb0305d_11\", \"run_number\": 61, \"metric\": null, \"status\": \"Completed\", \"run_type\": \"azureml.scriptrun\", \"training_percent\": \"100\", \"start_time\": \"2021-02-07T16:34:43.227944Z\", \"end_time\": \"2021-02-07T16:35:31.050557Z\", \"created_time\": \"2021-02-07T16:34:30.390448Z\", \"created_time_dt\": \"2021-02-07T16:34:30.390448Z\", \"duration\": \"0:01:00\", \"iteration\": \"11\", \"goal\": \"accuracy_max\", \"run_name\": \"StandardScalerWrapper, RandomForest\", \"run_properties\": \"<azureml.automl.runtime.shared.model_wrappers.StandardScalerWrapper object at 0x7f75c177ecf8\", \"primary_metric\": 0.80133715, \"best_metric\": 0.80802292}, {\"run_id\": \"AutoML_198f108e-08a7-4ea8-b191-e589efb0305d_12\", \"run_number\": 62, \"metric\": null, \"status\": \"Completed\", \"run_type\": \"azureml.scriptrun\", \"training_percent\": \"100\", \"start_time\": \"2021-02-07T16:34:43.356859Z\", \"end_time\": \"2021-02-07T16:35:32.387837Z\", \"created_time\": \"2021-02-07T16:34:30.523738Z\", \"created_time_dt\": \"2021-02-07T16:34:30.523738Z\", \"duration\": \"0:01:01\", \"iteration\": \"12\", \"goal\": \"accuracy_max\", \"run_name\": \"MaxAbsScaler, LightGBM\", \"run_properties\": \"copy=True\", \"primary_metric\": 0.78892073, \"best_metric\": 0.80802292}, {\"run_id\": \"AutoML_198f108e-08a7-4ea8-b191-e589efb0305d_13\", \"run_number\": 63, \"metric\": null, \"status\": \"Completed\", \"run_type\": \"azureml.scriptrun\", \"training_percent\": \"100\", \"start_time\": \"2021-02-07T16:34:43.412985Z\", \"end_time\": \"2021-02-07T16:35:35.634084Z\", \"created_time\": \"2021-02-07T16:34:30.53392Z\", \"created_time_dt\": \"2021-02-07T16:34:30.53392Z\", \"duration\": \"0:01:05\", \"iteration\": \"13\", \"goal\": \"accuracy_max\", \"run_name\": \"StandardScalerWrapper, LightGBM\", \"run_properties\": \"<azureml.automl.runtime.shared.model_wrappers.StandardScalerWrapper object at 0x7f47d0e93b70\", \"primary_metric\": 0.79083095, \"best_metric\": 0.80802292}, {\"run_id\": \"AutoML_198f108e-08a7-4ea8-b191-e589efb0305d_14\", \"run_number\": 64, \"metric\": null, \"status\": \"Completed\", \"run_type\": \"azureml.scriptrun\", \"training_percent\": \"100\", \"start_time\": \"2021-02-07T16:34:46.856559Z\", \"end_time\": \"2021-02-07T16:35:43.907906Z\", \"created_time\": \"2021-02-07T16:34:34.987937Z\", \"created_time_dt\": \"2021-02-07T16:34:34.987937Z\", \"duration\": \"0:01:08\", \"iteration\": \"14\", \"goal\": \"accuracy_max\", \"run_name\": \"StandardScalerWrapper, LightGBM\", \"run_properties\": \"<azureml.automl.runtime.shared.model_wrappers.StandardScalerWrapper object at 0x7f0c26a65dd8\", \"primary_metric\": 0.79751671, \"best_metric\": 0.80802292}, {\"run_id\": \"AutoML_198f108e-08a7-4ea8-b191-e589efb0305d_15\", \"run_number\": 65, \"metric\": null, \"status\": \"Completed\", \"run_type\": \"azureml.scriptrun\", \"training_percent\": \"100\", \"start_time\": \"2021-02-07T16:35:45.598412Z\", \"end_time\": \"2021-02-07T16:36:33.481964Z\", \"created_time\": \"2021-02-07T16:35:33.913411Z\", \"created_time_dt\": \"2021-02-07T16:35:33.913411Z\", \"duration\": \"0:00:59\", \"iteration\": \"15\", \"goal\": \"accuracy_max\", \"run_name\": \"RobustScaler, ExtremeRandomTrees\", \"run_properties\": \"copy=True, quantile_range=[10, 90], with_centering=True,\\n             with_scaling=False\", \"primary_metric\": 0.80324737, \"best_metric\": 0.80802292}, {\"run_id\": \"AutoML_198f108e-08a7-4ea8-b191-e589efb0305d_16\", \"run_number\": 66, \"metric\": null, \"status\": \"Completed\", \"run_type\": \"azureml.scriptrun\", \"training_percent\": \"100\", \"start_time\": \"2021-02-07T16:35:49.387499Z\", \"end_time\": \"2021-02-07T16:36:34.204309Z\", \"created_time\": \"2021-02-07T16:35:38.534105Z\", \"created_time_dt\": \"2021-02-07T16:35:38.534105Z\", \"duration\": \"0:00:55\", \"iteration\": \"16\", \"goal\": \"accuracy_max\", \"run_name\": \"SparseNormalizer, XGBoostClassifier\", \"run_properties\": \"<azureml.automl.runtime.shared.model_wrappers.SparseNormalizer object at 0x7f4cccdf0518\", \"primary_metric\": 0.80420248, \"best_metric\": 0.80802292}, {\"run_id\": \"AutoML_198f108e-08a7-4ea8-b191-e589efb0305d_17\", \"run_number\": 67, \"metric\": null, \"status\": \"Completed\", \"run_type\": \"azureml.scriptrun\", \"training_percent\": \"100\", \"start_time\": \"2021-02-07T16:35:49.685607Z\", \"end_time\": \"2021-02-07T16:36:47.112187Z\", \"created_time\": \"2021-02-07T16:35:38.654045Z\", \"created_time_dt\": \"2021-02-07T16:35:38.654045Z\", \"duration\": \"0:01:08\", \"iteration\": \"17\", \"goal\": \"accuracy_max\", \"run_name\": \"SparseNormalizer, XGBoostClassifier\", \"run_properties\": \"<azureml.automl.runtime.shared.model_wrappers.SparseNormalizer object at 0x7fb021cf07f0\", \"primary_metric\": 0.79369628, \"best_metric\": 0.80802292}, {\"run_id\": \"AutoML_198f108e-08a7-4ea8-b191-e589efb0305d_18\", \"run_number\": 68, \"metric\": null, \"status\": \"Completed\", \"run_type\": \"azureml.scriptrun\", \"training_percent\": \"100\", \"start_time\": \"2021-02-07T16:35:57.39293Z\", \"end_time\": \"2021-02-07T16:36:48.062894Z\", \"created_time\": \"2021-02-07T16:35:43.503217Z\", \"created_time_dt\": \"2021-02-07T16:35:43.503217Z\", \"duration\": \"0:01:04\", \"iteration\": \"18\", \"goal\": \"accuracy_max\", \"run_name\": \"MaxAbsScaler, LightGBM\", \"run_properties\": \"copy=True\", \"primary_metric\": 0.79369628, \"best_metric\": 0.80802292}, {\"run_id\": \"AutoML_198f108e-08a7-4ea8-b191-e589efb0305d_19\", \"run_number\": 69, \"metric\": null, \"status\": \"Completed\", \"run_type\": \"azureml.scriptrun\", \"training_percent\": \"100\", \"start_time\": \"2021-02-07T16:35:59.86939Z\", \"end_time\": \"2021-02-07T16:37:26.783121Z\", \"created_time\": \"2021-02-07T16:35:49.096306Z\", \"created_time_dt\": \"2021-02-07T16:35:49.096306Z\", \"duration\": \"0:01:37\", \"iteration\": \"19\", \"goal\": \"accuracy_max\", \"run_name\": \"SparseNormalizer, XGBoostClassifier\", \"run_properties\": \"<azureml.automl.runtime.shared.model_wrappers.SparseNormalizer object at 0x7f6f3596c2e8\", \"primary_metric\": 0.79369628, \"best_metric\": 0.80802292}, {\"run_id\": \"AutoML_198f108e-08a7-4ea8-b191-e589efb0305d_20\", \"run_number\": 70, \"metric\": null, \"status\": \"Completed\", \"run_type\": \"azureml.scriptrun\", \"training_percent\": \"100\", \"start_time\": \"2021-02-07T16:36:53.038205Z\", \"end_time\": \"2021-02-07T16:37:49.109248Z\", \"created_time\": \"2021-02-07T16:36:36.130791Z\", \"created_time_dt\": \"2021-02-07T16:36:36.130791Z\", \"duration\": \"0:01:12\", \"iteration\": \"20\", \"goal\": \"accuracy_max\", \"run_name\": \"StandardScalerWrapper, LightGBM\", \"run_properties\": \"<azureml.automl.runtime.shared.model_wrappers.StandardScalerWrapper object at 0x7fab2c49e048\", \"primary_metric\": 0.7965616, \"best_metric\": 0.80802292}, {\"run_id\": \"AutoML_198f108e-08a7-4ea8-b191-e589efb0305d_21\", \"run_number\": 71, \"metric\": null, \"status\": \"Completed\", \"run_type\": \"azureml.scriptrun\", \"training_percent\": \"100\", \"start_time\": \"2021-02-07T16:36:52.104489Z\", \"end_time\": \"2021-02-07T16:37:50.850076Z\", \"created_time\": \"2021-02-07T16:36:36.278312Z\", \"created_time_dt\": \"2021-02-07T16:36:36.278312Z\", \"duration\": \"0:01:14\", \"iteration\": \"21\", \"goal\": \"accuracy_max\", \"run_name\": \"RobustScaler, LightGBM\", \"run_properties\": \"copy=True, quantile_range=[25, 75], with_centering=False,\\n             with_scaling=False\", \"primary_metric\": 0.80515759, \"best_metric\": 0.80802292}, {\"run_id\": \"AutoML_198f108e-08a7-4ea8-b191-e589efb0305d_22\", \"run_number\": 72, \"metric\": null, \"status\": \"Completed\", \"run_type\": \"azureml.scriptrun\", \"training_percent\": \"100\", \"start_time\": \"2021-02-07T16:37:01.471315Z\", \"end_time\": \"2021-02-07T16:37:58.909852Z\", \"created_time\": \"2021-02-07T16:36:49.603168Z\", \"created_time_dt\": \"2021-02-07T16:36:49.603168Z\", \"duration\": \"0:01:09\", \"iteration\": \"22\", \"goal\": \"accuracy_max\", \"run_name\": \"StandardScalerWrapper, XGBoostClassifier\", \"run_properties\": \"<azureml.automl.runtime.shared.model_wrappers.StandardScalerWrapper object at 0x7f56063df7f0\", \"primary_metric\": 0.8061127, \"best_metric\": 0.80802292}, {\"run_id\": \"AutoML_198f108e-08a7-4ea8-b191-e589efb0305d_23\", \"run_number\": 73, \"metric\": null, \"status\": \"Completed\", \"run_type\": \"azureml.scriptrun\", \"training_percent\": \"100\", \"start_time\": \"2021-02-07T16:37:08.471806Z\", \"end_time\": \"2021-02-07T16:38:00.406595Z\", \"created_time\": \"2021-02-07T16:36:55.22127Z\", \"created_time_dt\": \"2021-02-07T16:36:55.22127Z\", \"duration\": \"0:01:05\", \"iteration\": \"23\", \"goal\": \"accuracy_max\", \"run_name\": \"SparseNormalizer, XGBoostClassifier\", \"run_properties\": \"<azureml.automl.runtime.shared.model_wrappers.SparseNormalizer object at 0x7f8586116978\", \"primary_metric\": 0.78892073, \"best_metric\": 0.80802292}, {\"run_id\": \"AutoML_198f108e-08a7-4ea8-b191-e589efb0305d_24\", \"run_number\": 74, \"metric\": null, \"status\": \"Completed\", \"run_type\": \"azureml.scriptrun\", \"training_percent\": \"100\", \"start_time\": \"2021-02-07T16:37:43.068524Z\", \"end_time\": \"2021-02-07T16:38:38.519473Z\", \"created_time\": \"2021-02-07T16:37:29.28929Z\", \"created_time_dt\": \"2021-02-07T16:37:29.28929Z\", \"duration\": \"0:01:09\", \"iteration\": \"24\", \"goal\": \"accuracy_max\", \"run_name\": \"SparseNormalizer, XGBoostClassifier\", \"run_properties\": \"<azureml.automl.runtime.shared.model_wrappers.SparseNormalizer object at 0x7f48fa848160\", \"primary_metric\": 0.79465138, \"best_metric\": 0.80802292}, {\"run_id\": \"AutoML_198f108e-08a7-4ea8-b191-e589efb0305d_25\", \"run_number\": 75, \"metric\": null, \"status\": \"Completed\", \"run_type\": \"azureml.scriptrun\", \"training_percent\": \"100\", \"start_time\": \"2021-02-07T16:38:06.479968Z\", \"end_time\": \"2021-02-07T16:39:03.082776Z\", \"created_time\": \"2021-02-07T16:37:52.525975Z\", \"created_time_dt\": \"2021-02-07T16:37:52.525975Z\", \"duration\": \"0:01:10\", \"iteration\": \"25\", \"goal\": \"accuracy_max\", \"run_name\": \"SparseNormalizer, XGBoostClassifier\", \"run_properties\": \"<azureml.automl.runtime.shared.model_wrappers.SparseNormalizer object at 0x7fe60c543208\", \"primary_metric\": 0.61795606, \"best_metric\": 0.80802292}, {\"run_id\": \"AutoML_198f108e-08a7-4ea8-b191-e589efb0305d_26\", \"run_number\": 76, \"metric\": null, \"status\": \"Completed\", \"run_type\": \"azureml.scriptrun\", \"training_percent\": \"100\", \"start_time\": \"2021-02-07T16:38:12.888955Z\", \"end_time\": \"2021-02-07T16:39:09.162079Z\", \"created_time\": \"2021-02-07T16:37:57.53265Z\", \"created_time_dt\": \"2021-02-07T16:37:57.53265Z\", \"duration\": \"0:01:11\", \"iteration\": \"26\", \"goal\": \"accuracy_max\", \"run_name\": \"MaxAbsScaler, ExtremeRandomTrees\", \"run_properties\": \"copy=True\", \"primary_metric\": 0.77363897, \"best_metric\": 0.80802292}, {\"run_id\": \"AutoML_198f108e-08a7-4ea8-b191-e589efb0305d_27\", \"run_number\": 77, \"metric\": null, \"status\": \"Completed\", \"run_type\": \"azureml.scriptrun\", \"training_percent\": \"100\", \"start_time\": \"2021-02-07T16:38:16.114679Z\", \"end_time\": \"2021-02-07T16:39:07.654308Z\", \"created_time\": \"2021-02-07T16:38:04.046266Z\", \"created_time_dt\": \"2021-02-07T16:38:04.046266Z\", \"duration\": \"0:01:03\", \"iteration\": \"27\", \"goal\": \"accuracy_max\", \"run_name\": \"StandardScalerWrapper, ExtremeRandomTrees\", \"run_properties\": \"<azureml.automl.runtime.shared.model_wrappers.StandardScalerWrapper object at 0x7f989159e160\", \"primary_metric\": 0.7669532, \"best_metric\": 0.80802292}, {\"run_id\": \"AutoML_198f108e-08a7-4ea8-b191-e589efb0305d_28\", \"run_number\": 78, \"metric\": null, \"status\": \"Completed\", \"run_type\": \"azureml.scriptrun\", \"training_percent\": \"100\", \"start_time\": \"2021-02-07T16:38:18.457557Z\", \"end_time\": \"2021-02-07T16:39:16.340948Z\", \"created_time\": \"2021-02-07T16:38:04.10716Z\", \"created_time_dt\": \"2021-02-07T16:38:04.10716Z\", \"duration\": \"0:01:12\", \"iteration\": \"28\", \"goal\": \"accuracy_max\", \"run_name\": \"RobustScaler, LightGBM\", \"run_properties\": \"copy=True, quantile_range=[10, 90], with_centering=False,\\n             with_scaling=False\", \"primary_metric\": 0.7965616, \"best_metric\": 0.80802292}, {\"run_id\": \"AutoML_198f108e-08a7-4ea8-b191-e589efb0305d_29\", \"run_number\": 79, \"metric\": null, \"status\": \"Completed\", \"run_type\": \"azureml.scriptrun\", \"training_percent\": \"100\", \"start_time\": \"2021-02-07T16:38:56.637367Z\", \"end_time\": \"2021-02-07T16:39:55.247826Z\", \"created_time\": \"2021-02-07T16:38:41.963898Z\", \"created_time_dt\": \"2021-02-07T16:38:41.963898Z\", \"duration\": \"0:01:13\", \"iteration\": \"29\", \"goal\": \"accuracy_max\", \"run_name\": \"MinMaxScaler, LightGBM\", \"run_properties\": \"copy=True, feature_range=(0, 1\", \"primary_metric\": 0.77841452, \"best_metric\": 0.80802292}, {\"run_id\": \"AutoML_198f108e-08a7-4ea8-b191-e589efb0305d_30\", \"run_number\": 80, \"metric\": null, \"status\": \"Completed\", \"run_type\": \"azureml.scriptrun\", \"training_percent\": \"100\", \"start_time\": \"2021-02-07T16:39:21.955592Z\", \"end_time\": \"2021-02-07T16:40:14.991263Z\", \"created_time\": \"2021-02-07T16:39:07.031978Z\", \"created_time_dt\": \"2021-02-07T16:39:07.031978Z\", \"duration\": \"0:01:07\", \"iteration\": \"30\", \"goal\": \"accuracy_max\", \"run_name\": \"StandardScalerWrapper, XGBoostClassifier\", \"run_properties\": \"<azureml.automl.runtime.shared.model_wrappers.StandardScalerWrapper object at 0x7f00ea572ef0\", \"primary_metric\": 0.7965616, \"best_metric\": 0.80802292}, {\"run_id\": \"AutoML_198f108e-08a7-4ea8-b191-e589efb0305d_31\", \"run_number\": 81, \"metric\": null, \"status\": \"Completed\", \"run_type\": \"azureml.scriptrun\", \"training_percent\": \"100\", \"start_time\": \"2021-02-07T16:39:28.3324Z\", \"end_time\": \"2021-02-07T16:40:20.781389Z\", \"created_time\": \"2021-02-07T16:39:14.806991Z\", \"created_time_dt\": \"2021-02-07T16:39:14.806991Z\", \"duration\": \"0:01:05\", \"iteration\": \"31\", \"goal\": \"accuracy_max\", \"run_name\": \"MaxAbsScaler, LightGBM\", \"run_properties\": \"copy=True\", \"primary_metric\": 0.80133715, \"best_metric\": 0.80802292}, {\"run_id\": \"AutoML_198f108e-08a7-4ea8-b191-e589efb0305d_32\", \"run_number\": 82, \"metric\": null, \"status\": \"Completed\", \"run_type\": \"azureml.scriptrun\", \"training_percent\": \"100\", \"start_time\": \"2021-02-07T16:39:25.779688Z\", \"end_time\": \"2021-02-07T16:40:16.158271Z\", \"created_time\": \"2021-02-07T16:39:14.903753Z\", \"created_time_dt\": \"2021-02-07T16:39:14.903753Z\", \"duration\": \"0:01:01\", \"iteration\": \"32\", \"goal\": \"accuracy_max\", \"run_name\": \"StandardScalerWrapper, LightGBM\", \"run_properties\": \"<azureml.automl.runtime.shared.model_wrappers.StandardScalerWrapper object at 0x7f9d7280ccc0\", \"primary_metric\": 0.78701051, \"best_metric\": 0.80802292}, {\"run_id\": \"AutoML_198f108e-08a7-4ea8-b191-e589efb0305d_33\", \"run_number\": 83, \"metric\": null, \"status\": \"Completed\", \"run_type\": \"azureml.scriptrun\", \"training_percent\": \"100\", \"start_time\": \"2021-02-07T16:39:31.592761Z\", \"end_time\": \"2021-02-07T16:40:25.117027Z\", \"created_time\": \"2021-02-07T16:39:20.20679Z\", \"created_time_dt\": \"2021-02-07T16:39:20.20679Z\", \"duration\": \"0:01:04\", \"iteration\": \"33\", \"goal\": \"accuracy_max\", \"run_name\": \"StandardScalerWrapper, XGBoostClassifier\", \"run_properties\": \"<azureml.automl.runtime.shared.model_wrappers.StandardScalerWrapper object at 0x7f5d0d9daba8\", \"primary_metric\": 0.80993314, \"best_metric\": 0.80993314}, {\"run_id\": \"AutoML_198f108e-08a7-4ea8-b191-e589efb0305d_34\", \"run_number\": 84, \"metric\": null, \"status\": \"Completed\", \"run_type\": \"azureml.scriptrun\", \"training_percent\": \"100\", \"start_time\": \"2021-02-07T16:40:12.456834Z\", \"end_time\": \"2021-02-07T16:41:03.110178Z\", \"created_time\": \"2021-02-07T16:39:57.650989Z\", \"created_time_dt\": \"2021-02-07T16:39:57.650989Z\", \"duration\": \"0:01:05\", \"iteration\": \"34\", \"goal\": \"accuracy_max\", \"run_name\": \"StandardScalerWrapper, LightGBM\", \"run_properties\": \"<azureml.automl.runtime.shared.model_wrappers.StandardScalerWrapper object at 0x7fa32c5caeb8\", \"primary_metric\": 0.77554919, \"best_metric\": 0.80993314}, {\"run_id\": \"AutoML_198f108e-08a7-4ea8-b191-e589efb0305d_35\", \"run_number\": 85, \"metric\": null, \"status\": \"Completed\", \"run_type\": \"azureml.scriptrun\", \"training_percent\": \"100\", \"start_time\": \"2021-02-07T16:40:29.070543Z\", \"end_time\": \"2021-02-07T16:41:19.45008Z\", \"created_time\": \"2021-02-07T16:40:18.815433Z\", \"created_time_dt\": \"2021-02-07T16:40:18.815433Z\", \"duration\": \"0:01:00\", \"iteration\": \"35\", \"goal\": \"accuracy_max\", \"run_name\": \"StandardScalerWrapper, XGBoostClassifier\", \"run_properties\": \"<azureml.automl.runtime.shared.model_wrappers.StandardScalerWrapper object at 0x7fbdca47e2e8\", \"primary_metric\": 0.79274117, \"best_metric\": 0.80993314}, {\"run_id\": \"AutoML_198f108e-08a7-4ea8-b191-e589efb0305d_36\", \"run_number\": 86, \"metric\": null, \"status\": \"Completed\", \"run_type\": \"azureml.scriptrun\", \"training_percent\": \"100\", \"start_time\": \"2021-02-07T16:40:36.03749Z\", \"end_time\": \"2021-02-07T16:41:26.880261Z\", \"created_time\": \"2021-02-07T16:40:23.326576Z\", \"created_time_dt\": \"2021-02-07T16:40:23.326576Z\", \"duration\": \"0:01:03\", \"iteration\": \"36\", \"goal\": \"accuracy_max\", \"run_name\": \"StandardScalerWrapper, XGBoostClassifier\", \"run_properties\": \"<azureml.automl.runtime.shared.model_wrappers.StandardScalerWrapper object at 0x7f3a544aaa20\", \"primary_metric\": 0.8061127, \"best_metric\": 0.80993314}, {\"run_id\": \"AutoML_198f108e-08a7-4ea8-b191-e589efb0305d_37\", \"run_number\": 87, \"metric\": null, \"status\": \"Completed\", \"run_type\": \"azureml.scriptrun\", \"training_percent\": \"100\", \"start_time\": \"2021-02-07T16:40:35.962144Z\", \"end_time\": \"2021-02-07T16:41:27.842838Z\", \"created_time\": \"2021-02-07T16:40:23.483491Z\", \"created_time_dt\": \"2021-02-07T16:40:23.483491Z\", \"duration\": \"0:01:04\", \"iteration\": \"37\", \"goal\": \"accuracy_max\", \"run_name\": \"RobustScaler, KNN\", \"run_properties\": \"copy=True, quantile_range=[10, 90], with_centering=False,\\n             with_scaling=False\", \"primary_metric\": 0.78701051, \"best_metric\": 0.80993314}, {\"run_id\": \"AutoML_198f108e-08a7-4ea8-b191-e589efb0305d_38\", \"run_number\": 88, \"metric\": null, \"status\": \"Completed\", \"run_type\": \"azureml.scriptrun\", \"training_percent\": \"100\", \"start_time\": \"2021-02-07T16:40:38.626303Z\", \"end_time\": \"2021-02-07T16:41:31.993463Z\", \"created_time\": \"2021-02-07T16:40:28.372142Z\", \"created_time_dt\": \"2021-02-07T16:40:28.372142Z\", \"duration\": \"0:01:03\", \"iteration\": \"38\", \"goal\": \"accuracy_max\", \"run_name\": \"MinMaxScaler, RandomForest\", \"run_properties\": \"copy=True, feature_range=(0, 1\", \"primary_metric\": 0.79465138, \"best_metric\": 0.80993314}, {\"run_id\": \"AutoML_198f108e-08a7-4ea8-b191-e589efb0305d_39\", \"run_number\": 89, \"metric\": null, \"status\": \"Completed\", \"run_type\": \"azureml.scriptrun\", \"training_percent\": \"100\", \"start_time\": \"2021-02-07T16:41:18.220112Z\", \"end_time\": \"2021-02-07T16:42:07.639611Z\", \"created_time\": \"2021-02-07T16:41:05.349605Z\", \"created_time_dt\": \"2021-02-07T16:41:05.349605Z\", \"duration\": \"0:01:02\", \"iteration\": \"39\", \"goal\": \"accuracy_max\", \"run_name\": \"MaxAbsScaler, LightGBM\", \"run_properties\": \"copy=True\", \"primary_metric\": 0.78987584, \"best_metric\": 0.80993314}, {\"run_id\": \"AutoML_198f108e-08a7-4ea8-b191-e589efb0305d_40\", \"run_number\": 90, \"metric\": null, \"status\": \"Completed\", \"run_type\": \"azureml.scriptrun\", \"training_percent\": \"100\", \"start_time\": \"2021-02-07T16:41:35.849073Z\", \"end_time\": \"2021-02-07T16:42:22.881396Z\", \"created_time\": \"2021-02-07T16:41:22.791565Z\", \"created_time_dt\": \"2021-02-07T16:41:22.791565Z\", \"duration\": \"0:01:00\", \"iteration\": \"40\", \"goal\": \"accuracy_max\", \"run_name\": \"StandardScalerWrapper, XGBoostClassifier\", \"run_properties\": \"<azureml.automl.runtime.shared.model_wrappers.StandardScalerWrapper object at 0x7fbe5489ddd8\", \"primary_metric\": 0.81088825, \"best_metric\": 0.81088825}, {\"run_id\": \"AutoML_198f108e-08a7-4ea8-b191-e589efb0305d_41\", \"run_number\": 91, \"metric\": null, \"status\": \"Completed\", \"run_type\": \"azureml.scriptrun\", \"training_percent\": \"100\", \"start_time\": \"2021-02-07T16:41:39.522894Z\", \"end_time\": \"2021-02-07T16:42:32.931094Z\", \"created_time\": \"2021-02-07T16:41:29.064658Z\", \"created_time_dt\": \"2021-02-07T16:41:29.064658Z\", \"duration\": \"0:01:03\", \"iteration\": \"41\", \"goal\": \"accuracy_max\", \"run_name\": \"StandardScalerWrapper, RandomForest\", \"run_properties\": \"<azureml.automl.runtime.shared.model_wrappers.StandardScalerWrapper object at 0x7f0cf4e017b8\", \"primary_metric\": 0.79847182, \"best_metric\": 0.81088825}, {\"run_id\": \"AutoML_198f108e-08a7-4ea8-b191-e589efb0305d_42\", \"run_number\": 92, \"metric\": null, \"status\": \"Completed\", \"run_type\": \"azureml.scriptrun\", \"training_percent\": \"100\", \"start_time\": \"2021-02-07T16:41:46.1685Z\", \"end_time\": \"2021-02-07T16:42:39.18174Z\", \"created_time\": \"2021-02-07T16:41:33.635818Z\", \"created_time_dt\": \"2021-02-07T16:41:33.635818Z\", \"duration\": \"0:01:05\", \"iteration\": \"42\", \"goal\": \"accuracy_max\", \"run_name\": \"RobustScaler, LightGBM\", \"run_properties\": \"copy=True, quantile_range=[25, 75], with_centering=False,\\n             with_scaling=False\", \"primary_metric\": 0.80133715, \"best_metric\": 0.81088825}, {\"run_id\": \"AutoML_198f108e-08a7-4ea8-b191-e589efb0305d_43\", \"run_number\": 93, \"metric\": null, \"status\": \"Completed\", \"run_type\": \"azureml.scriptrun\", \"training_percent\": \"100\", \"start_time\": \"2021-02-07T16:41:49.465786Z\", \"end_time\": \"2021-02-07T16:42:39.863155Z\", \"created_time\": \"2021-02-07T16:41:38.005693Z\", \"created_time_dt\": \"2021-02-07T16:41:38.005693Z\", \"duration\": \"0:01:01\", \"iteration\": \"43\", \"goal\": \"accuracy_max\", \"run_name\": \"SparseNormalizer, XGBoostClassifier\", \"run_properties\": \"<azureml.automl.runtime.shared.model_wrappers.SparseNormalizer object at 0x7f861c26fe48\", \"primary_metric\": 0.7965616, \"best_metric\": 0.81088825}, {\"run_id\": \"AutoML_198f108e-08a7-4ea8-b191-e589efb0305d_44\", \"run_number\": 94, \"metric\": null, \"status\": \"Completed\", \"run_type\": \"azureml.scriptrun\", \"training_percent\": \"100\", \"start_time\": \"2021-02-07T16:42:25.224149Z\", \"end_time\": \"2021-02-07T16:43:14.992853Z\", \"created_time\": \"2021-02-07T16:42:10.168965Z\", \"created_time_dt\": \"2021-02-07T16:42:10.168965Z\", \"duration\": \"0:01:04\", \"iteration\": \"44\", \"goal\": \"accuracy_max\", \"run_name\": \"MinMaxScaler, LightGBM\", \"run_properties\": \"copy=True, feature_range=(0, 1\", \"primary_metric\": 0.80897803, \"best_metric\": 0.81088825}, {\"run_id\": \"AutoML_198f108e-08a7-4ea8-b191-e589efb0305d_45\", \"run_number\": 95, \"metric\": null, \"status\": \"Completed\", \"run_type\": \"azureml.scriptrun\", \"training_percent\": \"100\", \"start_time\": \"2021-02-07T16:42:38.219894Z\", \"end_time\": \"2021-02-07T16:43:30.462873Z\", \"created_time\": \"2021-02-07T16:42:25.962052Z\", \"created_time_dt\": \"2021-02-07T16:42:25.962052Z\", \"duration\": \"0:01:04\", \"iteration\": \"45\", \"goal\": \"accuracy_max\", \"run_name\": \"StandardScalerWrapper, XGBoostClassifier\", \"run_properties\": \"<azureml.automl.runtime.shared.model_wrappers.StandardScalerWrapper object at 0x7f1fec6b2f98\", \"primary_metric\": 0.81088825, \"best_metric\": 0.81088825}, {\"run_id\": \"AutoML_198f108e-08a7-4ea8-b191-e589efb0305d_46\", \"run_number\": 96, \"metric\": null, \"status\": \"Completed\", \"run_type\": \"azureml.scriptrun\", \"training_percent\": \"100\", \"start_time\": \"2021-02-07T16:42:47.656397Z\", \"end_time\": \"2021-02-07T16:43:42.389034Z\", \"created_time\": \"2021-02-07T16:42:35.086816Z\", \"created_time_dt\": \"2021-02-07T16:42:35.086816Z\", \"duration\": \"0:01:07\", \"iteration\": \"46\", \"goal\": \"accuracy_max\", \"run_name\": \"RobustScaler, RandomForest\", \"run_properties\": \"copy=True, quantile_range=[10, 90], with_centering=False,\\n             with_scaling=False\", \"primary_metric\": 0.79560649, \"best_metric\": 0.81088825}, {\"run_id\": \"AutoML_198f108e-08a7-4ea8-b191-e589efb0305d_47\", \"run_number\": 97, \"metric\": null, \"status\": \"Completed\", \"run_type\": \"azureml.scriptrun\", \"training_percent\": \"100\", \"start_time\": \"2021-02-07T16:42:55.742684Z\", \"end_time\": \"2021-02-07T16:44:17.84746Z\", \"created_time\": \"2021-02-07T16:42:41.59681Z\", \"created_time_dt\": \"2021-02-07T16:42:41.59681Z\", \"duration\": \"0:01:36\", \"iteration\": \"47\", \"goal\": \"accuracy_max\", \"run_name\": \"StandardScalerWrapper, XGBoostClassifier\", \"run_properties\": \"<azureml.automl.runtime.shared.model_wrappers.StandardScalerWrapper object at 0x7f9205c655f8\", \"primary_metric\": 0.80897803, \"best_metric\": 0.81088825}, {\"run_id\": \"AutoML_198f108e-08a7-4ea8-b191-e589efb0305d_48\", \"run_number\": 98, \"metric\": null, \"status\": \"Completed\", \"run_type\": \"azureml.scriptrun\", \"training_percent\": \"100\", \"start_time\": \"2021-02-07T16:43:00.000089Z\", \"end_time\": \"2021-02-07T16:44:10.874482Z\", \"created_time\": \"2021-02-07T16:42:47.034274Z\", \"created_time_dt\": \"2021-02-07T16:42:47.034274Z\", \"duration\": \"0:01:23\", \"iteration\": \"48\", \"goal\": \"accuracy_max\", \"run_name\": \"StandardScalerWrapper, XGBoostClassifier\", \"run_properties\": \"<azureml.automl.runtime.shared.model_wrappers.StandardScalerWrapper object at 0x7fd1fdf33c18\", \"primary_metric\": 0.80802292, \"best_metric\": 0.81088825}, {\"run_id\": \"AutoML_198f108e-08a7-4ea8-b191-e589efb0305d_49\", \"run_number\": 99, \"metric\": null, \"status\": \"Completed\", \"run_type\": \"azureml.scriptrun\", \"training_percent\": \"100\", \"start_time\": \"2021-02-07T16:43:28.140202Z\", \"end_time\": \"2021-02-07T16:44:18.538379Z\", \"created_time\": \"2021-02-07T16:43:17.264858Z\", \"created_time_dt\": \"2021-02-07T16:43:17.264858Z\", \"duration\": \"0:01:01\", \"iteration\": \"49\", \"goal\": \"accuracy_max\", \"run_name\": \"StandardScalerWrapper, XGBoostClassifier\", \"run_properties\": \"<azureml.automl.runtime.shared.model_wrappers.StandardScalerWrapper object at 0x7fd78b121e10\", \"primary_metric\": 0.8156638, \"best_metric\": 0.8156638}, {\"run_id\": \"AutoML_198f108e-08a7-4ea8-b191-e589efb0305d_50\", \"run_number\": 100, \"metric\": null, \"status\": \"Completed\", \"run_type\": \"azureml.scriptrun\", \"training_percent\": \"100\", \"start_time\": \"2021-02-07T16:43:47.020246Z\", \"end_time\": \"2021-02-07T16:44:42.398178Z\", \"created_time\": \"2021-02-07T16:43:33.689941Z\", \"created_time_dt\": \"2021-02-07T16:43:33.689941Z\", \"duration\": \"0:01:08\", \"iteration\": \"50\", \"goal\": \"accuracy_max\", \"run_name\": \"StandardScalerWrapper, XGBoostClassifier\", \"run_properties\": \"<azureml.automl.runtime.shared.model_wrappers.StandardScalerWrapper object at 0x7fe6f7b24048\", \"primary_metric\": 0.80515759, \"best_metric\": 0.8156638}, {\"run_id\": \"AutoML_198f108e-08a7-4ea8-b191-e589efb0305d_51\", \"run_number\": 101, \"metric\": null, \"status\": \"Completed\", \"run_type\": \"azureml.scriptrun\", \"training_percent\": \"100\", \"start_time\": \"2021-02-07T16:43:58.695254Z\", \"end_time\": \"2021-02-07T16:44:50.440722Z\", \"created_time\": \"2021-02-07T16:43:44.8076Z\", \"created_time_dt\": \"2021-02-07T16:43:44.8076Z\", \"duration\": \"0:01:05\", \"iteration\": \"51\", \"goal\": \"accuracy_max\", \"run_name\": \"StandardScalerWrapper, XGBoostClassifier\", \"run_properties\": \"<azureml.automl.runtime.shared.model_wrappers.StandardScalerWrapper object at 0x7f9be0103c88\", \"primary_metric\": 0.80993314, \"best_metric\": 0.8156638}, {\"run_id\": \"AutoML_198f108e-08a7-4ea8-b191-e589efb0305d_52\", \"run_number\": 102, \"metric\": null, \"status\": \"Completed\", \"run_type\": \"azureml.scriptrun\", \"training_percent\": \"100\", \"start_time\": \"2021-02-07T16:44:23.670107Z\", \"end_time\": \"2021-02-07T16:45:27.447167Z\", \"created_time\": \"2021-02-07T16:44:13.328466Z\", \"created_time_dt\": \"2021-02-07T16:44:13.328466Z\", \"duration\": \"0:01:14\", \"iteration\": \"52\", \"goal\": \"accuracy_max\", \"run_name\": \"MinMaxScaler, LightGBM\", \"run_properties\": \"copy=True, feature_range=(0, 1\", \"primary_metric\": 0.81661891, \"best_metric\": 0.81661891}, {\"run_id\": \"AutoML_198f108e-08a7-4ea8-b191-e589efb0305d_53\", \"run_number\": 103, \"metric\": null, \"status\": \"Completed\", \"run_type\": \"azureml.scriptrun\", \"training_percent\": \"100\", \"start_time\": \"2021-02-07T16:44:32.356265Z\", \"end_time\": \"2021-02-07T16:45:31.150369Z\", \"created_time\": \"2021-02-07T16:44:20.076992Z\", \"created_time_dt\": \"2021-02-07T16:44:20.076992Z\", \"duration\": \"0:01:11\", \"iteration\": \"53\", \"goal\": \"accuracy_max\", \"run_name\": \"StandardScalerWrapper, RandomForest\", \"run_properties\": \"<azureml.automl.runtime.shared.model_wrappers.StandardScalerWrapper object at 0x7fdcc8f11c88\", \"primary_metric\": 0.80324737, \"best_metric\": 0.81661891}, {\"run_id\": \"AutoML_198f108e-08a7-4ea8-b191-e589efb0305d_54\", \"run_number\": 104, \"metric\": null, \"status\": \"Completed\", \"run_type\": \"azureml.scriptrun\", \"training_percent\": \"100\", \"start_time\": \"2021-02-07T16:44:34.687449Z\", \"end_time\": \"2021-02-07T16:45:31.081757Z\", \"created_time\": \"2021-02-07T16:44:24.022417Z\", \"created_time_dt\": \"2021-02-07T16:44:24.022417Z\", \"duration\": \"0:01:07\", \"iteration\": \"54\", \"goal\": \"accuracy_max\", \"run_name\": \"StandardScalerWrapper, XGBoostClassifier\", \"run_properties\": \"<azureml.automl.runtime.shared.model_wrappers.StandardScalerWrapper object at 0x7ff7c375d8d0\", \"primary_metric\": 0.81088825, \"best_metric\": 0.81661891}, {\"run_id\": \"AutoML_198f108e-08a7-4ea8-b191-e589efb0305d_55\", \"run_number\": 105, \"metric\": null, \"status\": \"Completed\", \"run_type\": \"azureml.scriptrun\", \"training_percent\": \"100\", \"start_time\": \"2021-02-07T16:44:59.891941Z\", \"end_time\": \"2021-02-07T16:45:52.240362Z\", \"created_time\": \"2021-02-07T16:44:45.652787Z\", \"created_time_dt\": \"2021-02-07T16:44:45.652787Z\", \"duration\": \"0:01:06\", \"iteration\": \"55\", \"goal\": \"accuracy_max\", \"run_name\": \"StandardScalerWrapper, XGBoostClassifier\", \"run_properties\": \"<azureml.automl.runtime.shared.model_wrappers.StandardScalerWrapper object at 0x7f458e41ddd8\", \"primary_metric\": 0.79178606, \"best_metric\": 0.81661891}, {\"run_id\": \"AutoML_198f108e-08a7-4ea8-b191-e589efb0305d_56\", \"run_number\": 106, \"metric\": null, \"status\": \"Completed\", \"run_type\": \"azureml.scriptrun\", \"training_percent\": \"100\", \"start_time\": \"2021-02-07T16:45:07.393639Z\", \"end_time\": \"2021-02-07T16:46:06.732533Z\", \"created_time\": \"2021-02-07T16:44:52.535762Z\", \"created_time_dt\": \"2021-02-07T16:44:52.535762Z\", \"duration\": \"0:01:14\", \"iteration\": \"56\", \"goal\": \"accuracy_max\", \"run_name\": \"StandardScalerWrapper, RandomForest\", \"run_properties\": \"<azureml.automl.runtime.shared.model_wrappers.StandardScalerWrapper object at 0x7fa7e482c898\", \"primary_metric\": 0.76599809, \"best_metric\": 0.81661891}, {\"run_id\": \"AutoML_198f108e-08a7-4ea8-b191-e589efb0305d_57\", \"run_number\": 107, \"metric\": null, \"status\": \"Completed\", \"run_type\": \"azureml.scriptrun\", \"training_percent\": \"100\", \"start_time\": \"2021-02-07T16:45:43.627654Z\", \"end_time\": \"2021-02-07T16:46:42.453935Z\", \"created_time\": \"2021-02-07T16:45:29.724265Z\", \"created_time_dt\": \"2021-02-07T16:45:29.724265Z\", \"duration\": \"0:01:12\", \"iteration\": \"57\", \"goal\": \"accuracy_max\", \"run_name\": \"StandardScalerWrapper, LightGBM\", \"run_properties\": \"<azureml.automl.runtime.shared.model_wrappers.StandardScalerWrapper object at 0x7f57d468e6d8\", \"primary_metric\": 0.80515759, \"best_metric\": 0.81661891}, {\"run_id\": \"AutoML_198f108e-08a7-4ea8-b191-e589efb0305d_58\", \"run_number\": 108, \"metric\": null, \"status\": \"Completed\", \"run_type\": \"azureml.scriptrun\", \"training_percent\": \"100\", \"start_time\": \"2021-02-07T16:45:46.023178Z\", \"end_time\": \"2021-02-07T16:46:58.219187Z\", \"created_time\": \"2021-02-07T16:45:34.603575Z\", \"created_time_dt\": \"2021-02-07T16:45:34.603575Z\", \"duration\": \"0:01:23\", \"iteration\": \"58\", \"goal\": \"accuracy_max\", \"run_name\": \"MinMaxScaler, LightGBM\", \"run_properties\": \"copy=True, feature_range=(0, 1\", \"primary_metric\": 0.79751671, \"best_metric\": 0.81661891}, {\"run_id\": \"AutoML_198f108e-08a7-4ea8-b191-e589efb0305d_59\", \"run_number\": 109, \"metric\": null, \"status\": \"Completed\", \"run_type\": \"azureml.scriptrun\", \"training_percent\": \"100\", \"start_time\": \"2021-02-07T16:45:49.402954Z\", \"end_time\": \"2021-02-07T16:46:38.459881Z\", \"created_time\": \"2021-02-07T16:45:34.67633Z\", \"created_time_dt\": \"2021-02-07T16:45:34.67633Z\", \"duration\": \"0:01:03\", \"iteration\": \"59\", \"goal\": \"accuracy_max\", \"run_name\": \"StandardScalerWrapper, XGBoostClassifier\", \"run_properties\": \"<azureml.automl.runtime.shared.model_wrappers.StandardScalerWrapper object at 0x7f7f23c87be0\", \"primary_metric\": 0.78796562, \"best_metric\": 0.81661891}, {\"run_id\": \"AutoML_198f108e-08a7-4ea8-b191-e589efb0305d_60\", \"run_number\": 110, \"metric\": null, \"status\": \"Completed\", \"run_type\": \"azureml.scriptrun\", \"training_percent\": \"100\", \"start_time\": \"2021-02-07T16:46:08.615391Z\", \"end_time\": \"2021-02-07T16:46:59.226759Z\", \"created_time\": \"2021-02-07T16:45:55.402916Z\", \"created_time_dt\": \"2021-02-07T16:45:55.402916Z\", \"duration\": \"0:01:03\", \"iteration\": \"60\", \"goal\": \"accuracy_max\", \"run_name\": \"MinMaxScaler, LightGBM\", \"run_properties\": \"copy=True, feature_range=(0, 1\", \"primary_metric\": 0.67621777, \"best_metric\": 0.81661891}, {\"run_id\": \"AutoML_198f108e-08a7-4ea8-b191-e589efb0305d_61\", \"run_number\": 111, \"metric\": null, \"status\": \"Completed\", \"run_type\": \"azureml.scriptrun\", \"training_percent\": \"100\", \"start_time\": \"2021-02-07T16:46:20.475442Z\", \"end_time\": \"2021-02-07T16:47:46.617131Z\", \"created_time\": \"2021-02-07T16:46:09.183177Z\", \"created_time_dt\": \"2021-02-07T16:46:09.183177Z\", \"duration\": \"0:01:37\", \"iteration\": \"61\", \"goal\": \"accuracy_max\", \"run_name\": \"StandardScalerWrapper, XGBoostClassifier\", \"run_properties\": \"<azureml.automl.runtime.shared.model_wrappers.StandardScalerWrapper object at 0x7f1ba3d2c860\", \"primary_metric\": 0.80802292, \"best_metric\": 0.81661891}, {\"run_id\": \"AutoML_198f108e-08a7-4ea8-b191-e589efb0305d_62\", \"run_number\": 112, \"metric\": null, \"status\": \"Completed\", \"run_type\": \"azureml.scriptrun\", \"training_percent\": \"100\", \"start_time\": \"2021-02-07T16:46:53.221996Z\", \"end_time\": \"2021-02-07T16:47:45.000398Z\", \"created_time\": \"2021-02-07T16:46:40.824271Z\", \"created_time_dt\": \"2021-02-07T16:46:40.824271Z\", \"duration\": \"0:01:04\", \"iteration\": \"62\", \"goal\": \"accuracy_max\", \"run_name\": \"SparseNormalizer, XGBoostClassifier\", \"run_properties\": \"<azureml.automl.runtime.shared.model_wrappers.SparseNormalizer object at 0x7f098d9be978\", \"primary_metric\": 0.79847182, \"best_metric\": 0.81661891}, {\"run_id\": \"AutoML_198f108e-08a7-4ea8-b191-e589efb0305d_63\", \"run_number\": 113, \"metric\": null, \"status\": \"Completed\", \"run_type\": \"azureml.scriptrun\", \"training_percent\": \"100\", \"start_time\": \"2021-02-07T16:46:55.79173Z\", \"end_time\": \"2021-02-07T16:47:46.4161Z\", \"created_time\": \"2021-02-07T16:46:45.007135Z\", \"created_time_dt\": \"2021-02-07T16:46:45.007135Z\", \"duration\": \"0:01:01\", \"iteration\": \"63\", \"goal\": \"accuracy_max\", \"run_name\": \"StandardScalerWrapper, XGBoostClassifier\", \"run_properties\": \"<azureml.automl.runtime.shared.model_wrappers.StandardScalerWrapper object at 0x7f516d881710\", \"primary_metric\": 0.80706781, \"best_metric\": 0.81661891}, {\"run_id\": \"AutoML_198f108e-08a7-4ea8-b191-e589efb0305d_64\", \"run_number\": 114, \"metric\": null, \"status\": \"Completed\", \"run_type\": \"azureml.scriptrun\", \"training_percent\": \"100\", \"start_time\": \"2021-02-07T16:47:11.161257Z\", \"end_time\": \"2021-02-07T16:48:04.57494Z\", \"created_time\": \"2021-02-07T16:47:00.647178Z\", \"created_time_dt\": \"2021-02-07T16:47:00.647178Z\", \"duration\": \"0:01:03\", \"iteration\": \"64\", \"goal\": \"accuracy_max\", \"run_name\": \"StandardScalerWrapper, XGBoostClassifier\", \"run_properties\": \"<azureml.automl.runtime.shared.model_wrappers.StandardScalerWrapper object at 0x7f35dc8c7048\", \"primary_metric\": 0.80897803, \"best_metric\": 0.81661891}, {\"run_id\": \"AutoML_198f108e-08a7-4ea8-b191-e589efb0305d_65\", \"run_number\": 115, \"metric\": null, \"status\": \"Completed\", \"run_type\": \"azureml.scriptrun\", \"training_percent\": \"100\", \"start_time\": \"2021-02-07T16:47:17.583256Z\", \"end_time\": \"2021-02-07T16:48:11.441487Z\", \"created_time\": \"2021-02-07T16:47:05.548841Z\", \"created_time_dt\": \"2021-02-07T16:47:05.548841Z\", \"duration\": \"0:01:05\", \"iteration\": \"65\", \"goal\": \"accuracy_max\", \"run_name\": \"StandardScalerWrapper, LightGBM\", \"run_properties\": \"<azureml.automl.runtime.shared.model_wrappers.StandardScalerWrapper object at 0x7f89ad514438\", \"primary_metric\": 0.8061127, \"best_metric\": 0.81661891}, {\"run_id\": \"AutoML_198f108e-08a7-4ea8-b191-e589efb0305d_66\", \"run_number\": 116, \"metric\": null, \"status\": \"Canceled\", \"run_type\": \"azureml.scriptrun\", \"training_percent\": \"100\", \"start_time\": \"2021-02-07T16:48:02.066531Z\", \"end_time\": \"2021-02-07T16:48:58.183913Z\", \"created_time\": \"2021-02-07T16:47:47.610894Z\", \"created_time_dt\": \"2021-02-07T16:47:47.610894Z\", \"duration\": \"0:01:10\", \"iteration\": \"66\", \"goal\": \"accuracy_max\", \"run_name\": \"StandardScalerWrapper, RandomForest\", \"run_properties\": \"<azureml.automl.runtime.shared.model_wrappers.StandardScalerWrapper object at 0x7fe2fc452ef0\", \"primary_metric\": 0.7965616, \"best_metric\": 0.81661891}, {\"run_id\": \"AutoML_198f108e-08a7-4ea8-b191-e589efb0305d_67\", \"run_number\": 117, \"metric\": null, \"status\": \"Completed\", \"run_type\": \"azureml.scriptrun\", \"training_percent\": \"100\", \"start_time\": \"2021-02-07T16:48:07.021131Z\", \"end_time\": \"2021-02-07T16:48:54.344438Z\", \"created_time\": \"2021-02-07T16:47:53.203056Z\", \"created_time_dt\": \"2021-02-07T16:47:53.203056Z\", \"duration\": \"0:01:01\", \"iteration\": \"67\", \"goal\": \"accuracy_max\", \"run_name\": \"StandardScalerWrapper, XGBoostClassifier\", \"run_properties\": \"<azureml.automl.runtime.shared.model_wrappers.StandardScalerWrapper object at 0x7f3eea7eecc0\", \"primary_metric\": 0.80038204, \"best_metric\": 0.81661891}, {\"run_id\": \"AutoML_198f108e-08a7-4ea8-b191-e589efb0305d_68\", \"run_number\": 118, \"metric\": null, \"status\": \"Canceled\", \"run_type\": \"azureml.scriptrun\", \"training_percent\": \"100\", \"start_time\": \"2021-02-07T16:48:07.94615Z\", \"end_time\": \"2021-02-07T16:48:57.834595Z\", \"created_time\": \"2021-02-07T16:47:53.383072Z\", \"created_time_dt\": \"2021-02-07T16:47:53.383072Z\", \"duration\": \"0:01:04\", \"iteration\": \"68\", \"goal\": \"accuracy_max\", \"run_name\": \"StandardScalerWrapper, XGBoostClassifier\", \"run_properties\": \"<azureml.automl.runtime.shared.model_wrappers.StandardScalerWrapper object at 0x7f5c8379ff98\", \"primary_metric\": 0.78510029, \"best_metric\": 0.81661891}, {\"run_id\": \"AutoML_198f108e-08a7-4ea8-b191-e589efb0305d_69\", \"run_number\": 119, \"metric\": null, \"status\": \"Canceled\", \"run_type\": \"azureml.scriptrun\", \"training_percent\": \"100\", \"start_time\": \"2021-02-07T16:48:19.913502Z\", \"end_time\": \"2021-02-07T16:49:02.697484Z\", \"created_time\": \"2021-02-07T16:48:07.565501Z\", \"created_time_dt\": \"2021-02-07T16:48:07.565501Z\", \"duration\": \"0:00:55\", \"iteration\": \"69\", \"goal\": \"accuracy_max\", \"run_name\": \"StandardScalerWrapper, XGBoostClassifier\", \"run_properties\": \"<azureml.automl.runtime.shared.model_wrappers.StandardScalerWrapper object at 0x7f4a641b4780\", \"primary_metric\": 0.80706781, \"best_metric\": 0.81661891}, {\"run_id\": \"AutoML_198f108e-08a7-4ea8-b191-e589efb0305d_70\", \"run_number\": 120, \"metric\": null, \"status\": \"Canceled\", \"run_type\": \"azureml.scriptrun\", \"training_percent\": \"100\", \"start_time\": \"2021-02-07T16:48:29.973278Z\", \"end_time\": \"2021-02-07T16:49:02.533166Z\", \"created_time\": \"2021-02-07T16:48:15.858771Z\", \"created_time_dt\": \"2021-02-07T16:48:15.858771Z\", \"duration\": \"0:00:46\", \"iteration\": \"70\", \"goal\": \"accuracy_max\", \"run_name\": \"MaxAbsScaler, LightGBM\", \"run_properties\": \"copy=True\", \"primary_metric\": 0.80133715, \"best_metric\": 0.81661891}, {\"run_id\": \"AutoML_198f108e-08a7-4ea8-b191-e589efb0305d_71\", \"run_number\": 121, \"metric\": null, \"status\": \"Completed\", \"run_type\": \"azureml.scriptrun\", \"training_percent\": \"100\", \"start_time\": \"2021-02-07T16:49:16.986705Z\", \"end_time\": \"2021-02-07T16:51:04.109498Z\", \"created_time\": \"2021-02-07T16:49:04.109094Z\", \"created_time_dt\": \"2021-02-07T16:49:04.109094Z\", \"duration\": \"0:02:00\", \"iteration\": \"71\", \"goal\": \"accuracy_max\", \"run_name\": \"VotingEnsemble\", \"run_properties\": \"classification_labels=None,\\n                              estimators=[('52',\\n                                           Pipeline(memory=None,\\n                                                    steps=[('minmaxscaler',\\n                                                            MinMaxScaler(copy=True,\\n                                                                         feature_range=(0,\\n                                                                                        1\", \"primary_metric\": 0.82425979, \"best_metric\": 0.82425979}, {\"run_id\": \"AutoML_198f108e-08a7-4ea8-b191-e589efb0305d_72\", \"run_number\": 122, \"metric\": null, \"status\": \"Completed\", \"run_type\": \"azureml.scriptrun\", \"training_percent\": \"100\", \"start_time\": \"2021-02-07T16:49:15.559878Z\", \"end_time\": \"2021-02-07T16:51:07.698256Z\", \"created_time\": \"2021-02-07T16:49:04.294223Z\", \"created_time_dt\": \"2021-02-07T16:49:04.294223Z\", \"duration\": \"0:02:03\", \"iteration\": \"72\", \"goal\": \"accuracy_max\", \"run_name\": \"StackEnsemble\", \"run_properties\": \"base_learners=[('52',\\n                                        Pipeline(memory=None,\\n                                                 steps=[('minmaxscaler',\\n                                                         MinMaxScaler(copy=True,\\n                                                                      feature_range=(0,\\n                                                                                     1\", \"primary_metric\": 0.81088825, \"best_metric\": 0.82425979}], \"children_metrics\": {\"categories\": [0], \"series\": {\"AUC_weighted\": [{\"categories\": [\"0\", \"1\", \"2\", \"3\", \"4\", \"5\", \"6\", \"7\", \"8\", \"9\", \"10\", \"11\", \"12\", \"13\", \"14\", \"15\", \"16\", \"17\", \"18\", \"19\", \"20\", \"21\", \"22\", \"23\", \"24\", \"25\", \"26\", \"27\", \"28\", \"29\", \"30\", \"31\", \"32\", \"33\", \"34\", \"35\", \"36\", \"37\", \"38\", \"39\", \"40\", \"41\", \"42\", \"43\", \"44\", \"45\", \"46\", \"47\", \"48\", \"49\", \"50\", \"51\", \"52\", \"53\", \"54\", \"55\", \"56\", \"57\", \"58\", \"59\", \"60\", \"61\", \"62\", \"63\", \"64\", \"65\", \"66\", \"67\", \"68\", \"69\", \"70\", \"71\", \"72\"], \"mode\": \"markers\", \"name\": \"AUC_weighted\", \"stepped\": false, \"type\": \"scatter\", \"data\": [0.8536678514349533, 0.8678531479143805, 0.8456289143871292, 0.8433295453306321, 0.8579864974414727, 0.8595599902714026, 0.8159354153140708, 0.8422872289487172, 0.6168074756784435, 0.8365041651068185, 0.836479788741384, 0.8520777090669546, 0.8391855585106726, 0.8394802860143776, 0.844730746032656, 0.8483092986450629, 0.8570316963081416, 0.8483418582012002, 0.8498833575017688, 0.8458284455732806, 0.8411136558332034, 0.8428401843577285, 0.8623371280670032, 0.8393445269504268, 0.8519996259668887, 0.5, 0.8410996492361802, 0.8386974792028972, 0.8413737488784744, 0.838138722473417, 0.8453492819527954, 0.8388983630935275, 0.8399794476188355, 0.8618683621760267, 0.8419786256240952, 0.8336931458168779, 0.8561637810461568, 0.8182205346044148, 0.844678623132121, 0.8437570995286178, 0.859218601256528, 0.8403353700423049, 0.8433760365971068, 0.8335759476539213, 0.8521954005415813, 0.8595350311496971, 0.8489001282484585, 0.8613491319453539, 0.8583212077382946, 0.8659894197573438, 0.8438341621605262, 0.8547824093586908, 0.8482937346114139, 0.8533081832191988, 0.8572365223451562, 0.8438330763308884, 0.8370637337292952, 0.8640790562391732, 0.8422442764954875, 0.8418416236243863, 0.832255109667663, 0.8508411388267136, 0.8505795176208717, 0.8544274079305655, 0.8577604713182767, 0.8441696590447526, 0.8468857795145324, 0.8468135610292201, 0.8320491619114457, 0.8516799402006253, 0.850281543803006, 0.865293808823674, 0.8637827537602033]}, {\"categories\": [\"0\", \"1\", \"2\", \"3\", \"4\", \"5\", \"6\", \"7\", \"8\", \"9\", \"10\", \"11\", \"12\", \"13\", \"14\", \"15\", \"16\", \"17\", \"18\", \"19\", \"20\", \"21\", \"22\", \"23\", \"24\", \"25\", \"26\", \"27\", \"28\", \"29\", \"30\", \"31\", \"32\", \"33\", \"34\", \"35\", \"36\", \"37\", \"38\", \"39\", \"40\", \"41\", \"42\", \"43\", \"44\", \"45\", \"46\", \"47\", \"48\", \"49\", \"50\", \"51\", \"52\", \"53\", \"54\", \"55\", \"56\", \"57\", \"58\", \"59\", \"60\", \"61\", \"62\", \"63\", \"64\", \"65\", \"66\", \"67\", \"68\", \"69\", \"70\", \"71\", \"72\"], \"mode\": \"lines\", \"name\": \"AUC_weighted_max\", \"stepped\": true, \"type\": \"scatter\", \"data\": [0.8536678514349533, 0.8678531479143805, 0.8678531479143805, 0.8678531479143805, 0.8678531479143805, 0.8678531479143805, 0.8678531479143805, 0.8678531479143805, 0.8678531479143805, 0.8678531479143805, 0.8678531479143805, 0.8678531479143805, 0.8678531479143805, 0.8678531479143805, 0.8678531479143805, 0.8678531479143805, 0.8678531479143805, 0.8678531479143805, 0.8678531479143805, 0.8678531479143805, 0.8678531479143805, 0.8678531479143805, 0.8678531479143805, 0.8678531479143805, 0.8678531479143805, 0.8678531479143805, 0.8678531479143805, 0.8678531479143805, 0.8678531479143805, 0.8678531479143805, 0.8678531479143805, 0.8678531479143805, 0.8678531479143805, 0.8678531479143805, 0.8678531479143805, 0.8678531479143805, 0.8678531479143805, 0.8678531479143805, 0.8678531479143805, 0.8678531479143805, 0.8678531479143805, 0.8678531479143805, 0.8678531479143805, 0.8678531479143805, 0.8678531479143805, 0.8678531479143805, 0.8678531479143805, 0.8678531479143805, 0.8678531479143805, 0.8678531479143805, 0.8678531479143805, 0.8678531479143805, 0.8678531479143805, 0.8678531479143805, 0.8678531479143805, 0.8678531479143805, 0.8678531479143805, 0.8678531479143805, 0.8678531479143805, 0.8678531479143805, 0.8678531479143805, 0.8678531479143805, 0.8678531479143805, 0.8678531479143805, 0.8678531479143805, 0.8678531479143805, 0.8678531479143805, 0.8678531479143805, 0.8678531479143805, 0.8678531479143805, 0.8678531479143805, 0.8678531479143805, 0.8678531479143805]}], \"recall_score_weighted\": [{\"categories\": [\"0\", \"1\", \"2\", \"3\", \"4\", \"5\", \"6\", \"7\", \"8\", \"9\", \"10\", \"11\", \"12\", \"13\", \"14\", \"15\", \"16\", \"17\", \"18\", \"19\", \"20\", \"21\", \"22\", \"23\", \"24\", \"25\", \"26\", \"27\", \"28\", \"29\", \"30\", \"31\", \"32\", \"33\", \"34\", \"35\", \"36\", \"37\", \"38\", \"39\", \"40\", \"41\", \"42\", \"43\", \"44\", \"45\", \"46\", \"47\", \"48\", \"49\", \"50\", \"51\", \"52\", \"53\", \"54\", \"55\", \"56\", \"57\", \"58\", \"59\", \"60\", \"61\", \"62\", \"63\", \"64\", \"65\", \"66\", \"67\", \"68\", \"69\", \"70\", \"71\", \"72\"], \"mode\": \"markers\", \"name\": \"recall_score_weighted\", \"stepped\": false, \"type\": \"scatter\", \"data\": [0.7879656160458453, 0.8080229226361032, 0.7946513849092646, 0.7936962750716333, 0.802292263610315, 0.8061127029608405, 0.7965616045845273, 0.7851002865329514, 0.6771728748806113, 0.7860553963705826, 0.7917860553963706, 0.8013371537726838, 0.7889207258834766, 0.7908309455587393, 0.7975167144221585, 0.8032473734479465, 0.8042024832855779, 0.7936962750716332, 0.7936962750716333, 0.7936962750716333, 0.7965616045845273, 0.8051575931232091, 0.8061127029608405, 0.7889207258834766, 0.7946513849092645, 0.617956064947469, 0.7736389684813753, 0.766953199617956, 0.7965616045845273, 0.778414517669532, 0.7965616045845273, 0.8013371537726838, 0.7870105062082139, 0.8099331423113658, 0.775549188156638, 0.792741165234002, 0.8061127029608405, 0.7870105062082139, 0.7946513849092646, 0.7898758357211079, 0.8108882521489971, 0.7984718242597899, 0.801337153772684, 0.7965616045845273, 0.8089780324737346, 0.8108882521489971, 0.7956064947468958, 0.8089780324737345, 0.8080229226361032, 0.8156638013371538, 0.8051575931232092, 0.8099331423113657, 0.8166189111747851, 0.8032473734479465, 0.8108882521489971, 0.7917860553963706, 0.7659980897803248, 0.8051575931232091, 0.7975167144221587, 0.7879656160458453, 0.6762177650429799, 0.8080229226361032, 0.7984718242597899, 0.8070678127984717, 0.8089780324737345, 0.8061127029608404, 0.7965616045845273, 0.8003820439350525, 0.7851002865329514, 0.8070678127984717, 0.8013371537726838, 0.8242597898758358, 0.8108882521489971]}, {\"categories\": [\"0\", \"1\", \"2\", \"3\", \"4\", \"5\", \"6\", \"7\", \"8\", \"9\", \"10\", \"11\", \"12\", \"13\", \"14\", \"15\", \"16\", \"17\", \"18\", \"19\", \"20\", \"21\", \"22\", \"23\", \"24\", \"25\", \"26\", \"27\", \"28\", \"29\", \"30\", \"31\", \"32\", \"33\", \"34\", \"35\", \"36\", \"37\", \"38\", \"39\", \"40\", \"41\", \"42\", \"43\", \"44\", \"45\", \"46\", \"47\", \"48\", \"49\", \"50\", \"51\", \"52\", \"53\", \"54\", \"55\", \"56\", \"57\", \"58\", \"59\", \"60\", \"61\", \"62\", \"63\", \"64\", \"65\", \"66\", \"67\", \"68\", \"69\", \"70\", \"71\", \"72\"], \"mode\": \"lines\", \"name\": \"recall_score_weighted_max\", \"stepped\": true, \"type\": \"scatter\", \"data\": [0.7879656160458453, 0.8080229226361032, 0.8080229226361032, 0.8080229226361032, 0.8080229226361032, 0.8080229226361032, 0.8080229226361032, 0.8080229226361032, 0.8080229226361032, 0.8080229226361032, 0.8080229226361032, 0.8080229226361032, 0.8080229226361032, 0.8080229226361032, 0.8080229226361032, 0.8080229226361032, 0.8080229226361032, 0.8080229226361032, 0.8080229226361032, 0.8080229226361032, 0.8080229226361032, 0.8080229226361032, 0.8080229226361032, 0.8080229226361032, 0.8080229226361032, 0.8080229226361032, 0.8080229226361032, 0.8080229226361032, 0.8080229226361032, 0.8080229226361032, 0.8080229226361032, 0.8080229226361032, 0.8080229226361032, 0.8099331423113658, 0.8099331423113658, 0.8099331423113658, 0.8099331423113658, 0.8099331423113658, 0.8099331423113658, 0.8099331423113658, 0.8108882521489971, 0.8108882521489971, 0.8108882521489971, 0.8108882521489971, 0.8108882521489971, 0.8108882521489971, 0.8108882521489971, 0.8108882521489971, 0.8108882521489971, 0.8156638013371538, 0.8156638013371538, 0.8156638013371538, 0.8166189111747851, 0.8166189111747851, 0.8166189111747851, 0.8166189111747851, 0.8166189111747851, 0.8166189111747851, 0.8166189111747851, 0.8166189111747851, 0.8166189111747851, 0.8166189111747851, 0.8166189111747851, 0.8166189111747851, 0.8166189111747851, 0.8166189111747851, 0.8166189111747851, 0.8166189111747851, 0.8166189111747851, 0.8166189111747851, 0.8166189111747851, 0.8242597898758358, 0.8242597898758358]}], \"recall_score_micro\": [{\"categories\": [\"0\", \"1\", \"2\", \"3\", \"4\", \"5\", \"6\", \"7\", \"8\", \"9\", \"10\", \"11\", \"12\", \"13\", \"14\", \"15\", \"16\", \"17\", \"18\", \"19\", \"20\", \"21\", \"22\", \"23\", \"24\", \"25\", \"26\", \"27\", \"28\", \"29\", \"30\", \"31\", \"32\", \"33\", \"34\", \"35\", \"36\", \"37\", \"38\", \"39\", \"40\", \"41\", \"42\", \"43\", \"44\", \"45\", \"46\", \"47\", \"48\", \"49\", \"50\", \"51\", \"52\", \"53\", \"54\", \"55\", \"56\", \"57\", \"58\", \"59\", \"60\", \"61\", \"62\", \"63\", \"64\", \"65\", \"66\", \"67\", \"68\", \"69\", \"70\", \"71\", \"72\"], \"mode\": \"markers\", \"name\": \"recall_score_micro\", \"stepped\": false, \"type\": \"scatter\", \"data\": [0.7879656160458453, 0.8080229226361032, 0.7946513849092646, 0.7936962750716333, 0.802292263610315, 0.8061127029608405, 0.7965616045845273, 0.7851002865329514, 0.6771728748806113, 0.7860553963705826, 0.7917860553963706, 0.8013371537726838, 0.7889207258834766, 0.7908309455587393, 0.7975167144221585, 0.8032473734479465, 0.8042024832855779, 0.7936962750716332, 0.7936962750716333, 0.7936962750716333, 0.7965616045845273, 0.8051575931232091, 0.8061127029608405, 0.7889207258834766, 0.7946513849092645, 0.617956064947469, 0.7736389684813753, 0.766953199617956, 0.7965616045845273, 0.778414517669532, 0.7965616045845273, 0.8013371537726838, 0.7870105062082139, 0.8099331423113658, 0.775549188156638, 0.792741165234002, 0.8061127029608405, 0.7870105062082139, 0.7946513849092646, 0.7898758357211079, 0.8108882521489971, 0.7984718242597899, 0.801337153772684, 0.7965616045845273, 0.8089780324737346, 0.8108882521489971, 0.7956064947468958, 0.8089780324737345, 0.8080229226361032, 0.8156638013371538, 0.8051575931232092, 0.8099331423113657, 0.8166189111747851, 0.8032473734479465, 0.8108882521489971, 0.7917860553963706, 0.7659980897803248, 0.8051575931232091, 0.7975167144221587, 0.7879656160458453, 0.6762177650429799, 0.8080229226361032, 0.7984718242597899, 0.8070678127984717, 0.8089780324737345, 0.8061127029608404, 0.7965616045845273, 0.8003820439350525, 0.7851002865329514, 0.8070678127984717, 0.8013371537726838, 0.8242597898758358, 0.8108882521489971]}, {\"categories\": [\"0\", \"1\", \"2\", \"3\", \"4\", \"5\", \"6\", \"7\", \"8\", \"9\", \"10\", \"11\", \"12\", \"13\", \"14\", \"15\", \"16\", \"17\", \"18\", \"19\", \"20\", \"21\", \"22\", \"23\", \"24\", \"25\", \"26\", \"27\", \"28\", \"29\", \"30\", \"31\", \"32\", \"33\", \"34\", \"35\", \"36\", \"37\", \"38\", \"39\", \"40\", \"41\", \"42\", \"43\", \"44\", \"45\", \"46\", \"47\", \"48\", \"49\", \"50\", \"51\", \"52\", \"53\", \"54\", \"55\", \"56\", \"57\", \"58\", \"59\", \"60\", \"61\", \"62\", \"63\", \"64\", \"65\", \"66\", \"67\", \"68\", \"69\", \"70\", \"71\", \"72\"], \"mode\": \"lines\", \"name\": \"recall_score_micro_max\", \"stepped\": true, \"type\": \"scatter\", \"data\": [0.7879656160458453, 0.8080229226361032, 0.8080229226361032, 0.8080229226361032, 0.8080229226361032, 0.8080229226361032, 0.8080229226361032, 0.8080229226361032, 0.8080229226361032, 0.8080229226361032, 0.8080229226361032, 0.8080229226361032, 0.8080229226361032, 0.8080229226361032, 0.8080229226361032, 0.8080229226361032, 0.8080229226361032, 0.8080229226361032, 0.8080229226361032, 0.8080229226361032, 0.8080229226361032, 0.8080229226361032, 0.8080229226361032, 0.8080229226361032, 0.8080229226361032, 0.8080229226361032, 0.8080229226361032, 0.8080229226361032, 0.8080229226361032, 0.8080229226361032, 0.8080229226361032, 0.8080229226361032, 0.8080229226361032, 0.8099331423113658, 0.8099331423113658, 0.8099331423113658, 0.8099331423113658, 0.8099331423113658, 0.8099331423113658, 0.8099331423113658, 0.8108882521489971, 0.8108882521489971, 0.8108882521489971, 0.8108882521489971, 0.8108882521489971, 0.8108882521489971, 0.8108882521489971, 0.8108882521489971, 0.8108882521489971, 0.8156638013371538, 0.8156638013371538, 0.8156638013371538, 0.8166189111747851, 0.8166189111747851, 0.8166189111747851, 0.8166189111747851, 0.8166189111747851, 0.8166189111747851, 0.8166189111747851, 0.8166189111747851, 0.8166189111747851, 0.8166189111747851, 0.8166189111747851, 0.8166189111747851, 0.8166189111747851, 0.8166189111747851, 0.8166189111747851, 0.8166189111747851, 0.8166189111747851, 0.8166189111747851, 0.8166189111747851, 0.8242597898758358, 0.8242597898758358]}], \"precision_score_macro\": [{\"categories\": [\"0\", \"1\", \"2\", \"3\", \"4\", \"5\", \"6\", \"7\", \"8\", \"9\", \"10\", \"11\", \"12\", \"13\", \"14\", \"15\", \"16\", \"17\", \"18\", \"19\", \"20\", \"21\", \"22\", \"23\", \"24\", \"25\", \"26\", \"27\", \"28\", \"29\", \"30\", \"31\", \"32\", \"33\", \"34\", \"35\", \"36\", \"37\", \"38\", \"39\", \"40\", \"41\", \"42\", \"43\", \"44\", \"45\", \"46\", \"47\", \"48\", \"49\", \"50\", \"51\", \"52\", \"53\", \"54\", \"55\", \"56\", \"57\", \"58\", \"59\", \"60\", \"61\", \"62\", \"63\", \"64\", \"65\", \"66\", \"67\", \"68\", \"69\", \"70\", \"71\", \"72\"], \"mode\": \"markers\", \"name\": \"precision_score_macro\", \"stepped\": false, \"type\": \"scatter\", \"data\": [0.7778292651817117, 0.8073870581234374, 0.7862577896265099, 0.7880458113417687, 0.7915593725636998, 0.8013908696083346, 0.7962738333419154, 0.7769572520049085, 0.4698339978514347, 0.7780006751995665, 0.7813215507617718, 0.7951402594452238, 0.8172564346318504, 0.7978754034631903, 0.7946131854244322, 0.8068037550839211, 0.7970674669349159, 0.7900120299015718, 0.7935012491324184, 0.7885166087568757, 0.7922499149071808, 0.8113219416881124, 0.7998794040911749, 0.7806006547530121, 0.7886353474919416, 0.3089780324737345, 0.7626587085393962, 0.7555994365046989, 0.8034593613960181, 0.7760937519777699, 0.795392186308002, 0.8025003951318705, 0.7861083337292062, 0.8094154238677825, 0.7994171792749913, 0.78203323030659, 0.8032572014510325, 0.7753676824289409, 0.7894741589891755, 0.8007725203865611, 0.8092461694672144, 0.7977561399094508, 0.7988349933141082, 0.7904117576224284, 0.8045285225065024, 0.8081105599147218, 0.7910933324643774, 0.8106189871290637, 0.805029988863733, 0.8145061602507028, 0.8012199577644669, 0.8078697490123515, 0.8140101202136979, 0.8019749961784807, 0.808593260189466, 0.7986324032841422, 0.7558319013883185, 0.802236266994572, 0.8145975689363404, 0.7904416535179006, 0.8199790740781263, 0.8062087104746203, 0.794253466769279, 0.8057159424416683, 0.8065264358347033, 0.8032839734272308, 0.7929384991426912, 0.794997388444416, 0.7911541578679228, 0.8039841259038534, 0.7989482720204976, 0.8235976652861371, 0.8111085656939813]}, {\"categories\": [\"0\", \"1\", \"2\", \"3\", \"4\", \"5\", \"6\", \"7\", \"8\", \"9\", \"10\", \"11\", \"12\", \"13\", \"14\", \"15\", \"16\", \"17\", \"18\", \"19\", \"20\", \"21\", \"22\", \"23\", \"24\", \"25\", \"26\", \"27\", \"28\", \"29\", \"30\", \"31\", \"32\", \"33\", \"34\", \"35\", \"36\", \"37\", \"38\", \"39\", \"40\", \"41\", \"42\", \"43\", \"44\", \"45\", \"46\", \"47\", \"48\", \"49\", \"50\", \"51\", \"52\", \"53\", \"54\", \"55\", \"56\", \"57\", \"58\", \"59\", \"60\", \"61\", \"62\", \"63\", \"64\", \"65\", \"66\", \"67\", \"68\", \"69\", \"70\", \"71\", \"72\"], \"mode\": \"lines\", \"name\": \"precision_score_macro_max\", \"stepped\": true, \"type\": \"scatter\", \"data\": [0.7778292651817117, 0.8073870581234374, 0.8073870581234374, 0.8073870581234374, 0.8073870581234374, 0.8073870581234374, 0.8073870581234374, 0.8073870581234374, 0.8073870581234374, 0.8073870581234374, 0.8073870581234374, 0.8073870581234374, 0.8172564346318504, 0.8172564346318504, 0.8172564346318504, 0.8172564346318504, 0.8172564346318504, 0.8172564346318504, 0.8172564346318504, 0.8172564346318504, 0.8172564346318504, 0.8172564346318504, 0.8172564346318504, 0.8172564346318504, 0.8172564346318504, 0.8172564346318504, 0.8172564346318504, 0.8172564346318504, 0.8172564346318504, 0.8172564346318504, 0.8172564346318504, 0.8172564346318504, 0.8172564346318504, 0.8172564346318504, 0.8172564346318504, 0.8172564346318504, 0.8172564346318504, 0.8172564346318504, 0.8172564346318504, 0.8172564346318504, 0.8172564346318504, 0.8172564346318504, 0.8172564346318504, 0.8172564346318504, 0.8172564346318504, 0.8172564346318504, 0.8172564346318504, 0.8172564346318504, 0.8172564346318504, 0.8172564346318504, 0.8172564346318504, 0.8172564346318504, 0.8172564346318504, 0.8172564346318504, 0.8172564346318504, 0.8172564346318504, 0.8172564346318504, 0.8172564346318504, 0.8172564346318504, 0.8172564346318504, 0.8199790740781263, 0.8199790740781263, 0.8199790740781263, 0.8199790740781263, 0.8199790740781263, 0.8199790740781263, 0.8199790740781263, 0.8199790740781263, 0.8199790740781263, 0.8199790740781263, 0.8199790740781263, 0.8235976652861371, 0.8235976652861371]}], \"precision_score_weighted\": [{\"categories\": [\"0\", \"1\", \"2\", \"3\", \"4\", \"5\", \"6\", \"7\", \"8\", \"9\", \"10\", \"11\", \"12\", \"13\", \"14\", \"15\", \"16\", \"17\", \"18\", \"19\", \"20\", \"21\", \"22\", \"23\", \"24\", \"25\", \"26\", \"27\", \"28\", \"29\", \"30\", \"31\", \"32\", \"33\", \"34\", \"35\", \"36\", \"37\", \"38\", \"39\", \"40\", \"41\", \"42\", \"43\", \"44\", \"45\", \"46\", \"47\", \"48\", \"49\", \"50\", \"51\", \"52\", \"53\", \"54\", \"55\", \"56\", \"57\", \"58\", \"59\", \"60\", \"61\", \"62\", \"63\", \"64\", \"65\", \"66\", \"67\", \"68\", \"69\", \"70\", \"71\", \"72\"], \"mode\": \"markers\", \"name\": \"precision_score_weighted\", \"stepped\": false, \"type\": \"scatter\", \"data\": [0.7859357439862147, 0.8087665135888517, 0.7938680788623875, 0.7942409606805629, 0.8033195207639974, 0.8049957263027149, 0.797270392744501, 0.7840735334655783, 0.5188963438762421, 0.783888869356653, 0.793034547862718, 0.8004320180307246, 0.8055940452423384, 0.7970428058770006, 0.7994390856285084, 0.8065551744057329, 0.8037252638641265, 0.7932616691477589, 0.7953338591711511, 0.793744552615804, 0.7983458699922433, 0.8090668671252544, 0.8044483065244902, 0.7872920318340316, 0.7951119206053457, 0.38192625676308073, 0.779696335518754, 0.7751587684123629, 0.8012220914801323, 0.7815496425570418, 0.8011231834907703, 0.8044249070636673, 0.7904724894358518, 0.8106251592359496, 0.7899384573100908, 0.7933015912603896, 0.8058819565769877, 0.7863361460661421, 0.7946332470123197, 0.796088458106548, 0.8109338793456368, 0.7997624809815026, 0.8015930847088514, 0.7949882373770599, 0.8082180020365106, 0.8105274435664821, 0.7968453717120966, 0.810522685269973, 0.8084912931533483, 0.8166642486265431, 0.8050754841249348, 0.8095319052887954, 0.8159990690285098, 0.80441505367692, 0.810628116174693, 0.8006915682661534, 0.776393557742252, 0.8044983517775833, 0.8068855061388994, 0.7920385498304147, 0.7813572016430261, 0.8077612460099836, 0.7973586570261929, 0.8071888672202894, 0.8085244310838476, 0.805701832275118, 0.7976793406599082, 0.7991455239746594, 0.792726886532928, 0.8076257524269751, 0.8012115385017827, 0.8244119612162523, 0.812748769727483]}, {\"categories\": [\"0\", \"1\", \"2\", \"3\", \"4\", \"5\", \"6\", \"7\", \"8\", \"9\", \"10\", \"11\", \"12\", \"13\", \"14\", \"15\", \"16\", \"17\", \"18\", \"19\", \"20\", \"21\", \"22\", \"23\", \"24\", \"25\", \"26\", \"27\", \"28\", \"29\", \"30\", \"31\", \"32\", \"33\", \"34\", \"35\", \"36\", \"37\", \"38\", \"39\", \"40\", \"41\", \"42\", \"43\", \"44\", \"45\", \"46\", \"47\", \"48\", \"49\", \"50\", \"51\", \"52\", \"53\", \"54\", \"55\", \"56\", \"57\", \"58\", \"59\", \"60\", \"61\", \"62\", \"63\", \"64\", \"65\", \"66\", \"67\", \"68\", \"69\", \"70\", \"71\", \"72\"], \"mode\": \"lines\", \"name\": \"precision_score_weighted_max\", \"stepped\": true, \"type\": \"scatter\", \"data\": [0.7859357439862147, 0.8087665135888517, 0.8087665135888517, 0.8087665135888517, 0.8087665135888517, 0.8087665135888517, 0.8087665135888517, 0.8087665135888517, 0.8087665135888517, 0.8087665135888517, 0.8087665135888517, 0.8087665135888517, 0.8087665135888517, 0.8087665135888517, 0.8087665135888517, 0.8087665135888517, 0.8087665135888517, 0.8087665135888517, 0.8087665135888517, 0.8087665135888517, 0.8087665135888517, 0.8090668671252544, 0.8090668671252544, 0.8090668671252544, 0.8090668671252544, 0.8090668671252544, 0.8090668671252544, 0.8090668671252544, 0.8090668671252544, 0.8090668671252544, 0.8090668671252544, 0.8090668671252544, 0.8090668671252544, 0.8106251592359496, 0.8106251592359496, 0.8106251592359496, 0.8106251592359496, 0.8106251592359496, 0.8106251592359496, 0.8106251592359496, 0.8109338793456368, 0.8109338793456368, 0.8109338793456368, 0.8109338793456368, 0.8109338793456368, 0.8109338793456368, 0.8109338793456368, 0.8109338793456368, 0.8109338793456368, 0.8166642486265431, 0.8166642486265431, 0.8166642486265431, 0.8166642486265431, 0.8166642486265431, 0.8166642486265431, 0.8166642486265431, 0.8166642486265431, 0.8166642486265431, 0.8166642486265431, 0.8166642486265431, 0.8166642486265431, 0.8166642486265431, 0.8166642486265431, 0.8166642486265431, 0.8166642486265431, 0.8166642486265431, 0.8166642486265431, 0.8166642486265431, 0.8166642486265431, 0.8166642486265431, 0.8166642486265431, 0.8244119612162523, 0.8244119612162523]}], \"f1_score_weighted\": [{\"categories\": [\"0\", \"1\", \"2\", \"3\", \"4\", \"5\", \"6\", \"7\", \"8\", \"9\", \"10\", \"11\", \"12\", \"13\", \"14\", \"15\", \"16\", \"17\", \"18\", \"19\", \"20\", \"21\", \"22\", \"23\", \"24\", \"25\", \"26\", \"27\", \"28\", \"29\", \"30\", \"31\", \"32\", \"33\", \"34\", \"35\", \"36\", \"37\", \"38\", \"39\", \"40\", \"41\", \"42\", \"43\", \"44\", \"45\", \"46\", \"47\", \"48\", \"49\", \"50\", \"51\", \"52\", \"53\", \"54\", \"55\", \"56\", \"57\", \"58\", \"59\", \"60\", \"61\", \"62\", \"63\", \"64\", \"65\", \"66\", \"67\", \"68\", \"69\", \"70\", \"71\", \"72\"], \"mode\": \"markers\", \"name\": \"f1_score_weighted\", \"stepped\": false, \"type\": \"scatter\", \"data\": [0.7854079241439006, 0.8038003129381203, 0.7922829204153258, 0.7911242481816766, 0.8020663142015988, 0.8025627301878765, 0.7911868587480618, 0.7822623959975598, 0.5783517848334365, 0.7824183988507655, 0.79147687703571, 0.7984438829389143, 0.7745311300188812, 0.784389984021398, 0.7947316321366849, 0.7976174124271816, 0.8023693448577355, 0.7890696757582135, 0.7884186273643703, 0.7901296936130486, 0.7940493087680617, 0.7989941284391353, 0.8031099313736022, 0.7859834291591955, 0.7922507191229791, 0.47206642512681, 0.7748792581307716, 0.7690080914673055, 0.7894925700425873, 0.7740913318631796, 0.7942801995405729, 0.79694561492745, 0.7831801722478011, 0.805839935218823, 0.7604399461426143, 0.7924710827705721, 0.8020292353818176, 0.7861324179557859, 0.791485441077293, 0.7804885959627729, 0.8069496392494132, 0.7939443015076444, 0.7972753584086837, 0.7926942149301414, 0.8059160502942148, 0.8071177314402386, 0.7930572168430704, 0.8040938591830006, 0.8049449492313757, 0.8122979454753777, 0.8020855402810616, 0.8058011099860306, 0.8128567262106388, 0.7993595318315364, 0.8071874690414491, 0.787162804537841, 0.7683554863546255, 0.8011563295753564, 0.7873521891814151, 0.7821335295749784, 0.591471350484691, 0.8036958437636564, 0.7941404516634257, 0.8027154726972455, 0.8047981401783204, 0.8018721677014494, 0.7936927733280935, 0.7968096927521001, 0.7798728354395417, 0.8039250597788868, 0.7970793677609054, 0.8207110185031791, 0.8071376929257145]}, {\"categories\": [\"0\", \"1\", \"2\", \"3\", \"4\", \"5\", \"6\", \"7\", \"8\", \"9\", \"10\", \"11\", \"12\", \"13\", \"14\", \"15\", \"16\", \"17\", \"18\", \"19\", \"20\", \"21\", \"22\", \"23\", \"24\", \"25\", \"26\", \"27\", \"28\", \"29\", \"30\", \"31\", \"32\", \"33\", \"34\", \"35\", \"36\", \"37\", \"38\", \"39\", \"40\", \"41\", \"42\", \"43\", \"44\", \"45\", \"46\", \"47\", \"48\", \"49\", \"50\", \"51\", \"52\", \"53\", \"54\", \"55\", \"56\", \"57\", \"58\", \"59\", \"60\", \"61\", \"62\", \"63\", \"64\", \"65\", \"66\", \"67\", \"68\", \"69\", \"70\", \"71\", \"72\"], \"mode\": \"lines\", \"name\": \"f1_score_weighted_max\", \"stepped\": true, \"type\": \"scatter\", \"data\": [0.7854079241439006, 0.8038003129381203, 0.8038003129381203, 0.8038003129381203, 0.8038003129381203, 0.8038003129381203, 0.8038003129381203, 0.8038003129381203, 0.8038003129381203, 0.8038003129381203, 0.8038003129381203, 0.8038003129381203, 0.8038003129381203, 0.8038003129381203, 0.8038003129381203, 0.8038003129381203, 0.8038003129381203, 0.8038003129381203, 0.8038003129381203, 0.8038003129381203, 0.8038003129381203, 0.8038003129381203, 0.8038003129381203, 0.8038003129381203, 0.8038003129381203, 0.8038003129381203, 0.8038003129381203, 0.8038003129381203, 0.8038003129381203, 0.8038003129381203, 0.8038003129381203, 0.8038003129381203, 0.8038003129381203, 0.805839935218823, 0.805839935218823, 0.805839935218823, 0.805839935218823, 0.805839935218823, 0.805839935218823, 0.805839935218823, 0.8069496392494132, 0.8069496392494132, 0.8069496392494132, 0.8069496392494132, 0.8069496392494132, 0.8071177314402386, 0.8071177314402386, 0.8071177314402386, 0.8071177314402386, 0.8122979454753777, 0.8122979454753777, 0.8122979454753777, 0.8128567262106388, 0.8128567262106388, 0.8128567262106388, 0.8128567262106388, 0.8128567262106388, 0.8128567262106388, 0.8128567262106388, 0.8128567262106388, 0.8128567262106388, 0.8128567262106388, 0.8128567262106388, 0.8128567262106388, 0.8128567262106388, 0.8128567262106388, 0.8128567262106388, 0.8128567262106388, 0.8128567262106388, 0.8128567262106388, 0.8128567262106388, 0.8207110185031791, 0.8207110185031791]}], \"average_precision_score_macro\": [{\"categories\": [\"0\", \"1\", \"2\", \"3\", \"4\", \"5\", \"6\", \"7\", \"8\", \"9\", \"10\", \"11\", \"12\", \"13\", \"14\", \"15\", \"16\", \"17\", \"18\", \"19\", \"20\", \"21\", \"22\", \"23\", \"24\", \"25\", \"26\", \"27\", \"28\", \"29\", \"30\", \"31\", \"32\", \"33\", \"34\", \"35\", \"36\", \"37\", \"38\", \"39\", \"40\", \"41\", \"42\", \"43\", \"44\", \"45\", \"46\", \"47\", \"48\", \"49\", \"50\", \"51\", \"52\", \"53\", \"54\", \"55\", \"56\", \"57\", \"58\", \"59\", \"60\", \"61\", \"62\", \"63\", \"64\", \"65\", \"66\", \"67\", \"68\", \"69\", \"70\", \"71\", \"72\"], \"mode\": \"markers\", \"name\": \"average_precision_score_macro\", \"stepped\": false, \"type\": \"scatter\", \"data\": [0.8498630991374253, 0.8626483091697338, 0.8369674613345431, 0.8360104338220861, 0.8522773352940378, 0.8561097089985821, 0.8097100066174576, 0.8348950394308008, 0.6113095396984992, 0.8298997404961274, 0.8294319056897771, 0.8447322171691779, 0.8316810115105376, 0.8353360536209591, 0.8434468230429846, 0.8374691011896115, 0.8550474348722226, 0.8437185585952918, 0.849736872444474, 0.8350394870577719, 0.8399133575617217, 0.838625922592148, 0.8571359615702336, 0.8308669582407865, 0.8426679478381592, 0.5, 0.8377806527611525, 0.8345376525526372, 0.8362142560255476, 0.8339378558646718, 0.8258031260230346, 0.8366202591553238, 0.8369216556533409, 0.8578410904321627, 0.8351255110653378, 0.8131141017076907, 0.8490694609074939, 0.7838965325631212, 0.8398769916280887, 0.8426648888387192, 0.8543857327642064, 0.8386540508560968, 0.8397811975156344, 0.8245383833921412, 0.8462891906672199, 0.8516804155635552, 0.8434475748685905, 0.8576538113463575, 0.8507405626437216, 0.8598354080331821, 0.8376648327927331, 0.8509585152308965, 0.846335816006656, 0.8509584092802029, 0.8507181945655335, 0.8218206425695319, 0.8301594083745026, 0.8599082965760255, 0.8348733059103792, 0.8213109208737172, 0.8231778174825993, 0.8450609180514971, 0.8437592345258542, 0.8490751288875322, 0.8515214755904582, 0.8424972396946822, 0.8400148363826597, 0.8363698558871718, 0.8031302104836593, 0.8457639934064178, 0.8475314621990391, 0.8589639367455612, 0.8586916305953736]}, {\"categories\": [\"0\", \"1\", \"2\", \"3\", \"4\", \"5\", \"6\", \"7\", \"8\", \"9\", \"10\", \"11\", \"12\", \"13\", \"14\", \"15\", \"16\", \"17\", \"18\", \"19\", \"20\", \"21\", \"22\", \"23\", \"24\", \"25\", \"26\", \"27\", \"28\", \"29\", \"30\", \"31\", \"32\", \"33\", \"34\", \"35\", \"36\", \"37\", \"38\", \"39\", \"40\", \"41\", \"42\", \"43\", \"44\", \"45\", \"46\", \"47\", \"48\", \"49\", \"50\", \"51\", \"52\", \"53\", \"54\", \"55\", \"56\", \"57\", \"58\", \"59\", \"60\", \"61\", \"62\", \"63\", \"64\", \"65\", \"66\", \"67\", \"68\", \"69\", \"70\", \"71\", \"72\"], \"mode\": \"lines\", \"name\": \"average_precision_score_macro_max\", \"stepped\": true, \"type\": \"scatter\", \"data\": [0.8498630991374253, 0.8626483091697338, 0.8626483091697338, 0.8626483091697338, 0.8626483091697338, 0.8626483091697338, 0.8626483091697338, 0.8626483091697338, 0.8626483091697338, 0.8626483091697338, 0.8626483091697338, 0.8626483091697338, 0.8626483091697338, 0.8626483091697338, 0.8626483091697338, 0.8626483091697338, 0.8626483091697338, 0.8626483091697338, 0.8626483091697338, 0.8626483091697338, 0.8626483091697338, 0.8626483091697338, 0.8626483091697338, 0.8626483091697338, 0.8626483091697338, 0.8626483091697338, 0.8626483091697338, 0.8626483091697338, 0.8626483091697338, 0.8626483091697338, 0.8626483091697338, 0.8626483091697338, 0.8626483091697338, 0.8626483091697338, 0.8626483091697338, 0.8626483091697338, 0.8626483091697338, 0.8626483091697338, 0.8626483091697338, 0.8626483091697338, 0.8626483091697338, 0.8626483091697338, 0.8626483091697338, 0.8626483091697338, 0.8626483091697338, 0.8626483091697338, 0.8626483091697338, 0.8626483091697338, 0.8626483091697338, 0.8626483091697338, 0.8626483091697338, 0.8626483091697338, 0.8626483091697338, 0.8626483091697338, 0.8626483091697338, 0.8626483091697338, 0.8626483091697338, 0.8626483091697338, 0.8626483091697338, 0.8626483091697338, 0.8626483091697338, 0.8626483091697338, 0.8626483091697338, 0.8626483091697338, 0.8626483091697338, 0.8626483091697338, 0.8626483091697338, 0.8626483091697338, 0.8626483091697338, 0.8626483091697338, 0.8626483091697338, 0.8626483091697338, 0.8626483091697338]}], \"log_loss\": [{\"categories\": [\"0\", \"1\", \"2\", \"3\", \"4\", \"5\", \"6\", \"7\", \"8\", \"9\", \"10\", \"11\", \"12\", \"13\", \"14\", \"15\", \"16\", \"17\", \"18\", \"19\", \"20\", \"21\", \"22\", \"23\", \"24\", \"25\", \"26\", \"27\", \"28\", \"29\", \"30\", \"31\", \"32\", \"33\", \"34\", \"35\", \"36\", \"37\", \"38\", \"39\", \"40\", \"41\", \"42\", \"43\", \"44\", \"45\", \"46\", \"47\", \"48\", \"49\", \"50\", \"51\", \"52\", \"53\", \"54\", \"55\", \"56\", \"57\", \"58\", \"59\", \"60\", \"61\", \"62\", \"63\", \"64\", \"65\", \"66\", \"67\", \"68\", \"69\", \"70\", \"71\", \"72\"], \"mode\": \"markers\", \"name\": \"log_loss\", \"stepped\": false, \"type\": \"scatter\", \"data\": [0.4998363352915116, 0.4311231554949873, 0.4653225692715017, 0.47145650647193266, 0.4575311118451877, 0.4446016315308541, 0.4799587359275776, 0.4966055440968242, 0.6038076340273585, 0.4770386595004256, 0.47953062428064164, 0.45560408524452534, 0.514293483539782, 0.4735400385779947, 0.47630352382159485, 0.45089764064990634, 0.44477360032935714, 0.45720993767149465, 0.4866637921570347, 0.45893650531652624, 0.47047252805640233, 0.4670984173614445, 0.4415403515038008, 0.4965257251105235, 0.5052001514879095, 0.6651193808669359, 0.4930546342766256, 0.4871606316101223, 0.46866977011752703, 0.47540106453681236, 0.49885893045342655, 0.45986889461908587, 0.48903901638418096, 0.43583158584835363, 0.5213925110132046, 0.5102599243615348, 0.48449175666132005, 1.8515995120726927, 0.45910803091175517, 0.4972098015536905, 0.44107751021165775, 0.45973053156473304, 0.4884765491517316, 0.49892374441598425, 0.44608238456904353, 0.4416085946041795, 0.4524073145976299, 0.44074434652612365, 0.4412162069770929, 0.4333690168508013, 0.5084852191804617, 0.44412359322736467, 0.4493074727346045, 0.4472783634554336, 0.4435785948994952, 0.4667418629614575, 0.497840369862286, 0.44165735223240093, 0.5029980587112425, 0.49746580414465463, 0.598795302366702, 0.4870790765749711, 0.45500862759486654, 0.44578646224647595, 0.49122868953816656, 0.4537691332726204, 0.45292979016748963, 0.4899386866963818, 0.5070165355455843, 0.44285885221773347, 0.448275553137611, 0.43270879517259714, 0.4483387083756744]}, {\"categories\": [\"0\", \"1\", \"2\", \"3\", \"4\", \"5\", \"6\", \"7\", \"8\", \"9\", \"10\", \"11\", \"12\", \"13\", \"14\", \"15\", \"16\", \"17\", \"18\", \"19\", \"20\", \"21\", \"22\", \"23\", \"24\", \"25\", \"26\", \"27\", \"28\", \"29\", \"30\", \"31\", \"32\", \"33\", \"34\", \"35\", \"36\", \"37\", \"38\", \"39\", \"40\", \"41\", \"42\", \"43\", \"44\", \"45\", \"46\", \"47\", \"48\", \"49\", \"50\", \"51\", \"52\", \"53\", \"54\", \"55\", \"56\", \"57\", \"58\", \"59\", \"60\", \"61\", \"62\", \"63\", \"64\", \"65\", \"66\", \"67\", \"68\", \"69\", \"70\", \"71\", \"72\"], \"mode\": \"lines\", \"name\": \"log_loss_min\", \"stepped\": true, \"type\": \"scatter\", \"data\": [0.4998363352915116, 0.4311231554949873, 0.4311231554949873, 0.4311231554949873, 0.4311231554949873, 0.4311231554949873, 0.4311231554949873, 0.4311231554949873, 0.4311231554949873, 0.4311231554949873, 0.4311231554949873, 0.4311231554949873, 0.4311231554949873, 0.4311231554949873, 0.4311231554949873, 0.4311231554949873, 0.4311231554949873, 0.4311231554949873, 0.4311231554949873, 0.4311231554949873, 0.4311231554949873, 0.4311231554949873, 0.4311231554949873, 0.4311231554949873, 0.4311231554949873, 0.4311231554949873, 0.4311231554949873, 0.4311231554949873, 0.4311231554949873, 0.4311231554949873, 0.4311231554949873, 0.4311231554949873, 0.4311231554949873, 0.4311231554949873, 0.4311231554949873, 0.4311231554949873, 0.4311231554949873, 0.4311231554949873, 0.4311231554949873, 0.4311231554949873, 0.4311231554949873, 0.4311231554949873, 0.4311231554949873, 0.4311231554949873, 0.4311231554949873, 0.4311231554949873, 0.4311231554949873, 0.4311231554949873, 0.4311231554949873, 0.4311231554949873, 0.4311231554949873, 0.4311231554949873, 0.4311231554949873, 0.4311231554949873, 0.4311231554949873, 0.4311231554949873, 0.4311231554949873, 0.4311231554949873, 0.4311231554949873, 0.4311231554949873, 0.4311231554949873, 0.4311231554949873, 0.4311231554949873, 0.4311231554949873, 0.4311231554949873, 0.4311231554949873, 0.4311231554949873, 0.4311231554949873, 0.4311231554949873, 0.4311231554949873, 0.4311231554949873, 0.4311231554949873, 0.4311231554949873]}], \"balanced_accuracy\": [{\"categories\": [\"0\", \"1\", \"2\", \"3\", \"4\", \"5\", \"6\", \"7\", \"8\", \"9\", \"10\", \"11\", \"12\", \"13\", \"14\", \"15\", \"16\", \"17\", \"18\", \"19\", \"20\", \"21\", \"22\", \"23\", \"24\", \"25\", \"26\", \"27\", \"28\", \"29\", \"30\", \"31\", \"32\", \"33\", \"34\", \"35\", \"36\", \"37\", \"38\", \"39\", \"40\", \"41\", \"42\", \"43\", \"44\", \"45\", \"46\", \"47\", \"48\", \"49\", \"50\", \"51\", \"52\", \"53\", \"54\", \"55\", \"56\", \"57\", \"58\", \"59\", \"60\", \"61\", \"62\", \"63\", \"64\", \"65\", \"66\", \"67\", \"68\", \"69\", \"70\", \"71\", \"72\"], \"mode\": \"markers\", \"name\": \"balanced_accuracy\", \"stepped\": false, \"type\": \"scatter\", \"data\": [0.7663876731554501, 0.7802620657427856, 0.7737842284675652, 0.7715367914578654, 0.7901329762167014, 0.7807483212786357, 0.7656685892427318, 0.7619934402171857, 0.5906472559698366, 0.7600857508564793, 0.7783215874748922, 0.7779738741560068, 0.739490611130841, 0.7577679349628283, 0.7743829784516801, 0.7724416905002506, 0.7842221407610195, 0.7653729213848907, 0.763915188164753, 0.7690119938750937, 0.774946773883645, 0.7718317610541425, 0.7822903642658473, 0.7653824856048299, 0.7728961047619799, 0.5, 0.7677900429346164, 0.7647546699900793, 0.7615844546125069, 0.752739262883268, 0.7758140269748223, 0.774021386615741, 0.7613752168925142, 0.7822976939977453, 0.7257272714909373, 0.7787250945814487, 0.7793600614700681, 0.7709451750324255, 0.7705015032287618, 0.749603108406892, 0.7839326213403518, 0.7700743221509301, 0.7742672075912603, 0.770490765422854, 0.7846993903589774, 0.7848307754243581, 0.773203213497486, 0.7790798265092519, 0.7836032634017656, 0.7907029600217426, 0.7808146054938856, 0.7825528860357235, 0.7906042375399798, 0.7765558278483097, 0.7843799548274039, 0.7652224513396714, 0.7660232451878178, 0.7777596976724791, 0.7549621131381677, 0.7576881569090709, 0.5768717185809021, 0.7800396326701827, 0.7706828058380126, 0.7789707556295062, 0.781662115450169, 0.7787625211232817, 0.7726650773154681, 0.7749678128404899, 0.7558307290679358, 0.78267978724374, 0.7733925661142166, 0.7984468177382973, 0.784712397461837]}, {\"categories\": [\"0\", \"1\", \"2\", \"3\", \"4\", \"5\", \"6\", \"7\", \"8\", \"9\", \"10\", \"11\", \"12\", \"13\", \"14\", \"15\", \"16\", \"17\", \"18\", \"19\", \"20\", \"21\", \"22\", \"23\", \"24\", \"25\", \"26\", \"27\", \"28\", \"29\", \"30\", \"31\", \"32\", \"33\", \"34\", \"35\", \"36\", \"37\", \"38\", \"39\", \"40\", \"41\", \"42\", \"43\", \"44\", \"45\", \"46\", \"47\", \"48\", \"49\", \"50\", \"51\", \"52\", \"53\", \"54\", \"55\", \"56\", \"57\", \"58\", \"59\", \"60\", \"61\", \"62\", \"63\", \"64\", \"65\", \"66\", \"67\", \"68\", \"69\", \"70\", \"71\", \"72\"], \"mode\": \"lines\", \"name\": \"balanced_accuracy_max\", \"stepped\": true, \"type\": \"scatter\", \"data\": [0.7663876731554501, 0.7802620657427856, 0.7802620657427856, 0.7802620657427856, 0.7901329762167014, 0.7901329762167014, 0.7901329762167014, 0.7901329762167014, 0.7901329762167014, 0.7901329762167014, 0.7901329762167014, 0.7901329762167014, 0.7901329762167014, 0.7901329762167014, 0.7901329762167014, 0.7901329762167014, 0.7901329762167014, 0.7901329762167014, 0.7901329762167014, 0.7901329762167014, 0.7901329762167014, 0.7901329762167014, 0.7901329762167014, 0.7901329762167014, 0.7901329762167014, 0.7901329762167014, 0.7901329762167014, 0.7901329762167014, 0.7901329762167014, 0.7901329762167014, 0.7901329762167014, 0.7901329762167014, 0.7901329762167014, 0.7901329762167014, 0.7901329762167014, 0.7901329762167014, 0.7901329762167014, 0.7901329762167014, 0.7901329762167014, 0.7901329762167014, 0.7901329762167014, 0.7901329762167014, 0.7901329762167014, 0.7901329762167014, 0.7901329762167014, 0.7901329762167014, 0.7901329762167014, 0.7901329762167014, 0.7901329762167014, 0.7907029600217426, 0.7907029600217426, 0.7907029600217426, 0.7907029600217426, 0.7907029600217426, 0.7907029600217426, 0.7907029600217426, 0.7907029600217426, 0.7907029600217426, 0.7907029600217426, 0.7907029600217426, 0.7907029600217426, 0.7907029600217426, 0.7907029600217426, 0.7907029600217426, 0.7907029600217426, 0.7907029600217426, 0.7907029600217426, 0.7907029600217426, 0.7907029600217426, 0.7907029600217426, 0.7907029600217426, 0.7984468177382973, 0.7984468177382973]}], \"AUC_macro\": [{\"categories\": [\"0\", \"1\", \"2\", \"3\", \"4\", \"5\", \"6\", \"7\", \"8\", \"9\", \"10\", \"11\", \"12\", \"13\", \"14\", \"15\", \"16\", \"17\", \"18\", \"19\", \"20\", \"21\", \"22\", \"23\", \"24\", \"25\", \"26\", \"27\", \"28\", \"29\", \"30\", \"31\", \"32\", \"33\", \"34\", \"35\", \"36\", \"37\", \"38\", \"39\", \"40\", \"41\", \"42\", \"43\", \"44\", \"45\", \"46\", \"47\", \"48\", \"49\", \"50\", \"51\", \"52\", \"53\", \"54\", \"55\", \"56\", \"57\", \"58\", \"59\", \"60\", \"61\", \"62\", \"63\", \"64\", \"65\", \"66\", \"67\", \"68\", \"69\", \"70\", \"71\", \"72\"], \"mode\": \"markers\", \"name\": \"AUC_macro\", \"stepped\": false, \"type\": \"scatter\", \"data\": [0.8536678514349534, 0.8678531479143805, 0.8456289143871292, 0.8433295453306321, 0.8579864974414727, 0.8595599902714026, 0.8159354153140708, 0.8422872289487172, 0.6168074756784434, 0.8365041651068185, 0.836479788741384, 0.8520777090669545, 0.8391855585106726, 0.8394802860143779, 0.8447307460326559, 0.8483092986450629, 0.8570316963081416, 0.8483418582012003, 0.8498833575017688, 0.8458284455732806, 0.8411136558332033, 0.8428401843577286, 0.8623371280670034, 0.8393445269504266, 0.8519996259668886, 0.5, 0.8410996492361802, 0.8386974792028972, 0.8413737488784744, 0.838138722473417, 0.8453492819527951, 0.8388983630935275, 0.8399794476188355, 0.8618683621760267, 0.8419786256240953, 0.8336931458168779, 0.8561637810461566, 0.8182205346044148, 0.844678623132121, 0.8437570995286178, 0.859218601256528, 0.8403353700423047, 0.8433760365971068, 0.8335759476539213, 0.8521954005415813, 0.8595350311496971, 0.8489001282484586, 0.8613491319453539, 0.8583212077382943, 0.8659894197573438, 0.8438341621605262, 0.8547824093586908, 0.8482937346114139, 0.8533081832191988, 0.8572365223451562, 0.8438330763308883, 0.8370637337292952, 0.8640790562391732, 0.8422442764954875, 0.8418416236243864, 0.832255109667663, 0.8508411388267136, 0.8505795176208717, 0.8544274079305655, 0.8577604713182767, 0.8441696590447526, 0.8468857795145324, 0.8468135610292201, 0.8320491619114457, 0.8516799402006253, 0.850281543803006, 0.865293808823674, 0.8637827537602033]}, {\"categories\": [\"0\", \"1\", \"2\", \"3\", \"4\", \"5\", \"6\", \"7\", \"8\", \"9\", \"10\", \"11\", \"12\", \"13\", \"14\", \"15\", \"16\", \"17\", \"18\", \"19\", \"20\", \"21\", \"22\", \"23\", \"24\", \"25\", \"26\", \"27\", \"28\", \"29\", \"30\", \"31\", \"32\", \"33\", \"34\", \"35\", \"36\", \"37\", \"38\", \"39\", \"40\", \"41\", \"42\", \"43\", \"44\", \"45\", \"46\", \"47\", \"48\", \"49\", \"50\", \"51\", \"52\", \"53\", \"54\", \"55\", \"56\", \"57\", \"58\", \"59\", \"60\", \"61\", \"62\", \"63\", \"64\", \"65\", \"66\", \"67\", \"68\", \"69\", \"70\", \"71\", \"72\"], \"mode\": \"lines\", \"name\": \"AUC_macro_max\", \"stepped\": true, \"type\": \"scatter\", \"data\": [0.8536678514349534, 0.8678531479143805, 0.8678531479143805, 0.8678531479143805, 0.8678531479143805, 0.8678531479143805, 0.8678531479143805, 0.8678531479143805, 0.8678531479143805, 0.8678531479143805, 0.8678531479143805, 0.8678531479143805, 0.8678531479143805, 0.8678531479143805, 0.8678531479143805, 0.8678531479143805, 0.8678531479143805, 0.8678531479143805, 0.8678531479143805, 0.8678531479143805, 0.8678531479143805, 0.8678531479143805, 0.8678531479143805, 0.8678531479143805, 0.8678531479143805, 0.8678531479143805, 0.8678531479143805, 0.8678531479143805, 0.8678531479143805, 0.8678531479143805, 0.8678531479143805, 0.8678531479143805, 0.8678531479143805, 0.8678531479143805, 0.8678531479143805, 0.8678531479143805, 0.8678531479143805, 0.8678531479143805, 0.8678531479143805, 0.8678531479143805, 0.8678531479143805, 0.8678531479143805, 0.8678531479143805, 0.8678531479143805, 0.8678531479143805, 0.8678531479143805, 0.8678531479143805, 0.8678531479143805, 0.8678531479143805, 0.8678531479143805, 0.8678531479143805, 0.8678531479143805, 0.8678531479143805, 0.8678531479143805, 0.8678531479143805, 0.8678531479143805, 0.8678531479143805, 0.8678531479143805, 0.8678531479143805, 0.8678531479143805, 0.8678531479143805, 0.8678531479143805, 0.8678531479143805, 0.8678531479143805, 0.8678531479143805, 0.8678531479143805, 0.8678531479143805, 0.8678531479143805, 0.8678531479143805, 0.8678531479143805, 0.8678531479143805, 0.8678531479143805, 0.8678531479143805]}], \"f1_score_macro\": [{\"categories\": [\"0\", \"1\", \"2\", \"3\", \"4\", \"5\", \"6\", \"7\", \"8\", \"9\", \"10\", \"11\", \"12\", \"13\", \"14\", \"15\", \"16\", \"17\", \"18\", \"19\", \"20\", \"21\", \"22\", \"23\", \"24\", \"25\", \"26\", \"27\", \"28\", \"29\", \"30\", \"31\", \"32\", \"33\", \"34\", \"35\", \"36\", \"37\", \"38\", \"39\", \"40\", \"41\", \"42\", \"43\", \"44\", \"45\", \"46\", \"47\", \"48\", \"49\", \"50\", \"51\", \"52\", \"53\", \"54\", \"55\", \"56\", \"57\", \"58\", \"59\", \"60\", \"61\", \"62\", \"63\", \"64\", \"65\", \"66\", \"67\", \"68\", \"69\", \"70\", \"71\", \"72\"], \"mode\": \"markers\", \"name\": \"f1_score_macro\", \"stepped\": false, \"type\": \"scatter\", \"data\": [0.7703578865954945, 0.7886104338170347, 0.7777649969218556, 0.7765656064335861, 0.7900252450702782, 0.7876703100111772, 0.7744441131329484, 0.7668354770566846, 0.5139470656799155, 0.7661476986207404, 0.7787844140877747, 0.7837978529302765, 0.7518023793375789, 0.7668773371165772, 0.780265645927, 0.781227805395624, 0.7888513650175053, 0.7726377119150851, 0.7717325887243854, 0.7746755868807368, 0.7797594591484253, 0.7822889241312208, 0.7886408542421731, 0.7705797546619241, 0.7778078195505028, 0.3819228523840639, 0.7632995790533391, 0.7579833046160994, 0.7717282747701507, 0.7577488632439341, 0.7804649508317131, 0.7814743404872391, 0.7674373366869998, 0.7908293579379913, 0.7366294675367273, 0.7797700990256207, 0.7867780598290514, 0.7725471046544993, 0.7764231557248341, 0.7608297819587196, 0.7921024795324959, 0.778005189146878, 0.7817874567690467, 0.7769413850899864, 0.7915876803050331, 0.7924019935368841, 0.7785761927321649, 0.7884155895835052, 0.79057804811406, 0.7982176718120817, 0.7875976035122508, 0.7907458645912468, 0.7983784751572035, 0.7842009444363677, 0.7924550406160492, 0.771507039907278, 0.7578906090462368, 0.7858448162474291, 0.7675683176388212, 0.764925654276282, 0.5296527501846434, 0.7883551556114256, 0.7781667021788442, 0.787343033810838, 0.7895938552853741, 0.7864151525517417, 0.7789390923855578, 0.7816493885382455, 0.7631094425933957, 0.789449779729274, 0.7814222864759518, 0.8069141782864708, 0.7926027897418327]}, {\"categories\": [\"0\", \"1\", \"2\", \"3\", \"4\", \"5\", \"6\", \"7\", \"8\", \"9\", \"10\", \"11\", \"12\", \"13\", \"14\", \"15\", \"16\", \"17\", \"18\", \"19\", \"20\", \"21\", \"22\", \"23\", \"24\", \"25\", \"26\", \"27\", \"28\", \"29\", \"30\", \"31\", \"32\", \"33\", \"34\", \"35\", \"36\", \"37\", \"38\", \"39\", \"40\", \"41\", \"42\", \"43\", \"44\", \"45\", \"46\", \"47\", \"48\", \"49\", \"50\", \"51\", \"52\", \"53\", \"54\", \"55\", \"56\", \"57\", \"58\", \"59\", \"60\", \"61\", \"62\", \"63\", \"64\", \"65\", \"66\", \"67\", \"68\", \"69\", \"70\", \"71\", \"72\"], \"mode\": \"lines\", \"name\": \"f1_score_macro_max\", \"stepped\": true, \"type\": \"scatter\", \"data\": [0.7703578865954945, 0.7886104338170347, 0.7886104338170347, 0.7886104338170347, 0.7900252450702782, 0.7900252450702782, 0.7900252450702782, 0.7900252450702782, 0.7900252450702782, 0.7900252450702782, 0.7900252450702782, 0.7900252450702782, 0.7900252450702782, 0.7900252450702782, 0.7900252450702782, 0.7900252450702782, 0.7900252450702782, 0.7900252450702782, 0.7900252450702782, 0.7900252450702782, 0.7900252450702782, 0.7900252450702782, 0.7900252450702782, 0.7900252450702782, 0.7900252450702782, 0.7900252450702782, 0.7900252450702782, 0.7900252450702782, 0.7900252450702782, 0.7900252450702782, 0.7900252450702782, 0.7900252450702782, 0.7900252450702782, 0.7908293579379913, 0.7908293579379913, 0.7908293579379913, 0.7908293579379913, 0.7908293579379913, 0.7908293579379913, 0.7908293579379913, 0.7921024795324959, 0.7921024795324959, 0.7921024795324959, 0.7921024795324959, 0.7921024795324959, 0.7924019935368841, 0.7924019935368841, 0.7924019935368841, 0.7924019935368841, 0.7982176718120817, 0.7982176718120817, 0.7982176718120817, 0.7983784751572035, 0.7983784751572035, 0.7983784751572035, 0.7983784751572035, 0.7983784751572035, 0.7983784751572035, 0.7983784751572035, 0.7983784751572035, 0.7983784751572035, 0.7983784751572035, 0.7983784751572035, 0.7983784751572035, 0.7983784751572035, 0.7983784751572035, 0.7983784751572035, 0.7983784751572035, 0.7983784751572035, 0.7983784751572035, 0.7983784751572035, 0.8069141782864708, 0.8069141782864708]}], \"average_precision_score_micro\": [{\"categories\": [\"0\", \"1\", \"2\", \"3\", \"4\", \"5\", \"6\", \"7\", \"8\", \"9\", \"10\", \"11\", \"12\", \"13\", \"14\", \"15\", \"16\", \"17\", \"18\", \"19\", \"20\", \"21\", \"22\", \"23\", \"24\", \"25\", \"26\", \"27\", \"28\", \"29\", \"30\", \"31\", \"32\", \"33\", \"34\", \"35\", \"36\", \"37\", \"38\", \"39\", \"40\", \"41\", \"42\", \"43\", \"44\", \"45\", \"46\", \"47\", \"48\", \"49\", \"50\", \"51\", \"52\", \"53\", \"54\", \"55\", \"56\", \"57\", \"58\", \"59\", \"60\", \"61\", \"62\", \"63\", \"64\", \"65\", \"66\", \"67\", \"68\", \"69\", \"70\", \"71\", \"72\"], \"mode\": \"markers\", \"name\": \"average_precision_score_micro\", \"stepped\": false, \"type\": \"scatter\", \"data\": [0.863666599473822, 0.876507107561335, 0.8508442495135524, 0.8423031646087497, 0.8636740060130114, 0.8715149103221734, 0.8321402330378197, 0.8501875129850879, 0.6635279745383257, 0.8453685196018138, 0.8284989035587881, 0.8547639241038171, 0.8274244216045327, 0.8435899363897187, 0.8511450465234883, 0.8563998650889474, 0.866772039683712, 0.8598634988901855, 0.8522553443544528, 0.8528365389131682, 0.8431167403845041, 0.8463620349316793, 0.8720697337015922, 0.8434196168260844, 0.8571729199062469, 0.5729482242893462, 0.8452211158408488, 0.8412458851854151, 0.8474885946170941, 0.8457205956130727, 0.8438512137431954, 0.8537181426193556, 0.8364391220054911, 0.8716031935015981, 0.8279306585372596, 0.8381909167913008, 0.8672461956578288, 0.8017957057247771, 0.8550680294437395, 0.8411401866789524, 0.8696269511834899, 0.8546464985096612, 0.8499461327643042, 0.8429094195487412, 0.8621778877409906, 0.8676583047782628, 0.8575308939542438, 0.8720065881912067, 0.8655228938489173, 0.8739350093404593, 0.8495657033695485, 0.8670325351109626, 0.8615167738529458, 0.8657512377076436, 0.8651949476814936, 0.8390407421820241, 0.833943801966703, 0.8735031859226402, 0.8292220446730497, 0.8446758342802276, 0.769255845598758, 0.8615927277350749, 0.8589765477227975, 0.8664105847737509, 0.8688993559805339, 0.8589924095168732, 0.8556096116298194, 0.8567460286415359, 0.8304307730466358, 0.8622015993262329, 0.8623424550248346, 0.873793676570051, 0.8694586930871857]}, {\"categories\": [\"0\", \"1\", \"2\", \"3\", \"4\", \"5\", \"6\", \"7\", \"8\", \"9\", \"10\", \"11\", \"12\", \"13\", \"14\", \"15\", \"16\", \"17\", \"18\", \"19\", \"20\", \"21\", \"22\", \"23\", \"24\", \"25\", \"26\", \"27\", \"28\", \"29\", \"30\", \"31\", \"32\", \"33\", \"34\", \"35\", \"36\", \"37\", \"38\", \"39\", \"40\", \"41\", \"42\", \"43\", \"44\", \"45\", \"46\", \"47\", \"48\", \"49\", \"50\", \"51\", \"52\", \"53\", \"54\", \"55\", \"56\", \"57\", \"58\", \"59\", \"60\", \"61\", \"62\", \"63\", \"64\", \"65\", \"66\", \"67\", \"68\", \"69\", \"70\", \"71\", \"72\"], \"mode\": \"lines\", \"name\": \"average_precision_score_micro_max\", \"stepped\": true, \"type\": \"scatter\", \"data\": [0.863666599473822, 0.876507107561335, 0.876507107561335, 0.876507107561335, 0.876507107561335, 0.876507107561335, 0.876507107561335, 0.876507107561335, 0.876507107561335, 0.876507107561335, 0.876507107561335, 0.876507107561335, 0.876507107561335, 0.876507107561335, 0.876507107561335, 0.876507107561335, 0.876507107561335, 0.876507107561335, 0.876507107561335, 0.876507107561335, 0.876507107561335, 0.876507107561335, 0.876507107561335, 0.876507107561335, 0.876507107561335, 0.876507107561335, 0.876507107561335, 0.876507107561335, 0.876507107561335, 0.876507107561335, 0.876507107561335, 0.876507107561335, 0.876507107561335, 0.876507107561335, 0.876507107561335, 0.876507107561335, 0.876507107561335, 0.876507107561335, 0.876507107561335, 0.876507107561335, 0.876507107561335, 0.876507107561335, 0.876507107561335, 0.876507107561335, 0.876507107561335, 0.876507107561335, 0.876507107561335, 0.876507107561335, 0.876507107561335, 0.876507107561335, 0.876507107561335, 0.876507107561335, 0.876507107561335, 0.876507107561335, 0.876507107561335, 0.876507107561335, 0.876507107561335, 0.876507107561335, 0.876507107561335, 0.876507107561335, 0.876507107561335, 0.876507107561335, 0.876507107561335, 0.876507107561335, 0.876507107561335, 0.876507107561335, 0.876507107561335, 0.876507107561335, 0.876507107561335, 0.876507107561335, 0.876507107561335, 0.876507107561335, 0.876507107561335]}], \"average_precision_score_weighted\": [{\"categories\": [\"0\", \"1\", \"2\", \"3\", \"4\", \"5\", \"6\", \"7\", \"8\", \"9\", \"10\", \"11\", \"12\", \"13\", \"14\", \"15\", \"16\", \"17\", \"18\", \"19\", \"20\", \"21\", \"22\", \"23\", \"24\", \"25\", \"26\", \"27\", \"28\", \"29\", \"30\", \"31\", \"32\", \"33\", \"34\", \"35\", \"36\", \"37\", \"38\", \"39\", \"40\", \"41\", \"42\", \"43\", \"44\", \"45\", \"46\", \"47\", \"48\", \"49\", \"50\", \"51\", \"52\", \"53\", \"54\", \"55\", \"56\", \"57\", \"58\", \"59\", \"60\", \"61\", \"62\", \"63\", \"64\", \"65\", \"66\", \"67\", \"68\", \"69\", \"70\", \"71\", \"72\"], \"mode\": \"markers\", \"name\": \"average_precision_score_weighted\", \"stepped\": false, \"type\": \"scatter\", \"data\": [0.8577584361582775, 0.869844220208552, 0.8433772720714511, 0.8440726648594338, 0.859567608562373, 0.862869876294984, 0.8137076567849055, 0.8429268067126943, 0.6337938021482211, 0.8374052309946128, 0.8345791924405521, 0.8512777146293979, 0.8382503090823551, 0.8409301965959801, 0.8510811292097791, 0.8437458044563498, 0.8624594241139025, 0.8503786365853606, 0.8573362474812541, 0.8415766994498718, 0.8464218801285915, 0.8445458522171778, 0.8650776880718979, 0.8373072199381292, 0.8506947952890899, 0.5279403836312236, 0.8455470582362952, 0.8419022847553652, 0.8415019228634949, 0.8402317357294846, 0.8332354627558111, 0.8419350561141122, 0.8440341509316532, 0.8642262798869393, 0.8414690480051883, 0.8209655701185273, 0.8541274091549109, 0.797763079734053, 0.8457703228812803, 0.8491889126475559, 0.86119701387618, 0.8446528719873118, 0.847177483716344, 0.8319443334137891, 0.8529269694398499, 0.8572906528188134, 0.8497667270322274, 0.8645095277899087, 0.8572286000622774, 0.8662921834293701, 0.843815197668059, 0.856611204127533, 0.8523688516373542, 0.857705846464376, 0.8576047053460357, 0.8294300519025093, 0.8360158634480229, 0.8691193554033957, 0.8401018369092457, 0.8294780227634444, 0.8288673780237357, 0.8524085016364289, 0.8498609603167001, 0.8541605128227373, 0.857990131686997, 0.8484828589326142, 0.8468877779892904, 0.8421945087893473, 0.8132971165138749, 0.8514241780128264, 0.8539000031954164, 0.8651028548099481, 0.8650728387373382]}, {\"categories\": [\"0\", \"1\", \"2\", \"3\", \"4\", \"5\", \"6\", \"7\", \"8\", \"9\", \"10\", \"11\", \"12\", \"13\", \"14\", \"15\", \"16\", \"17\", \"18\", \"19\", \"20\", \"21\", \"22\", \"23\", \"24\", \"25\", \"26\", \"27\", \"28\", \"29\", \"30\", \"31\", \"32\", \"33\", \"34\", \"35\", \"36\", \"37\", \"38\", \"39\", \"40\", \"41\", \"42\", \"43\", \"44\", \"45\", \"46\", \"47\", \"48\", \"49\", \"50\", \"51\", \"52\", \"53\", \"54\", \"55\", \"56\", \"57\", \"58\", \"59\", \"60\", \"61\", \"62\", \"63\", \"64\", \"65\", \"66\", \"67\", \"68\", \"69\", \"70\", \"71\", \"72\"], \"mode\": \"lines\", \"name\": \"average_precision_score_weighted_max\", \"stepped\": true, \"type\": \"scatter\", \"data\": [0.8577584361582775, 0.869844220208552, 0.869844220208552, 0.869844220208552, 0.869844220208552, 0.869844220208552, 0.869844220208552, 0.869844220208552, 0.869844220208552, 0.869844220208552, 0.869844220208552, 0.869844220208552, 0.869844220208552, 0.869844220208552, 0.869844220208552, 0.869844220208552, 0.869844220208552, 0.869844220208552, 0.869844220208552, 0.869844220208552, 0.869844220208552, 0.869844220208552, 0.869844220208552, 0.869844220208552, 0.869844220208552, 0.869844220208552, 0.869844220208552, 0.869844220208552, 0.869844220208552, 0.869844220208552, 0.869844220208552, 0.869844220208552, 0.869844220208552, 0.869844220208552, 0.869844220208552, 0.869844220208552, 0.869844220208552, 0.869844220208552, 0.869844220208552, 0.869844220208552, 0.869844220208552, 0.869844220208552, 0.869844220208552, 0.869844220208552, 0.869844220208552, 0.869844220208552, 0.869844220208552, 0.869844220208552, 0.869844220208552, 0.869844220208552, 0.869844220208552, 0.869844220208552, 0.869844220208552, 0.869844220208552, 0.869844220208552, 0.869844220208552, 0.869844220208552, 0.869844220208552, 0.869844220208552, 0.869844220208552, 0.869844220208552, 0.869844220208552, 0.869844220208552, 0.869844220208552, 0.869844220208552, 0.869844220208552, 0.869844220208552, 0.869844220208552, 0.869844220208552, 0.869844220208552, 0.869844220208552, 0.869844220208552, 0.869844220208552]}], \"AUC_micro\": [{\"categories\": [\"0\", \"1\", \"2\", \"3\", \"4\", \"5\", \"6\", \"7\", \"8\", \"9\", \"10\", \"11\", \"12\", \"13\", \"14\", \"15\", \"16\", \"17\", \"18\", \"19\", \"20\", \"21\", \"22\", \"23\", \"24\", \"25\", \"26\", \"27\", \"28\", \"29\", \"30\", \"31\", \"32\", \"33\", \"34\", \"35\", \"36\", \"37\", \"38\", \"39\", \"40\", \"41\", \"42\", \"43\", \"44\", \"45\", \"46\", \"47\", \"48\", \"49\", \"50\", \"51\", \"52\", \"53\", \"54\", \"55\", \"56\", \"57\", \"58\", \"59\", \"60\", \"61\", \"62\", \"63\", \"64\", \"65\", \"66\", \"67\", \"68\", \"69\", \"70\", \"71\", \"72\"], \"mode\": \"markers\", \"name\": \"AUC_micro\", \"stepped\": false, \"type\": \"scatter\", \"data\": [0.8704444134284612, 0.885578388792648, 0.8664707186312098, 0.8597740029501674, 0.8722533750407084, 0.8791416600301586, 0.8485097276158106, 0.8605594371146378, 0.696717049394778, 0.8570701389972166, 0.8532004389673866, 0.8711012224858581, 0.8494949412019058, 0.8607865835803209, 0.8623382949784211, 0.8718291858578063, 0.8758658248563913, 0.8683617813756319, 0.8633344553821397, 0.8665500830589786, 0.8595632767109191, 0.8638024318355351, 0.8801542406603121, 0.8596234842078473, 0.8691089016784209, 0.617956064947469, 0.8519306081230861, 0.8498643962966916, 0.8650312121137483, 0.8578391529352524, 0.8679512757147587, 0.8633508756085746, 0.8538873517732476, 0.880427911100894, 0.8482360571752284, 0.8602693464476209, 0.8787065240296331, 0.833734260528786, 0.8665938703294719, 0.8572124476263195, 0.8786873670987924, 0.8651461536987929, 0.8618894754558667, 0.8566185827702565, 0.8734465781616462, 0.8784985344947907, 0.8704608336548961, 0.8802773923585739, 0.877992244179714, 0.8834464960605141, 0.8637969584267232, 0.8762735938128587, 0.8719797046001264, 0.8743661108420019, 0.8766403122032386, 0.8644017701004097, 0.8460111164932965, 0.879226497866739, 0.853621891445883, 0.8677487595887281, 0.7820461244160558, 0.8730661762492371, 0.8698341283459632, 0.8758138274726809, 0.8785204281300372, 0.8685752443192859, 0.8699983306103123, 0.8713174221339178, 0.8575490622682352, 0.8739665519987522, 0.8718237124489946, 0.8833178709534404, 0.8802144481572401]}, {\"categories\": [\"0\", \"1\", \"2\", \"3\", \"4\", \"5\", \"6\", \"7\", \"8\", \"9\", \"10\", \"11\", \"12\", \"13\", \"14\", \"15\", \"16\", \"17\", \"18\", \"19\", \"20\", \"21\", \"22\", \"23\", \"24\", \"25\", \"26\", \"27\", \"28\", \"29\", \"30\", \"31\", \"32\", \"33\", \"34\", \"35\", \"36\", \"37\", \"38\", \"39\", \"40\", \"41\", \"42\", \"43\", \"44\", \"45\", \"46\", \"47\", \"48\", \"49\", \"50\", \"51\", \"52\", \"53\", \"54\", \"55\", \"56\", \"57\", \"58\", \"59\", \"60\", \"61\", \"62\", \"63\", \"64\", \"65\", \"66\", \"67\", \"68\", \"69\", \"70\", \"71\", \"72\"], \"mode\": \"lines\", \"name\": \"AUC_micro_max\", \"stepped\": true, \"type\": \"scatter\", \"data\": [0.8704444134284612, 0.885578388792648, 0.885578388792648, 0.885578388792648, 0.885578388792648, 0.885578388792648, 0.885578388792648, 0.885578388792648, 0.885578388792648, 0.885578388792648, 0.885578388792648, 0.885578388792648, 0.885578388792648, 0.885578388792648, 0.885578388792648, 0.885578388792648, 0.885578388792648, 0.885578388792648, 0.885578388792648, 0.885578388792648, 0.885578388792648, 0.885578388792648, 0.885578388792648, 0.885578388792648, 0.885578388792648, 0.885578388792648, 0.885578388792648, 0.885578388792648, 0.885578388792648, 0.885578388792648, 0.885578388792648, 0.885578388792648, 0.885578388792648, 0.885578388792648, 0.885578388792648, 0.885578388792648, 0.885578388792648, 0.885578388792648, 0.885578388792648, 0.885578388792648, 0.885578388792648, 0.885578388792648, 0.885578388792648, 0.885578388792648, 0.885578388792648, 0.885578388792648, 0.885578388792648, 0.885578388792648, 0.885578388792648, 0.885578388792648, 0.885578388792648, 0.885578388792648, 0.885578388792648, 0.885578388792648, 0.885578388792648, 0.885578388792648, 0.885578388792648, 0.885578388792648, 0.885578388792648, 0.885578388792648, 0.885578388792648, 0.885578388792648, 0.885578388792648, 0.885578388792648, 0.885578388792648, 0.885578388792648, 0.885578388792648, 0.885578388792648, 0.885578388792648, 0.885578388792648, 0.885578388792648, 0.885578388792648, 0.885578388792648]}], \"accuracy\": [{\"categories\": [\"0\", \"1\", \"2\", \"3\", \"4\", \"5\", \"6\", \"7\", \"8\", \"9\", \"10\", \"11\", \"12\", \"13\", \"14\", \"15\", \"16\", \"17\", \"18\", \"19\", \"20\", \"21\", \"22\", \"23\", \"24\", \"25\", \"26\", \"27\", \"28\", \"29\", \"30\", \"31\", \"32\", \"33\", \"34\", \"35\", \"36\", \"37\", \"38\", \"39\", \"40\", \"41\", \"42\", \"43\", \"44\", \"45\", \"46\", \"47\", \"48\", \"49\", \"50\", \"51\", \"52\", \"53\", \"54\", \"55\", \"56\", \"57\", \"58\", \"59\", \"60\", \"61\", \"62\", \"63\", \"64\", \"65\", \"66\", \"67\", \"68\", \"69\", \"70\", \"71\", \"72\"], \"mode\": \"markers\", \"name\": \"accuracy\", \"stepped\": false, \"type\": \"scatter\", \"data\": [0.7879656160458453, 0.8080229226361032, 0.7946513849092646, 0.7936962750716333, 0.802292263610315, 0.8061127029608405, 0.7965616045845273, 0.7851002865329514, 0.6771728748806113, 0.7860553963705826, 0.7917860553963706, 0.8013371537726838, 0.7889207258834766, 0.7908309455587393, 0.7975167144221585, 0.8032473734479465, 0.8042024832855779, 0.7936962750716332, 0.7936962750716333, 0.7936962750716333, 0.7965616045845273, 0.8051575931232091, 0.8061127029608405, 0.7889207258834766, 0.7946513849092645, 0.617956064947469, 0.7736389684813753, 0.766953199617956, 0.7965616045845273, 0.778414517669532, 0.7965616045845273, 0.8013371537726838, 0.7870105062082139, 0.8099331423113658, 0.775549188156638, 0.792741165234002, 0.8061127029608405, 0.7870105062082139, 0.7946513849092646, 0.7898758357211079, 0.8108882521489971, 0.7984718242597899, 0.801337153772684, 0.7965616045845273, 0.8089780324737346, 0.8108882521489971, 0.7956064947468958, 0.8089780324737345, 0.8080229226361032, 0.8156638013371538, 0.8051575931232092, 0.8099331423113657, 0.8166189111747851, 0.8032473734479465, 0.8108882521489971, 0.7917860553963706, 0.7659980897803248, 0.8051575931232091, 0.7975167144221587, 0.7879656160458453, 0.6762177650429799, 0.8080229226361032, 0.7984718242597899, 0.8070678127984717, 0.8089780324737345, 0.8061127029608404, 0.7965616045845273, 0.8003820439350525, 0.7851002865329514, 0.8070678127984717, 0.8013371537726838, 0.8242597898758358, 0.8108882521489971]}, {\"categories\": [\"0\", \"1\", \"2\", \"3\", \"4\", \"5\", \"6\", \"7\", \"8\", \"9\", \"10\", \"11\", \"12\", \"13\", \"14\", \"15\", \"16\", \"17\", \"18\", \"19\", \"20\", \"21\", \"22\", \"23\", \"24\", \"25\", \"26\", \"27\", \"28\", \"29\", \"30\", \"31\", \"32\", \"33\", \"34\", \"35\", \"36\", \"37\", \"38\", \"39\", \"40\", \"41\", \"42\", \"43\", \"44\", \"45\", \"46\", \"47\", \"48\", \"49\", \"50\", \"51\", \"52\", \"53\", \"54\", \"55\", \"56\", \"57\", \"58\", \"59\", \"60\", \"61\", \"62\", \"63\", \"64\", \"65\", \"66\", \"67\", \"68\", \"69\", \"70\", \"71\", \"72\"], \"mode\": \"lines\", \"name\": \"accuracy_max\", \"stepped\": true, \"type\": \"scatter\", \"data\": [0.7879656160458453, 0.8080229226361032, 0.8080229226361032, 0.8080229226361032, 0.8080229226361032, 0.8080229226361032, 0.8080229226361032, 0.8080229226361032, 0.8080229226361032, 0.8080229226361032, 0.8080229226361032, 0.8080229226361032, 0.8080229226361032, 0.8080229226361032, 0.8080229226361032, 0.8080229226361032, 0.8080229226361032, 0.8080229226361032, 0.8080229226361032, 0.8080229226361032, 0.8080229226361032, 0.8080229226361032, 0.8080229226361032, 0.8080229226361032, 0.8080229226361032, 0.8080229226361032, 0.8080229226361032, 0.8080229226361032, 0.8080229226361032, 0.8080229226361032, 0.8080229226361032, 0.8080229226361032, 0.8080229226361032, 0.8099331423113658, 0.8099331423113658, 0.8099331423113658, 0.8099331423113658, 0.8099331423113658, 0.8099331423113658, 0.8099331423113658, 0.8108882521489971, 0.8108882521489971, 0.8108882521489971, 0.8108882521489971, 0.8108882521489971, 0.8108882521489971, 0.8108882521489971, 0.8108882521489971, 0.8108882521489971, 0.8156638013371538, 0.8156638013371538, 0.8156638013371538, 0.8166189111747851, 0.8166189111747851, 0.8166189111747851, 0.8166189111747851, 0.8166189111747851, 0.8166189111747851, 0.8166189111747851, 0.8166189111747851, 0.8166189111747851, 0.8166189111747851, 0.8166189111747851, 0.8166189111747851, 0.8166189111747851, 0.8166189111747851, 0.8166189111747851, 0.8166189111747851, 0.8166189111747851, 0.8166189111747851, 0.8166189111747851, 0.8242597898758358, 0.8242597898758358]}], \"matthews_correlation\": [{\"categories\": [\"0\", \"1\", \"2\", \"3\", \"4\", \"5\", \"6\", \"7\", \"8\", \"9\", \"10\", \"11\", \"12\", \"13\", \"14\", \"15\", \"16\", \"17\", \"18\", \"19\", \"20\", \"21\", \"22\", \"23\", \"24\", \"25\", \"26\", \"27\", \"28\", \"29\", \"30\", \"31\", \"32\", \"33\", \"34\", \"35\", \"36\", \"37\", \"38\", \"39\", \"40\", \"41\", \"42\", \"43\", \"44\", \"45\", \"46\", \"47\", \"48\", \"49\", \"50\", \"51\", \"52\", \"53\", \"54\", \"55\", \"56\", \"57\", \"58\", \"59\", \"60\", \"61\", \"62\", \"63\", \"64\", \"65\", \"66\", \"67\", \"68\", \"69\", \"70\", \"71\", \"72\"], \"mode\": \"markers\", \"name\": \"matthews_correlation\", \"stepped\": false, \"type\": \"scatter\", \"data\": [0.5440028669916473, 0.5869092880764009, 0.5597309681356175, 0.5591508895929479, 0.5816233925543325, 0.5816839483163884, 0.5609803313915465, 0.5386016069866116, 0.18832947933254152, 0.5377200579784969, 0.5595529208516866, 0.5727630965602958, 0.5508979300563356, 0.553654182825416, 0.5684200336562656, 0.5777936733105049, 0.5810758071445254, 0.5546133619000351, 0.5563214579002717, 0.5569528039488922, 0.5667057210882663, 0.5816321372861663, 0.5818817938637624, 0.5456676586762925, 0.5611655175085322, 0.0, 0.5303616411651686, 0.5202647045315095, 0.5631862369706097, 0.5278510505666204, 0.5704944321596894, 0.5754509330807783, 0.546526136786481, 0.5910126448191773, 0.5195862165410393, 0.5607073598248288, 0.5819568260307467, 0.5462452811205357, 0.5595102393331682, 0.5478357460499169, 0.5925704989731869, 0.5669259100084559, 0.5724254222363537, 0.5604237994752583, 0.588845295721069, 0.5923952464118502, 0.5638329799549685, 0.588749396207061, 0.5881321398572407, 0.6045897556360599, 0.5815881442070784, 0.5898135903271089, 0.604075724456827, 0.5778079178176209, 0.5924477087778551, 0.5617504200865343, 0.5217436993477348, 0.5794547231502832, 0.5662691213311267, 0.5464019736691946, 0.3125311335179716, 0.5855896572395966, 0.5643389042211308, 0.5840014852884783, 0.5875598418434929, 0.5813778625584373, 0.565065737773263, 0.5695480464217796, 0.5448808557523924, 0.5861268851117608, 0.5716981792711768, 0.6214916204287325, 0.595043033415812]}, {\"categories\": [\"0\", \"1\", \"2\", \"3\", \"4\", \"5\", \"6\", \"7\", \"8\", \"9\", \"10\", \"11\", \"12\", \"13\", \"14\", \"15\", \"16\", \"17\", \"18\", \"19\", \"20\", \"21\", \"22\", \"23\", \"24\", \"25\", \"26\", \"27\", \"28\", \"29\", \"30\", \"31\", \"32\", \"33\", \"34\", \"35\", \"36\", \"37\", \"38\", \"39\", \"40\", \"41\", \"42\", \"43\", \"44\", \"45\", \"46\", \"47\", \"48\", \"49\", \"50\", \"51\", \"52\", \"53\", \"54\", \"55\", \"56\", \"57\", \"58\", \"59\", \"60\", \"61\", \"62\", \"63\", \"64\", \"65\", \"66\", \"67\", \"68\", \"69\", \"70\", \"71\", \"72\"], \"mode\": \"lines\", \"name\": \"matthews_correlation_max\", \"stepped\": true, \"type\": \"scatter\", \"data\": [0.5440028669916473, 0.5869092880764009, 0.5869092880764009, 0.5869092880764009, 0.5869092880764009, 0.5869092880764009, 0.5869092880764009, 0.5869092880764009, 0.5869092880764009, 0.5869092880764009, 0.5869092880764009, 0.5869092880764009, 0.5869092880764009, 0.5869092880764009, 0.5869092880764009, 0.5869092880764009, 0.5869092880764009, 0.5869092880764009, 0.5869092880764009, 0.5869092880764009, 0.5869092880764009, 0.5869092880764009, 0.5869092880764009, 0.5869092880764009, 0.5869092880764009, 0.5869092880764009, 0.5869092880764009, 0.5869092880764009, 0.5869092880764009, 0.5869092880764009, 0.5869092880764009, 0.5869092880764009, 0.5869092880764009, 0.5910126448191773, 0.5910126448191773, 0.5910126448191773, 0.5910126448191773, 0.5910126448191773, 0.5910126448191773, 0.5910126448191773, 0.5925704989731869, 0.5925704989731869, 0.5925704989731869, 0.5925704989731869, 0.5925704989731869, 0.5925704989731869, 0.5925704989731869, 0.5925704989731869, 0.5925704989731869, 0.6045897556360599, 0.6045897556360599, 0.6045897556360599, 0.6045897556360599, 0.6045897556360599, 0.6045897556360599, 0.6045897556360599, 0.6045897556360599, 0.6045897556360599, 0.6045897556360599, 0.6045897556360599, 0.6045897556360599, 0.6045897556360599, 0.6045897556360599, 0.6045897556360599, 0.6045897556360599, 0.6045897556360599, 0.6045897556360599, 0.6045897556360599, 0.6045897556360599, 0.6045897556360599, 0.6045897556360599, 0.6214916204287325, 0.6214916204287325]}], \"norm_macro_recall\": [{\"categories\": [\"0\", \"1\", \"2\", \"3\", \"4\", \"5\", \"6\", \"7\", \"8\", \"9\", \"10\", \"11\", \"12\", \"13\", \"14\", \"15\", \"16\", \"17\", \"18\", \"19\", \"20\", \"21\", \"22\", \"23\", \"24\", \"25\", \"26\", \"27\", \"28\", \"29\", \"30\", \"31\", \"32\", \"33\", \"34\", \"35\", \"36\", \"37\", \"38\", \"39\", \"40\", \"41\", \"42\", \"43\", \"44\", \"45\", \"46\", \"47\", \"48\", \"49\", \"50\", \"51\", \"52\", \"53\", \"54\", \"55\", \"56\", \"57\", \"58\", \"59\", \"60\", \"61\", \"62\", \"63\", \"64\", \"65\", \"66\", \"67\", \"68\", \"69\", \"70\", \"71\", \"72\"], \"mode\": \"markers\", \"name\": \"norm_macro_recall\", \"stepped\": false, \"type\": \"scatter\", \"data\": [0.5327753463109004, 0.5605241314855711, 0.5475684569351303, 0.543073582915731, 0.5802659524334026, 0.5614966425572714, 0.5313371784854638, 0.5239868804343714, 0.18129451193967325, 0.5201715017129588, 0.5566431749497845, 0.5559477483120138, 0.47898122226168205, 0.5155358699256568, 0.54876595690336, 0.5448833810005012, 0.5684442815220391, 0.5307458427697812, 0.5278303763295061, 0.5380239877501873, 0.5498935477672899, 0.5436635221082852, 0.5645807285316946, 0.5307649712096599, 0.5457922095239598, 0.0, 0.5355800858692327, 0.5295093399801588, 0.5231689092250139, 0.505478525766536, 0.5516280539496446, 0.5480427732314821, 0.5227504337850282, 0.5645953879954905, 0.45145454298187465, 0.5574501891628976, 0.558720122940136, 0.5418903500648512, 0.5410030064575237, 0.49920621681378413, 0.5678652426807036, 0.5401486443018603, 0.5485344151825206, 0.540981530845708, 0.5693987807179548, 0.5696615508487163, 0.5464064269949722, 0.5581596530185037, 0.5672065268035312, 0.5814059200434851, 0.561629210987771, 0.565105772071447, 0.5812084750799594, 0.5531116556966195, 0.5687599096548078, 0.5304449026793426, 0.5320464903756357, 0.5555193953449581, 0.5099242262763356, 0.5153763138181415, 0.15374343716180427, 0.5600792653403655, 0.5413656116760253, 0.5579415112590125, 0.563324230900338, 0.5575250422465634, 0.545330154630936, 0.5499356256809799, 0.5116614581358716, 0.5653595744874799, 0.5467851322284331, 0.5968936354765945, 0.5694247949236738]}, {\"categories\": [\"0\", \"1\", \"2\", \"3\", \"4\", \"5\", \"6\", \"7\", \"8\", \"9\", \"10\", \"11\", \"12\", \"13\", \"14\", \"15\", \"16\", \"17\", \"18\", \"19\", \"20\", \"21\", \"22\", \"23\", \"24\", \"25\", \"26\", \"27\", \"28\", \"29\", \"30\", \"31\", \"32\", \"33\", \"34\", \"35\", \"36\", \"37\", \"38\", \"39\", \"40\", \"41\", \"42\", \"43\", \"44\", \"45\", \"46\", \"47\", \"48\", \"49\", \"50\", \"51\", \"52\", \"53\", \"54\", \"55\", \"56\", \"57\", \"58\", \"59\", \"60\", \"61\", \"62\", \"63\", \"64\", \"65\", \"66\", \"67\", \"68\", \"69\", \"70\", \"71\", \"72\"], \"mode\": \"lines\", \"name\": \"norm_macro_recall_max\", \"stepped\": true, \"type\": \"scatter\", \"data\": [0.5327753463109004, 0.5605241314855711, 0.5605241314855711, 0.5605241314855711, 0.5802659524334026, 0.5802659524334026, 0.5802659524334026, 0.5802659524334026, 0.5802659524334026, 0.5802659524334026, 0.5802659524334026, 0.5802659524334026, 0.5802659524334026, 0.5802659524334026, 0.5802659524334026, 0.5802659524334026, 0.5802659524334026, 0.5802659524334026, 0.5802659524334026, 0.5802659524334026, 0.5802659524334026, 0.5802659524334026, 0.5802659524334026, 0.5802659524334026, 0.5802659524334026, 0.5802659524334026, 0.5802659524334026, 0.5802659524334026, 0.5802659524334026, 0.5802659524334026, 0.5802659524334026, 0.5802659524334026, 0.5802659524334026, 0.5802659524334026, 0.5802659524334026, 0.5802659524334026, 0.5802659524334026, 0.5802659524334026, 0.5802659524334026, 0.5802659524334026, 0.5802659524334026, 0.5802659524334026, 0.5802659524334026, 0.5802659524334026, 0.5802659524334026, 0.5802659524334026, 0.5802659524334026, 0.5802659524334026, 0.5802659524334026, 0.5814059200434851, 0.5814059200434851, 0.5814059200434851, 0.5814059200434851, 0.5814059200434851, 0.5814059200434851, 0.5814059200434851, 0.5814059200434851, 0.5814059200434851, 0.5814059200434851, 0.5814059200434851, 0.5814059200434851, 0.5814059200434851, 0.5814059200434851, 0.5814059200434851, 0.5814059200434851, 0.5814059200434851, 0.5814059200434851, 0.5814059200434851, 0.5814059200434851, 0.5814059200434851, 0.5814059200434851, 0.5968936354765945, 0.5968936354765945]}], \"recall_score_macro\": [{\"categories\": [\"0\", \"1\", \"2\", \"3\", \"4\", \"5\", \"6\", \"7\", \"8\", \"9\", \"10\", \"11\", \"12\", \"13\", \"14\", \"15\", \"16\", \"17\", \"18\", \"19\", \"20\", \"21\", \"22\", \"23\", \"24\", \"25\", \"26\", \"27\", \"28\", \"29\", \"30\", \"31\", \"32\", \"33\", \"34\", \"35\", \"36\", \"37\", \"38\", \"39\", \"40\", \"41\", \"42\", \"43\", \"44\", \"45\", \"46\", \"47\", \"48\", \"49\", \"50\", \"51\", \"52\", \"53\", \"54\", \"55\", \"56\", \"57\", \"58\", \"59\", \"60\", \"61\", \"62\", \"63\", \"64\", \"65\", \"66\", \"67\", \"68\", \"69\", \"70\", \"71\", \"72\"], \"mode\": \"markers\", \"name\": \"recall_score_macro\", \"stepped\": false, \"type\": \"scatter\", \"data\": [0.7663876731554501, 0.7802620657427856, 0.7737842284675652, 0.7715367914578654, 0.7901329762167014, 0.7807483212786357, 0.7656685892427318, 0.7619934402171857, 0.5906472559698366, 0.7600857508564793, 0.7783215874748922, 0.7779738741560068, 0.739490611130841, 0.7577679349628283, 0.7743829784516801, 0.7724416905002506, 0.7842221407610195, 0.7653729213848907, 0.763915188164753, 0.7690119938750937, 0.774946773883645, 0.7718317610541425, 0.7822903642658473, 0.7653824856048299, 0.7728961047619799, 0.5, 0.7677900429346164, 0.7647546699900793, 0.7615844546125069, 0.752739262883268, 0.7758140269748223, 0.774021386615741, 0.7613752168925142, 0.7822976939977453, 0.7257272714909373, 0.7787250945814487, 0.7793600614700681, 0.7709451750324255, 0.7705015032287618, 0.749603108406892, 0.7839326213403518, 0.7700743221509301, 0.7742672075912603, 0.770490765422854, 0.7846993903589774, 0.7848307754243581, 0.773203213497486, 0.7790798265092519, 0.7836032634017656, 0.7907029600217426, 0.7808146054938856, 0.7825528860357235, 0.7906042375399798, 0.7765558278483097, 0.7843799548274039, 0.7652224513396714, 0.7660232451878178, 0.7777596976724791, 0.7549621131381677, 0.7576881569090709, 0.5768717185809021, 0.7800396326701827, 0.7706828058380126, 0.7789707556295062, 0.781662115450169, 0.7787625211232817, 0.7726650773154681, 0.7749678128404899, 0.7558307290679358, 0.78267978724374, 0.7733925661142166, 0.7984468177382973, 0.784712397461837]}, {\"categories\": [\"0\", \"1\", \"2\", \"3\", \"4\", \"5\", \"6\", \"7\", \"8\", \"9\", \"10\", \"11\", \"12\", \"13\", \"14\", \"15\", \"16\", \"17\", \"18\", \"19\", \"20\", \"21\", \"22\", \"23\", \"24\", \"25\", \"26\", \"27\", \"28\", \"29\", \"30\", \"31\", \"32\", \"33\", \"34\", \"35\", \"36\", \"37\", \"38\", \"39\", \"40\", \"41\", \"42\", \"43\", \"44\", \"45\", \"46\", \"47\", \"48\", \"49\", \"50\", \"51\", \"52\", \"53\", \"54\", \"55\", \"56\", \"57\", \"58\", \"59\", \"60\", \"61\", \"62\", \"63\", \"64\", \"65\", \"66\", \"67\", \"68\", \"69\", \"70\", \"71\", \"72\"], \"mode\": \"lines\", \"name\": \"recall_score_macro_max\", \"stepped\": true, \"type\": \"scatter\", \"data\": [0.7663876731554501, 0.7802620657427856, 0.7802620657427856, 0.7802620657427856, 0.7901329762167014, 0.7901329762167014, 0.7901329762167014, 0.7901329762167014, 0.7901329762167014, 0.7901329762167014, 0.7901329762167014, 0.7901329762167014, 0.7901329762167014, 0.7901329762167014, 0.7901329762167014, 0.7901329762167014, 0.7901329762167014, 0.7901329762167014, 0.7901329762167014, 0.7901329762167014, 0.7901329762167014, 0.7901329762167014, 0.7901329762167014, 0.7901329762167014, 0.7901329762167014, 0.7901329762167014, 0.7901329762167014, 0.7901329762167014, 0.7901329762167014, 0.7901329762167014, 0.7901329762167014, 0.7901329762167014, 0.7901329762167014, 0.7901329762167014, 0.7901329762167014, 0.7901329762167014, 0.7901329762167014, 0.7901329762167014, 0.7901329762167014, 0.7901329762167014, 0.7901329762167014, 0.7901329762167014, 0.7901329762167014, 0.7901329762167014, 0.7901329762167014, 0.7901329762167014, 0.7901329762167014, 0.7901329762167014, 0.7901329762167014, 0.7907029600217426, 0.7907029600217426, 0.7907029600217426, 0.7907029600217426, 0.7907029600217426, 0.7907029600217426, 0.7907029600217426, 0.7907029600217426, 0.7907029600217426, 0.7907029600217426, 0.7907029600217426, 0.7907029600217426, 0.7907029600217426, 0.7907029600217426, 0.7907029600217426, 0.7907029600217426, 0.7907029600217426, 0.7907029600217426, 0.7907029600217426, 0.7907029600217426, 0.7907029600217426, 0.7907029600217426, 0.7984468177382973, 0.7984468177382973]}], \"f1_score_micro\": [{\"categories\": [\"0\", \"1\", \"2\", \"3\", \"4\", \"5\", \"6\", \"7\", \"8\", \"9\", \"10\", \"11\", \"12\", \"13\", \"14\", \"15\", \"16\", \"17\", \"18\", \"19\", \"20\", \"21\", \"22\", \"23\", \"24\", \"25\", \"26\", \"27\", \"28\", \"29\", \"30\", \"31\", \"32\", \"33\", \"34\", \"35\", \"36\", \"37\", \"38\", \"39\", \"40\", \"41\", \"42\", \"43\", \"44\", \"45\", \"46\", \"47\", \"48\", \"49\", \"50\", \"51\", \"52\", \"53\", \"54\", \"55\", \"56\", \"57\", \"58\", \"59\", \"60\", \"61\", \"62\", \"63\", \"64\", \"65\", \"66\", \"67\", \"68\", \"69\", \"70\", \"71\", \"72\"], \"mode\": \"markers\", \"name\": \"f1_score_micro\", \"stepped\": false, \"type\": \"scatter\", \"data\": [0.7879656160458453, 0.8080229226361032, 0.7946513849092646, 0.7936962750716333, 0.802292263610315, 0.8061127029608405, 0.7965616045845273, 0.7851002865329514, 0.6771728748806113, 0.7860553963705826, 0.7917860553963706, 0.8013371537726838, 0.7889207258834766, 0.7908309455587393, 0.7975167144221585, 0.8032473734479465, 0.8042024832855779, 0.7936962750716332, 0.7936962750716333, 0.7936962750716333, 0.7965616045845273, 0.8051575931232092, 0.8061127029608405, 0.7889207258834766, 0.7946513849092645, 0.617956064947469, 0.7736389684813753, 0.766953199617956, 0.7965616045845273, 0.778414517669532, 0.7965616045845273, 0.801337153772684, 0.7870105062082139, 0.8099331423113658, 0.775549188156638, 0.7927411652340018, 0.8061127029608405, 0.787010506208214, 0.7946513849092646, 0.7898758357211081, 0.8108882521489971, 0.7984718242597898, 0.801337153772684, 0.7965616045845273, 0.8089780324737346, 0.8108882521489971, 0.7956064947468958, 0.8089780324737345, 0.8080229226361032, 0.8156638013371538, 0.8051575931232092, 0.8099331423113658, 0.8166189111747851, 0.8032473734479465, 0.8108882521489971, 0.7917860553963706, 0.7659980897803248, 0.8051575931232091, 0.7975167144221587, 0.7879656160458453, 0.6762177650429799, 0.8080229226361032, 0.7984718242597899, 0.807067812798472, 0.8089780324737345, 0.8061127029608404, 0.7965616045845273, 0.8003820439350525, 0.7851002865329514, 0.807067812798472, 0.8013371537726838, 0.8242597898758358, 0.8108882521489971]}, {\"categories\": [\"0\", \"1\", \"2\", \"3\", \"4\", \"5\", \"6\", \"7\", \"8\", \"9\", \"10\", \"11\", \"12\", \"13\", \"14\", \"15\", \"16\", \"17\", \"18\", \"19\", \"20\", \"21\", \"22\", \"23\", \"24\", \"25\", \"26\", \"27\", \"28\", \"29\", \"30\", \"31\", \"32\", \"33\", \"34\", \"35\", \"36\", \"37\", \"38\", \"39\", \"40\", \"41\", \"42\", \"43\", \"44\", \"45\", \"46\", \"47\", \"48\", \"49\", \"50\", \"51\", \"52\", \"53\", \"54\", \"55\", \"56\", \"57\", \"58\", \"59\", \"60\", \"61\", \"62\", \"63\", \"64\", \"65\", \"66\", \"67\", \"68\", \"69\", \"70\", \"71\", \"72\"], \"mode\": \"lines\", \"name\": \"f1_score_micro_max\", \"stepped\": true, \"type\": \"scatter\", \"data\": [0.7879656160458453, 0.8080229226361032, 0.8080229226361032, 0.8080229226361032, 0.8080229226361032, 0.8080229226361032, 0.8080229226361032, 0.8080229226361032, 0.8080229226361032, 0.8080229226361032, 0.8080229226361032, 0.8080229226361032, 0.8080229226361032, 0.8080229226361032, 0.8080229226361032, 0.8080229226361032, 0.8080229226361032, 0.8080229226361032, 0.8080229226361032, 0.8080229226361032, 0.8080229226361032, 0.8080229226361032, 0.8080229226361032, 0.8080229226361032, 0.8080229226361032, 0.8080229226361032, 0.8080229226361032, 0.8080229226361032, 0.8080229226361032, 0.8080229226361032, 0.8080229226361032, 0.8080229226361032, 0.8080229226361032, 0.8099331423113658, 0.8099331423113658, 0.8099331423113658, 0.8099331423113658, 0.8099331423113658, 0.8099331423113658, 0.8099331423113658, 0.8108882521489971, 0.8108882521489971, 0.8108882521489971, 0.8108882521489971, 0.8108882521489971, 0.8108882521489971, 0.8108882521489971, 0.8108882521489971, 0.8108882521489971, 0.8156638013371538, 0.8156638013371538, 0.8156638013371538, 0.8166189111747851, 0.8166189111747851, 0.8166189111747851, 0.8166189111747851, 0.8166189111747851, 0.8166189111747851, 0.8166189111747851, 0.8166189111747851, 0.8166189111747851, 0.8166189111747851, 0.8166189111747851, 0.8166189111747851, 0.8166189111747851, 0.8166189111747851, 0.8166189111747851, 0.8166189111747851, 0.8166189111747851, 0.8166189111747851, 0.8166189111747851, 0.8242597898758358, 0.8242597898758358]}], \"weighted_accuracy\": [{\"categories\": [\"0\", \"1\", \"2\", \"3\", \"4\", \"5\", \"6\", \"7\", \"8\", \"9\", \"10\", \"11\", \"12\", \"13\", \"14\", \"15\", \"16\", \"17\", \"18\", \"19\", \"20\", \"21\", \"22\", \"23\", \"24\", \"25\", \"26\", \"27\", \"28\", \"29\", \"30\", \"31\", \"32\", \"33\", \"34\", \"35\", \"36\", \"37\", \"38\", \"39\", \"40\", \"41\", \"42\", \"43\", \"44\", \"45\", \"46\", \"47\", \"48\", \"49\", \"50\", \"51\", \"52\", \"53\", \"54\", \"55\", \"56\", \"57\", \"58\", \"59\", \"60\", \"61\", \"62\", \"63\", \"64\", \"65\", \"66\", \"67\", \"68\", \"69\", \"70\", \"71\", \"72\"], \"mode\": \"markers\", \"name\": \"weighted_accuracy\", \"stepped\": false, \"type\": \"scatter\", \"data\": [0.8071732841121863, 0.8328467405870117, 0.8132508852487454, 0.8135172203454083, 0.8131394501591185, 0.8287378351174155, 0.8241710153865967, 0.8057326314829959, 0.7546487398155054, 0.8092011873904476, 0.8038052545247538, 0.8222022284957512, 0.833098280973498, 0.8204742754482351, 0.8182503882770749, 0.8307750608133854, 0.8220608950919615, 0.818954843857224, 0.8203294383226405, 0.8157550512564665, 0.8159274224890251, 0.8349680725123791, 0.8273759585758441, 0.8099099116840137, 0.8141340556120698, 0.7233423881241151, 0.7788165802713097, 0.7688678716555247, 0.8278549674640138, 0.8014895689929378, 0.8152159215129916, 0.8257893193785785, 0.8100225684502829, 0.83464705267216, 0.8201316460280158, 0.805267691666186, 0.8299873765361493, 0.8013071364789154, 0.8162656421909186, 0.825908688146591, 0.8349787095938886, 0.8238555337423611, 0.8255292674730877, 0.8197970050209785, 0.8306669366958647, 0.8341679263542083, 0.8156729265885012, 0.8357067488459121, 0.8298693290571038, 0.8379858544302375, 0.8269306973475666, 0.8343789513824866, 0.8398160642010447, 0.8271434552417672, 0.8345760973022038, 0.8157007203589043, 0.7659544487641382, 0.8296257702257975, 0.8355369726454676, 0.815019299153294, 0.7649978965248913, 0.8330075995726259, 0.8232520724114295, 0.8321833035058032, 0.8333524412477767, 0.8305048297006264, 0.8179782466416491, 0.8230940408838879, 0.8114070258530939, 0.8288648082706044, 0.8263191289952223, 0.8473113019825179, 0.8343326295060866]}, {\"categories\": [\"0\", \"1\", \"2\", \"3\", \"4\", \"5\", \"6\", \"7\", \"8\", \"9\", \"10\", \"11\", \"12\", \"13\", \"14\", \"15\", \"16\", \"17\", \"18\", \"19\", \"20\", \"21\", \"22\", \"23\", \"24\", \"25\", \"26\", \"27\", \"28\", \"29\", \"30\", \"31\", \"32\", \"33\", \"34\", \"35\", \"36\", \"37\", \"38\", \"39\", \"40\", \"41\", \"42\", \"43\", \"44\", \"45\", \"46\", \"47\", \"48\", \"49\", \"50\", \"51\", \"52\", \"53\", \"54\", \"55\", \"56\", \"57\", \"58\", \"59\", \"60\", \"61\", \"62\", \"63\", \"64\", \"65\", \"66\", \"67\", \"68\", \"69\", \"70\", \"71\", \"72\"], \"mode\": \"lines\", \"name\": \"weighted_accuracy_max\", \"stepped\": true, \"type\": \"scatter\", \"data\": [0.8071732841121863, 0.8328467405870117, 0.8328467405870117, 0.8328467405870117, 0.8328467405870117, 0.8328467405870117, 0.8328467405870117, 0.8328467405870117, 0.8328467405870117, 0.8328467405870117, 0.8328467405870117, 0.8328467405870117, 0.833098280973498, 0.833098280973498, 0.833098280973498, 0.833098280973498, 0.833098280973498, 0.833098280973498, 0.833098280973498, 0.833098280973498, 0.833098280973498, 0.8349680725123791, 0.8349680725123791, 0.8349680725123791, 0.8349680725123791, 0.8349680725123791, 0.8349680725123791, 0.8349680725123791, 0.8349680725123791, 0.8349680725123791, 0.8349680725123791, 0.8349680725123791, 0.8349680725123791, 0.8349680725123791, 0.8349680725123791, 0.8349680725123791, 0.8349680725123791, 0.8349680725123791, 0.8349680725123791, 0.8349680725123791, 0.8349787095938886, 0.8349787095938886, 0.8349787095938886, 0.8349787095938886, 0.8349787095938886, 0.8349787095938886, 0.8349787095938886, 0.8357067488459121, 0.8357067488459121, 0.8379858544302375, 0.8379858544302375, 0.8379858544302375, 0.8398160642010447, 0.8398160642010447, 0.8398160642010447, 0.8398160642010447, 0.8398160642010447, 0.8398160642010447, 0.8398160642010447, 0.8398160642010447, 0.8398160642010447, 0.8398160642010447, 0.8398160642010447, 0.8398160642010447, 0.8398160642010447, 0.8398160642010447, 0.8398160642010447, 0.8398160642010447, 0.8398160642010447, 0.8398160642010447, 0.8398160642010447, 0.8473113019825179, 0.8473113019825179]}], \"precision_score_micro\": [{\"categories\": [\"0\", \"1\", \"2\", \"3\", \"4\", \"5\", \"6\", \"7\", \"8\", \"9\", \"10\", \"11\", \"12\", \"13\", \"14\", \"15\", \"16\", \"17\", \"18\", \"19\", \"20\", \"21\", \"22\", \"23\", \"24\", \"25\", \"26\", \"27\", \"28\", \"29\", \"30\", \"31\", \"32\", \"33\", \"34\", \"35\", \"36\", \"37\", \"38\", \"39\", \"40\", \"41\", \"42\", \"43\", \"44\", \"45\", \"46\", \"47\", \"48\", \"49\", \"50\", \"51\", \"52\", \"53\", \"54\", \"55\", \"56\", \"57\", \"58\", \"59\", \"60\", \"61\", \"62\", \"63\", \"64\", \"65\", \"66\", \"67\", \"68\", \"69\", \"70\", \"71\", \"72\"], \"mode\": \"markers\", \"name\": \"precision_score_micro\", \"stepped\": false, \"type\": \"scatter\", \"data\": [0.7879656160458453, 0.8080229226361032, 0.7946513849092646, 0.7936962750716333, 0.802292263610315, 0.8061127029608405, 0.7965616045845273, 0.7851002865329514, 0.6771728748806113, 0.7860553963705826, 0.7917860553963706, 0.8013371537726838, 0.7889207258834766, 0.7908309455587393, 0.7975167144221585, 0.8032473734479465, 0.8042024832855779, 0.7936962750716332, 0.7936962750716333, 0.7936962750716333, 0.7965616045845273, 0.8051575931232091, 0.8061127029608405, 0.7889207258834766, 0.7946513849092645, 0.617956064947469, 0.7736389684813753, 0.766953199617956, 0.7965616045845273, 0.778414517669532, 0.7965616045845273, 0.8013371537726838, 0.7870105062082139, 0.8099331423113658, 0.775549188156638, 0.792741165234002, 0.8061127029608405, 0.7870105062082139, 0.7946513849092646, 0.7898758357211079, 0.8108882521489971, 0.7984718242597899, 0.801337153772684, 0.7965616045845273, 0.8089780324737346, 0.8108882521489971, 0.7956064947468958, 0.8089780324737345, 0.8080229226361032, 0.8156638013371538, 0.8051575931232092, 0.8099331423113657, 0.8166189111747851, 0.8032473734479465, 0.8108882521489971, 0.7917860553963706, 0.7659980897803248, 0.8051575931232091, 0.7975167144221587, 0.7879656160458453, 0.6762177650429799, 0.8080229226361032, 0.7984718242597899, 0.8070678127984717, 0.8089780324737345, 0.8061127029608404, 0.7965616045845273, 0.8003820439350525, 0.7851002865329514, 0.8070678127984717, 0.8013371537726838, 0.8242597898758358, 0.8108882521489971]}, {\"categories\": [\"0\", \"1\", \"2\", \"3\", \"4\", \"5\", \"6\", \"7\", \"8\", \"9\", \"10\", \"11\", \"12\", \"13\", \"14\", \"15\", \"16\", \"17\", \"18\", \"19\", \"20\", \"21\", \"22\", \"23\", \"24\", \"25\", \"26\", \"27\", \"28\", \"29\", \"30\", \"31\", \"32\", \"33\", \"34\", \"35\", \"36\", \"37\", \"38\", \"39\", \"40\", \"41\", \"42\", \"43\", \"44\", \"45\", \"46\", \"47\", \"48\", \"49\", \"50\", \"51\", \"52\", \"53\", \"54\", \"55\", \"56\", \"57\", \"58\", \"59\", \"60\", \"61\", \"62\", \"63\", \"64\", \"65\", \"66\", \"67\", \"68\", \"69\", \"70\", \"71\", \"72\"], \"mode\": \"lines\", \"name\": \"precision_score_micro_max\", \"stepped\": true, \"type\": \"scatter\", \"data\": [0.7879656160458453, 0.8080229226361032, 0.8080229226361032, 0.8080229226361032, 0.8080229226361032, 0.8080229226361032, 0.8080229226361032, 0.8080229226361032, 0.8080229226361032, 0.8080229226361032, 0.8080229226361032, 0.8080229226361032, 0.8080229226361032, 0.8080229226361032, 0.8080229226361032, 0.8080229226361032, 0.8080229226361032, 0.8080229226361032, 0.8080229226361032, 0.8080229226361032, 0.8080229226361032, 0.8080229226361032, 0.8080229226361032, 0.8080229226361032, 0.8080229226361032, 0.8080229226361032, 0.8080229226361032, 0.8080229226361032, 0.8080229226361032, 0.8080229226361032, 0.8080229226361032, 0.8080229226361032, 0.8080229226361032, 0.8099331423113658, 0.8099331423113658, 0.8099331423113658, 0.8099331423113658, 0.8099331423113658, 0.8099331423113658, 0.8099331423113658, 0.8108882521489971, 0.8108882521489971, 0.8108882521489971, 0.8108882521489971, 0.8108882521489971, 0.8108882521489971, 0.8108882521489971, 0.8108882521489971, 0.8108882521489971, 0.8156638013371538, 0.8156638013371538, 0.8156638013371538, 0.8166189111747851, 0.8166189111747851, 0.8166189111747851, 0.8166189111747851, 0.8166189111747851, 0.8166189111747851, 0.8166189111747851, 0.8166189111747851, 0.8166189111747851, 0.8166189111747851, 0.8166189111747851, 0.8166189111747851, 0.8166189111747851, 0.8166189111747851, 0.8166189111747851, 0.8166189111747851, 0.8166189111747851, 0.8166189111747851, 0.8166189111747851, 0.8242597898758358, 0.8242597898758358]}]}, \"metricName\": null, \"primaryMetricName\": \"accuracy\", \"showLegend\": false}, \"run_metrics\": [{\"name\": \"experiment_status\", \"run_id\": \"AutoML_198f108e-08a7-4ea8-b191-e589efb0305d\", \"categories\": [0, 1, 2, 3, 4, 5, 6, 7, 8, 9, 10, 11, 12, 13], \"series\": [{\"data\": [\"DatasetEvaluation\", \"FeaturesGeneration\", \"DatasetFeaturization\", \"DatasetFeaturizationCompleted\", \"DatasetCrossValidationSplit\", \"ModelSelection\", \"BestRunExplainModel\", \"ModelExplanationDataSetSetup\", \"PickSurrogateModel\", \"EngineeredFeatureExplanations\", \"EngineeredFeatureExplanations\", \"RawFeaturesExplanations\", \"RawFeaturesExplanations\", \"BestRunExplainModel\"]}]}, {\"name\": \"experiment_status_description\", \"run_id\": \"AutoML_198f108e-08a7-4ea8-b191-e589efb0305d\", \"categories\": [0, 1, 2, 3, 4, 5, 6, 7, 8, 9, 10, 11, 12, 13], \"series\": [{\"data\": [\"Gathering dataset statistics.\", \"Generating features for the dataset.\", \"Beginning to fit featurizers and featurize the dataset.\", \"Completed fit featurizers and featurizing the dataset.\", \"Generating individually featurized CV splits.\", \"Beginning model selection.\", \"Best run model explanations started\", \"Model explanations data setup completed\", \"Choosing LightGBM as the surrogate model for explanations\", \"Computation of engineered features started\", \"Computation of engineered features completed\", \"Computation of raw features started\", \"Computation of raw features completed\", \"Best run model explanations completed\"]}]}, {\"name\": \"average_precision_score_weighted\", \"run_id\": \"AutoML_198f108e-08a7-4ea8-b191-e589efb0305d\", \"categories\": [0], \"series\": [{\"data\": [0.8651028548099481]}]}, {\"name\": \"norm_macro_recall\", \"run_id\": \"AutoML_198f108e-08a7-4ea8-b191-e589efb0305d\", \"categories\": [0], \"series\": [{\"data\": [0.5968936354765945]}]}, {\"name\": \"AUC_macro\", \"run_id\": \"AutoML_198f108e-08a7-4ea8-b191-e589efb0305d\", \"categories\": [0], \"series\": [{\"data\": [0.865293808823674]}]}, {\"name\": \"f1_score_weighted\", \"run_id\": \"AutoML_198f108e-08a7-4ea8-b191-e589efb0305d\", \"categories\": [0], \"series\": [{\"data\": [0.8207110185031791]}]}, {\"name\": \"AUC_weighted\", \"run_id\": \"AutoML_198f108e-08a7-4ea8-b191-e589efb0305d\", \"categories\": [0], \"series\": [{\"data\": [0.865293808823674]}]}, {\"name\": \"weighted_accuracy\", \"run_id\": \"AutoML_198f108e-08a7-4ea8-b191-e589efb0305d\", \"categories\": [0], \"series\": [{\"data\": [0.8473113019825179]}]}, {\"name\": \"precision_score_macro\", \"run_id\": \"AutoML_198f108e-08a7-4ea8-b191-e589efb0305d\", \"categories\": [0], \"series\": [{\"data\": [0.8235976652861371]}]}, {\"name\": \"f1_score_micro\", \"run_id\": \"AutoML_198f108e-08a7-4ea8-b191-e589efb0305d\", \"categories\": [0], \"series\": [{\"data\": [0.8242597898758358]}]}, {\"name\": \"precision_score_micro\", \"run_id\": \"AutoML_198f108e-08a7-4ea8-b191-e589efb0305d\", \"categories\": [0], \"series\": [{\"data\": [0.8242597898758358]}]}, {\"name\": \"recall_score_macro\", \"run_id\": \"AutoML_198f108e-08a7-4ea8-b191-e589efb0305d\", \"categories\": [0], \"series\": [{\"data\": [0.7984468177382973]}]}, {\"name\": \"recall_score_weighted\", \"run_id\": \"AutoML_198f108e-08a7-4ea8-b191-e589efb0305d\", \"categories\": [0], \"series\": [{\"data\": [0.8242597898758358]}]}, {\"name\": \"f1_score_macro\", \"run_id\": \"AutoML_198f108e-08a7-4ea8-b191-e589efb0305d\", \"categories\": [0], \"series\": [{\"data\": [0.8069141782864708]}]}, {\"name\": \"precision_score_weighted\", \"run_id\": \"AutoML_198f108e-08a7-4ea8-b191-e589efb0305d\", \"categories\": [0], \"series\": [{\"data\": [0.8244119612162523]}]}, {\"name\": \"accuracy\", \"run_id\": \"AutoML_198f108e-08a7-4ea8-b191-e589efb0305d\", \"categories\": [0], \"series\": [{\"data\": [0.8242597898758358]}]}, {\"name\": \"balanced_accuracy\", \"run_id\": \"AutoML_198f108e-08a7-4ea8-b191-e589efb0305d\", \"categories\": [0], \"series\": [{\"data\": [0.7984468177382973]}]}, {\"name\": \"matthews_correlation\", \"run_id\": \"AutoML_198f108e-08a7-4ea8-b191-e589efb0305d\", \"categories\": [0], \"series\": [{\"data\": [0.6214916204287325]}]}, {\"name\": \"log_loss\", \"run_id\": \"AutoML_198f108e-08a7-4ea8-b191-e589efb0305d\", \"categories\": [0], \"series\": [{\"data\": [0.43270879517259714]}]}, {\"name\": \"average_precision_score_macro\", \"run_id\": \"AutoML_198f108e-08a7-4ea8-b191-e589efb0305d\", \"categories\": [0], \"series\": [{\"data\": [0.8589639367455612]}]}, {\"name\": \"AUC_micro\", \"run_id\": \"AutoML_198f108e-08a7-4ea8-b191-e589efb0305d\", \"categories\": [0], \"series\": [{\"data\": [0.8833178709534404]}]}, {\"name\": \"recall_score_micro\", \"run_id\": \"AutoML_198f108e-08a7-4ea8-b191-e589efb0305d\", \"categories\": [0], \"series\": [{\"data\": [0.8242597898758358]}]}, {\"name\": \"average_precision_score_micro\", \"run_id\": \"AutoML_198f108e-08a7-4ea8-b191-e589efb0305d\", \"categories\": [0], \"series\": [{\"data\": [0.873793676570051]}]}], \"run_logs\": \"\\nRun is completed.\", \"graph\": {}, \"widget_settings\": {\"childWidgetDisplay\": \"popup\", \"send_telemetry\": false, \"log_level\": \"INFO\", \"sdk_version\": \"1.20.0\"}, \"loading\": false}"
          },
          "metadata": {}
        }
      ],
      "execution_count": 23,
      "metadata": {
        "collapsed": true,
        "jupyter": {
          "source_hidden": false,
          "outputs_hidden": false
        },
        "nteract": {
          "transient": {
            "deleting": false
          }
        },
        "gather": {
          "logged": 1612716690482
        }
      }
    },
    {
      "cell_type": "code",
      "source": [
        "#Get generic outputs from the automl_run\r\n",
        "automl_run.get_output()"
      ],
      "outputs": [
        {
          "output_type": "stream",
          "name": "stderr",
          "text": [
            "WARNING:root:The version of the SDK does not match the version the model was trained on.\n",
            "WARNING:root:The consistency in the result may not be guaranteed.\n",
            "WARNING:root:Package:azureml-automl-core, training version:1.21.0, current version:1.20.0\n",
            "Package:azureml-automl-runtime, training version:1.21.0, current version:1.20.0\n",
            "Package:azureml-core, training version:1.21.0.post1, current version:1.20.0\n",
            "Package:azureml-dataprep, training version:2.8.2, current version:2.7.3\n",
            "Package:azureml-dataprep-native, training version:28.0.0, current version:27.0.0\n",
            "Package:azureml-dataprep-rslex, training version:1.6.0, current version:1.5.0\n",
            "Package:azureml-dataset-runtime, training version:1.21.0, current version:1.20.0\n",
            "Package:azureml-defaults, training version:1.21.0, current version:1.20.0\n",
            "Package:azureml-interpret, training version:1.21.0, current version:1.20.0\n",
            "Package:azureml-pipeline-core, training version:1.21.0, current version:1.20.0\n",
            "Package:azureml-telemetry, training version:1.21.0, current version:1.20.0\n",
            "Package:azureml-train-automl-client, training version:1.21.0, current version:1.20.0\n",
            "Package:azureml-train-automl-runtime, training version:1.21.0, current version:1.20.0\n",
            "WARNING:root:Please ensure the version of your local conda dependencies match the version on which your model was trained in order to properly retrieve your model.\n"
          ]
        },
        {
          "output_type": "execute_result",
          "execution_count": 24,
          "data": {
            "text/plain": "(Run(Experiment: automl-experiment-1,\n Id: AutoML_198f108e-08a7-4ea8-b191-e589efb0305d_71,\n Type: azureml.scriptrun,\n Status: Completed),\n Pipeline(memory=None,\n          steps=[('datatransformer',\n                  DataTransformer(enable_dnn=None, enable_feature_sweeping=None,\n                                  feature_sweeping_config=None,\n                                  feature_sweeping_timeout=None,\n                                  featurization_config=None, force_text_dnn=None,\n                                  is_cross_validation=None,\n                                  is_onnx_compatible=None, logger=None,\n                                  observer=None, task=None, working_dir=None)),\n                 ('prefittedsoftvotingclassifier',...\n                                                                                                reg_lambda=0.5208333333333334,\n                                                                                                scale_pos_weight=1,\n                                                                                                seed=None,\n                                                                                                silent=None,\n                                                                                                subsample=0.6,\n                                                                                                tree_method='auto',\n                                                                                                verbose=-10,\n                                                                                                verbosity=0))],\n                                                                      verbose=False))],\n                                                flatten_transform=None,\n                                                weights=[0.06666666666666667,\n                                                         0.4,\n                                                         0.06666666666666667,\n                                                         0.06666666666666667,\n                                                         0.06666666666666667,\n                                                         0.06666666666666667,\n                                                         0.06666666666666667,\n                                                         0.13333333333333333,\n                                                         0.06666666666666667]))],\n          verbose=False))"
          },
          "metadata": {}
        }
      ],
      "execution_count": 24,
      "metadata": {
        "collapsed": true,
        "jupyter": {
          "source_hidden": false,
          "outputs_hidden": false
        },
        "nteract": {
          "transient": {
            "deleting": false
          }
        },
        "gather": {
          "logged": 1612716692715
        }
      }
    },
    {
      "cell_type": "code",
      "source": [
        "#Get the best model outputs\r\n",
        "best_automl_run, best_model = automl_run.get_output()\r\n"
      ],
      "outputs": [
        {
          "output_type": "stream",
          "name": "stderr",
          "text": [
            "WARNING:root:The version of the SDK does not match the version the model was trained on.\n",
            "WARNING:root:The consistency in the result may not be guaranteed.\n",
            "WARNING:root:Package:azureml-automl-core, training version:1.21.0, current version:1.20.0\n",
            "Package:azureml-automl-runtime, training version:1.21.0, current version:1.20.0\n",
            "Package:azureml-core, training version:1.21.0.post1, current version:1.20.0\n",
            "Package:azureml-dataprep, training version:2.8.2, current version:2.7.3\n",
            "Package:azureml-dataprep-native, training version:28.0.0, current version:27.0.0\n",
            "Package:azureml-dataprep-rslex, training version:1.6.0, current version:1.5.0\n",
            "Package:azureml-dataset-runtime, training version:1.21.0, current version:1.20.0\n",
            "Package:azureml-defaults, training version:1.21.0, current version:1.20.0\n",
            "Package:azureml-interpret, training version:1.21.0, current version:1.20.0\n",
            "Package:azureml-pipeline-core, training version:1.21.0, current version:1.20.0\n",
            "Package:azureml-telemetry, training version:1.21.0, current version:1.20.0\n",
            "Package:azureml-train-automl-client, training version:1.21.0, current version:1.20.0\n",
            "Package:azureml-train-automl-runtime, training version:1.21.0, current version:1.20.0\n",
            "WARNING:root:Please ensure the version of your local conda dependencies match the version on which your model was trained in order to properly retrieve your model.\n"
          ]
        }
      ],
      "execution_count": 25,
      "metadata": {
        "collapsed": true,
        "jupyter": {
          "source_hidden": false,
          "outputs_hidden": false
        },
        "nteract": {
          "transient": {
            "deleting": false
          }
        },
        "gather": {
          "logged": 1612716693885
        }
      }
    },
    {
      "cell_type": "code",
      "source": [
        "#Get the best model id\r\n",
        "print(best_automl_run.id)"
      ],
      "outputs": [
        {
          "output_type": "stream",
          "name": "stdout",
          "text": [
            "AutoML_198f108e-08a7-4ea8-b191-e589efb0305d_71\n"
          ]
        }
      ],
      "execution_count": 26,
      "metadata": {
        "collapsed": true,
        "jupyter": {
          "source_hidden": false,
          "outputs_hidden": false
        },
        "nteract": {
          "transient": {
            "deleting": false
          }
        },
        "gather": {
          "logged": 1612716694352
        }
      }
    },
    {
      "cell_type": "code",
      "source": [
        "os.makedirs('outputs',exist_ok=True)"
      ],
      "outputs": [],
      "execution_count": 27,
      "metadata": {
        "collapsed": true,
        "jupyter": {
          "source_hidden": false,
          "outputs_hidden": false
        },
        "nteract": {
          "transient": {
            "deleting": false
          }
        },
        "gather": {
          "logged": 1612716694800
        }
      }
    },
    {
      "cell_type": "code",
      "source": [
        "#My support\r\n",
        "best_automl_run.download_file('outputs/model.pkl', 'outputs/best_run_automl_2.pkl')\r\n",
        "best_automl_run.download_file('outputs/scoring_file_v_1_0_0.py', 'outputs/score_aml.py')\r\n",
        "best_automl_run.download_file('automl_driver.py', 'outputs/automl_driver.py')"
      ],
      "outputs": [],
      "execution_count": 28,
      "metadata": {
        "collapsed": true,
        "jupyter": {
          "source_hidden": false,
          "outputs_hidden": false
        },
        "nteract": {
          "transient": {
            "deleting": false
          }
        },
        "gather": {
          "logged": 1612716695269
        }
      }
    },
    {
      "cell_type": "code",
      "source": [
        "#let's deploy since the automl is stronger thatn the hyperparametr model\r\n",
        "from azureml.core.model import Model\r\n",
        "from azureml.core.environment import Environment\r\n",
        "from azureml.core.model import InferenceConfig\r\n"
      ],
      "outputs": [],
      "execution_count": 29,
      "metadata": {
        "collapsed": true,
        "jupyter": {
          "source_hidden": false,
          "outputs_hidden": false
        },
        "nteract": {
          "transient": {
            "deleting": false
          }
        },
        "gather": {
          "logged": 1612716695726
        }
      }
    },
    {
      "cell_type": "code",
      "source": [
        "#Register your best model\r\n",
        "model = best_automl_run.register_model(model_name = \"best_run_automl_2.pkl\", model_path = './outputs/') \r\n",
        "\r\n",
        "#model = Model.register(workspace = ws,\r\n",
        " #                       model_path ='./outputs/' ,\r\n",
        "  #                      model_name = \"best_run_automl.pkl\") Este era el de Ulises\r\n",
        "\r\n",
        "#model_path = '/odl_user_137436/outputs'\r\n",
        "#model = Model.register(workspace= ws, model_name = \"best_run_automl_2.pkl\", model_path = './outputs/')\r\n",
        "\r\n",
        "#~/cloudfiles/code/Users/odl_user_137436/outputs"
      ],
      "outputs": [],
      "execution_count": 30,
      "metadata": {
        "collapsed": true,
        "jupyter": {
          "source_hidden": false,
          "outputs_hidden": false
        },
        "nteract": {
          "transient": {
            "deleting": false
          }
        },
        "gather": {
          "logged": 1612716696183
        }
      }
    },
    {
      "cell_type": "code",
      "source": [
        "model"
      ],
      "outputs": [
        {
          "output_type": "execute_result",
          "execution_count": 31,
          "data": {
            "text/plain": "Model(workspace=Workspace.create(name='quick-starts-ws-137889', subscription_id='d4ad7261-832d-46b2-b093-22156001df5b', resource_group='aml-quickstarts-137889'), name=best_run_automl_2.pkl, id=best_run_automl_2.pkl:2, version=2, tags={}, properties={})"
          },
          "metadata": {}
        }
      ],
      "execution_count": 31,
      "metadata": {
        "collapsed": true,
        "jupyter": {
          "source_hidden": false,
          "outputs_hidden": false
        },
        "nteract": {
          "transient": {
            "deleting": false
          }
        },
        "gather": {
          "logged": 1612716697013
        }
      }
    },
    {
      "cell_type": "code",
      "source": [
        "print(model.id)\r\n"
      ],
      "outputs": [
        {
          "output_type": "stream",
          "name": "stdout",
          "text": [
            "best_run_automl_2.pkl:2\n"
          ]
        }
      ],
      "execution_count": 32,
      "metadata": {
        "collapsed": true,
        "jupyter": {
          "source_hidden": false,
          "outputs_hidden": false
        },
        "nteract": {
          "transient": {
            "deleting": false
          }
        },
        "gather": {
          "logged": 1612716697478
        }
      }
    },
    {
      "cell_type": "code",
      "source": [
        "#Defining the deployment\r\n",
        "from azureml.core.webservice import AciWebservice"
      ],
      "outputs": [],
      "execution_count": 33,
      "metadata": {
        "collapsed": true,
        "jupyter": {
          "source_hidden": false,
          "outputs_hidden": false
        },
        "nteract": {
          "transient": {
            "deleting": false
          }
        },
        "gather": {
          "logged": 1612716697952
        }
      }
    },
    {
      "cell_type": "code",
      "source": [
        "aci_config = AciWebservice.deploy_configuration(cpu_cores=1, memory_gb=2,\r\n",
        "                                              enable_app_insights=True)"
      ],
      "outputs": [],
      "execution_count": 34,
      "metadata": {
        "collapsed": true,
        "jupyter": {
          "source_hidden": false,
          "outputs_hidden": false
        },
        "nteract": {
          "transient": {
            "deleting": false
          }
        },
        "gather": {
          "logged": 1612716698407
        }
      }
    },
    {
      "cell_type": "code",
      "source": [
        "#Generating the environment needed:\r\n",
        "env = best_automl_run.get_environment() # Este es elviejo\r\n",
        "\r\n",
        "#env = Environment.from_conda_specification(name='myenv',file_path = 'env.yml') \r\n",
        "\r\n",
        "inference_config = InferenceConfig(entry_script='./score.py',\r\n",
        "                                    environment=env)\r\n",
        "\r\n"
      ],
      "outputs": [],
      "execution_count": 35,
      "metadata": {
        "collapsed": true,
        "jupyter": {
          "source_hidden": false,
          "outputs_hidden": false
        },
        "nteract": {
          "transient": {
            "deleting": false
          }
        },
        "gather": {
          "logged": 1612716698862
        }
      }
    },
    {
      "cell_type": "code",
      "source": [
        "f = open(\"env.yml\", \"w\")\r\n",
        "f.write(env.python.conda_dependencies.serialize_to_string())\r\n",
        "f.close()\r\n",
        "\r\n",
        "print(\"packages\", env.python.conda_dependencies.serialize_to_string())"
      ],
      "outputs": [
        {
          "output_type": "stream",
          "name": "stdout",
          "text": [
            "packages channels:\n",
            "- anaconda\n",
            "- conda-forge\n",
            "- pytorch\n",
            "dependencies:\n",
            "- python=3.6.2\n",
            "- pip=20.2.4\n",
            "- pip:\n",
            "  - azureml-core==1.21.0.post1\n",
            "  - azureml-pipeline-core==1.21.0\n",
            "  - azureml-telemetry==1.21.0\n",
            "  - azureml-defaults==1.21.0\n",
            "  - azureml-interpret==1.21.0\n",
            "  - azureml-automl-core==1.21.0\n",
            "  - azureml-automl-runtime==1.21.0\n",
            "  - azureml-train-automl-client==1.21.0\n",
            "  - azureml-train-automl-runtime==1.21.0\n",
            "  - azureml-dataset-runtime==1.21.0\n",
            "  - inference-schema\n",
            "  - py-cpuinfo==5.0.0\n",
            "  - boto3==1.15.18\n",
            "  - botocore==1.18.18\n",
            "- numpy~=1.18.0\n",
            "- scikit-learn==0.22.1\n",
            "- pandas~=0.25.0\n",
            "- py-xgboost<=0.90\n",
            "- fbprophet==0.5\n",
            "- holidays==0.9.11\n",
            "- setuptools-git\n",
            "- psutil>5.0.0,<6.0.0\n",
            "name: azureml_20a8278aa8b20dd48cc50f56a6d2586c\n",
            "\n"
          ]
        }
      ],
      "execution_count": 36,
      "metadata": {
        "collapsed": true,
        "jupyter": {
          "source_hidden": false,
          "outputs_hidden": false
        },
        "nteract": {
          "transient": {
            "deleting": false
          }
        },
        "gather": {
          "logged": 1612716699304
        }
      }
    },
    {
      "cell_type": "code",
      "source": [
        "service_name = 'my-service-ml-2'\r\n",
        "\r\n",
        "service = Model.deploy(ws, service_name, [model], inference_config, deployment_config=aci_config)"
      ],
      "outputs": [],
      "execution_count": 40,
      "metadata": {
        "collapsed": true,
        "jupyter": {
          "source_hidden": false,
          "outputs_hidden": false
        },
        "nteract": {
          "transient": {
            "deleting": false
          }
        },
        "gather": {
          "logged": 1612717163074
        }
      }
    },
    {
      "cell_type": "code",
      "source": [
        "#check on service\r\n",
        "service"
      ],
      "outputs": [
        {
          "output_type": "execute_result",
          "execution_count": 41,
          "data": {
            "text/plain": "AciWebservice(workspace=Workspace.create(name='quick-starts-ws-137889', subscription_id='d4ad7261-832d-46b2-b093-22156001df5b', resource_group='aml-quickstarts-137889'), name=my-service-ml-2, image_id=None, compute_type=None, state=ACI, scoring_uri=Transitioning, tags=None, properties={}, created_by={})"
          },
          "metadata": {}
        }
      ],
      "execution_count": 41,
      "metadata": {
        "collapsed": true,
        "jupyter": {
          "source_hidden": false,
          "outputs_hidden": false
        },
        "nteract": {
          "transient": {
            "deleting": false
          }
        },
        "gather": {
          "logged": 1612717167901
        }
      }
    },
    {
      "cell_type": "code",
      "source": [
        "#Check on deployment status:\r\n",
        "service.wait_for_deployment(True)\r\n",
        "print(service.state)\r\n"
      ],
      "outputs": [
        {
          "output_type": "stream",
          "name": "stdout",
          "text": [
            "Tips: You can try get_logs(): https://aka.ms/debugimage#dockerlog or local deployment: https://aka.ms/debugimage#debug-locally to debug if deployment takes longer than 10 minutes.\n",
            "Running.......................................\n",
            "Failed\n"
          ]
        },
        {
          "output_type": "stream",
          "name": "stderr",
          "text": [
            "ERROR:azureml.core.webservice.webservice:Service deployment polling reached non-successful terminal state, current service state: Failed\n",
            "Operation ID: 165cb02b-2878-44b8-98ea-ccc776506334\n",
            "More information can be found using '.get_logs()'\n",
            "Error:\n",
            "{\n",
            "  \"code\": \"AciDeploymentFailed\",\n",
            "  \"statusCode\": 400,\n",
            "  \"message\": \"Aci Deployment failed with exception: Error in entry script, FileNotFoundError: [Errno 2] No such file or directory: '/mnt/batch/tasks/shared/LS_root/mounts/clusters/auto-ml/code/Users/odl_user_137889/outputs/best_run_automl_2.pkl', please run print(service.get_logs()) to get details.\",\n",
            "  \"details\": [\n",
            "    {\n",
            "      \"code\": \"CrashLoopBackOff\",\n",
            "      \"message\": \"Error in entry script, FileNotFoundError: [Errno 2] No such file or directory: '/mnt/batch/tasks/shared/LS_root/mounts/clusters/auto-ml/code/Users/odl_user_137889/outputs/best_run_automl_2.pkl', please run print(service.get_logs()) to get details.\"\n",
            "    }\n",
            "  ]\n",
            "}\n",
            "\n"
          ]
        },
        {
          "output_type": "error",
          "ename": "WebserviceException",
          "evalue": "WebserviceException:\n\tMessage: Service deployment polling reached non-successful terminal state, current service state: Failed\nOperation ID: 165cb02b-2878-44b8-98ea-ccc776506334\nMore information can be found using '.get_logs()'\nError:\n{\n  \"code\": \"AciDeploymentFailed\",\n  \"statusCode\": 400,\n  \"message\": \"Aci Deployment failed with exception: Error in entry script, FileNotFoundError: [Errno 2] No such file or directory: '/mnt/batch/tasks/shared/LS_root/mounts/clusters/auto-ml/code/Users/odl_user_137889/outputs/best_run_automl_2.pkl', please run print(service.get_logs()) to get details.\",\n  \"details\": [\n    {\n      \"code\": \"CrashLoopBackOff\",\n      \"message\": \"Error in entry script, FileNotFoundError: [Errno 2] No such file or directory: '/mnt/batch/tasks/shared/LS_root/mounts/clusters/auto-ml/code/Users/odl_user_137889/outputs/best_run_automl_2.pkl', please run print(service.get_logs()) to get details.\"\n    }\n  ]\n}\n\tInnerException None\n\tErrorResponse \n{\n    \"error\": {\n        \"message\": \"Service deployment polling reached non-successful terminal state, current service state: Failed\\nOperation ID: 165cb02b-2878-44b8-98ea-ccc776506334\\nMore information can be found using '.get_logs()'\\nError:\\n{\\n  \\\"code\\\": \\\"AciDeploymentFailed\\\",\\n  \\\"statusCode\\\": 400,\\n  \\\"message\\\": \\\"Aci Deployment failed with exception: Error in entry script, FileNotFoundError: [Errno 2] No such file or directory: '/mnt/batch/tasks/shared/LS_root/mounts/clusters/auto-ml/code/Users/odl_user_137889/outputs/best_run_automl_2.pkl', please run print(service.get_logs()) to get details.\\\",\\n  \\\"details\\\": [\\n    {\\n      \\\"code\\\": \\\"CrashLoopBackOff\\\",\\n      \\\"message\\\": \\\"Error in entry script, FileNotFoundError: [Errno 2] No such file or directory: '/mnt/batch/tasks/shared/LS_root/mounts/clusters/auto-ml/code/Users/odl_user_137889/outputs/best_run_automl_2.pkl', please run print(service.get_logs()) to get details.\\\"\\n    }\\n  ]\\n}\"\n    }\n}",
          "traceback": [
            "\u001b[0;31m---------------------------------------------------------------------------\u001b[0m",
            "\u001b[0;31mWebserviceException\u001b[0m                       Traceback (most recent call last)",
            "\u001b[0;32m<ipython-input-42-af486c76b905>\u001b[0m in \u001b[0;36m<module>\u001b[0;34m\u001b[0m\n\u001b[1;32m      1\u001b[0m \u001b[0;31m#Check on deployment status:\u001b[0m\u001b[0;34m\u001b[0m\u001b[0;34m\u001b[0m\u001b[0;34m\u001b[0m\u001b[0m\n\u001b[0;32m----> 2\u001b[0;31m \u001b[0mservice\u001b[0m\u001b[0;34m.\u001b[0m\u001b[0mwait_for_deployment\u001b[0m\u001b[0;34m(\u001b[0m\u001b[0;32mTrue\u001b[0m\u001b[0;34m)\u001b[0m\u001b[0;34m\u001b[0m\u001b[0;34m\u001b[0m\u001b[0m\n\u001b[0m\u001b[1;32m      3\u001b[0m \u001b[0mprint\u001b[0m\u001b[0;34m(\u001b[0m\u001b[0mservice\u001b[0m\u001b[0;34m.\u001b[0m\u001b[0mstate\u001b[0m\u001b[0;34m)\u001b[0m\u001b[0;34m\u001b[0m\u001b[0;34m\u001b[0m\u001b[0m\n",
            "\u001b[0;32m/anaconda/envs/azureml_py36/lib/python3.6/site-packages/azureml/core/webservice/webservice.py\u001b[0m in \u001b[0;36mwait_for_deployment\u001b[0;34m(self, show_output, timeout_sec)\u001b[0m\n\u001b[1;32m    913\u001b[0m                                           \u001b[0;34m'Error:\\n'\u001b[0m\u001b[0;34m\u001b[0m\u001b[0;34m\u001b[0m\u001b[0m\n\u001b[1;32m    914\u001b[0m                                           '{}'.format(self.state, self._operation_endpoint.split('/')[-1],\n\u001b[0;32m--> 915\u001b[0;31m                                                       logs_response, error_response), logger=module_logger)\n\u001b[0m\u001b[1;32m    916\u001b[0m             print('{} service creation operation finished, operation \"{}\"'.format(self._webservice_type,\n\u001b[1;32m    917\u001b[0m                                                                                   operation_state))\n",
            "\u001b[0;31mWebserviceException\u001b[0m: WebserviceException:\n\tMessage: Service deployment polling reached non-successful terminal state, current service state: Failed\nOperation ID: 165cb02b-2878-44b8-98ea-ccc776506334\nMore information can be found using '.get_logs()'\nError:\n{\n  \"code\": \"AciDeploymentFailed\",\n  \"statusCode\": 400,\n  \"message\": \"Aci Deployment failed with exception: Error in entry script, FileNotFoundError: [Errno 2] No such file or directory: '/mnt/batch/tasks/shared/LS_root/mounts/clusters/auto-ml/code/Users/odl_user_137889/outputs/best_run_automl_2.pkl', please run print(service.get_logs()) to get details.\",\n  \"details\": [\n    {\n      \"code\": \"CrashLoopBackOff\",\n      \"message\": \"Error in entry script, FileNotFoundError: [Errno 2] No such file or directory: '/mnt/batch/tasks/shared/LS_root/mounts/clusters/auto-ml/code/Users/odl_user_137889/outputs/best_run_automl_2.pkl', please run print(service.get_logs()) to get details.\"\n    }\n  ]\n}\n\tInnerException None\n\tErrorResponse \n{\n    \"error\": {\n        \"message\": \"Service deployment polling reached non-successful terminal state, current service state: Failed\\nOperation ID: 165cb02b-2878-44b8-98ea-ccc776506334\\nMore information can be found using '.get_logs()'\\nError:\\n{\\n  \\\"code\\\": \\\"AciDeploymentFailed\\\",\\n  \\\"statusCode\\\": 400,\\n  \\\"message\\\": \\\"Aci Deployment failed with exception: Error in entry script, FileNotFoundError: [Errno 2] No such file or directory: '/mnt/batch/tasks/shared/LS_root/mounts/clusters/auto-ml/code/Users/odl_user_137889/outputs/best_run_automl_2.pkl', please run print(service.get_logs()) to get details.\\\",\\n  \\\"details\\\": [\\n    {\\n      \\\"code\\\": \\\"CrashLoopBackOff\\\",\\n      \\\"message\\\": \\\"Error in entry script, FileNotFoundError: [Errno 2] No such file or directory: '/mnt/batch/tasks/shared/LS_root/mounts/clusters/auto-ml/code/Users/odl_user_137889/outputs/best_run_automl_2.pkl', please run print(service.get_logs()) to get details.\\\"\\n    }\\n  ]\\n}\"\n    }\n}"
          ]
        }
      ],
      "execution_count": 42,
      "metadata": {
        "collapsed": true,
        "jupyter": {
          "source_hidden": false,
          "outputs_hidden": false
        },
        "nteract": {
          "transient": {
            "deleting": false
          }
        }
      }
    },
    {
      "cell_type": "code",
      "source": [
        "print(service.get_logs())"
      ],
      "outputs": [
        {
          "output_type": "stream",
          "name": "stdout",
          "text": [
            "2021-02-07T17:04:33,002249109+00:00 - iot-server/run \n",
            "2021-02-07T17:04:33,002662211+00:00 - rsyslog/run \n",
            "2021-02-07T17:04:33,003574915+00:00 - nginx/run \n",
            "2021-02-07T17:04:33,003869316+00:00 - gunicorn/run \n",
            "rsyslogd: /azureml-envs/azureml_20a8278aa8b20dd48cc50f56a6d2586c/lib/libuuid.so.1: no version information available (required by rsyslogd)\n",
            "/usr/sbin/nginx: /azureml-envs/azureml_20a8278aa8b20dd48cc50f56a6d2586c/lib/libcrypto.so.1.0.0: no version information available (required by /usr/sbin/nginx)\n",
            "/usr/sbin/nginx: /azureml-envs/azureml_20a8278aa8b20dd48cc50f56a6d2586c/lib/libcrypto.so.1.0.0: no version information available (required by /usr/sbin/nginx)\n",
            "/usr/sbin/nginx: /azureml-envs/azureml_20a8278aa8b20dd48cc50f56a6d2586c/lib/libssl.so.1.0.0: no version information available (required by /usr/sbin/nginx)\n",
            "/usr/sbin/nginx: /azureml-envs/azureml_20a8278aa8b20dd48cc50f56a6d2586c/lib/libssl.so.1.0.0: no version information available (required by /usr/sbin/nginx)\n",
            "/usr/sbin/nginx: /azureml-envs/azureml_20a8278aa8b20dd48cc50f56a6d2586c/lib/libssl.so.1.0.0: no version information available (required by /usr/sbin/nginx)\n",
            "EdgeHubConnectionString and IOTEDGE_IOTHUBHOSTNAME are not set. Exiting...\n",
            "2021-02-07T17:04:33,144042614+00:00 - iot-server/finish 1 0\n",
            "2021-02-07T17:04:33,145206719+00:00 - Exit code 1 is normal. Not restarting iot-server.\n",
            "Starting gunicorn 19.9.0\n",
            "Listening at: http://127.0.0.1:31311 (14)\n",
            "Using worker: sync\n",
            "worker timeout is set to 300\n",
            "Booting worker with pid: 40\n",
            "SPARK_HOME not set. Skipping PySpark Initialization.\n",
            "Generating new fontManager, this may take some time...\n",
            "Initializing logger\n",
            "2021-02-07 17:04:34,253 | root | INFO | Starting up app insights client\n",
            "2021-02-07 17:04:34,253 | root | INFO | Starting up request id generator\n",
            "2021-02-07 17:04:34,253 | root | INFO | Starting up app insight hooks\n",
            "2021-02-07 17:04:34,254 | root | INFO | Invoking user's init function\n",
            "Found model:\n",
            "False\n",
            "2021-02-07 17:04:34,254 | root | ERROR | User's init function failed\n",
            "2021-02-07 17:04:34,255 | root | ERROR | Encountered Exception Traceback (most recent call last):\n",
            "  File \"/var/azureml-server/aml_blueprint.py\", line 176, in register\n",
            "    main.init()\n",
            "  File \"/var/azureml-app/score.py\", line 11, in init\n",
            "    model = joblib.load(model_path)\n",
            "  File \"/azureml-envs/azureml_20a8278aa8b20dd48cc50f56a6d2586c/lib/python3.6/site-packages/joblib/numpy_pickle.py\", line 597, in load\n",
            "    with open(filename, 'rb') as f:\n",
            "FileNotFoundError: [Errno 2] No such file or directory: '/mnt/batch/tasks/shared/LS_root/mounts/clusters/auto-ml/code/Users/odl_user_137889/outputs/best_run_automl_2.pkl'\n",
            "\n",
            "Worker exiting (pid: 40)\n",
            "Shutting down: Master\n",
            "Reason: Worker failed to boot.\n",
            "2021-02-07T17:04:34,507781034+00:00 - gunicorn/finish 3 0\n",
            "2021-02-07T17:04:34,508929239+00:00 - Exit code 3 is not normal. Killing image.\n",
            "\n"
          ]
        }
      ],
      "execution_count": 43,
      "metadata": {
        "collapsed": true,
        "jupyter": {
          "source_hidden": false,
          "outputs_hidden": false
        },
        "nteract": {
          "transient": {
            "deleting": false
          }
        },
        "gather": {
          "logged": 1612717475751
        }
      }
    },
    {
      "cell_type": "code",
      "source": [
        "#Now let's get the scoring URI:\r\n",
        "scoring_uri = service.scoring_uri\r\n",
        "scoring_uri"
      ],
      "outputs": [],
      "execution_count": null,
      "metadata": {
        "collapsed": true,
        "jupyter": {
          "source_hidden": false,
          "outputs_hidden": false
        },
        "nteract": {
          "transient": {
            "deleting": false
          }
        }
      }
    },
    {
      "cell_type": "code",
      "source": [
        "#let's test:\r\n",
        "import json\r\n",
        "import requests\r\n",
        "\r\n",
        "scoring_uri = scoring_uri\r\n",
        "headers = {'Content-Type':'application/json'}\r\n",
        "\r\n",
        "\r\n",
        "\r\n",
        "test_data = json.dumps({'data':[{\r\n",
        "    'pclass': 0.8419164182590155,\r\n",
        "    'age': -0.34907541344456255,\r\n",
        "    'sibsp': -0.47908676070718687,\r\n",
        "    'parch': -0.444999501816175,\r\n",
        "    'fare': -0.4902404567566683,\r\n",
        "    'age_NA': -0.5014319838391105,\r\n",
        "    'fare_NA': -0.027650063180466557,\r\n",
        "    'sex_male': 0.743496915331831,\r\n",
        "    'cabin_Missing': 0.5393765119990418,\r\n",
        "    'cabin_Rare': -0.42592011250734235,\r\n",
        "    'embarked_Q': -0.32204029159373954,\r\n",
        "    'embarked_Rare': -0.03911805059269843,\r\n",
        "    'embarked_S': 0.6573935670276714,\r\n",
        "    'title_Mr': 0.8525918887485938,\r\n",
        "    'title_Mrs': -0.42592011250734235,\r\n",
        "    'title_Rare': -0.27494677157229536\r\n",
        "    }\r\n",
        "    ]\r\n",
        "        })\r\n",
        "\r\n",
        "test_data2 = json.dumps({'data':[{\r\n",
        "    'pclass': -15460978645168200,\r\n",
        "    'age': 0.8912042887450313,\r\n",
        "    'sibsp': -0.47908676070718687,\r\n",
        "    'parch': -0.444999501816175,\r\n",
        "    'fare': 19569900306355100,\r\n",
        "    'age_NA': -0.5014319838391105,\r\n",
        "    'fare_NA': -0.027650063180466557,\r\n",
        "    'sex_male': -13449954927569300,\r\n",
        "    'cabin_Missing': -18539924853119600,\r\n",
        "    'cabin_Rare': 23478581326275300,\r\n",
        "    'embarked_Q': -0.32204029159373954,\r\n",
        "    'embarked_Rare': -0.03911805059269843,\r\n",
        "    'embarked_S': -15211587854766800,\r\n",
        "    'title_Mr': -11728941046668400,\r\n",
        "    'title_Mrs': -0.42592011250734235,\r\n",
        "    'title_Rare': -0.27494677157229536\r\n",
        "\r\n",
        "    }\r\n",
        "    ]\r\n",
        "        })\r\n",
        "\r\n",
        "\r\n",
        "response = requests.post(scoring_uri, data=test_data2, headers=headers)\r\n",
        "\r\n",
        "print(\"Result:\",response.text)"
      ],
      "outputs": [],
      "execution_count": null,
      "metadata": {
        "collapsed": true,
        "jupyter": {
          "source_hidden": false,
          "outputs_hidden": false
        },
        "nteract": {
          "transient": {
            "deleting": false
          }
        }
      }
    },
    {
      "cell_type": "markdown",
      "source": [
        "\n",
        "\n"
      ],
      "metadata": {}
    }
  ],
  "metadata": {
    "kernel_info": {
      "name": "python3"
    },
    "kernelspec": {
      "name": "python3",
      "language": "python",
      "display_name": "Python 3"
    },
    "language_info": {
      "name": "python",
      "version": "3.6.9",
      "mimetype": "text/x-python",
      "codemirror_mode": {
        "name": "ipython",
        "version": 3
      },
      "pygments_lexer": "ipython3",
      "nbconvert_exporter": "python",
      "file_extension": ".py"
    },
    "nteract": {
      "version": "nteract-front-end@1.0.0"
    }
  },
  "nbformat": 4,
  "nbformat_minor": 2
}