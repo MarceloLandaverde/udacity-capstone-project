{
 "cells": [
  {
   "cell_type": "markdown",
   "metadata": {},
   "source": [
    "# Automated ML\n",
    "\n",
    "TODO: Import Dependencies. In the cell below, import all the dependencies that you will need to complete the project."
   ]
  },
  {
   "cell_type": "code",
   "execution_count": 1,
   "metadata": {
    "gather": {
     "logged": 1612644398407
    },
    "jupyter": {
     "outputs_hidden": false,
     "source_hidden": false
    },
    "nteract": {
     "transient": {
      "deleting": false
     }
    }
   },
   "outputs": [
    {
     "name": "stdout",
     "output_type": "stream",
     "text": [
      "SDK version: 1.21.0\n"
     ]
    }
   ],
   "source": [
    "import logging\n",
    "import os\n",
    "import csv\n",
    "\n",
    "from matplotlib import pyplot as plt\n",
    "import numpy as np\n",
    "import pandas as pd\n",
    "from azureml.data.dataset_factory import TabularDatasetFactory\n",
    "import pkg_resources\n",
    "\n",
    "import azureml.core\n",
    "from azureml.core.experiment import Experiment\n",
    "from azureml.core.workspace import Workspace\n",
    "from azureml.train.automl import AutoMLConfig\n",
    "from azureml.core.dataset import Dataset\n",
    "\n",
    "from azureml.pipeline.steps import AutoMLStep\n",
    "\n",
    "# Check core SDK version number\n",
    "print(\"SDK version:\", azureml.core.VERSION)"
   ]
  },
  {
   "cell_type": "code",
   "execution_count": 2,
   "metadata": {
    "gather": {
     "logged": 1612644405028
    }
   },
   "outputs": [
    {
     "data": {
      "text/plain": [
       "Workspace.create(name='quick-starts-ws-137654', subscription_id='6971f5ac-8af1-446e-8034-05acea24681f', resource_group='aml-quickstarts-137654')"
      ]
     },
     "execution_count": 2,
     "metadata": {},
     "output_type": "execute_result"
    }
   ],
   "source": [
    "#Testing the authentication using the Workspace method \"from_config\"\n",
    "Workspace.from_config()"
   ]
  },
  {
   "cell_type": "code",
   "execution_count": 3,
   "metadata": {
    "collapsed": true,
    "gather": {
     "logged": 1612644409531
    },
    "jupyter": {
     "outputs_hidden": false,
     "source_hidden": false
    },
    "nteract": {
     "transient": {
      "deleting": false
     }
    }
   },
   "outputs": [],
   "source": [
    "#create workspace\n",
    "ws = Workspace.from_config()"
   ]
  },
  {
   "cell_type": "markdown",
   "metadata": {
    "gather": {
     "logged": 1598423890461
    },
    "jupyter": {
     "outputs_hidden": false,
     "source_hidden": false
    },
    "nteract": {
     "transient": {
      "deleting": false
     }
    }
   },
   "source": [
    "#original code:\n",
    "ws = Workspace.from_config()\n",
    "\n",
    "# choose a name for experiment\n",
    "experiment_name = 'your experiment name here'\n",
    "\n",
    "experiment=Experiment(ws, experiment_name)"
   ]
  },
  {
   "cell_type": "code",
   "execution_count": 4,
   "metadata": {
    "gather": {
     "logged": 1612644414369
    }
   },
   "outputs": [
    {
     "data": {
      "text/html": [
       "<table style=\"width:100%\"><tr><th>Name</th><th>Workspace</th><th>Report Page</th><th>Docs Page</th></tr><tr><td>automl-experiment-1</td><td>quick-starts-ws-137654</td><td><a href=\"https://ml.azure.com/experiments/automl-experiment-1?wsid=/subscriptions/6971f5ac-8af1-446e-8034-05acea24681f/resourcegroups/aml-quickstarts-137654/workspaces/quick-starts-ws-137654\" target=\"_blank\" rel=\"noopener\">Link to Azure Machine Learning studio</a></td><td><a href=\"https://docs.microsoft.com/en-us/python/api/azureml-core/azureml.core.experiment.Experiment?view=azure-ml-py\" target=\"_blank\" rel=\"noopener\">Link to Documentation</a></td></tr></table>"
      ],
      "text/plain": [
       "Experiment(Name: automl-experiment-1,\n",
       "Workspace: quick-starts-ws-137654)"
      ]
     },
     "execution_count": 4,
     "metadata": {},
     "output_type": "execute_result"
    }
   ],
   "source": [
    "# Choose a name for the run history container in the workspace.\n",
    "# NOTE: update these to match your existing experiment name\n",
    "experiment_name = 'automl-experiment-1'\n",
    "project_folder = './pipeline-project'\n",
    "\n",
    "experiment = Experiment(ws, experiment_name)\n",
    "experiment"
   ]
  },
  {
   "cell_type": "markdown",
   "metadata": {},
   "source": [
    "## Dataset\n",
    "\n",
    "### Overview\n",
    "TODO: In this markdown cell, give an overview of the dataset you are using. Also mention the task you will be performing.\n",
    "\n",
    "\n",
    "TODO: Get data. In the cell below, write code to access the data you will be using in this project. Remember that the dataset needs to be external."
   ]
  },
  {
   "cell_type": "code",
   "execution_count": 5,
   "metadata": {
    "gather": {
     "logged": 1612644432807
    }
   },
   "outputs": [
    {
     "data": {
      "text/html": [
       "<div>\n",
       "<style scoped>\n",
       "    .dataframe tbody tr th:only-of-type {\n",
       "        vertical-align: middle;\n",
       "    }\n",
       "\n",
       "    .dataframe tbody tr th {\n",
       "        vertical-align: top;\n",
       "    }\n",
       "\n",
       "    .dataframe thead th {\n",
       "        text-align: right;\n",
       "    }\n",
       "</style>\n",
       "<table border=\"1\" class=\"dataframe\">\n",
       "  <thead>\n",
       "    <tr style=\"text-align: right;\">\n",
       "      <th></th>\n",
       "      <th>pclass</th>\n",
       "      <th>survived</th>\n",
       "      <th>sibsp</th>\n",
       "      <th>parch</th>\n",
       "      <th>fare</th>\n",
       "    </tr>\n",
       "  </thead>\n",
       "  <tbody>\n",
       "    <tr>\n",
       "      <th>count</th>\n",
       "      <td>1309.000000</td>\n",
       "      <td>1309.000000</td>\n",
       "      <td>1309.000000</td>\n",
       "      <td>1309.000000</td>\n",
       "      <td>1308.000000</td>\n",
       "    </tr>\n",
       "    <tr>\n",
       "      <th>mean</th>\n",
       "      <td>2.294882</td>\n",
       "      <td>0.381971</td>\n",
       "      <td>0.498854</td>\n",
       "      <td>0.385027</td>\n",
       "      <td>33.295479</td>\n",
       "    </tr>\n",
       "    <tr>\n",
       "      <th>std</th>\n",
       "      <td>0.837836</td>\n",
       "      <td>0.486055</td>\n",
       "      <td>1.041658</td>\n",
       "      <td>0.865560</td>\n",
       "      <td>51.758668</td>\n",
       "    </tr>\n",
       "    <tr>\n",
       "      <th>min</th>\n",
       "      <td>1.000000</td>\n",
       "      <td>0.000000</td>\n",
       "      <td>0.000000</td>\n",
       "      <td>0.000000</td>\n",
       "      <td>0.000000</td>\n",
       "    </tr>\n",
       "    <tr>\n",
       "      <th>25%</th>\n",
       "      <td>2.000000</td>\n",
       "      <td>0.000000</td>\n",
       "      <td>0.000000</td>\n",
       "      <td>0.000000</td>\n",
       "      <td>7.895800</td>\n",
       "    </tr>\n",
       "    <tr>\n",
       "      <th>50%</th>\n",
       "      <td>3.000000</td>\n",
       "      <td>0.000000</td>\n",
       "      <td>0.000000</td>\n",
       "      <td>0.000000</td>\n",
       "      <td>14.454200</td>\n",
       "    </tr>\n",
       "    <tr>\n",
       "      <th>75%</th>\n",
       "      <td>3.000000</td>\n",
       "      <td>1.000000</td>\n",
       "      <td>1.000000</td>\n",
       "      <td>0.000000</td>\n",
       "      <td>31.275000</td>\n",
       "    </tr>\n",
       "    <tr>\n",
       "      <th>max</th>\n",
       "      <td>3.000000</td>\n",
       "      <td>1.000000</td>\n",
       "      <td>8.000000</td>\n",
       "      <td>9.000000</td>\n",
       "      <td>512.329200</td>\n",
       "    </tr>\n",
       "  </tbody>\n",
       "</table>\n",
       "</div>"
      ],
      "text/plain": [
       "            pclass     survived        sibsp        parch         fare\n",
       "count  1309.000000  1309.000000  1309.000000  1309.000000  1308.000000\n",
       "mean      2.294882     0.381971     0.498854     0.385027    33.295479\n",
       "std       0.837836     0.486055     1.041658     0.865560    51.758668\n",
       "min       1.000000     0.000000     0.000000     0.000000     0.000000\n",
       "25%       2.000000     0.000000     0.000000     0.000000     7.895800\n",
       "50%       3.000000     0.000000     0.000000     0.000000    14.454200\n",
       "75%       3.000000     1.000000     1.000000     0.000000    31.275000\n",
       "max       3.000000     1.000000     8.000000     9.000000   512.329200"
      ]
     },
     "execution_count": 5,
     "metadata": {},
     "output_type": "execute_result"
    }
   ],
   "source": [
    "\n",
    "\n",
    "dataset = TabularDatasetFactory.from_delimited_files('https://www.openml.org/data/get_csv/16826755/phpMYEkMl')\n",
    "\n",
    "\n",
    "dataset = dataset.to_pandas_dataframe()\n",
    "dataset.describe()"
   ]
  },
  {
   "cell_type": "code",
   "execution_count": 6,
   "metadata": {
    "gather": {
     "logged": 1612644438014
    }
   },
   "outputs": [
    {
     "name": "stdout",
     "output_type": "stream",
     "text": [
      "Found existing cluster, use it.\n",
      "\n",
      "Running\n"
     ]
    }
   ],
   "source": [
    "###Just in case:\n",
    "from azureml.core.compute import AmlCompute\n",
    "from azureml.core.compute import ComputeTarget\n",
    "from azureml.core.compute_target import ComputeTargetException\n",
    "\n",
    "# NOTE: update the cluster name to match the existing cluster\n",
    "# Choose a name for your CPU cluster\n",
    "amlcompute_cluster_name = \"auto-ml\"\n",
    "\n",
    "# Verify that cluster does not exist already\n",
    "try:\n",
    "    compute_target = ComputeTarget(workspace=ws, name=amlcompute_cluster_name)\n",
    "    print('Found existing cluster, use it.')\n",
    "except ComputeTargetException:\n",
    "    compute_config = AmlCompute.provisioning_configuration(vm_size='STANDARD_DS12_V2',# for GPU, use \"STANDARD_NC6\"\n",
    "                                                           #vm_priority = 'lowpriority', # optional\n",
    "                                                           min_nodes=1,\n",
    "                                                           max_nodes=6)\n",
    "    compute_target = ComputeTarget.create(ws, amlcompute_cluster_name, compute_config)\n",
    "\n",
    "compute_target.wait_for_completion(show_output=True)\n",
    "# For a more detailed view of current AmlCompute status, use get_status()."
   ]
  },
  {
   "cell_type": "markdown",
   "metadata": {},
   "source": [
    "### Clean Data:"
   ]
  },
  {
   "cell_type": "code",
   "execution_count": 7,
   "metadata": {
    "gather": {
     "logged": 1612644446211
    }
   },
   "outputs": [],
   "source": [
    "from train import clean_data"
   ]
  },
  {
   "cell_type": "code",
   "execution_count": 8,
   "metadata": {
    "gather": {
     "logged": 1612644446578
    }
   },
   "outputs": [],
   "source": [
    "x, y = clean_data(dataset)"
   ]
  },
  {
   "cell_type": "code",
   "execution_count": 9,
   "metadata": {
    "gather": {
     "logged": 1612644446971
    }
   },
   "outputs": [],
   "source": [
    "from sklearn.preprocessing import StandardScaler"
   ]
  },
  {
   "cell_type": "code",
   "execution_count": 10,
   "metadata": {
    "gather": {
     "logged": 1612644447367
    }
   },
   "outputs": [],
   "source": [
    "# create scaler\n",
    "variables = x.columns.tolist()\n",
    "\n",
    "scaler = StandardScaler()\n",
    "scaler.fit(x[variables]) \n",
    "\n",
    "x = scaler.transform(x[variables])"
   ]
  },
  {
   "cell_type": "code",
   "execution_count": 11,
   "metadata": {
    "collapsed": true,
    "gather": {
     "logged": 1612644447895
    },
    "jupyter": {
     "outputs_hidden": false,
     "source_hidden": false
    },
    "nteract": {
     "transient": {
      "deleting": false
     }
    }
   },
   "outputs": [],
   "source": [
    "x = pd.DataFrame(x,columns=variables)\n"
   ]
  },
  {
   "cell_type": "code",
   "execution_count": 12,
   "metadata": {
    "gather": {
     "logged": 1612644449718
    }
   },
   "outputs": [],
   "source": [
    "from sklearn.model_selection import train_test_split\n",
    "\n",
    "x_train, x_test, y_train, y_test = train_test_split(x,y,\n",
    "                                                    test_size = 0.2,\n",
    "                                                    random_state=0)"
   ]
  },
  {
   "cell_type": "code",
   "execution_count": 13,
   "metadata": {
    "gather": {
     "logged": 1612644453664
    }
   },
   "outputs": [],
   "source": [
    "#bring them together them again\n",
    "dataset = pd.concat([x_train,y_train],axis=1)"
   ]
  },
  {
   "cell_type": "code",
   "execution_count": 14,
   "metadata": {
    "gather": {
     "logged": 1612644457434
    }
   },
   "outputs": [
    {
     "data": {
      "text/html": [
       "<div>\n",
       "<style scoped>\n",
       "    .dataframe tbody tr th:only-of-type {\n",
       "        vertical-align: middle;\n",
       "    }\n",
       "\n",
       "    .dataframe tbody tr th {\n",
       "        vertical-align: top;\n",
       "    }\n",
       "\n",
       "    .dataframe thead th {\n",
       "        text-align: right;\n",
       "    }\n",
       "</style>\n",
       "<table border=\"1\" class=\"dataframe\">\n",
       "  <thead>\n",
       "    <tr style=\"text-align: right;\">\n",
       "      <th></th>\n",
       "      <th>pclass</th>\n",
       "      <th>age</th>\n",
       "      <th>sibsp</th>\n",
       "      <th>parch</th>\n",
       "      <th>fare</th>\n",
       "      <th>age_NA</th>\n",
       "      <th>fare_NA</th>\n",
       "      <th>sex_male</th>\n",
       "      <th>cabin_Missing</th>\n",
       "      <th>cabin_Rare</th>\n",
       "      <th>embarked_Q</th>\n",
       "      <th>embarked_Rare</th>\n",
       "      <th>embarked_S</th>\n",
       "      <th>title_Mr</th>\n",
       "      <th>title_Mrs</th>\n",
       "      <th>title_Rare</th>\n",
       "      <th>survived</th>\n",
       "    </tr>\n",
       "  </thead>\n",
       "  <tbody>\n",
       "    <tr>\n",
       "      <th>1118</th>\n",
       "      <td>0.841916</td>\n",
       "      <td>-0.349075</td>\n",
       "      <td>-0.479087</td>\n",
       "      <td>-0.445</td>\n",
       "      <td>-0.490240</td>\n",
       "      <td>-0.501432</td>\n",
       "      <td>-0.02765</td>\n",
       "      <td>0.743497</td>\n",
       "      <td>0.539377</td>\n",
       "      <td>-0.425920</td>\n",
       "      <td>-0.322040</td>\n",
       "      <td>-0.039118</td>\n",
       "      <td>0.657394</td>\n",
       "      <td>0.852592</td>\n",
       "      <td>-0.42592</td>\n",
       "      <td>-0.274947</td>\n",
       "      <td>0</td>\n",
       "    </tr>\n",
       "    <tr>\n",
       "      <th>44</th>\n",
       "      <td>-1.546098</td>\n",
       "      <td>0.891204</td>\n",
       "      <td>-0.479087</td>\n",
       "      <td>-0.445</td>\n",
       "      <td>1.956990</td>\n",
       "      <td>-0.501432</td>\n",
       "      <td>-0.02765</td>\n",
       "      <td>-1.344995</td>\n",
       "      <td>-1.853992</td>\n",
       "      <td>2.347858</td>\n",
       "      <td>-0.322040</td>\n",
       "      <td>-0.039118</td>\n",
       "      <td>-1.521159</td>\n",
       "      <td>-1.172894</td>\n",
       "      <td>-0.42592</td>\n",
       "      <td>-0.274947</td>\n",
       "      <td>1</td>\n",
       "    </tr>\n",
       "    <tr>\n",
       "      <th>1072</th>\n",
       "      <td>0.841916</td>\n",
       "      <td>-0.116523</td>\n",
       "      <td>-0.479087</td>\n",
       "      <td>-0.445</td>\n",
       "      <td>-0.493947</td>\n",
       "      <td>1.994288</td>\n",
       "      <td>-0.02765</td>\n",
       "      <td>0.743497</td>\n",
       "      <td>0.539377</td>\n",
       "      <td>-0.425920</td>\n",
       "      <td>3.105202</td>\n",
       "      <td>-0.039118</td>\n",
       "      <td>-1.521159</td>\n",
       "      <td>0.852592</td>\n",
       "      <td>-0.42592</td>\n",
       "      <td>-0.274947</td>\n",
       "      <td>0</td>\n",
       "    </tr>\n",
       "    <tr>\n",
       "      <th>1130</th>\n",
       "      <td>0.841916</td>\n",
       "      <td>-0.891698</td>\n",
       "      <td>-0.479087</td>\n",
       "      <td>-0.445</td>\n",
       "      <td>-0.493141</td>\n",
       "      <td>-0.501432</td>\n",
       "      <td>-0.02765</td>\n",
       "      <td>-1.344995</td>\n",
       "      <td>0.539377</td>\n",
       "      <td>-0.425920</td>\n",
       "      <td>-0.322040</td>\n",
       "      <td>-0.039118</td>\n",
       "      <td>0.657394</td>\n",
       "      <td>-1.172894</td>\n",
       "      <td>-0.42592</td>\n",
       "      <td>-0.274947</td>\n",
       "      <td>0</td>\n",
       "    </tr>\n",
       "    <tr>\n",
       "      <th>574</th>\n",
       "      <td>-0.352091</td>\n",
       "      <td>-0.039005</td>\n",
       "      <td>0.481288</td>\n",
       "      <td>-0.445</td>\n",
       "      <td>-0.237445</td>\n",
       "      <td>-0.501432</td>\n",
       "      <td>-0.02765</td>\n",
       "      <td>0.743497</td>\n",
       "      <td>0.539377</td>\n",
       "      <td>-0.425920</td>\n",
       "      <td>-0.322040</td>\n",
       "      <td>-0.039118</td>\n",
       "      <td>0.657394</td>\n",
       "      <td>0.852592</td>\n",
       "      <td>-0.42592</td>\n",
       "      <td>-0.274947</td>\n",
       "      <td>0</td>\n",
       "    </tr>\n",
       "  </tbody>\n",
       "</table>\n",
       "</div>"
      ],
      "text/plain": [
       "        pclass       age     sibsp  parch      fare    age_NA  fare_NA  \\\n",
       "1118  0.841916 -0.349075 -0.479087 -0.445 -0.490240 -0.501432 -0.02765   \n",
       "44   -1.546098  0.891204 -0.479087 -0.445  1.956990 -0.501432 -0.02765   \n",
       "1072  0.841916 -0.116523 -0.479087 -0.445 -0.493947  1.994288 -0.02765   \n",
       "1130  0.841916 -0.891698 -0.479087 -0.445 -0.493141 -0.501432 -0.02765   \n",
       "574  -0.352091 -0.039005  0.481288 -0.445 -0.237445 -0.501432 -0.02765   \n",
       "\n",
       "      sex_male  cabin_Missing  cabin_Rare  embarked_Q  embarked_Rare  \\\n",
       "1118  0.743497       0.539377   -0.425920   -0.322040      -0.039118   \n",
       "44   -1.344995      -1.853992    2.347858   -0.322040      -0.039118   \n",
       "1072  0.743497       0.539377   -0.425920    3.105202      -0.039118   \n",
       "1130 -1.344995       0.539377   -0.425920   -0.322040      -0.039118   \n",
       "574   0.743497       0.539377   -0.425920   -0.322040      -0.039118   \n",
       "\n",
       "      embarked_S  title_Mr  title_Mrs  title_Rare  survived  \n",
       "1118    0.657394  0.852592   -0.42592   -0.274947         0  \n",
       "44     -1.521159 -1.172894   -0.42592   -0.274947         1  \n",
       "1072   -1.521159  0.852592   -0.42592   -0.274947         0  \n",
       "1130    0.657394 -1.172894   -0.42592   -0.274947         0  \n",
       "574     0.657394  0.852592   -0.42592   -0.274947         0  "
      ]
     },
     "execution_count": 14,
     "metadata": {},
     "output_type": "execute_result"
    }
   ],
   "source": [
    "dataset.head()"
   ]
  },
  {
   "cell_type": "code",
   "execution_count": 15,
   "metadata": {
    "gather": {
     "logged": 1612644464791
    }
   },
   "outputs": [],
   "source": [
    "#To train the model we need a TabularDataset and not a dataframe, therefore the current df will be converterd \n",
    "#into a TabularDataset:\n",
    "\n",
    "#Convert the dataframe into a csv\n",
    "local_path = 'prepared.csv'\n",
    "\n",
    "#Save it locally\n",
    "dataset.to_csv(local_path,index=None)\n",
    "\n",
    "#Generate the a datastore object which is the the default datastore\n",
    "datastore = ws.get_default_datastore()"
   ]
  },
  {
   "cell_type": "code",
   "execution_count": 16,
   "metadata": {
    "gather": {
     "logged": 1612644468648
    }
   },
   "outputs": [
    {
     "name": "stdout",
     "output_type": "stream",
     "text": [
      "Uploading an estimated of 21 files\n",
      "Target already exists. Skipping upload for data/.amlignore\n",
      "Target already exists. Skipping upload for data/.amlignore.amltmp\n",
      "Target already exists. Skipping upload for data/automl3.ipynb\n",
      "Target already exists. Skipping upload for data/automl3.ipynb.amltmp\n",
      "Target already exists. Skipping upload for data/automl4.ipynb\n",
      "Target already exists. Skipping upload for data/automl4.ipynb.amltmp\n",
      "Target already exists. Skipping upload for data/automl_errors.log\n",
      "Target already exists. Skipping upload for data/azureml_automl.log\n",
      "Target already exists. Skipping upload for data/prepared.csv\n",
      "Target already exists. Skipping upload for data/pre_preprocess.py\n",
      "Target already exists. Skipping upload for data/train.py\n",
      "Target already exists. Skipping upload for data/.ipynb_aml_checkpoints/automl4-checkpoint2021-1-6-19-16-2.ipynb\n",
      "Target already exists. Skipping upload for data/.ipynb_aml_checkpoints/automl4-checkpoint2021-1-6-19-27-51.ipynb\n",
      "Target already exists. Skipping upload for data/.ipynb_aml_checkpoints/automl4-checkpoint2021-1-6-19-30-20.ipynb\n",
      "Target already exists. Skipping upload for data/.ipynb_aml_checkpoints/automl4-checkpoint2021-1-6-19-35-16.ipynb\n",
      "Target already exists. Skipping upload for data/__pycache__/pre_preprocess.cpython-36.pyc\n",
      "Target already exists. Skipping upload for data/__pycache__/train.cpython-36.pyc\n",
      "Uploading ./automl.log\n",
      "Uploaded ./automl.log, 1 files out of an estimated total of 19\n",
      "Uploading ./.ipynb_aml_checkpoints/automl3-checkpoint2021-1-6-20-46-27.ipynb\n",
      "Uploaded ./.ipynb_aml_checkpoints/automl3-checkpoint2021-1-6-20-46-27.ipynb, 2 files out of an estimated total of 10\n",
      "Uploading ./.ipynb_aml_checkpoints/automl4-checkpoint2021-1-6-20-39-13.ipynb\n",
      "Uploaded ./.ipynb_aml_checkpoints/automl4-checkpoint2021-1-6-20-39-13.ipynb, 3 files out of an estimated total of 6\n",
      "Uploading ./.ipynb_aml_checkpoints/automl4-checkpoint2021-1-6-20-45-4.ipynb\n",
      "Uploaded ./.ipynb_aml_checkpoints/automl4-checkpoint2021-1-6-20-45-4.ipynb, 4 files out of an estimated total of 6\n",
      "Uploaded 4 files\n"
     ]
    },
    {
     "data": {
      "text/plain": [
       "$AZUREML_DATAREFERENCE_740d0d7acba54e11aa9baa3c8c6d8aa9"
      ]
     },
     "execution_count": 16,
     "metadata": {},
     "output_type": "execute_result"
    }
   ],
   "source": [
    "#Upload the dataframe which was previosly converted into a csv\n",
    "datastore.upload(src_dir='.', target_path='data')"
   ]
  },
  {
   "cell_type": "code",
   "execution_count": 17,
   "metadata": {
    "gather": {
     "logged": 1612644474243
    }
   },
   "outputs": [
    {
     "data": {
      "text/plain": [
       "$AZUREML_DATAREFERENCE_workspaceblobstore"
      ]
     },
     "execution_count": 17,
     "metadata": {},
     "output_type": "execute_result"
    }
   ],
   "source": [
    "#For the sake of checking; check the path\n",
    "datastore.path()"
   ]
  },
  {
   "cell_type": "code",
   "execution_count": 18,
   "metadata": {
    "gather": {
     "logged": 1612644478077
    }
   },
   "outputs": [],
   "source": [
    "#Now the uploaded file will be transformed into a Tabular dataset and store in a varible named 'training_dataset'\n",
    "training_dataset = Dataset.Tabular.from_delimited_files(path= [(datastore,('data/prepared.csv'))])"
   ]
  },
  {
   "cell_type": "code",
   "execution_count": 19,
   "metadata": {
    "gather": {
     "logged": 1612644483752
    }
   },
   "outputs": [
    {
     "data": {
      "text/html": [
       "<div>\n",
       "<style scoped>\n",
       "    .dataframe tbody tr th:only-of-type {\n",
       "        vertical-align: middle;\n",
       "    }\n",
       "\n",
       "    .dataframe tbody tr th {\n",
       "        vertical-align: top;\n",
       "    }\n",
       "\n",
       "    .dataframe thead th {\n",
       "        text-align: right;\n",
       "    }\n",
       "</style>\n",
       "<table border=\"1\" class=\"dataframe\">\n",
       "  <thead>\n",
       "    <tr style=\"text-align: right;\">\n",
       "      <th></th>\n",
       "      <th>pclass</th>\n",
       "      <th>age</th>\n",
       "      <th>sibsp</th>\n",
       "      <th>parch</th>\n",
       "      <th>fare</th>\n",
       "      <th>age_NA</th>\n",
       "      <th>fare_NA</th>\n",
       "      <th>sex_male</th>\n",
       "      <th>cabin_Missing</th>\n",
       "      <th>cabin_Rare</th>\n",
       "      <th>embarked_Q</th>\n",
       "      <th>embarked_Rare</th>\n",
       "      <th>embarked_S</th>\n",
       "      <th>title_Mr</th>\n",
       "      <th>title_Mrs</th>\n",
       "      <th>title_Rare</th>\n",
       "      <th>survived</th>\n",
       "    </tr>\n",
       "  </thead>\n",
       "  <tbody>\n",
       "    <tr>\n",
       "      <th>0</th>\n",
       "      <td>0.841916</td>\n",
       "      <td>-0.349075</td>\n",
       "      <td>-0.479087</td>\n",
       "      <td>-0.445</td>\n",
       "      <td>-0.490240</td>\n",
       "      <td>-0.501432</td>\n",
       "      <td>-0.02765</td>\n",
       "      <td>0.743497</td>\n",
       "      <td>0.539377</td>\n",
       "      <td>-0.425920</td>\n",
       "      <td>-0.322040</td>\n",
       "      <td>-0.039118</td>\n",
       "      <td>0.657394</td>\n",
       "      <td>0.852592</td>\n",
       "      <td>-0.42592</td>\n",
       "      <td>-0.274947</td>\n",
       "      <td>0</td>\n",
       "    </tr>\n",
       "    <tr>\n",
       "      <th>1</th>\n",
       "      <td>-1.546098</td>\n",
       "      <td>0.891204</td>\n",
       "      <td>-0.479087</td>\n",
       "      <td>-0.445</td>\n",
       "      <td>1.956990</td>\n",
       "      <td>-0.501432</td>\n",
       "      <td>-0.02765</td>\n",
       "      <td>-1.344995</td>\n",
       "      <td>-1.853992</td>\n",
       "      <td>2.347858</td>\n",
       "      <td>-0.322040</td>\n",
       "      <td>-0.039118</td>\n",
       "      <td>-1.521159</td>\n",
       "      <td>-1.172894</td>\n",
       "      <td>-0.42592</td>\n",
       "      <td>-0.274947</td>\n",
       "      <td>1</td>\n",
       "    </tr>\n",
       "    <tr>\n",
       "      <th>2</th>\n",
       "      <td>0.841916</td>\n",
       "      <td>-0.116523</td>\n",
       "      <td>-0.479087</td>\n",
       "      <td>-0.445</td>\n",
       "      <td>-0.493947</td>\n",
       "      <td>1.994288</td>\n",
       "      <td>-0.02765</td>\n",
       "      <td>0.743497</td>\n",
       "      <td>0.539377</td>\n",
       "      <td>-0.425920</td>\n",
       "      <td>3.105202</td>\n",
       "      <td>-0.039118</td>\n",
       "      <td>-1.521159</td>\n",
       "      <td>0.852592</td>\n",
       "      <td>-0.42592</td>\n",
       "      <td>-0.274947</td>\n",
       "      <td>0</td>\n",
       "    </tr>\n",
       "    <tr>\n",
       "      <th>3</th>\n",
       "      <td>0.841916</td>\n",
       "      <td>-0.891698</td>\n",
       "      <td>-0.479087</td>\n",
       "      <td>-0.445</td>\n",
       "      <td>-0.493141</td>\n",
       "      <td>-0.501432</td>\n",
       "      <td>-0.02765</td>\n",
       "      <td>-1.344995</td>\n",
       "      <td>0.539377</td>\n",
       "      <td>-0.425920</td>\n",
       "      <td>-0.322040</td>\n",
       "      <td>-0.039118</td>\n",
       "      <td>0.657394</td>\n",
       "      <td>-1.172894</td>\n",
       "      <td>-0.42592</td>\n",
       "      <td>-0.274947</td>\n",
       "      <td>0</td>\n",
       "    </tr>\n",
       "    <tr>\n",
       "      <th>4</th>\n",
       "      <td>-0.352091</td>\n",
       "      <td>-0.039005</td>\n",
       "      <td>0.481288</td>\n",
       "      <td>-0.445</td>\n",
       "      <td>-0.237445</td>\n",
       "      <td>-0.501432</td>\n",
       "      <td>-0.02765</td>\n",
       "      <td>0.743497</td>\n",
       "      <td>0.539377</td>\n",
       "      <td>-0.425920</td>\n",
       "      <td>-0.322040</td>\n",
       "      <td>-0.039118</td>\n",
       "      <td>0.657394</td>\n",
       "      <td>0.852592</td>\n",
       "      <td>-0.42592</td>\n",
       "      <td>-0.274947</td>\n",
       "      <td>0</td>\n",
       "    </tr>\n",
       "  </tbody>\n",
       "</table>\n",
       "</div>"
      ],
      "text/plain": [
       "     pclass       age     sibsp  parch      fare    age_NA  fare_NA  sex_male  \\\n",
       "0  0.841916 -0.349075 -0.479087 -0.445 -0.490240 -0.501432 -0.02765  0.743497   \n",
       "1 -1.546098  0.891204 -0.479087 -0.445  1.956990 -0.501432 -0.02765 -1.344995   \n",
       "2  0.841916 -0.116523 -0.479087 -0.445 -0.493947  1.994288 -0.02765  0.743497   \n",
       "3  0.841916 -0.891698 -0.479087 -0.445 -0.493141 -0.501432 -0.02765 -1.344995   \n",
       "4 -0.352091 -0.039005  0.481288 -0.445 -0.237445 -0.501432 -0.02765  0.743497   \n",
       "\n",
       "   cabin_Missing  cabin_Rare  embarked_Q  embarked_Rare  embarked_S  title_Mr  \\\n",
       "0       0.539377   -0.425920   -0.322040      -0.039118    0.657394  0.852592   \n",
       "1      -1.853992    2.347858   -0.322040      -0.039118   -1.521159 -1.172894   \n",
       "2       0.539377   -0.425920    3.105202      -0.039118   -1.521159  0.852592   \n",
       "3       0.539377   -0.425920   -0.322040      -0.039118    0.657394 -1.172894   \n",
       "4       0.539377   -0.425920   -0.322040      -0.039118    0.657394  0.852592   \n",
       "\n",
       "   title_Mrs  title_Rare  survived  \n",
       "0   -0.42592   -0.274947         0  \n",
       "1   -0.42592   -0.274947         1  \n",
       "2   -0.42592   -0.274947         0  \n",
       "3   -0.42592   -0.274947         0  \n",
       "4   -0.42592   -0.274947         0  "
      ]
     },
     "execution_count": 19,
     "metadata": {},
     "output_type": "execute_result"
    }
   ],
   "source": [
    "#let's visualize the data:\n",
    "training_dataset.to_pandas_dataframe().head()"
   ]
  },
  {
   "cell_type": "markdown",
   "metadata": {},
   "source": [
    "## AutoML Configuration\n",
    "\n",
    "TODO: Explain why you chose the automl settings and cofiguration you used below."
   ]
  },
  {
   "cell_type": "code",
   "execution_count": 20,
   "metadata": {
    "gather": {
     "logged": 1612644561998
    }
   },
   "outputs": [],
   "source": [
    "#Create the automl settings which will be used as argurments in the automl config\n",
    "automl_settings = {\n",
    "    \"experiment_timeout_minutes\": 20,\n",
    "    \"max_concurrent_iterations\": 5,\n",
    "    \"primary_metric\" : 'accuracy'\n",
    "}\n",
    "\n",
    "#Create the automl_config\n",
    "automl_config = AutoMLConfig(compute_target=compute_target,\n",
    "                             task = \"classification\",\n",
    "                             training_data=training_dataset,\n",
    "                             label_column_name=\"survived\",   \n",
    "                             path = project_folder,\n",
    "                             enable_early_stopping= True,\n",
    "                             featurization= 'auto',\n",
    "                             debug_log = \"automl_errors.log\",\n",
    "                             **automl_settings\n",
    "                            )"
   ]
  },
  {
   "cell_type": "code",
   "execution_count": 21,
   "metadata": {
    "gather": {
     "logged": 1612645667211
    },
    "jupyter": {
     "outputs_hidden": false,
     "source_hidden": false
    },
    "nteract": {
     "transient": {
      "deleting": false
     }
    }
   },
   "outputs": [
    {
     "name": "stdout",
     "output_type": "stream",
     "text": [
      "Running on remote.\n",
      "No run_configuration provided, running on auto-ml with default configuration\n",
      "Running on remote compute: auto-ml\n",
      "Parent Run ID: AutoML_5c00b952-0740-462c-9963-4285b64fb24a\n",
      "\n",
      "Current status: FeaturesGeneration. Generating features for the dataset.\n",
      "Current status: ModelSelection. Beginning model selection.\n",
      "\n",
      "****************************************************************************************************\n",
      "DATA GUARDRAILS: \n",
      "\n",
      "TYPE:         Cross validation\n",
      "STATUS:       DONE\n",
      "DESCRIPTION:  Each iteration of the trained model was validated through cross-validation.\n",
      "              \n",
      "DETAILS:      \n",
      "+---------------------------------+\n",
      "|Number of folds                  |\n",
      "+=================================+\n",
      "|3                                |\n",
      "+---------------------------------+\n",
      "\n",
      "****************************************************************************************************\n",
      "\n",
      "TYPE:         Class balancing detection\n",
      "STATUS:       PASSED\n",
      "DESCRIPTION:  Your inputs were analyzed, and all classes are balanced in your training data.\n",
      "              Learn more about imbalanced data: https://aka.ms/AutomatedMLImbalancedData\n",
      "\n",
      "****************************************************************************************************\n",
      "\n",
      "TYPE:         Missing feature values imputation\n",
      "STATUS:       PASSED\n",
      "DESCRIPTION:  No feature missing values were detected in the training data.\n",
      "              Learn more about missing value imputation: https://aka.ms/AutomatedMLFeaturization\n",
      "\n",
      "****************************************************************************************************\n",
      "\n",
      "TYPE:         High cardinality feature detection\n",
      "STATUS:       PASSED\n",
      "DESCRIPTION:  Your inputs were analyzed, and no high cardinality features were detected.\n",
      "              Learn more about high cardinality feature handling: https://aka.ms/AutomatedMLFeaturization\n",
      "\n",
      "****************************************************************************************************\n",
      "\n",
      "****************************************************************************************************\n",
      "ITERATION: The iteration being evaluated.\n",
      "PIPELINE: A summary description of the pipeline being evaluated.\n",
      "DURATION: Time taken for the current iteration.\n",
      "METRIC: The result of computing score on the fitted pipeline.\n",
      "BEST: The best observed score thus far.\n",
      "****************************************************************************************************\n",
      "\n",
      " ITERATION   PIPELINE                                       DURATION      METRIC      BEST\n",
      "         0   MaxAbsScaler LightGBM                          0:00:50       0.7880    0.7880\n",
      "         1   MaxAbsScaler XGBoostClassifier                 0:00:57       0.8080    0.8080\n",
      "         2   MinMaxScaler RandomForest                      0:00:53       0.8042    0.8080\n",
      "         3   MinMaxScaler RandomForest                      0:00:49       0.7822    0.8080\n",
      "         4   MinMaxScaler RandomForest                      0:00:54       0.7956    0.8080\n",
      "         5   StandardScalerWrapper XGBoostClassifier        0:00:54       0.7822    0.8080\n",
      "         6   MinMaxScaler SVM                               0:00:49       0.7975    0.8080\n",
      "         9   SparseNormalizer XGBoostClassifier             0:00:46       0.7956    0.8080\n",
      "         7   SparseNormalizer XGBoostClassifier             0:00:55       0.7861    0.8080\n",
      "         8   SparseNormalizer XGBoostClassifier             0:00:52       0.7851    0.8080\n",
      "        11   SparseNormalizer XGBoostClassifier             0:00:48       0.8023    0.8080\n",
      "        10   SparseNormalizer LightGBM                      0:00:52       0.8032    0.8080\n",
      "        12   StandardScalerWrapper RandomForest             0:00:52       0.8013    0.8080\n",
      "        13   MaxAbsScaler LightGBM                          0:00:49       0.8080    0.8080\n",
      "        14   MaxAbsScaler LightGBM                          0:00:50       0.7889    0.8080\n",
      "        15   StandardScalerWrapper XGBoostClassifier        0:00:50       0.7889    0.8080\n",
      "        16   StandardScalerWrapper LightGBM                 0:00:51       0.8061    0.8080\n",
      "        17   SparseNormalizer XGBoostClassifier             0:00:46       0.8042    0.8080\n",
      "        18   StandardScalerWrapper LightGBM                 0:00:49       0.7899    0.8080\n",
      "        19   RobustScaler LightGBM                          0:00:52       0.7956    0.8080\n",
      "        20   MaxAbsScaler RandomForest                      0:00:51       0.8013    0.8080\n",
      "        21   SparseNormalizer XGBoostClassifier             0:00:48       0.7947    0.8080\n",
      "        22   MinMaxScaler LightGBM                          0:00:46       0.8099    0.8099\n",
      "        23   StandardScalerWrapper LightGBM                 0:00:45       0.7937    0.8099\n",
      "        24   MaxAbsScaler RandomForest                      0:00:52       0.8118    0.8118\n",
      "        28   SparseNormalizer RandomForest                  0:00:43       0.7765    0.8118\n",
      "        25   SparseNormalizer XGBoostClassifier             0:00:49       0.6180    0.8118\n",
      "        26   SparseNormalizer ExtremeRandomTrees            0:00:49       0.7698    0.8118\n",
      "        27   MaxAbsScaler ExtremeRandomTrees                0:00:46       0.7641    0.8118\n",
      "        29   SparseNormalizer RandomForest                  0:00:46       0.7899    0.8118\n",
      "        32   SparseNormalizer XGBoostClassifier             0:00:43       0.8042    0.8118\n",
      "        30   StandardScalerWrapper RandomForest             0:00:52       0.6180    0.8118\n",
      "        31   MinMaxScaler LightGBM                          0:00:55       0.7841    0.8118\n",
      "        33   StandardScalerWrapper KNN                      0:00:47       0.7880    0.8118\n",
      "        34   StandardScalerWrapper LightGBM                 0:00:57       0.7908    0.8118\n",
      "        35   StandardScalerWrapper RandomForest             0:00:56       0.7841    0.8118\n",
      "        36   StandardScalerWrapper XGBoostClassifier        0:00:56       0.8157    0.8157\n",
      "        37   StandardScalerWrapper XGBoostClassifier        0:00:49       0.8090    0.8157\n",
      "        38   RobustScaler RandomForest                      0:00:48       0.7966    0.8157\n",
      "        39   StandardScalerWrapper LightGBM                 0:01:21       0.8004    0.8157\n",
      "        40   StandardScalerWrapper RandomForest             0:00:52       0.7803    0.8157\n",
      "        41   SparseNormalizer XGBoostClassifier             0:00:52       0.8004    0.8157\n",
      "        42   MaxAbsScaler LightGBM                          0:00:49       0.7975    0.8157\n",
      "        43   StandardScalerWrapper XGBoostClassifier        0:00:51       0.8099    0.8157\n",
      "        44   SparseNormalizer XGBoostClassifier             0:00:54       0.7966    0.8157\n",
      "        46   MinMaxScaler LogisticRegression                0:00:50       0.7994    0.8157\n",
      "        45   SparseNormalizer XGBoostClassifier             0:01:38       0.7880    0.8157\n",
      "        47   SparseNormalizer XGBoostClassifier             0:01:26       0.7975    0.8157\n",
      "        48   MaxAbsScaler LightGBM                          0:01:25       0.8052    0.8157\n",
      "        49   MaxAbsScaler ExtremeRandomTrees                0:00:54       0.7994    0.8157\n",
      "        50   StandardScalerWrapper XGBoostClassifier        0:00:49       0.7822    0.8157\n",
      "        51   StandardScalerWrapper RandomForest             0:00:49       0.7794    0.8157\n",
      "        52   StandardScalerWrapper XGBoostClassifier        0:00:51       0.8061    0.8157\n",
      "        53   StandardScalerWrapper XGBoostClassifier        0:00:49       0.7966    0.8157\n",
      "        54   StandardScalerWrapper XGBoostClassifier        0:00:38       0.8042    0.8157\n",
      "        55   StandardScalerWrapper XGBoostClassifier        0:00:32       0.8090    0.8157\n",
      "        57    StackEnsemble                                 0:01:22       0.8157    0.8157\n",
      "        56    VotingEnsemble                                0:01:27       0.8271    0.8271\n"
     ]
    }
   ],
   "source": [
    "#New one\n",
    "#Original code\n",
    "# TODO: Submit your experiment\n",
    "#remote_run = experiment.submit(automl_config)\n",
    "automl_run = experiment.submit(automl_config,show_output=True)"
   ]
  },
  {
   "cell_type": "code",
   "execution_count": 22,
   "metadata": {
    "collapsed": true,
    "gather": {
     "logged": 1612645668066
    },
    "jupyter": {
     "outputs_hidden": false,
     "source_hidden": false
    },
    "nteract": {
     "transient": {
      "deleting": false
     }
    }
   },
   "outputs": [
    {
     "data": {
      "application/vnd.jupyter.widget-view+json": {
       "model_id": "b9ae8aa6fae24cb18762c659c4b208ce",
       "version_major": 2,
       "version_minor": 0
      },
      "text/plain": [
       "_AutoMLWidget(widget_settings={'childWidgetDisplay': 'popup', 'send_telemetry': False, 'log_level': 'INFO', 's…"
      ]
     },
     "metadata": {},
     "output_type": "display_data"
    },
    {
     "data": {
      "application/aml.mini.widget.v1": "{\"status\": \"Completed\", \"workbench_run_details_uri\": \"https://ml.azure.com/experiments/automl-experiment-1/runs/AutoML_5c00b952-0740-462c-9963-4285b64fb24a?wsid=/subscriptions/6971f5ac-8af1-446e-8034-05acea24681f/resourcegroups/aml-quickstarts-137654/workspaces/quick-starts-ws-137654\", \"run_id\": \"AutoML_5c00b952-0740-462c-9963-4285b64fb24a\", \"run_properties\": {\"run_id\": \"AutoML_5c00b952-0740-462c-9963-4285b64fb24a\", \"created_utc\": \"2021-02-06T20:49:38.840992Z\", \"properties\": {\"num_iterations\": \"1000\", \"training_type\": \"TrainFull\", \"acquisition_function\": \"EI\", \"primary_metric\": \"accuracy\", \"train_split\": \"0\", \"acquisition_parameter\": \"0\", \"num_cross_validation\": null, \"target\": \"auto-ml\", \"AMLSettingsJsonString\": \"{\\\"path\\\":null,\\\"name\\\":\\\"automl-experiment-1\\\",\\\"subscription_id\\\":\\\"6971f5ac-8af1-446e-8034-05acea24681f\\\",\\\"resource_group\\\":\\\"aml-quickstarts-137654\\\",\\\"workspace_name\\\":\\\"quick-starts-ws-137654\\\",\\\"region\\\":\\\"southcentralus\\\",\\\"compute_target\\\":\\\"auto-ml\\\",\\\"spark_service\\\":null,\\\"azure_service\\\":\\\"remote\\\",\\\"many_models\\\":false,\\\"pipeline_fetch_max_batch_size\\\":1,\\\"iterations\\\":1000,\\\"primary_metric\\\":\\\"accuracy\\\",\\\"task_type\\\":\\\"classification\\\",\\\"data_script\\\":null,\\\"validation_size\\\":0.0,\\\"n_cross_validations\\\":null,\\\"y_min\\\":null,\\\"y_max\\\":null,\\\"num_classes\\\":null,\\\"featurization\\\":\\\"auto\\\",\\\"_ignore_package_version_incompatibilities\\\":false,\\\"is_timeseries\\\":false,\\\"max_cores_per_iteration\\\":1,\\\"max_concurrent_iterations\\\":5,\\\"iteration_timeout_minutes\\\":null,\\\"mem_in_mb\\\":null,\\\"enforce_time_on_windows\\\":false,\\\"experiment_timeout_minutes\\\":20,\\\"experiment_exit_score\\\":null,\\\"whitelist_models\\\":null,\\\"blacklist_algos\\\":[\\\"TensorFlowLinearClassifier\\\",\\\"TensorFlowDNN\\\"],\\\"supported_models\\\":[\\\"SVM\\\",\\\"AveragedPerceptronClassifier\\\",\\\"XGBoostClassifier\\\",\\\"TensorFlowDNN\\\",\\\"LogisticRegression\\\",\\\"SGD\\\",\\\"DecisionTree\\\",\\\"RandomForest\\\",\\\"ExtremeRandomTrees\\\",\\\"LightGBM\\\",\\\"GradientBoosting\\\",\\\"KNN\\\",\\\"TensorFlowLinearClassifier\\\",\\\"MultinomialNaiveBayes\\\",\\\"BernoulliNaiveBayes\\\",\\\"LinearSVM\\\"],\\\"auto_blacklist\\\":true,\\\"blacklist_samples_reached\\\":false,\\\"exclude_nan_labels\\\":true,\\\"verbosity\\\":20,\\\"_debug_log\\\":\\\"azureml_automl.log\\\",\\\"show_warnings\\\":false,\\\"model_explainability\\\":true,\\\"service_url\\\":null,\\\"sdk_url\\\":null,\\\"sdk_packages\\\":null,\\\"enable_onnx_compatible_models\\\":false,\\\"enable_split_onnx_featurizer_estimator_models\\\":false,\\\"vm_type\\\":\\\"STANDARD_DS12_V2\\\",\\\"telemetry_verbosity\\\":20,\\\"send_telemetry\\\":true,\\\"enable_dnn\\\":false,\\\"scenario\\\":\\\"SDK-1.13.0\\\",\\\"environment_label\\\":null,\\\"force_text_dnn\\\":false,\\\"enable_feature_sweeping\\\":true,\\\"enable_early_stopping\\\":true,\\\"early_stopping_n_iters\\\":10,\\\"metrics\\\":null,\\\"enable_ensembling\\\":true,\\\"enable_stack_ensembling\\\":true,\\\"ensemble_iterations\\\":15,\\\"enable_tf\\\":false,\\\"enable_subsampling\\\":null,\\\"subsample_seed\\\":null,\\\"enable_nimbusml\\\":false,\\\"enable_streaming\\\":false,\\\"force_streaming\\\":false,\\\"track_child_runs\\\":true,\\\"allowed_private_models\\\":[],\\\"label_column_name\\\":\\\"survived\\\",\\\"weight_column_name\\\":null,\\\"cv_split_column_names\\\":null,\\\"enable_local_managed\\\":false,\\\"_local_managed_run_id\\\":null,\\\"cost_mode\\\":1,\\\"lag_length\\\":0,\\\"metric_operation\\\":\\\"maximize\\\",\\\"preprocess\\\":true}\", \"DataPrepJsonString\": \"{\\\\\\\"training_data\\\\\\\": \\\\\\\"{\\\\\\\\\\\\\\\"blocks\\\\\\\\\\\\\\\": [{\\\\\\\\\\\\\\\"id\\\\\\\\\\\\\\\": \\\\\\\\\\\\\\\"145e7cfa-c51e-4a86-8ef4-9add826697a3\\\\\\\\\\\\\\\", \\\\\\\\\\\\\\\"type\\\\\\\\\\\\\\\": \\\\\\\\\\\\\\\"Microsoft.DPrep.GetDatastoreFilesBlock\\\\\\\\\\\\\\\", \\\\\\\\\\\\\\\"arguments\\\\\\\\\\\\\\\": {\\\\\\\\\\\\\\\"datastores\\\\\\\\\\\\\\\": [{\\\\\\\\\\\\\\\"datastoreName\\\\\\\\\\\\\\\": \\\\\\\\\\\\\\\"workspaceblobstore\\\\\\\\\\\\\\\", \\\\\\\\\\\\\\\"path\\\\\\\\\\\\\\\": \\\\\\\\\\\\\\\"data/prepared.csv\\\\\\\\\\\\\\\", \\\\\\\\\\\\\\\"resourceGroup\\\\\\\\\\\\\\\": \\\\\\\\\\\\\\\"aml-quickstarts-137654\\\\\\\\\\\\\\\", \\\\\\\\\\\\\\\"subscription\\\\\\\\\\\\\\\": \\\\\\\\\\\\\\\"6971f5ac-8af1-446e-8034-05acea24681f\\\\\\\\\\\\\\\", \\\\\\\\\\\\\\\"workspaceName\\\\\\\\\\\\\\\": \\\\\\\\\\\\\\\"quick-starts-ws-137654\\\\\\\\\\\\\\\"}]}, \\\\\\\\\\\\\\\"localData\\\\\\\\\\\\\\\": {}, \\\\\\\\\\\\\\\"isEnabled\\\\\\\\\\\\\\\": true, \\\\\\\\\\\\\\\"name\\\\\\\\\\\\\\\": null, \\\\\\\\\\\\\\\"annotation\\\\\\\\\\\\\\\": null}, {\\\\\\\\\\\\\\\"id\\\\\\\\\\\\\\\": \\\\\\\\\\\\\\\"e1c0ef39-8f8a-4bd8-b3ce-1ca4427172df\\\\\\\\\\\\\\\", \\\\\\\\\\\\\\\"type\\\\\\\\\\\\\\\": \\\\\\\\\\\\\\\"Microsoft.DPrep.ParseDelimitedBlock\\\\\\\\\\\\\\\", \\\\\\\\\\\\\\\"arguments\\\\\\\\\\\\\\\": {\\\\\\\\\\\\\\\"columnHeadersMode\\\\\\\\\\\\\\\": 3, \\\\\\\\\\\\\\\"fileEncoding\\\\\\\\\\\\\\\": 0, \\\\\\\\\\\\\\\"handleQuotedLineBreaks\\\\\\\\\\\\\\\": false, \\\\\\\\\\\\\\\"preview\\\\\\\\\\\\\\\": false, \\\\\\\\\\\\\\\"separator\\\\\\\\\\\\\\\": \\\\\\\\\\\\\\\",\\\\\\\\\\\\\\\", \\\\\\\\\\\\\\\"skipRows\\\\\\\\\\\\\\\": 0, \\\\\\\\\\\\\\\"skipRowsMode\\\\\\\\\\\\\\\": 0}, \\\\\\\\\\\\\\\"localData\\\\\\\\\\\\\\\": {}, \\\\\\\\\\\\\\\"isEnabled\\\\\\\\\\\\\\\": true, \\\\\\\\\\\\\\\"name\\\\\\\\\\\\\\\": null, \\\\\\\\\\\\\\\"annotation\\\\\\\\\\\\\\\": null}, {\\\\\\\\\\\\\\\"id\\\\\\\\\\\\\\\": \\\\\\\\\\\\\\\"66e8f7ef-a78e-4991-ace3-f5fa615bad4b\\\\\\\\\\\\\\\", \\\\\\\\\\\\\\\"type\\\\\\\\\\\\\\\": \\\\\\\\\\\\\\\"Microsoft.DPrep.DropColumnsBlock\\\\\\\\\\\\\\\", \\\\\\\\\\\\\\\"arguments\\\\\\\\\\\\\\\": {\\\\\\\\\\\\\\\"columns\\\\\\\\\\\\\\\": {\\\\\\\\\\\\\\\"type\\\\\\\\\\\\\\\": 0, \\\\\\\\\\\\\\\"details\\\\\\\\\\\\\\\": {\\\\\\\\\\\\\\\"selectedColumns\\\\\\\\\\\\\\\": [\\\\\\\\\\\\\\\"Path\\\\\\\\\\\\\\\"]}}}, \\\\\\\\\\\\\\\"localData\\\\\\\\\\\\\\\": {}, \\\\\\\\\\\\\\\"isEnabled\\\\\\\\\\\\\\\": true, \\\\\\\\\\\\\\\"name\\\\\\\\\\\\\\\": null, \\\\\\\\\\\\\\\"annotation\\\\\\\\\\\\\\\": null}, {\\\\\\\\\\\\\\\"id\\\\\\\\\\\\\\\": \\\\\\\\\\\\\\\"dc0a3d46-8f97-49d0-aa24-38d7ce695f52\\\\\\\\\\\\\\\", \\\\\\\\\\\\\\\"type\\\\\\\\\\\\\\\": \\\\\\\\\\\\\\\"Microsoft.DPrep.SetColumnTypesBlock\\\\\\\\\\\\\\\", \\\\\\\\\\\\\\\"arguments\\\\\\\\\\\\\\\": {\\\\\\\\\\\\\\\"columnConversion\\\\\\\\\\\\\\\": [{\\\\\\\\\\\\\\\"column\\\\\\\\\\\\\\\": {\\\\\\\\\\\\\\\"type\\\\\\\\\\\\\\\": 2, \\\\\\\\\\\\\\\"details\\\\\\\\\\\\\\\": {\\\\\\\\\\\\\\\"selectedColumn\\\\\\\\\\\\\\\": \\\\\\\\\\\\\\\"pclass\\\\\\\\\\\\\\\"}}, \\\\\\\\\\\\\\\"typeProperty\\\\\\\\\\\\\\\": 3}, {\\\\\\\\\\\\\\\"column\\\\\\\\\\\\\\\": {\\\\\\\\\\\\\\\"type\\\\\\\\\\\\\\\": 2, \\\\\\\\\\\\\\\"details\\\\\\\\\\\\\\\": {\\\\\\\\\\\\\\\"selectedColumn\\\\\\\\\\\\\\\": \\\\\\\\\\\\\\\"age\\\\\\\\\\\\\\\"}}, \\\\\\\\\\\\\\\"typeProperty\\\\\\\\\\\\\\\": 3}, {\\\\\\\\\\\\\\\"column\\\\\\\\\\\\\\\": {\\\\\\\\\\\\\\\"type\\\\\\\\\\\\\\\": 2, \\\\\\\\\\\\\\\"details\\\\\\\\\\\\\\\": {\\\\\\\\\\\\\\\"selectedColumn\\\\\\\\\\\\\\\": \\\\\\\\\\\\\\\"sibsp\\\\\\\\\\\\\\\"}}, \\\\\\\\\\\\\\\"typeProperty\\\\\\\\\\\\\\\": 3}, {\\\\\\\\\\\\\\\"column\\\\\\\\\\\\\\\": {\\\\\\\\\\\\\\\"type\\\\\\\\\\\\\\\": 2, \\\\\\\\\\\\\\\"details\\\\\\\\\\\\\\\": {\\\\\\\\\\\\\\\"selectedColumn\\\\\\\\\\\\\\\": \\\\\\\\\\\\\\\"parch\\\\\\\\\\\\\\\"}}, \\\\\\\\\\\\\\\"typeProperty\\\\\\\\\\\\\\\": 3}, {\\\\\\\\\\\\\\\"column\\\\\\\\\\\\\\\": {\\\\\\\\\\\\\\\"type\\\\\\\\\\\\\\\": 2, \\\\\\\\\\\\\\\"details\\\\\\\\\\\\\\\": {\\\\\\\\\\\\\\\"selectedColumn\\\\\\\\\\\\\\\": \\\\\\\\\\\\\\\"fare\\\\\\\\\\\\\\\"}}, \\\\\\\\\\\\\\\"typeProperty\\\\\\\\\\\\\\\": 3}, {\\\\\\\\\\\\\\\"column\\\\\\\\\\\\\\\": {\\\\\\\\\\\\\\\"type\\\\\\\\\\\\\\\": 2, \\\\\\\\\\\\\\\"details\\\\\\\\\\\\\\\": {\\\\\\\\\\\\\\\"selectedColumn\\\\\\\\\\\\\\\": \\\\\\\\\\\\\\\"age_NA\\\\\\\\\\\\\\\"}}, \\\\\\\\\\\\\\\"typeProperty\\\\\\\\\\\\\\\": 3}, {\\\\\\\\\\\\\\\"column\\\\\\\\\\\\\\\": {\\\\\\\\\\\\\\\"type\\\\\\\\\\\\\\\": 2, \\\\\\\\\\\\\\\"details\\\\\\\\\\\\\\\": {\\\\\\\\\\\\\\\"selectedColumn\\\\\\\\\\\\\\\": \\\\\\\\\\\\\\\"fare_NA\\\\\\\\\\\\\\\"}}, \\\\\\\\\\\\\\\"typeProperty\\\\\\\\\\\\\\\": 3}, {\\\\\\\\\\\\\\\"column\\\\\\\\\\\\\\\": {\\\\\\\\\\\\\\\"type\\\\\\\\\\\\\\\": 2, \\\\\\\\\\\\\\\"details\\\\\\\\\\\\\\\": {\\\\\\\\\\\\\\\"selectedColumn\\\\\\\\\\\\\\\": \\\\\\\\\\\\\\\"sex_male\\\\\\\\\\\\\\\"}}, \\\\\\\\\\\\\\\"typeProperty\\\\\\\\\\\\\\\": 3}, {\\\\\\\\\\\\\\\"column\\\\\\\\\\\\\\\": {\\\\\\\\\\\\\\\"type\\\\\\\\\\\\\\\": 2, \\\\\\\\\\\\\\\"details\\\\\\\\\\\\\\\": {\\\\\\\\\\\\\\\"selectedColumn\\\\\\\\\\\\\\\": \\\\\\\\\\\\\\\"cabin_Missing\\\\\\\\\\\\\\\"}}, \\\\\\\\\\\\\\\"typeProperty\\\\\\\\\\\\\\\": 3}, {\\\\\\\\\\\\\\\"column\\\\\\\\\\\\\\\": {\\\\\\\\\\\\\\\"type\\\\\\\\\\\\\\\": 2, \\\\\\\\\\\\\\\"details\\\\\\\\\\\\\\\": {\\\\\\\\\\\\\\\"selectedColumn\\\\\\\\\\\\\\\": \\\\\\\\\\\\\\\"cabin_Rare\\\\\\\\\\\\\\\"}}, \\\\\\\\\\\\\\\"typeProperty\\\\\\\\\\\\\\\": 3}, {\\\\\\\\\\\\\\\"column\\\\\\\\\\\\\\\": {\\\\\\\\\\\\\\\"type\\\\\\\\\\\\\\\": 2, \\\\\\\\\\\\\\\"details\\\\\\\\\\\\\\\": {\\\\\\\\\\\\\\\"selectedColumn\\\\\\\\\\\\\\\": \\\\\\\\\\\\\\\"embarked_Q\\\\\\\\\\\\\\\"}}, \\\\\\\\\\\\\\\"typeProperty\\\\\\\\\\\\\\\": 3}, {\\\\\\\\\\\\\\\"column\\\\\\\\\\\\\\\": {\\\\\\\\\\\\\\\"type\\\\\\\\\\\\\\\": 2, \\\\\\\\\\\\\\\"details\\\\\\\\\\\\\\\": {\\\\\\\\\\\\\\\"selectedColumn\\\\\\\\\\\\\\\": \\\\\\\\\\\\\\\"embarked_Rare\\\\\\\\\\\\\\\"}}, \\\\\\\\\\\\\\\"typeProperty\\\\\\\\\\\\\\\": 3}, {\\\\\\\\\\\\\\\"column\\\\\\\\\\\\\\\": {\\\\\\\\\\\\\\\"type\\\\\\\\\\\\\\\": 2, \\\\\\\\\\\\\\\"details\\\\\\\\\\\\\\\": {\\\\\\\\\\\\\\\"selectedColumn\\\\\\\\\\\\\\\": \\\\\\\\\\\\\\\"embarked_S\\\\\\\\\\\\\\\"}}, \\\\\\\\\\\\\\\"typeProperty\\\\\\\\\\\\\\\": 3}, {\\\\\\\\\\\\\\\"column\\\\\\\\\\\\\\\": {\\\\\\\\\\\\\\\"type\\\\\\\\\\\\\\\": 2, \\\\\\\\\\\\\\\"details\\\\\\\\\\\\\\\": {\\\\\\\\\\\\\\\"selectedColumn\\\\\\\\\\\\\\\": \\\\\\\\\\\\\\\"title_Mr\\\\\\\\\\\\\\\"}}, \\\\\\\\\\\\\\\"typeProperty\\\\\\\\\\\\\\\": 3}, {\\\\\\\\\\\\\\\"column\\\\\\\\\\\\\\\": {\\\\\\\\\\\\\\\"type\\\\\\\\\\\\\\\": 2, \\\\\\\\\\\\\\\"details\\\\\\\\\\\\\\\": {\\\\\\\\\\\\\\\"selectedColumn\\\\\\\\\\\\\\\": \\\\\\\\\\\\\\\"title_Mrs\\\\\\\\\\\\\\\"}}, \\\\\\\\\\\\\\\"typeProperty\\\\\\\\\\\\\\\": 3}, {\\\\\\\\\\\\\\\"column\\\\\\\\\\\\\\\": {\\\\\\\\\\\\\\\"type\\\\\\\\\\\\\\\": 2, \\\\\\\\\\\\\\\"details\\\\\\\\\\\\\\\": {\\\\\\\\\\\\\\\"selectedColumn\\\\\\\\\\\\\\\": \\\\\\\\\\\\\\\"title_Rare\\\\\\\\\\\\\\\"}}, \\\\\\\\\\\\\\\"typeProperty\\\\\\\\\\\\\\\": 3}, {\\\\\\\\\\\\\\\"column\\\\\\\\\\\\\\\": {\\\\\\\\\\\\\\\"type\\\\\\\\\\\\\\\": 2, \\\\\\\\\\\\\\\"details\\\\\\\\\\\\\\\": {\\\\\\\\\\\\\\\"selectedColumn\\\\\\\\\\\\\\\": \\\\\\\\\\\\\\\"survived\\\\\\\\\\\\\\\"}}, \\\\\\\\\\\\\\\"typeProperty\\\\\\\\\\\\\\\": 2}]}, \\\\\\\\\\\\\\\"localData\\\\\\\\\\\\\\\": {}, \\\\\\\\\\\\\\\"isEnabled\\\\\\\\\\\\\\\": true, \\\\\\\\\\\\\\\"name\\\\\\\\\\\\\\\": null, \\\\\\\\\\\\\\\"annotation\\\\\\\\\\\\\\\": null}], \\\\\\\\\\\\\\\"inspectors\\\\\\\\\\\\\\\": [], \\\\\\\\\\\\\\\"meta\\\\\\\\\\\\\\\": {\\\\\\\\\\\\\\\"savedDatasetId\\\\\\\\\\\\\\\": \\\\\\\\\\\\\\\"591b8132-0ff9-47e3-9e2b-d28a3ad2e61f\\\\\\\\\\\\\\\", \\\\\\\\\\\\\\\"datasetType\\\\\\\\\\\\\\\": \\\\\\\\\\\\\\\"tabular\\\\\\\\\\\\\\\", \\\\\\\\\\\\\\\"subscriptionId\\\\\\\\\\\\\\\": \\\\\\\\\\\\\\\"6971f5ac-8af1-446e-8034-05acea24681f\\\\\\\\\\\\\\\", \\\\\\\\\\\\\\\"workspaceId\\\\\\\\\\\\\\\": \\\\\\\\\\\\\\\"0fe44c98-00be-4014-b68c-0c44c92a62ca\\\\\\\\\\\\\\\", \\\\\\\\\\\\\\\"workspaceLocation\\\\\\\\\\\\\\\": \\\\\\\\\\\\\\\"southcentralus\\\\\\\\\\\\\\\"}}\\\\\\\", \\\\\\\"activities\\\\\\\": 0}\", \"EnableSubsampling\": null, \"runTemplate\": \"AutoML\", \"azureml.runsource\": \"automl\", \"display_task_type\": \"classification\", \"dependencies_versions\": \"{\\\"azureml-widgets\\\": \\\"1.21.0\\\", \\\"azureml-train\\\": \\\"1.21.0\\\", \\\"azureml-train-restclients-hyperdrive\\\": \\\"1.21.0\\\", \\\"azureml-train-core\\\": \\\"1.21.0\\\", \\\"azureml-train-automl\\\": \\\"1.21.0\\\", \\\"azureml-train-automl-runtime\\\": \\\"1.21.0.post1\\\", \\\"azureml-train-automl-client\\\": \\\"1.21.0\\\", \\\"azureml-tensorboard\\\": \\\"1.20.0\\\", \\\"azureml-telemetry\\\": \\\"1.21.0\\\", \\\"azureml-sdk\\\": \\\"1.21.0\\\", \\\"azureml-samples\\\": \\\"0+unknown\\\", \\\"azureml-pipeline\\\": \\\"1.21.0\\\", \\\"azureml-pipeline-steps\\\": \\\"1.21.0\\\", \\\"azureml-pipeline-core\\\": \\\"1.21.0\\\", \\\"azureml-opendatasets\\\": \\\"1.20.0\\\", \\\"azureml-model-management-sdk\\\": \\\"1.0.1b6.post1\\\", \\\"azureml-mlflow\\\": \\\"1.20.0.post1\\\", \\\"azureml-interpret\\\": \\\"1.21.0\\\", \\\"azureml-explain-model\\\": \\\"1.20.0\\\", \\\"azureml-defaults\\\": \\\"1.21.0\\\", \\\"azureml-dataset-runtime\\\": \\\"1.21.0\\\", \\\"azureml-dataprep\\\": \\\"2.8.3\\\", \\\"azureml-dataprep-rslex\\\": \\\"1.6.0\\\", \\\"azureml-dataprep-native\\\": \\\"28.0.0\\\", \\\"azureml-datadrift\\\": \\\"1.20.0\\\", \\\"azureml-core\\\": \\\"1.21.0.post2\\\", \\\"azureml-contrib-services\\\": \\\"1.20.0\\\", \\\"azureml-contrib-server\\\": \\\"1.20.0\\\", \\\"azureml-contrib-reinforcementlearning\\\": \\\"1.20.0\\\", \\\"azureml-contrib-pipeline-steps\\\": \\\"1.20.0\\\", \\\"azureml-contrib-notebook\\\": \\\"1.21.0\\\", \\\"azureml-contrib-interpret\\\": \\\"1.20.0\\\", \\\"azureml-contrib-gbdt\\\": \\\"1.20.0\\\", \\\"azureml-contrib-fairness\\\": \\\"1.20.0\\\", \\\"azureml-contrib-dataset\\\": \\\"1.20.0\\\", \\\"azureml-cli-common\\\": \\\"1.20.0\\\", \\\"azureml-automl-runtime\\\": \\\"1.21.0\\\", \\\"azureml-automl-core\\\": \\\"1.21.0\\\", \\\"azureml-accel-models\\\": \\\"1.20.0\\\"}\", \"_aml_system_scenario_identification\": \"Remote.Parent\", \"ClientType\": \"SDK\", \"environment_cpu_name\": \"AzureML-AutoML\", \"environment_cpu_label\": \"prod\", \"environment_gpu_name\": \"AzureML-AutoML-GPU\", \"environment_gpu_label\": \"prod\", \"root_attribution\": \"automl\", \"attribution\": \"AutoML\", \"Orchestrator\": \"AutoML\", \"CancelUri\": \"https://southcentralus.experiments.azureml.net/jasmine/v1.0/subscriptions/6971f5ac-8af1-446e-8034-05acea24681f/resourceGroups/aml-quickstarts-137654/providers/Microsoft.MachineLearningServices/workspaces/quick-starts-ws-137654/experimentids/8b91d184-cd85-4411-8e42-4013d7896f79/cancel/AutoML_5c00b952-0740-462c-9963-4285b64fb24a\", \"ClientSdkVersion\": \"1.21.0\", \"snapshotId\": \"00000000-0000-0000-0000-000000000000\", \"SetupRunId\": \"AutoML_5c00b952-0740-462c-9963-4285b64fb24a_setup\", \"SetupRunContainerId\": \"dcid.AutoML_5c00b952-0740-462c-9963-4285b64fb24a_setup\", \"FeaturizationRunJsonPath\": \"featurizer_container.json\", \"FeaturizationRunId\": \"AutoML_5c00b952-0740-462c-9963-4285b64fb24a_featurize\", \"ProblemInfoJsonString\": \"{\\\"dataset_num_categorical\\\": 0, \\\"is_sparse\\\": false, \\\"subsampling\\\": false, \\\"dataset_classes\\\": 2, \\\"dataset_features\\\": 16, \\\"dataset_samples\\\": 1047, \\\"single_frequency_class_detected\\\": false}\", \"ModelExplainRunId\": \"AutoML_5c00b952-0740-462c-9963-4285b64fb24a_ModelExplain\"}, \"tags\": {\"model_explain_run\": \"best_run\", \"_aml_system_azureml.automlComponent\": \"AutoML\", \"pipeline_id\": \"\", \"score\": \"\", \"predicted_cost\": \"\", \"fit_time\": \"\", \"training_percent\": \"\", \"iteration\": \"\", \"run_preprocessor\": \"\", \"run_algorithm\": \"\", \"dynamic_whitelisting_iterations\": \"<25>;<30>;<35>;<40>;<45>;<50>;<55>;\", \"automl_best_child_run_id\": \"AutoML_5c00b952-0740-462c-9963-4285b64fb24a_56\", \"model_explain_best_run_child_id\": \"AutoML_5c00b952-0740-462c-9963-4285b64fb24a_56\"}, \"end_time_utc\": \"2021-02-06T21:07:34.13837Z\", \"status\": \"Completed\", \"log_files\": {}, \"log_groups\": [], \"run_duration\": \"0:17:55\", \"run_number\": \"94\", \"run_queued_details\": {\"status\": \"Completed\", \"details\": null}}, \"child_runs\": [{\"run_id\": \"AutoML_5c00b952-0740-462c-9963-4285b64fb24a_0\", \"run_number\": 98, \"metric\": null, \"status\": \"Completed\", \"run_type\": \"azureml.scriptrun\", \"training_percent\": \"100\", \"start_time\": \"2021-02-06T20:52:44.632711Z\", \"end_time\": \"2021-02-06T20:53:34.136695Z\", \"created_time\": \"2021-02-06T20:52:28.307338Z\", \"created_time_dt\": \"2021-02-06T20:52:28.307338Z\", \"duration\": \"0:01:05\", \"iteration\": \"0\", \"goal\": \"accuracy_max\", \"run_name\": \"MaxAbsScaler, LightGBM\", \"run_properties\": \"copy=True\", \"primary_metric\": 0.78796562, \"best_metric\": 0.78796562}, {\"run_id\": \"AutoML_5c00b952-0740-462c-9963-4285b64fb24a_3\", \"run_number\": 99, \"metric\": null, \"status\": \"Completed\", \"run_type\": \"azureml.scriptrun\", \"training_percent\": \"100\", \"start_time\": \"2021-02-06T20:52:44.116713Z\", \"end_time\": \"2021-02-06T20:53:33.459127Z\", \"created_time\": \"2021-02-06T20:52:28.415677Z\", \"created_time_dt\": \"2021-02-06T20:52:28.415677Z\", \"duration\": \"0:01:05\", \"iteration\": \"3\", \"goal\": \"accuracy_max\", \"run_name\": \"MinMaxScaler, RandomForest\", \"run_properties\": \"copy=True, feature_range=(0, 1\", \"primary_metric\": 0.78223496, \"best_metric\": 0.80802292}, {\"run_id\": \"AutoML_5c00b952-0740-462c-9963-4285b64fb24a_4\", \"run_number\": 100, \"metric\": null, \"status\": \"Completed\", \"run_type\": \"azureml.scriptrun\", \"training_percent\": \"100\", \"start_time\": \"2021-02-06T20:52:42.284766Z\", \"end_time\": \"2021-02-06T20:53:36.680381Z\", \"created_time\": \"2021-02-06T20:52:28.427244Z\", \"created_time_dt\": \"2021-02-06T20:52:28.427244Z\", \"duration\": \"0:01:08\", \"iteration\": \"4\", \"goal\": \"accuracy_max\", \"run_name\": \"MinMaxScaler, RandomForest\", \"run_properties\": \"copy=True, feature_range=(0, 1\", \"primary_metric\": 0.79560649, \"best_metric\": 0.80802292}, {\"run_id\": \"AutoML_5c00b952-0740-462c-9963-4285b64fb24a_1\", \"run_number\": 101, \"metric\": null, \"status\": \"Completed\", \"run_type\": \"azureml.scriptrun\", \"training_percent\": \"100\", \"start_time\": \"2021-02-06T20:52:42.988979Z\", \"end_time\": \"2021-02-06T20:53:40.438155Z\", \"created_time\": \"2021-02-06T20:52:28.465045Z\", \"created_time_dt\": \"2021-02-06T20:52:28.465045Z\", \"duration\": \"0:01:11\", \"iteration\": \"1\", \"goal\": \"accuracy_max\", \"run_name\": \"MaxAbsScaler, XGBoostClassifier\", \"run_properties\": \"copy=True\", \"primary_metric\": 0.80802292, \"best_metric\": 0.80802292}, {\"run_id\": \"AutoML_5c00b952-0740-462c-9963-4285b64fb24a_2\", \"run_number\": 102, \"metric\": null, \"status\": \"Completed\", \"run_type\": \"azureml.scriptrun\", \"training_percent\": \"100\", \"start_time\": \"2021-02-06T20:52:44.573382Z\", \"end_time\": \"2021-02-06T20:53:37.607891Z\", \"created_time\": \"2021-02-06T20:52:28.470173Z\", \"created_time_dt\": \"2021-02-06T20:52:28.470173Z\", \"duration\": \"0:01:09\", \"iteration\": \"2\", \"goal\": \"accuracy_max\", \"run_name\": \"MinMaxScaler, RandomForest\", \"run_properties\": \"copy=True, feature_range=(0, 1\", \"primary_metric\": 0.80420248, \"best_metric\": 0.80802292}, {\"run_id\": \"AutoML_5c00b952-0740-462c-9963-4285b64fb24a_5\", \"run_number\": 103, \"metric\": null, \"status\": \"Completed\", \"run_type\": \"azureml.scriptrun\", \"training_percent\": \"100\", \"start_time\": \"2021-02-06T20:53:54.291374Z\", \"end_time\": \"2021-02-06T20:54:48.097489Z\", \"created_time\": \"2021-02-06T20:53:37.435905Z\", \"created_time_dt\": \"2021-02-06T20:53:37.435905Z\", \"duration\": \"0:01:10\", \"iteration\": \"5\", \"goal\": \"accuracy_max\", \"run_name\": \"StandardScalerWrapper, XGBoostClassifier\", \"run_properties\": \"<azureml.automl.runtime.shared.model_wrappers.StandardScalerWrapper object at 0x7fb57a8c5b38\", \"primary_metric\": 0.78223496, \"best_metric\": 0.80802292}, {\"run_id\": \"AutoML_5c00b952-0740-462c-9963-4285b64fb24a_6\", \"run_number\": 104, \"metric\": null, \"status\": \"Completed\", \"run_type\": \"azureml.scriptrun\", \"training_percent\": \"100\", \"start_time\": \"2021-02-06T20:53:56.527908Z\", \"end_time\": \"2021-02-06T20:54:45.806725Z\", \"created_time\": \"2021-02-06T20:53:42.129998Z\", \"created_time_dt\": \"2021-02-06T20:53:42.129998Z\", \"duration\": \"0:01:03\", \"iteration\": \"6\", \"goal\": \"accuracy_max\", \"run_name\": \"MinMaxScaler, SVM\", \"run_properties\": \"copy=True, feature_range=(0, 1\", \"primary_metric\": 0.79751671, \"best_metric\": 0.80802292}, {\"run_id\": \"AutoML_5c00b952-0740-462c-9963-4285b64fb24a_8\", \"run_number\": 105, \"metric\": null, \"status\": \"Completed\", \"run_type\": \"azureml.scriptrun\", \"training_percent\": \"100\", \"start_time\": \"2021-02-06T20:53:56.401106Z\", \"end_time\": \"2021-02-06T20:54:48.474683Z\", \"created_time\": \"2021-02-06T20:53:42.243413Z\", \"created_time_dt\": \"2021-02-06T20:53:42.243413Z\", \"duration\": \"0:01:06\", \"iteration\": \"8\", \"goal\": \"accuracy_max\", \"run_name\": \"SparseNormalizer, XGBoostClassifier\", \"run_properties\": \"<azureml.automl.runtime.shared.model_wrappers.SparseNormalizer object at 0x7fd7bca32470\", \"primary_metric\": 0.78510029, \"best_metric\": 0.80802292}, {\"run_id\": \"AutoML_5c00b952-0740-462c-9963-4285b64fb24a_7\", \"run_number\": 106, \"metric\": null, \"status\": \"Completed\", \"run_type\": \"azureml.scriptrun\", \"training_percent\": \"100\", \"start_time\": \"2021-02-06T20:53:55.678722Z\", \"end_time\": \"2021-02-06T20:54:51.040217Z\", \"created_time\": \"2021-02-06T20:53:42.296696Z\", \"created_time_dt\": \"2021-02-06T20:53:42.296696Z\", \"duration\": \"0:01:08\", \"iteration\": \"7\", \"goal\": \"accuracy_max\", \"run_name\": \"SparseNormalizer, XGBoostClassifier\", \"run_properties\": \"<azureml.automl.runtime.shared.model_wrappers.SparseNormalizer object at 0x7f3e2bdf98d0\", \"primary_metric\": 0.7860554, \"best_metric\": 0.80802292}, {\"run_id\": \"AutoML_5c00b952-0740-462c-9963-4285b64fb24a_9\", \"run_number\": 107, \"metric\": null, \"status\": \"Completed\", \"run_type\": \"azureml.scriptrun\", \"training_percent\": \"100\", \"start_time\": \"2021-02-06T20:54:00.051541Z\", \"end_time\": \"2021-02-06T20:54:45.836012Z\", \"created_time\": \"2021-02-06T20:53:47.127946Z\", \"created_time_dt\": \"2021-02-06T20:53:47.127946Z\", \"duration\": \"0:00:58\", \"iteration\": \"9\", \"goal\": \"accuracy_max\", \"run_name\": \"SparseNormalizer, XGBoostClassifier\", \"run_properties\": \"<azureml.automl.runtime.shared.model_wrappers.SparseNormalizer object at 0x7fddfe0ca908\", \"primary_metric\": 0.79560649, \"best_metric\": 0.80802292}, {\"run_id\": \"AutoML_5c00b952-0740-462c-9963-4285b64fb24a_10\", \"run_number\": 108, \"metric\": null, \"status\": \"Completed\", \"run_type\": \"azureml.scriptrun\", \"training_percent\": \"100\", \"start_time\": \"2021-02-06T20:55:03.93585Z\", \"end_time\": \"2021-02-06T20:55:56.221267Z\", \"created_time\": \"2021-02-06T20:54:48.228481Z\", \"created_time_dt\": \"2021-02-06T20:54:48.228481Z\", \"duration\": \"0:01:07\", \"iteration\": \"10\", \"goal\": \"accuracy_max\", \"run_name\": \"SparseNormalizer, LightGBM\", \"run_properties\": \"<azureml.automl.runtime.shared.model_wrappers.SparseNormalizer object at 0x7fb65de481d0\", \"primary_metric\": 0.80324737, \"best_metric\": 0.80802292}, {\"run_id\": \"AutoML_5c00b952-0740-462c-9963-4285b64fb24a_11\", \"run_number\": 109, \"metric\": null, \"status\": \"Completed\", \"run_type\": \"azureml.scriptrun\", \"training_percent\": \"100\", \"start_time\": \"2021-02-06T20:55:04.822855Z\", \"end_time\": \"2021-02-06T20:55:52.451627Z\", \"created_time\": \"2021-02-06T20:54:48.404438Z\", \"created_time_dt\": \"2021-02-06T20:54:48.404438Z\", \"duration\": \"0:01:04\", \"iteration\": \"11\", \"goal\": \"accuracy_max\", \"run_name\": \"SparseNormalizer, XGBoostClassifier\", \"run_properties\": \"<azureml.automl.runtime.shared.model_wrappers.SparseNormalizer object at 0x7fc16cd1a9e8\", \"primary_metric\": 0.80229226, \"best_metric\": 0.80802292}, {\"run_id\": \"AutoML_5c00b952-0740-462c-9963-4285b64fb24a_13\", \"run_number\": 110, \"metric\": null, \"status\": \"Completed\", \"run_type\": \"azureml.scriptrun\", \"training_percent\": \"100\", \"start_time\": \"2021-02-06T20:55:06.340689Z\", \"end_time\": \"2021-02-06T20:55:55.529906Z\", \"created_time\": \"2021-02-06T20:54:52.613129Z\", \"created_time_dt\": \"2021-02-06T20:54:52.613129Z\", \"duration\": \"0:01:02\", \"iteration\": \"13\", \"goal\": \"accuracy_max\", \"run_name\": \"MaxAbsScaler, LightGBM\", \"run_properties\": \"copy=True\", \"primary_metric\": 0.80802292, \"best_metric\": 0.80802292}, {\"run_id\": \"AutoML_5c00b952-0740-462c-9963-4285b64fb24a_12\", \"run_number\": 111, \"metric\": null, \"status\": \"Completed\", \"run_type\": \"azureml.scriptrun\", \"training_percent\": \"100\", \"start_time\": \"2021-02-06T20:55:06.243144Z\", \"end_time\": \"2021-02-06T20:55:58.257419Z\", \"created_time\": \"2021-02-06T20:54:52.615186Z\", \"created_time_dt\": \"2021-02-06T20:54:52.615186Z\", \"duration\": \"0:01:05\", \"iteration\": \"12\", \"goal\": \"accuracy_max\", \"run_name\": \"StandardScalerWrapper, RandomForest\", \"run_properties\": \"<azureml.automl.runtime.shared.model_wrappers.StandardScalerWrapper object at 0x7f8912c40e10\", \"primary_metric\": 0.80133715, \"best_metric\": 0.80802292}, {\"run_id\": \"AutoML_5c00b952-0740-462c-9963-4285b64fb24a_14\", \"run_number\": 112, \"metric\": null, \"status\": \"Completed\", \"run_type\": \"azureml.scriptrun\", \"training_percent\": \"100\", \"start_time\": \"2021-02-06T20:55:08.676905Z\", \"end_time\": \"2021-02-06T20:55:59.152994Z\", \"created_time\": \"2021-02-06T20:54:58.419257Z\", \"created_time_dt\": \"2021-02-06T20:54:58.419257Z\", \"duration\": \"0:01:00\", \"iteration\": \"14\", \"goal\": \"accuracy_max\", \"run_name\": \"MaxAbsScaler, LightGBM\", \"run_properties\": \"copy=True\", \"primary_metric\": 0.78892073, \"best_metric\": 0.80802292}, {\"run_id\": \"AutoML_5c00b952-0740-462c-9963-4285b64fb24a_15\", \"run_number\": 113, \"metric\": null, \"status\": \"Completed\", \"run_type\": \"azureml.scriptrun\", \"training_percent\": \"100\", \"start_time\": \"2021-02-06T20:56:12.617514Z\", \"end_time\": \"2021-02-06T20:57:02.794937Z\", \"created_time\": \"2021-02-06T20:55:54.878015Z\", \"created_time_dt\": \"2021-02-06T20:55:54.878015Z\", \"duration\": \"0:01:07\", \"iteration\": \"15\", \"goal\": \"accuracy_max\", \"run_name\": \"StandardScalerWrapper, XGBoostClassifier\", \"run_properties\": \"<azureml.automl.runtime.shared.model_wrappers.StandardScalerWrapper object at 0x7f436bbcd400\", \"primary_metric\": 0.78892073, \"best_metric\": 0.80802292}, {\"run_id\": \"AutoML_5c00b952-0740-462c-9963-4285b64fb24a_16\", \"run_number\": 114, \"metric\": null, \"status\": \"Completed\", \"run_type\": \"azureml.scriptrun\", \"training_percent\": \"100\", \"start_time\": \"2021-02-06T20:56:12.635142Z\", \"end_time\": \"2021-02-06T20:57:03.680538Z\", \"created_time\": \"2021-02-06T20:56:00.663592Z\", \"created_time_dt\": \"2021-02-06T20:56:00.663592Z\", \"duration\": \"0:01:03\", \"iteration\": \"16\", \"goal\": \"accuracy_max\", \"run_name\": \"StandardScalerWrapper, LightGBM\", \"run_properties\": \"<azureml.automl.runtime.shared.model_wrappers.StandardScalerWrapper object at 0x7f43bc1d2b38\", \"primary_metric\": 0.8061127, \"best_metric\": 0.80802292}, {\"run_id\": \"AutoML_5c00b952-0740-462c-9963-4285b64fb24a_17\", \"run_number\": 115, \"metric\": null, \"status\": \"Completed\", \"run_type\": \"azureml.scriptrun\", \"training_percent\": \"100\", \"start_time\": \"2021-02-06T20:56:15.233895Z\", \"end_time\": \"2021-02-06T20:57:01.605362Z\", \"created_time\": \"2021-02-06T20:56:00.802656Z\", \"created_time_dt\": \"2021-02-06T20:56:00.802656Z\", \"duration\": \"0:01:00\", \"iteration\": \"17\", \"goal\": \"accuracy_max\", \"run_name\": \"SparseNormalizer, XGBoostClassifier\", \"run_properties\": \"<azureml.automl.runtime.shared.model_wrappers.SparseNormalizer object at 0x7f4364f6df98\", \"primary_metric\": 0.80420248, \"best_metric\": 0.80802292}, {\"run_id\": \"AutoML_5c00b952-0740-462c-9963-4285b64fb24a_18\", \"run_number\": 116, \"metric\": null, \"status\": \"Completed\", \"run_type\": \"azureml.scriptrun\", \"training_percent\": \"100\", \"start_time\": \"2021-02-06T20:56:13.577447Z\", \"end_time\": \"2021-02-06T20:57:02.766432Z\", \"created_time\": \"2021-02-06T20:56:00.82996Z\", \"created_time_dt\": \"2021-02-06T20:56:00.82996Z\", \"duration\": \"0:01:01\", \"iteration\": \"18\", \"goal\": \"accuracy_max\", \"run_name\": \"StandardScalerWrapper, LightGBM\", \"run_properties\": \"<azureml.automl.runtime.shared.model_wrappers.StandardScalerWrapper object at 0x7fdbd6640cf8\", \"primary_metric\": 0.78987584, \"best_metric\": 0.80802292}, {\"run_id\": \"AutoML_5c00b952-0740-462c-9963-4285b64fb24a_19\", \"run_number\": 117, \"metric\": null, \"status\": \"Completed\", \"run_type\": \"azureml.scriptrun\", \"training_percent\": \"100\", \"start_time\": \"2021-02-06T20:56:18.888053Z\", \"end_time\": \"2021-02-06T20:57:10.915925Z\", \"created_time\": \"2021-02-06T20:56:06.118569Z\", \"created_time_dt\": \"2021-02-06T20:56:06.118569Z\", \"duration\": \"0:01:04\", \"iteration\": \"19\", \"goal\": \"accuracy_max\", \"run_name\": \"RobustScaler, LightGBM\", \"run_properties\": \"copy=True, quantile_range=[10, 90], with_centering=False,\\n             with_scaling=False\", \"primary_metric\": 0.79560649, \"best_metric\": 0.80802292}, {\"run_id\": \"AutoML_5c00b952-0740-462c-9963-4285b64fb24a_20\", \"run_number\": 118, \"metric\": null, \"status\": \"Completed\", \"run_type\": \"azureml.scriptrun\", \"training_percent\": \"100\", \"start_time\": \"2021-02-06T20:57:14.710227Z\", \"end_time\": \"2021-02-06T20:58:05.594139Z\", \"created_time\": \"2021-02-06T20:57:04.201061Z\", \"created_time_dt\": \"2021-02-06T20:57:04.201061Z\", \"duration\": \"0:01:01\", \"iteration\": \"20\", \"goal\": \"accuracy_max\", \"run_name\": \"MaxAbsScaler, RandomForest\", \"run_properties\": \"copy=True\", \"primary_metric\": 0.80133715, \"best_metric\": 0.80802292}, {\"run_id\": \"AutoML_5c00b952-0740-462c-9963-4285b64fb24a_21\", \"run_number\": 119, \"metric\": null, \"status\": \"Completed\", \"run_type\": \"azureml.scriptrun\", \"training_percent\": \"100\", \"start_time\": \"2021-02-06T20:57:18.668692Z\", \"end_time\": \"2021-02-06T20:58:06.905176Z\", \"created_time\": \"2021-02-06T20:57:08.208993Z\", \"created_time_dt\": \"2021-02-06T20:57:08.208993Z\", \"duration\": \"0:00:58\", \"iteration\": \"21\", \"goal\": \"accuracy_max\", \"run_name\": \"SparseNormalizer, XGBoostClassifier\", \"run_properties\": \"<azureml.automl.runtime.shared.model_wrappers.SparseNormalizer object at 0x7f17980b5dd8\", \"primary_metric\": 0.79465138, \"best_metric\": 0.80802292}, {\"run_id\": \"AutoML_5c00b952-0740-462c-9963-4285b64fb24a_22\", \"run_number\": 120, \"metric\": null, \"status\": \"Completed\", \"run_type\": \"azureml.scriptrun\", \"training_percent\": \"100\", \"start_time\": \"2021-02-06T20:57:20.456008Z\", \"end_time\": \"2021-02-06T20:58:06.253359Z\", \"created_time\": \"2021-02-06T20:57:08.329445Z\", \"created_time_dt\": \"2021-02-06T20:57:08.329445Z\", \"duration\": \"0:00:57\", \"iteration\": \"22\", \"goal\": \"accuracy_max\", \"run_name\": \"MinMaxScaler, LightGBM\", \"run_properties\": \"copy=True, feature_range=(0, 1\", \"primary_metric\": 0.80993314, \"best_metric\": 0.80993314}, {\"run_id\": \"AutoML_5c00b952-0740-462c-9963-4285b64fb24a_23\", \"run_number\": 121, \"metric\": null, \"status\": \"Completed\", \"run_type\": \"azureml.scriptrun\", \"training_percent\": \"100\", \"start_time\": \"2021-02-06T20:57:19.309944Z\", \"end_time\": \"2021-02-06T20:58:04.448559Z\", \"created_time\": \"2021-02-06T20:57:08.342816Z\", \"created_time_dt\": \"2021-02-06T20:57:08.342816Z\", \"duration\": \"0:00:56\", \"iteration\": \"23\", \"goal\": \"accuracy_max\", \"run_name\": \"StandardScalerWrapper, LightGBM\", \"run_properties\": \"<azureml.automl.runtime.shared.model_wrappers.StandardScalerWrapper object at 0x7fefe5b35940\", \"primary_metric\": 0.79369628, \"best_metric\": 0.80993314}, {\"run_id\": \"AutoML_5c00b952-0740-462c-9963-4285b64fb24a_24\", \"run_number\": 122, \"metric\": null, \"status\": \"Completed\", \"run_type\": \"azureml.scriptrun\", \"training_percent\": \"100\", \"start_time\": \"2021-02-06T20:57:25.604871Z\", \"end_time\": \"2021-02-06T20:58:17.527088Z\", \"created_time\": \"2021-02-06T20:57:13.00316Z\", \"created_time_dt\": \"2021-02-06T20:57:13.00316Z\", \"duration\": \"0:01:04\", \"iteration\": \"24\", \"goal\": \"accuracy_max\", \"run_name\": \"MaxAbsScaler, RandomForest\", \"run_properties\": \"copy=True\", \"primary_metric\": 0.81184336, \"best_metric\": 0.81184336}, {\"run_id\": \"AutoML_5c00b952-0740-462c-9963-4285b64fb24a_25\", \"run_number\": 123, \"metric\": null, \"status\": \"Completed\", \"run_type\": \"azureml.scriptrun\", \"training_percent\": \"100\", \"start_time\": \"2021-02-06T20:58:21.837472Z\", \"end_time\": \"2021-02-06T20:59:10.91796Z\", \"created_time\": \"2021-02-06T20:58:07.848711Z\", \"created_time_dt\": \"2021-02-06T20:58:07.848711Z\", \"duration\": \"0:01:03\", \"iteration\": \"25\", \"goal\": \"accuracy_max\", \"run_name\": \"SparseNormalizer, XGBoostClassifier\", \"run_properties\": \"<azureml.automl.runtime.shared.model_wrappers.SparseNormalizer object at 0x7fa9e98b2e10\", \"primary_metric\": 0.61795606, \"best_metric\": 0.81184336}, {\"run_id\": \"AutoML_5c00b952-0740-462c-9963-4285b64fb24a_26\", \"run_number\": 124, \"metric\": null, \"status\": \"Completed\", \"run_type\": \"azureml.scriptrun\", \"training_percent\": \"100\", \"start_time\": \"2021-02-06T20:58:25.707736Z\", \"end_time\": \"2021-02-06T20:59:14.882311Z\", \"created_time\": \"2021-02-06T20:58:13.277252Z\", \"created_time_dt\": \"2021-02-06T20:58:13.277252Z\", \"duration\": \"0:01:01\", \"iteration\": \"26\", \"goal\": \"accuracy_max\", \"run_name\": \"SparseNormalizer, ExtremeRandomTrees\", \"run_properties\": \"<azureml.automl.runtime.shared.model_wrappers.SparseNormalizer object at 0x7f9aa38646a0\", \"primary_metric\": 0.76981853, \"best_metric\": 0.81184336}, {\"run_id\": \"AutoML_5c00b952-0740-462c-9963-4285b64fb24a_28\", \"run_number\": 125, \"metric\": null, \"status\": \"Completed\", \"run_type\": \"azureml.scriptrun\", \"training_percent\": \"100\", \"start_time\": \"2021-02-06T20:58:24.289447Z\", \"end_time\": \"2021-02-06T20:59:07.565238Z\", \"created_time\": \"2021-02-06T20:58:13.400176Z\", \"created_time_dt\": \"2021-02-06T20:58:13.400176Z\", \"duration\": \"0:00:54\", \"iteration\": \"28\", \"goal\": \"accuracy_max\", \"run_name\": \"SparseNormalizer, RandomForest\", \"run_properties\": \"<azureml.automl.runtime.shared.model_wrappers.SparseNormalizer object at 0x7fa5f0370160\", \"primary_metric\": 0.7765043, \"best_metric\": 0.81184336}, {\"run_id\": \"AutoML_5c00b952-0740-462c-9963-4285b64fb24a_27\", \"run_number\": 126, \"metric\": null, \"status\": \"Completed\", \"run_type\": \"azureml.scriptrun\", \"training_percent\": \"100\", \"start_time\": \"2021-02-06T20:58:26.741181Z\", \"end_time\": \"2021-02-06T20:59:13.190666Z\", \"created_time\": \"2021-02-06T20:58:13.473195Z\", \"created_time_dt\": \"2021-02-06T20:58:13.473195Z\", \"duration\": \"0:00:59\", \"iteration\": \"27\", \"goal\": \"accuracy_max\", \"run_name\": \"MaxAbsScaler, ExtremeRandomTrees\", \"run_properties\": \"copy=True\", \"primary_metric\": 0.76408787, \"best_metric\": 0.81184336}, {\"run_id\": \"AutoML_5c00b952-0740-462c-9963-4285b64fb24a_29\", \"run_number\": 127, \"metric\": null, \"status\": \"Completed\", \"run_type\": \"azureml.scriptrun\", \"training_percent\": \"100\", \"start_time\": \"2021-02-06T20:58:32.086743Z\", \"end_time\": \"2021-02-06T20:59:18.152344Z\", \"created_time\": \"2021-02-06T20:58:19.583396Z\", \"created_time_dt\": \"2021-02-06T20:58:19.583396Z\", \"duration\": \"0:00:58\", \"iteration\": \"29\", \"goal\": \"accuracy_max\", \"run_name\": \"SparseNormalizer, RandomForest\", \"run_properties\": \"<azureml.automl.runtime.shared.model_wrappers.SparseNormalizer object at 0x7f172f162e48\", \"primary_metric\": 0.78987584, \"best_metric\": 0.81184336}, {\"run_id\": \"AutoML_5c00b952-0740-462c-9963-4285b64fb24a_30\", \"run_number\": 128, \"metric\": null, \"status\": \"Completed\", \"run_type\": \"azureml.scriptrun\", \"training_percent\": \"100\", \"start_time\": \"2021-02-06T20:59:30.321154Z\", \"end_time\": \"2021-02-06T21:00:22.31051Z\", \"created_time\": \"2021-02-06T20:59:10.74691Z\", \"created_time_dt\": \"2021-02-06T20:59:10.74691Z\", \"duration\": \"0:01:11\", \"iteration\": \"30\", \"goal\": \"accuracy_max\", \"run_name\": \"StandardScalerWrapper, RandomForest\", \"run_properties\": \"<azureml.automl.runtime.shared.model_wrappers.StandardScalerWrapper object at 0x7fb1e80d4828\", \"primary_metric\": 0.61795606, \"best_metric\": 0.81184336}, {\"run_id\": \"AutoML_5c00b952-0740-462c-9963-4285b64fb24a_31\", \"run_number\": 129, \"metric\": null, \"status\": \"Completed\", \"run_type\": \"azureml.scriptrun\", \"training_percent\": \"100\", \"start_time\": \"2021-02-06T20:59:27.916933Z\", \"end_time\": \"2021-02-06T21:00:23.367209Z\", \"created_time\": \"2021-02-06T20:59:15.006392Z\", \"created_time_dt\": \"2021-02-06T20:59:15.006392Z\", \"duration\": \"0:01:08\", \"iteration\": \"31\", \"goal\": \"accuracy_max\", \"run_name\": \"MinMaxScaler, LightGBM\", \"run_properties\": \"copy=True, feature_range=(0, 1\", \"primary_metric\": 0.78414518, \"best_metric\": 0.81184336}, {\"run_id\": \"AutoML_5c00b952-0740-462c-9963-4285b64fb24a_32\", \"run_number\": 130, \"metric\": null, \"status\": \"Completed\", \"run_type\": \"azureml.scriptrun\", \"training_percent\": \"100\", \"start_time\": \"2021-02-06T20:59:31.371733Z\", \"end_time\": \"2021-02-06T21:00:14.178483Z\", \"created_time\": \"2021-02-06T20:59:19.19988Z\", \"created_time_dt\": \"2021-02-06T20:59:19.19988Z\", \"duration\": \"0:00:54\", \"iteration\": \"32\", \"goal\": \"accuracy_max\", \"run_name\": \"SparseNormalizer, XGBoostClassifier\", \"run_properties\": \"<azureml.automl.runtime.shared.model_wrappers.SparseNormalizer object at 0x7f023172ef60\", \"primary_metric\": 0.80420248, \"best_metric\": 0.81184336}, {\"run_id\": \"AutoML_5c00b952-0740-462c-9963-4285b64fb24a_33\", \"run_number\": 131, \"metric\": null, \"status\": \"Completed\", \"run_type\": \"azureml.scriptrun\", \"training_percent\": \"100\", \"start_time\": \"2021-02-06T20:59:32.194194Z\", \"end_time\": \"2021-02-06T21:00:18.866794Z\", \"created_time\": \"2021-02-06T20:59:19.324899Z\", \"created_time_dt\": \"2021-02-06T20:59:19.324899Z\", \"duration\": \"0:00:59\", \"iteration\": \"33\", \"goal\": \"accuracy_max\", \"run_name\": \"StandardScalerWrapper, KNN\", \"run_properties\": \"<azureml.automl.runtime.shared.model_wrappers.StandardScalerWrapper object at 0x7f1235d327f0\", \"primary_metric\": 0.78796562, \"best_metric\": 0.81184336}, {\"run_id\": \"AutoML_5c00b952-0740-462c-9963-4285b64fb24a_34\", \"run_number\": 132, \"metric\": null, \"status\": \"Completed\", \"run_type\": \"azureml.scriptrun\", \"training_percent\": \"100\", \"start_time\": \"2021-02-06T20:59:36.453254Z\", \"end_time\": \"2021-02-06T21:00:33.599519Z\", \"created_time\": \"2021-02-06T20:59:23.596654Z\", \"created_time_dt\": \"2021-02-06T20:59:23.596654Z\", \"duration\": \"0:01:10\", \"iteration\": \"34\", \"goal\": \"accuracy_max\", \"run_name\": \"StandardScalerWrapper, LightGBM\", \"run_properties\": \"<azureml.automl.runtime.shared.model_wrappers.StandardScalerWrapper object at 0x7fa5284e6978\", \"primary_metric\": 0.79083095, \"best_metric\": 0.81184336}, {\"run_id\": \"AutoML_5c00b952-0740-462c-9963-4285b64fb24a_35\", \"run_number\": 133, \"metric\": null, \"status\": \"Completed\", \"run_type\": \"azureml.scriptrun\", \"training_percent\": \"100\", \"start_time\": \"2021-02-06T21:00:36.592772Z\", \"end_time\": \"2021-02-06T21:01:32.174792Z\", \"created_time\": \"2021-02-06T21:00:17.699917Z\", \"created_time_dt\": \"2021-02-06T21:00:17.699917Z\", \"duration\": \"0:01:14\", \"iteration\": \"35\", \"goal\": \"accuracy_max\", \"run_name\": \"StandardScalerWrapper, RandomForest\", \"run_properties\": \"<azureml.automl.runtime.shared.model_wrappers.StandardScalerWrapper object at 0x7f1acf8f4b70\", \"primary_metric\": 0.78414518, \"best_metric\": 0.81184336}, {\"run_id\": \"AutoML_5c00b952-0740-462c-9963-4285b64fb24a_36\", \"run_number\": 134, \"metric\": null, \"status\": \"Completed\", \"run_type\": \"azureml.scriptrun\", \"training_percent\": \"100\", \"start_time\": \"2021-02-06T21:00:35.917319Z\", \"end_time\": \"2021-02-06T21:01:31.555892Z\", \"created_time\": \"2021-02-06T21:00:22.216927Z\", \"created_time_dt\": \"2021-02-06T21:00:22.216927Z\", \"duration\": \"0:01:09\", \"iteration\": \"36\", \"goal\": \"accuracy_max\", \"run_name\": \"StandardScalerWrapper, XGBoostClassifier\", \"run_properties\": \"<azureml.automl.runtime.shared.model_wrappers.StandardScalerWrapper object at 0x7fde20f87b70\", \"primary_metric\": 0.8156638, \"best_metric\": 0.8156638}, {\"run_id\": \"AutoML_5c00b952-0740-462c-9963-4285b64fb24a_37\", \"run_number\": 135, \"metric\": null, \"status\": \"Completed\", \"run_type\": \"azureml.scriptrun\", \"training_percent\": \"100\", \"start_time\": \"2021-02-06T21:00:37.943529Z\", \"end_time\": \"2021-02-06T21:01:26.581247Z\", \"created_time\": \"2021-02-06T21:00:26.449271Z\", \"created_time_dt\": \"2021-02-06T21:00:26.449271Z\", \"duration\": \"0:01:00\", \"iteration\": \"37\", \"goal\": \"accuracy_max\", \"run_name\": \"StandardScalerWrapper, XGBoostClassifier\", \"run_properties\": \"<azureml.automl.runtime.shared.model_wrappers.StandardScalerWrapper object at 0x7fbad938c240\", \"primary_metric\": 0.80897803, \"best_metric\": 0.8156638}, {\"run_id\": \"AutoML_5c00b952-0740-462c-9963-4285b64fb24a_38\", \"run_number\": 136, \"metric\": null, \"status\": \"Completed\", \"run_type\": \"azureml.scriptrun\", \"training_percent\": \"100\", \"start_time\": \"2021-02-06T21:00:37.490951Z\", \"end_time\": \"2021-02-06T21:01:25.829448Z\", \"created_time\": \"2021-02-06T21:00:26.518389Z\", \"created_time_dt\": \"2021-02-06T21:00:26.518389Z\", \"duration\": \"0:00:59\", \"iteration\": \"38\", \"goal\": \"accuracy_max\", \"run_name\": \"RobustScaler, RandomForest\", \"run_properties\": \"copy=True, quantile_range=[10, 90], with_centering=True,\\n             with_scaling=True\", \"primary_metric\": 0.7965616, \"best_metric\": 0.8156638}, {\"run_id\": \"AutoML_5c00b952-0740-462c-9963-4285b64fb24a_39\", \"run_number\": 137, \"metric\": null, \"status\": \"Completed\", \"run_type\": \"azureml.scriptrun\", \"training_percent\": \"100\", \"start_time\": \"2021-02-06T21:00:58.254294Z\", \"end_time\": \"2021-02-06T21:02:19.446504Z\", \"created_time\": \"2021-02-06T21:00:45.990722Z\", \"created_time_dt\": \"2021-02-06T21:00:45.990722Z\", \"duration\": \"0:01:33\", \"iteration\": \"39\", \"goal\": \"accuracy_max\", \"run_name\": \"StandardScalerWrapper, LightGBM\", \"run_properties\": \"<azureml.automl.runtime.shared.model_wrappers.StandardScalerWrapper object at 0x7effe4956588\", \"primary_metric\": 0.80038204, \"best_metric\": 0.8156638}, {\"run_id\": \"AutoML_5c00b952-0740-462c-9963-4285b64fb24a_40\", \"run_number\": 138, \"metric\": null, \"status\": \"Completed\", \"run_type\": \"azureml.scriptrun\", \"training_percent\": \"100\", \"start_time\": \"2021-02-06T21:01:41.512445Z\", \"end_time\": \"2021-02-06T21:02:33.78221Z\", \"created_time\": \"2021-02-06T21:01:29.121994Z\", \"created_time_dt\": \"2021-02-06T21:01:29.121994Z\", \"duration\": \"0:01:04\", \"iteration\": \"40\", \"goal\": \"accuracy_max\", \"run_name\": \"StandardScalerWrapper, RandomForest\", \"run_properties\": \"<azureml.automl.runtime.shared.model_wrappers.StandardScalerWrapper object at 0x7f96838c8fd0\", \"primary_metric\": 0.78032474, \"best_metric\": 0.8156638}, {\"run_id\": \"AutoML_5c00b952-0740-462c-9963-4285b64fb24a_41\", \"run_number\": 139, \"metric\": null, \"status\": \"Completed\", \"run_type\": \"azureml.scriptrun\", \"training_percent\": \"100\", \"start_time\": \"2021-02-06T21:01:46.237366Z\", \"end_time\": \"2021-02-06T21:02:38.00106Z\", \"created_time\": \"2021-02-06T21:01:33.870343Z\", \"created_time_dt\": \"2021-02-06T21:01:33.870343Z\", \"duration\": \"0:01:04\", \"iteration\": \"41\", \"goal\": \"accuracy_max\", \"run_name\": \"SparseNormalizer, XGBoostClassifier\", \"run_properties\": \"<azureml.automl.runtime.shared.model_wrappers.SparseNormalizer object at 0x7ff21372aef0\", \"primary_metric\": 0.80038204, \"best_metric\": 0.8156638}, {\"run_id\": \"AutoML_5c00b952-0740-462c-9963-4285b64fb24a_42\", \"run_number\": 140, \"metric\": null, \"status\": \"Completed\", \"run_type\": \"azureml.scriptrun\", \"training_percent\": \"100\", \"start_time\": \"2021-02-06T21:01:46.912868Z\", \"end_time\": \"2021-02-06T21:02:35.879385Z\", \"created_time\": \"2021-02-06T21:01:34.020104Z\", \"created_time_dt\": \"2021-02-06T21:01:34.020104Z\", \"duration\": \"0:01:01\", \"iteration\": \"42\", \"goal\": \"accuracy_max\", \"run_name\": \"MaxAbsScaler, LightGBM\", \"run_properties\": \"copy=True\", \"primary_metric\": 0.79751671, \"best_metric\": 0.8156638}, {\"run_id\": \"AutoML_5c00b952-0740-462c-9963-4285b64fb24a_43\", \"run_number\": 141, \"metric\": null, \"status\": \"Completed\", \"run_type\": \"azureml.scriptrun\", \"training_percent\": \"100\", \"start_time\": \"2021-02-06T21:01:49.585834Z\", \"end_time\": \"2021-02-06T21:02:40.664351Z\", \"created_time\": \"2021-02-06T21:01:38.734273Z\", \"created_time_dt\": \"2021-02-06T21:01:38.734273Z\", \"duration\": \"0:01:01\", \"iteration\": \"43\", \"goal\": \"accuracy_max\", \"run_name\": \"StandardScalerWrapper, XGBoostClassifier\", \"run_properties\": \"<azureml.automl.runtime.shared.model_wrappers.StandardScalerWrapper object at 0x7f271e364da0\", \"primary_metric\": 0.80993314, \"best_metric\": 0.8156638}, {\"run_id\": \"AutoML_5c00b952-0740-462c-9963-4285b64fb24a_44\", \"run_number\": 142, \"metric\": null, \"status\": \"Completed\", \"run_type\": \"azureml.scriptrun\", \"training_percent\": \"100\", \"start_time\": \"2021-02-06T21:02:38.219485Z\", \"end_time\": \"2021-02-06T21:03:32.278897Z\", \"created_time\": \"2021-02-06T21:02:22.072906Z\", \"created_time_dt\": \"2021-02-06T21:02:22.072906Z\", \"duration\": \"0:01:10\", \"iteration\": \"44\", \"goal\": \"accuracy_max\", \"run_name\": \"SparseNormalizer, XGBoostClassifier\", \"run_properties\": \"<azureml.automl.runtime.shared.model_wrappers.SparseNormalizer object at 0x7fa8503a9ac8\", \"primary_metric\": 0.7965616, \"best_metric\": 0.8156638}, {\"run_id\": \"AutoML_5c00b952-0740-462c-9963-4285b64fb24a_45\", \"run_number\": 143, \"metric\": null, \"status\": \"Completed\", \"run_type\": \"azureml.scriptrun\", \"training_percent\": \"100\", \"start_time\": \"2021-02-06T21:02:49.180118Z\", \"end_time\": \"2021-02-06T21:04:27.118172Z\", \"created_time\": \"2021-02-06T21:02:37.015466Z\", \"created_time_dt\": \"2021-02-06T21:02:37.015466Z\", \"duration\": \"0:01:50\", \"iteration\": \"45\", \"goal\": \"accuracy_max\", \"run_name\": \"SparseNormalizer, XGBoostClassifier\", \"run_properties\": \"<azureml.automl.runtime.shared.model_wrappers.SparseNormalizer object at 0x7f7c5c0d7be0\", \"primary_metric\": 0.78796562, \"best_metric\": 0.8156638}, {\"run_id\": \"AutoML_5c00b952-0740-462c-9963-4285b64fb24a_46\", \"run_number\": 144, \"metric\": null, \"status\": \"Completed\", \"run_type\": \"azureml.scriptrun\", \"training_percent\": \"100\", \"start_time\": \"2021-02-06T21:02:56.981372Z\", \"end_time\": \"2021-02-06T21:03:46.524814Z\", \"created_time\": \"2021-02-06T21:02:42.227211Z\", \"created_time_dt\": \"2021-02-06T21:02:42.227211Z\", \"duration\": \"0:01:04\", \"iteration\": \"46\", \"goal\": \"accuracy_max\", \"run_name\": \"MinMaxScaler, LogisticRegression\", \"run_properties\": \"copy=True, feature_range=(0, 1\", \"primary_metric\": 0.79942693, \"best_metric\": 0.8156638}, {\"run_id\": \"AutoML_5c00b952-0740-462c-9963-4285b64fb24a_47\", \"run_number\": 145, \"metric\": null, \"status\": \"Completed\", \"run_type\": \"azureml.scriptrun\", \"training_percent\": \"100\", \"start_time\": \"2021-02-06T21:02:55.411325Z\", \"end_time\": \"2021-02-06T21:04:21.71309Z\", \"created_time\": \"2021-02-06T21:02:42.354523Z\", \"created_time_dt\": \"2021-02-06T21:02:42.354523Z\", \"duration\": \"0:01:39\", \"iteration\": \"47\", \"goal\": \"accuracy_max\", \"run_name\": \"SparseNormalizer, XGBoostClassifier\", \"run_properties\": \"<azureml.automl.runtime.shared.model_wrappers.SparseNormalizer object at 0x7fa5f743e588\", \"primary_metric\": 0.79751671, \"best_metric\": 0.8156638}, {\"run_id\": \"AutoML_5c00b952-0740-462c-9963-4285b64fb24a_48\", \"run_number\": 146, \"metric\": null, \"status\": \"Completed\", \"run_type\": \"azureml.scriptrun\", \"training_percent\": \"100\", \"start_time\": \"2021-02-06T21:03:02.863026Z\", \"end_time\": \"2021-02-06T21:04:28.182927Z\", \"created_time\": \"2021-02-06T21:02:47.663255Z\", \"created_time_dt\": \"2021-02-06T21:02:47.663255Z\", \"duration\": \"0:01:40\", \"iteration\": \"48\", \"goal\": \"accuracy_max\", \"run_name\": \"MaxAbsScaler, LightGBM\", \"run_properties\": \"copy=True\", \"primary_metric\": 0.80515759, \"best_metric\": 0.8156638}, {\"run_id\": \"AutoML_5c00b952-0740-462c-9963-4285b64fb24a_49\", \"run_number\": 147, \"metric\": null, \"status\": \"Completed\", \"run_type\": \"azureml.scriptrun\", \"training_percent\": \"100\", \"start_time\": \"2021-02-06T21:03:50.774321Z\", \"end_time\": \"2021-02-06T21:04:44.353678Z\", \"created_time\": \"2021-02-06T21:03:35.184709Z\", \"created_time_dt\": \"2021-02-06T21:03:35.184709Z\", \"duration\": \"0:01:09\", \"iteration\": \"49\", \"goal\": \"accuracy_max\", \"run_name\": \"MaxAbsScaler, ExtremeRandomTrees\", \"run_properties\": \"copy=True\", \"primary_metric\": 0.79942693, \"best_metric\": 0.8156638}, {\"run_id\": \"AutoML_5c00b952-0740-462c-9963-4285b64fb24a_50\", \"run_number\": 148, \"metric\": null, \"status\": \"Completed\", \"run_type\": \"azureml.scriptrun\", \"training_percent\": \"100\", \"start_time\": \"2021-02-06T21:04:00.618654Z\", \"end_time\": \"2021-02-06T21:04:49.410996Z\", \"created_time\": \"2021-02-06T21:03:49.648807Z\", \"created_time_dt\": \"2021-02-06T21:03:49.648807Z\", \"duration\": \"0:00:59\", \"iteration\": \"50\", \"goal\": \"accuracy_max\", \"run_name\": \"StandardScalerWrapper, XGBoostClassifier\", \"run_properties\": \"<azureml.automl.runtime.shared.model_wrappers.StandardScalerWrapper object at 0x7f2f09e7e898\", \"primary_metric\": 0.78223496, \"best_metric\": 0.8156638}, {\"run_id\": \"AutoML_5c00b952-0740-462c-9963-4285b64fb24a_51\", \"run_number\": 149, \"metric\": null, \"status\": \"Completed\", \"run_type\": \"azureml.scriptrun\", \"training_percent\": \"100\", \"start_time\": \"2021-02-06T21:04:41.323677Z\", \"end_time\": \"2021-02-06T21:05:30.070493Z\", \"created_time\": \"2021-02-06T21:04:24.457826Z\", \"created_time_dt\": \"2021-02-06T21:04:24.457826Z\", \"duration\": \"0:01:05\", \"iteration\": \"51\", \"goal\": \"accuracy_max\", \"run_name\": \"StandardScalerWrapper, RandomForest\", \"run_properties\": \"<azureml.automl.runtime.shared.model_wrappers.StandardScalerWrapper object at 0x7f90f4113b70\", \"primary_metric\": 0.77936963, \"best_metric\": 0.8156638}, {\"run_id\": \"AutoML_5c00b952-0740-462c-9963-4285b64fb24a_52\", \"run_number\": 150, \"metric\": null, \"status\": \"Canceled\", \"run_type\": \"azureml.scriptrun\", \"training_percent\": \"100\", \"start_time\": \"2021-02-06T21:04:43.012378Z\", \"end_time\": \"2021-02-06T21:05:33.61828Z\", \"created_time\": \"2021-02-06T21:04:29.897345Z\", \"created_time_dt\": \"2021-02-06T21:04:29.897345Z\", \"duration\": \"0:01:03\", \"iteration\": \"52\", \"goal\": \"accuracy_max\", \"run_name\": \"StandardScalerWrapper, XGBoostClassifier\", \"run_properties\": \"<azureml.automl.runtime.shared.model_wrappers.StandardScalerWrapper object at 0x7fb429f3bd30\", \"primary_metric\": 0.8061127, \"best_metric\": 0.8156638}, {\"run_id\": \"AutoML_5c00b952-0740-462c-9963-4285b64fb24a_53\", \"run_number\": 151, \"metric\": null, \"status\": \"Canceled\", \"run_type\": \"azureml.scriptrun\", \"training_percent\": \"100\", \"start_time\": \"2021-02-06T21:04:49.572072Z\", \"end_time\": \"2021-02-06T21:05:38.397387Z\", \"created_time\": \"2021-02-06T21:04:35.561149Z\", \"created_time_dt\": \"2021-02-06T21:04:35.561149Z\", \"duration\": \"0:01:02\", \"iteration\": \"53\", \"goal\": \"accuracy_max\", \"run_name\": \"StandardScalerWrapper, XGBoostClassifier\", \"run_properties\": \"<azureml.automl.runtime.shared.model_wrappers.StandardScalerWrapper object at 0x7fe10b87f358\", \"primary_metric\": 0.7965616, \"best_metric\": 0.8156638}, {\"run_id\": \"AutoML_5c00b952-0740-462c-9963-4285b64fb24a_54\", \"run_number\": 152, \"metric\": null, \"status\": \"Canceled\", \"run_type\": \"azureml.scriptrun\", \"training_percent\": \"100\", \"start_time\": \"2021-02-06T21:04:59.715784Z\", \"end_time\": \"2021-02-06T21:05:37.544109Z\", \"created_time\": \"2021-02-06T21:04:46.692777Z\", \"created_time_dt\": \"2021-02-06T21:04:46.692777Z\", \"duration\": \"0:00:50\", \"iteration\": \"54\", \"goal\": \"accuracy_max\", \"run_name\": \"StandardScalerWrapper, XGBoostClassifier\", \"run_properties\": \"<azureml.automl.runtime.shared.model_wrappers.StandardScalerWrapper object at 0x7fcb5118ac18\", \"primary_metric\": 0.80420248, \"best_metric\": 0.8156638}, {\"run_id\": \"AutoML_5c00b952-0740-462c-9963-4285b64fb24a_55\", \"run_number\": 153, \"metric\": null, \"status\": \"Canceled\", \"run_type\": \"azureml.scriptrun\", \"training_percent\": \"100\", \"start_time\": \"2021-02-06T21:05:05.711881Z\", \"end_time\": \"2021-02-06T21:05:37.733893Z\", \"created_time\": \"2021-02-06T21:04:53.625176Z\", \"created_time_dt\": \"2021-02-06T21:04:53.625176Z\", \"duration\": \"0:00:44\", \"iteration\": \"55\", \"goal\": \"accuracy_max\", \"run_name\": \"StandardScalerWrapper, XGBoostClassifier\", \"run_properties\": \"<azureml.automl.runtime.shared.model_wrappers.StandardScalerWrapper object at 0x7f246ebdebe0\", \"primary_metric\": 0.80897803, \"best_metric\": 0.8156638}, {\"run_id\": \"AutoML_5c00b952-0740-462c-9963-4285b64fb24a_56\", \"run_number\": 154, \"metric\": null, \"status\": \"Completed\", \"run_type\": \"azureml.scriptrun\", \"training_percent\": \"100\", \"start_time\": \"2021-02-06T21:05:54.711843Z\", \"end_time\": \"2021-02-06T21:07:21.315327Z\", \"created_time\": \"2021-02-06T21:05:40.280568Z\", \"created_time_dt\": \"2021-02-06T21:05:40.280568Z\", \"duration\": \"0:01:41\", \"iteration\": \"56\", \"goal\": \"accuracy_max\", \"run_name\": \"VotingEnsemble\", \"run_properties\": \"classification_labels=None,\\n                              estimators=[('36',\\n                                           Pipeline(memory=None,\\n                                                    steps=[('standardscalerwrapper',\\n                                                            <azureml.automl.runtime.shared.model_wrappers.StandardScalerWrapper object at 0x7f04dd1527b8>\", \"primary_metric\": 0.82712512, \"best_metric\": 0.82712512}, {\"run_id\": \"AutoML_5c00b952-0740-462c-9963-4285b64fb24a_57\", \"run_number\": 155, \"metric\": null, \"status\": \"Completed\", \"run_type\": \"azureml.scriptrun\", \"training_percent\": \"100\", \"start_time\": \"2021-02-06T21:05:53.166021Z\", \"end_time\": \"2021-02-06T21:07:14.801854Z\", \"created_time\": \"2021-02-06T21:05:40.409606Z\", \"created_time_dt\": \"2021-02-06T21:05:40.409606Z\", \"duration\": \"0:01:34\", \"iteration\": \"57\", \"goal\": \"accuracy_max\", \"run_name\": \"StackEnsemble\", \"run_properties\": \"base_learners=[('36',\\n                                        Pipeline(memory=None,\\n                                                 steps=[('standardscalerwrapper',\\n                                                         <azureml.automl.runtime.shared.model_wrappers.StandardScalerWrapper object at 0x7f444c590860>\", \"primary_metric\": 0.8156638, \"best_metric\": 0.82712512}], \"children_metrics\": {\"categories\": [0], \"series\": {\"recall_score_macro\": [{\"categories\": [\"0\", \"1\", \"2\", \"3\", \"4\", \"5\", \"6\", \"7\", \"8\", \"9\", \"10\", \"11\", \"12\", \"13\", \"14\", \"15\", \"16\", \"17\", \"18\", \"19\", \"20\", \"21\", \"22\", \"23\", \"24\", \"25\", \"26\", \"27\", \"28\", \"29\", \"30\", \"31\", \"32\", \"33\", \"34\", \"35\", \"36\", \"37\", \"38\", \"39\", \"40\", \"41\", \"42\", \"43\", \"44\", \"45\", \"46\", \"47\", \"48\", \"49\", \"50\", \"51\", \"52\", \"53\", \"54\", \"55\", \"56\", \"57\"], \"mode\": \"markers\", \"name\": \"recall_score_macro\", \"stepped\": false, \"type\": \"scatter\", \"data\": [0.7663876731554501, 0.7802620657427856, 0.7770893414315747, 0.7641493058280696, 0.7850590506827988, 0.764309578305635, 0.767933531249998, 0.7600857508564793, 0.7619934402171857, 0.7771027344554297, 0.7771139944148029, 0.7796088014986134, 0.7790970362522214, 0.7774585060992328, 0.739490611130841, 0.7604252104846285, 0.77967960988078, 0.7842221407610195, 0.7748069452218888, 0.7756163748004793, 0.7785878636809441, 0.7728961047619799, 0.786845365351695, 0.7751938002179849, 0.7843888277232723, 0.5, 0.7662051007977357, 0.7595155299394406, 0.7691591608791905, 0.7789286490527646, 0.5, 0.732146248967819, 0.7808501700242422, 0.7712285527544661, 0.7682590652560886, 0.7631471029625683, 0.7907029600217426, 0.7817145260560953, 0.7701054275172406, 0.7736221514306734, 0.7632871600008994, 0.7741270264577897, 0.7635634848969017, 0.7887518267306568, 0.7735379142128697, 0.767376653531653, 0.786409988648729, 0.7728941866942928, 0.7775430591081687, 0.7640469460837719, 0.7653672256820839, 0.7739954409203623, 0.7839241820021687, 0.7758140269748223, 0.7865471441786219, 0.7790798265092519, 0.8050488427598026, 0.792621041398507]}, {\"categories\": [\"0\", \"1\", \"2\", \"3\", \"4\", \"5\", \"6\", \"7\", \"8\", \"9\", \"10\", \"11\", \"12\", \"13\", \"14\", \"15\", \"16\", \"17\", \"18\", \"19\", \"20\", \"21\", \"22\", \"23\", \"24\", \"25\", \"26\", \"27\", \"28\", \"29\", \"30\", \"31\", \"32\", \"33\", \"34\", \"35\", \"36\", \"37\", \"38\", \"39\", \"40\", \"41\", \"42\", \"43\", \"44\", \"45\", \"46\", \"47\", \"48\", \"49\", \"50\", \"51\", \"52\", \"53\", \"54\", \"55\", \"56\", \"57\"], \"mode\": \"lines\", \"name\": \"recall_score_macro_max\", \"stepped\": true, \"type\": \"scatter\", \"data\": [0.7663876731554501, 0.7802620657427856, 0.7802620657427856, 0.7802620657427856, 0.7850590506827988, 0.7850590506827988, 0.7850590506827988, 0.7850590506827988, 0.7850590506827988, 0.7850590506827988, 0.7850590506827988, 0.7850590506827988, 0.7850590506827988, 0.7850590506827988, 0.7850590506827988, 0.7850590506827988, 0.7850590506827988, 0.7850590506827988, 0.7850590506827988, 0.7850590506827988, 0.7850590506827988, 0.7850590506827988, 0.786845365351695, 0.786845365351695, 0.786845365351695, 0.786845365351695, 0.786845365351695, 0.786845365351695, 0.786845365351695, 0.786845365351695, 0.786845365351695, 0.786845365351695, 0.786845365351695, 0.786845365351695, 0.786845365351695, 0.786845365351695, 0.7907029600217426, 0.7907029600217426, 0.7907029600217426, 0.7907029600217426, 0.7907029600217426, 0.7907029600217426, 0.7907029600217426, 0.7907029600217426, 0.7907029600217426, 0.7907029600217426, 0.7907029600217426, 0.7907029600217426, 0.7907029600217426, 0.7907029600217426, 0.7907029600217426, 0.7907029600217426, 0.7907029600217426, 0.7907029600217426, 0.7907029600217426, 0.7907029600217426, 0.8050488427598026, 0.8050488427598026]}], \"AUC_weighted\": [{\"categories\": [\"0\", \"1\", \"2\", \"3\", \"4\", \"5\", \"6\", \"7\", \"8\", \"9\", \"10\", \"11\", \"12\", \"13\", \"14\", \"15\", \"16\", \"17\", \"18\", \"19\", \"20\", \"21\", \"22\", \"23\", \"24\", \"25\", \"26\", \"27\", \"28\", \"29\", \"30\", \"31\", \"32\", \"33\", \"34\", \"35\", \"36\", \"37\", \"38\", \"39\", \"40\", \"41\", \"42\", \"43\", \"44\", \"45\", \"46\", \"47\", \"48\", \"49\", \"50\", \"51\", \"52\", \"53\", \"54\", \"55\", \"56\", \"57\"], \"mode\": \"markers\", \"name\": \"AUC_weighted\", \"stepped\": false, \"type\": \"scatter\", \"data\": [0.8536678514349533, 0.8678531479143805, 0.8499253033939841, 0.8388088798021416, 0.8541260194095783, 0.8503102317372608, 0.8159412163461929, 0.8365041651068185, 0.8422872289487172, 0.8536018507196556, 0.8473255177069969, 0.8526708270720933, 0.853020519253628, 0.8462481025229881, 0.8391855585106726, 0.8322673854061087, 0.8496358032024145, 0.8570316963081416, 0.8364945258577037, 0.8432030620073848, 0.8457996149511935, 0.8519996259668887, 0.8490754044291187, 0.8366029782887642, 0.8578825527152478, 0.5, 0.8435131914259436, 0.8442087149288368, 0.8434290617502832, 0.8475863350548262, 0.6364501005772942, 0.8333421824660793, 0.8606632789805008, 0.8193290238136165, 0.8494918236948065, 0.8345830944078175, 0.8659894197573438, 0.8567903763333695, 0.8627796037852394, 0.8462450093994267, 0.818959252201004, 0.8589968131050578, 0.8392102530216029, 0.8477348882964145, 0.8411358656423354, 0.8286391200687969, 0.8495082127566033, 0.8506744764833636, 0.8512599879095029, 0.8523281175047875, 0.8256483088780192, 0.8474959274396509, 0.8562465850633925, 0.8453492819527954, 0.8392378404939449, 0.8613491319453539, 0.86153922925779, 0.8608055099468871]}, {\"categories\": [\"0\", \"1\", \"2\", \"3\", \"4\", \"5\", \"6\", \"7\", \"8\", \"9\", \"10\", \"11\", \"12\", \"13\", \"14\", \"15\", \"16\", \"17\", \"18\", \"19\", \"20\", \"21\", \"22\", \"23\", \"24\", \"25\", \"26\", \"27\", \"28\", \"29\", \"30\", \"31\", \"32\", \"33\", \"34\", \"35\", \"36\", \"37\", \"38\", \"39\", \"40\", \"41\", \"42\", \"43\", \"44\", \"45\", \"46\", \"47\", \"48\", \"49\", \"50\", \"51\", \"52\", \"53\", \"54\", \"55\", \"56\", \"57\"], \"mode\": \"lines\", \"name\": \"AUC_weighted_max\", \"stepped\": true, \"type\": \"scatter\", \"data\": [0.8536678514349533, 0.8678531479143805, 0.8678531479143805, 0.8678531479143805, 0.8678531479143805, 0.8678531479143805, 0.8678531479143805, 0.8678531479143805, 0.8678531479143805, 0.8678531479143805, 0.8678531479143805, 0.8678531479143805, 0.8678531479143805, 0.8678531479143805, 0.8678531479143805, 0.8678531479143805, 0.8678531479143805, 0.8678531479143805, 0.8678531479143805, 0.8678531479143805, 0.8678531479143805, 0.8678531479143805, 0.8678531479143805, 0.8678531479143805, 0.8678531479143805, 0.8678531479143805, 0.8678531479143805, 0.8678531479143805, 0.8678531479143805, 0.8678531479143805, 0.8678531479143805, 0.8678531479143805, 0.8678531479143805, 0.8678531479143805, 0.8678531479143805, 0.8678531479143805, 0.8678531479143805, 0.8678531479143805, 0.8678531479143805, 0.8678531479143805, 0.8678531479143805, 0.8678531479143805, 0.8678531479143805, 0.8678531479143805, 0.8678531479143805, 0.8678531479143805, 0.8678531479143805, 0.8678531479143805, 0.8678531479143805, 0.8678531479143805, 0.8678531479143805, 0.8678531479143805, 0.8678531479143805, 0.8678531479143805, 0.8678531479143805, 0.8678531479143805, 0.8678531479143805, 0.8678531479143805]}], \"accuracy\": [{\"categories\": [\"0\", \"1\", \"2\", \"3\", \"4\", \"5\", \"6\", \"7\", \"8\", \"9\", \"10\", \"11\", \"12\", \"13\", \"14\", \"15\", \"16\", \"17\", \"18\", \"19\", \"20\", \"21\", \"22\", \"23\", \"24\", \"25\", \"26\", \"27\", \"28\", \"29\", \"30\", \"31\", \"32\", \"33\", \"34\", \"35\", \"36\", \"37\", \"38\", \"39\", \"40\", \"41\", \"42\", \"43\", \"44\", \"45\", \"46\", \"47\", \"48\", \"49\", \"50\", \"51\", \"52\", \"53\", \"54\", \"55\", \"56\", \"57\"], \"mode\": \"markers\", \"name\": \"accuracy\", \"stepped\": false, \"type\": \"scatter\", \"data\": [0.7879656160458453, 0.8080229226361032, 0.8042024832855779, 0.7822349570200573, 0.7956064947468958, 0.7822349570200573, 0.7975167144221585, 0.7860553963705826, 0.7851002865329514, 0.7956064947468958, 0.8032473734479465, 0.8022922636103152, 0.801337153772684, 0.8080229226361032, 0.7889207258834766, 0.7889207258834766, 0.8061127029608404, 0.8042024832855779, 0.7898758357211079, 0.7956064947468958, 0.801337153772684, 0.7946513849092645, 0.8099331423113657, 0.7936962750716332, 0.8118433619866284, 0.617956064947469, 0.76981852913085, 0.7640878701050621, 0.7765042979942693, 0.7898758357211081, 0.617956064947469, 0.7841451766953199, 0.8042024832855779, 0.7879656160458453, 0.7908309455587393, 0.7841451766953199, 0.8156638013371538, 0.8089780324737346, 0.7965616045845273, 0.8003820439350525, 0.7803247373447947, 0.8003820439350525, 0.7975167144221585, 0.8099331423113658, 0.7965616045845273, 0.7879656160458453, 0.7994269340974212, 0.7975167144221585, 0.8051575931232092, 0.7994269340974212, 0.7822349570200573, 0.7793696275071632, 0.8061127029608404, 0.7965616045845273, 0.8042024832855779, 0.8089780324737345, 0.8271251193887297, 0.8156638013371538]}, {\"categories\": [\"0\", \"1\", \"2\", \"3\", \"4\", \"5\", \"6\", \"7\", \"8\", \"9\", \"10\", \"11\", \"12\", \"13\", \"14\", \"15\", \"16\", \"17\", \"18\", \"19\", \"20\", \"21\", \"22\", \"23\", \"24\", \"25\", \"26\", \"27\", \"28\", \"29\", \"30\", \"31\", \"32\", \"33\", \"34\", \"35\", \"36\", \"37\", \"38\", \"39\", \"40\", \"41\", \"42\", \"43\", \"44\", \"45\", \"46\", \"47\", \"48\", \"49\", \"50\", \"51\", \"52\", \"53\", \"54\", \"55\", \"56\", \"57\"], \"mode\": \"lines\", \"name\": \"accuracy_max\", \"stepped\": true, \"type\": \"scatter\", \"data\": [0.7879656160458453, 0.8080229226361032, 0.8080229226361032, 0.8080229226361032, 0.8080229226361032, 0.8080229226361032, 0.8080229226361032, 0.8080229226361032, 0.8080229226361032, 0.8080229226361032, 0.8080229226361032, 0.8080229226361032, 0.8080229226361032, 0.8080229226361032, 0.8080229226361032, 0.8080229226361032, 0.8080229226361032, 0.8080229226361032, 0.8080229226361032, 0.8080229226361032, 0.8080229226361032, 0.8080229226361032, 0.8099331423113657, 0.8099331423113657, 0.8118433619866284, 0.8118433619866284, 0.8118433619866284, 0.8118433619866284, 0.8118433619866284, 0.8118433619866284, 0.8118433619866284, 0.8118433619866284, 0.8118433619866284, 0.8118433619866284, 0.8118433619866284, 0.8118433619866284, 0.8156638013371538, 0.8156638013371538, 0.8156638013371538, 0.8156638013371538, 0.8156638013371538, 0.8156638013371538, 0.8156638013371538, 0.8156638013371538, 0.8156638013371538, 0.8156638013371538, 0.8156638013371538, 0.8156638013371538, 0.8156638013371538, 0.8156638013371538, 0.8156638013371538, 0.8156638013371538, 0.8156638013371538, 0.8156638013371538, 0.8156638013371538, 0.8156638013371538, 0.8271251193887297, 0.8271251193887297]}], \"average_precision_score_macro\": [{\"categories\": [\"0\", \"1\", \"2\", \"3\", \"4\", \"5\", \"6\", \"7\", \"8\", \"9\", \"10\", \"11\", \"12\", \"13\", \"14\", \"15\", \"16\", \"17\", \"18\", \"19\", \"20\", \"21\", \"22\", \"23\", \"24\", \"25\", \"26\", \"27\", \"28\", \"29\", \"30\", \"31\", \"32\", \"33\", \"34\", \"35\", \"36\", \"37\", \"38\", \"39\", \"40\", \"41\", \"42\", \"43\", \"44\", \"45\", \"46\", \"47\", \"48\", \"49\", \"50\", \"51\", \"52\", \"53\", \"54\", \"55\", \"56\", \"57\"], \"mode\": \"markers\", \"name\": \"average_precision_score_macro\", \"stepped\": false, \"type\": \"scatter\", \"data\": [0.8498630991374253, 0.8626483091697338, 0.839413613556971, 0.8357237072243935, 0.8521282347067464, 0.8466360906788265, 0.8097323581610353, 0.8298997404961274, 0.8348950394308008, 0.851266430695734, 0.8429825464122075, 0.8475574083420919, 0.8470887389067098, 0.8426362092705982, 0.8316810115105376, 0.8078952155377165, 0.8456328602090575, 0.8550474348722226, 0.8276031462895896, 0.8418408450551738, 0.8400423632397668, 0.8426679478381592, 0.8396791170653607, 0.8354685477351352, 0.853315638482425, 0.5, 0.8356425420486507, 0.8379217220328176, 0.8411093465407796, 0.8374388647585654, 0.5828502166497991, 0.8213952491417821, 0.8562212324383807, 0.7826659822194557, 0.8424315666613097, 0.8325534073506035, 0.8598354080331821, 0.8518623533927681, 0.8591006275704823, 0.841147175382066, 0.7913478675278794, 0.8503832214082648, 0.8341432118581064, 0.829313548806288, 0.8231927905014732, 0.7986189842312647, 0.8455442763860231, 0.8355250210117778, 0.8467633898735469, 0.8433385697456185, 0.7960475218919018, 0.8372816055437339, 0.8542992208353805, 0.8258031260230346, 0.8140547677229538, 0.8576538113463575, 0.855517542482951, 0.8560059276810579]}, {\"categories\": [\"0\", \"1\", \"2\", \"3\", \"4\", \"5\", \"6\", \"7\", \"8\", \"9\", \"10\", \"11\", \"12\", \"13\", \"14\", \"15\", \"16\", \"17\", \"18\", \"19\", \"20\", \"21\", \"22\", \"23\", \"24\", \"25\", \"26\", \"27\", \"28\", \"29\", \"30\", \"31\", \"32\", \"33\", \"34\", \"35\", \"36\", \"37\", \"38\", \"39\", \"40\", \"41\", \"42\", \"43\", \"44\", \"45\", \"46\", \"47\", \"48\", \"49\", \"50\", \"51\", \"52\", \"53\", \"54\", \"55\", \"56\", \"57\"], \"mode\": \"lines\", \"name\": \"average_precision_score_macro_max\", \"stepped\": true, \"type\": \"scatter\", \"data\": [0.8498630991374253, 0.8626483091697338, 0.8626483091697338, 0.8626483091697338, 0.8626483091697338, 0.8626483091697338, 0.8626483091697338, 0.8626483091697338, 0.8626483091697338, 0.8626483091697338, 0.8626483091697338, 0.8626483091697338, 0.8626483091697338, 0.8626483091697338, 0.8626483091697338, 0.8626483091697338, 0.8626483091697338, 0.8626483091697338, 0.8626483091697338, 0.8626483091697338, 0.8626483091697338, 0.8626483091697338, 0.8626483091697338, 0.8626483091697338, 0.8626483091697338, 0.8626483091697338, 0.8626483091697338, 0.8626483091697338, 0.8626483091697338, 0.8626483091697338, 0.8626483091697338, 0.8626483091697338, 0.8626483091697338, 0.8626483091697338, 0.8626483091697338, 0.8626483091697338, 0.8626483091697338, 0.8626483091697338, 0.8626483091697338, 0.8626483091697338, 0.8626483091697338, 0.8626483091697338, 0.8626483091697338, 0.8626483091697338, 0.8626483091697338, 0.8626483091697338, 0.8626483091697338, 0.8626483091697338, 0.8626483091697338, 0.8626483091697338, 0.8626483091697338, 0.8626483091697338, 0.8626483091697338, 0.8626483091697338, 0.8626483091697338, 0.8626483091697338, 0.8626483091697338, 0.8626483091697338]}], \"log_loss\": [{\"categories\": [\"0\", \"1\", \"2\", \"3\", \"4\", \"5\", \"6\", \"7\", \"8\", \"9\", \"10\", \"11\", \"12\", \"13\", \"14\", \"15\", \"16\", \"17\", \"18\", \"19\", \"20\", \"21\", \"22\", \"23\", \"24\", \"25\", \"26\", \"27\", \"28\", \"29\", \"30\", \"31\", \"32\", \"33\", \"34\", \"35\", \"36\", \"37\", \"38\", \"39\", \"40\", \"41\", \"42\", \"43\", \"44\", \"45\", \"46\", \"47\", \"48\", \"49\", \"50\", \"51\", \"52\", \"53\", \"54\", \"55\", \"56\", \"57\"], \"mode\": \"markers\", \"name\": \"log_loss\", \"stepped\": false, \"type\": \"scatter\", \"data\": [0.4998363352915116, 0.4311231554949873, 0.4539475782028631, 0.47388849495845675, 0.45768012558582766, 0.6299922349499175, 0.48160487040452754, 0.4770386595004256, 0.4966055440968242, 0.4708990685992334, 0.45597199127189136, 0.4986946335538757, 0.4547881410745476, 0.4781955005296585, 0.514293483539782, 0.5081883518066995, 0.44920442372562414, 0.44477360032935714, 0.4760580616506657, 0.46130210414011746, 0.4604755139507321, 0.5052001514879095, 0.45712112308501673, 0.46758407789208317, 0.4449077278523417, 0.6652200018691167, 0.48539123038475296, 0.48341373617427025, 0.4825879076617103, 0.4786938866000547, 0.6593368429978863, 0.5204600146363089, 0.441672290998052, 1.6119867370937178, 0.4475924631390473, 0.481648162055408, 0.4333690168508013, 0.4865458125427189, 0.4396637613202859, 0.4482402002344527, 0.5150589658574996, 0.44219359763438365, 0.47365931062797956, 0.4950148445736697, 0.4987327432648032, 0.5121150029276187, 0.4583189000208287, 0.4974409369292327, 0.4564340265490656, 0.5671352508587153, 0.5170931559404609, 0.46520642422790254, 0.4571991747167093, 0.49885893045342655, 0.5016759877478453, 0.44074434652612365, 0.4494336789757733, 0.4424185141738997]}, {\"categories\": [\"0\", \"1\", \"2\", \"3\", \"4\", \"5\", \"6\", \"7\", \"8\", \"9\", \"10\", \"11\", \"12\", \"13\", \"14\", \"15\", \"16\", \"17\", \"18\", \"19\", \"20\", \"21\", \"22\", \"23\", \"24\", \"25\", \"26\", \"27\", \"28\", \"29\", \"30\", \"31\", \"32\", \"33\", \"34\", \"35\", \"36\", \"37\", \"38\", \"39\", \"40\", \"41\", \"42\", \"43\", \"44\", \"45\", \"46\", \"47\", \"48\", \"49\", \"50\", \"51\", \"52\", \"53\", \"54\", \"55\", \"56\", \"57\"], \"mode\": \"lines\", \"name\": \"log_loss_min\", \"stepped\": true, \"type\": \"scatter\", \"data\": [0.4998363352915116, 0.4311231554949873, 0.4311231554949873, 0.4311231554949873, 0.4311231554949873, 0.4311231554949873, 0.4311231554949873, 0.4311231554949873, 0.4311231554949873, 0.4311231554949873, 0.4311231554949873, 0.4311231554949873, 0.4311231554949873, 0.4311231554949873, 0.4311231554949873, 0.4311231554949873, 0.4311231554949873, 0.4311231554949873, 0.4311231554949873, 0.4311231554949873, 0.4311231554949873, 0.4311231554949873, 0.4311231554949873, 0.4311231554949873, 0.4311231554949873, 0.4311231554949873, 0.4311231554949873, 0.4311231554949873, 0.4311231554949873, 0.4311231554949873, 0.4311231554949873, 0.4311231554949873, 0.4311231554949873, 0.4311231554949873, 0.4311231554949873, 0.4311231554949873, 0.4311231554949873, 0.4311231554949873, 0.4311231554949873, 0.4311231554949873, 0.4311231554949873, 0.4311231554949873, 0.4311231554949873, 0.4311231554949873, 0.4311231554949873, 0.4311231554949873, 0.4311231554949873, 0.4311231554949873, 0.4311231554949873, 0.4311231554949873, 0.4311231554949873, 0.4311231554949873, 0.4311231554949873, 0.4311231554949873, 0.4311231554949873, 0.4311231554949873, 0.4311231554949873, 0.4311231554949873]}], \"balanced_accuracy\": [{\"categories\": [\"0\", \"1\", \"2\", \"3\", \"4\", \"5\", \"6\", \"7\", \"8\", \"9\", \"10\", \"11\", \"12\", \"13\", \"14\", \"15\", \"16\", \"17\", \"18\", \"19\", \"20\", \"21\", \"22\", \"23\", \"24\", \"25\", \"26\", \"27\", \"28\", \"29\", \"30\", \"31\", \"32\", \"33\", \"34\", \"35\", \"36\", \"37\", \"38\", \"39\", \"40\", \"41\", \"42\", \"43\", \"44\", \"45\", \"46\", \"47\", \"48\", \"49\", \"50\", \"51\", \"52\", \"53\", \"54\", \"55\", \"56\", \"57\"], \"mode\": \"markers\", \"name\": \"balanced_accuracy\", \"stepped\": false, \"type\": \"scatter\", \"data\": [0.7663876731554501, 0.7802620657427856, 0.7770893414315747, 0.7641493058280696, 0.7850590506827988, 0.764309578305635, 0.767933531249998, 0.7600857508564793, 0.7619934402171857, 0.7771027344554297, 0.7771139944148029, 0.7796088014986134, 0.7790970362522214, 0.7774585060992328, 0.739490611130841, 0.7604252104846285, 0.77967960988078, 0.7842221407610195, 0.7748069452218888, 0.7756163748004793, 0.7785878636809441, 0.7728961047619799, 0.786845365351695, 0.7751938002179849, 0.7843888277232723, 0.5, 0.7662051007977357, 0.7595155299394406, 0.7691591608791905, 0.7789286490527646, 0.5, 0.732146248967819, 0.7808501700242422, 0.7712285527544661, 0.7682590652560886, 0.7631471029625683, 0.7907029600217426, 0.7817145260560953, 0.7701054275172406, 0.7736221514306734, 0.7632871600008994, 0.7741270264577897, 0.7635634848969017, 0.7887518267306568, 0.7735379142128697, 0.767376653531653, 0.786409988648729, 0.7728941866942928, 0.7775430591081687, 0.7640469460837719, 0.7653672256820839, 0.7739954409203623, 0.7839241820021687, 0.7758140269748223, 0.7865471441786219, 0.7790798265092519, 0.8050488427598026, 0.792621041398507]}, {\"categories\": [\"0\", \"1\", \"2\", \"3\", \"4\", \"5\", \"6\", \"7\", \"8\", \"9\", \"10\", \"11\", \"12\", \"13\", \"14\", \"15\", \"16\", \"17\", \"18\", \"19\", \"20\", \"21\", \"22\", \"23\", \"24\", \"25\", \"26\", \"27\", \"28\", \"29\", \"30\", \"31\", \"32\", \"33\", \"34\", \"35\", \"36\", \"37\", \"38\", \"39\", \"40\", \"41\", \"42\", \"43\", \"44\", \"45\", \"46\", \"47\", \"48\", \"49\", \"50\", \"51\", \"52\", \"53\", \"54\", \"55\", \"56\", \"57\"], \"mode\": \"lines\", \"name\": \"balanced_accuracy_max\", \"stepped\": true, \"type\": \"scatter\", \"data\": [0.7663876731554501, 0.7802620657427856, 0.7802620657427856, 0.7802620657427856, 0.7850590506827988, 0.7850590506827988, 0.7850590506827988, 0.7850590506827988, 0.7850590506827988, 0.7850590506827988, 0.7850590506827988, 0.7850590506827988, 0.7850590506827988, 0.7850590506827988, 0.7850590506827988, 0.7850590506827988, 0.7850590506827988, 0.7850590506827988, 0.7850590506827988, 0.7850590506827988, 0.7850590506827988, 0.7850590506827988, 0.786845365351695, 0.786845365351695, 0.786845365351695, 0.786845365351695, 0.786845365351695, 0.786845365351695, 0.786845365351695, 0.786845365351695, 0.786845365351695, 0.786845365351695, 0.786845365351695, 0.786845365351695, 0.786845365351695, 0.786845365351695, 0.7907029600217426, 0.7907029600217426, 0.7907029600217426, 0.7907029600217426, 0.7907029600217426, 0.7907029600217426, 0.7907029600217426, 0.7907029600217426, 0.7907029600217426, 0.7907029600217426, 0.7907029600217426, 0.7907029600217426, 0.7907029600217426, 0.7907029600217426, 0.7907029600217426, 0.7907029600217426, 0.7907029600217426, 0.7907029600217426, 0.7907029600217426, 0.7907029600217426, 0.8050488427598026, 0.8050488427598026]}], \"recall_score_weighted\": [{\"categories\": [\"0\", \"1\", \"2\", \"3\", \"4\", \"5\", \"6\", \"7\", \"8\", \"9\", \"10\", \"11\", \"12\", \"13\", \"14\", \"15\", \"16\", \"17\", \"18\", \"19\", \"20\", \"21\", \"22\", \"23\", \"24\", \"25\", \"26\", \"27\", \"28\", \"29\", \"30\", \"31\", \"32\", \"33\", \"34\", \"35\", \"36\", \"37\", \"38\", \"39\", \"40\", \"41\", \"42\", \"43\", \"44\", \"45\", \"46\", \"47\", \"48\", \"49\", \"50\", \"51\", \"52\", \"53\", \"54\", \"55\", \"56\", \"57\"], \"mode\": \"markers\", \"name\": \"recall_score_weighted\", \"stepped\": false, \"type\": \"scatter\", \"data\": [0.7879656160458453, 0.8080229226361032, 0.8042024832855779, 0.7822349570200573, 0.7956064947468958, 0.7822349570200573, 0.7975167144221585, 0.7860553963705826, 0.7851002865329514, 0.7956064947468958, 0.8032473734479465, 0.8022922636103152, 0.801337153772684, 0.8080229226361032, 0.7889207258834766, 0.7889207258834766, 0.8061127029608404, 0.8042024832855779, 0.7898758357211079, 0.7956064947468958, 0.801337153772684, 0.7946513849092645, 0.8099331423113657, 0.7936962750716332, 0.8118433619866284, 0.617956064947469, 0.76981852913085, 0.7640878701050621, 0.7765042979942693, 0.7898758357211081, 0.617956064947469, 0.7841451766953199, 0.8042024832855779, 0.7879656160458453, 0.7908309455587393, 0.7841451766953199, 0.8156638013371538, 0.8089780324737346, 0.7965616045845273, 0.8003820439350525, 0.7803247373447947, 0.8003820439350525, 0.7975167144221585, 0.8099331423113658, 0.7965616045845273, 0.7879656160458453, 0.7994269340974212, 0.7975167144221585, 0.8051575931232092, 0.7994269340974212, 0.7822349570200573, 0.7793696275071632, 0.8061127029608404, 0.7965616045845273, 0.8042024832855779, 0.8089780324737345, 0.8271251193887297, 0.8156638013371538]}, {\"categories\": [\"0\", \"1\", \"2\", \"3\", \"4\", \"5\", \"6\", \"7\", \"8\", \"9\", \"10\", \"11\", \"12\", \"13\", \"14\", \"15\", \"16\", \"17\", \"18\", \"19\", \"20\", \"21\", \"22\", \"23\", \"24\", \"25\", \"26\", \"27\", \"28\", \"29\", \"30\", \"31\", \"32\", \"33\", \"34\", \"35\", \"36\", \"37\", \"38\", \"39\", \"40\", \"41\", \"42\", \"43\", \"44\", \"45\", \"46\", \"47\", \"48\", \"49\", \"50\", \"51\", \"52\", \"53\", \"54\", \"55\", \"56\", \"57\"], \"mode\": \"lines\", \"name\": \"recall_score_weighted_max\", \"stepped\": true, \"type\": \"scatter\", \"data\": [0.7879656160458453, 0.8080229226361032, 0.8080229226361032, 0.8080229226361032, 0.8080229226361032, 0.8080229226361032, 0.8080229226361032, 0.8080229226361032, 0.8080229226361032, 0.8080229226361032, 0.8080229226361032, 0.8080229226361032, 0.8080229226361032, 0.8080229226361032, 0.8080229226361032, 0.8080229226361032, 0.8080229226361032, 0.8080229226361032, 0.8080229226361032, 0.8080229226361032, 0.8080229226361032, 0.8080229226361032, 0.8099331423113657, 0.8099331423113657, 0.8118433619866284, 0.8118433619866284, 0.8118433619866284, 0.8118433619866284, 0.8118433619866284, 0.8118433619866284, 0.8118433619866284, 0.8118433619866284, 0.8118433619866284, 0.8118433619866284, 0.8118433619866284, 0.8118433619866284, 0.8156638013371538, 0.8156638013371538, 0.8156638013371538, 0.8156638013371538, 0.8156638013371538, 0.8156638013371538, 0.8156638013371538, 0.8156638013371538, 0.8156638013371538, 0.8156638013371538, 0.8156638013371538, 0.8156638013371538, 0.8156638013371538, 0.8156638013371538, 0.8156638013371538, 0.8156638013371538, 0.8156638013371538, 0.8156638013371538, 0.8156638013371538, 0.8156638013371538, 0.8271251193887297, 0.8271251193887297]}], \"precision_score_micro\": [{\"categories\": [\"0\", \"1\", \"2\", \"3\", \"4\", \"5\", \"6\", \"7\", \"8\", \"9\", \"10\", \"11\", \"12\", \"13\", \"14\", \"15\", \"16\", \"17\", \"18\", \"19\", \"20\", \"21\", \"22\", \"23\", \"24\", \"25\", \"26\", \"27\", \"28\", \"29\", \"30\", \"31\", \"32\", \"33\", \"34\", \"35\", \"36\", \"37\", \"38\", \"39\", \"40\", \"41\", \"42\", \"43\", \"44\", \"45\", \"46\", \"47\", \"48\", \"49\", \"50\", \"51\", \"52\", \"53\", \"54\", \"55\", \"56\", \"57\"], \"mode\": \"markers\", \"name\": \"precision_score_micro\", \"stepped\": false, \"type\": \"scatter\", \"data\": [0.7879656160458453, 0.8080229226361032, 0.8042024832855779, 0.7822349570200573, 0.7956064947468958, 0.7822349570200573, 0.7975167144221585, 0.7860553963705826, 0.7851002865329514, 0.7956064947468958, 0.8032473734479465, 0.8022922636103152, 0.801337153772684, 0.8080229226361032, 0.7889207258834766, 0.7889207258834766, 0.8061127029608404, 0.8042024832855779, 0.7898758357211079, 0.7956064947468958, 0.801337153772684, 0.7946513849092645, 0.8099331423113657, 0.7936962750716332, 0.8118433619866284, 0.617956064947469, 0.76981852913085, 0.7640878701050621, 0.7765042979942693, 0.7898758357211081, 0.617956064947469, 0.7841451766953199, 0.8042024832855779, 0.7879656160458453, 0.7908309455587393, 0.7841451766953199, 0.8156638013371538, 0.8089780324737346, 0.7965616045845273, 0.8003820439350525, 0.7803247373447947, 0.8003820439350525, 0.7975167144221585, 0.8099331423113658, 0.7965616045845273, 0.7879656160458453, 0.7994269340974212, 0.7975167144221585, 0.8051575931232092, 0.7994269340974212, 0.7822349570200573, 0.7793696275071632, 0.8061127029608404, 0.7965616045845273, 0.8042024832855779, 0.8089780324737345, 0.8271251193887297, 0.8156638013371538]}, {\"categories\": [\"0\", \"1\", \"2\", \"3\", \"4\", \"5\", \"6\", \"7\", \"8\", \"9\", \"10\", \"11\", \"12\", \"13\", \"14\", \"15\", \"16\", \"17\", \"18\", \"19\", \"20\", \"21\", \"22\", \"23\", \"24\", \"25\", \"26\", \"27\", \"28\", \"29\", \"30\", \"31\", \"32\", \"33\", \"34\", \"35\", \"36\", \"37\", \"38\", \"39\", \"40\", \"41\", \"42\", \"43\", \"44\", \"45\", \"46\", \"47\", \"48\", \"49\", \"50\", \"51\", \"52\", \"53\", \"54\", \"55\", \"56\", \"57\"], \"mode\": \"lines\", \"name\": \"precision_score_micro_max\", \"stepped\": true, \"type\": \"scatter\", \"data\": [0.7879656160458453, 0.8080229226361032, 0.8080229226361032, 0.8080229226361032, 0.8080229226361032, 0.8080229226361032, 0.8080229226361032, 0.8080229226361032, 0.8080229226361032, 0.8080229226361032, 0.8080229226361032, 0.8080229226361032, 0.8080229226361032, 0.8080229226361032, 0.8080229226361032, 0.8080229226361032, 0.8080229226361032, 0.8080229226361032, 0.8080229226361032, 0.8080229226361032, 0.8080229226361032, 0.8080229226361032, 0.8099331423113657, 0.8099331423113657, 0.8118433619866284, 0.8118433619866284, 0.8118433619866284, 0.8118433619866284, 0.8118433619866284, 0.8118433619866284, 0.8118433619866284, 0.8118433619866284, 0.8118433619866284, 0.8118433619866284, 0.8118433619866284, 0.8118433619866284, 0.8156638013371538, 0.8156638013371538, 0.8156638013371538, 0.8156638013371538, 0.8156638013371538, 0.8156638013371538, 0.8156638013371538, 0.8156638013371538, 0.8156638013371538, 0.8156638013371538, 0.8156638013371538, 0.8156638013371538, 0.8156638013371538, 0.8156638013371538, 0.8156638013371538, 0.8156638013371538, 0.8156638013371538, 0.8156638013371538, 0.8156638013371538, 0.8156638013371538, 0.8271251193887297, 0.8271251193887297]}], \"precision_score_macro\": [{\"categories\": [\"0\", \"1\", \"2\", \"3\", \"4\", \"5\", \"6\", \"7\", \"8\", \"9\", \"10\", \"11\", \"12\", \"13\", \"14\", \"15\", \"16\", \"17\", \"18\", \"19\", \"20\", \"21\", \"22\", \"23\", \"24\", \"25\", \"26\", \"27\", \"28\", \"29\", \"30\", \"31\", \"32\", \"33\", \"34\", \"35\", \"36\", \"37\", \"38\", \"39\", \"40\", \"41\", \"42\", \"43\", \"44\", \"45\", \"46\", \"47\", \"48\", \"49\", \"50\", \"51\", \"52\", \"53\", \"54\", \"55\", \"56\", \"57\"], \"mode\": \"markers\", \"name\": \"precision_score_macro\", \"stepped\": false, \"type\": \"scatter\", \"data\": [0.7778292651817117, 0.8073870581234374, 0.8004506556605392, 0.7757368620114143, 0.7838051627442129, 0.7706228594805721, 0.7963413611639547, 0.7780006751995665, 0.7769572520049085, 0.786021520976055, 0.7991022343138289, 0.7953795827690099, 0.7957927375340287, 0.8105791809433546, 0.8172564346318504, 0.7955423841991184, 0.8042259643744128, 0.7970674669349159, 0.7783491643304075, 0.7896986117564803, 0.7944194817358717, 0.7886353474919416, 0.804732290871938, 0.7884969507465837, 0.8120870745814148, 0.3089780324737345, 0.7584577014762881, 0.75157803022686, 0.7639823397874476, 0.7781720366526933, 0.3089780324737345, 0.8152891752612943, 0.7993050677668826, 0.776045218630531, 0.7842993785510236, 0.7821722401840979, 0.8145061602507028, 0.8066424296197185, 0.7934218695855079, 0.7989511066298398, 0.7688250918825167, 0.7975836680103642, 0.8025596002438743, 0.8080662964686759, 0.7906942414092967, 0.7772216074457119, 0.7880332386123862, 0.7925117673551666, 0.8044878496402292, 0.8055469286963127, 0.7712535430006561, 0.7684661124256064, 0.7990015220845103, 0.795392186308002, 0.7950957943113064, 0.8106189871290637, 0.823601675943169, 0.811939332408981]}, {\"categories\": [\"0\", \"1\", \"2\", \"3\", \"4\", \"5\", \"6\", \"7\", \"8\", \"9\", \"10\", \"11\", \"12\", \"13\", \"14\", \"15\", \"16\", \"17\", \"18\", \"19\", \"20\", \"21\", \"22\", \"23\", \"24\", \"25\", \"26\", \"27\", \"28\", \"29\", \"30\", \"31\", \"32\", \"33\", \"34\", \"35\", \"36\", \"37\", \"38\", \"39\", \"40\", \"41\", \"42\", \"43\", \"44\", \"45\", \"46\", \"47\", \"48\", \"49\", \"50\", \"51\", \"52\", \"53\", \"54\", \"55\", \"56\", \"57\"], \"mode\": \"lines\", \"name\": \"precision_score_macro_max\", \"stepped\": true, \"type\": \"scatter\", \"data\": [0.7778292651817117, 0.8073870581234374, 0.8073870581234374, 0.8073870581234374, 0.8073870581234374, 0.8073870581234374, 0.8073870581234374, 0.8073870581234374, 0.8073870581234374, 0.8073870581234374, 0.8073870581234374, 0.8073870581234374, 0.8073870581234374, 0.8105791809433546, 0.8172564346318504, 0.8172564346318504, 0.8172564346318504, 0.8172564346318504, 0.8172564346318504, 0.8172564346318504, 0.8172564346318504, 0.8172564346318504, 0.8172564346318504, 0.8172564346318504, 0.8172564346318504, 0.8172564346318504, 0.8172564346318504, 0.8172564346318504, 0.8172564346318504, 0.8172564346318504, 0.8172564346318504, 0.8172564346318504, 0.8172564346318504, 0.8172564346318504, 0.8172564346318504, 0.8172564346318504, 0.8172564346318504, 0.8172564346318504, 0.8172564346318504, 0.8172564346318504, 0.8172564346318504, 0.8172564346318504, 0.8172564346318504, 0.8172564346318504, 0.8172564346318504, 0.8172564346318504, 0.8172564346318504, 0.8172564346318504, 0.8172564346318504, 0.8172564346318504, 0.8172564346318504, 0.8172564346318504, 0.8172564346318504, 0.8172564346318504, 0.8172564346318504, 0.8172564346318504, 0.823601675943169, 0.823601675943169]}], \"recall_score_micro\": [{\"categories\": [\"0\", \"1\", \"2\", \"3\", \"4\", \"5\", \"6\", \"7\", \"8\", \"9\", \"10\", \"11\", \"12\", \"13\", \"14\", \"15\", \"16\", \"17\", \"18\", \"19\", \"20\", \"21\", \"22\", \"23\", \"24\", \"25\", \"26\", \"27\", \"28\", \"29\", \"30\", \"31\", \"32\", \"33\", \"34\", \"35\", \"36\", \"37\", \"38\", \"39\", \"40\", \"41\", \"42\", \"43\", \"44\", \"45\", \"46\", \"47\", \"48\", \"49\", \"50\", \"51\", \"52\", \"53\", \"54\", \"55\", \"56\", \"57\"], \"mode\": \"markers\", \"name\": \"recall_score_micro\", \"stepped\": false, \"type\": \"scatter\", \"data\": [0.7879656160458453, 0.8080229226361032, 0.8042024832855779, 0.7822349570200573, 0.7956064947468958, 0.7822349570200573, 0.7975167144221585, 0.7860553963705826, 0.7851002865329514, 0.7956064947468958, 0.8032473734479465, 0.8022922636103152, 0.801337153772684, 0.8080229226361032, 0.7889207258834766, 0.7889207258834766, 0.8061127029608404, 0.8042024832855779, 0.7898758357211079, 0.7956064947468958, 0.801337153772684, 0.7946513849092645, 0.8099331423113657, 0.7936962750716332, 0.8118433619866284, 0.617956064947469, 0.76981852913085, 0.7640878701050621, 0.7765042979942693, 0.7898758357211081, 0.617956064947469, 0.7841451766953199, 0.8042024832855779, 0.7879656160458453, 0.7908309455587393, 0.7841451766953199, 0.8156638013371538, 0.8089780324737346, 0.7965616045845273, 0.8003820439350525, 0.7803247373447947, 0.8003820439350525, 0.7975167144221585, 0.8099331423113658, 0.7965616045845273, 0.7879656160458453, 0.7994269340974212, 0.7975167144221585, 0.8051575931232092, 0.7994269340974212, 0.7822349570200573, 0.7793696275071632, 0.8061127029608404, 0.7965616045845273, 0.8042024832855779, 0.8089780324737345, 0.8271251193887297, 0.8156638013371538]}, {\"categories\": [\"0\", \"1\", \"2\", \"3\", \"4\", \"5\", \"6\", \"7\", \"8\", \"9\", \"10\", \"11\", \"12\", \"13\", \"14\", \"15\", \"16\", \"17\", \"18\", \"19\", \"20\", \"21\", \"22\", \"23\", \"24\", \"25\", \"26\", \"27\", \"28\", \"29\", \"30\", \"31\", \"32\", \"33\", \"34\", \"35\", \"36\", \"37\", \"38\", \"39\", \"40\", \"41\", \"42\", \"43\", \"44\", \"45\", \"46\", \"47\", \"48\", \"49\", \"50\", \"51\", \"52\", \"53\", \"54\", \"55\", \"56\", \"57\"], \"mode\": \"lines\", \"name\": \"recall_score_micro_max\", \"stepped\": true, \"type\": \"scatter\", \"data\": [0.7879656160458453, 0.8080229226361032, 0.8080229226361032, 0.8080229226361032, 0.8080229226361032, 0.8080229226361032, 0.8080229226361032, 0.8080229226361032, 0.8080229226361032, 0.8080229226361032, 0.8080229226361032, 0.8080229226361032, 0.8080229226361032, 0.8080229226361032, 0.8080229226361032, 0.8080229226361032, 0.8080229226361032, 0.8080229226361032, 0.8080229226361032, 0.8080229226361032, 0.8080229226361032, 0.8080229226361032, 0.8099331423113657, 0.8099331423113657, 0.8118433619866284, 0.8118433619866284, 0.8118433619866284, 0.8118433619866284, 0.8118433619866284, 0.8118433619866284, 0.8118433619866284, 0.8118433619866284, 0.8118433619866284, 0.8118433619866284, 0.8118433619866284, 0.8118433619866284, 0.8156638013371538, 0.8156638013371538, 0.8156638013371538, 0.8156638013371538, 0.8156638013371538, 0.8156638013371538, 0.8156638013371538, 0.8156638013371538, 0.8156638013371538, 0.8156638013371538, 0.8156638013371538, 0.8156638013371538, 0.8156638013371538, 0.8156638013371538, 0.8156638013371538, 0.8156638013371538, 0.8156638013371538, 0.8156638013371538, 0.8156638013371538, 0.8156638013371538, 0.8271251193887297, 0.8271251193887297]}], \"matthews_correlation\": [{\"categories\": [\"0\", \"1\", \"2\", \"3\", \"4\", \"5\", \"6\", \"7\", \"8\", \"9\", \"10\", \"11\", \"12\", \"13\", \"14\", \"15\", \"16\", \"17\", \"18\", \"19\", \"20\", \"21\", \"22\", \"23\", \"24\", \"25\", \"26\", \"27\", \"28\", \"29\", \"30\", \"31\", \"32\", \"33\", \"34\", \"35\", \"36\", \"37\", \"38\", \"39\", \"40\", \"41\", \"42\", \"43\", \"44\", \"45\", \"46\", \"47\", \"48\", \"49\", \"50\", \"51\", \"52\", \"53\", \"54\", \"55\", \"56\", \"57\"], \"mode\": \"markers\", \"name\": \"matthews_correlation\", \"stepped\": false, \"type\": \"scatter\", \"data\": [0.5440028669916473, 0.5869092880764009, 0.5767910312576002, 0.5395436427442777, 0.5688142057046589, 0.5348240286665046, 0.5634464707911264, 0.5377200579784969, 0.5386016069866116, 0.5629906218967939, 0.5757108935575345, 0.5746607245206002, 0.5745324543183475, 0.5869515550022386, 0.5508979300563356, 0.5538339639477738, 0.5832718642423251, 0.5810758071445254, 0.5531115153257075, 0.5649681147410807, 0.5727544393986942, 0.5611655175085322, 0.591216331283199, 0.5633206179473088, 0.5957318077817141, 0.0, 0.5245844141333827, 0.5110303697151106, 0.5330908687487012, 0.5570145855977617, 0.0, 0.5406683364088487, 0.5797455966003785, 0.5472293261093518, 0.5522152403905004, 0.5444431641908294, 0.6045897556360599, 0.5877438539105397, 0.5628956719883609, 0.5718510608660894, 0.532016782283515, 0.5710900219974154, 0.5644645166857499, 0.5962671755701744, 0.5637151645702025, 0.5444608769099349, 0.5744236636637049, 0.564823527825384, 0.5812847947664667, 0.5677837992741899, 0.5365142394626957, 0.5423819787104883, 0.5826111959195254, 0.5704944321596894, 0.5815557837286469, 0.588749396207061, 0.6283137527696975, 0.6041534374962811]}, {\"categories\": [\"0\", \"1\", \"2\", \"3\", \"4\", \"5\", \"6\", \"7\", \"8\", \"9\", \"10\", \"11\", \"12\", \"13\", \"14\", \"15\", \"16\", \"17\", \"18\", \"19\", \"20\", \"21\", \"22\", \"23\", \"24\", \"25\", \"26\", \"27\", \"28\", \"29\", \"30\", \"31\", \"32\", \"33\", \"34\", \"35\", \"36\", \"37\", \"38\", \"39\", \"40\", \"41\", \"42\", \"43\", \"44\", \"45\", \"46\", \"47\", \"48\", \"49\", \"50\", \"51\", \"52\", \"53\", \"54\", \"55\", \"56\", \"57\"], \"mode\": \"lines\", \"name\": \"matthews_correlation_max\", \"stepped\": true, \"type\": \"scatter\", \"data\": [0.5440028669916473, 0.5869092880764009, 0.5869092880764009, 0.5869092880764009, 0.5869092880764009, 0.5869092880764009, 0.5869092880764009, 0.5869092880764009, 0.5869092880764009, 0.5869092880764009, 0.5869092880764009, 0.5869092880764009, 0.5869092880764009, 0.5869515550022386, 0.5869515550022386, 0.5869515550022386, 0.5869515550022386, 0.5869515550022386, 0.5869515550022386, 0.5869515550022386, 0.5869515550022386, 0.5869515550022386, 0.591216331283199, 0.591216331283199, 0.5957318077817141, 0.5957318077817141, 0.5957318077817141, 0.5957318077817141, 0.5957318077817141, 0.5957318077817141, 0.5957318077817141, 0.5957318077817141, 0.5957318077817141, 0.5957318077817141, 0.5957318077817141, 0.5957318077817141, 0.6045897556360599, 0.6045897556360599, 0.6045897556360599, 0.6045897556360599, 0.6045897556360599, 0.6045897556360599, 0.6045897556360599, 0.6045897556360599, 0.6045897556360599, 0.6045897556360599, 0.6045897556360599, 0.6045897556360599, 0.6045897556360599, 0.6045897556360599, 0.6045897556360599, 0.6045897556360599, 0.6045897556360599, 0.6045897556360599, 0.6045897556360599, 0.6045897556360599, 0.6283137527696975, 0.6283137527696975]}], \"norm_macro_recall\": [{\"categories\": [\"0\", \"1\", \"2\", \"3\", \"4\", \"5\", \"6\", \"7\", \"8\", \"9\", \"10\", \"11\", \"12\", \"13\", \"14\", \"15\", \"16\", \"17\", \"18\", \"19\", \"20\", \"21\", \"22\", \"23\", \"24\", \"25\", \"26\", \"27\", \"28\", \"29\", \"30\", \"31\", \"32\", \"33\", \"34\", \"35\", \"36\", \"37\", \"38\", \"39\", \"40\", \"41\", \"42\", \"43\", \"44\", \"45\", \"46\", \"47\", \"48\", \"49\", \"50\", \"51\", \"52\", \"53\", \"54\", \"55\", \"56\", \"57\"], \"mode\": \"markers\", \"name\": \"norm_macro_recall\", \"stepped\": false, \"type\": \"scatter\", \"data\": [0.5327753463109004, 0.5605241314855711, 0.5541786828631494, 0.5282986116561392, 0.5701181013655976, 0.5286191566112698, 0.5358670624999958, 0.5201715017129588, 0.5239868804343714, 0.5542054689108596, 0.5542279888296057, 0.5592176029972269, 0.5581940725044428, 0.5549170121984657, 0.47898122226168205, 0.5208504209692569, 0.5593592197615599, 0.5684442815220391, 0.5496138904437775, 0.5512327496009585, 0.5571757273618883, 0.5457922095239598, 0.5736907307033899, 0.5503876004359697, 0.5687776554465445, 0.0, 0.5324102015954716, 0.519031059878881, 0.538318321758381, 0.5578572981055294, 0.0, 0.4642924979356378, 0.5617003400484842, 0.5424571055089323, 0.5365181305121771, 0.5262942059251366, 0.5814059200434851, 0.5634290521121904, 0.5402108550344814, 0.5472443028613467, 0.5265743200017986, 0.5482540529155793, 0.5271269697938034, 0.5775036534613137, 0.5470758284257393, 0.5347533070633058, 0.5728199772974581, 0.5457883733885855, 0.5550861182163376, 0.5280938921675438, 0.5307344513641679, 0.5479908818407245, 0.5678483640043374, 0.5516280539496446, 0.5730942883572437, 0.5581596530185037, 0.6100976855196051, 0.5852420827970141]}, {\"categories\": [\"0\", \"1\", \"2\", \"3\", \"4\", \"5\", \"6\", \"7\", \"8\", \"9\", \"10\", \"11\", \"12\", \"13\", \"14\", \"15\", \"16\", \"17\", \"18\", \"19\", \"20\", \"21\", \"22\", \"23\", \"24\", \"25\", \"26\", \"27\", \"28\", \"29\", \"30\", \"31\", \"32\", \"33\", \"34\", \"35\", \"36\", \"37\", \"38\", \"39\", \"40\", \"41\", \"42\", \"43\", \"44\", \"45\", \"46\", \"47\", \"48\", \"49\", \"50\", \"51\", \"52\", \"53\", \"54\", \"55\", \"56\", \"57\"], \"mode\": \"lines\", \"name\": \"norm_macro_recall_max\", \"stepped\": true, \"type\": \"scatter\", \"data\": [0.5327753463109004, 0.5605241314855711, 0.5605241314855711, 0.5605241314855711, 0.5701181013655976, 0.5701181013655976, 0.5701181013655976, 0.5701181013655976, 0.5701181013655976, 0.5701181013655976, 0.5701181013655976, 0.5701181013655976, 0.5701181013655976, 0.5701181013655976, 0.5701181013655976, 0.5701181013655976, 0.5701181013655976, 0.5701181013655976, 0.5701181013655976, 0.5701181013655976, 0.5701181013655976, 0.5701181013655976, 0.5736907307033899, 0.5736907307033899, 0.5736907307033899, 0.5736907307033899, 0.5736907307033899, 0.5736907307033899, 0.5736907307033899, 0.5736907307033899, 0.5736907307033899, 0.5736907307033899, 0.5736907307033899, 0.5736907307033899, 0.5736907307033899, 0.5736907307033899, 0.5814059200434851, 0.5814059200434851, 0.5814059200434851, 0.5814059200434851, 0.5814059200434851, 0.5814059200434851, 0.5814059200434851, 0.5814059200434851, 0.5814059200434851, 0.5814059200434851, 0.5814059200434851, 0.5814059200434851, 0.5814059200434851, 0.5814059200434851, 0.5814059200434851, 0.5814059200434851, 0.5814059200434851, 0.5814059200434851, 0.5814059200434851, 0.5814059200434851, 0.6100976855196051, 0.6100976855196051]}], \"average_precision_score_weighted\": [{\"categories\": [\"0\", \"1\", \"2\", \"3\", \"4\", \"5\", \"6\", \"7\", \"8\", \"9\", \"10\", \"11\", \"12\", \"13\", \"14\", \"15\", \"16\", \"17\", \"18\", \"19\", \"20\", \"21\", \"22\", \"23\", \"24\", \"25\", \"26\", \"27\", \"28\", \"29\", \"30\", \"31\", \"32\", \"33\", \"34\", \"35\", \"36\", \"37\", \"38\", \"39\", \"40\", \"41\", \"42\", \"43\", \"44\", \"45\", \"46\", \"47\", \"48\", \"49\", \"50\", \"51\", \"52\", \"53\", \"54\", \"55\", \"56\", \"57\"], \"mode\": \"markers\", \"name\": \"average_precision_score_weighted\", \"stepped\": false, \"type\": \"scatter\", \"data\": [0.8577584361582775, 0.869844220208552, 0.845184692608817, 0.8424689051067192, 0.8585406841805661, 0.8561302920416152, 0.8137269042859376, 0.8374052309946128, 0.8429268067126943, 0.8584330158383731, 0.8488603483442732, 0.8541832186195476, 0.8536765099101533, 0.8486663776756528, 0.8382503090823551, 0.8165373867328656, 0.8517418091783245, 0.8624594241139025, 0.8349075489354539, 0.8483050673943343, 0.8464434294210847, 0.8506947952890899, 0.8466484958990007, 0.842189914715866, 0.8595318128213275, 0.5279403836312236, 0.8418026037929112, 0.8459831962988268, 0.8491416943615876, 0.8440966432942778, 0.6096421171646547, 0.8275906588458191, 0.8632338597528282, 0.7977137221445307, 0.849100331965775, 0.8400359725468661, 0.8662921834293701, 0.8565727230784744, 0.8662496160116392, 0.8469961936486691, 0.8029010866496505, 0.8568928152079759, 0.8400142522819015, 0.8367785573073311, 0.8308933912544489, 0.8087960606416029, 0.8535351702890409, 0.8442710819609216, 0.8536339310956089, 0.8487380552101939, 0.8054850988568313, 0.8447472850336792, 0.8621053078961639, 0.8332354627558111, 0.8227045022005001, 0.8645095277899087, 0.8617717577516687, 0.8616146655310644]}, {\"categories\": [\"0\", \"1\", \"2\", \"3\", \"4\", \"5\", \"6\", \"7\", \"8\", \"9\", \"10\", \"11\", \"12\", \"13\", \"14\", \"15\", \"16\", \"17\", \"18\", \"19\", \"20\", \"21\", \"22\", \"23\", \"24\", \"25\", \"26\", \"27\", \"28\", \"29\", \"30\", \"31\", \"32\", \"33\", \"34\", \"35\", \"36\", \"37\", \"38\", \"39\", \"40\", \"41\", \"42\", \"43\", \"44\", \"45\", \"46\", \"47\", \"48\", \"49\", \"50\", \"51\", \"52\", \"53\", \"54\", \"55\", \"56\", \"57\"], \"mode\": \"lines\", \"name\": \"average_precision_score_weighted_max\", \"stepped\": true, \"type\": \"scatter\", \"data\": [0.8577584361582775, 0.869844220208552, 0.869844220208552, 0.869844220208552, 0.869844220208552, 0.869844220208552, 0.869844220208552, 0.869844220208552, 0.869844220208552, 0.869844220208552, 0.869844220208552, 0.869844220208552, 0.869844220208552, 0.869844220208552, 0.869844220208552, 0.869844220208552, 0.869844220208552, 0.869844220208552, 0.869844220208552, 0.869844220208552, 0.869844220208552, 0.869844220208552, 0.869844220208552, 0.869844220208552, 0.869844220208552, 0.869844220208552, 0.869844220208552, 0.869844220208552, 0.869844220208552, 0.869844220208552, 0.869844220208552, 0.869844220208552, 0.869844220208552, 0.869844220208552, 0.869844220208552, 0.869844220208552, 0.869844220208552, 0.869844220208552, 0.869844220208552, 0.869844220208552, 0.869844220208552, 0.869844220208552, 0.869844220208552, 0.869844220208552, 0.869844220208552, 0.869844220208552, 0.869844220208552, 0.869844220208552, 0.869844220208552, 0.869844220208552, 0.869844220208552, 0.869844220208552, 0.869844220208552, 0.869844220208552, 0.869844220208552, 0.869844220208552, 0.869844220208552, 0.869844220208552]}], \"weighted_accuracy\": [{\"categories\": [\"0\", \"1\", \"2\", \"3\", \"4\", \"5\", \"6\", \"7\", \"8\", \"9\", \"10\", \"11\", \"12\", \"13\", \"14\", \"15\", \"16\", \"17\", \"18\", \"19\", \"20\", \"21\", \"22\", \"23\", \"24\", \"25\", \"26\", \"27\", \"28\", \"29\", \"30\", \"31\", \"32\", \"33\", \"34\", \"35\", \"36\", \"37\", \"38\", \"39\", \"40\", \"41\", \"42\", \"43\", \"44\", \"45\", \"46\", \"47\", \"48\", \"49\", \"50\", \"51\", \"52\", \"53\", \"54\", \"55\", \"56\", \"57\"], \"mode\": \"markers\", \"name\": \"weighted_accuracy\", \"stepped\": false, \"type\": \"scatter\", \"data\": [0.8071732841121863, 0.8328467405870117, 0.8283647030938989, 0.7984947017556122, 0.8049849351656819, 0.7982081484490454, 0.8239655339925456, 0.8092011873904476, 0.8057326314829959, 0.8121166296486729, 0.8265817049556734, 0.8225338854174801, 0.8212266724453777, 0.8353600542853243, 0.833098280973498, 0.8145464792090554, 0.8297541299308689, 0.8220608950919615, 0.8033130058356646, 0.8135233603314497, 0.8216669065200836, 0.8141340556120698, 0.8305516902094282, 0.8103123289207361, 0.8364092701395739, 0.7233423881241151, 0.7730119603792565, 0.7681107885069035, 0.7830171098517469, 0.7995960579644277, 0.7233423881241151, 0.830596530247436, 0.8250671668565858, 0.8028616614133991, 0.8110271532396153, 0.8030581302293265, 0.8379858544302375, 0.8333093286289733, 0.8202347909182738, 0.8243232808321261, 0.7955284293439912, 0.8238676321287767, 0.8278611946385039, 0.828927882264598, 0.8171110922040784, 0.8063107525944931, 0.8110404404007362, 0.8194939137228903, 0.8298660045897321, 0.8310239995844166, 0.7972983837755289, 0.7841498344880985, 0.825874145262227, 0.8152159215129916, 0.8199760903574648, 0.8357067488459121, 0.8468388628070082, 0.8362678350212747]}, {\"categories\": [\"0\", \"1\", \"2\", \"3\", \"4\", \"5\", \"6\", \"7\", \"8\", \"9\", \"10\", \"11\", \"12\", \"13\", \"14\", \"15\", \"16\", \"17\", \"18\", \"19\", \"20\", \"21\", \"22\", \"23\", \"24\", \"25\", \"26\", \"27\", \"28\", \"29\", \"30\", \"31\", \"32\", \"33\", \"34\", \"35\", \"36\", \"37\", \"38\", \"39\", \"40\", \"41\", \"42\", \"43\", \"44\", \"45\", \"46\", \"47\", \"48\", \"49\", \"50\", \"51\", \"52\", \"53\", \"54\", \"55\", \"56\", \"57\"], \"mode\": \"lines\", \"name\": \"weighted_accuracy_max\", \"stepped\": true, \"type\": \"scatter\", \"data\": [0.8071732841121863, 0.8328467405870117, 0.8328467405870117, 0.8328467405870117, 0.8328467405870117, 0.8328467405870117, 0.8328467405870117, 0.8328467405870117, 0.8328467405870117, 0.8328467405870117, 0.8328467405870117, 0.8328467405870117, 0.8328467405870117, 0.8353600542853243, 0.8353600542853243, 0.8353600542853243, 0.8353600542853243, 0.8353600542853243, 0.8353600542853243, 0.8353600542853243, 0.8353600542853243, 0.8353600542853243, 0.8353600542853243, 0.8353600542853243, 0.8364092701395739, 0.8364092701395739, 0.8364092701395739, 0.8364092701395739, 0.8364092701395739, 0.8364092701395739, 0.8364092701395739, 0.8364092701395739, 0.8364092701395739, 0.8364092701395739, 0.8364092701395739, 0.8364092701395739, 0.8379858544302375, 0.8379858544302375, 0.8379858544302375, 0.8379858544302375, 0.8379858544302375, 0.8379858544302375, 0.8379858544302375, 0.8379858544302375, 0.8379858544302375, 0.8379858544302375, 0.8379858544302375, 0.8379858544302375, 0.8379858544302375, 0.8379858544302375, 0.8379858544302375, 0.8379858544302375, 0.8379858544302375, 0.8379858544302375, 0.8379858544302375, 0.8379858544302375, 0.8468388628070082, 0.8468388628070082]}], \"f1_score_macro\": [{\"categories\": [\"0\", \"1\", \"2\", \"3\", \"4\", \"5\", \"6\", \"7\", \"8\", \"9\", \"10\", \"11\", \"12\", \"13\", \"14\", \"15\", \"16\", \"17\", \"18\", \"19\", \"20\", \"21\", \"22\", \"23\", \"24\", \"25\", \"26\", \"27\", \"28\", \"29\", \"30\", \"31\", \"32\", \"33\", \"34\", \"35\", \"36\", \"37\", \"38\", \"39\", \"40\", \"41\", \"42\", \"43\", \"44\", \"45\", \"46\", \"47\", \"48\", \"49\", \"50\", \"51\", \"52\", \"53\", \"54\", \"55\", \"56\", \"57\"], \"mode\": \"markers\", \"name\": \"f1_score_macro\", \"stepped\": false, \"type\": \"scatter\", \"data\": [0.7703578865954945, 0.7886104338170347, 0.7838815552972548, 0.7667870792795823, 0.783778131158042, 0.7665380234199347, 0.7763448044978404, 0.7661476986207404, 0.7668354770566846, 0.7804284337598041, 0.7843108385481946, 0.7849595859684361, 0.7846355864847666, 0.7868778995931006, 0.7518023793375789, 0.7673781757847252, 0.7873856989981531, 0.7888513650175053, 0.7761297510172896, 0.7797406074794727, 0.7843327747366419, 0.7778078195505028, 0.7929790953506343, 0.7787157341521663, 0.7930274495182988, 0.3819228523840639, 0.7604290256167218, 0.7541277210838349, 0.7655736734685279, 0.7774777465928159, 0.3819228523840639, 0.7440021779725289, 0.7870158004018818, 0.7732060282750434, 0.7735032374492796, 0.7670143931174479, 0.7982176718120817, 0.7897638574037371, 0.7771812267001162, 0.7812586050380631, 0.765125180680915, 0.7813844157109128, 0.7733603339940508, 0.7943133826027706, 0.7785554622033551, 0.7710861105456089, 0.7869908364941938, 0.778757204905452, 0.7857814383221813, 0.7743591178232436, 0.7672333054931553, 0.769410972509847, 0.7891297446977088, 0.7804649508317131, 0.7899822012920502, 0.7884155895835052, 0.8116809601742648, 0.7991491502139532]}, {\"categories\": [\"0\", \"1\", \"2\", \"3\", \"4\", \"5\", \"6\", \"7\", \"8\", \"9\", \"10\", \"11\", \"12\", \"13\", \"14\", \"15\", \"16\", \"17\", \"18\", \"19\", \"20\", \"21\", \"22\", \"23\", \"24\", \"25\", \"26\", \"27\", \"28\", \"29\", \"30\", \"31\", \"32\", \"33\", \"34\", \"35\", \"36\", \"37\", \"38\", \"39\", \"40\", \"41\", \"42\", \"43\", \"44\", \"45\", \"46\", \"47\", \"48\", \"49\", \"50\", \"51\", \"52\", \"53\", \"54\", \"55\", \"56\", \"57\"], \"mode\": \"lines\", \"name\": \"f1_score_macro_max\", \"stepped\": true, \"type\": \"scatter\", \"data\": [0.7703578865954945, 0.7886104338170347, 0.7886104338170347, 0.7886104338170347, 0.7886104338170347, 0.7886104338170347, 0.7886104338170347, 0.7886104338170347, 0.7886104338170347, 0.7886104338170347, 0.7886104338170347, 0.7886104338170347, 0.7886104338170347, 0.7886104338170347, 0.7886104338170347, 0.7886104338170347, 0.7886104338170347, 0.7888513650175053, 0.7888513650175053, 0.7888513650175053, 0.7888513650175053, 0.7888513650175053, 0.7929790953506343, 0.7929790953506343, 0.7930274495182988, 0.7930274495182988, 0.7930274495182988, 0.7930274495182988, 0.7930274495182988, 0.7930274495182988, 0.7930274495182988, 0.7930274495182988, 0.7930274495182988, 0.7930274495182988, 0.7930274495182988, 0.7930274495182988, 0.7982176718120817, 0.7982176718120817, 0.7982176718120817, 0.7982176718120817, 0.7982176718120817, 0.7982176718120817, 0.7982176718120817, 0.7982176718120817, 0.7982176718120817, 0.7982176718120817, 0.7982176718120817, 0.7982176718120817, 0.7982176718120817, 0.7982176718120817, 0.7982176718120817, 0.7982176718120817, 0.7982176718120817, 0.7982176718120817, 0.7982176718120817, 0.7982176718120817, 0.8116809601742648, 0.8116809601742648]}], \"AUC_macro\": [{\"categories\": [\"0\", \"1\", \"2\", \"3\", \"4\", \"5\", \"6\", \"7\", \"8\", \"9\", \"10\", \"11\", \"12\", \"13\", \"14\", \"15\", \"16\", \"17\", \"18\", \"19\", \"20\", \"21\", \"22\", \"23\", \"24\", \"25\", \"26\", \"27\", \"28\", \"29\", \"30\", \"31\", \"32\", \"33\", \"34\", \"35\", \"36\", \"37\", \"38\", \"39\", \"40\", \"41\", \"42\", \"43\", \"44\", \"45\", \"46\", \"47\", \"48\", \"49\", \"50\", \"51\", \"52\", \"53\", \"54\", \"55\", \"56\", \"57\"], \"mode\": \"markers\", \"name\": \"AUC_macro\", \"stepped\": false, \"type\": \"scatter\", \"data\": [0.8536678514349534, 0.8678531479143805, 0.8499253033939841, 0.8388088798021416, 0.8541260194095784, 0.8503102317372608, 0.8159412163461929, 0.8365041651068185, 0.8422872289487172, 0.8536018507196556, 0.847325517706997, 0.8526708270720933, 0.853020519253628, 0.8462481025229881, 0.8391855585106726, 0.8322673854061087, 0.8496358032024145, 0.8570316963081416, 0.8364945258577037, 0.8432030620073849, 0.8457996149511935, 0.8519996259668886, 0.8490754044291187, 0.8366029782887642, 0.8578825527152478, 0.5, 0.8435131914259434, 0.8442087149288368, 0.8434290617502832, 0.847586335054826, 0.6364501005772942, 0.8333421824660793, 0.8606632789805008, 0.8193290238136165, 0.8494918236948065, 0.8345830944078175, 0.8659894197573438, 0.8567903763333695, 0.8627796037852394, 0.8462450093994268, 0.818959252201004, 0.8589968131050578, 0.8392102530216029, 0.8477348882964145, 0.8411358656423354, 0.8286391200687969, 0.8495082127566032, 0.8506744764833636, 0.8512599879095027, 0.8523273900855366, 0.8256483088780193, 0.8474959274396509, 0.8562465850633925, 0.8453492819527951, 0.8392378404939449, 0.8613491319453539, 0.8615392292577901, 0.8608055099468873]}, {\"categories\": [\"0\", \"1\", \"2\", \"3\", \"4\", \"5\", \"6\", \"7\", \"8\", \"9\", \"10\", \"11\", \"12\", \"13\", \"14\", \"15\", \"16\", \"17\", \"18\", \"19\", \"20\", \"21\", \"22\", \"23\", \"24\", \"25\", \"26\", \"27\", \"28\", \"29\", \"30\", \"31\", \"32\", \"33\", \"34\", \"35\", \"36\", \"37\", \"38\", \"39\", \"40\", \"41\", \"42\", \"43\", \"44\", \"45\", \"46\", \"47\", \"48\", \"49\", \"50\", \"51\", \"52\", \"53\", \"54\", \"55\", \"56\", \"57\"], \"mode\": \"lines\", \"name\": \"AUC_macro_max\", \"stepped\": true, \"type\": \"scatter\", \"data\": [0.8536678514349534, 0.8678531479143805, 0.8678531479143805, 0.8678531479143805, 0.8678531479143805, 0.8678531479143805, 0.8678531479143805, 0.8678531479143805, 0.8678531479143805, 0.8678531479143805, 0.8678531479143805, 0.8678531479143805, 0.8678531479143805, 0.8678531479143805, 0.8678531479143805, 0.8678531479143805, 0.8678531479143805, 0.8678531479143805, 0.8678531479143805, 0.8678531479143805, 0.8678531479143805, 0.8678531479143805, 0.8678531479143805, 0.8678531479143805, 0.8678531479143805, 0.8678531479143805, 0.8678531479143805, 0.8678531479143805, 0.8678531479143805, 0.8678531479143805, 0.8678531479143805, 0.8678531479143805, 0.8678531479143805, 0.8678531479143805, 0.8678531479143805, 0.8678531479143805, 0.8678531479143805, 0.8678531479143805, 0.8678531479143805, 0.8678531479143805, 0.8678531479143805, 0.8678531479143805, 0.8678531479143805, 0.8678531479143805, 0.8678531479143805, 0.8678531479143805, 0.8678531479143805, 0.8678531479143805, 0.8678531479143805, 0.8678531479143805, 0.8678531479143805, 0.8678531479143805, 0.8678531479143805, 0.8678531479143805, 0.8678531479143805, 0.8678531479143805, 0.8678531479143805, 0.8678531479143805]}], \"f1_score_micro\": [{\"categories\": [\"0\", \"1\", \"2\", \"3\", \"4\", \"5\", \"6\", \"7\", \"8\", \"9\", \"10\", \"11\", \"12\", \"13\", \"14\", \"15\", \"16\", \"17\", \"18\", \"19\", \"20\", \"21\", \"22\", \"23\", \"24\", \"25\", \"26\", \"27\", \"28\", \"29\", \"30\", \"31\", \"32\", \"33\", \"34\", \"35\", \"36\", \"37\", \"38\", \"39\", \"40\", \"41\", \"42\", \"43\", \"44\", \"45\", \"46\", \"47\", \"48\", \"49\", \"50\", \"51\", \"52\", \"53\", \"54\", \"55\", \"56\", \"57\"], \"mode\": \"markers\", \"name\": \"f1_score_micro\", \"stepped\": false, \"type\": \"scatter\", \"data\": [0.7879656160458453, 0.8080229226361032, 0.8042024832855779, 0.7822349570200573, 0.7956064947468958, 0.7822349570200573, 0.7975167144221585, 0.7860553963705826, 0.7851002865329514, 0.7956064947468958, 0.8032473734479465, 0.8022922636103152, 0.8013371537726838, 0.8080229226361032, 0.7889207258834766, 0.7889207258834766, 0.8061127029608404, 0.8042024832855779, 0.7898758357211079, 0.7956064947468958, 0.8013371537726838, 0.7946513849092645, 0.8099331423113657, 0.7936962750716332, 0.8118433619866284, 0.617956064947469, 0.7698185291308501, 0.7640878701050621, 0.7765042979942693, 0.7898758357211081, 0.617956064947469, 0.7841451766953199, 0.8042024832855779, 0.7879656160458453, 0.7908309455587393, 0.7841451766953199, 0.8156638013371538, 0.8089780324737346, 0.7965616045845273, 0.8003820439350525, 0.7803247373447947, 0.8003820439350525, 0.7975167144221585, 0.8099331423113658, 0.7965616045845273, 0.7879656160458453, 0.7994269340974212, 0.7975167144221585, 0.8051575931232092, 0.7994269340974212, 0.7822349570200573, 0.7793696275071632, 0.8061127029608405, 0.7965616045845273, 0.8042024832855779, 0.8089780324737345, 0.8271251193887298, 0.8156638013371538]}, {\"categories\": [\"0\", \"1\", \"2\", \"3\", \"4\", \"5\", \"6\", \"7\", \"8\", \"9\", \"10\", \"11\", \"12\", \"13\", \"14\", \"15\", \"16\", \"17\", \"18\", \"19\", \"20\", \"21\", \"22\", \"23\", \"24\", \"25\", \"26\", \"27\", \"28\", \"29\", \"30\", \"31\", \"32\", \"33\", \"34\", \"35\", \"36\", \"37\", \"38\", \"39\", \"40\", \"41\", \"42\", \"43\", \"44\", \"45\", \"46\", \"47\", \"48\", \"49\", \"50\", \"51\", \"52\", \"53\", \"54\", \"55\", \"56\", \"57\"], \"mode\": \"lines\", \"name\": \"f1_score_micro_max\", \"stepped\": true, \"type\": \"scatter\", \"data\": [0.7879656160458453, 0.8080229226361032, 0.8080229226361032, 0.8080229226361032, 0.8080229226361032, 0.8080229226361032, 0.8080229226361032, 0.8080229226361032, 0.8080229226361032, 0.8080229226361032, 0.8080229226361032, 0.8080229226361032, 0.8080229226361032, 0.8080229226361032, 0.8080229226361032, 0.8080229226361032, 0.8080229226361032, 0.8080229226361032, 0.8080229226361032, 0.8080229226361032, 0.8080229226361032, 0.8080229226361032, 0.8099331423113657, 0.8099331423113657, 0.8118433619866284, 0.8118433619866284, 0.8118433619866284, 0.8118433619866284, 0.8118433619866284, 0.8118433619866284, 0.8118433619866284, 0.8118433619866284, 0.8118433619866284, 0.8118433619866284, 0.8118433619866284, 0.8118433619866284, 0.8156638013371538, 0.8156638013371538, 0.8156638013371538, 0.8156638013371538, 0.8156638013371538, 0.8156638013371538, 0.8156638013371538, 0.8156638013371538, 0.8156638013371538, 0.8156638013371538, 0.8156638013371538, 0.8156638013371538, 0.8156638013371538, 0.8156638013371538, 0.8156638013371538, 0.8156638013371538, 0.8156638013371538, 0.8156638013371538, 0.8156638013371538, 0.8156638013371538, 0.8271251193887298, 0.8271251193887298]}], \"f1_score_weighted\": [{\"categories\": [\"0\", \"1\", \"2\", \"3\", \"4\", \"5\", \"6\", \"7\", \"8\", \"9\", \"10\", \"11\", \"12\", \"13\", \"14\", \"15\", \"16\", \"17\", \"18\", \"19\", \"20\", \"21\", \"22\", \"23\", \"24\", \"25\", \"26\", \"27\", \"28\", \"29\", \"30\", \"31\", \"32\", \"33\", \"34\", \"35\", \"36\", \"37\", \"38\", \"39\", \"40\", \"41\", \"42\", \"43\", \"44\", \"45\", \"46\", \"47\", \"48\", \"49\", \"50\", \"51\", \"52\", \"53\", \"54\", \"55\", \"56\", \"57\"], \"mode\": \"markers\", \"name\": \"f1_score_weighted\", \"stepped\": false, \"type\": \"scatter\", \"data\": [0.7854079241439006, 0.8038003129381203, 0.7996462914600279, 0.780757477417161, 0.7957796170717971, 0.7808483958260979, 0.7926493040858942, 0.7824183988507655, 0.7822623959975598, 0.794140070336748, 0.7995214231036281, 0.7994744501096861, 0.7988536889347865, 0.8027744325817552, 0.7745311300188812, 0.7837557130924505, 0.8023510188925366, 0.8023693448577355, 0.7893366179601221, 0.7936737341542422, 0.798714203071223, 0.7922507191229791, 0.8070727532685829, 0.7922212317148549, 0.8078555929056866, 0.47206642512681, 0.7716155977430935, 0.7658674967368387, 0.7775310037390497, 0.7898598158089071, 0.47206642512681, 0.7680553069194497, 0.8013642021648639, 0.7869513745423927, 0.788351886084771, 0.7816114282620275, 0.8122979454753777, 0.8048685743270313, 0.7927307268148415, 0.7965939995609709, 0.7793086401193904, 0.7966221904482028, 0.7908660389336345, 0.8076140553878278, 0.7934825600807809, 0.7859178431116597, 0.799266741535134, 0.79400431903533, 0.8010631247018422, 0.7921709509950569, 0.781248925614813, 0.7806524245169966, 0.8033660368021541, 0.7942801995405729, 0.803021493469319, 0.8040938591830006, 0.8245394950014369, 0.8128064739036355]}, {\"categories\": [\"0\", \"1\", \"2\", \"3\", \"4\", \"5\", \"6\", \"7\", \"8\", \"9\", \"10\", \"11\", \"12\", \"13\", \"14\", \"15\", \"16\", \"17\", \"18\", \"19\", \"20\", \"21\", \"22\", \"23\", \"24\", \"25\", \"26\", \"27\", \"28\", \"29\", \"30\", \"31\", \"32\", \"33\", \"34\", \"35\", \"36\", \"37\", \"38\", \"39\", \"40\", \"41\", \"42\", \"43\", \"44\", \"45\", \"46\", \"47\", \"48\", \"49\", \"50\", \"51\", \"52\", \"53\", \"54\", \"55\", \"56\", \"57\"], \"mode\": \"lines\", \"name\": \"f1_score_weighted_max\", \"stepped\": true, \"type\": \"scatter\", \"data\": [0.7854079241439006, 0.8038003129381203, 0.8038003129381203, 0.8038003129381203, 0.8038003129381203, 0.8038003129381203, 0.8038003129381203, 0.8038003129381203, 0.8038003129381203, 0.8038003129381203, 0.8038003129381203, 0.8038003129381203, 0.8038003129381203, 0.8038003129381203, 0.8038003129381203, 0.8038003129381203, 0.8038003129381203, 0.8038003129381203, 0.8038003129381203, 0.8038003129381203, 0.8038003129381203, 0.8038003129381203, 0.8070727532685829, 0.8070727532685829, 0.8078555929056866, 0.8078555929056866, 0.8078555929056866, 0.8078555929056866, 0.8078555929056866, 0.8078555929056866, 0.8078555929056866, 0.8078555929056866, 0.8078555929056866, 0.8078555929056866, 0.8078555929056866, 0.8078555929056866, 0.8122979454753777, 0.8122979454753777, 0.8122979454753777, 0.8122979454753777, 0.8122979454753777, 0.8122979454753777, 0.8122979454753777, 0.8122979454753777, 0.8122979454753777, 0.8122979454753777, 0.8122979454753777, 0.8122979454753777, 0.8122979454753777, 0.8122979454753777, 0.8122979454753777, 0.8122979454753777, 0.8122979454753777, 0.8122979454753777, 0.8122979454753777, 0.8122979454753777, 0.8245394950014369, 0.8245394950014369]}], \"AUC_micro\": [{\"categories\": [\"0\", \"1\", \"2\", \"3\", \"4\", \"5\", \"6\", \"7\", \"8\", \"9\", \"10\", \"11\", \"12\", \"13\", \"14\", \"15\", \"16\", \"17\", \"18\", \"19\", \"20\", \"21\", \"22\", \"23\", \"24\", \"25\", \"26\", \"27\", \"28\", \"29\", \"30\", \"31\", \"32\", \"33\", \"34\", \"35\", \"36\", \"37\", \"38\", \"39\", \"40\", \"41\", \"42\", \"43\", \"44\", \"45\", \"46\", \"47\", \"48\", \"49\", \"50\", \"51\", \"52\", \"53\", \"54\", \"55\", \"56\", \"57\"], \"mode\": \"markers\", \"name\": \"AUC_micro\", \"stepped\": false, \"type\": \"scatter\", \"data\": [0.8704444134284612, 0.885578388792648, 0.8696206654023092, 0.8564078565310081, 0.8703896793403448, 0.8646453367925276, 0.8482812127979246, 0.8570701389972166, 0.8605594371146378, 0.8712626880458014, 0.8670837404181139, 0.8693743620057854, 0.8712380577061491, 0.8632988782248642, 0.8494949412019058, 0.8574614877272492, 0.871911286989981, 0.8758658248563913, 0.8559645104172654, 0.8634795007156483, 0.8662189418258746, 0.8691089016784209, 0.8682523131993989, 0.856974354343013, 0.8782659146202959, 0.617956064947469, 0.8538791416600301, 0.8571823438778554, 0.8545332140130212, 0.8572534981924068, 0.6824492409750332, 0.8451381077878398, 0.8776556295377981, 0.8344266467434586, 0.870296631390547, 0.8523547973059881, 0.8834464960605141, 0.8779785606576848, 0.8811230340199726, 0.8694126758674668, 0.8326176851312113, 0.8774941639778545, 0.8620427309025924, 0.8694373062071191, 0.8655621327684776, 0.859382654220135, 0.867948539010353, 0.8703458920698517, 0.8733152163501668, 0.8751501766542694, 0.851840296877694, 0.8651598372208221, 0.8757098327052596, 0.8679512757147587, 0.8650503690445891, 0.8802773923585739, 0.8809232545983475, 0.8787010506208214]}, {\"categories\": [\"0\", \"1\", \"2\", \"3\", \"4\", \"5\", \"6\", \"7\", \"8\", \"9\", \"10\", \"11\", \"12\", \"13\", \"14\", \"15\", \"16\", \"17\", \"18\", \"19\", \"20\", \"21\", \"22\", \"23\", \"24\", \"25\", \"26\", \"27\", \"28\", \"29\", \"30\", \"31\", \"32\", \"33\", \"34\", \"35\", \"36\", \"37\", \"38\", \"39\", \"40\", \"41\", \"42\", \"43\", \"44\", \"45\", \"46\", \"47\", \"48\", \"49\", \"50\", \"51\", \"52\", \"53\", \"54\", \"55\", \"56\", \"57\"], \"mode\": \"lines\", \"name\": \"AUC_micro_max\", \"stepped\": true, \"type\": \"scatter\", \"data\": [0.8704444134284612, 0.885578388792648, 0.885578388792648, 0.885578388792648, 0.885578388792648, 0.885578388792648, 0.885578388792648, 0.885578388792648, 0.885578388792648, 0.885578388792648, 0.885578388792648, 0.885578388792648, 0.885578388792648, 0.885578388792648, 0.885578388792648, 0.885578388792648, 0.885578388792648, 0.885578388792648, 0.885578388792648, 0.885578388792648, 0.885578388792648, 0.885578388792648, 0.885578388792648, 0.885578388792648, 0.885578388792648, 0.885578388792648, 0.885578388792648, 0.885578388792648, 0.885578388792648, 0.885578388792648, 0.885578388792648, 0.885578388792648, 0.885578388792648, 0.885578388792648, 0.885578388792648, 0.885578388792648, 0.885578388792648, 0.885578388792648, 0.885578388792648, 0.885578388792648, 0.885578388792648, 0.885578388792648, 0.885578388792648, 0.885578388792648, 0.885578388792648, 0.885578388792648, 0.885578388792648, 0.885578388792648, 0.885578388792648, 0.885578388792648, 0.885578388792648, 0.885578388792648, 0.885578388792648, 0.885578388792648, 0.885578388792648, 0.885578388792648, 0.885578388792648, 0.885578388792648]}], \"precision_score_weighted\": [{\"categories\": [\"0\", \"1\", \"2\", \"3\", \"4\", \"5\", \"6\", \"7\", \"8\", \"9\", \"10\", \"11\", \"12\", \"13\", \"14\", \"15\", \"16\", \"17\", \"18\", \"19\", \"20\", \"21\", \"22\", \"23\", \"24\", \"25\", \"26\", \"27\", \"28\", \"29\", \"30\", \"31\", \"32\", \"33\", \"34\", \"35\", \"36\", \"37\", \"38\", \"39\", \"40\", \"41\", \"42\", \"43\", \"44\", \"45\", \"46\", \"47\", \"48\", \"49\", \"50\", \"51\", \"52\", \"53\", \"54\", \"55\", \"56\", \"57\"], \"mode\": \"markers\", \"name\": \"precision_score_weighted\", \"stepped\": false, \"type\": \"scatter\", \"data\": [0.7859357439862147, 0.8087665135888517, 0.8036071890269616, 0.784953385187991, 0.7971390534254542, 0.7811031391742626, 0.7979792214847162, 0.783888869356653, 0.7840735334655783, 0.7946829240991065, 0.8024951982577505, 0.8011275620837716, 0.8013507197751618, 0.8100602969140484, 0.8055940452423384, 0.7970626442990424, 0.8066532500461427, 0.8037252638641265, 0.7895983073848192, 0.7969454558741065, 0.7999592290706996, 0.7951119206053457, 0.8091802057129911, 0.7963478228445088, 0.8130769631178635, 0.38192625676308073, 0.776957942094314, 0.7702930733949435, 0.7804047024886721, 0.7917882158453967, 0.38192625676308073, 0.8026281084267479, 0.8039279213132633, 0.786704560471598, 0.7908098900987376, 0.7890646044101621, 0.8166642486265431, 0.8085176152401216, 0.7969973635568639, 0.8016709676373868, 0.7799536111222395, 0.8007503395510868, 0.8010796634477387, 0.8125514583590236, 0.7966335241069578, 0.786022189418055, 0.79952246945242, 0.7973924467212928, 0.8062102326404402, 0.8030187326684203, 0.782190443192822, 0.7853149150702884, 0.8047140332719716, 0.8011231834907703, 0.8033480659223863, 0.810522685269973, 0.8266348136963844, 0.8154930370195007]}, {\"categories\": [\"0\", \"1\", \"2\", \"3\", \"4\", \"5\", \"6\", \"7\", \"8\", \"9\", \"10\", \"11\", \"12\", \"13\", \"14\", \"15\", \"16\", \"17\", \"18\", \"19\", \"20\", \"21\", \"22\", \"23\", \"24\", \"25\", \"26\", \"27\", \"28\", \"29\", \"30\", \"31\", \"32\", \"33\", \"34\", \"35\", \"36\", \"37\", \"38\", \"39\", \"40\", \"41\", \"42\", \"43\", \"44\", \"45\", \"46\", \"47\", \"48\", \"49\", \"50\", \"51\", \"52\", \"53\", \"54\", \"55\", \"56\", \"57\"], \"mode\": \"lines\", \"name\": \"precision_score_weighted_max\", \"stepped\": true, \"type\": \"scatter\", \"data\": [0.7859357439862147, 0.8087665135888517, 0.8087665135888517, 0.8087665135888517, 0.8087665135888517, 0.8087665135888517, 0.8087665135888517, 0.8087665135888517, 0.8087665135888517, 0.8087665135888517, 0.8087665135888517, 0.8087665135888517, 0.8087665135888517, 0.8100602969140484, 0.8100602969140484, 0.8100602969140484, 0.8100602969140484, 0.8100602969140484, 0.8100602969140484, 0.8100602969140484, 0.8100602969140484, 0.8100602969140484, 0.8100602969140484, 0.8100602969140484, 0.8130769631178635, 0.8130769631178635, 0.8130769631178635, 0.8130769631178635, 0.8130769631178635, 0.8130769631178635, 0.8130769631178635, 0.8130769631178635, 0.8130769631178635, 0.8130769631178635, 0.8130769631178635, 0.8130769631178635, 0.8166642486265431, 0.8166642486265431, 0.8166642486265431, 0.8166642486265431, 0.8166642486265431, 0.8166642486265431, 0.8166642486265431, 0.8166642486265431, 0.8166642486265431, 0.8166642486265431, 0.8166642486265431, 0.8166642486265431, 0.8166642486265431, 0.8166642486265431, 0.8166642486265431, 0.8166642486265431, 0.8166642486265431, 0.8166642486265431, 0.8166642486265431, 0.8166642486265431, 0.8266348136963844, 0.8266348136963844]}], \"average_precision_score_micro\": [{\"categories\": [\"0\", \"1\", \"2\", \"3\", \"4\", \"5\", \"6\", \"7\", \"8\", \"9\", \"10\", \"11\", \"12\", \"13\", \"14\", \"15\", \"16\", \"17\", \"18\", \"19\", \"20\", \"21\", \"22\", \"23\", \"24\", \"25\", \"26\", \"27\", \"28\", \"29\", \"30\", \"31\", \"32\", \"33\", \"34\", \"35\", \"36\", \"37\", \"38\", \"39\", \"40\", \"41\", \"42\", \"43\", \"44\", \"45\", \"46\", \"47\", \"48\", \"49\", \"50\", \"51\", \"52\", \"53\", \"54\", \"55\", \"56\", \"57\"], \"mode\": \"markers\", \"name\": \"average_precision_score_micro\", \"stepped\": false, \"type\": \"scatter\", \"data\": [0.863666599473822, 0.876507107561335, 0.8497303358907372, 0.8412430807746868, 0.8641892145210264, 0.8601830419578338, 0.8320213439103304, 0.8453685196018138, 0.8501875129850879, 0.8640365110162436, 0.849863258157073, 0.8592259198047582, 0.8555679809670701, 0.8445650775948472, 0.8274244216045327, 0.8321648730456398, 0.8616091636828278, 0.866772039683712, 0.8391971040022727, 0.8539305020222785, 0.8547390478944195, 0.8571729199062469, 0.8510213844185203, 0.8396515939634392, 0.8683312090903511, 0.5729482242893462, 0.8446484619705887, 0.8491487938064228, 0.8481555481367224, 0.8430599646700064, 0.6420793211451236, 0.8180355548507915, 0.8670835161185608, 0.8019118975887162, 0.857435333011051, 0.8362214467347923, 0.8739350093404593, 0.8674809132794148, 0.8735942498080004, 0.8586634480329947, 0.8042842189012758, 0.8645880904605314, 0.841574026799287, 0.8456095523435933, 0.8442780911487303, 0.8308257907027352, 0.8596947997286297, 0.8533659089775814, 0.8612531296494713, 0.8592149623895805, 0.8204914290486527, 0.8553289374482054, 0.8694072578241081, 0.8438512137431954, 0.8381445699066288, 0.8720065881912067, 0.8701688896696296, 0.8697163684158314]}, {\"categories\": [\"0\", \"1\", \"2\", \"3\", \"4\", \"5\", \"6\", \"7\", \"8\", \"9\", \"10\", \"11\", \"12\", \"13\", \"14\", \"15\", \"16\", \"17\", \"18\", \"19\", \"20\", \"21\", \"22\", \"23\", \"24\", \"25\", \"26\", \"27\", \"28\", \"29\", \"30\", \"31\", \"32\", \"33\", \"34\", \"35\", \"36\", \"37\", \"38\", \"39\", \"40\", \"41\", \"42\", \"43\", \"44\", \"45\", \"46\", \"47\", \"48\", \"49\", \"50\", \"51\", \"52\", \"53\", \"54\", \"55\", \"56\", \"57\"], \"mode\": \"lines\", \"name\": \"average_precision_score_micro_max\", \"stepped\": true, \"type\": \"scatter\", \"data\": [0.863666599473822, 0.876507107561335, 0.876507107561335, 0.876507107561335, 0.876507107561335, 0.876507107561335, 0.876507107561335, 0.876507107561335, 0.876507107561335, 0.876507107561335, 0.876507107561335, 0.876507107561335, 0.876507107561335, 0.876507107561335, 0.876507107561335, 0.876507107561335, 0.876507107561335, 0.876507107561335, 0.876507107561335, 0.876507107561335, 0.876507107561335, 0.876507107561335, 0.876507107561335, 0.876507107561335, 0.876507107561335, 0.876507107561335, 0.876507107561335, 0.876507107561335, 0.876507107561335, 0.876507107561335, 0.876507107561335, 0.876507107561335, 0.876507107561335, 0.876507107561335, 0.876507107561335, 0.876507107561335, 0.876507107561335, 0.876507107561335, 0.876507107561335, 0.876507107561335, 0.876507107561335, 0.876507107561335, 0.876507107561335, 0.876507107561335, 0.876507107561335, 0.876507107561335, 0.876507107561335, 0.876507107561335, 0.876507107561335, 0.876507107561335, 0.876507107561335, 0.876507107561335, 0.876507107561335, 0.876507107561335, 0.876507107561335, 0.876507107561335, 0.876507107561335, 0.876507107561335]}]}, \"metricName\": null, \"primaryMetricName\": \"accuracy\", \"showLegend\": false}, \"run_metrics\": [{\"name\": \"experiment_status\", \"run_id\": \"AutoML_5c00b952-0740-462c-9963-4285b64fb24a\", \"categories\": [0, 1, 2, 3, 4, 5, 6, 7, 8, 9, 10, 11, 12, 13], \"series\": [{\"data\": [\"DatasetEvaluation\", \"FeaturesGeneration\", \"DatasetFeaturization\", \"DatasetFeaturizationCompleted\", \"DatasetCrossValidationSplit\", \"ModelSelection\", \"BestRunExplainModel\", \"ModelExplanationDataSetSetup\", \"PickSurrogateModel\", \"EngineeredFeatureExplanations\", \"EngineeredFeatureExplanations\", \"RawFeaturesExplanations\", \"RawFeaturesExplanations\", \"BestRunExplainModel\"]}]}, {\"name\": \"experiment_status_description\", \"run_id\": \"AutoML_5c00b952-0740-462c-9963-4285b64fb24a\", \"categories\": [0, 1, 2, 3, 4, 5, 6, 7, 8, 9, 10, 11, 12, 13], \"series\": [{\"data\": [\"Gathering dataset statistics.\", \"Generating features for the dataset.\", \"Beginning to fit featurizers and featurize the dataset.\", \"Completed fit featurizers and featurizing the dataset.\", \"Generating individually featurized CV splits.\", \"Beginning model selection.\", \"Best run model explanations started\", \"Model explanations data setup completed\", \"Choosing LightGBM as the surrogate model for explanations\", \"Computation of engineered features started\", \"Computation of engineered features completed\", \"Computation of raw features started\", \"Computation of raw features completed\", \"Best run model explanations completed\"]}]}, {\"name\": \"balanced_accuracy\", \"run_id\": \"AutoML_5c00b952-0740-462c-9963-4285b64fb24a\", \"categories\": [0], \"series\": [{\"data\": [0.8050488427598026]}]}, {\"name\": \"f1_score_macro\", \"run_id\": \"AutoML_5c00b952-0740-462c-9963-4285b64fb24a\", \"categories\": [0], \"series\": [{\"data\": [0.8116809601742648]}]}, {\"name\": \"AUC_macro\", \"run_id\": \"AutoML_5c00b952-0740-462c-9963-4285b64fb24a\", \"categories\": [0], \"series\": [{\"data\": [0.8615392292577901]}]}, {\"name\": \"recall_score_macro\", \"run_id\": \"AutoML_5c00b952-0740-462c-9963-4285b64fb24a\", \"categories\": [0], \"series\": [{\"data\": [0.8050488427598026]}]}, {\"name\": \"matthews_correlation\", \"run_id\": \"AutoML_5c00b952-0740-462c-9963-4285b64fb24a\", \"categories\": [0], \"series\": [{\"data\": [0.6283137527696975]}]}, {\"name\": \"precision_score_weighted\", \"run_id\": \"AutoML_5c00b952-0740-462c-9963-4285b64fb24a\", \"categories\": [0], \"series\": [{\"data\": [0.8266348136963844]}]}, {\"name\": \"log_loss\", \"run_id\": \"AutoML_5c00b952-0740-462c-9963-4285b64fb24a\", \"categories\": [0], \"series\": [{\"data\": [0.4494336789757733]}]}, {\"name\": \"f1_score_weighted\", \"run_id\": \"AutoML_5c00b952-0740-462c-9963-4285b64fb24a\", \"categories\": [0], \"series\": [{\"data\": [0.8245394950014369]}]}, {\"name\": \"average_precision_score_micro\", \"run_id\": \"AutoML_5c00b952-0740-462c-9963-4285b64fb24a\", \"categories\": [0], \"series\": [{\"data\": [0.8701688896696296]}]}, {\"name\": \"weighted_accuracy\", \"run_id\": \"AutoML_5c00b952-0740-462c-9963-4285b64fb24a\", \"categories\": [0], \"series\": [{\"data\": [0.8468388628070082]}]}, {\"name\": \"average_precision_score_weighted\", \"run_id\": \"AutoML_5c00b952-0740-462c-9963-4285b64fb24a\", \"categories\": [0], \"series\": [{\"data\": [0.8617717577516687]}]}, {\"name\": \"recall_score_micro\", \"run_id\": \"AutoML_5c00b952-0740-462c-9963-4285b64fb24a\", \"categories\": [0], \"series\": [{\"data\": [0.8271251193887297]}]}, {\"name\": \"precision_score_micro\", \"run_id\": \"AutoML_5c00b952-0740-462c-9963-4285b64fb24a\", \"categories\": [0], \"series\": [{\"data\": [0.8271251193887297]}]}, {\"name\": \"AUC_weighted\", \"run_id\": \"AutoML_5c00b952-0740-462c-9963-4285b64fb24a\", \"categories\": [0], \"series\": [{\"data\": [0.86153922925779]}]}, {\"name\": \"norm_macro_recall\", \"run_id\": \"AutoML_5c00b952-0740-462c-9963-4285b64fb24a\", \"categories\": [0], \"series\": [{\"data\": [0.6100976855196051]}]}, {\"name\": \"average_precision_score_macro\", \"run_id\": \"AutoML_5c00b952-0740-462c-9963-4285b64fb24a\", \"categories\": [0], \"series\": [{\"data\": [0.855517542482951]}]}, {\"name\": \"accuracy\", \"run_id\": \"AutoML_5c00b952-0740-462c-9963-4285b64fb24a\", \"categories\": [0], \"series\": [{\"data\": [0.8271251193887297]}]}, {\"name\": \"AUC_micro\", \"run_id\": \"AutoML_5c00b952-0740-462c-9963-4285b64fb24a\", \"categories\": [0], \"series\": [{\"data\": [0.8809232545983475]}]}, {\"name\": \"recall_score_weighted\", \"run_id\": \"AutoML_5c00b952-0740-462c-9963-4285b64fb24a\", \"categories\": [0], \"series\": [{\"data\": [0.8271251193887297]}]}, {\"name\": \"precision_score_macro\", \"run_id\": \"AutoML_5c00b952-0740-462c-9963-4285b64fb24a\", \"categories\": [0], \"series\": [{\"data\": [0.823601675943169]}]}, {\"name\": \"f1_score_micro\", \"run_id\": \"AutoML_5c00b952-0740-462c-9963-4285b64fb24a\", \"categories\": [0], \"series\": [{\"data\": [0.8271251193887298]}]}], \"run_logs\": \"\\nRun is completed.\", \"graph\": {}, \"widget_settings\": {\"childWidgetDisplay\": \"popup\", \"send_telemetry\": false, \"log_level\": \"INFO\", \"sdk_version\": \"1.21.0\"}, \"loading\": false}"
     },
     "metadata": {},
     "output_type": "display_data"
    }
   ],
   "source": [
    "#Additional Run Details\n",
    "from azureml.widgets import RunDetails\n",
    "\n",
    "RunDetails(automl_run).show()"
   ]
  },
  {
   "cell_type": "code",
   "execution_count": 23,
   "metadata": {
    "collapsed": true,
    "gather": {
     "logged": 1612645688331
    },
    "jupyter": {
     "outputs_hidden": false,
     "source_hidden": false
    },
    "nteract": {
     "transient": {
      "deleting": false
     }
    }
   },
   "outputs": [
    {
     "data": {
      "text/plain": [
       "(Run(Experiment: automl-experiment-1,\n",
       " Id: AutoML_5c00b952-0740-462c-9963-4285b64fb24a_56,\n",
       " Type: azureml.scriptrun,\n",
       " Status: Completed),\n",
       " Pipeline(memory=None,\n",
       "          steps=[('datatransformer',\n",
       "                  DataTransformer(enable_dnn=None, enable_feature_sweeping=None,\n",
       "                                  feature_sweeping_config=None,\n",
       "                                  feature_sweeping_timeout=None,\n",
       "                                  featurization_config=None, force_text_dnn=None,\n",
       "                                  is_cross_validation=None,\n",
       "                                  is_onnx_compatible=None, logger=None,\n",
       "                                  observer=None, task=None, working_dir=None)),\n",
       "                 ('prefittedsoftvotingclassifier',...\n",
       "                                                                                                     max_features='log2',\n",
       "                                                                                                     max_leaf_nodes=None,\n",
       "                                                                                                     max_samples=None,\n",
       "                                                                                                     min_impurity_decrease=0.0,\n",
       "                                                                                                     min_impurity_split=None,\n",
       "                                                                                                     min_samples_leaf=0.01,\n",
       "                                                                                                     min_samples_split=0.01,\n",
       "                                                                                                     min_weight_fraction_leaf=0.0,\n",
       "                                                                                                     n_estimators=25,\n",
       "                                                                                                     n_jobs=1,\n",
       "                                                                                                     oob_score=True,\n",
       "                                                                                                     random_state=None,\n",
       "                                                                                                     verbose=0,\n",
       "                                                                                                     warm_start=False))],\n",
       "                                                                      verbose=False))],\n",
       "                                                flatten_transform=None,\n",
       "                                                weights=[0.2, 0.1, 0.1, 0.2, 0.2,\n",
       "                                                         0.1, 0.1]))],\n",
       "          verbose=False))"
      ]
     },
     "execution_count": 23,
     "metadata": {},
     "output_type": "execute_result"
    }
   ],
   "source": [
    "#Get generic outputs from the automl_run\n",
    "automl_run.get_output()"
   ]
  },
  {
   "cell_type": "code",
   "execution_count": 24,
   "metadata": {
    "collapsed": true,
    "gather": {
     "logged": 1612645689749
    },
    "jupyter": {
     "outputs_hidden": false,
     "source_hidden": false
    },
    "nteract": {
     "transient": {
      "deleting": false
     }
    }
   },
   "outputs": [],
   "source": [
    "#Get the best model outputs\n",
    "best_automl_run, best_model = automl_run.get_output()\n"
   ]
  },
  {
   "cell_type": "code",
   "execution_count": 25,
   "metadata": {
    "collapsed": true,
    "gather": {
     "logged": 1612645693335
    },
    "jupyter": {
     "outputs_hidden": false,
     "source_hidden": false
    },
    "nteract": {
     "transient": {
      "deleting": false
     }
    }
   },
   "outputs": [
    {
     "name": "stdout",
     "output_type": "stream",
     "text": [
      "AutoML_5c00b952-0740-462c-9963-4285b64fb24a_56\n"
     ]
    }
   ],
   "source": [
    "#Get the best model id\n",
    "print(best_automl_run.id)"
   ]
  },
  {
   "cell_type": "code",
   "execution_count": 26,
   "metadata": {
    "collapsed": true,
    "gather": {
     "logged": 1612645705737
    },
    "jupyter": {
     "outputs_hidden": false,
     "source_hidden": false
    },
    "nteract": {
     "transient": {
      "deleting": false
     }
    }
   },
   "outputs": [],
   "source": [
    "os.makedirs('outputs',exist_ok=True)"
   ]
  },
  {
   "cell_type": "code",
   "execution_count": null,
   "metadata": {},
   "outputs": [],
   "source": [
    "#My support\n",
    "best_automl_run.download_file('outputs/model.pkl', 'outputs/best_run_automl_2.pkl')\n",
    "best_automl_run.download_file('outputs/scoring_file_v_1_0_0.py', 'outputs/score_aml.py')\n",
    "best_automl_run.download_file('automl_driver.py', 'outputs/automl_driver.py')"
   ]
  },
  {
   "cell_type": "code",
   "execution_count": 27,
   "metadata": {
    "collapsed": true,
    "gather": {
     "logged": 1612645708695
    },
    "jupyter": {
     "outputs_hidden": false,
     "source_hidden": false
    },
    "nteract": {
     "transient": {
      "deleting": false
     }
    }
   },
   "outputs": [],
   "source": [
    "#let's deploy since the automl is stronger thatn the hyperparametr model\n",
    "from azureml.core.model import Model\n",
    "from azureml.core.environment import Environment\n",
    "from azureml.core.model import InferenceConfig\n"
   ]
  },
  {
   "cell_type": "code",
   "execution_count": 31,
   "metadata": {
    "collapsed": true,
    "gather": {
     "logged": 1612645919001
    },
    "jupyter": {
     "outputs_hidden": false,
     "source_hidden": false
    },
    "nteract": {
     "transient": {
      "deleting": false
     }
    }
   },
   "outputs": [],
   "source": [
    "#Register your best model\n",
    "model = best_automl_run.register_model(model_name = \"best_run_automl_2.pkl\", model_path = './outputs/') \n",
    "\n",
    "#model = Model.register(workspace = ws,\n",
    " #                       model_path ='./outputs/' ,\n",
    "  #                      model_name = \"best_run_automl.pkl\") Este era el de Ulises\n",
    "\n",
    "#model_path = '/odl_user_137436/outputs'\n",
    "#model = Model.register(workspace= ws, model_name = \"best_run_automl_2.pkl\", model_path = './outputs/')\n",
    "\n",
    "#~/cloudfiles/code/Users/odl_user_137436/outputs"
   ]
  },
  {
   "cell_type": "code",
   "execution_count": 32,
   "metadata": {
    "collapsed": true,
    "gather": {
     "logged": 1612645922662
    },
    "jupyter": {
     "outputs_hidden": false,
     "source_hidden": false
    },
    "nteract": {
     "transient": {
      "deleting": false
     }
    }
   },
   "outputs": [
    {
     "data": {
      "text/plain": [
       "Model(workspace=Workspace.create(name='quick-starts-ws-137654', subscription_id='6971f5ac-8af1-446e-8034-05acea24681f', resource_group='aml-quickstarts-137654'), name=best_run_automl_2.pkl, id=best_run_automl_2.pkl:1, version=1, tags={}, properties={})"
      ]
     },
     "execution_count": 32,
     "metadata": {},
     "output_type": "execute_result"
    }
   ],
   "source": [
    "model"
   ]
  },
  {
   "cell_type": "code",
   "execution_count": 33,
   "metadata": {
    "collapsed": true,
    "gather": {
     "logged": 1612645926447
    },
    "jupyter": {
     "outputs_hidden": false,
     "source_hidden": false
    },
    "nteract": {
     "transient": {
      "deleting": false
     }
    }
   },
   "outputs": [
    {
     "name": "stdout",
     "output_type": "stream",
     "text": [
      "best_run_automl_2.pkl:1\n"
     ]
    }
   ],
   "source": [
    "print(model.id)\n"
   ]
  },
  {
   "cell_type": "code",
   "execution_count": 34,
   "metadata": {
    "collapsed": true,
    "gather": {
     "logged": 1612645930868
    },
    "jupyter": {
     "outputs_hidden": false,
     "source_hidden": false
    },
    "nteract": {
     "transient": {
      "deleting": false
     }
    }
   },
   "outputs": [],
   "source": [
    "#Defining the deployment\n",
    "from azureml.core.webservice import AciWebservice"
   ]
  },
  {
   "cell_type": "code",
   "execution_count": 35,
   "metadata": {
    "collapsed": true,
    "gather": {
     "logged": 1612645934458
    },
    "jupyter": {
     "outputs_hidden": false,
     "source_hidden": false
    },
    "nteract": {
     "transient": {
      "deleting": false
     }
    }
   },
   "outputs": [],
   "source": [
    "aci_config = AciWebservice.deploy_configuration(cpu_cores=1, memory_gb=2,\n",
    "                                              enable_app_insights=True)"
   ]
  },
  {
   "cell_type": "code",
   "execution_count": 36,
   "metadata": {
    "collapsed": true,
    "gather": {
     "logged": 1612645939934
    },
    "jupyter": {
     "outputs_hidden": false,
     "source_hidden": false
    },
    "nteract": {
     "transient": {
      "deleting": false
     }
    }
   },
   "outputs": [],
   "source": [
    "#Generating the environment needed:\n",
    "#env = best_automl_run.get_environment() # Este es elviejo\n",
    "\n",
    "env = Environment.from_conda_specification(name='myenv',file_path = 'env.yml') # Este es el de Ulises\n",
    "\n",
    "inference_config = InferenceConfig(entry_script='./score.py',\n",
    "                                    environment=env)\n",
    "\n",
    "f = open(\"envnew.yml\", \"w\")\n",
    "f.write(env.python.conda_dependencies.serialize_to_string())\n",
    "f.close()\n",
    "\n",
    "print(\"packages\", env.python.conda_dependencies.serialize_to_string())"
   ]
  },
  {
   "cell_type": "code",
   "execution_count": 38,
   "metadata": {
    "collapsed": true,
    "gather": {
     "logged": 1612645972289
    },
    "jupyter": {
     "outputs_hidden": false,
     "source_hidden": false
    },
    "nteract": {
     "transient": {
      "deleting": false
     }
    }
   },
   "outputs": [],
   "source": [
    "#service = model.deploy(Workspace=ws,name = 'titanic best model',models = [model],inference_config = inference_config, deployment_config=aci_config,overwrite=True)\n",
    "\n",
    "service_name = 'my-service-ml'\n",
    "\n",
    "service = Model.deploy(ws, service_name, [model], inference_config, deployment_config=aci_config)"
   ]
  },
  {
   "cell_type": "code",
   "execution_count": 39,
   "metadata": {
    "collapsed": true,
    "gather": {
     "logged": 1612645978470
    },
    "jupyter": {
     "outputs_hidden": false,
     "source_hidden": false
    },
    "nteract": {
     "transient": {
      "deleting": false
     }
    }
   },
   "outputs": [
    {
     "data": {
      "text/plain": [
       "AciWebservice(workspace=Workspace.create(name='quick-starts-ws-137654', subscription_id='6971f5ac-8af1-446e-8034-05acea24681f', resource_group='aml-quickstarts-137654'), name=my-service-ml, image_id=None, compute_type=None, state=ACI, scoring_uri=Transitioning, tags=None, properties={}, created_by={})"
      ]
     },
     "execution_count": 39,
     "metadata": {},
     "output_type": "execute_result"
    }
   ],
   "source": [
    "#check on service\n",
    "service"
   ]
  },
  {
   "cell_type": "code",
   "execution_count": 40,
   "metadata": {
    "collapsed": true,
    "jupyter": {
     "outputs_hidden": false,
     "source_hidden": false
    },
    "nteract": {
     "transient": {
      "deleting": false
     }
    }
   },
   "outputs": [
    {
     "name": "stdout",
     "output_type": "stream",
     "text": [
      "Tips: You can try get_logs(): https://aka.ms/debugimage#dockerlog or local deployment: https://aka.ms/debugimage#debug-locally to debug if deployment takes longer than 10 minutes.\n",
      "Running...............................................................................................................................................................................................\n",
      "Failed\n"
     ]
    },
    {
     "name": "stderr",
     "output_type": "stream",
     "text": [
      "ERROR:azureml.core.webservice.webservice:Service deployment polling reached non-successful terminal state, current service state: Failed\n",
      "Operation ID: b9595830-4b52-4509-a836-3df69bcb60d7\n",
      "More information can be found using '.get_logs()'\n",
      "Error:\n",
      "{\n",
      "  \"code\": \"AciDeploymentFailed\",\n",
      "  \"statusCode\": 400,\n",
      "  \"message\": \"Aci Deployment failed with exception: Your container application crashed. This may be caused by errors in your scoring file's init() function.\\n\\t1. Please check the logs for your container instance: my-service-ml. From the AML SDK, you can run print(service.get_logs()) if you have service object to fetch the logs.\\n\\t2. You can interactively debug your scoring file locally. Please refer to https://docs.microsoft.com/azure/machine-learning/how-to-debug-visual-studio-code#debug-and-troubleshoot-deployments for more information.\\n\\t3. You can also try to run image 0fe44c9800be4014b68c0c44c92a62ca.azurecr.io/azureml/azureml_7a578f54b3d04ec14d99922e3b268283 locally. Please refer to https://aka.ms/debugimage#service-launch-fails for more information.\",\n",
      "  \"details\": [\n",
      "    {\n",
      "      \"code\": \"CrashLoopBackOff\",\n",
      "      \"message\": \"Your container application crashed. This may be caused by errors in your scoring file's init() function.\\n\\t1. Please check the logs for your container instance: my-service-ml. From the AML SDK, you can run print(service.get_logs()) if you have service object to fetch the logs.\\n\\t2. You can interactively debug your scoring file locally. Please refer to https://docs.microsoft.com/azure/machine-learning/how-to-debug-visual-studio-code#debug-and-troubleshoot-deployments for more information.\\n\\t3. You can also try to run image 0fe44c9800be4014b68c0c44c92a62ca.azurecr.io/azureml/azureml_7a578f54b3d04ec14d99922e3b268283 locally. Please refer to https://aka.ms/debugimage#service-launch-fails for more information.\"\n",
      "    },\n",
      "    {\n",
      "      \"code\": \"AciDeploymentFailed\",\n",
      "      \"message\": \"Your container application crashed. Please follow the steps to debug:\\n\\t1. From the AML SDK, you can run print(service.get_logs()) if you have service object to fetch the logs. Please refer to https://aka.ms/debugimage#dockerlog for more information.\\n\\t2. If your container application crashed. This may be caused by errors in your scoring file's init() function. You can try debugging locally first. Please refer to https://aka.ms/debugimage#debug-locally for more information.\\n\\t3. You can also interactively debug your scoring file locally. Please refer to https://docs.microsoft.com/azure/machine-learning/how-to-debug-visual-studio-code#debug-and-troubleshoot-deployments for more information.\\n\\t4. View the diagnostic events to check status of container, it may help you to debug the issue.\\n\\\"RestartCount\\\": 3\\n\\\"CurrentState\\\": {\\\"state\\\":\\\"Waiting\\\",\\\"startTime\\\":null,\\\"exitCode\\\":null,\\\"finishTime\\\":null,\\\"detailStatus\\\":\\\"CrashLoopBackOff: Back-off restarting failed\\\"}\\n\\\"PreviousState\\\": {\\\"state\\\":\\\"Terminated\\\",\\\"startTime\\\":\\\"2021-02-06T21:28:52.721Z\\\",\\\"exitCode\\\":111,\\\"finishTime\\\":\\\"2021-02-06T21:28:59.441Z\\\",\\\"detailStatus\\\":\\\"Error\\\"}\\n\\\"Events\\\": null\\n\"\n",
      "    }\n",
      "  ]\n",
      "}\n",
      "\n"
     ]
    },
    {
     "ename": "WebserviceException",
     "evalue": "WebserviceException:\n\tMessage: Service deployment polling reached non-successful terminal state, current service state: Failed\nOperation ID: b9595830-4b52-4509-a836-3df69bcb60d7\nMore information can be found using '.get_logs()'\nError:\n{\n  \"code\": \"AciDeploymentFailed\",\n  \"statusCode\": 400,\n  \"message\": \"Aci Deployment failed with exception: Your container application crashed. This may be caused by errors in your scoring file's init() function.\\n\\t1. Please check the logs for your container instance: my-service-ml. From the AML SDK, you can run print(service.get_logs()) if you have service object to fetch the logs.\\n\\t2. You can interactively debug your scoring file locally. Please refer to https://docs.microsoft.com/azure/machine-learning/how-to-debug-visual-studio-code#debug-and-troubleshoot-deployments for more information.\\n\\t3. You can also try to run image 0fe44c9800be4014b68c0c44c92a62ca.azurecr.io/azureml/azureml_7a578f54b3d04ec14d99922e3b268283 locally. Please refer to https://aka.ms/debugimage#service-launch-fails for more information.\",\n  \"details\": [\n    {\n      \"code\": \"CrashLoopBackOff\",\n      \"message\": \"Your container application crashed. This may be caused by errors in your scoring file's init() function.\\n\\t1. Please check the logs for your container instance: my-service-ml. From the AML SDK, you can run print(service.get_logs()) if you have service object to fetch the logs.\\n\\t2. You can interactively debug your scoring file locally. Please refer to https://docs.microsoft.com/azure/machine-learning/how-to-debug-visual-studio-code#debug-and-troubleshoot-deployments for more information.\\n\\t3. You can also try to run image 0fe44c9800be4014b68c0c44c92a62ca.azurecr.io/azureml/azureml_7a578f54b3d04ec14d99922e3b268283 locally. Please refer to https://aka.ms/debugimage#service-launch-fails for more information.\"\n    },\n    {\n      \"code\": \"AciDeploymentFailed\",\n      \"message\": \"Your container application crashed. Please follow the steps to debug:\\n\\t1. From the AML SDK, you can run print(service.get_logs()) if you have service object to fetch the logs. Please refer to https://aka.ms/debugimage#dockerlog for more information.\\n\\t2. If your container application crashed. This may be caused by errors in your scoring file's init() function. You can try debugging locally first. Please refer to https://aka.ms/debugimage#debug-locally for more information.\\n\\t3. You can also interactively debug your scoring file locally. Please refer to https://docs.microsoft.com/azure/machine-learning/how-to-debug-visual-studio-code#debug-and-troubleshoot-deployments for more information.\\n\\t4. View the diagnostic events to check status of container, it may help you to debug the issue.\\n\\\"RestartCount\\\": 3\\n\\\"CurrentState\\\": {\\\"state\\\":\\\"Waiting\\\",\\\"startTime\\\":null,\\\"exitCode\\\":null,\\\"finishTime\\\":null,\\\"detailStatus\\\":\\\"CrashLoopBackOff: Back-off restarting failed\\\"}\\n\\\"PreviousState\\\": {\\\"state\\\":\\\"Terminated\\\",\\\"startTime\\\":\\\"2021-02-06T21:28:52.721Z\\\",\\\"exitCode\\\":111,\\\"finishTime\\\":\\\"2021-02-06T21:28:59.441Z\\\",\\\"detailStatus\\\":\\\"Error\\\"}\\n\\\"Events\\\": null\\n\"\n    }\n  ]\n}\n\tInnerException None\n\tErrorResponse \n{\n    \"error\": {\n        \"message\": \"Service deployment polling reached non-successful terminal state, current service state: Failed\\nOperation ID: b9595830-4b52-4509-a836-3df69bcb60d7\\nMore information can be found using '.get_logs()'\\nError:\\n{\\n  \\\"code\\\": \\\"AciDeploymentFailed\\\",\\n  \\\"statusCode\\\": 400,\\n  \\\"message\\\": \\\"Aci Deployment failed with exception: Your container application crashed. This may be caused by errors in your scoring file's init() function.\\\\n\\\\t1. Please check the logs for your container instance: my-service-ml. From the AML SDK, you can run print(service.get_logs()) if you have service object to fetch the logs.\\\\n\\\\t2. You can interactively debug your scoring file locally. Please refer to https://docs.microsoft.com/azure/machine-learning/how-to-debug-visual-studio-code#debug-and-troubleshoot-deployments for more information.\\\\n\\\\t3. You can also try to run image 0fe44c9800be4014b68c0c44c92a62ca.azurecr.io/azureml/azureml_7a578f54b3d04ec14d99922e3b268283 locally. Please refer to https://aka.ms/debugimage#service-launch-fails for more information.\\\",\\n  \\\"details\\\": [\\n    {\\n      \\\"code\\\": \\\"CrashLoopBackOff\\\",\\n      \\\"message\\\": \\\"Your container application crashed. This may be caused by errors in your scoring file's init() function.\\\\n\\\\t1. Please check the logs for your container instance: my-service-ml. From the AML SDK, you can run print(service.get_logs()) if you have service object to fetch the logs.\\\\n\\\\t2. You can interactively debug your scoring file locally. Please refer to https://docs.microsoft.com/azure/machine-learning/how-to-debug-visual-studio-code#debug-and-troubleshoot-deployments for more information.\\\\n\\\\t3. You can also try to run image 0fe44c9800be4014b68c0c44c92a62ca.azurecr.io/azureml/azureml_7a578f54b3d04ec14d99922e3b268283 locally. Please refer to https://aka.ms/debugimage#service-launch-fails for more information.\\\"\\n    },\\n    {\\n      \\\"code\\\": \\\"AciDeploymentFailed\\\",\\n      \\\"message\\\": \\\"Your container application crashed. Please follow the steps to debug:\\\\n\\\\t1. From the AML SDK, you can run print(service.get_logs()) if you have service object to fetch the logs. Please refer to https://aka.ms/debugimage#dockerlog for more information.\\\\n\\\\t2. If your container application crashed. This may be caused by errors in your scoring file's init() function. You can try debugging locally first. Please refer to https://aka.ms/debugimage#debug-locally for more information.\\\\n\\\\t3. You can also interactively debug your scoring file locally. Please refer to https://docs.microsoft.com/azure/machine-learning/how-to-debug-visual-studio-code#debug-and-troubleshoot-deployments for more information.\\\\n\\\\t4. View the diagnostic events to check status of container, it may help you to debug the issue.\\\\n\\\\\\\"RestartCount\\\\\\\": 3\\\\n\\\\\\\"CurrentState\\\\\\\": {\\\\\\\"state\\\\\\\":\\\\\\\"Waiting\\\\\\\",\\\\\\\"startTime\\\\\\\":null,\\\\\\\"exitCode\\\\\\\":null,\\\\\\\"finishTime\\\\\\\":null,\\\\\\\"detailStatus\\\\\\\":\\\\\\\"CrashLoopBackOff: Back-off restarting failed\\\\\\\"}\\\\n\\\\\\\"PreviousState\\\\\\\": {\\\\\\\"state\\\\\\\":\\\\\\\"Terminated\\\\\\\",\\\\\\\"startTime\\\\\\\":\\\\\\\"2021-02-06T21:28:52.721Z\\\\\\\",\\\\\\\"exitCode\\\\\\\":111,\\\\\\\"finishTime\\\\\\\":\\\\\\\"2021-02-06T21:28:59.441Z\\\\\\\",\\\\\\\"detailStatus\\\\\\\":\\\\\\\"Error\\\\\\\"}\\\\n\\\\\\\"Events\\\\\\\": null\\\\n\\\"\\n    }\\n  ]\\n}\"\n    }\n}",
     "output_type": "error",
     "traceback": [
      "\u001b[0;31m---------------------------------------------------------------------------\u001b[0m",
      "\u001b[0;31mWebserviceException\u001b[0m                       Traceback (most recent call last)",
      "\u001b[0;32m<ipython-input-40-af486c76b905>\u001b[0m in \u001b[0;36m<module>\u001b[0;34m\u001b[0m\n\u001b[1;32m      1\u001b[0m \u001b[0;31m#Check on deployment status:\u001b[0m\u001b[0;34m\u001b[0m\u001b[0;34m\u001b[0m\u001b[0;34m\u001b[0m\u001b[0m\n\u001b[0;32m----> 2\u001b[0;31m \u001b[0mservice\u001b[0m\u001b[0;34m.\u001b[0m\u001b[0mwait_for_deployment\u001b[0m\u001b[0;34m(\u001b[0m\u001b[0;32mTrue\u001b[0m\u001b[0;34m)\u001b[0m\u001b[0;34m\u001b[0m\u001b[0;34m\u001b[0m\u001b[0m\n\u001b[0m\u001b[1;32m      3\u001b[0m \u001b[0mprint\u001b[0m\u001b[0;34m(\u001b[0m\u001b[0mservice\u001b[0m\u001b[0;34m.\u001b[0m\u001b[0mstate\u001b[0m\u001b[0;34m)\u001b[0m\u001b[0;34m\u001b[0m\u001b[0;34m\u001b[0m\u001b[0m\n",
      "\u001b[0;32m/anaconda/envs/azureml_py36/lib/python3.6/site-packages/azureml/core/webservice/webservice.py\u001b[0m in \u001b[0;36mwait_for_deployment\u001b[0;34m(self, show_output, timeout_sec)\u001b[0m\n\u001b[1;32m    913\u001b[0m                                           \u001b[0;34m'Error:\\n'\u001b[0m\u001b[0;34m\u001b[0m\u001b[0;34m\u001b[0m\u001b[0m\n\u001b[1;32m    914\u001b[0m                                           '{}'.format(self.state, self._operation_endpoint.split('/')[-1],\n\u001b[0;32m--> 915\u001b[0;31m                                                       logs_response, error_response), logger=module_logger)\n\u001b[0m\u001b[1;32m    916\u001b[0m             print('{} service creation operation finished, operation \"{}\"'.format(self._webservice_type,\n\u001b[1;32m    917\u001b[0m                                                                                   operation_state))\n",
      "\u001b[0;31mWebserviceException\u001b[0m: WebserviceException:\n\tMessage: Service deployment polling reached non-successful terminal state, current service state: Failed\nOperation ID: b9595830-4b52-4509-a836-3df69bcb60d7\nMore information can be found using '.get_logs()'\nError:\n{\n  \"code\": \"AciDeploymentFailed\",\n  \"statusCode\": 400,\n  \"message\": \"Aci Deployment failed with exception: Your container application crashed. This may be caused by errors in your scoring file's init() function.\\n\\t1. Please check the logs for your container instance: my-service-ml. From the AML SDK, you can run print(service.get_logs()) if you have service object to fetch the logs.\\n\\t2. You can interactively debug your scoring file locally. Please refer to https://docs.microsoft.com/azure/machine-learning/how-to-debug-visual-studio-code#debug-and-troubleshoot-deployments for more information.\\n\\t3. You can also try to run image 0fe44c9800be4014b68c0c44c92a62ca.azurecr.io/azureml/azureml_7a578f54b3d04ec14d99922e3b268283 locally. Please refer to https://aka.ms/debugimage#service-launch-fails for more information.\",\n  \"details\": [\n    {\n      \"code\": \"CrashLoopBackOff\",\n      \"message\": \"Your container application crashed. This may be caused by errors in your scoring file's init() function.\\n\\t1. Please check the logs for your container instance: my-service-ml. From the AML SDK, you can run print(service.get_logs()) if you have service object to fetch the logs.\\n\\t2. You can interactively debug your scoring file locally. Please refer to https://docs.microsoft.com/azure/machine-learning/how-to-debug-visual-studio-code#debug-and-troubleshoot-deployments for more information.\\n\\t3. You can also try to run image 0fe44c9800be4014b68c0c44c92a62ca.azurecr.io/azureml/azureml_7a578f54b3d04ec14d99922e3b268283 locally. Please refer to https://aka.ms/debugimage#service-launch-fails for more information.\"\n    },\n    {\n      \"code\": \"AciDeploymentFailed\",\n      \"message\": \"Your container application crashed. Please follow the steps to debug:\\n\\t1. From the AML SDK, you can run print(service.get_logs()) if you have service object to fetch the logs. Please refer to https://aka.ms/debugimage#dockerlog for more information.\\n\\t2. If your container application crashed. This may be caused by errors in your scoring file's init() function. You can try debugging locally first. Please refer to https://aka.ms/debugimage#debug-locally for more information.\\n\\t3. You can also interactively debug your scoring file locally. Please refer to https://docs.microsoft.com/azure/machine-learning/how-to-debug-visual-studio-code#debug-and-troubleshoot-deployments for more information.\\n\\t4. View the diagnostic events to check status of container, it may help you to debug the issue.\\n\\\"RestartCount\\\": 3\\n\\\"CurrentState\\\": {\\\"state\\\":\\\"Waiting\\\",\\\"startTime\\\":null,\\\"exitCode\\\":null,\\\"finishTime\\\":null,\\\"detailStatus\\\":\\\"CrashLoopBackOff: Back-off restarting failed\\\"}\\n\\\"PreviousState\\\": {\\\"state\\\":\\\"Terminated\\\",\\\"startTime\\\":\\\"2021-02-06T21:28:52.721Z\\\",\\\"exitCode\\\":111,\\\"finishTime\\\":\\\"2021-02-06T21:28:59.441Z\\\",\\\"detailStatus\\\":\\\"Error\\\"}\\n\\\"Events\\\": null\\n\"\n    }\n  ]\n}\n\tInnerException None\n\tErrorResponse \n{\n    \"error\": {\n        \"message\": \"Service deployment polling reached non-successful terminal state, current service state: Failed\\nOperation ID: b9595830-4b52-4509-a836-3df69bcb60d7\\nMore information can be found using '.get_logs()'\\nError:\\n{\\n  \\\"code\\\": \\\"AciDeploymentFailed\\\",\\n  \\\"statusCode\\\": 400,\\n  \\\"message\\\": \\\"Aci Deployment failed with exception: Your container application crashed. This may be caused by errors in your scoring file's init() function.\\\\n\\\\t1. Please check the logs for your container instance: my-service-ml. From the AML SDK, you can run print(service.get_logs()) if you have service object to fetch the logs.\\\\n\\\\t2. You can interactively debug your scoring file locally. Please refer to https://docs.microsoft.com/azure/machine-learning/how-to-debug-visual-studio-code#debug-and-troubleshoot-deployments for more information.\\\\n\\\\t3. You can also try to run image 0fe44c9800be4014b68c0c44c92a62ca.azurecr.io/azureml/azureml_7a578f54b3d04ec14d99922e3b268283 locally. Please refer to https://aka.ms/debugimage#service-launch-fails for more information.\\\",\\n  \\\"details\\\": [\\n    {\\n      \\\"code\\\": \\\"CrashLoopBackOff\\\",\\n      \\\"message\\\": \\\"Your container application crashed. This may be caused by errors in your scoring file's init() function.\\\\n\\\\t1. Please check the logs for your container instance: my-service-ml. From the AML SDK, you can run print(service.get_logs()) if you have service object to fetch the logs.\\\\n\\\\t2. You can interactively debug your scoring file locally. Please refer to https://docs.microsoft.com/azure/machine-learning/how-to-debug-visual-studio-code#debug-and-troubleshoot-deployments for more information.\\\\n\\\\t3. You can also try to run image 0fe44c9800be4014b68c0c44c92a62ca.azurecr.io/azureml/azureml_7a578f54b3d04ec14d99922e3b268283 locally. Please refer to https://aka.ms/debugimage#service-launch-fails for more information.\\\"\\n    },\\n    {\\n      \\\"code\\\": \\\"AciDeploymentFailed\\\",\\n      \\\"message\\\": \\\"Your container application crashed. Please follow the steps to debug:\\\\n\\\\t1. From the AML SDK, you can run print(service.get_logs()) if you have service object to fetch the logs. Please refer to https://aka.ms/debugimage#dockerlog for more information.\\\\n\\\\t2. If your container application crashed. This may be caused by errors in your scoring file's init() function. You can try debugging locally first. Please refer to https://aka.ms/debugimage#debug-locally for more information.\\\\n\\\\t3. You can also interactively debug your scoring file locally. Please refer to https://docs.microsoft.com/azure/machine-learning/how-to-debug-visual-studio-code#debug-and-troubleshoot-deployments for more information.\\\\n\\\\t4. View the diagnostic events to check status of container, it may help you to debug the issue.\\\\n\\\\\\\"RestartCount\\\\\\\": 3\\\\n\\\\\\\"CurrentState\\\\\\\": {\\\\\\\"state\\\\\\\":\\\\\\\"Waiting\\\\\\\",\\\\\\\"startTime\\\\\\\":null,\\\\\\\"exitCode\\\\\\\":null,\\\\\\\"finishTime\\\\\\\":null,\\\\\\\"detailStatus\\\\\\\":\\\\\\\"CrashLoopBackOff: Back-off restarting failed\\\\\\\"}\\\\n\\\\\\\"PreviousState\\\\\\\": {\\\\\\\"state\\\\\\\":\\\\\\\"Terminated\\\\\\\",\\\\\\\"startTime\\\\\\\":\\\\\\\"2021-02-06T21:28:52.721Z\\\\\\\",\\\\\\\"exitCode\\\\\\\":111,\\\\\\\"finishTime\\\\\\\":\\\\\\\"2021-02-06T21:28:59.441Z\\\\\\\",\\\\\\\"detailStatus\\\\\\\":\\\\\\\"Error\\\\\\\"}\\\\n\\\\\\\"Events\\\\\\\": null\\\\n\\\"\\n    }\\n  ]\\n}\"\n    }\n}"
     ]
    }
   ],
   "source": [
    "#Check on deployment status:\n",
    "service.wait_for_deployment(True)\n",
    "print(service.state)\n"
   ]
  },
  {
   "cell_type": "code",
   "execution_count": null,
   "metadata": {
    "collapsed": true,
    "jupyter": {
     "outputs_hidden": false,
     "source_hidden": false
    },
    "nteract": {
     "transient": {
      "deleting": false
     }
    }
   },
   "outputs": [],
   "source": [
    "#Now let's get the scoring URI:\n",
    "scoring_uri = service.scoring_uri\n",
    "scoring_uri"
   ]
  },
  {
   "cell_type": "code",
   "execution_count": null,
   "metadata": {
    "collapsed": true,
    "jupyter": {
     "outputs_hidden": false,
     "source_hidden": false
    },
    "nteract": {
     "transient": {
      "deleting": false
     }
    }
   },
   "outputs": [],
   "source": [
    "#let's test:\n",
    "import json\n",
    "import requests\n",
    "\n",
    "scoring_uri = scoring_uri\n",
    "headers = {'Content-Type':'application/json'}\n",
    "\n",
    "\n",
    "\n",
    "test_data = json.dumps({'data':[{\n",
    "    'pclass': 0.8419164182590155,\n",
    "    'age': -0.34907541344456255,\n",
    "    'sibsp': -0.47908676070718687,\n",
    "    'parch': -0.444999501816175,\n",
    "    'fare': -0.4902404567566683,\n",
    "    'age_NA': -0.5014319838391105,\n",
    "    'fare_NA': -0.027650063180466557,\n",
    "    'sex_male': 0.743496915331831,\n",
    "    'cabin_Missing': 0.5393765119990418,\n",
    "    'cabin_Rare': -0.42592011250734235,\n",
    "    'embarked_Q': -0.32204029159373954,\n",
    "    'embarked_Rare': -0.03911805059269843,\n",
    "    'embarked_S': 0.6573935670276714,\n",
    "    'title_Mr': 0.8525918887485938,\n",
    "    'title_Mrs': -0.42592011250734235,\n",
    "    'title_Rare': -0.27494677157229536\n",
    "    }\n",
    "    ]\n",
    "        })\n",
    "\n",
    "test_data2 = json.dumps({'data':[{\n",
    "    'pclass': -15460978645168200,\n",
    "    'age': 0.8912042887450313,\n",
    "    'sibsp': -0.47908676070718687,\n",
    "    'parch': -0.444999501816175,\n",
    "    'fare': 19569900306355100,\n",
    "    'age_NA': -0.5014319838391105,\n",
    "    'fare_NA': -0.027650063180466557,\n",
    "    'sex_male': -13449954927569300,\n",
    "    'cabin_Missing': -18539924853119600,\n",
    "    'cabin_Rare': 23478581326275300,\n",
    "    'embarked_Q': -0.32204029159373954,\n",
    "    'embarked_Rare': -0.03911805059269843,\n",
    "    'embarked_S': -15211587854766800,\n",
    "    'title_Mr': -11728941046668400,\n",
    "    'title_Mrs': -0.42592011250734235,\n",
    "    'title_Rare': -0.27494677157229536\n",
    "\n",
    "    }\n",
    "    ]\n",
    "        })\n",
    "\n",
    "\n",
    "response = requests.post(scoring_uri, data=test_data2, headers=headers)\n",
    "\n",
    "print(\"Result:\",response.text)"
   ]
  },
  {
   "cell_type": "markdown",
   "metadata": {
    "nteract": {
     "transient": {
      "deleting": false
     }
    }
   },
   "source": [
    "### The above code is not needed anymore; only the very next line will be then matched befores we submit the experiment"
   ]
  },
  {
   "cell_type": "markdown",
   "metadata": {},
   "source": [
    "## Run Details\n",
    "\n",
    "OPTIONAL: Write about the different models trained and their performance. Why do you think some models did better than others?\n",
    "\n",
    "TODO: In the cell below, use the `RunDetails` widget to show the different experiments."
   ]
  },
  {
   "cell_type": "code",
   "execution_count": null,
   "metadata": {
    "gather": {
     "logged": 1612085133959
    },
    "jupyter": {
     "outputs_hidden": false,
     "source_hidden": false
    },
    "nteract": {
     "transient": {
      "deleting": false
     }
    }
   },
   "outputs": [],
   "source": [
    "from azureml.widgets import RunDetails\n",
    "RunDetails(pipeline_run).show()"
   ]
  },
  {
   "cell_type": "code",
   "execution_count": null,
   "metadata": {
    "gather": {
     "logged": 1612086926119
    }
   },
   "outputs": [],
   "source": [
    "pipeline_run.wait_for_completion()"
   ]
  },
  {
   "cell_type": "markdown",
   "metadata": {},
   "source": [
    "## Examine Results\n",
    "\n",
    "### Retrieve the metrics of all child runs\n",
    "Outputs of above run can be used as inputs of other steps in pipeline. In this tutorial, we will examine the outputs by retrieve output data and running some tests."
   ]
  },
  {
   "cell_type": "code",
   "execution_count": null,
   "metadata": {
    "gather": {
     "logged": 1612087269821
    }
   },
   "outputs": [],
   "source": [
    "metrics_output = pipeline_run.get_pipeline_output(metrics_output_name)\n",
    "metrics_output"
   ]
  },
  {
   "cell_type": "code",
   "execution_count": null,
   "metadata": {
    "gather": {
     "logged": 1612087300726
    }
   },
   "outputs": [],
   "source": [
    "num_file_downloaded = metrics_output.download('.', show_progress=True)"
   ]
  },
  {
   "cell_type": "code",
   "execution_count": null,
   "metadata": {
    "gather": {
     "logged": 1612087307461
    }
   },
   "outputs": [],
   "source": [
    "import json\n",
    "with open(metrics_output._path_on_datastore) as f:\n",
    "    metrics_output_result = f.read()\n",
    "    \n",
    "deserialized_metrics_output = json.loads(metrics_output_result)\n",
    "df = pd.DataFrame(deserialized_metrics_output)\n",
    "df"
   ]
  },
  {
   "cell_type": "markdown",
   "metadata": {},
   "source": [
    "## Best Model\n",
    "\n",
    "TODO: In the cell below, get the best model from the automl experiments and display all the properties of the model.\n",
    "\n"
   ]
  },
  {
   "cell_type": "code",
   "execution_count": null,
   "metadata": {
    "gather": {
     "logged": 1612087328730
    },
    "jupyter": {
     "outputs_hidden": false,
     "source_hidden": false
    },
    "nteract": {
     "transient": {
      "deleting": false
     }
    }
   },
   "outputs": [],
   "source": [
    "# Retrieve best model from Pipeline Run\n",
    "best_model_output = pipeline_run.get_pipeline_output(best_model_output_name)\n",
    "num_file_downloaded = best_model_output.download('.', show_progress=True)"
   ]
  },
  {
   "cell_type": "code",
   "execution_count": null,
   "metadata": {
    "gather": {
     "logged": 1612087350205
    },
    "jupyter": {
     "outputs_hidden": false,
     "source_hidden": false
    },
    "nteract": {
     "transient": {
      "deleting": false
     }
    }
   },
   "outputs": [],
   "source": [
    "#TODO: Save the best model\n",
    "import pickle\n",
    "\n",
    "with open(best_model_output._path_on_datastore, \"rb\" ) as f:\n",
    "    best_model = pickle.load(f)\n",
    "best_model"
   ]
  },
  {
   "cell_type": "code",
   "execution_count": null,
   "metadata": {
    "gather": {
     "logged": 1612087362075
    }
   },
   "outputs": [],
   "source": [
    "best_model.steps"
   ]
  },
  {
   "cell_type": "markdown",
   "metadata": {},
   "source": [
    "### Test the Model:"
   ]
  },
  {
   "cell_type": "code",
   "execution_count": null,
   "metadata": {
    "gather": {
     "logged": 1612087383962
    }
   },
   "outputs": [],
   "source": [
    "from sklearn.metrics import confusion_matrix\n",
    "ypred = best_model.predict(x_test)\n",
    "cm = confusion_matrix(y_test, ypred)"
   ]
  },
  {
   "cell_type": "code",
   "execution_count": null,
   "metadata": {
    "gather": {
     "logged": 1612087393337
    }
   },
   "outputs": [],
   "source": [
    "pd.DataFrame(cm).style.background_gradient(cmap='Blues', low=0, high=0.9)"
   ]
  },
  {
   "cell_type": "code",
   "execution_count": null,
   "metadata": {
    "collapsed": true,
    "gather": {
     "logged": 1612087466563
    },
    "jupyter": {
     "outputs_hidden": false,
     "source_hidden": false
    },
    "nteract": {
     "transient": {
      "deleting": false
     }
    }
   },
   "outputs": [],
   "source": [
    "#Accuracy Test:\n",
    "(152 + 62) / (152 + 62 + 38+10)"
   ]
  },
  {
   "cell_type": "markdown",
   "metadata": {},
   "source": [
    "## Model Deployment\n",
    "\n",
    "Remember you have to deploy only one of the two models you trained.. Perform the steps in the rest of this notebook only if you wish to deploy this model.\n",
    "\n",
    "TODO: In the cell below, register the model, create an inference config and deploy the model as a web service."
   ]
  },
  {
   "cell_type": "code",
   "execution_count": null,
   "metadata": {
    "gather": {
     "logged": 1612090412353
    },
    "jupyter": {
     "outputs_hidden": false,
     "source_hidden": false
    },
    "nteract": {
     "transient": {
      "deleting": false
     }
    }
   },
   "outputs": [],
   "source": [
    "best_model"
   ]
  },
  {
   "cell_type": "markdown",
   "metadata": {
    "collapsed": true,
    "gather": {
     "logged": 1598431657736
    },
    "jupyter": {
     "outputs_hidden": false,
     "source_hidden": false
    },
    "nteract": {
     "transient": {
      "deleting": false
     }
    }
   },
   "source": [
    "TODO: In the cell below, send a request to the web service you deployed to test it."
   ]
  },
  {
   "cell_type": "code",
   "execution_count": null,
   "metadata": {
    "gather": {
     "logged": 1612091863719
    },
    "jupyter": {
     "outputs_hidden": false,
     "source_hidden": false
    },
    "nteract": {
     "transient": {
      "deleting": false
     }
    }
   },
   "outputs": [],
   "source": [
    "#help(best_model)\n",
    "dir(pipeline_run)"
   ]
  },
  {
   "cell_type": "code",
   "execution_count": null,
   "metadata": {
    "collapsed": true,
    "gather": {
     "logged": 1612092169172
    },
    "jupyter": {
     "outputs_hidden": false,
     "source_hidden": false
    },
    "nteract": {
     "transient": {
      "deleting": false
     }
    }
   },
   "outputs": [],
   "source": [
    "pipeline_run.experiment"
   ]
  },
  {
   "cell_type": "markdown",
   "metadata": {
    "collapsed": true,
    "gather": {
     "logged": 1598432765711
    },
    "jupyter": {
     "outputs_hidden": false,
     "source_hidden": false
    },
    "nteract": {
     "transient": {
      "deleting": false
     }
    }
   },
   "source": [
    "TODO: In the cell below, print the logs of the web service and delete the service"
   ]
  },
  {
   "cell_type": "code",
   "execution_count": null,
   "metadata": {
    "jupyter": {
     "outputs_hidden": false,
     "source_hidden": false
    },
    "nteract": {
     "transient": {
      "deleting": false
     }
    }
   },
   "outputs": [],
   "source": []
  }
 ],
 "metadata": {
  "kernel_info": {
   "name": "python3"
  },
  "kernelspec": {
   "display_name": "Python 3",
   "language": "python",
   "name": "python3"
  },
  "language_info": {
   "codemirror_mode": {
    "name": "ipython",
    "version": 3
   },
   "file_extension": ".py",
   "mimetype": "text/x-python",
   "name": "python",
   "nbconvert_exporter": "python",
   "pygments_lexer": "ipython3",
   "version": "3.8.5"
  },
  "nteract": {
   "version": "nteract-front-end@1.0.0"
  }
 },
 "nbformat": 4,
 "nbformat_minor": 2
}
