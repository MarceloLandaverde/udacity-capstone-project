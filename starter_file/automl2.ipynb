{
  "cells": [
    {
      "cell_type": "markdown",
      "source": [
        "# Automated ML\n",
        "\n",
        "TODO: Import Dependencies. In the cell below, import all the dependencies that you will need to complete the project."
      ],
      "metadata": {}
    },
    {
      "cell_type": "code",
      "source": [
        "import logging\n",
        "import os\n",
        "import csv\n",
        "\n",
        "from matplotlib import pyplot as plt\n",
        "import numpy as np\n",
        "import pandas as pd\n",
        "from azureml.data.dataset_factory import TabularDatasetFactory\n",
        "import pkg_resources\n",
        "\n",
        "import azureml.core\n",
        "from azureml.core.experiment import Experiment\n",
        "from azureml.core.workspace import Workspace\n",
        "from azureml.train.automl import AutoMLConfig\n",
        "from azureml.core.dataset import Dataset\n",
        "\n",
        "from azureml.pipeline.steps import AutoMLStep\n",
        "\n",
        "# Check core SDK version number\n",
        "print(\"SDK version:\", azureml.core.VERSION)"
      ],
      "outputs": [
        {
          "output_type": "stream",
          "name": "stdout",
          "text": [
            "SDK version: 1.20.0\n"
          ]
        }
      ],
      "execution_count": 1,
      "metadata": {
        "gather": {
          "logged": 1612548804922
        },
        "jupyter": {
          "outputs_hidden": false,
          "source_hidden": false
        },
        "nteract": {
          "transient": {
            "deleting": false
          }
        }
      }
    },
    {
      "cell_type": "code",
      "source": [
        "#Testing the authentication using the Workspace method \"from_config\"\n",
        "Workspace.from_config()"
      ],
      "outputs": [
        {
          "output_type": "execute_result",
          "execution_count": 2,
          "data": {
            "text/plain": "Workspace.create(name='quick-starts-ws-137355', subscription_id='aa7cf8e8-d23f-4bce-a7b9-1f0b4e0ac8ee', resource_group='aml-quickstarts-137355')"
          },
          "metadata": {}
        }
      ],
      "execution_count": 2,
      "metadata": {
        "gather": {
          "logged": 1612548808306
        }
      }
    },
    {
      "cell_type": "code",
      "source": [
        "#create workspace\r\n",
        "ws = Workspace.from_config()"
      ],
      "outputs": [],
      "execution_count": 3,
      "metadata": {
        "collapsed": true,
        "jupyter": {
          "source_hidden": false,
          "outputs_hidden": false
        },
        "nteract": {
          "transient": {
            "deleting": false
          }
        },
        "gather": {
          "logged": 1612548811403
        }
      }
    },
    {
      "cell_type": "markdown",
      "source": [
        "#original code:\n",
        "ws = Workspace.from_config()\n",
        "\n",
        "# choose a name for experiment\n",
        "experiment_name = 'your experiment name here'\n",
        "\n",
        "experiment=Experiment(ws, experiment_name)"
      ],
      "metadata": {
        "gather": {
          "logged": 1598423890461
        },
        "jupyter": {
          "outputs_hidden": false,
          "source_hidden": false
        },
        "nteract": {
          "transient": {
            "deleting": false
          }
        }
      }
    },
    {
      "cell_type": "code",
      "source": [
        "# Choose a name for the run history container in the workspace.\n",
        "# NOTE: update these to match your existing experiment name\n",
        "experiment_name = 'automl-experiment-1'\n",
        "project_folder = './pipeline-project'\n",
        "\n",
        "experiment = Experiment(ws, experiment_name)\n",
        "experiment"
      ],
      "outputs": [
        {
          "output_type": "execute_result",
          "execution_count": 4,
          "data": {
            "text/plain": "Experiment(Name: automl-experiment-1,\nWorkspace: quick-starts-ws-137355)",
            "text/html": "<table style=\"width:100%\"><tr><th>Name</th><th>Workspace</th><th>Report Page</th><th>Docs Page</th></tr><tr><td>automl-experiment-1</td><td>quick-starts-ws-137355</td><td><a href=\"https://ml.azure.com/experiments/automl-experiment-1?wsid=/subscriptions/aa7cf8e8-d23f-4bce-a7b9-1f0b4e0ac8ee/resourcegroups/aml-quickstarts-137355/workspaces/quick-starts-ws-137355\" target=\"_blank\" rel=\"noopener\">Link to Azure Machine Learning studio</a></td><td><a href=\"https://docs.microsoft.com/en-us/python/api/azureml-core/azureml.core.experiment.Experiment?view=azure-ml-py\" target=\"_blank\" rel=\"noopener\">Link to Documentation</a></td></tr></table>"
          },
          "metadata": {}
        }
      ],
      "execution_count": 4,
      "metadata": {
        "gather": {
          "logged": 1612548848744
        }
      }
    },
    {
      "cell_type": "markdown",
      "source": [
        "## Dataset\n",
        "\n",
        "### Overview\n",
        "TODO: In this markdown cell, give an overview of the dataset you are using. Also mention the task you will be performing.\n",
        "\n",
        "\n",
        "TODO: Get data. In the cell below, write code to access the data you will be using in this project. Remember that the dataset needs to be external."
      ],
      "metadata": {}
    },
    {
      "cell_type": "code",
      "source": [
        "\n",
        "\n",
        "dataset = TabularDatasetFactory.from_delimited_files('https://www.openml.org/data/get_csv/16826755/phpMYEkMl')\n",
        "\n",
        "\n",
        "dataset = dataset.to_pandas_dataframe()\n",
        "dataset.describe()"
      ],
      "outputs": [
        {
          "output_type": "execute_result",
          "execution_count": 5,
          "data": {
            "text/plain": "            pclass     survived        sibsp        parch         fare\ncount  1309.000000  1309.000000  1309.000000  1309.000000  1308.000000\nmean      2.294882     0.381971     0.498854     0.385027    33.295479\nstd       0.837836     0.486055     1.041658     0.865560    51.758668\nmin       1.000000     0.000000     0.000000     0.000000     0.000000\n25%       2.000000     0.000000     0.000000     0.000000     7.895800\n50%       3.000000     0.000000     0.000000     0.000000    14.454200\n75%       3.000000     1.000000     1.000000     0.000000    31.275000\nmax       3.000000     1.000000     8.000000     9.000000   512.329200",
            "text/html": "<div>\n<style scoped>\n    .dataframe tbody tr th:only-of-type {\n        vertical-align: middle;\n    }\n\n    .dataframe tbody tr th {\n        vertical-align: top;\n    }\n\n    .dataframe thead th {\n        text-align: right;\n    }\n</style>\n<table border=\"1\" class=\"dataframe\">\n  <thead>\n    <tr style=\"text-align: right;\">\n      <th></th>\n      <th>pclass</th>\n      <th>survived</th>\n      <th>sibsp</th>\n      <th>parch</th>\n      <th>fare</th>\n    </tr>\n  </thead>\n  <tbody>\n    <tr>\n      <th>count</th>\n      <td>1309.000000</td>\n      <td>1309.000000</td>\n      <td>1309.000000</td>\n      <td>1309.000000</td>\n      <td>1308.000000</td>\n    </tr>\n    <tr>\n      <th>mean</th>\n      <td>2.294882</td>\n      <td>0.381971</td>\n      <td>0.498854</td>\n      <td>0.385027</td>\n      <td>33.295479</td>\n    </tr>\n    <tr>\n      <th>std</th>\n      <td>0.837836</td>\n      <td>0.486055</td>\n      <td>1.041658</td>\n      <td>0.865560</td>\n      <td>51.758668</td>\n    </tr>\n    <tr>\n      <th>min</th>\n      <td>1.000000</td>\n      <td>0.000000</td>\n      <td>0.000000</td>\n      <td>0.000000</td>\n      <td>0.000000</td>\n    </tr>\n    <tr>\n      <th>25%</th>\n      <td>2.000000</td>\n      <td>0.000000</td>\n      <td>0.000000</td>\n      <td>0.000000</td>\n      <td>7.895800</td>\n    </tr>\n    <tr>\n      <th>50%</th>\n      <td>3.000000</td>\n      <td>0.000000</td>\n      <td>0.000000</td>\n      <td>0.000000</td>\n      <td>14.454200</td>\n    </tr>\n    <tr>\n      <th>75%</th>\n      <td>3.000000</td>\n      <td>1.000000</td>\n      <td>1.000000</td>\n      <td>0.000000</td>\n      <td>31.275000</td>\n    </tr>\n    <tr>\n      <th>max</th>\n      <td>3.000000</td>\n      <td>1.000000</td>\n      <td>8.000000</td>\n      <td>9.000000</td>\n      <td>512.329200</td>\n    </tr>\n  </tbody>\n</table>\n</div>"
          },
          "metadata": {}
        }
      ],
      "execution_count": 5,
      "metadata": {
        "gather": {
          "logged": 1612548917580
        }
      }
    },
    {
      "cell_type": "code",
      "source": [
        "###Just in case:\n",
        "from azureml.core.compute import AmlCompute\n",
        "from azureml.core.compute import ComputeTarget\n",
        "from azureml.core.compute_target import ComputeTargetException\n",
        "\n",
        "# NOTE: update the cluster name to match the existing cluster\n",
        "# Choose a name for your CPU cluster\n",
        "amlcompute_cluster_name = \"auto-ml\"\n",
        "\n",
        "# Verify that cluster does not exist already\n",
        "try:\n",
        "    compute_target = ComputeTarget(workspace=ws, name=amlcompute_cluster_name)\n",
        "    print('Found existing cluster, use it.')\n",
        "except ComputeTargetException:\n",
        "    compute_config = AmlCompute.provisioning_configuration(vm_size='STANDARD_DS12_V2',# for GPU, use \"STANDARD_NC6\"\n",
        "                                                           #vm_priority = 'lowpriority', # optional\n",
        "                                                           min_nodes=1,\n",
        "                                                           max_nodes=6)\n",
        "    compute_target = ComputeTarget.create(ws, amlcompute_cluster_name, compute_config)\n",
        "\n",
        "compute_target.wait_for_completion(show_output=True)\n",
        "# For a more detailed view of current AmlCompute status, use get_status()."
      ],
      "outputs": [
        {
          "output_type": "stream",
          "name": "stdout",
          "text": [
            "Found existing cluster, use it.\n",
            "\n",
            "Running\n"
          ]
        }
      ],
      "execution_count": 6,
      "metadata": {
        "gather": {
          "logged": 1612548940315
        }
      }
    },
    {
      "cell_type": "markdown",
      "source": [
        "### Clean Data:"
      ],
      "metadata": {}
    },
    {
      "cell_type": "code",
      "source": [
        "from train import clean_data"
      ],
      "outputs": [],
      "execution_count": 7,
      "metadata": {
        "gather": {
          "logged": 1612548952486
        }
      }
    },
    {
      "cell_type": "code",
      "source": [
        "x, y = clean_data(dataset)"
      ],
      "outputs": [],
      "execution_count": 8,
      "metadata": {
        "gather": {
          "logged": 1612548960945
        }
      }
    },
    {
      "cell_type": "code",
      "source": [
        "from sklearn.preprocessing import StandardScaler"
      ],
      "outputs": [],
      "execution_count": 9,
      "metadata": {
        "gather": {
          "logged": 1612548963603
        }
      }
    },
    {
      "cell_type": "code",
      "source": [
        "# create scaler\n",
        "variables = x.columns.tolist()\n",
        "\n",
        "scaler = StandardScaler()\n",
        "scaler.fit(x[variables]) \n",
        "\n",
        "x = scaler.transform(x[variables])"
      ],
      "outputs": [],
      "execution_count": 10,
      "metadata": {
        "gather": {
          "logged": 1612548966979
        }
      }
    },
    {
      "cell_type": "code",
      "source": [
        "x = pd.DataFrame(x,columns=variables)\r\n"
      ],
      "outputs": [],
      "execution_count": 11,
      "metadata": {
        "collapsed": true,
        "jupyter": {
          "source_hidden": false,
          "outputs_hidden": false
        },
        "nteract": {
          "transient": {
            "deleting": false
          }
        },
        "gather": {
          "logged": 1612548969171
        }
      }
    },
    {
      "cell_type": "code",
      "source": [
        "from sklearn.model_selection import train_test_split\n",
        "\n",
        "x_train, x_test, y_train, y_test = train_test_split(x,y,\n",
        "                                                    test_size = 0.2,\n",
        "                                                    random_state=0)"
      ],
      "outputs": [],
      "execution_count": 12,
      "metadata": {
        "gather": {
          "logged": 1612548973856
        }
      }
    },
    {
      "cell_type": "code",
      "source": [
        "#bring them together them again\n",
        "dataset = pd.concat([x_train,y_train],axis=1)"
      ],
      "outputs": [],
      "execution_count": 13,
      "metadata": {
        "gather": {
          "logged": 1612548976176
        }
      }
    },
    {
      "cell_type": "code",
      "source": [
        "dataset.head()"
      ],
      "outputs": [
        {
          "output_type": "execute_result",
          "execution_count": 14,
          "data": {
            "text/plain": "        pclass       age     sibsp  parch      fare    age_NA  fare_NA  \\\n1118  0.841916 -0.349075 -0.479087 -0.445 -0.490240 -0.501432 -0.02765   \n44   -1.546098  0.891204 -0.479087 -0.445  1.956990 -0.501432 -0.02765   \n1072  0.841916 -0.116523 -0.479087 -0.445 -0.493947  1.994288 -0.02765   \n1130  0.841916 -0.891698 -0.479087 -0.445 -0.493141 -0.501432 -0.02765   \n574  -0.352091 -0.039005  0.481288 -0.445 -0.237445 -0.501432 -0.02765   \n\n      sex_male  cabin_Missing  cabin_Rare  embarked_Q  embarked_Rare  \\\n1118  0.743497       0.539377   -0.425920   -0.322040      -0.039118   \n44   -1.344995      -1.853992    2.347858   -0.322040      -0.039118   \n1072  0.743497       0.539377   -0.425920    3.105202      -0.039118   \n1130 -1.344995       0.539377   -0.425920   -0.322040      -0.039118   \n574   0.743497       0.539377   -0.425920   -0.322040      -0.039118   \n\n      embarked_S  title_Mr  title_Mrs  title_Rare  survived  \n1118    0.657394  0.852592   -0.42592   -0.274947         0  \n44     -1.521159 -1.172894   -0.42592   -0.274947         1  \n1072   -1.521159  0.852592   -0.42592   -0.274947         0  \n1130    0.657394 -1.172894   -0.42592   -0.274947         0  \n574     0.657394  0.852592   -0.42592   -0.274947         0  ",
            "text/html": "<div>\n<style scoped>\n    .dataframe tbody tr th:only-of-type {\n        vertical-align: middle;\n    }\n\n    .dataframe tbody tr th {\n        vertical-align: top;\n    }\n\n    .dataframe thead th {\n        text-align: right;\n    }\n</style>\n<table border=\"1\" class=\"dataframe\">\n  <thead>\n    <tr style=\"text-align: right;\">\n      <th></th>\n      <th>pclass</th>\n      <th>age</th>\n      <th>sibsp</th>\n      <th>parch</th>\n      <th>fare</th>\n      <th>age_NA</th>\n      <th>fare_NA</th>\n      <th>sex_male</th>\n      <th>cabin_Missing</th>\n      <th>cabin_Rare</th>\n      <th>embarked_Q</th>\n      <th>embarked_Rare</th>\n      <th>embarked_S</th>\n      <th>title_Mr</th>\n      <th>title_Mrs</th>\n      <th>title_Rare</th>\n      <th>survived</th>\n    </tr>\n  </thead>\n  <tbody>\n    <tr>\n      <th>1118</th>\n      <td>0.841916</td>\n      <td>-0.349075</td>\n      <td>-0.479087</td>\n      <td>-0.445</td>\n      <td>-0.490240</td>\n      <td>-0.501432</td>\n      <td>-0.02765</td>\n      <td>0.743497</td>\n      <td>0.539377</td>\n      <td>-0.425920</td>\n      <td>-0.322040</td>\n      <td>-0.039118</td>\n      <td>0.657394</td>\n      <td>0.852592</td>\n      <td>-0.42592</td>\n      <td>-0.274947</td>\n      <td>0</td>\n    </tr>\n    <tr>\n      <th>44</th>\n      <td>-1.546098</td>\n      <td>0.891204</td>\n      <td>-0.479087</td>\n      <td>-0.445</td>\n      <td>1.956990</td>\n      <td>-0.501432</td>\n      <td>-0.02765</td>\n      <td>-1.344995</td>\n      <td>-1.853992</td>\n      <td>2.347858</td>\n      <td>-0.322040</td>\n      <td>-0.039118</td>\n      <td>-1.521159</td>\n      <td>-1.172894</td>\n      <td>-0.42592</td>\n      <td>-0.274947</td>\n      <td>1</td>\n    </tr>\n    <tr>\n      <th>1072</th>\n      <td>0.841916</td>\n      <td>-0.116523</td>\n      <td>-0.479087</td>\n      <td>-0.445</td>\n      <td>-0.493947</td>\n      <td>1.994288</td>\n      <td>-0.02765</td>\n      <td>0.743497</td>\n      <td>0.539377</td>\n      <td>-0.425920</td>\n      <td>3.105202</td>\n      <td>-0.039118</td>\n      <td>-1.521159</td>\n      <td>0.852592</td>\n      <td>-0.42592</td>\n      <td>-0.274947</td>\n      <td>0</td>\n    </tr>\n    <tr>\n      <th>1130</th>\n      <td>0.841916</td>\n      <td>-0.891698</td>\n      <td>-0.479087</td>\n      <td>-0.445</td>\n      <td>-0.493141</td>\n      <td>-0.501432</td>\n      <td>-0.02765</td>\n      <td>-1.344995</td>\n      <td>0.539377</td>\n      <td>-0.425920</td>\n      <td>-0.322040</td>\n      <td>-0.039118</td>\n      <td>0.657394</td>\n      <td>-1.172894</td>\n      <td>-0.42592</td>\n      <td>-0.274947</td>\n      <td>0</td>\n    </tr>\n    <tr>\n      <th>574</th>\n      <td>-0.352091</td>\n      <td>-0.039005</td>\n      <td>0.481288</td>\n      <td>-0.445</td>\n      <td>-0.237445</td>\n      <td>-0.501432</td>\n      <td>-0.02765</td>\n      <td>0.743497</td>\n      <td>0.539377</td>\n      <td>-0.425920</td>\n      <td>-0.322040</td>\n      <td>-0.039118</td>\n      <td>0.657394</td>\n      <td>0.852592</td>\n      <td>-0.42592</td>\n      <td>-0.274947</td>\n      <td>0</td>\n    </tr>\n  </tbody>\n</table>\n</div>"
          },
          "metadata": {}
        }
      ],
      "execution_count": 14,
      "metadata": {
        "gather": {
          "logged": 1612548979219
        }
      }
    },
    {
      "cell_type": "code",
      "source": [
        "#To train the model we need a TabularDataset and not a dataframe, therefore the current df will be converterd \n",
        "#into a TabularDataset:\n",
        "\n",
        "#Convert the dataframe into a csv\n",
        "local_path = 'prepared.csv'\n",
        "\n",
        "#Save it locally\n",
        "dataset.to_csv(local_path,index=None)\n",
        "\n",
        "#Generate the a datastore object which is the the default datastore\n",
        "datastore = ws.get_default_datastore()"
      ],
      "outputs": [],
      "execution_count": 15,
      "metadata": {
        "gather": {
          "logged": 1612548991991
        }
      }
    },
    {
      "cell_type": "code",
      "source": [
        "#Upload the dataframe which was previosly converted into a csv\n",
        "datastore.upload(src_dir='.', target_path='data')"
      ],
      "outputs": [
        {
          "output_type": "stream",
          "name": "stdout",
          "text": [
            "Uploading an estimated of 9 files\n",
            "Uploading ./automl2.ipynb\n",
            "Uploaded ./automl2.ipynb, 1 files out of an estimated total of 9\n",
            "Uploading ./prepared.csv\n",
            "Uploaded ./prepared.csv, 2 files out of an estimated total of 9\n",
            "Uploading ./automl2.ipynb.amltmp\n",
            "Uploaded ./automl2.ipynb.amltmp, 3 files out of an estimated total of 9\n",
            "Uploading ./hyperparameter_tuning.ipynb\n",
            "Uploaded ./hyperparameter_tuning.ipynb, 4 files out of an estimated total of 9\n",
            "Uploading ./pre_preprocess.py\n",
            "Uploaded ./pre_preprocess.py, 5 files out of an estimated total of 9\n",
            "Uploading ./train.py\n",
            "Uploaded ./train.py, 6 files out of an estimated total of 9\n",
            "Uploading ./.ipynb_aml_checkpoints/automl2-checkpoint2021-1-5-17-52-6.ipynb\n",
            "Uploaded ./.ipynb_aml_checkpoints/automl2-checkpoint2021-1-5-17-52-6.ipynb, 7 files out of an estimated total of 9\n",
            "Uploading ./__pycache__/pre_preprocess.cpython-36.pyc\n",
            "Uploaded ./__pycache__/pre_preprocess.cpython-36.pyc, 8 files out of an estimated total of 9\n",
            "Uploading ./__pycache__/train.cpython-36.pyc\n",
            "Uploaded ./__pycache__/train.cpython-36.pyc, 9 files out of an estimated total of 9\n",
            "Uploaded 9 files\n"
          ]
        },
        {
          "output_type": "execute_result",
          "execution_count": 16,
          "data": {
            "text/plain": "$AZUREML_DATAREFERENCE_62df14bf0c1c41bb8fda1ce6d8def34f"
          },
          "metadata": {}
        }
      ],
      "execution_count": 16,
      "metadata": {
        "gather": {
          "logged": 1612548995008
        }
      }
    },
    {
      "cell_type": "code",
      "source": [
        "#For the sake of checking; check the path\n",
        "datastore.path()"
      ],
      "outputs": [
        {
          "output_type": "execute_result",
          "execution_count": 17,
          "data": {
            "text/plain": "$AZUREML_DATAREFERENCE_workspaceblobstore"
          },
          "metadata": {}
        }
      ],
      "execution_count": 17,
      "metadata": {
        "gather": {
          "logged": 1612548999668
        }
      }
    },
    {
      "cell_type": "code",
      "source": [
        "#Now the uploaded file will be transformed into a Tabular dataset and store in a varible named 'training_dataset'\n",
        "training_dataset = Dataset.Tabular.from_delimited_files(path= [(datastore,('data/prepared.csv'))])"
      ],
      "outputs": [],
      "execution_count": 18,
      "metadata": {
        "gather": {
          "logged": 1612549006612
        }
      }
    },
    {
      "cell_type": "code",
      "source": [
        "#let's visualize the data:\n",
        "training_dataset.to_pandas_dataframe().head()"
      ],
      "outputs": [
        {
          "output_type": "execute_result",
          "execution_count": 19,
          "data": {
            "text/plain": "     pclass       age     sibsp  parch      fare    age_NA  fare_NA  sex_male  \\\n0  0.841916 -0.349075 -0.479087 -0.445 -0.490240 -0.501432 -0.02765  0.743497   \n1 -1.546098  0.891204 -0.479087 -0.445  1.956990 -0.501432 -0.02765 -1.344995   \n2  0.841916 -0.116523 -0.479087 -0.445 -0.493947  1.994288 -0.02765  0.743497   \n3  0.841916 -0.891698 -0.479087 -0.445 -0.493141 -0.501432 -0.02765 -1.344995   \n4 -0.352091 -0.039005  0.481288 -0.445 -0.237445 -0.501432 -0.02765  0.743497   \n\n   cabin_Missing  cabin_Rare  embarked_Q  embarked_Rare  embarked_S  title_Mr  \\\n0       0.539377   -0.425920   -0.322040      -0.039118    0.657394  0.852592   \n1      -1.853992    2.347858   -0.322040      -0.039118   -1.521159 -1.172894   \n2       0.539377   -0.425920    3.105202      -0.039118   -1.521159  0.852592   \n3       0.539377   -0.425920   -0.322040      -0.039118    0.657394 -1.172894   \n4       0.539377   -0.425920   -0.322040      -0.039118    0.657394  0.852592   \n\n   title_Mrs  title_Rare  survived  \n0   -0.42592   -0.274947         0  \n1   -0.42592   -0.274947         1  \n2   -0.42592   -0.274947         0  \n3   -0.42592   -0.274947         0  \n4   -0.42592   -0.274947         0  ",
            "text/html": "<div>\n<style scoped>\n    .dataframe tbody tr th:only-of-type {\n        vertical-align: middle;\n    }\n\n    .dataframe tbody tr th {\n        vertical-align: top;\n    }\n\n    .dataframe thead th {\n        text-align: right;\n    }\n</style>\n<table border=\"1\" class=\"dataframe\">\n  <thead>\n    <tr style=\"text-align: right;\">\n      <th></th>\n      <th>pclass</th>\n      <th>age</th>\n      <th>sibsp</th>\n      <th>parch</th>\n      <th>fare</th>\n      <th>age_NA</th>\n      <th>fare_NA</th>\n      <th>sex_male</th>\n      <th>cabin_Missing</th>\n      <th>cabin_Rare</th>\n      <th>embarked_Q</th>\n      <th>embarked_Rare</th>\n      <th>embarked_S</th>\n      <th>title_Mr</th>\n      <th>title_Mrs</th>\n      <th>title_Rare</th>\n      <th>survived</th>\n    </tr>\n  </thead>\n  <tbody>\n    <tr>\n      <th>0</th>\n      <td>0.841916</td>\n      <td>-0.349075</td>\n      <td>-0.479087</td>\n      <td>-0.445</td>\n      <td>-0.490240</td>\n      <td>-0.501432</td>\n      <td>-0.02765</td>\n      <td>0.743497</td>\n      <td>0.539377</td>\n      <td>-0.425920</td>\n      <td>-0.322040</td>\n      <td>-0.039118</td>\n      <td>0.657394</td>\n      <td>0.852592</td>\n      <td>-0.42592</td>\n      <td>-0.274947</td>\n      <td>0</td>\n    </tr>\n    <tr>\n      <th>1</th>\n      <td>-1.546098</td>\n      <td>0.891204</td>\n      <td>-0.479087</td>\n      <td>-0.445</td>\n      <td>1.956990</td>\n      <td>-0.501432</td>\n      <td>-0.02765</td>\n      <td>-1.344995</td>\n      <td>-1.853992</td>\n      <td>2.347858</td>\n      <td>-0.322040</td>\n      <td>-0.039118</td>\n      <td>-1.521159</td>\n      <td>-1.172894</td>\n      <td>-0.42592</td>\n      <td>-0.274947</td>\n      <td>1</td>\n    </tr>\n    <tr>\n      <th>2</th>\n      <td>0.841916</td>\n      <td>-0.116523</td>\n      <td>-0.479087</td>\n      <td>-0.445</td>\n      <td>-0.493947</td>\n      <td>1.994288</td>\n      <td>-0.02765</td>\n      <td>0.743497</td>\n      <td>0.539377</td>\n      <td>-0.425920</td>\n      <td>3.105202</td>\n      <td>-0.039118</td>\n      <td>-1.521159</td>\n      <td>0.852592</td>\n      <td>-0.42592</td>\n      <td>-0.274947</td>\n      <td>0</td>\n    </tr>\n    <tr>\n      <th>3</th>\n      <td>0.841916</td>\n      <td>-0.891698</td>\n      <td>-0.479087</td>\n      <td>-0.445</td>\n      <td>-0.493141</td>\n      <td>-0.501432</td>\n      <td>-0.02765</td>\n      <td>-1.344995</td>\n      <td>0.539377</td>\n      <td>-0.425920</td>\n      <td>-0.322040</td>\n      <td>-0.039118</td>\n      <td>0.657394</td>\n      <td>-1.172894</td>\n      <td>-0.42592</td>\n      <td>-0.274947</td>\n      <td>0</td>\n    </tr>\n    <tr>\n      <th>4</th>\n      <td>-0.352091</td>\n      <td>-0.039005</td>\n      <td>0.481288</td>\n      <td>-0.445</td>\n      <td>-0.237445</td>\n      <td>-0.501432</td>\n      <td>-0.02765</td>\n      <td>0.743497</td>\n      <td>0.539377</td>\n      <td>-0.425920</td>\n      <td>-0.322040</td>\n      <td>-0.039118</td>\n      <td>0.657394</td>\n      <td>0.852592</td>\n      <td>-0.42592</td>\n      <td>-0.274947</td>\n      <td>0</td>\n    </tr>\n  </tbody>\n</table>\n</div>"
          },
          "metadata": {}
        }
      ],
      "execution_count": 19,
      "metadata": {
        "gather": {
          "logged": 1612549011138
        }
      }
    },
    {
      "cell_type": "markdown",
      "source": [
        "## AutoML Configuration\n",
        "\n",
        "TODO: Explain why you chose the automl settings and cofiguration you used below."
      ],
      "metadata": {}
    },
    {
      "cell_type": "code",
      "source": [
        "#Create the automl settings which will be used as argurments in the automl config\n",
        "automl_settings = {\n",
        "    \"experiment_timeout_minutes\": 20,\n",
        "    \"max_concurrent_iterations\": 5,\n",
        "    \"primary_metric\" : 'accuracy'\n",
        "}\n",
        "\n",
        "#Create the automl_config\n",
        "automl_config = AutoMLConfig(compute_target=compute_target,\n",
        "                             task = \"classification\",\n",
        "                             training_data=training_dataset,\n",
        "                             label_column_name=\"survived\",   \n",
        "                             path = project_folder,\n",
        "                             enable_early_stopping= True,\n",
        "                             featurization= 'auto',\n",
        "                             debug_log = \"automl_errors.log\",\n",
        "                             **automl_settings\n",
        "                            )"
      ],
      "outputs": [],
      "execution_count": 20,
      "metadata": {
        "gather": {
          "logged": 1612549081717
        }
      }
    },
    {
      "cell_type": "code",
      "source": [
        "#New one\n",
        "#Original code\n",
        "# TODO: Submit your experiment\n",
        "#remote_run = experiment.submit(automl_config)\n",
        "automl_run = experiment.submit(automl_config,show_output=True)"
      ],
      "outputs": [
        {
          "output_type": "stream",
          "name": "stdout",
          "text": [
            "Running on remote.\n",
            "No run_configuration provided, running on auto-ml with default configuration\n",
            "Running on remote compute: auto-ml\n",
            "Parent Run ID: AutoML_0b31e7a1-a5f4-4cc3-bb7b-fcd2dceff51b\n",
            "\n",
            "Current status: FeaturesGeneration. Generating features for the dataset.\n",
            "Current status: ModelSelection. Beginning model selection.\n",
            "\n",
            "****************************************************************************************************\n",
            "DATA GUARDRAILS: \n",
            "\n",
            "TYPE:         Cross validation\n",
            "STATUS:       DONE\n",
            "DESCRIPTION:  Each iteration of the trained model was validated through cross-validation.\n",
            "              \n",
            "DETAILS:      \n",
            "+---------------------------------+\n",
            "|Number of folds                  |\n",
            "+=================================+\n",
            "|3                                |\n",
            "+---------------------------------+\n",
            "\n",
            "****************************************************************************************************\n",
            "\n",
            "TYPE:         Class balancing detection\n",
            "STATUS:       PASSED\n",
            "DESCRIPTION:  Your inputs were analyzed, and all classes are balanced in your training data.\n",
            "              Learn more about imbalanced data: https://aka.ms/AutomatedMLImbalancedData\n",
            "\n",
            "****************************************************************************************************\n",
            "\n",
            "TYPE:         Missing feature values imputation\n",
            "STATUS:       PASSED\n",
            "DESCRIPTION:  No feature missing values were detected in the training data.\n",
            "              Learn more about missing value imputation: https://aka.ms/AutomatedMLFeaturization\n",
            "\n",
            "****************************************************************************************************\n",
            "\n",
            "TYPE:         High cardinality feature detection\n",
            "STATUS:       PASSED\n",
            "DESCRIPTION:  Your inputs were analyzed, and no high cardinality features were detected.\n",
            "              Learn more about high cardinality feature handling: https://aka.ms/AutomatedMLFeaturization\n",
            "\n",
            "****************************************************************************************************\n",
            "\n",
            "****************************************************************************************************\n",
            "ITERATION: The iteration being evaluated.\n",
            "PIPELINE: A summary description of the pipeline being evaluated.\n",
            "DURATION: Time taken for the current iteration.\n",
            "METRIC: The result of computing score on the fitted pipeline.\n",
            "BEST: The best observed score thus far.\n",
            "****************************************************************************************************\n",
            "\n",
            " ITERATION   PIPELINE                                       DURATION      METRIC      BEST\n",
            "         0   MaxAbsScaler LightGBM                          0:00:50       0.7880    0.7880\n",
            "         1   MaxAbsScaler XGBoostClassifier                 0:00:49       0.8080    0.8080\n",
            "         2   MinMaxScaler RandomForest                      0:00:49       0.7927    0.8080\n",
            "         3   MinMaxScaler RandomForest                      0:01:02       0.7784    0.8080\n",
            "         4   MinMaxScaler RandomForest                      0:00:55       0.7927    0.8080\n",
            "         5   RobustScaler LightGBM                          0:00:53       0.7956    0.8080\n",
            "         6   SparseNormalizer XGBoostClassifier             0:00:54       0.8032    0.8080\n",
            "         7   MinMaxScaler SVM                               0:00:54       0.7975    0.8080\n",
            "         8   SparseNormalizer XGBoostClassifier             0:01:00       0.7851    0.8080\n",
            "         9   SparseNormalizer XGBoostClassifier             0:00:48       0.7861    0.8080\n",
            "        10   MaxAbsScaler GradientBoosting                  0:00:51       0.7899    0.8080\n",
            "        11   StandardScalerWrapper LightGBM                 0:00:54       0.8023    0.8080\n",
            "        12   StandardScalerWrapper RandomForest             0:00:52       0.7956    0.8080\n",
            "        13   MaxAbsScaler ExtremeRandomTrees                0:00:53       0.7985    0.8080\n",
            "        14   SparseNormalizer XGBoostClassifier             0:00:49       0.8032    0.8080\n",
            "        16   MinMaxScaler LightGBM                          0:00:46       0.8023    0.8080\n",
            "        18   MinMaxScaler LightGBM                          0:00:48       0.7899    0.8080\n",
            "        15   StandardScalerWrapper LightGBM                 0:01:01       0.7975    0.8080\n",
            "        17   MaxAbsScaler LightGBM                          0:00:51       0.7994    0.8080\n",
            "        19   MinMaxScaler LightGBM                          0:00:54       0.8147    0.8147\n",
            "        20   RobustScaler LightGBM                          0:00:50       0.8052    0.8147\n",
            "        21   StandardScalerWrapper LightGBM                 0:00:53       0.7975    0.8147\n",
            "        22   MaxAbsScaler ExtremeRandomTrees                0:00:49       0.7975    0.8147\n",
            "        23   SparseNormalizer LightGBM                      0:00:52       0.8032    0.8147\n",
            "        24   SparseNormalizer XGBoostClassifier             0:00:46       0.7918    0.8147\n",
            "        25   StandardScalerWrapper LightGBM                 0:00:52       0.6180    0.8147\n",
            "        26   StandardScalerWrapper LightGBM                 0:00:52       0.7851    0.8147\n",
            "        27   StandardScalerWrapper ExtremeRandomTrees       0:00:55       0.7641    0.8147\n",
            "        28   StandardScalerWrapper ExtremeRandomTrees       0:00:52       0.7794    0.8147\n",
            "        29   MaxAbsScaler ExtremeRandomTrees                0:00:53       0.7727    0.8147\n",
            "        30   MaxAbsScaler LightGBM                          0:01:01       0.7870    0.8147\n",
            "        31   RobustScaler LightGBM                          0:00:49       0.7746    0.8147\n",
            "        32   MaxAbsScaler LightGBM                          0:00:50       0.7927    0.8147\n",
            "        33   MinMaxScaler LightGBM                          0:00:50       0.8052    0.8147\n",
            "        34   StandardScalerWrapper XGBoostClassifier        0:00:52       0.8118    0.8147\n",
            "        35                                                  0:00:22          nan    0.8147\n",
            "        36                                                  0:00:20          nan    0.8147\n",
            "        37                                                  0:00:18          nan    0.8147\n",
            "        38    VotingEnsemble                                0:01:20       0.8214    0.8214\n",
            "        39    StackEnsemble                                 0:01:27       0.8099    0.8214\n"
          ]
        }
      ],
      "execution_count": 21,
      "metadata": {
        "gather": {
          "logged": 1612549982668
        },
        "jupyter": {
          "outputs_hidden": false,
          "source_hidden": false
        },
        "nteract": {
          "transient": {
            "deleting": false
          }
        }
      }
    },
    {
      "cell_type": "code",
      "source": [
        "from azureml.widgets import RunDetails"
      ],
      "outputs": [],
      "execution_count": 22,
      "metadata": {
        "collapsed": true,
        "jupyter": {
          "source_hidden": false,
          "outputs_hidden": false
        },
        "nteract": {
          "transient": {
            "deleting": false
          }
        },
        "gather": {
          "logged": 1612549982892
        }
      }
    },
    {
      "cell_type": "code",
      "source": [
        "RunDetails(automl_run).show()"
      ],
      "outputs": [
        {
          "output_type": "display_data",
          "data": {
            "text/plain": "_AutoMLWidget(widget_settings={'childWidgetDisplay': 'popup', 'send_telemetry': False, 'log_level': 'INFO', 's…",
            "application/vnd.jupyter.widget-view+json": {
              "version_major": 2,
              "version_minor": 0,
              "model_id": "000564ffc7094e74bdf9f439891c2b8f"
            }
          },
          "metadata": {}
        },
        {
          "output_type": "display_data",
          "data": {
            "application/aml.mini.widget.v1": "{\"status\": \"Completed\", \"workbench_run_details_uri\": \"https://ml.azure.com/experiments/automl-experiment-1/runs/AutoML_0b31e7a1-a5f4-4cc3-bb7b-fcd2dceff51b?wsid=/subscriptions/aa7cf8e8-d23f-4bce-a7b9-1f0b4e0ac8ee/resourcegroups/aml-quickstarts-137355/workspaces/quick-starts-ws-137355\", \"run_id\": \"AutoML_0b31e7a1-a5f4-4cc3-bb7b-fcd2dceff51b\", \"run_properties\": {\"run_id\": \"AutoML_0b31e7a1-a5f4-4cc3-bb7b-fcd2dceff51b\", \"created_utc\": \"2021-02-05T18:18:17.469816Z\", \"properties\": {\"num_iterations\": \"1000\", \"training_type\": \"TrainFull\", \"acquisition_function\": \"EI\", \"primary_metric\": \"accuracy\", \"train_split\": \"0\", \"acquisition_parameter\": \"0\", \"num_cross_validation\": null, \"target\": \"auto-ml\", \"AMLSettingsJsonString\": \"{\\\"path\\\":null,\\\"name\\\":\\\"automl-experiment-1\\\",\\\"subscription_id\\\":\\\"aa7cf8e8-d23f-4bce-a7b9-1f0b4e0ac8ee\\\",\\\"resource_group\\\":\\\"aml-quickstarts-137355\\\",\\\"workspace_name\\\":\\\"quick-starts-ws-137355\\\",\\\"region\\\":\\\"southcentralus\\\",\\\"compute_target\\\":\\\"auto-ml\\\",\\\"spark_service\\\":null,\\\"azure_service\\\":\\\"remote\\\",\\\"many_models\\\":false,\\\"pipeline_fetch_max_batch_size\\\":1,\\\"iterations\\\":1000,\\\"primary_metric\\\":\\\"accuracy\\\",\\\"task_type\\\":\\\"classification\\\",\\\"data_script\\\":null,\\\"validation_size\\\":0.0,\\\"n_cross_validations\\\":null,\\\"y_min\\\":null,\\\"y_max\\\":null,\\\"num_classes\\\":null,\\\"featurization\\\":\\\"auto\\\",\\\"_ignore_package_version_incompatibilities\\\":false,\\\"is_timeseries\\\":false,\\\"max_cores_per_iteration\\\":1,\\\"max_concurrent_iterations\\\":5,\\\"iteration_timeout_minutes\\\":null,\\\"mem_in_mb\\\":null,\\\"enforce_time_on_windows\\\":false,\\\"experiment_timeout_minutes\\\":20,\\\"experiment_exit_score\\\":null,\\\"whitelist_models\\\":null,\\\"blacklist_algos\\\":[\\\"TensorFlowLinearClassifier\\\",\\\"TensorFlowDNN\\\"],\\\"supported_models\\\":[\\\"MultinomialNaiveBayes\\\",\\\"RandomForest\\\",\\\"SGD\\\",\\\"GradientBoosting\\\",\\\"BernoulliNaiveBayes\\\",\\\"XGBoostClassifier\\\",\\\"KNN\\\",\\\"LinearSVM\\\",\\\"LightGBM\\\",\\\"AveragedPerceptronClassifier\\\",\\\"TensorFlowDNN\\\",\\\"ExtremeRandomTrees\\\",\\\"LogisticRegression\\\",\\\"DecisionTree\\\",\\\"SVM\\\",\\\"TensorFlowLinearClassifier\\\"],\\\"auto_blacklist\\\":true,\\\"blacklist_samples_reached\\\":false,\\\"exclude_nan_labels\\\":true,\\\"verbosity\\\":20,\\\"_debug_log\\\":\\\"azureml_automl.log\\\",\\\"show_warnings\\\":false,\\\"model_explainability\\\":true,\\\"service_url\\\":null,\\\"sdk_url\\\":null,\\\"sdk_packages\\\":null,\\\"enable_onnx_compatible_models\\\":false,\\\"enable_split_onnx_featurizer_estimator_models\\\":false,\\\"vm_type\\\":\\\"STANDARD_DS12_V2\\\",\\\"telemetry_verbosity\\\":20,\\\"send_telemetry\\\":true,\\\"enable_dnn\\\":false,\\\"scenario\\\":\\\"SDK-1.13.0\\\",\\\"environment_label\\\":null,\\\"force_text_dnn\\\":false,\\\"enable_feature_sweeping\\\":true,\\\"enable_early_stopping\\\":true,\\\"early_stopping_n_iters\\\":10,\\\"metrics\\\":null,\\\"enable_ensembling\\\":true,\\\"enable_stack_ensembling\\\":true,\\\"ensemble_iterations\\\":15,\\\"enable_tf\\\":false,\\\"enable_subsampling\\\":null,\\\"subsample_seed\\\":null,\\\"enable_nimbusml\\\":false,\\\"enable_streaming\\\":false,\\\"force_streaming\\\":false,\\\"track_child_runs\\\":true,\\\"allowed_private_models\\\":[],\\\"label_column_name\\\":\\\"survived\\\",\\\"weight_column_name\\\":null,\\\"cv_split_column_names\\\":null,\\\"enable_local_managed\\\":false,\\\"_local_managed_run_id\\\":null,\\\"cost_mode\\\":1,\\\"lag_length\\\":0,\\\"metric_operation\\\":\\\"maximize\\\",\\\"preprocess\\\":true}\", \"DataPrepJsonString\": \"{\\\\\\\"training_data\\\\\\\": \\\\\\\"{\\\\\\\\\\\\\\\"blocks\\\\\\\\\\\\\\\": [{\\\\\\\\\\\\\\\"id\\\\\\\\\\\\\\\": \\\\\\\\\\\\\\\"9b19a028-0696-472a-a779-a1f792fdc12b\\\\\\\\\\\\\\\", \\\\\\\\\\\\\\\"type\\\\\\\\\\\\\\\": \\\\\\\\\\\\\\\"Microsoft.DPrep.GetDatastoreFilesBlock\\\\\\\\\\\\\\\", \\\\\\\\\\\\\\\"arguments\\\\\\\\\\\\\\\": {\\\\\\\\\\\\\\\"datastores\\\\\\\\\\\\\\\": [{\\\\\\\\\\\\\\\"datastoreName\\\\\\\\\\\\\\\": \\\\\\\\\\\\\\\"workspaceblobstore\\\\\\\\\\\\\\\", \\\\\\\\\\\\\\\"path\\\\\\\\\\\\\\\": \\\\\\\\\\\\\\\"data/prepared.csv\\\\\\\\\\\\\\\", \\\\\\\\\\\\\\\"resourceGroup\\\\\\\\\\\\\\\": \\\\\\\\\\\\\\\"aml-quickstarts-137355\\\\\\\\\\\\\\\", \\\\\\\\\\\\\\\"subscription\\\\\\\\\\\\\\\": \\\\\\\\\\\\\\\"aa7cf8e8-d23f-4bce-a7b9-1f0b4e0ac8ee\\\\\\\\\\\\\\\", \\\\\\\\\\\\\\\"workspaceName\\\\\\\\\\\\\\\": \\\\\\\\\\\\\\\"quick-starts-ws-137355\\\\\\\\\\\\\\\"}]}, \\\\\\\\\\\\\\\"localData\\\\\\\\\\\\\\\": {}, \\\\\\\\\\\\\\\"isEnabled\\\\\\\\\\\\\\\": true, \\\\\\\\\\\\\\\"name\\\\\\\\\\\\\\\": null, \\\\\\\\\\\\\\\"annotation\\\\\\\\\\\\\\\": null}, {\\\\\\\\\\\\\\\"id\\\\\\\\\\\\\\\": \\\\\\\\\\\\\\\"e06fc3f4-98f1-45ad-b6e6-4f41c3b8e100\\\\\\\\\\\\\\\", \\\\\\\\\\\\\\\"type\\\\\\\\\\\\\\\": \\\\\\\\\\\\\\\"Microsoft.DPrep.ParseDelimitedBlock\\\\\\\\\\\\\\\", \\\\\\\\\\\\\\\"arguments\\\\\\\\\\\\\\\": {\\\\\\\\\\\\\\\"columnHeadersMode\\\\\\\\\\\\\\\": 3, \\\\\\\\\\\\\\\"fileEncoding\\\\\\\\\\\\\\\": 0, \\\\\\\\\\\\\\\"handleQuotedLineBreaks\\\\\\\\\\\\\\\": false, \\\\\\\\\\\\\\\"preview\\\\\\\\\\\\\\\": false, \\\\\\\\\\\\\\\"separator\\\\\\\\\\\\\\\": \\\\\\\\\\\\\\\",\\\\\\\\\\\\\\\", \\\\\\\\\\\\\\\"skipRows\\\\\\\\\\\\\\\": 0, \\\\\\\\\\\\\\\"skipRowsMode\\\\\\\\\\\\\\\": 0}, \\\\\\\\\\\\\\\"localData\\\\\\\\\\\\\\\": {}, \\\\\\\\\\\\\\\"isEnabled\\\\\\\\\\\\\\\": true, \\\\\\\\\\\\\\\"name\\\\\\\\\\\\\\\": null, \\\\\\\\\\\\\\\"annotation\\\\\\\\\\\\\\\": null}, {\\\\\\\\\\\\\\\"id\\\\\\\\\\\\\\\": \\\\\\\\\\\\\\\"9dc22385-7002-4bd5-aee7-5233bfca32f2\\\\\\\\\\\\\\\", \\\\\\\\\\\\\\\"type\\\\\\\\\\\\\\\": \\\\\\\\\\\\\\\"Microsoft.DPrep.DropColumnsBlock\\\\\\\\\\\\\\\", \\\\\\\\\\\\\\\"arguments\\\\\\\\\\\\\\\": {\\\\\\\\\\\\\\\"columns\\\\\\\\\\\\\\\": {\\\\\\\\\\\\\\\"type\\\\\\\\\\\\\\\": 0, \\\\\\\\\\\\\\\"details\\\\\\\\\\\\\\\": {\\\\\\\\\\\\\\\"selectedColumns\\\\\\\\\\\\\\\": [\\\\\\\\\\\\\\\"Path\\\\\\\\\\\\\\\"]}}}, \\\\\\\\\\\\\\\"localData\\\\\\\\\\\\\\\": {}, \\\\\\\\\\\\\\\"isEnabled\\\\\\\\\\\\\\\": true, \\\\\\\\\\\\\\\"name\\\\\\\\\\\\\\\": null, \\\\\\\\\\\\\\\"annotation\\\\\\\\\\\\\\\": null}, {\\\\\\\\\\\\\\\"id\\\\\\\\\\\\\\\": \\\\\\\\\\\\\\\"5fdb7f54-97e7-4824-a443-bf5087350192\\\\\\\\\\\\\\\", \\\\\\\\\\\\\\\"type\\\\\\\\\\\\\\\": \\\\\\\\\\\\\\\"Microsoft.DPrep.SetColumnTypesBlock\\\\\\\\\\\\\\\", \\\\\\\\\\\\\\\"arguments\\\\\\\\\\\\\\\": {\\\\\\\\\\\\\\\"columnConversion\\\\\\\\\\\\\\\": [{\\\\\\\\\\\\\\\"column\\\\\\\\\\\\\\\": {\\\\\\\\\\\\\\\"type\\\\\\\\\\\\\\\": 2, \\\\\\\\\\\\\\\"details\\\\\\\\\\\\\\\": {\\\\\\\\\\\\\\\"selectedColumn\\\\\\\\\\\\\\\": \\\\\\\\\\\\\\\"pclass\\\\\\\\\\\\\\\"}}, \\\\\\\\\\\\\\\"typeProperty\\\\\\\\\\\\\\\": 3}, {\\\\\\\\\\\\\\\"column\\\\\\\\\\\\\\\": {\\\\\\\\\\\\\\\"type\\\\\\\\\\\\\\\": 2, \\\\\\\\\\\\\\\"details\\\\\\\\\\\\\\\": {\\\\\\\\\\\\\\\"selectedColumn\\\\\\\\\\\\\\\": \\\\\\\\\\\\\\\"age\\\\\\\\\\\\\\\"}}, \\\\\\\\\\\\\\\"typeProperty\\\\\\\\\\\\\\\": 3}, {\\\\\\\\\\\\\\\"column\\\\\\\\\\\\\\\": {\\\\\\\\\\\\\\\"type\\\\\\\\\\\\\\\": 2, \\\\\\\\\\\\\\\"details\\\\\\\\\\\\\\\": {\\\\\\\\\\\\\\\"selectedColumn\\\\\\\\\\\\\\\": \\\\\\\\\\\\\\\"sibsp\\\\\\\\\\\\\\\"}}, \\\\\\\\\\\\\\\"typeProperty\\\\\\\\\\\\\\\": 3}, {\\\\\\\\\\\\\\\"column\\\\\\\\\\\\\\\": {\\\\\\\\\\\\\\\"type\\\\\\\\\\\\\\\": 2, \\\\\\\\\\\\\\\"details\\\\\\\\\\\\\\\": {\\\\\\\\\\\\\\\"selectedColumn\\\\\\\\\\\\\\\": \\\\\\\\\\\\\\\"parch\\\\\\\\\\\\\\\"}}, \\\\\\\\\\\\\\\"typeProperty\\\\\\\\\\\\\\\": 3}, {\\\\\\\\\\\\\\\"column\\\\\\\\\\\\\\\": {\\\\\\\\\\\\\\\"type\\\\\\\\\\\\\\\": 2, \\\\\\\\\\\\\\\"details\\\\\\\\\\\\\\\": {\\\\\\\\\\\\\\\"selectedColumn\\\\\\\\\\\\\\\": \\\\\\\\\\\\\\\"fare\\\\\\\\\\\\\\\"}}, \\\\\\\\\\\\\\\"typeProperty\\\\\\\\\\\\\\\": 3}, {\\\\\\\\\\\\\\\"column\\\\\\\\\\\\\\\": {\\\\\\\\\\\\\\\"type\\\\\\\\\\\\\\\": 2, \\\\\\\\\\\\\\\"details\\\\\\\\\\\\\\\": {\\\\\\\\\\\\\\\"selectedColumn\\\\\\\\\\\\\\\": \\\\\\\\\\\\\\\"age_NA\\\\\\\\\\\\\\\"}}, \\\\\\\\\\\\\\\"typeProperty\\\\\\\\\\\\\\\": 3}, {\\\\\\\\\\\\\\\"column\\\\\\\\\\\\\\\": {\\\\\\\\\\\\\\\"type\\\\\\\\\\\\\\\": 2, \\\\\\\\\\\\\\\"details\\\\\\\\\\\\\\\": {\\\\\\\\\\\\\\\"selectedColumn\\\\\\\\\\\\\\\": \\\\\\\\\\\\\\\"fare_NA\\\\\\\\\\\\\\\"}}, \\\\\\\\\\\\\\\"typeProperty\\\\\\\\\\\\\\\": 3}, {\\\\\\\\\\\\\\\"column\\\\\\\\\\\\\\\": {\\\\\\\\\\\\\\\"type\\\\\\\\\\\\\\\": 2, \\\\\\\\\\\\\\\"details\\\\\\\\\\\\\\\": {\\\\\\\\\\\\\\\"selectedColumn\\\\\\\\\\\\\\\": \\\\\\\\\\\\\\\"sex_male\\\\\\\\\\\\\\\"}}, \\\\\\\\\\\\\\\"typeProperty\\\\\\\\\\\\\\\": 3}, {\\\\\\\\\\\\\\\"column\\\\\\\\\\\\\\\": {\\\\\\\\\\\\\\\"type\\\\\\\\\\\\\\\": 2, \\\\\\\\\\\\\\\"details\\\\\\\\\\\\\\\": {\\\\\\\\\\\\\\\"selectedColumn\\\\\\\\\\\\\\\": \\\\\\\\\\\\\\\"cabin_Missing\\\\\\\\\\\\\\\"}}, \\\\\\\\\\\\\\\"typeProperty\\\\\\\\\\\\\\\": 3}, {\\\\\\\\\\\\\\\"column\\\\\\\\\\\\\\\": {\\\\\\\\\\\\\\\"type\\\\\\\\\\\\\\\": 2, \\\\\\\\\\\\\\\"details\\\\\\\\\\\\\\\": {\\\\\\\\\\\\\\\"selectedColumn\\\\\\\\\\\\\\\": \\\\\\\\\\\\\\\"cabin_Rare\\\\\\\\\\\\\\\"}}, \\\\\\\\\\\\\\\"typeProperty\\\\\\\\\\\\\\\": 3}, {\\\\\\\\\\\\\\\"column\\\\\\\\\\\\\\\": {\\\\\\\\\\\\\\\"type\\\\\\\\\\\\\\\": 2, \\\\\\\\\\\\\\\"details\\\\\\\\\\\\\\\": {\\\\\\\\\\\\\\\"selectedColumn\\\\\\\\\\\\\\\": \\\\\\\\\\\\\\\"embarked_Q\\\\\\\\\\\\\\\"}}, \\\\\\\\\\\\\\\"typeProperty\\\\\\\\\\\\\\\": 3}, {\\\\\\\\\\\\\\\"column\\\\\\\\\\\\\\\": {\\\\\\\\\\\\\\\"type\\\\\\\\\\\\\\\": 2, \\\\\\\\\\\\\\\"details\\\\\\\\\\\\\\\": {\\\\\\\\\\\\\\\"selectedColumn\\\\\\\\\\\\\\\": \\\\\\\\\\\\\\\"embarked_Rare\\\\\\\\\\\\\\\"}}, \\\\\\\\\\\\\\\"typeProperty\\\\\\\\\\\\\\\": 3}, {\\\\\\\\\\\\\\\"column\\\\\\\\\\\\\\\": {\\\\\\\\\\\\\\\"type\\\\\\\\\\\\\\\": 2, \\\\\\\\\\\\\\\"details\\\\\\\\\\\\\\\": {\\\\\\\\\\\\\\\"selectedColumn\\\\\\\\\\\\\\\": \\\\\\\\\\\\\\\"embarked_S\\\\\\\\\\\\\\\"}}, \\\\\\\\\\\\\\\"typeProperty\\\\\\\\\\\\\\\": 3}, {\\\\\\\\\\\\\\\"column\\\\\\\\\\\\\\\": {\\\\\\\\\\\\\\\"type\\\\\\\\\\\\\\\": 2, \\\\\\\\\\\\\\\"details\\\\\\\\\\\\\\\": {\\\\\\\\\\\\\\\"selectedColumn\\\\\\\\\\\\\\\": \\\\\\\\\\\\\\\"title_Mr\\\\\\\\\\\\\\\"}}, \\\\\\\\\\\\\\\"typeProperty\\\\\\\\\\\\\\\": 3}, {\\\\\\\\\\\\\\\"column\\\\\\\\\\\\\\\": {\\\\\\\\\\\\\\\"type\\\\\\\\\\\\\\\": 2, \\\\\\\\\\\\\\\"details\\\\\\\\\\\\\\\": {\\\\\\\\\\\\\\\"selectedColumn\\\\\\\\\\\\\\\": \\\\\\\\\\\\\\\"title_Mrs\\\\\\\\\\\\\\\"}}, \\\\\\\\\\\\\\\"typeProperty\\\\\\\\\\\\\\\": 3}, {\\\\\\\\\\\\\\\"column\\\\\\\\\\\\\\\": {\\\\\\\\\\\\\\\"type\\\\\\\\\\\\\\\": 2, \\\\\\\\\\\\\\\"details\\\\\\\\\\\\\\\": {\\\\\\\\\\\\\\\"selectedColumn\\\\\\\\\\\\\\\": \\\\\\\\\\\\\\\"title_Rare\\\\\\\\\\\\\\\"}}, \\\\\\\\\\\\\\\"typeProperty\\\\\\\\\\\\\\\": 3}, {\\\\\\\\\\\\\\\"column\\\\\\\\\\\\\\\": {\\\\\\\\\\\\\\\"type\\\\\\\\\\\\\\\": 2, \\\\\\\\\\\\\\\"details\\\\\\\\\\\\\\\": {\\\\\\\\\\\\\\\"selectedColumn\\\\\\\\\\\\\\\": \\\\\\\\\\\\\\\"survived\\\\\\\\\\\\\\\"}}, \\\\\\\\\\\\\\\"typeProperty\\\\\\\\\\\\\\\": 2}]}, \\\\\\\\\\\\\\\"localData\\\\\\\\\\\\\\\": {}, \\\\\\\\\\\\\\\"isEnabled\\\\\\\\\\\\\\\": true, \\\\\\\\\\\\\\\"name\\\\\\\\\\\\\\\": null, \\\\\\\\\\\\\\\"annotation\\\\\\\\\\\\\\\": null}], \\\\\\\\\\\\\\\"inspectors\\\\\\\\\\\\\\\": [], \\\\\\\\\\\\\\\"meta\\\\\\\\\\\\\\\": {\\\\\\\\\\\\\\\"savedDatasetId\\\\\\\\\\\\\\\": \\\\\\\\\\\\\\\"0219409f-db4b-4f8c-8938-4bea05701c0c\\\\\\\\\\\\\\\", \\\\\\\\\\\\\\\"datasetType\\\\\\\\\\\\\\\": \\\\\\\\\\\\\\\"tabular\\\\\\\\\\\\\\\", \\\\\\\\\\\\\\\"subscriptionId\\\\\\\\\\\\\\\": \\\\\\\\\\\\\\\"aa7cf8e8-d23f-4bce-a7b9-1f0b4e0ac8ee\\\\\\\\\\\\\\\", \\\\\\\\\\\\\\\"workspaceId\\\\\\\\\\\\\\\": \\\\\\\\\\\\\\\"5f88f58c-16b5-4695-ab59-9a425b03c5f5\\\\\\\\\\\\\\\", \\\\\\\\\\\\\\\"workspaceLocation\\\\\\\\\\\\\\\": \\\\\\\\\\\\\\\"southcentralus\\\\\\\\\\\\\\\"}}\\\\\\\", \\\\\\\"activities\\\\\\\": 0}\", \"EnableSubsampling\": null, \"runTemplate\": \"AutoML\", \"azureml.runsource\": \"automl\", \"display_task_type\": \"classification\", \"dependencies_versions\": \"{\\\"azureml-widgets\\\": \\\"1.20.0\\\", \\\"azureml-train\\\": \\\"1.20.0\\\", \\\"azureml-train-restclients-hyperdrive\\\": \\\"1.20.0\\\", \\\"azureml-train-core\\\": \\\"1.20.0\\\", \\\"azureml-train-automl\\\": \\\"1.20.0\\\", \\\"azureml-train-automl-runtime\\\": \\\"1.20.0\\\", \\\"azureml-train-automl-client\\\": \\\"1.20.0\\\", \\\"azureml-tensorboard\\\": \\\"1.20.0\\\", \\\"azureml-telemetry\\\": \\\"1.20.0\\\", \\\"azureml-sdk\\\": \\\"1.20.0\\\", \\\"azureml-samples\\\": \\\"0+unknown\\\", \\\"azureml-pipeline\\\": \\\"1.20.0\\\", \\\"azureml-pipeline-steps\\\": \\\"1.20.0\\\", \\\"azureml-pipeline-core\\\": \\\"1.20.0\\\", \\\"azureml-opendatasets\\\": \\\"1.20.0\\\", \\\"azureml-model-management-sdk\\\": \\\"1.0.1b6.post1\\\", \\\"azureml-mlflow\\\": \\\"1.20.0.post1\\\", \\\"azureml-interpret\\\": \\\"1.20.0\\\", \\\"azureml-explain-model\\\": \\\"1.20.0\\\", \\\"azureml-defaults\\\": \\\"1.20.0\\\", \\\"azureml-dataset-runtime\\\": \\\"1.20.0\\\", \\\"azureml-dataprep\\\": \\\"2.7.3\\\", \\\"azureml-dataprep-rslex\\\": \\\"1.5.0\\\", \\\"azureml-dataprep-native\\\": \\\"27.0.0\\\", \\\"azureml-datadrift\\\": \\\"1.20.0\\\", \\\"azureml-core\\\": \\\"1.20.0\\\", \\\"azureml-contrib-services\\\": \\\"1.20.0\\\", \\\"azureml-contrib-server\\\": \\\"1.20.0\\\", \\\"azureml-contrib-reinforcementlearning\\\": \\\"1.20.0\\\", \\\"azureml-contrib-pipeline-steps\\\": \\\"1.20.0\\\", \\\"azureml-contrib-notebook\\\": \\\"1.20.0\\\", \\\"azureml-contrib-interpret\\\": \\\"1.20.0\\\", \\\"azureml-contrib-gbdt\\\": \\\"1.20.0\\\", \\\"azureml-contrib-fairness\\\": \\\"1.20.0\\\", \\\"azureml-contrib-dataset\\\": \\\"1.20.0\\\", \\\"azureml-cli-common\\\": \\\"1.20.0\\\", \\\"azureml-automl-runtime\\\": \\\"1.20.0\\\", \\\"azureml-automl-core\\\": \\\"1.20.0\\\", \\\"azureml-accel-models\\\": \\\"1.20.0\\\"}\", \"_aml_system_scenario_identification\": \"Remote.Parent\", \"ClientType\": \"SDK\", \"environment_cpu_name\": \"AzureML-AutoML\", \"environment_cpu_label\": \"prod\", \"environment_gpu_name\": \"AzureML-AutoML-GPU\", \"environment_gpu_label\": \"prod\", \"root_attribution\": \"automl\", \"attribution\": \"AutoML\", \"Orchestrator\": \"AutoML\", \"CancelUri\": \"https://southcentralus.experiments.azureml.net/jasmine/v1.0/subscriptions/aa7cf8e8-d23f-4bce-a7b9-1f0b4e0ac8ee/resourceGroups/aml-quickstarts-137355/providers/Microsoft.MachineLearningServices/workspaces/quick-starts-ws-137355/experimentids/516834a0-1bfb-45b2-8aa0-7e6141f8b66d/cancel/AutoML_0b31e7a1-a5f4-4cc3-bb7b-fcd2dceff51b\", \"ClientSdkVersion\": \"1.21.0\", \"snapshotId\": \"00000000-0000-0000-0000-000000000000\", \"SetupRunId\": \"AutoML_0b31e7a1-a5f4-4cc3-bb7b-fcd2dceff51b_setup\", \"SetupRunContainerId\": \"dcid.AutoML_0b31e7a1-a5f4-4cc3-bb7b-fcd2dceff51b_setup\", \"FeaturizationRunJsonPath\": \"featurizer_container.json\", \"FeaturizationRunId\": \"AutoML_0b31e7a1-a5f4-4cc3-bb7b-fcd2dceff51b_featurize\", \"ProblemInfoJsonString\": \"{\\\"dataset_num_categorical\\\": 0, \\\"is_sparse\\\": false, \\\"subsampling\\\": false, \\\"dataset_classes\\\": 2, \\\"dataset_features\\\": 16, \\\"dataset_samples\\\": 1047, \\\"single_frequency_class_detected\\\": false}\", \"ModelExplainRunId\": \"AutoML_0b31e7a1-a5f4-4cc3-bb7b-fcd2dceff51b_ModelExplain\"}, \"tags\": {\"model_explain_run\": \"best_run\", \"_aml_system_azureml.automlComponent\": \"AutoML\", \"pipeline_id\": \"\", \"score\": \"\", \"predicted_cost\": \"\", \"fit_time\": \"\", \"training_percent\": \"\", \"iteration\": \"\", \"run_preprocessor\": \"\", \"run_algorithm\": \"\", \"dynamic_whitelisting_iterations\": \"<25>;<30>;<35>;\", \"automl_best_child_run_id\": \"AutoML_0b31e7a1-a5f4-4cc3-bb7b-fcd2dceff51b_38\", \"model_explain_best_run_child_id\": \"AutoML_0b31e7a1-a5f4-4cc3-bb7b-fcd2dceff51b_38\"}, \"end_time_utc\": \"2021-02-05T18:32:47.986261Z\", \"status\": \"Completed\", \"log_files\": {}, \"log_groups\": [], \"run_duration\": \"0:14:30\"}, \"child_runs\": [{\"run_id\": \"AutoML_0b31e7a1-a5f4-4cc3-bb7b-fcd2dceff51b_0\", \"run_number\": 5, \"metric\": null, \"status\": \"Completed\", \"run_type\": \"azureml.scriptrun\", \"training_percent\": \"100\", \"start_time\": \"2021-02-05T18:22:36.368252Z\", \"end_time\": \"2021-02-05T18:23:26.37994Z\", \"created_time\": \"2021-02-05T18:22:22.143245Z\", \"created_time_dt\": \"2021-02-05T18:22:22.143245Z\", \"duration\": \"0:01:04\", \"iteration\": \"0\", \"goal\": \"accuracy_max\", \"run_name\": \"MaxAbsScaler, LightGBM\", \"run_properties\": \"copy=True\", \"primary_metric\": 0.78796562, \"best_metric\": 0.78796562}, {\"run_id\": \"AutoML_0b31e7a1-a5f4-4cc3-bb7b-fcd2dceff51b_4\", \"run_number\": 6, \"metric\": null, \"status\": \"Completed\", \"run_type\": \"azureml.scriptrun\", \"training_percent\": \"100\", \"start_time\": \"2021-02-05T18:22:34.548396Z\", \"end_time\": \"2021-02-05T18:23:29.258398Z\", \"created_time\": \"2021-02-05T18:22:22.154986Z\", \"created_time_dt\": \"2021-02-05T18:22:22.154986Z\", \"duration\": \"0:01:07\", \"iteration\": \"4\", \"goal\": \"accuracy_max\", \"run_name\": \"MinMaxScaler, RandomForest\", \"run_properties\": \"copy=True, feature_range=(0, 1\", \"primary_metric\": 0.79274117, \"best_metric\": 0.80802292}, {\"run_id\": \"AutoML_0b31e7a1-a5f4-4cc3-bb7b-fcd2dceff51b_3\", \"run_number\": 7, \"metric\": null, \"status\": \"Completed\", \"run_type\": \"azureml.scriptrun\", \"training_percent\": \"100\", \"start_time\": \"2021-02-05T18:22:36.193951Z\", \"end_time\": \"2021-02-05T18:23:37.85741Z\", \"created_time\": \"2021-02-05T18:22:22.181601Z\", \"created_time_dt\": \"2021-02-05T18:22:22.181601Z\", \"duration\": \"0:01:15\", \"iteration\": \"3\", \"goal\": \"accuracy_max\", \"run_name\": \"MinMaxScaler, RandomForest\", \"run_properties\": \"copy=True, feature_range=(0, 1\", \"primary_metric\": 0.77841452, \"best_metric\": 0.80802292}, {\"run_id\": \"AutoML_0b31e7a1-a5f4-4cc3-bb7b-fcd2dceff51b_2\", \"run_number\": 8, \"metric\": null, \"status\": \"Completed\", \"run_type\": \"azureml.scriptrun\", \"training_percent\": \"100\", \"start_time\": \"2021-02-05T18:22:35.946308Z\", \"end_time\": \"2021-02-05T18:23:24.582074Z\", \"created_time\": \"2021-02-05T18:22:22.247034Z\", \"created_time_dt\": \"2021-02-05T18:22:22.247034Z\", \"duration\": \"0:01:02\", \"iteration\": \"2\", \"goal\": \"accuracy_max\", \"run_name\": \"MinMaxScaler, RandomForest\", \"run_properties\": \"copy=True, feature_range=(0, 1\", \"primary_metric\": 0.79274117, \"best_metric\": 0.80802292}, {\"run_id\": \"AutoML_0b31e7a1-a5f4-4cc3-bb7b-fcd2dceff51b_1\", \"run_number\": 9, \"metric\": null, \"status\": \"Completed\", \"run_type\": \"azureml.scriptrun\", \"training_percent\": \"100\", \"start_time\": \"2021-02-05T18:22:35.383166Z\", \"end_time\": \"2021-02-05T18:23:24.576422Z\", \"created_time\": \"2021-02-05T18:22:22.155455Z\", \"created_time_dt\": \"2021-02-05T18:22:22.155455Z\", \"duration\": \"0:01:02\", \"iteration\": \"1\", \"goal\": \"accuracy_max\", \"run_name\": \"MaxAbsScaler, XGBoostClassifier\", \"run_properties\": \"copy=True\", \"primary_metric\": 0.80802292, \"best_metric\": 0.80802292}, {\"run_id\": \"AutoML_0b31e7a1-a5f4-4cc3-bb7b-fcd2dceff51b_5\", \"run_number\": 10, \"metric\": null, \"status\": \"Completed\", \"run_type\": \"azureml.scriptrun\", \"training_percent\": \"100\", \"start_time\": \"2021-02-05T18:23:44.864744Z\", \"end_time\": \"2021-02-05T18:24:37.786745Z\", \"created_time\": \"2021-02-05T18:23:27.912138Z\", \"created_time_dt\": \"2021-02-05T18:23:27.912138Z\", \"duration\": \"0:01:09\", \"iteration\": \"5\", \"goal\": \"accuracy_max\", \"run_name\": \"RobustScaler, LightGBM\", \"run_properties\": \"copy=True, quantile_range=[10, 90], with_centering=False,\\n             with_scaling=True\", \"primary_metric\": 0.79560649, \"best_metric\": 0.80802292}, {\"run_id\": \"AutoML_0b31e7a1-a5f4-4cc3-bb7b-fcd2dceff51b_6\", \"run_number\": 11, \"metric\": null, \"status\": \"Completed\", \"run_type\": \"azureml.scriptrun\", \"training_percent\": \"100\", \"start_time\": \"2021-02-05T18:23:44.308192Z\", \"end_time\": \"2021-02-05T18:24:38.15243Z\", \"created_time\": \"2021-02-05T18:23:27.918433Z\", \"created_time_dt\": \"2021-02-05T18:23:27.918433Z\", \"duration\": \"0:01:10\", \"iteration\": \"6\", \"goal\": \"accuracy_max\", \"run_name\": \"SparseNormalizer, XGBoostClassifier\", \"run_properties\": \"<azureml.automl.runtime.shared.model_wrappers.SparseNormalizer object at 0x7f248d4e8ef0\", \"primary_metric\": 0.80324737, \"best_metric\": 0.80802292}, {\"run_id\": \"AutoML_0b31e7a1-a5f4-4cc3-bb7b-fcd2dceff51b_7\", \"run_number\": 12, \"metric\": null, \"status\": \"Completed\", \"run_type\": \"azureml.scriptrun\", \"training_percent\": \"100\", \"start_time\": \"2021-02-05T18:23:45.068504Z\", \"end_time\": \"2021-02-05T18:24:39.502748Z\", \"created_time\": \"2021-02-05T18:23:31.544898Z\", \"created_time_dt\": \"2021-02-05T18:23:31.544898Z\", \"duration\": \"0:01:07\", \"iteration\": \"7\", \"goal\": \"accuracy_max\", \"run_name\": \"MinMaxScaler, SVM\", \"run_properties\": \"copy=True, feature_range=(0, 1\", \"primary_metric\": 0.79751671, \"best_metric\": 0.80802292}, {\"run_id\": \"AutoML_0b31e7a1-a5f4-4cc3-bb7b-fcd2dceff51b_8\", \"run_number\": 13, \"metric\": null, \"status\": \"Completed\", \"run_type\": \"azureml.scriptrun\", \"training_percent\": \"100\", \"start_time\": \"2021-02-05T18:23:45.205768Z\", \"end_time\": \"2021-02-05T18:24:45.324505Z\", \"created_time\": \"2021-02-05T18:23:31.551421Z\", \"created_time_dt\": \"2021-02-05T18:23:31.551421Z\", \"duration\": \"0:01:13\", \"iteration\": \"8\", \"goal\": \"accuracy_max\", \"run_name\": \"SparseNormalizer, XGBoostClassifier\", \"run_properties\": \"<azureml.automl.runtime.shared.model_wrappers.SparseNormalizer object at 0x7f86c856d8d0\", \"primary_metric\": 0.78510029, \"best_metric\": 0.80802292}, {\"run_id\": \"AutoML_0b31e7a1-a5f4-4cc3-bb7b-fcd2dceff51b_9\", \"run_number\": 14, \"metric\": null, \"status\": \"Completed\", \"run_type\": \"azureml.scriptrun\", \"training_percent\": \"100\", \"start_time\": \"2021-02-05T18:23:50.409635Z\", \"end_time\": \"2021-02-05T18:24:38.71079Z\", \"created_time\": \"2021-02-05T18:23:40.323268Z\", \"created_time_dt\": \"2021-02-05T18:23:40.323268Z\", \"duration\": \"0:00:58\", \"iteration\": \"9\", \"goal\": \"accuracy_max\", \"run_name\": \"SparseNormalizer, XGBoostClassifier\", \"run_properties\": \"<azureml.automl.runtime.shared.model_wrappers.SparseNormalizer object at 0x7f60dffad748\", \"primary_metric\": 0.7860554, \"best_metric\": 0.80802292}, {\"run_id\": \"AutoML_0b31e7a1-a5f4-4cc3-bb7b-fcd2dceff51b_10\", \"run_number\": 15, \"metric\": null, \"status\": \"Completed\", \"run_type\": \"azureml.scriptrun\", \"training_percent\": \"100\", \"start_time\": \"2021-02-05T18:24:58.386347Z\", \"end_time\": \"2021-02-05T18:25:49.715174Z\", \"created_time\": \"2021-02-05T18:24:39.996008Z\", \"created_time_dt\": \"2021-02-05T18:24:39.996008Z\", \"duration\": \"0:01:09\", \"iteration\": \"10\", \"goal\": \"accuracy_max\", \"run_name\": \"MaxAbsScaler, GradientBoosting\", \"run_properties\": \"copy=True\", \"primary_metric\": 0.78987584, \"best_metric\": 0.80802292}, {\"run_id\": \"AutoML_0b31e7a1-a5f4-4cc3-bb7b-fcd2dceff51b_11\", \"run_number\": 16, \"metric\": null, \"status\": \"Completed\", \"run_type\": \"azureml.scriptrun\", \"training_percent\": \"100\", \"start_time\": \"2021-02-05T18:24:56.9075Z\", \"end_time\": \"2021-02-05T18:25:51.23893Z\", \"created_time\": \"2021-02-05T18:24:39.999429Z\", \"created_time_dt\": \"2021-02-05T18:24:39.999429Z\", \"duration\": \"0:01:11\", \"iteration\": \"11\", \"goal\": \"accuracy_max\", \"run_name\": \"StandardScalerWrapper, LightGBM\", \"run_properties\": \"<azureml.automl.runtime.shared.model_wrappers.StandardScalerWrapper object at 0x7f145af15d30\", \"primary_metric\": 0.80229226, \"best_metric\": 0.80802292}, {\"run_id\": \"AutoML_0b31e7a1-a5f4-4cc3-bb7b-fcd2dceff51b_13\", \"run_number\": 17, \"metric\": null, \"status\": \"Completed\", \"run_type\": \"azureml.scriptrun\", \"training_percent\": \"100\", \"start_time\": \"2021-02-05T18:24:58.002432Z\", \"end_time\": \"2021-02-05T18:25:50.582492Z\", \"created_time\": \"2021-02-05T18:24:45.259082Z\", \"created_time_dt\": \"2021-02-05T18:24:45.259082Z\", \"duration\": \"0:01:05\", \"iteration\": \"13\", \"goal\": \"accuracy_max\", \"run_name\": \"MaxAbsScaler, ExtremeRandomTrees\", \"run_properties\": \"copy=True\", \"primary_metric\": 0.79847182, \"best_metric\": 0.80802292}, {\"run_id\": \"AutoML_0b31e7a1-a5f4-4cc3-bb7b-fcd2dceff51b_12\", \"run_number\": 18, \"metric\": null, \"status\": \"Completed\", \"run_type\": \"azureml.scriptrun\", \"training_percent\": \"100\", \"start_time\": \"2021-02-05T18:24:58.782036Z\", \"end_time\": \"2021-02-05T18:25:50.443193Z\", \"created_time\": \"2021-02-05T18:24:45.272023Z\", \"created_time_dt\": \"2021-02-05T18:24:45.272023Z\", \"duration\": \"0:01:05\", \"iteration\": \"12\", \"goal\": \"accuracy_max\", \"run_name\": \"StandardScalerWrapper, RandomForest\", \"run_properties\": \"<azureml.automl.runtime.shared.model_wrappers.StandardScalerWrapper object at 0x7f575e5a9ef0\", \"primary_metric\": 0.79560649, \"best_metric\": 0.80802292}, {\"run_id\": \"AutoML_0b31e7a1-a5f4-4cc3-bb7b-fcd2dceff51b_14\", \"run_number\": 19, \"metric\": null, \"status\": \"Completed\", \"run_type\": \"azureml.scriptrun\", \"training_percent\": \"100\", \"start_time\": \"2021-02-05T18:25:02.529335Z\", \"end_time\": \"2021-02-05T18:25:51.326761Z\", \"created_time\": \"2021-02-05T18:24:50.826153Z\", \"created_time_dt\": \"2021-02-05T18:24:50.826153Z\", \"duration\": \"0:01:00\", \"iteration\": \"14\", \"goal\": \"accuracy_max\", \"run_name\": \"SparseNormalizer, XGBoostClassifier\", \"run_properties\": \"<azureml.automl.runtime.shared.model_wrappers.SparseNormalizer object at 0x7fe7f994f358\", \"primary_metric\": 0.80324737, \"best_metric\": 0.80802292}, {\"run_id\": \"AutoML_0b31e7a1-a5f4-4cc3-bb7b-fcd2dceff51b_15\", \"run_number\": 20, \"metric\": null, \"status\": \"Completed\", \"run_type\": \"azureml.scriptrun\", \"training_percent\": \"100\", \"start_time\": \"2021-02-05T18:26:03.032898Z\", \"end_time\": \"2021-02-05T18:27:03.650279Z\", \"created_time\": \"2021-02-05T18:25:51.970572Z\", \"created_time_dt\": \"2021-02-05T18:25:51.970572Z\", \"duration\": \"0:01:11\", \"iteration\": \"15\", \"goal\": \"accuracy_max\", \"run_name\": \"StandardScalerWrapper, LightGBM\", \"run_properties\": \"<azureml.automl.runtime.shared.model_wrappers.StandardScalerWrapper object at 0x7fa949b36fd0\", \"primary_metric\": 0.79751671, \"best_metric\": 0.80802292}, {\"run_id\": \"AutoML_0b31e7a1-a5f4-4cc3-bb7b-fcd2dceff51b_17\", \"run_number\": 21, \"metric\": null, \"status\": \"Completed\", \"run_type\": \"azureml.scriptrun\", \"training_percent\": \"100\", \"start_time\": \"2021-02-05T18:26:11.843598Z\", \"end_time\": \"2021-02-05T18:27:02.643456Z\", \"created_time\": \"2021-02-05T18:25:57.317062Z\", \"created_time_dt\": \"2021-02-05T18:25:57.317062Z\", \"duration\": \"0:01:05\", \"iteration\": \"17\", \"goal\": \"accuracy_max\", \"run_name\": \"MaxAbsScaler, LightGBM\", \"run_properties\": \"copy=True\", \"primary_metric\": 0.79942693, \"best_metric\": 0.80802292}, {\"run_id\": \"AutoML_0b31e7a1-a5f4-4cc3-bb7b-fcd2dceff51b_19\", \"run_number\": 22, \"metric\": null, \"status\": \"Completed\", \"run_type\": \"azureml.scriptrun\", \"training_percent\": \"100\", \"start_time\": \"2021-02-05T18:26:08.402791Z\", \"end_time\": \"2021-02-05T18:27:02.551946Z\", \"created_time\": \"2021-02-05T18:25:57.342679Z\", \"created_time_dt\": \"2021-02-05T18:25:57.342679Z\", \"duration\": \"0:01:05\", \"iteration\": \"19\", \"goal\": \"accuracy_max\", \"run_name\": \"MinMaxScaler, LightGBM\", \"run_properties\": \"copy=True, feature_range=(0, 1\", \"primary_metric\": 0.81470869, \"best_metric\": 0.81470869}, {\"run_id\": \"AutoML_0b31e7a1-a5f4-4cc3-bb7b-fcd2dceff51b_18\", \"run_number\": 23, \"metric\": null, \"status\": \"Completed\", \"run_type\": \"azureml.scriptrun\", \"training_percent\": \"100\", \"start_time\": \"2021-02-05T18:26:12.567567Z\", \"end_time\": \"2021-02-05T18:27:00.652672Z\", \"created_time\": \"2021-02-05T18:25:57.36679Z\", \"created_time_dt\": \"2021-02-05T18:25:57.36679Z\", \"duration\": \"0:01:03\", \"iteration\": \"18\", \"goal\": \"accuracy_max\", \"run_name\": \"MinMaxScaler, LightGBM\", \"run_properties\": \"copy=True, feature_range=(0, 1\", \"primary_metric\": 0.78987584, \"best_metric\": 0.80802292}, {\"run_id\": \"AutoML_0b31e7a1-a5f4-4cc3-bb7b-fcd2dceff51b_16\", \"run_number\": 24, \"metric\": null, \"status\": \"Completed\", \"run_type\": \"azureml.scriptrun\", \"training_percent\": \"100\", \"start_time\": \"2021-02-05T18:26:10.470289Z\", \"end_time\": \"2021-02-05T18:26:56.227277Z\", \"created_time\": \"2021-02-05T18:25:57.49539Z\", \"created_time_dt\": \"2021-02-05T18:25:57.49539Z\", \"duration\": \"0:00:58\", \"iteration\": \"16\", \"goal\": \"accuracy_max\", \"run_name\": \"MinMaxScaler, LightGBM\", \"run_properties\": \"copy=True, feature_range=(0, 1\", \"primary_metric\": 0.80229226, \"best_metric\": 0.80802292}, {\"run_id\": \"AutoML_0b31e7a1-a5f4-4cc3-bb7b-fcd2dceff51b_20\", \"run_number\": 25, \"metric\": null, \"status\": \"Completed\", \"run_type\": \"azureml.scriptrun\", \"training_percent\": \"100\", \"start_time\": \"2021-02-05T18:27:18.180868Z\", \"end_time\": \"2021-02-05T18:28:08.350742Z\", \"created_time\": \"2021-02-05T18:26:59.609145Z\", \"created_time_dt\": \"2021-02-05T18:26:59.609145Z\", \"duration\": \"0:01:08\", \"iteration\": \"20\", \"goal\": \"accuracy_max\", \"run_name\": \"RobustScaler, LightGBM\", \"run_properties\": \"copy=True, quantile_range=[25, 75], with_centering=False,\\n             with_scaling=False\", \"primary_metric\": 0.80515759, \"best_metric\": 0.81470869}, {\"run_id\": \"AutoML_0b31e7a1-a5f4-4cc3-bb7b-fcd2dceff51b_22\", \"run_number\": 26, \"metric\": null, \"status\": \"Completed\", \"run_type\": \"azureml.scriptrun\", \"training_percent\": \"100\", \"start_time\": \"2021-02-05T18:27:19.175744Z\", \"end_time\": \"2021-02-05T18:28:08.410908Z\", \"created_time\": \"2021-02-05T18:27:05.621532Z\", \"created_time_dt\": \"2021-02-05T18:27:05.621532Z\", \"duration\": \"0:01:02\", \"iteration\": \"22\", \"goal\": \"accuracy_max\", \"run_name\": \"MaxAbsScaler, ExtremeRandomTrees\", \"run_properties\": \"copy=True\", \"primary_metric\": 0.79751671, \"best_metric\": 0.81470869}, {\"run_id\": \"AutoML_0b31e7a1-a5f4-4cc3-bb7b-fcd2dceff51b_23\", \"run_number\": 27, \"metric\": null, \"status\": \"Completed\", \"run_type\": \"azureml.scriptrun\", \"training_percent\": \"100\", \"start_time\": \"2021-02-05T18:27:18.95836Z\", \"end_time\": \"2021-02-05T18:28:10.525221Z\", \"created_time\": \"2021-02-05T18:27:05.637991Z\", \"created_time_dt\": \"2021-02-05T18:27:05.637991Z\", \"duration\": \"0:01:04\", \"iteration\": \"23\", \"goal\": \"accuracy_max\", \"run_name\": \"SparseNormalizer, LightGBM\", \"run_properties\": \"<azureml.automl.runtime.shared.model_wrappers.SparseNormalizer object at 0x7f12fc2d8ba8\", \"primary_metric\": 0.80324737, \"best_metric\": 0.81470869}, {\"run_id\": \"AutoML_0b31e7a1-a5f4-4cc3-bb7b-fcd2dceff51b_21\", \"run_number\": 28, \"metric\": null, \"status\": \"Completed\", \"run_type\": \"azureml.scriptrun\", \"training_percent\": \"100\", \"start_time\": \"2021-02-05T18:27:18.256115Z\", \"end_time\": \"2021-02-05T18:28:10.839885Z\", \"created_time\": \"2021-02-05T18:27:05.646606Z\", \"created_time_dt\": \"2021-02-05T18:27:05.646606Z\", \"duration\": \"0:01:05\", \"iteration\": \"21\", \"goal\": \"accuracy_max\", \"run_name\": \"StandardScalerWrapper, LightGBM\", \"run_properties\": \"<azureml.automl.runtime.shared.model_wrappers.StandardScalerWrapper object at 0x7fa314730b00\", \"primary_metric\": 0.79751671, \"best_metric\": 0.81470869}, {\"run_id\": \"AutoML_0b31e7a1-a5f4-4cc3-bb7b-fcd2dceff51b_24\", \"run_number\": 29, \"metric\": null, \"status\": \"Completed\", \"run_type\": \"azureml.scriptrun\", \"training_percent\": \"100\", \"start_time\": \"2021-02-05T18:27:25.904175Z\", \"end_time\": \"2021-02-05T18:28:11.963874Z\", \"created_time\": \"2021-02-05T18:27:12.069577Z\", \"created_time_dt\": \"2021-02-05T18:27:12.069577Z\", \"duration\": \"0:00:59\", \"iteration\": \"24\", \"goal\": \"accuracy_max\", \"run_name\": \"SparseNormalizer, XGBoostClassifier\", \"run_properties\": \"<azureml.automl.runtime.shared.model_wrappers.SparseNormalizer object at 0x7fa834d27d68\", \"primary_metric\": 0.79178606, \"best_metric\": 0.81470869}, {\"run_id\": \"AutoML_0b31e7a1-a5f4-4cc3-bb7b-fcd2dceff51b_26\", \"run_number\": 30, \"metric\": null, \"status\": \"Completed\", \"run_type\": \"azureml.scriptrun\", \"training_percent\": \"100\", \"start_time\": \"2021-02-05T18:28:33.011091Z\", \"end_time\": \"2021-02-05T18:29:24.693853Z\", \"created_time\": \"2021-02-05T18:28:13.173122Z\", \"created_time_dt\": \"2021-02-05T18:28:13.173122Z\", \"duration\": \"0:01:11\", \"iteration\": \"26\", \"goal\": \"accuracy_max\", \"run_name\": \"StandardScalerWrapper, LightGBM\", \"run_properties\": \"<azureml.automl.runtime.shared.model_wrappers.StandardScalerWrapper object at 0x7f6a3d864eb8\", \"primary_metric\": 0.78510029, \"best_metric\": 0.81470869}, {\"run_id\": \"AutoML_0b31e7a1-a5f4-4cc3-bb7b-fcd2dceff51b_25\", \"run_number\": 31, \"metric\": null, \"status\": \"Completed\", \"run_type\": \"azureml.scriptrun\", \"training_percent\": \"100\", \"start_time\": \"2021-02-05T18:28:31.395703Z\", \"end_time\": \"2021-02-05T18:29:23.030267Z\", \"created_time\": \"2021-02-05T18:28:13.389437Z\", \"created_time_dt\": \"2021-02-05T18:28:13.389437Z\", \"duration\": \"0:01:09\", \"iteration\": \"25\", \"goal\": \"accuracy_max\", \"run_name\": \"StandardScalerWrapper, LightGBM\", \"run_properties\": \"<azureml.automl.runtime.shared.model_wrappers.StandardScalerWrapper object at 0x7f588ca862b0\", \"primary_metric\": 0.61795606, \"best_metric\": 0.81470869}, {\"run_id\": \"AutoML_0b31e7a1-a5f4-4cc3-bb7b-fcd2dceff51b_28\", \"run_number\": 32, \"metric\": null, \"status\": \"Completed\", \"run_type\": \"azureml.scriptrun\", \"training_percent\": \"100\", \"start_time\": \"2021-02-05T18:28:32.353458Z\", \"end_time\": \"2021-02-05T18:29:24.320203Z\", \"created_time\": \"2021-02-05T18:28:17.620971Z\", \"created_time_dt\": \"2021-02-05T18:28:17.620971Z\", \"duration\": \"0:01:06\", \"iteration\": \"28\", \"goal\": \"accuracy_max\", \"run_name\": \"StandardScalerWrapper, ExtremeRandomTrees\", \"run_properties\": \"<azureml.automl.runtime.shared.model_wrappers.StandardScalerWrapper object at 0x7f2e97720da0\", \"primary_metric\": 0.77936963, \"best_metric\": 0.81470869}, {\"run_id\": \"AutoML_0b31e7a1-a5f4-4cc3-bb7b-fcd2dceff51b_27\", \"run_number\": 33, \"metric\": null, \"status\": \"Completed\", \"run_type\": \"azureml.scriptrun\", \"training_percent\": \"100\", \"start_time\": \"2021-02-05T18:28:32.954594Z\", \"end_time\": \"2021-02-05T18:29:27.777528Z\", \"created_time\": \"2021-02-05T18:28:17.661275Z\", \"created_time_dt\": \"2021-02-05T18:28:17.661275Z\", \"duration\": \"0:01:10\", \"iteration\": \"27\", \"goal\": \"accuracy_max\", \"run_name\": \"StandardScalerWrapper, ExtremeRandomTrees\", \"run_properties\": \"<azureml.automl.runtime.shared.model_wrappers.StandardScalerWrapper object at 0x7fc6dc08e358\", \"primary_metric\": 0.76408787, \"best_metric\": 0.81470869}, {\"run_id\": \"AutoML_0b31e7a1-a5f4-4cc3-bb7b-fcd2dceff51b_29\", \"run_number\": 34, \"metric\": null, \"status\": \"Completed\", \"run_type\": \"azureml.scriptrun\", \"training_percent\": \"100\", \"start_time\": \"2021-02-05T18:28:31.348714Z\", \"end_time\": \"2021-02-05T18:29:24.525036Z\", \"created_time\": \"2021-02-05T18:28:17.686903Z\", \"created_time_dt\": \"2021-02-05T18:28:17.686903Z\", \"duration\": \"0:01:06\", \"iteration\": \"29\", \"goal\": \"accuracy_max\", \"run_name\": \"MaxAbsScaler, ExtremeRandomTrees\", \"run_properties\": \"copy=True\", \"primary_metric\": 0.77268386, \"best_metric\": 0.81470869}, {\"run_id\": \"AutoML_0b31e7a1-a5f4-4cc3-bb7b-fcd2dceff51b_30\", \"run_number\": 35, \"metric\": null, \"status\": \"Completed\", \"run_type\": \"azureml.scriptrun\", \"training_percent\": \"100\", \"start_time\": \"2021-02-05T18:29:36.953122Z\", \"end_time\": \"2021-02-05T18:30:38.02295Z\", \"created_time\": \"2021-02-05T18:29:25.678313Z\", \"created_time_dt\": \"2021-02-05T18:29:25.678313Z\", \"duration\": \"0:01:12\", \"iteration\": \"30\", \"goal\": \"accuracy_max\", \"run_name\": \"MaxAbsScaler, LightGBM\", \"run_properties\": \"copy=True\", \"primary_metric\": 0.78701051, \"best_metric\": 0.81470869}, {\"run_id\": \"AutoML_0b31e7a1-a5f4-4cc3-bb7b-fcd2dceff51b_31\", \"run_number\": 36, \"metric\": null, \"status\": \"Completed\", \"run_type\": \"azureml.scriptrun\", \"training_percent\": \"100\", \"start_time\": \"2021-02-05T18:29:41.20853Z\", \"end_time\": \"2021-02-05T18:30:30.082367Z\", \"created_time\": \"2021-02-05T18:29:29.079166Z\", \"created_time_dt\": \"2021-02-05T18:29:29.079166Z\", \"duration\": \"0:01:01\", \"iteration\": \"31\", \"goal\": \"accuracy_max\", \"run_name\": \"RobustScaler, LightGBM\", \"run_properties\": \"copy=True, quantile_range=[10, 90], with_centering=True,\\n             with_scaling=True\", \"primary_metric\": 0.77459408, \"best_metric\": 0.81470869}, {\"run_id\": \"AutoML_0b31e7a1-a5f4-4cc3-bb7b-fcd2dceff51b_32\", \"run_number\": 37, \"metric\": null, \"status\": \"Completed\", \"run_type\": \"azureml.scriptrun\", \"training_percent\": \"100\", \"start_time\": \"2021-02-05T18:29:41.853112Z\", \"end_time\": \"2021-02-05T18:30:31.571644Z\", \"created_time\": \"2021-02-05T18:29:29.095019Z\", \"created_time_dt\": \"2021-02-05T18:29:29.095019Z\", \"duration\": \"0:01:02\", \"iteration\": \"32\", \"goal\": \"accuracy_max\", \"run_name\": \"MaxAbsScaler, LightGBM\", \"run_properties\": \"copy=True\", \"primary_metric\": 0.79274117, \"best_metric\": 0.81470869}, {\"run_id\": \"AutoML_0b31e7a1-a5f4-4cc3-bb7b-fcd2dceff51b_33\", \"run_number\": 38, \"metric\": null, \"status\": \"Completed\", \"run_type\": \"azureml.scriptrun\", \"training_percent\": \"100\", \"start_time\": \"2021-02-05T18:29:42.449847Z\", \"end_time\": \"2021-02-05T18:30:32.041822Z\", \"created_time\": \"2021-02-05T18:29:29.101968Z\", \"created_time_dt\": \"2021-02-05T18:29:29.101968Z\", \"duration\": \"0:01:02\", \"iteration\": \"33\", \"goal\": \"accuracy_max\", \"run_name\": \"MinMaxScaler, LightGBM\", \"run_properties\": \"copy=True, feature_range=(0, 1\", \"primary_metric\": 0.80515759, \"best_metric\": 0.81470869}, {\"run_id\": \"AutoML_0b31e7a1-a5f4-4cc3-bb7b-fcd2dceff51b_34\", \"run_number\": 39, \"metric\": null, \"status\": \"Completed\", \"run_type\": \"azureml.scriptrun\", \"training_percent\": \"100\", \"start_time\": \"2021-02-05T18:29:45.911865Z\", \"end_time\": \"2021-02-05T18:30:37.900278Z\", \"created_time\": \"2021-02-05T18:29:33.469311Z\", \"created_time_dt\": \"2021-02-05T18:29:33.469311Z\", \"duration\": \"0:01:04\", \"iteration\": \"34\", \"goal\": \"accuracy_max\", \"run_name\": \"StandardScalerWrapper, XGBoostClassifier\", \"run_properties\": \"<azureml.automl.runtime.shared.model_wrappers.StandardScalerWrapper object at 0x7fb4544f58d0\", \"primary_metric\": 0.81184336, \"best_metric\": 0.81470869}, {\"run_id\": \"AutoML_0b31e7a1-a5f4-4cc3-bb7b-fcd2dceff51b_35\", \"run_number\": 40, \"metric\": null, \"status\": \"Canceled\", \"run_type\": \"azureml.scriptrun\", \"training_percent\": \"100\", \"start_time\": \"2021-02-05T18:30:33.067718Z\", \"end_time\": \"2021-02-05T18:30:54.58062Z\", \"created_time\": \"2021-02-05T18:30:33.067718Z\", \"created_time_dt\": \"2021-02-05T18:30:33.067718Z\", \"duration\": \"0:00:21\", \"iteration\": \"35\", \"goal\": null, \"run_name\": \"Canceled\", \"run_properties\": null}, {\"run_id\": \"AutoML_0b31e7a1-a5f4-4cc3-bb7b-fcd2dceff51b_36\", \"run_number\": 41, \"metric\": null, \"status\": \"Canceled\", \"run_type\": \"azureml.scriptrun\", \"training_percent\": \"100\", \"start_time\": \"2021-02-05T18:30:37.956939Z\", \"end_time\": \"2021-02-05T18:30:58.078935Z\", \"created_time\": \"2021-02-05T18:30:37.956939Z\", \"created_time_dt\": \"2021-02-05T18:30:37.956939Z\", \"duration\": \"0:00:20\", \"iteration\": \"36\", \"goal\": null, \"run_name\": \"Canceled\", \"run_properties\": null}, {\"run_id\": \"AutoML_0b31e7a1-a5f4-4cc3-bb7b-fcd2dceff51b_37\", \"run_number\": 42, \"metric\": null, \"status\": \"Canceled\", \"run_type\": \"azureml.scriptrun\", \"training_percent\": \"100\", \"start_time\": \"2021-02-05T18:30:38.341559Z\", \"end_time\": \"2021-02-05T18:30:56.282359Z\", \"created_time\": \"2021-02-05T18:30:38.341559Z\", \"created_time_dt\": \"2021-02-05T18:30:38.341559Z\", \"duration\": \"0:00:17\", \"iteration\": \"37\", \"goal\": null, \"run_name\": \"Canceled\", \"run_properties\": null}, {\"run_id\": \"AutoML_0b31e7a1-a5f4-4cc3-bb7b-fcd2dceff51b_38\", \"run_number\": 43, \"metric\": null, \"status\": \"Completed\", \"run_type\": \"azureml.scriptrun\", \"training_percent\": \"100\", \"start_time\": \"2021-02-05T18:31:14.819978Z\", \"end_time\": \"2021-02-05T18:32:34.473547Z\", \"created_time\": \"2021-02-05T18:31:00.366248Z\", \"created_time_dt\": \"2021-02-05T18:31:00.366248Z\", \"duration\": \"0:01:34\", \"iteration\": \"38\", \"goal\": \"accuracy_max\", \"run_name\": \"VotingEnsemble\", \"run_properties\": \"classification_labels=None,\\n                              estimators=[('19',\\n                                           Pipeline(memory=None,\\n                                                    steps=[('minmaxscaler',\\n                                                            MinMaxScaler(copy=True,\\n                                                                         feature_range=(0,\\n                                                                                        1\", \"primary_metric\": 0.82139446, \"best_metric\": 0.82139446}, {\"run_id\": \"AutoML_0b31e7a1-a5f4-4cc3-bb7b-fcd2dceff51b_39\", \"run_number\": 44, \"metric\": null, \"status\": \"Completed\", \"run_type\": \"azureml.scriptrun\", \"training_percent\": \"100\", \"start_time\": \"2021-02-05T18:31:11.478991Z\", \"end_time\": \"2021-02-05T18:32:38.522125Z\", \"created_time\": \"2021-02-05T18:31:00.559059Z\", \"created_time_dt\": \"2021-02-05T18:31:00.559059Z\", \"duration\": \"0:01:37\", \"iteration\": \"39\", \"goal\": \"accuracy_max\", \"run_name\": \"StackEnsemble\", \"run_properties\": \"base_learners=[('19',\\n                                        Pipeline(memory=None,\\n                                                 steps=[('minmaxscaler',\\n                                                         MinMaxScaler(copy=True,\\n                                                                      feature_range=(0,\\n                                                                                     1\", \"primary_metric\": 0.80993314, \"best_metric\": 0.82139446}], \"children_metrics\": {\"categories\": [0], \"series\": {\"average_precision_score_weighted\": [{\"categories\": [\"0\", \"1\", \"2\", \"3\", \"4\", \"5\", \"6\", \"7\", \"8\", \"9\", \"10\", \"11\", \"12\", \"13\", \"14\", \"15\", \"16\", \"17\", \"18\", \"19\", \"20\", \"21\", \"22\", \"23\", \"24\", \"25\", \"26\", \"27\", \"28\", \"29\", \"30\", \"31\", \"32\", \"33\", \"34\", \"38\", \"39\"], \"mode\": \"markers\", \"name\": \"average_precision_score_weighted\", \"stepped\": false, \"type\": \"scatter\", \"data\": [0.8577584361582775, 0.869844220208552, 0.8556732617341432, 0.8486636163724967, 0.8562182539823807, 0.849357943882132, 0.8547423455374221, 0.8137269042859376, 0.8429268067126943, 0.8374052309946128, 0.8379490798219175, 0.8415038305154865, 0.8471691374502935, 0.8514434245421002, 0.8579733315640888, 0.8510811292097791, 0.8502507291255275, 0.8500827271508372, 0.8405917182073224, 0.859797716537717, 0.8445458522171778, 0.8330174606725683, 0.8523075759253137, 0.856727427518404, 0.8407706474951825, 0.8332980185715079, 0.8417355358884585, 0.839695072515958, 0.8427304506217376, 0.8399647749996287, 0.8237691594058413, 0.848549006151599, 0.8473732490711713, 0.8524145710308185, 0.854865478213758, 0.8635230446078458, 0.864328210463976]}, {\"categories\": [\"0\", \"1\", \"2\", \"3\", \"4\", \"5\", \"6\", \"7\", \"8\", \"9\", \"10\", \"11\", \"12\", \"13\", \"14\", \"15\", \"16\", \"17\", \"18\", \"19\", \"20\", \"21\", \"22\", \"23\", \"24\", \"25\", \"26\", \"27\", \"28\", \"29\", \"30\", \"31\", \"32\", \"33\", \"34\", \"38\", \"39\"], \"mode\": \"lines\", \"name\": \"average_precision_score_weighted_max\", \"stepped\": true, \"type\": \"scatter\", \"data\": [0.8577584361582775, 0.869844220208552, 0.869844220208552, 0.869844220208552, 0.869844220208552, 0.869844220208552, 0.869844220208552, 0.869844220208552, 0.869844220208552, 0.869844220208552, 0.869844220208552, 0.869844220208552, 0.869844220208552, 0.869844220208552, 0.869844220208552, 0.869844220208552, 0.869844220208552, 0.869844220208552, 0.869844220208552, 0.869844220208552, 0.869844220208552, 0.869844220208552, 0.869844220208552, 0.869844220208552, 0.869844220208552, 0.869844220208552, 0.869844220208552, 0.869844220208552, 0.869844220208552, 0.869844220208552, 0.869844220208552, 0.869844220208552, 0.869844220208552, 0.869844220208552, 0.869844220208552, 0.869844220208552, 0.869844220208552]}], \"f1_score_weighted\": [{\"categories\": [\"0\", \"1\", \"2\", \"3\", \"4\", \"5\", \"6\", \"7\", \"8\", \"9\", \"10\", \"11\", \"12\", \"13\", \"14\", \"15\", \"16\", \"17\", \"18\", \"19\", \"20\", \"21\", \"22\", \"23\", \"24\", \"25\", \"26\", \"27\", \"28\", \"29\", \"30\", \"31\", \"32\", \"33\", \"34\", \"38\", \"39\"], \"mode\": \"markers\", \"name\": \"f1_score_weighted\", \"stepped\": false, \"type\": \"scatter\", \"data\": [0.7854079241439006, 0.8038003129381203, 0.7885170422872335, 0.7768183539564945, 0.793392903046172, 0.7929851799318008, 0.8002240362580868, 0.7919020476511117, 0.7822623959975598, 0.7824183988507655, 0.7897089791211211, 0.7986922644198712, 0.7927948037813627, 0.7936984545381539, 0.8018865497145274, 0.7947316321366849, 0.7958330802151942, 0.7952968332499065, 0.783410425967379, 0.8108951460166297, 0.7989941284391353, 0.7858848356039201, 0.7937035140195615, 0.8011499416673993, 0.789055150618552, 0.47206642512681, 0.7752303516642632, 0.7667518020584166, 0.7801858571088962, 0.7750481292716231, 0.7698138211156351, 0.7569569196709661, 0.7871995430462375, 0.8028148352487942, 0.8081516831661485, 0.8174169997238705, 0.8054161187319723]}, {\"categories\": [\"0\", \"1\", \"2\", \"3\", \"4\", \"5\", \"6\", \"7\", \"8\", \"9\", \"10\", \"11\", \"12\", \"13\", \"14\", \"15\", \"16\", \"17\", \"18\", \"19\", \"20\", \"21\", \"22\", \"23\", \"24\", \"25\", \"26\", \"27\", \"28\", \"29\", \"30\", \"31\", \"32\", \"33\", \"34\", \"38\", \"39\"], \"mode\": \"lines\", \"name\": \"f1_score_weighted_max\", \"stepped\": true, \"type\": \"scatter\", \"data\": [0.7854079241439006, 0.8038003129381203, 0.8038003129381203, 0.8038003129381203, 0.8038003129381203, 0.8038003129381203, 0.8038003129381203, 0.8038003129381203, 0.8038003129381203, 0.8038003129381203, 0.8038003129381203, 0.8038003129381203, 0.8038003129381203, 0.8038003129381203, 0.8038003129381203, 0.8038003129381203, 0.8038003129381203, 0.8038003129381203, 0.8038003129381203, 0.8108951460166297, 0.8108951460166297, 0.8108951460166297, 0.8108951460166297, 0.8108951460166297, 0.8108951460166297, 0.8108951460166297, 0.8108951460166297, 0.8108951460166297, 0.8108951460166297, 0.8108951460166297, 0.8108951460166297, 0.8108951460166297, 0.8108951460166297, 0.8108951460166297, 0.8108951460166297, 0.8174169997238705, 0.8174169997238705]}], \"precision_score_weighted\": [{\"categories\": [\"0\", \"1\", \"2\", \"3\", \"4\", \"5\", \"6\", \"7\", \"8\", \"9\", \"10\", \"11\", \"12\", \"13\", \"14\", \"15\", \"16\", \"17\", \"18\", \"19\", \"20\", \"21\", \"22\", \"23\", \"24\", \"25\", \"26\", \"27\", \"28\", \"29\", \"30\", \"31\", \"32\", \"33\", \"34\", \"38\", \"39\"], \"mode\": \"markers\", \"name\": \"precision_score_weighted\", \"stepped\": false, \"type\": \"scatter\", \"data\": [0.7859357439862147, 0.8087665135888517, 0.7943814186684023, 0.7800372645954409, 0.796564799745838, 0.7958183516976961, 0.8031757271100162, 0.7986011078909226, 0.7840735334655783, 0.783888869356653, 0.7917644877443027, 0.8030125638669503, 0.7971588077004546, 0.8020226001007317, 0.8022710297632577, 0.7994390856285084, 0.8052091004932365, 0.7991610884373163, 0.7992964615524029, 0.8150945858455074, 0.8090668671252544, 0.8122122818469123, 0.7982275901775712, 0.8028088760305482, 0.790133963602731, 0.38192625676308073, 0.7906506685440452, 0.7752883107727193, 0.7826075272336257, 0.782285644066345, 0.8110415389427869, 0.7935984479146804, 0.7946561507409027, 0.8047205538190743, 0.8112863412301495, 0.8231007283131536, 0.812975477364549]}, {\"categories\": [\"0\", \"1\", \"2\", \"3\", \"4\", \"5\", \"6\", \"7\", \"8\", \"9\", \"10\", \"11\", \"12\", \"13\", \"14\", \"15\", \"16\", \"17\", \"18\", \"19\", \"20\", \"21\", \"22\", \"23\", \"24\", \"25\", \"26\", \"27\", \"28\", \"29\", \"30\", \"31\", \"32\", \"33\", \"34\", \"38\", \"39\"], \"mode\": \"lines\", \"name\": \"precision_score_weighted_max\", \"stepped\": true, \"type\": \"scatter\", \"data\": [0.7859357439862147, 0.8087665135888517, 0.8087665135888517, 0.8087665135888517, 0.8087665135888517, 0.8087665135888517, 0.8087665135888517, 0.8087665135888517, 0.8087665135888517, 0.8087665135888517, 0.8087665135888517, 0.8087665135888517, 0.8087665135888517, 0.8087665135888517, 0.8087665135888517, 0.8087665135888517, 0.8087665135888517, 0.8087665135888517, 0.8087665135888517, 0.8150945858455074, 0.8150945858455074, 0.8150945858455074, 0.8150945858455074, 0.8150945858455074, 0.8150945858455074, 0.8150945858455074, 0.8150945858455074, 0.8150945858455074, 0.8150945858455074, 0.8150945858455074, 0.8150945858455074, 0.8150945858455074, 0.8150945858455074, 0.8150945858455074, 0.8150945858455074, 0.8231007283131536, 0.8231007283131536]}], \"matthews_correlation\": [{\"categories\": [\"0\", \"1\", \"2\", \"3\", \"4\", \"5\", \"6\", \"7\", \"8\", \"9\", \"10\", \"11\", \"12\", \"13\", \"14\", \"15\", \"16\", \"17\", \"18\", \"19\", \"20\", \"21\", \"22\", \"23\", \"24\", \"25\", \"26\", \"27\", \"28\", \"29\", \"30\", \"31\", \"32\", \"33\", \"34\", \"38\", \"39\"], \"mode\": \"markers\", \"name\": \"matthews_correlation\", \"stepped\": false, \"type\": \"scatter\", \"data\": [0.5440028669916473, 0.5869092880764009, 0.5554760708424723, 0.5296705178848685, 0.566687104070827, 0.5624016364079577, 0.577788042873683, 0.5631320088108296, 0.5386016069866116, 0.5377200579784969, 0.5566975716445433, 0.5757795541545163, 0.5638892258604632, 0.5693794210000922, 0.5793609272880136, 0.5684200336562656, 0.5738510691468134, 0.5675599698372847, 0.5555642167080479, 0.6011151337215032, 0.5816321372861663, 0.5702444813390839, 0.5653066865056106, 0.5784859356480551, 0.5520266240421007, 0.0, 0.5361978688145053, 0.5193660839644964, 0.5378593923361245, 0.5349233957790251, 0.5512096979579942, 0.5195757947735985, 0.5541935815234096, 0.5822508287194135, 0.5942693547888476, 0.6165160826073249, 0.593110768424006]}, {\"categories\": [\"0\", \"1\", \"2\", \"3\", \"4\", \"5\", \"6\", \"7\", \"8\", \"9\", \"10\", \"11\", \"12\", \"13\", \"14\", \"15\", \"16\", \"17\", \"18\", \"19\", \"20\", \"21\", \"22\", \"23\", \"24\", \"25\", \"26\", \"27\", \"28\", \"29\", \"30\", \"31\", \"32\", \"33\", \"34\", \"38\", \"39\"], \"mode\": \"lines\", \"name\": \"matthews_correlation_max\", \"stepped\": true, \"type\": \"scatter\", \"data\": [0.5440028669916473, 0.5869092880764009, 0.5869092880764009, 0.5869092880764009, 0.5869092880764009, 0.5869092880764009, 0.5869092880764009, 0.5869092880764009, 0.5869092880764009, 0.5869092880764009, 0.5869092880764009, 0.5869092880764009, 0.5869092880764009, 0.5869092880764009, 0.5869092880764009, 0.5869092880764009, 0.5869092880764009, 0.5869092880764009, 0.5869092880764009, 0.6011151337215032, 0.6011151337215032, 0.6011151337215032, 0.6011151337215032, 0.6011151337215032, 0.6011151337215032, 0.6011151337215032, 0.6011151337215032, 0.6011151337215032, 0.6011151337215032, 0.6011151337215032, 0.6011151337215032, 0.6011151337215032, 0.6011151337215032, 0.6011151337215032, 0.6011151337215032, 0.6165160826073249, 0.6165160826073249]}], \"recall_score_micro\": [{\"categories\": [\"0\", \"1\", \"2\", \"3\", \"4\", \"5\", \"6\", \"7\", \"8\", \"9\", \"10\", \"11\", \"12\", \"13\", \"14\", \"15\", \"16\", \"17\", \"18\", \"19\", \"20\", \"21\", \"22\", \"23\", \"24\", \"25\", \"26\", \"27\", \"28\", \"29\", \"30\", \"31\", \"32\", \"33\", \"34\", \"38\", \"39\"], \"mode\": \"markers\", \"name\": \"recall_score_micro\", \"stepped\": false, \"type\": \"scatter\", \"data\": [0.7879656160458453, 0.8080229226361032, 0.792741165234002, 0.778414517669532, 0.792741165234002, 0.7956064947468958, 0.8032473734479465, 0.7975167144221587, 0.7851002865329514, 0.7860553963705826, 0.7898758357211079, 0.802292263610315, 0.7956064947468958, 0.7984718242597899, 0.8032473734479465, 0.7975167144221585, 0.802292263610315, 0.7994269340974212, 0.7898758357211079, 0.8147086914995224, 0.8051575931232091, 0.7975167144221587, 0.7975167144221585, 0.8032473734479465, 0.7917860553963706, 0.617956064947469, 0.7851002865329514, 0.7640878701050621, 0.7793696275071632, 0.772683858643744, 0.7870105062082139, 0.7745940783190067, 0.792741165234002, 0.8051575931232092, 0.8118433619866284, 0.8213944603629417, 0.8099331423113657]}, {\"categories\": [\"0\", \"1\", \"2\", \"3\", \"4\", \"5\", \"6\", \"7\", \"8\", \"9\", \"10\", \"11\", \"12\", \"13\", \"14\", \"15\", \"16\", \"17\", \"18\", \"19\", \"20\", \"21\", \"22\", \"23\", \"24\", \"25\", \"26\", \"27\", \"28\", \"29\", \"30\", \"31\", \"32\", \"33\", \"34\", \"38\", \"39\"], \"mode\": \"lines\", \"name\": \"recall_score_micro_max\", \"stepped\": true, \"type\": \"scatter\", \"data\": [0.7879656160458453, 0.8080229226361032, 0.8080229226361032, 0.8080229226361032, 0.8080229226361032, 0.8080229226361032, 0.8080229226361032, 0.8080229226361032, 0.8080229226361032, 0.8080229226361032, 0.8080229226361032, 0.8080229226361032, 0.8080229226361032, 0.8080229226361032, 0.8080229226361032, 0.8080229226361032, 0.8080229226361032, 0.8080229226361032, 0.8080229226361032, 0.8147086914995224, 0.8147086914995224, 0.8147086914995224, 0.8147086914995224, 0.8147086914995224, 0.8147086914995224, 0.8147086914995224, 0.8147086914995224, 0.8147086914995224, 0.8147086914995224, 0.8147086914995224, 0.8147086914995224, 0.8147086914995224, 0.8147086914995224, 0.8147086914995224, 0.8147086914995224, 0.8213944603629417, 0.8213944603629417]}], \"AUC_weighted\": [{\"categories\": [\"0\", \"1\", \"2\", \"3\", \"4\", \"5\", \"6\", \"7\", \"8\", \"9\", \"10\", \"11\", \"12\", \"13\", \"14\", \"15\", \"16\", \"17\", \"18\", \"19\", \"20\", \"21\", \"22\", \"23\", \"24\", \"25\", \"26\", \"27\", \"28\", \"29\", \"30\", \"31\", \"32\", \"33\", \"34\", \"38\", \"39\"], \"mode\": \"markers\", \"name\": \"AUC_weighted\", \"stepped\": false, \"type\": \"scatter\", \"data\": [0.8536678514349533, 0.8678531479143805, 0.8516972829494215, 0.8411091626128218, 0.8553607979038492, 0.849457947735511, 0.8559089499994764, 0.8159470349003985, 0.8422872289487172, 0.8365041651068185, 0.8375093249099915, 0.8405271189596791, 0.8481480013130809, 0.8488584900246193, 0.8542653398974642, 0.844730746032656, 0.8447929568552381, 0.8467003989466574, 0.8388963132968655, 0.8562483040783181, 0.8428401843577285, 0.8360451939718132, 0.8515824318299984, 0.8535227452276244, 0.845840280063019, 0.834845796252215, 0.8358385168303805, 0.8357049115449557, 0.8378659949262142, 0.8369303287712949, 0.8339095234188011, 0.8413623880813832, 0.8441547925538216, 0.8496796280214719, 0.8560781631980764, 0.8605621312978776, 0.8633356403870053]}, {\"categories\": [\"0\", \"1\", \"2\", \"3\", \"4\", \"5\", \"6\", \"7\", \"8\", \"9\", \"10\", \"11\", \"12\", \"13\", \"14\", \"15\", \"16\", \"17\", \"18\", \"19\", \"20\", \"21\", \"22\", \"23\", \"24\", \"25\", \"26\", \"27\", \"28\", \"29\", \"30\", \"31\", \"32\", \"33\", \"34\", \"38\", \"39\"], \"mode\": \"lines\", \"name\": \"AUC_weighted_max\", \"stepped\": true, \"type\": \"scatter\", \"data\": [0.8536678514349533, 0.8678531479143805, 0.8678531479143805, 0.8678531479143805, 0.8678531479143805, 0.8678531479143805, 0.8678531479143805, 0.8678531479143805, 0.8678531479143805, 0.8678531479143805, 0.8678531479143805, 0.8678531479143805, 0.8678531479143805, 0.8678531479143805, 0.8678531479143805, 0.8678531479143805, 0.8678531479143805, 0.8678531479143805, 0.8678531479143805, 0.8678531479143805, 0.8678531479143805, 0.8678531479143805, 0.8678531479143805, 0.8678531479143805, 0.8678531479143805, 0.8678531479143805, 0.8678531479143805, 0.8678531479143805, 0.8678531479143805, 0.8678531479143805, 0.8678531479143805, 0.8678531479143805, 0.8678531479143805, 0.8678531479143805, 0.8678531479143805, 0.8678531479143805, 0.8678531479143805]}], \"weighted_accuracy\": [{\"categories\": [\"0\", \"1\", \"2\", \"3\", \"4\", \"5\", \"6\", \"7\", \"8\", \"9\", \"10\", \"11\", \"12\", \"13\", \"14\", \"15\", \"16\", \"17\", \"18\", \"19\", \"20\", \"21\", \"22\", \"23\", \"24\", \"25\", \"26\", \"27\", \"28\", \"29\", \"30\", \"31\", \"32\", \"33\", \"34\", \"38\", \"39\"], \"mode\": \"markers\", \"name\": \"weighted_accuracy\", \"stepped\": false, \"type\": \"scatter\", \"data\": [0.8071732841121863, 0.8328467405870117, 0.8177725665636336, 0.7958313309637496, 0.7997867277964064, 0.8161446440160492, 0.8246806356598388, 0.8256988734162602, 0.8057326314829959, 0.8092011873904476, 0.8010969575608758, 0.8249010438257369, 0.8163048496411229, 0.8237480150675459, 0.819216859712331, 0.8182503882770749, 0.8330305961273711, 0.8241366750244635, 0.8188309602265856, 0.8386352971931101, 0.8349680725123791, 0.8379241501483272, 0.8209424082489503, 0.8222744473934368, 0.8116629997658412, 0.7233423881241151, 0.8221588190990023, 0.7627974633271869, 0.7868682982885056, 0.7724184558078081, 0.8348385693196643, 0.8230136043029019, 0.8206974080154317, 0.8247950645533849, 0.8346584028451507, 0.8459688970997997, 0.835412796085913]}, {\"categories\": [\"0\", \"1\", \"2\", \"3\", \"4\", \"5\", \"6\", \"7\", \"8\", \"9\", \"10\", \"11\", \"12\", \"13\", \"14\", \"15\", \"16\", \"17\", \"18\", \"19\", \"20\", \"21\", \"22\", \"23\", \"24\", \"25\", \"26\", \"27\", \"28\", \"29\", \"30\", \"31\", \"32\", \"33\", \"34\", \"38\", \"39\"], \"mode\": \"lines\", \"name\": \"weighted_accuracy_max\", \"stepped\": true, \"type\": \"scatter\", \"data\": [0.8071732841121863, 0.8328467405870117, 0.8328467405870117, 0.8328467405870117, 0.8328467405870117, 0.8328467405870117, 0.8328467405870117, 0.8328467405870117, 0.8328467405870117, 0.8328467405870117, 0.8328467405870117, 0.8328467405870117, 0.8328467405870117, 0.8328467405870117, 0.8328467405870117, 0.8328467405870117, 0.8330305961273711, 0.8330305961273711, 0.8330305961273711, 0.8386352971931101, 0.8386352971931101, 0.8386352971931101, 0.8386352971931101, 0.8386352971931101, 0.8386352971931101, 0.8386352971931101, 0.8386352971931101, 0.8386352971931101, 0.8386352971931101, 0.8386352971931101, 0.8386352971931101, 0.8386352971931101, 0.8386352971931101, 0.8386352971931101, 0.8386352971931101, 0.8459688970997997, 0.8459688970997997]}], \"recall_score_macro\": [{\"categories\": [\"0\", \"1\", \"2\", \"3\", \"4\", \"5\", \"6\", \"7\", \"8\", \"9\", \"10\", \"11\", \"12\", \"13\", \"14\", \"15\", \"16\", \"17\", \"18\", \"19\", \"20\", \"21\", \"22\", \"23\", \"24\", \"25\", \"26\", \"27\", \"28\", \"29\", \"30\", \"31\", \"32\", \"33\", \"34\", \"38\", \"39\"], \"mode\": \"markers\", \"name\": \"recall_score_macro\", \"stepped\": false, \"type\": \"scatter\", \"data\": [0.7663876731554501, 0.7802620657427856, 0.7647978510917312, 0.7590106428921737, 0.7848425085002461, 0.7726606758025186, 0.7792834068631337, 0.765984619379596, 0.7619934402171857, 0.7600857508564793, 0.7773127186869044, 0.7770069685149043, 0.7725406497575692, 0.7702273926207074, 0.7853782881897929, 0.7743829784516801, 0.767896481600733, 0.771779827623977, 0.7576122357665763, 0.7879319232015529, 0.7718317610541425, 0.7523349053167573, 0.7713351340590853, 0.781953230189583, 0.7694686173386339, 0.5, 0.7436503150653894, 0.7655136708317074, 0.7709057340411478, 0.7729641966463566, 0.7334612422182961, 0.7204361055129179, 0.7615245863596511, 0.7832084900600447, 0.7862500847622882, 0.7939093839532704, 0.7814700862510114]}, {\"categories\": [\"0\", \"1\", \"2\", \"3\", \"4\", \"5\", \"6\", \"7\", \"8\", \"9\", \"10\", \"11\", \"12\", \"13\", \"14\", \"15\", \"16\", \"17\", \"18\", \"19\", \"20\", \"21\", \"22\", \"23\", \"24\", \"25\", \"26\", \"27\", \"28\", \"29\", \"30\", \"31\", \"32\", \"33\", \"34\", \"38\", \"39\"], \"mode\": \"lines\", \"name\": \"recall_score_macro_max\", \"stepped\": true, \"type\": \"scatter\", \"data\": [0.7663876731554501, 0.7802620657427856, 0.7802620657427856, 0.7802620657427856, 0.7848425085002461, 0.7848425085002461, 0.7848425085002461, 0.7848425085002461, 0.7848425085002461, 0.7848425085002461, 0.7848425085002461, 0.7848425085002461, 0.7848425085002461, 0.7848425085002461, 0.7853782881897929, 0.7853782881897929, 0.7853782881897929, 0.7853782881897929, 0.7853782881897929, 0.7879319232015529, 0.7879319232015529, 0.7879319232015529, 0.7879319232015529, 0.7879319232015529, 0.7879319232015529, 0.7879319232015529, 0.7879319232015529, 0.7879319232015529, 0.7879319232015529, 0.7879319232015529, 0.7879319232015529, 0.7879319232015529, 0.7879319232015529, 0.7879319232015529, 0.7879319232015529, 0.7939093839532704, 0.7939093839532704]}], \"recall_score_weighted\": [{\"categories\": [\"0\", \"1\", \"2\", \"3\", \"4\", \"5\", \"6\", \"7\", \"8\", \"9\", \"10\", \"11\", \"12\", \"13\", \"14\", \"15\", \"16\", \"17\", \"18\", \"19\", \"20\", \"21\", \"22\", \"23\", \"24\", \"25\", \"26\", \"27\", \"28\", \"29\", \"30\", \"31\", \"32\", \"33\", \"34\", \"38\", \"39\"], \"mode\": \"markers\", \"name\": \"recall_score_weighted\", \"stepped\": false, \"type\": \"scatter\", \"data\": [0.7879656160458453, 0.8080229226361032, 0.792741165234002, 0.778414517669532, 0.792741165234002, 0.7956064947468958, 0.8032473734479465, 0.7975167144221587, 0.7851002865329514, 0.7860553963705826, 0.7898758357211079, 0.802292263610315, 0.7956064947468958, 0.7984718242597899, 0.8032473734479465, 0.7975167144221585, 0.802292263610315, 0.7994269340974212, 0.7898758357211079, 0.8147086914995224, 0.8051575931232091, 0.7975167144221587, 0.7975167144221585, 0.8032473734479465, 0.7917860553963706, 0.617956064947469, 0.7851002865329514, 0.7640878701050621, 0.7793696275071632, 0.772683858643744, 0.7870105062082139, 0.7745940783190067, 0.792741165234002, 0.8051575931232092, 0.8118433619866284, 0.8213944603629417, 0.8099331423113657]}, {\"categories\": [\"0\", \"1\", \"2\", \"3\", \"4\", \"5\", \"6\", \"7\", \"8\", \"9\", \"10\", \"11\", \"12\", \"13\", \"14\", \"15\", \"16\", \"17\", \"18\", \"19\", \"20\", \"21\", \"22\", \"23\", \"24\", \"25\", \"26\", \"27\", \"28\", \"29\", \"30\", \"31\", \"32\", \"33\", \"34\", \"38\", \"39\"], \"mode\": \"lines\", \"name\": \"recall_score_weighted_max\", \"stepped\": true, \"type\": \"scatter\", \"data\": [0.7879656160458453, 0.8080229226361032, 0.8080229226361032, 0.8080229226361032, 0.8080229226361032, 0.8080229226361032, 0.8080229226361032, 0.8080229226361032, 0.8080229226361032, 0.8080229226361032, 0.8080229226361032, 0.8080229226361032, 0.8080229226361032, 0.8080229226361032, 0.8080229226361032, 0.8080229226361032, 0.8080229226361032, 0.8080229226361032, 0.8080229226361032, 0.8147086914995224, 0.8147086914995224, 0.8147086914995224, 0.8147086914995224, 0.8147086914995224, 0.8147086914995224, 0.8147086914995224, 0.8147086914995224, 0.8147086914995224, 0.8147086914995224, 0.8147086914995224, 0.8147086914995224, 0.8147086914995224, 0.8147086914995224, 0.8147086914995224, 0.8147086914995224, 0.8213944603629417, 0.8213944603629417]}], \"f1_score_micro\": [{\"categories\": [\"0\", \"1\", \"2\", \"3\", \"4\", \"5\", \"6\", \"7\", \"8\", \"9\", \"10\", \"11\", \"12\", \"13\", \"14\", \"15\", \"16\", \"17\", \"18\", \"19\", \"20\", \"21\", \"22\", \"23\", \"24\", \"25\", \"26\", \"27\", \"28\", \"29\", \"30\", \"31\", \"32\", \"33\", \"34\", \"38\", \"39\"], \"mode\": \"markers\", \"name\": \"f1_score_micro\", \"stepped\": false, \"type\": \"scatter\", \"data\": [0.7879656160458453, 0.8080229226361032, 0.792741165234002, 0.778414517669532, 0.792741165234002, 0.7956064947468958, 0.8032473734479465, 0.7975167144221587, 0.7851002865329514, 0.7860553963705826, 0.7898758357211079, 0.802292263610315, 0.7956064947468958, 0.7984718242597899, 0.8032473734479465, 0.7975167144221585, 0.8022922636103152, 0.7994269340974212, 0.7898758357211081, 0.8147086914995224, 0.8051575931232092, 0.7975167144221585, 0.7975167144221585, 0.8032473734479465, 0.7917860553963706, 0.617956064947469, 0.7851002865329514, 0.7640878701050621, 0.7793696275071632, 0.772683858643744, 0.7870105062082139, 0.7745940783190067, 0.792741165234002, 0.8051575931232091, 0.8118433619866284, 0.8213944603629417, 0.8099331423113658]}, {\"categories\": [\"0\", \"1\", \"2\", \"3\", \"4\", \"5\", \"6\", \"7\", \"8\", \"9\", \"10\", \"11\", \"12\", \"13\", \"14\", \"15\", \"16\", \"17\", \"18\", \"19\", \"20\", \"21\", \"22\", \"23\", \"24\", \"25\", \"26\", \"27\", \"28\", \"29\", \"30\", \"31\", \"32\", \"33\", \"34\", \"38\", \"39\"], \"mode\": \"lines\", \"name\": \"f1_score_micro_max\", \"stepped\": true, \"type\": \"scatter\", \"data\": [0.7879656160458453, 0.8080229226361032, 0.8080229226361032, 0.8080229226361032, 0.8080229226361032, 0.8080229226361032, 0.8080229226361032, 0.8080229226361032, 0.8080229226361032, 0.8080229226361032, 0.8080229226361032, 0.8080229226361032, 0.8080229226361032, 0.8080229226361032, 0.8080229226361032, 0.8080229226361032, 0.8080229226361032, 0.8080229226361032, 0.8080229226361032, 0.8147086914995224, 0.8147086914995224, 0.8147086914995224, 0.8147086914995224, 0.8147086914995224, 0.8147086914995224, 0.8147086914995224, 0.8147086914995224, 0.8147086914995224, 0.8147086914995224, 0.8147086914995224, 0.8147086914995224, 0.8147086914995224, 0.8147086914995224, 0.8147086914995224, 0.8147086914995224, 0.8213944603629417, 0.8213944603629417]}], \"AUC_micro\": [{\"categories\": [\"0\", \"1\", \"2\", \"3\", \"4\", \"5\", \"6\", \"7\", \"8\", \"9\", \"10\", \"11\", \"12\", \"13\", \"14\", \"15\", \"16\", \"17\", \"18\", \"19\", \"20\", \"21\", \"22\", \"23\", \"24\", \"25\", \"26\", \"27\", \"28\", \"29\", \"30\", \"31\", \"32\", \"33\", \"34\", \"38\", \"39\"], \"mode\": \"markers\", \"name\": \"AUC_micro\", \"stepped\": false, \"type\": \"scatter\", \"data\": [0.8704444134284612, 0.885578388792648, 0.8709151265862621, 0.8589940421945085, 0.8672178389339988, 0.8707728179571596, 0.8743195868671029, 0.8483072114897799, 0.8605594371146378, 0.8570701389972166, 0.8539338757481466, 0.8655676061772892, 0.8684356723945891, 0.8685533506840392, 0.8712435311149608, 0.8623382949784211, 0.8656524440138696, 0.868832494533433, 0.8626420691674671, 0.876511687096165, 0.8638024318355351, 0.8466542420286642, 0.874333270389132, 0.8708795494289867, 0.8665637665810078, 0.7761047391510196, 0.8526339411553819, 0.8421167861238139, 0.846199949097298, 0.8466049813493596, 0.8424588741745415, 0.8419416370418414, 0.8632769845896174, 0.8686080847721556, 0.8776063688584933, 0.879303125590102, 0.8810765100450736]}, {\"categories\": [\"0\", \"1\", \"2\", \"3\", \"4\", \"5\", \"6\", \"7\", \"8\", \"9\", \"10\", \"11\", \"12\", \"13\", \"14\", \"15\", \"16\", \"17\", \"18\", \"19\", \"20\", \"21\", \"22\", \"23\", \"24\", \"25\", \"26\", \"27\", \"28\", \"29\", \"30\", \"31\", \"32\", \"33\", \"34\", \"38\", \"39\"], \"mode\": \"lines\", \"name\": \"AUC_micro_max\", \"stepped\": true, \"type\": \"scatter\", \"data\": [0.8704444134284612, 0.885578388792648, 0.885578388792648, 0.885578388792648, 0.885578388792648, 0.885578388792648, 0.885578388792648, 0.885578388792648, 0.885578388792648, 0.885578388792648, 0.885578388792648, 0.885578388792648, 0.885578388792648, 0.885578388792648, 0.885578388792648, 0.885578388792648, 0.885578388792648, 0.885578388792648, 0.885578388792648, 0.885578388792648, 0.885578388792648, 0.885578388792648, 0.885578388792648, 0.885578388792648, 0.885578388792648, 0.885578388792648, 0.885578388792648, 0.885578388792648, 0.885578388792648, 0.885578388792648, 0.885578388792648, 0.885578388792648, 0.885578388792648, 0.885578388792648, 0.885578388792648, 0.885578388792648, 0.885578388792648]}], \"AUC_macro\": [{\"categories\": [\"0\", \"1\", \"2\", \"3\", \"4\", \"5\", \"6\", \"7\", \"8\", \"9\", \"10\", \"11\", \"12\", \"13\", \"14\", \"15\", \"16\", \"17\", \"18\", \"19\", \"20\", \"21\", \"22\", \"23\", \"24\", \"25\", \"26\", \"27\", \"28\", \"29\", \"30\", \"31\", \"32\", \"33\", \"34\", \"38\", \"39\"], \"mode\": \"markers\", \"name\": \"AUC_macro\", \"stepped\": false, \"type\": \"scatter\", \"data\": [0.8536678514349534, 0.8678531479143805, 0.8516972829494215, 0.8411091626128218, 0.8553607979038492, 0.849457947735511, 0.8559089499994764, 0.8159470349003985, 0.8422872289487172, 0.8365041651068185, 0.8375093249099915, 0.8405271189596792, 0.848148001313081, 0.8488584900246191, 0.8542653398974642, 0.8447307460326559, 0.8447929568552381, 0.8467003989466573, 0.8388963132968655, 0.8562483040783181, 0.8428401843577286, 0.8360451939718132, 0.8515824318299984, 0.8535227452276244, 0.8458402800630193, 0.8348457962522152, 0.8358385168303805, 0.8357049115449557, 0.8378659949262142, 0.8369303287712949, 0.833909523418801, 0.8413623880813832, 0.8441547925538216, 0.8496796280214719, 0.8560781631980764, 0.8605621312978774, 0.8633356403870054]}, {\"categories\": [\"0\", \"1\", \"2\", \"3\", \"4\", \"5\", \"6\", \"7\", \"8\", \"9\", \"10\", \"11\", \"12\", \"13\", \"14\", \"15\", \"16\", \"17\", \"18\", \"19\", \"20\", \"21\", \"22\", \"23\", \"24\", \"25\", \"26\", \"27\", \"28\", \"29\", \"30\", \"31\", \"32\", \"33\", \"34\", \"38\", \"39\"], \"mode\": \"lines\", \"name\": \"AUC_macro_max\", \"stepped\": true, \"type\": \"scatter\", \"data\": [0.8536678514349534, 0.8678531479143805, 0.8678531479143805, 0.8678531479143805, 0.8678531479143805, 0.8678531479143805, 0.8678531479143805, 0.8678531479143805, 0.8678531479143805, 0.8678531479143805, 0.8678531479143805, 0.8678531479143805, 0.8678531479143805, 0.8678531479143805, 0.8678531479143805, 0.8678531479143805, 0.8678531479143805, 0.8678531479143805, 0.8678531479143805, 0.8678531479143805, 0.8678531479143805, 0.8678531479143805, 0.8678531479143805, 0.8678531479143805, 0.8678531479143805, 0.8678531479143805, 0.8678531479143805, 0.8678531479143805, 0.8678531479143805, 0.8678531479143805, 0.8678531479143805, 0.8678531479143805, 0.8678531479143805, 0.8678531479143805, 0.8678531479143805, 0.8678531479143805, 0.8678531479143805]}], \"f1_score_macro\": [{\"categories\": [\"0\", \"1\", \"2\", \"3\", \"4\", \"5\", \"6\", \"7\", \"8\", \"9\", \"10\", \"11\", \"12\", \"13\", \"14\", \"15\", \"16\", \"17\", \"18\", \"19\", \"20\", \"21\", \"22\", \"23\", \"24\", \"25\", \"26\", \"27\", \"28\", \"29\", \"30\", \"31\", \"32\", \"33\", \"34\", \"38\", \"39\"], \"mode\": \"markers\", \"name\": \"f1_score_macro\", \"stepped\": false, \"type\": \"scatter\", \"data\": [0.7703578865954945, 0.7886104338170347, 0.7724518134020554, 0.7623025930735268, 0.7820107442223382, 0.7783266654784119, 0.785739177997689, 0.7750707415541601, 0.7668354770566846, 0.7661476986207404, 0.7771687749735646, 0.7837067434728876, 0.7781878166284422, 0.7777936652453651, 0.7887569222358394, 0.780265645927, 0.77859029956632, 0.779560972714338, 0.7661459198702302, 0.796328682204639, 0.7822889241312208, 0.7653651786657992, 0.7782572967523514, 0.7872580595994072, 0.7739877569551544, 0.3819228523840639, 0.7548240614668457, 0.7565955427581422, 0.7680857840244064, 0.764897953933603, 0.7454436211394047, 0.7316014247003295, 0.7702767530518418, 0.7888879466152515, 0.7935161879024327, 0.8031704540431251, 0.7902114523432058]}, {\"categories\": [\"0\", \"1\", \"2\", \"3\", \"4\", \"5\", \"6\", \"7\", \"8\", \"9\", \"10\", \"11\", \"12\", \"13\", \"14\", \"15\", \"16\", \"17\", \"18\", \"19\", \"20\", \"21\", \"22\", \"23\", \"24\", \"25\", \"26\", \"27\", \"28\", \"29\", \"30\", \"31\", \"32\", \"33\", \"34\", \"38\", \"39\"], \"mode\": \"lines\", \"name\": \"f1_score_macro_max\", \"stepped\": true, \"type\": \"scatter\", \"data\": [0.7703578865954945, 0.7886104338170347, 0.7886104338170347, 0.7886104338170347, 0.7886104338170347, 0.7886104338170347, 0.7886104338170347, 0.7886104338170347, 0.7886104338170347, 0.7886104338170347, 0.7886104338170347, 0.7886104338170347, 0.7886104338170347, 0.7886104338170347, 0.7887569222358394, 0.7887569222358394, 0.7887569222358394, 0.7887569222358394, 0.7887569222358394, 0.796328682204639, 0.796328682204639, 0.796328682204639, 0.796328682204639, 0.796328682204639, 0.796328682204639, 0.796328682204639, 0.796328682204639, 0.796328682204639, 0.796328682204639, 0.796328682204639, 0.796328682204639, 0.796328682204639, 0.796328682204639, 0.796328682204639, 0.796328682204639, 0.8031704540431251, 0.8031704540431251]}], \"precision_score_micro\": [{\"categories\": [\"0\", \"1\", \"2\", \"3\", \"4\", \"5\", \"6\", \"7\", \"8\", \"9\", \"10\", \"11\", \"12\", \"13\", \"14\", \"15\", \"16\", \"17\", \"18\", \"19\", \"20\", \"21\", \"22\", \"23\", \"24\", \"25\", \"26\", \"27\", \"28\", \"29\", \"30\", \"31\", \"32\", \"33\", \"34\", \"38\", \"39\"], \"mode\": \"markers\", \"name\": \"precision_score_micro\", \"stepped\": false, \"type\": \"scatter\", \"data\": [0.7879656160458453, 0.8080229226361032, 0.792741165234002, 0.778414517669532, 0.792741165234002, 0.7956064947468958, 0.8032473734479465, 0.7975167144221587, 0.7851002865329514, 0.7860553963705826, 0.7898758357211079, 0.802292263610315, 0.7956064947468958, 0.7984718242597899, 0.8032473734479465, 0.7975167144221585, 0.802292263610315, 0.7994269340974212, 0.7898758357211079, 0.8147086914995224, 0.8051575931232091, 0.7975167144221587, 0.7975167144221585, 0.8032473734479465, 0.7917860553963706, 0.617956064947469, 0.7851002865329514, 0.7640878701050621, 0.7793696275071632, 0.772683858643744, 0.7870105062082139, 0.7745940783190067, 0.792741165234002, 0.8051575931232092, 0.8118433619866284, 0.8213944603629417, 0.8099331423113657]}, {\"categories\": [\"0\", \"1\", \"2\", \"3\", \"4\", \"5\", \"6\", \"7\", \"8\", \"9\", \"10\", \"11\", \"12\", \"13\", \"14\", \"15\", \"16\", \"17\", \"18\", \"19\", \"20\", \"21\", \"22\", \"23\", \"24\", \"25\", \"26\", \"27\", \"28\", \"29\", \"30\", \"31\", \"32\", \"33\", \"34\", \"38\", \"39\"], \"mode\": \"lines\", \"name\": \"precision_score_micro_max\", \"stepped\": true, \"type\": \"scatter\", \"data\": [0.7879656160458453, 0.8080229226361032, 0.8080229226361032, 0.8080229226361032, 0.8080229226361032, 0.8080229226361032, 0.8080229226361032, 0.8080229226361032, 0.8080229226361032, 0.8080229226361032, 0.8080229226361032, 0.8080229226361032, 0.8080229226361032, 0.8080229226361032, 0.8080229226361032, 0.8080229226361032, 0.8080229226361032, 0.8080229226361032, 0.8080229226361032, 0.8147086914995224, 0.8147086914995224, 0.8147086914995224, 0.8147086914995224, 0.8147086914995224, 0.8147086914995224, 0.8147086914995224, 0.8147086914995224, 0.8147086914995224, 0.8147086914995224, 0.8147086914995224, 0.8147086914995224, 0.8147086914995224, 0.8147086914995224, 0.8147086914995224, 0.8147086914995224, 0.8213944603629417, 0.8213944603629417]}], \"accuracy\": [{\"categories\": [\"0\", \"1\", \"2\", \"3\", \"4\", \"5\", \"6\", \"7\", \"8\", \"9\", \"10\", \"11\", \"12\", \"13\", \"14\", \"15\", \"16\", \"17\", \"18\", \"19\", \"20\", \"21\", \"22\", \"23\", \"24\", \"25\", \"26\", \"27\", \"28\", \"29\", \"30\", \"31\", \"32\", \"33\", \"34\", \"38\", \"39\"], \"mode\": \"markers\", \"name\": \"accuracy\", \"stepped\": false, \"type\": \"scatter\", \"data\": [0.7879656160458453, 0.8080229226361032, 0.792741165234002, 0.778414517669532, 0.792741165234002, 0.7956064947468958, 0.8032473734479465, 0.7975167144221587, 0.7851002865329514, 0.7860553963705826, 0.7898758357211079, 0.802292263610315, 0.7956064947468958, 0.7984718242597899, 0.8032473734479465, 0.7975167144221585, 0.802292263610315, 0.7994269340974212, 0.7898758357211079, 0.8147086914995224, 0.8051575931232091, 0.7975167144221587, 0.7975167144221585, 0.8032473734479465, 0.7917860553963706, 0.617956064947469, 0.7851002865329514, 0.7640878701050621, 0.7793696275071632, 0.772683858643744, 0.7870105062082139, 0.7745940783190067, 0.792741165234002, 0.8051575931232092, 0.8118433619866284, 0.8213944603629417, 0.8099331423113657]}, {\"categories\": [\"0\", \"1\", \"2\", \"3\", \"4\", \"5\", \"6\", \"7\", \"8\", \"9\", \"10\", \"11\", \"12\", \"13\", \"14\", \"15\", \"16\", \"17\", \"18\", \"19\", \"20\", \"21\", \"22\", \"23\", \"24\", \"25\", \"26\", \"27\", \"28\", \"29\", \"30\", \"31\", \"32\", \"33\", \"34\", \"38\", \"39\"], \"mode\": \"lines\", \"name\": \"accuracy_max\", \"stepped\": true, \"type\": \"scatter\", \"data\": [0.7879656160458453, 0.8080229226361032, 0.8080229226361032, 0.8080229226361032, 0.8080229226361032, 0.8080229226361032, 0.8080229226361032, 0.8080229226361032, 0.8080229226361032, 0.8080229226361032, 0.8080229226361032, 0.8080229226361032, 0.8080229226361032, 0.8080229226361032, 0.8080229226361032, 0.8080229226361032, 0.8080229226361032, 0.8080229226361032, 0.8080229226361032, 0.8147086914995224, 0.8147086914995224, 0.8147086914995224, 0.8147086914995224, 0.8147086914995224, 0.8147086914995224, 0.8147086914995224, 0.8147086914995224, 0.8147086914995224, 0.8147086914995224, 0.8147086914995224, 0.8147086914995224, 0.8147086914995224, 0.8147086914995224, 0.8147086914995224, 0.8147086914995224, 0.8213944603629417, 0.8213944603629417]}], \"precision_score_macro\": [{\"categories\": [\"0\", \"1\", \"2\", \"3\", \"4\", \"5\", \"6\", \"7\", \"8\", \"9\", \"10\", \"11\", \"12\", \"13\", \"14\", \"15\", \"16\", \"17\", \"18\", \"19\", \"20\", \"21\", \"22\", \"23\", \"24\", \"25\", \"26\", \"27\", \"28\", \"29\", \"30\", \"31\", \"32\", \"33\", \"34\", \"38\", \"39\"], \"mode\": \"markers\", \"name\": \"precision_score_macro\", \"stepped\": false, \"type\": \"scatter\", \"data\": [0.7778292651817117, 0.8073870581234374, 0.7915330252049494, 0.7709647220338448, 0.7819196144052242, 0.7901314396602905, 0.7989521617755515, 0.7982026519144002, 0.7769572520049085, 0.7780006751995665, 0.7794829369894546, 0.7994170987385053, 0.7919223877111539, 0.8003817615810617, 0.7940865300449561, 0.7946131854244322, 0.8073702541184214, 0.796387523882062, 0.8004108151929156, 0.8138073710004656, 0.8113219416881124, 0.8225868865727008, 0.7946342200674469, 0.7967909687140322, 0.7828460202724564, 0.3089780324737345, 0.7950660121400217, 0.7539824325753522, 0.7669990429906992, 0.762073487783702, 0.826472052013512, 0.806297438228257, 0.7938020179575994, 0.7993320160026282, 0.8085839040296842, 0.8234055531747675, 0.8127182302529455]}, {\"categories\": [\"0\", \"1\", \"2\", \"3\", \"4\", \"5\", \"6\", \"7\", \"8\", \"9\", \"10\", \"11\", \"12\", \"13\", \"14\", \"15\", \"16\", \"17\", \"18\", \"19\", \"20\", \"21\", \"22\", \"23\", \"24\", \"25\", \"26\", \"27\", \"28\", \"29\", \"30\", \"31\", \"32\", \"33\", \"34\", \"38\", \"39\"], \"mode\": \"lines\", \"name\": \"precision_score_macro_max\", \"stepped\": true, \"type\": \"scatter\", \"data\": [0.7778292651817117, 0.8073870581234374, 0.8073870581234374, 0.8073870581234374, 0.8073870581234374, 0.8073870581234374, 0.8073870581234374, 0.8073870581234374, 0.8073870581234374, 0.8073870581234374, 0.8073870581234374, 0.8073870581234374, 0.8073870581234374, 0.8073870581234374, 0.8073870581234374, 0.8073870581234374, 0.8073870581234374, 0.8073870581234374, 0.8073870581234374, 0.8138073710004656, 0.8138073710004656, 0.8225868865727008, 0.8225868865727008, 0.8225868865727008, 0.8225868865727008, 0.8225868865727008, 0.8225868865727008, 0.8225868865727008, 0.8225868865727008, 0.8225868865727008, 0.826472052013512, 0.826472052013512, 0.826472052013512, 0.826472052013512, 0.826472052013512, 0.826472052013512, 0.826472052013512]}], \"log_loss\": [{\"categories\": [\"0\", \"1\", \"2\", \"3\", \"4\", \"5\", \"6\", \"7\", \"8\", \"9\", \"10\", \"11\", \"12\", \"13\", \"14\", \"15\", \"16\", \"17\", \"18\", \"19\", \"20\", \"21\", \"22\", \"23\", \"24\", \"25\", \"26\", \"27\", \"28\", \"29\", \"30\", \"31\", \"32\", \"33\", \"34\", \"38\", \"39\"], \"mode\": \"markers\", \"name\": \"log_loss\", \"stepped\": false, \"type\": \"scatter\", \"data\": [0.4998363352915116, 0.4311231554949873, 0.4522317514386374, 0.4715837933819212, 0.4638667993469349, 0.4481901952004051, 0.44553995411721736, 0.48012572831892814, 0.4966055440968242, 0.4770386595004256, 0.4789548363226069, 0.4577740827219953, 0.45994675779013167, 0.45309888826354117, 0.4714034168194307, 0.47630352382159485, 0.4717679118391575, 0.4539651090526844, 0.46345411117758584, 0.444121965896275, 0.4670984173614445, 0.5177220767580083, 0.5658016900387366, 0.45301503042754493, 0.4943684615331179, 0.6476628119427569, 0.49540341674153393, 0.5107498891089773, 0.5103249962660951, 0.5928002827216438, 0.532737900105218, 0.5338206611507955, 0.46755905111924795, 0.4530878258075206, 0.48590235955416167, 0.4417049521225033, 0.44683961125490224]}, {\"categories\": [\"0\", \"1\", \"2\", \"3\", \"4\", \"5\", \"6\", \"7\", \"8\", \"9\", \"10\", \"11\", \"12\", \"13\", \"14\", \"15\", \"16\", \"17\", \"18\", \"19\", \"20\", \"21\", \"22\", \"23\", \"24\", \"25\", \"26\", \"27\", \"28\", \"29\", \"30\", \"31\", \"32\", \"33\", \"34\", \"38\", \"39\"], \"mode\": \"lines\", \"name\": \"log_loss_min\", \"stepped\": true, \"type\": \"scatter\", \"data\": [0.4998363352915116, 0.4311231554949873, 0.4311231554949873, 0.4311231554949873, 0.4311231554949873, 0.4311231554949873, 0.4311231554949873, 0.4311231554949873, 0.4311231554949873, 0.4311231554949873, 0.4311231554949873, 0.4311231554949873, 0.4311231554949873, 0.4311231554949873, 0.4311231554949873, 0.4311231554949873, 0.4311231554949873, 0.4311231554949873, 0.4311231554949873, 0.4311231554949873, 0.4311231554949873, 0.4311231554949873, 0.4311231554949873, 0.4311231554949873, 0.4311231554949873, 0.4311231554949873, 0.4311231554949873, 0.4311231554949873, 0.4311231554949873, 0.4311231554949873, 0.4311231554949873, 0.4311231554949873, 0.4311231554949873, 0.4311231554949873, 0.4311231554949873, 0.4311231554949873, 0.4311231554949873]}], \"balanced_accuracy\": [{\"categories\": [\"0\", \"1\", \"2\", \"3\", \"4\", \"5\", \"6\", \"7\", \"8\", \"9\", \"10\", \"11\", \"12\", \"13\", \"14\", \"15\", \"16\", \"17\", \"18\", \"19\", \"20\", \"21\", \"22\", \"23\", \"24\", \"25\", \"26\", \"27\", \"28\", \"29\", \"30\", \"31\", \"32\", \"33\", \"34\", \"38\", \"39\"], \"mode\": \"markers\", \"name\": \"balanced_accuracy\", \"stepped\": false, \"type\": \"scatter\", \"data\": [0.7663876731554501, 0.7802620657427856, 0.7647978510917312, 0.7590106428921737, 0.7848425085002461, 0.7726606758025186, 0.7792834068631337, 0.765984619379596, 0.7619934402171857, 0.7600857508564793, 0.7773127186869044, 0.7770069685149043, 0.7725406497575692, 0.7702273926207074, 0.7853782881897929, 0.7743829784516801, 0.767896481600733, 0.771779827623977, 0.7576122357665763, 0.7879319232015529, 0.7718317610541425, 0.7523349053167573, 0.7713351340590853, 0.781953230189583, 0.7694686173386339, 0.5, 0.7436503150653894, 0.7655136708317074, 0.7709057340411478, 0.7729641966463566, 0.7334612422182961, 0.7204361055129179, 0.7615245863596511, 0.7832084900600447, 0.7862500847622882, 0.7939093839532704, 0.7814700862510114]}, {\"categories\": [\"0\", \"1\", \"2\", \"3\", \"4\", \"5\", \"6\", \"7\", \"8\", \"9\", \"10\", \"11\", \"12\", \"13\", \"14\", \"15\", \"16\", \"17\", \"18\", \"19\", \"20\", \"21\", \"22\", \"23\", \"24\", \"25\", \"26\", \"27\", \"28\", \"29\", \"30\", \"31\", \"32\", \"33\", \"34\", \"38\", \"39\"], \"mode\": \"lines\", \"name\": \"balanced_accuracy_max\", \"stepped\": true, \"type\": \"scatter\", \"data\": [0.7663876731554501, 0.7802620657427856, 0.7802620657427856, 0.7802620657427856, 0.7848425085002461, 0.7848425085002461, 0.7848425085002461, 0.7848425085002461, 0.7848425085002461, 0.7848425085002461, 0.7848425085002461, 0.7848425085002461, 0.7848425085002461, 0.7848425085002461, 0.7853782881897929, 0.7853782881897929, 0.7853782881897929, 0.7853782881897929, 0.7853782881897929, 0.7879319232015529, 0.7879319232015529, 0.7879319232015529, 0.7879319232015529, 0.7879319232015529, 0.7879319232015529, 0.7879319232015529, 0.7879319232015529, 0.7879319232015529, 0.7879319232015529, 0.7879319232015529, 0.7879319232015529, 0.7879319232015529, 0.7879319232015529, 0.7879319232015529, 0.7879319232015529, 0.7939093839532704, 0.7939093839532704]}], \"norm_macro_recall\": [{\"categories\": [\"0\", \"1\", \"2\", \"3\", \"4\", \"5\", \"6\", \"7\", \"8\", \"9\", \"10\", \"11\", \"12\", \"13\", \"14\", \"15\", \"16\", \"17\", \"18\", \"19\", \"20\", \"21\", \"22\", \"23\", \"24\", \"25\", \"26\", \"27\", \"28\", \"29\", \"30\", \"31\", \"32\", \"33\", \"34\", \"38\", \"39\"], \"mode\": \"markers\", \"name\": \"norm_macro_recall\", \"stepped\": false, \"type\": \"scatter\", \"data\": [0.5327753463109004, 0.5605241314855711, 0.5295957021834624, 0.5180212857843473, 0.5696850170004922, 0.5453213516050374, 0.5585668137262673, 0.5319692387591922, 0.5239868804343714, 0.5201715017129588, 0.5546254373738088, 0.5540139370298084, 0.5450812995151383, 0.5404547852414149, 0.5707565763795859, 0.54876595690336, 0.535792963201466, 0.543559655247954, 0.5152244715331524, 0.575863846403106, 0.5436635221082852, 0.5046698106335142, 0.5426702681181707, 0.563906460379166, 0.538937234677268, 0.0, 0.4873006301307787, 0.5310273416634149, 0.5418114680822959, 0.5459283932927133, 0.46692248443659207, 0.44087221102583585, 0.5230491727193024, 0.5664169801200893, 0.5725001695245765, 0.5878187679065409, 0.562940172502023]}, {\"categories\": [\"0\", \"1\", \"2\", \"3\", \"4\", \"5\", \"6\", \"7\", \"8\", \"9\", \"10\", \"11\", \"12\", \"13\", \"14\", \"15\", \"16\", \"17\", \"18\", \"19\", \"20\", \"21\", \"22\", \"23\", \"24\", \"25\", \"26\", \"27\", \"28\", \"29\", \"30\", \"31\", \"32\", \"33\", \"34\", \"38\", \"39\"], \"mode\": \"lines\", \"name\": \"norm_macro_recall_max\", \"stepped\": true, \"type\": \"scatter\", \"data\": [0.5327753463109004, 0.5605241314855711, 0.5605241314855711, 0.5605241314855711, 0.5696850170004922, 0.5696850170004922, 0.5696850170004922, 0.5696850170004922, 0.5696850170004922, 0.5696850170004922, 0.5696850170004922, 0.5696850170004922, 0.5696850170004922, 0.5696850170004922, 0.5707565763795859, 0.5707565763795859, 0.5707565763795859, 0.5707565763795859, 0.5707565763795859, 0.575863846403106, 0.575863846403106, 0.575863846403106, 0.575863846403106, 0.575863846403106, 0.575863846403106, 0.575863846403106, 0.575863846403106, 0.575863846403106, 0.575863846403106, 0.575863846403106, 0.575863846403106, 0.575863846403106, 0.575863846403106, 0.575863846403106, 0.575863846403106, 0.5878187679065409, 0.5878187679065409]}], \"average_precision_score_micro\": [{\"categories\": [\"0\", \"1\", \"2\", \"3\", \"4\", \"5\", \"6\", \"7\", \"8\", \"9\", \"10\", \"11\", \"12\", \"13\", \"14\", \"15\", \"16\", \"17\", \"18\", \"19\", \"20\", \"21\", \"22\", \"23\", \"24\", \"25\", \"26\", \"27\", \"28\", \"29\", \"30\", \"31\", \"32\", \"33\", \"34\", \"38\", \"39\"], \"mode\": \"markers\", \"name\": \"average_precision_score_micro\", \"stepped\": false, \"type\": \"scatter\", \"data\": [0.863666599473822, 0.876507107561335, 0.8629896871689309, 0.8493220567019742, 0.8603363449032934, 0.8571379975885364, 0.862118105642334, 0.8317253097880427, 0.8501875129850879, 0.8453685196018138, 0.8316535222368788, 0.8538946102685925, 0.8524661186178619, 0.8577062965891818, 0.862663503978685, 0.8511450465234883, 0.8533347812158446, 0.8575277126082795, 0.8497278916396843, 0.8680408877863813, 0.8463620349316793, 0.8209565465328125, 0.8635367876653343, 0.8625019070872888, 0.8525461173035603, 0.7709904617065005, 0.8442007932415484, 0.8340174827201281, 0.8387928190882766, 0.8388682379571163, 0.8154103509639784, 0.8312031159779886, 0.8539321024409842, 0.8593678087739663, 0.8675299381319382, 0.8698781287211146, 0.8719969841503371]}, {\"categories\": [\"0\", \"1\", \"2\", \"3\", \"4\", \"5\", \"6\", \"7\", \"8\", \"9\", \"10\", \"11\", \"12\", \"13\", \"14\", \"15\", \"16\", \"17\", \"18\", \"19\", \"20\", \"21\", \"22\", \"23\", \"24\", \"25\", \"26\", \"27\", \"28\", \"29\", \"30\", \"31\", \"32\", \"33\", \"34\", \"38\", \"39\"], \"mode\": \"lines\", \"name\": \"average_precision_score_micro_max\", \"stepped\": true, \"type\": \"scatter\", \"data\": [0.863666599473822, 0.876507107561335, 0.876507107561335, 0.876507107561335, 0.876507107561335, 0.876507107561335, 0.876507107561335, 0.876507107561335, 0.876507107561335, 0.876507107561335, 0.876507107561335, 0.876507107561335, 0.876507107561335, 0.876507107561335, 0.876507107561335, 0.876507107561335, 0.876507107561335, 0.876507107561335, 0.876507107561335, 0.876507107561335, 0.876507107561335, 0.876507107561335, 0.876507107561335, 0.876507107561335, 0.876507107561335, 0.876507107561335, 0.876507107561335, 0.876507107561335, 0.876507107561335, 0.876507107561335, 0.876507107561335, 0.876507107561335, 0.876507107561335, 0.876507107561335, 0.876507107561335, 0.876507107561335, 0.876507107561335]}], \"average_precision_score_macro\": [{\"categories\": [\"0\", \"1\", \"2\", \"3\", \"4\", \"5\", \"6\", \"7\", \"8\", \"9\", \"10\", \"11\", \"12\", \"13\", \"14\", \"15\", \"16\", \"17\", \"18\", \"19\", \"20\", \"21\", \"22\", \"23\", \"24\", \"25\", \"26\", \"27\", \"28\", \"29\", \"30\", \"31\", \"32\", \"33\", \"34\", \"38\", \"39\"], \"mode\": \"markers\", \"name\": \"average_precision_score_macro\", \"stepped\": false, \"type\": \"scatter\", \"data\": [0.8498630991374253, 0.8626483091697338, 0.8478487017890504, 0.8412315428939358, 0.8496774776359587, 0.8434542043473615, 0.8479483802252604, 0.8097323581610353, 0.8348950394308008, 0.8298997404961274, 0.8322877608602667, 0.8367481631636943, 0.84080514702493, 0.8444533972930661, 0.8509534075025215, 0.8434468230429846, 0.8441221361447911, 0.8435381070843241, 0.8345257062756536, 0.8529488017461748, 0.838625922592148, 0.8272546985155147, 0.84708105910795, 0.8488166428700844, 0.8348936485503357, 0.8258227161042901, 0.8330937457399218, 0.8318911072279688, 0.8347955918474753, 0.8325084242210208, 0.8162846834963191, 0.8400005747221292, 0.8401956996636528, 0.8457219122443119, 0.8503011013774423, 0.8573992055258195, 0.8585764807031797]}, {\"categories\": [\"0\", \"1\", \"2\", \"3\", \"4\", \"5\", \"6\", \"7\", \"8\", \"9\", \"10\", \"11\", \"12\", \"13\", \"14\", \"15\", \"16\", \"17\", \"18\", \"19\", \"20\", \"21\", \"22\", \"23\", \"24\", \"25\", \"26\", \"27\", \"28\", \"29\", \"30\", \"31\", \"32\", \"33\", \"34\", \"38\", \"39\"], \"mode\": \"lines\", \"name\": \"average_precision_score_macro_max\", \"stepped\": true, \"type\": \"scatter\", \"data\": [0.8498630991374253, 0.8626483091697338, 0.8626483091697338, 0.8626483091697338, 0.8626483091697338, 0.8626483091697338, 0.8626483091697338, 0.8626483091697338, 0.8626483091697338, 0.8626483091697338, 0.8626483091697338, 0.8626483091697338, 0.8626483091697338, 0.8626483091697338, 0.8626483091697338, 0.8626483091697338, 0.8626483091697338, 0.8626483091697338, 0.8626483091697338, 0.8626483091697338, 0.8626483091697338, 0.8626483091697338, 0.8626483091697338, 0.8626483091697338, 0.8626483091697338, 0.8626483091697338, 0.8626483091697338, 0.8626483091697338, 0.8626483091697338, 0.8626483091697338, 0.8626483091697338, 0.8626483091697338, 0.8626483091697338, 0.8626483091697338, 0.8626483091697338, 0.8626483091697338, 0.8626483091697338]}]}, \"metricName\": null, \"primaryMetricName\": \"accuracy\", \"showLegend\": false}, \"run_metrics\": [{\"name\": \"experiment_status\", \"run_id\": \"AutoML_0b31e7a1-a5f4-4cc3-bb7b-fcd2dceff51b\", \"categories\": [0, 1, 2, 3, 4, 5, 6, 7, 8, 9, 10, 11, 12, 13], \"series\": [{\"data\": [\"DatasetEvaluation\", \"FeaturesGeneration\", \"DatasetFeaturization\", \"DatasetFeaturizationCompleted\", \"DatasetCrossValidationSplit\", \"ModelSelection\", \"BestRunExplainModel\", \"ModelExplanationDataSetSetup\", \"PickSurrogateModel\", \"EngineeredFeatureExplanations\", \"EngineeredFeatureExplanations\", \"RawFeaturesExplanations\", \"RawFeaturesExplanations\", \"BestRunExplainModel\"]}]}, {\"name\": \"experiment_status_description\", \"run_id\": \"AutoML_0b31e7a1-a5f4-4cc3-bb7b-fcd2dceff51b\", \"categories\": [0, 1, 2, 3, 4, 5, 6, 7, 8, 9, 10, 11, 12, 13], \"series\": [{\"data\": [\"Gathering dataset statistics.\", \"Generating features for the dataset.\", \"Beginning to fit featurizers and featurize the dataset.\", \"Completed fit featurizers and featurizing the dataset.\", \"Generating individually featurized CV splits.\", \"Beginning model selection.\", \"Best run model explanations started\", \"Model explanations data setup completed\", \"Choosing LightGBM as the surrogate model for explanations\", \"Computation of engineered features started\", \"Computation of engineered features completed\", \"Computation of raw features started\", \"Computation of raw features completed\", \"Best run model explanations completed\"]}]}, {\"name\": \"weighted_accuracy\", \"run_id\": \"AutoML_0b31e7a1-a5f4-4cc3-bb7b-fcd2dceff51b\", \"categories\": [0], \"series\": [{\"data\": [0.8459688970997997]}]}, {\"name\": \"AUC_micro\", \"run_id\": \"AutoML_0b31e7a1-a5f4-4cc3-bb7b-fcd2dceff51b\", \"categories\": [0], \"series\": [{\"data\": [0.879303125590102]}]}, {\"name\": \"average_precision_score_weighted\", \"run_id\": \"AutoML_0b31e7a1-a5f4-4cc3-bb7b-fcd2dceff51b\", \"categories\": [0], \"series\": [{\"data\": [0.8635230446078458]}]}, {\"name\": \"f1_score_macro\", \"run_id\": \"AutoML_0b31e7a1-a5f4-4cc3-bb7b-fcd2dceff51b\", \"categories\": [0], \"series\": [{\"data\": [0.8031704540431251]}]}, {\"name\": \"average_precision_score_macro\", \"run_id\": \"AutoML_0b31e7a1-a5f4-4cc3-bb7b-fcd2dceff51b\", \"categories\": [0], \"series\": [{\"data\": [0.8573992055258195]}]}, {\"name\": \"matthews_correlation\", \"run_id\": \"AutoML_0b31e7a1-a5f4-4cc3-bb7b-fcd2dceff51b\", \"categories\": [0], \"series\": [{\"data\": [0.6165160826073249]}]}, {\"name\": \"f1_score_micro\", \"run_id\": \"AutoML_0b31e7a1-a5f4-4cc3-bb7b-fcd2dceff51b\", \"categories\": [0], \"series\": [{\"data\": [0.8213944603629417]}]}, {\"name\": \"AUC_macro\", \"run_id\": \"AutoML_0b31e7a1-a5f4-4cc3-bb7b-fcd2dceff51b\", \"categories\": [0], \"series\": [{\"data\": [0.8605621312978774]}]}, {\"name\": \"norm_macro_recall\", \"run_id\": \"AutoML_0b31e7a1-a5f4-4cc3-bb7b-fcd2dceff51b\", \"categories\": [0], \"series\": [{\"data\": [0.5878187679065409]}]}, {\"name\": \"log_loss\", \"run_id\": \"AutoML_0b31e7a1-a5f4-4cc3-bb7b-fcd2dceff51b\", \"categories\": [0], \"series\": [{\"data\": [0.4417049521225033]}]}, {\"name\": \"precision_score_macro\", \"run_id\": \"AutoML_0b31e7a1-a5f4-4cc3-bb7b-fcd2dceff51b\", \"categories\": [0], \"series\": [{\"data\": [0.8234055531747675]}]}, {\"name\": \"AUC_weighted\", \"run_id\": \"AutoML_0b31e7a1-a5f4-4cc3-bb7b-fcd2dceff51b\", \"categories\": [0], \"series\": [{\"data\": [0.8605621312978776]}]}, {\"name\": \"precision_score_weighted\", \"run_id\": \"AutoML_0b31e7a1-a5f4-4cc3-bb7b-fcd2dceff51b\", \"categories\": [0], \"series\": [{\"data\": [0.8231007283131536]}]}, {\"name\": \"precision_score_micro\", \"run_id\": \"AutoML_0b31e7a1-a5f4-4cc3-bb7b-fcd2dceff51b\", \"categories\": [0], \"series\": [{\"data\": [0.8213944603629417]}]}, {\"name\": \"recall_score_micro\", \"run_id\": \"AutoML_0b31e7a1-a5f4-4cc3-bb7b-fcd2dceff51b\", \"categories\": [0], \"series\": [{\"data\": [0.8213944603629417]}]}, {\"name\": \"f1_score_weighted\", \"run_id\": \"AutoML_0b31e7a1-a5f4-4cc3-bb7b-fcd2dceff51b\", \"categories\": [0], \"series\": [{\"data\": [0.8174169997238705]}]}, {\"name\": \"average_precision_score_micro\", \"run_id\": \"AutoML_0b31e7a1-a5f4-4cc3-bb7b-fcd2dceff51b\", \"categories\": [0], \"series\": [{\"data\": [0.8698781287211146]}]}, {\"name\": \"recall_score_weighted\", \"run_id\": \"AutoML_0b31e7a1-a5f4-4cc3-bb7b-fcd2dceff51b\", \"categories\": [0], \"series\": [{\"data\": [0.8213944603629417]}]}, {\"name\": \"accuracy\", \"run_id\": \"AutoML_0b31e7a1-a5f4-4cc3-bb7b-fcd2dceff51b\", \"categories\": [0], \"series\": [{\"data\": [0.8213944603629417]}]}, {\"name\": \"balanced_accuracy\", \"run_id\": \"AutoML_0b31e7a1-a5f4-4cc3-bb7b-fcd2dceff51b\", \"categories\": [0], \"series\": [{\"data\": [0.7939093839532704]}]}, {\"name\": \"recall_score_macro\", \"run_id\": \"AutoML_0b31e7a1-a5f4-4cc3-bb7b-fcd2dceff51b\", \"categories\": [0], \"series\": [{\"data\": [0.7939093839532704]}]}], \"run_logs\": \"\\nRun is completed.\", \"graph\": {}, \"widget_settings\": {\"childWidgetDisplay\": \"popup\", \"send_telemetry\": false, \"log_level\": \"INFO\", \"sdk_version\": \"1.20.0\"}, \"loading\": false}"
          },
          "metadata": {}
        }
      ],
      "execution_count": 23,
      "metadata": {
        "collapsed": true,
        "jupyter": {
          "source_hidden": false,
          "outputs_hidden": false
        },
        "nteract": {
          "transient": {
            "deleting": false
          }
        },
        "gather": {
          "logged": 1612550030103
        }
      }
    },
    {
      "cell_type": "code",
      "source": [
        "# Retrieve and save your best automl model.\r\n",
        "\r\n",
        "automl_run.get_output()"
      ],
      "outputs": [
        {
          "output_type": "stream",
          "name": "stderr",
          "text": [
            "WARNING:root:The version of the SDK does not match the version the model was trained on.\n",
            "WARNING:root:The consistency in the result may not be guaranteed.\n",
            "WARNING:root:Package:azureml-automl-core, training version:1.21.0, current version:1.20.0\n",
            "Package:azureml-automl-runtime, training version:1.21.0, current version:1.20.0\n",
            "Package:azureml-core, training version:1.21.0.post1, current version:1.20.0\n",
            "Package:azureml-dataprep, training version:2.8.2, current version:2.7.3\n",
            "Package:azureml-dataprep-native, training version:28.0.0, current version:27.0.0\n",
            "Package:azureml-dataprep-rslex, training version:1.6.0, current version:1.5.0\n",
            "Package:azureml-dataset-runtime, training version:1.21.0, current version:1.20.0\n",
            "Package:azureml-defaults, training version:1.21.0, current version:1.20.0\n",
            "Package:azureml-interpret, training version:1.21.0, current version:1.20.0\n",
            "Package:azureml-pipeline-core, training version:1.21.0, current version:1.20.0\n",
            "Package:azureml-telemetry, training version:1.21.0, current version:1.20.0\n",
            "Package:azureml-train-automl-client, training version:1.21.0, current version:1.20.0\n",
            "Package:azureml-train-automl-runtime, training version:1.21.0, current version:1.20.0\n",
            "WARNING:root:Please ensure the version of your local conda dependencies match the version on which your model was trained in order to properly retrieve your model.\n"
          ]
        },
        {
          "output_type": "execute_result",
          "execution_count": 24,
          "data": {
            "text/plain": "(Run(Experiment: automl-experiment-1,\n Id: AutoML_0b31e7a1-a5f4-4cc3-bb7b-fcd2dceff51b_38,\n Type: azureml.scriptrun,\n Status: Completed),\n Pipeline(memory=None,\n          steps=[('datatransformer',\n                  DataTransformer(enable_dnn=None, enable_feature_sweeping=None,\n                                  feature_sweeping_config=None,\n                                  feature_sweeping_timeout=None,\n                                  featurization_config=None, force_text_dnn=None,\n                                  is_cross_validation=None,\n                                  is_onnx_compatible=None, logger=None,\n                                  observer=None, task=None, working_dir=None)),\n                 ('prefittedsoftvotingclassifier',...\n                                                                                                         tol=0.0001,\n                                                                                                         validation_fraction=0.1,\n                                                                                                         verbose=0,\n                                                                                                         warm_start=False))],\n                                                                      verbose=False))],\n                                                flatten_transform=None,\n                                                weights=[0.07142857142857142,\n                                                         0.07142857142857142,\n                                                         0.21428571428571427,\n                                                         0.07142857142857142,\n                                                         0.07142857142857142,\n                                                         0.07142857142857142,\n                                                         0.07142857142857142,\n                                                         0.07142857142857142,\n                                                         0.14285714285714285,\n                                                         0.07142857142857142,\n                                                         0.07142857142857142]))],\n          verbose=False))"
          },
          "metadata": {}
        }
      ],
      "execution_count": 24,
      "metadata": {
        "collapsed": true,
        "jupyter": {
          "source_hidden": false,
          "outputs_hidden": false
        },
        "nteract": {
          "transient": {
            "deleting": false
          }
        },
        "gather": {
          "logged": 1612550125018
        }
      }
    },
    {
      "cell_type": "code",
      "source": [
        "best_automl_run, best_model = automl_run.get_output()\r\n"
      ],
      "outputs": [
        {
          "output_type": "stream",
          "name": "stderr",
          "text": [
            "WARNING:root:The version of the SDK does not match the version the model was trained on.\n",
            "WARNING:root:The consistency in the result may not be guaranteed.\n",
            "WARNING:root:Package:azureml-automl-core, training version:1.21.0, current version:1.20.0\n",
            "Package:azureml-automl-runtime, training version:1.21.0, current version:1.20.0\n",
            "Package:azureml-core, training version:1.21.0.post1, current version:1.20.0\n",
            "Package:azureml-dataprep, training version:2.8.2, current version:2.7.3\n",
            "Package:azureml-dataprep-native, training version:28.0.0, current version:27.0.0\n",
            "Package:azureml-dataprep-rslex, training version:1.6.0, current version:1.5.0\n",
            "Package:azureml-dataset-runtime, training version:1.21.0, current version:1.20.0\n",
            "Package:azureml-defaults, training version:1.21.0, current version:1.20.0\n",
            "Package:azureml-interpret, training version:1.21.0, current version:1.20.0\n",
            "Package:azureml-pipeline-core, training version:1.21.0, current version:1.20.0\n",
            "Package:azureml-telemetry, training version:1.21.0, current version:1.20.0\n",
            "Package:azureml-train-automl-client, training version:1.21.0, current version:1.20.0\n",
            "Package:azureml-train-automl-runtime, training version:1.21.0, current version:1.20.0\n",
            "WARNING:root:Please ensure the version of your local conda dependencies match the version on which your model was trained in order to properly retrieve your model.\n"
          ]
        }
      ],
      "execution_count": 25,
      "metadata": {
        "collapsed": true,
        "jupyter": {
          "source_hidden": false,
          "outputs_hidden": false
        },
        "nteract": {
          "transient": {
            "deleting": false
          }
        },
        "gather": {
          "logged": 1612550153208
        }
      }
    },
    {
      "cell_type": "code",
      "source": [
        "best_model"
      ],
      "outputs": [
        {
          "output_type": "execute_result",
          "execution_count": 26,
          "data": {
            "text/plain": "Pipeline(memory=None,\n         steps=[('datatransformer',\n                 DataTransformer(enable_dnn=None, enable_feature_sweeping=None,\n                                 feature_sweeping_config=None,\n                                 feature_sweeping_timeout=None,\n                                 featurization_config=None, force_text_dnn=None,\n                                 is_cross_validation=None,\n                                 is_onnx_compatible=None, logger=None,\n                                 observer=None, task=None, working_dir=None)),\n                ('prefittedsoftvotingclassifier',...\n                                                                                                        tol=0.0001,\n                                                                                                        validation_fraction=0.1,\n                                                                                                        verbose=0,\n                                                                                                        warm_start=False))],\n                                                                     verbose=False))],\n                                               flatten_transform=None,\n                                               weights=[0.07142857142857142,\n                                                        0.07142857142857142,\n                                                        0.21428571428571427,\n                                                        0.07142857142857142,\n                                                        0.07142857142857142,\n                                                        0.07142857142857142,\n                                                        0.07142857142857142,\n                                                        0.07142857142857142,\n                                                        0.14285714285714285,\n                                                        0.07142857142857142,\n                                                        0.07142857142857142]))],\n         verbose=False)"
          },
          "metadata": {}
        }
      ],
      "execution_count": 26,
      "metadata": {
        "collapsed": true,
        "jupyter": {
          "source_hidden": false,
          "outputs_hidden": false
        },
        "nteract": {
          "transient": {
            "deleting": false
          }
        },
        "gather": {
          "logged": 1612550180811
        }
      }
    },
    {
      "cell_type": "code",
      "source": [
        "model = best_automl_run.register_model(model_name = \"best_run_automl.pkl\", model_path = './outputs/')"
      ],
      "outputs": [],
      "execution_count": 40,
      "metadata": {
        "collapsed": true,
        "jupyter": {
          "source_hidden": false,
          "outputs_hidden": false
        },
        "nteract": {
          "transient": {
            "deleting": false
          }
        },
        "gather": {
          "logged": 1612553629648
        }
      }
    },
    {
      "cell_type": "code",
      "source": [
        "model"
      ],
      "outputs": [
        {
          "output_type": "execute_result",
          "execution_count": 41,
          "data": {
            "text/plain": "Model(workspace=Workspace.create(name='quick-starts-ws-137355', subscription_id='aa7cf8e8-d23f-4bce-a7b9-1f0b4e0ac8ee', resource_group='aml-quickstarts-137355'), name=best_run_automl.pkl, id=best_run_automl.pkl:2, version=2, tags={}, properties={})"
          },
          "metadata": {}
        }
      ],
      "execution_count": 41,
      "metadata": {
        "collapsed": true,
        "jupyter": {
          "source_hidden": false,
          "outputs_hidden": false
        },
        "nteract": {
          "transient": {
            "deleting": false
          }
        },
        "gather": {
          "logged": 1612553638019
        }
      }
    },
    {
      "cell_type": "code",
      "source": [
        "#Take a look to the parameters of the best run; eventually not needed\r\n",
        "best_automl_run.get_tags()"
      ],
      "outputs": [
        {
          "output_type": "execute_result",
          "execution_count": 28,
          "data": {
            "text/plain": "{'_aml_system_azureml.automlComponent': 'AutoML',\n '_aml_system_ComputeTargetStatus': '{\"AllocationState\":\"steady\",\"PreparingNodeCount\":0,\"RunningNodeCount\":1,\"CurrentNodeCount\":1}',\n 'ensembled_iterations': '[19, 34, 1, 33, 20, 6, 16, 13, 7, 2, 10]',\n 'ensembled_algorithms': \"['LightGBM', 'XGBoostClassifier', 'XGBoostClassifier', 'LightGBM', 'LightGBM', 'XGBoostClassifier', 'LightGBM', 'ExtremeRandomTrees', 'SVM', 'RandomForest', 'GradientBoosting']\",\n 'ensemble_weights': '[0.07142857142857142, 0.07142857142857142, 0.21428571428571427, 0.07142857142857142, 0.07142857142857142, 0.07142857142857142, 0.07142857142857142, 0.07142857142857142, 0.14285714285714285, 0.07142857142857142, 0.07142857142857142]',\n 'best_individual_pipeline_score': '0.8147086914995224',\n 'best_individual_iteration': '19',\n '_aml_system_automl_is_child_run_end_telemetry_event_logged': 'True'}"
          },
          "metadata": {}
        }
      ],
      "execution_count": 28,
      "metadata": {
        "collapsed": true,
        "jupyter": {
          "source_hidden": false,
          "outputs_hidden": false
        },
        "nteract": {
          "transient": {
            "deleting": false
          }
        },
        "gather": {
          "logged": 1612550274343
        }
      }
    },
    {
      "cell_type": "code",
      "source": [
        "#eventually not needed\r\n",
        "#Also take a look to the recommended function\r\n",
        "from pprint import pprint\r\n",
        "\r\n",
        "def print_model(model, prefix=\"\"):\r\n",
        "    for step in model.steps:\r\n",
        "        print(prefix + step[0])\r\n",
        "        if hasattr(step[1], 'estimators') and hasattr(step[1], 'weights'):\r\n",
        "            pprint({'estimators': list(\r\n",
        "                e[0] for e in step[1].estimators), 'weights': step[1].weights})\r\n",
        "            print()\r\n",
        "            for estimator in step[1].estimators:\r\n",
        "                print_model(estimator[1], estimator[0] + ' - ')\r\n",
        "        else:\r\n",
        "            pprint(step[1].get_params())\r\n",
        "            print()\r\n",
        "\r\n",
        "print_model(best_model)"
      ],
      "outputs": [
        {
          "output_type": "stream",
          "name": "stdout",
          "text": [
            "datatransformer\n",
            "{'enable_dnn': None,\n",
            " 'enable_feature_sweeping': None,\n",
            " 'feature_sweeping_config': None,\n",
            " 'feature_sweeping_timeout': None,\n",
            " 'featurization_config': None,\n",
            " 'force_text_dnn': None,\n",
            " 'is_cross_validation': None,\n",
            " 'is_onnx_compatible': None,\n",
            " 'logger': None,\n",
            " 'observer': None,\n",
            " 'task': None,\n",
            " 'working_dir': None}\n",
            "\n",
            "prefittedsoftvotingclassifier\n",
            "{'estimators': ['19', '34', '1', '33', '20', '6', '16', '13', '7', '2', '10'],\n",
            " 'weights': [0.07142857142857142,\n",
            "             0.07142857142857142,\n",
            "             0.21428571428571427,\n",
            "             0.07142857142857142,\n",
            "             0.07142857142857142,\n",
            "             0.07142857142857142,\n",
            "             0.07142857142857142,\n",
            "             0.07142857142857142,\n",
            "             0.14285714285714285,\n",
            "             0.07142857142857142,\n",
            "             0.07142857142857142]}\n",
            "\n",
            "19 - minmaxscaler\n",
            "{'copy': True, 'feature_range': (0, 1)}\n",
            "\n",
            "19 - lightgbmclassifier\n",
            "{'boosting_type': 'gbdt',\n",
            " 'class_weight': None,\n",
            " 'colsample_bytree': 0.6933333333333332,\n",
            " 'importance_type': 'split',\n",
            " 'learning_rate': 0.05263631578947369,\n",
            " 'max_bin': 50,\n",
            " 'max_depth': 5,\n",
            " 'min_child_samples': 58,\n",
            " 'min_child_weight': 8,\n",
            " 'min_split_gain': 0,\n",
            " 'n_estimators': 200,\n",
            " 'n_jobs': 1,\n",
            " 'num_leaves': 23,\n",
            " 'objective': None,\n",
            " 'random_state': None,\n",
            " 'reg_alpha': 0.5789473684210527,\n",
            " 'reg_lambda': 0.894736842105263,\n",
            " 'silent': True,\n",
            " 'subsample': 0.3963157894736842,\n",
            " 'subsample_for_bin': 200000,\n",
            " 'subsample_freq': 0,\n",
            " 'verbose': -10}\n",
            "\n",
            "34 - standardscalerwrapper\n",
            "{'class_name': 'StandardScaler',\n",
            " 'copy': True,\n",
            " 'module_name': 'sklearn.preprocessing._data',\n",
            " 'with_mean': False,\n",
            " 'with_std': False}\n",
            "\n",
            "34 - xgboostclassifier\n",
            "{'base_score': 0.5,\n",
            " 'booster': 'gbtree',\n",
            " 'colsample_bylevel': 1,\n",
            " 'colsample_bynode': 1,\n",
            " 'colsample_bytree': 0.9,\n",
            " 'eta': 0.1,\n",
            " 'gamma': 0,\n",
            " 'learning_rate': 0.1,\n",
            " 'max_delta_step': 0,\n",
            " 'max_depth': 10,\n",
            " 'max_leaves': 31,\n",
            " 'min_child_weight': 1,\n",
            " 'missing': nan,\n",
            " 'n_estimators': 10,\n",
            " 'n_jobs': 1,\n",
            " 'nthread': None,\n",
            " 'objective': 'reg:logistic',\n",
            " 'random_state': 0,\n",
            " 'reg_alpha': 0,\n",
            " 'reg_lambda': 0.8333333333333334,\n",
            " 'scale_pos_weight': 1,\n",
            " 'seed': None,\n",
            " 'silent': None,\n",
            " 'subsample': 0.6,\n",
            " 'tree_method': 'auto',\n",
            " 'verbose': -10,\n",
            " 'verbosity': 0}\n",
            "\n",
            "1 - maxabsscaler\n",
            "{'copy': True}\n",
            "\n",
            "1 - xgboostclassifier\n",
            "{'base_score': 0.5,\n",
            " 'booster': 'gbtree',\n",
            " 'colsample_bylevel': 1,\n",
            " 'colsample_bynode': 1,\n",
            " 'colsample_bytree': 1,\n",
            " 'gamma': 0,\n",
            " 'learning_rate': 0.1,\n",
            " 'max_delta_step': 0,\n",
            " 'max_depth': 3,\n",
            " 'min_child_weight': 1,\n",
            " 'missing': nan,\n",
            " 'n_estimators': 100,\n",
            " 'n_jobs': 1,\n",
            " 'nthread': None,\n",
            " 'objective': 'binary:logistic',\n",
            " 'random_state': 0,\n",
            " 'reg_alpha': 0,\n",
            " 'reg_lambda': 1,\n",
            " 'scale_pos_weight': 1,\n",
            " 'seed': None,\n",
            " 'silent': None,\n",
            " 'subsample': 1,\n",
            " 'tree_method': 'auto',\n",
            " 'verbose': -10,\n",
            " 'verbosity': 0}\n",
            "\n",
            "33 - minmaxscaler\n",
            "{'copy': True, 'feature_range': (0, 1)}\n",
            "\n",
            "33 - lightgbmclassifier\n",
            "{'boosting_type': 'gbdt',\n",
            " 'class_weight': None,\n",
            " 'colsample_bytree': 0.1988888888888889,\n",
            " 'importance_type': 'split',\n",
            " 'learning_rate': 0.0842121052631579,\n",
            " 'max_bin': 50,\n",
            " 'max_depth': 9,\n",
            " 'min_child_samples': 37,\n",
            " 'min_child_weight': 6,\n",
            " 'min_split_gain': 0.21052631578947367,\n",
            " 'n_estimators': 200,\n",
            " 'n_jobs': 1,\n",
            " 'num_leaves': 20,\n",
            " 'objective': None,\n",
            " 'random_state': None,\n",
            " 'reg_alpha': 1,\n",
            " 'reg_lambda': 0.7894736842105263,\n",
            " 'silent': True,\n",
            " 'subsample': 0.8910526315789474,\n",
            " 'subsample_for_bin': 200000,\n",
            " 'subsample_freq': 0,\n",
            " 'verbose': -10}\n",
            "\n",
            "20 - robustscaler\n",
            "{'copy': True,\n",
            " 'quantile_range': [25, 75],\n",
            " 'with_centering': False,\n",
            " 'with_scaling': False}\n",
            "\n",
            "20 - lightgbmclassifier\n",
            "{'boosting_type': 'gbdt',\n",
            " 'class_weight': None,\n",
            " 'colsample_bytree': 0.7922222222222222,\n",
            " 'importance_type': 'split',\n",
            " 'learning_rate': 0.06842421052631578,\n",
            " 'max_bin': 140,\n",
            " 'max_depth': 10,\n",
            " 'min_child_samples': 40,\n",
            " 'min_child_weight': 0,\n",
            " 'min_split_gain': 0.9473684210526315,\n",
            " 'n_estimators': 25,\n",
            " 'n_jobs': 1,\n",
            " 'num_leaves': 83,\n",
            " 'objective': None,\n",
            " 'random_state': None,\n",
            " 'reg_alpha': 0.6842105263157894,\n",
            " 'reg_lambda': 0.9473684210526315,\n",
            " 'silent': True,\n",
            " 'subsample': 0.6931578947368422,\n",
            " 'subsample_for_bin': 200000,\n",
            " 'subsample_freq': 0,\n",
            " 'verbose': -10}\n",
            "\n",
            "6 - sparsenormalizer\n",
            "{'copy': True, 'norm': 'l1'}\n",
            "\n",
            "6 - xgboostclassifier\n",
            "{'base_score': 0.5,\n",
            " 'booster': 'gbtree',\n",
            " 'colsample_bylevel': 1,\n",
            " 'colsample_bynode': 1,\n",
            " 'colsample_bytree': 0.7,\n",
            " 'eta': 0.01,\n",
            " 'gamma': 0.1,\n",
            " 'grow_policy': 'lossguide',\n",
            " 'learning_rate': 0.1,\n",
            " 'max_bin': 1023,\n",
            " 'max_delta_step': 0,\n",
            " 'max_depth': 6,\n",
            " 'max_leaves': 3,\n",
            " 'min_child_weight': 1,\n",
            " 'missing': nan,\n",
            " 'n_estimators': 100,\n",
            " 'n_jobs': 1,\n",
            " 'nthread': None,\n",
            " 'objective': 'reg:logistic',\n",
            " 'random_state': 0,\n",
            " 'reg_alpha': 0,\n",
            " 'reg_lambda': 2.3958333333333335,\n",
            " 'scale_pos_weight': 1,\n",
            " 'seed': None,\n",
            " 'silent': None,\n",
            " 'subsample': 0.8,\n",
            " 'tree_method': 'hist',\n",
            " 'verbose': -10,\n",
            " 'verbosity': 0}\n",
            "\n",
            "16 - minmaxscaler\n",
            "{'copy': True, 'feature_range': (0, 1)}\n",
            "\n",
            "16 - lightgbmclassifier\n",
            "{'boosting_type': 'gbdt',\n",
            " 'class_weight': None,\n",
            " 'colsample_bytree': 0.3966666666666666,\n",
            " 'importance_type': 'split',\n",
            " 'learning_rate': 0.021060526315789474,\n",
            " 'max_bin': 70,\n",
            " 'max_depth': 10,\n",
            " 'min_child_samples': 73,\n",
            " 'min_child_weight': 0,\n",
            " 'min_split_gain': 0.05263157894736842,\n",
            " 'n_estimators': 100,\n",
            " 'n_jobs': 1,\n",
            " 'num_leaves': 179,\n",
            " 'objective': None,\n",
            " 'random_state': None,\n",
            " 'reg_alpha': 0.3157894736842105,\n",
            " 'reg_lambda': 0.631578947368421,\n",
            " 'silent': True,\n",
            " 'subsample': 0.9405263157894738,\n",
            " 'subsample_for_bin': 200000,\n",
            " 'subsample_freq': 0,\n",
            " 'verbose': -10}\n",
            "\n",
            "13 - maxabsscaler\n",
            "{'copy': True}\n",
            "\n",
            "13 - extratreesclassifier\n",
            "{'bootstrap': True,\n",
            " 'ccp_alpha': 0.0,\n",
            " 'class_weight': None,\n",
            " 'criterion': 'gini',\n",
            " 'max_depth': None,\n",
            " 'max_features': 0.7,\n",
            " 'max_leaf_nodes': None,\n",
            " 'max_samples': None,\n",
            " 'min_impurity_decrease': 0.0,\n",
            " 'min_impurity_split': None,\n",
            " 'min_samples_leaf': 0.035789473684210524,\n",
            " 'min_samples_split': 0.01,\n",
            " 'min_weight_fraction_leaf': 0.0,\n",
            " 'n_estimators': 400,\n",
            " 'n_jobs': 1,\n",
            " 'oob_score': True,\n",
            " 'random_state': None,\n",
            " 'verbose': 0,\n",
            " 'warm_start': False}\n",
            "\n",
            "7 - minmaxscaler\n",
            "{'copy': True, 'feature_range': (0, 1)}\n",
            "\n",
            "7 - svcwrapper\n",
            "{'C': 159.98587196060572,\n",
            " 'break_ties': False,\n",
            " 'cache_size': 200,\n",
            " 'class_weight': None,\n",
            " 'coef0': 0.0,\n",
            " 'decision_function_shape': 'ovr',\n",
            " 'degree': 3,\n",
            " 'gamma': 'scale',\n",
            " 'kernel': 'rbf',\n",
            " 'max_iter': -1,\n",
            " 'probability': True,\n",
            " 'random_state': None,\n",
            " 'shrinking': True,\n",
            " 'tol': 0.001,\n",
            " 'verbose': False}\n",
            "\n",
            "2 - minmaxscaler\n",
            "{'copy': True, 'feature_range': (0, 1)}\n",
            "\n",
            "2 - randomforestclassifier\n",
            "{'bootstrap': False,\n",
            " 'ccp_alpha': 0.0,\n",
            " 'class_weight': None,\n",
            " 'criterion': 'gini',\n",
            " 'max_depth': None,\n",
            " 'max_features': 'sqrt',\n",
            " 'max_leaf_nodes': None,\n",
            " 'max_samples': None,\n",
            " 'min_impurity_decrease': 0.0,\n",
            " 'min_impurity_split': None,\n",
            " 'min_samples_leaf': 0.01,\n",
            " 'min_samples_split': 0.10368421052631578,\n",
            " 'min_weight_fraction_leaf': 0.0,\n",
            " 'n_estimators': 10,\n",
            " 'n_jobs': 1,\n",
            " 'oob_score': False,\n",
            " 'random_state': None,\n",
            " 'verbose': 0,\n",
            " 'warm_start': False}\n",
            "\n",
            "10 - maxabsscaler\n",
            "{'copy': True}\n",
            "\n",
            "10 - gradientboostingclassifier\n",
            "{'ccp_alpha': 0.0,\n",
            " 'criterion': 'friedman_mse',\n",
            " 'init': None,\n",
            " 'learning_rate': 0.046415888336127774,\n",
            " 'loss': 'deviance',\n",
            " 'max_depth': 4,\n",
            " 'max_features': 0.4,\n",
            " 'max_leaf_nodes': None,\n",
            " 'min_impurity_decrease': 0.0,\n",
            " 'min_impurity_split': None,\n",
            " 'min_samples_leaf': 0.08736842105263157,\n",
            " 'min_samples_split': 0.5252631578947369,\n",
            " 'min_weight_fraction_leaf': 0.0,\n",
            " 'n_estimators': 100,\n",
            " 'n_iter_no_change': None,\n",
            " 'presort': 'deprecated',\n",
            " 'random_state': None,\n",
            " 'subsample': 1,\n",
            " 'tol': 0.0001,\n",
            " 'validation_fraction': 0.1,\n",
            " 'verbose': 0,\n",
            " 'warm_start': False}\n",
            "\n"
          ]
        }
      ],
      "execution_count": 29,
      "metadata": {
        "collapsed": true,
        "jupyter": {
          "source_hidden": false,
          "outputs_hidden": false
        },
        "nteract": {
          "transient": {
            "deleting": false
          }
        },
        "gather": {
          "logged": 1612550285428
        }
      }
    },
    {
      "cell_type": "code",
      "source": [
        "print(best_automl_run.id)\r\n"
      ],
      "outputs": [
        {
          "output_type": "stream",
          "name": "stdout",
          "text": [
            "AutoML_0b31e7a1-a5f4-4cc3-bb7b-fcd2dceff51b_38\n"
          ]
        }
      ],
      "execution_count": 46,
      "metadata": {
        "collapsed": true,
        "jupyter": {
          "source_hidden": false,
          "outputs_hidden": false
        },
        "nteract": {
          "transient": {
            "deleting": false
          }
        },
        "gather": {
          "logged": 1612553823551
        }
      }
    },
    {
      "cell_type": "code",
      "source": [
        "#let's deploy since the automl is stronger thatn the hyperparametr model\r\n",
        "from azureml.core.model import Model\r\n",
        "from azureml.core.environment import Environment\r\n",
        "from azureml.core.model import InferenceConfig\r\n"
      ],
      "outputs": [],
      "execution_count": 48,
      "metadata": {
        "collapsed": true,
        "jupyter": {
          "source_hidden": false,
          "outputs_hidden": false
        },
        "nteract": {
          "transient": {
            "deleting": false
          }
        },
        "gather": {
          "logged": 1612555252950
        }
      }
    },
    {
      "cell_type": "code",
      "source": [
        "env = best_automl_run.get_environment()"
      ],
      "outputs": [],
      "execution_count": 49,
      "metadata": {
        "collapsed": true,
        "jupyter": {
          "source_hidden": false,
          "outputs_hidden": false
        },
        "nteract": {
          "transient": {
            "deleting": false
          }
        },
        "gather": {
          "logged": 1612555337837
        }
      }
    },
    {
      "cell_type": "code",
      "source": [
        "for pip_package in [\"scikit-learn\"]:\r\n",
        "    env.python.conda_dependencies.add_pip_package(pip_package)\r\n",
        "\r\n",
        "inference_config = InferenceConfig(entry_script='score.py',environment=env)"
      ],
      "outputs": [
        {
          "output_type": "stream",
          "name": "stderr",
          "text": [
            "ERROR:azureml._model_management._util:entry_script score.py doesn't exist. entry_script should be path relative to current working directory\n",
            "\n"
          ]
        },
        {
          "output_type": "error",
          "ename": "WebserviceException",
          "evalue": "WebserviceException:\n\tMessage: entry_script score.py doesn't exist. entry_script should be path relative to current working directory\n\tInnerException None\n\tErrorResponse \n{\n    \"error\": {\n        \"message\": \"entry_script score.py doesn't exist. entry_script should be path relative to current working directory\"\n    }\n}",
          "traceback": [
            "\u001b[0;31m---------------------------------------------------------------------------\u001b[0m",
            "\u001b[0;31mWebserviceException\u001b[0m                       Traceback (most recent call last)",
            "\u001b[0;32m<ipython-input-50-3eebaf4996e8>\u001b[0m in \u001b[0;36m<module>\u001b[0;34m\u001b[0m\n\u001b[1;32m      2\u001b[0m     \u001b[0menv\u001b[0m\u001b[0;34m.\u001b[0m\u001b[0mpython\u001b[0m\u001b[0;34m.\u001b[0m\u001b[0mconda_dependencies\u001b[0m\u001b[0;34m.\u001b[0m\u001b[0madd_pip_package\u001b[0m\u001b[0;34m(\u001b[0m\u001b[0mpip_package\u001b[0m\u001b[0;34m)\u001b[0m\u001b[0;34m\u001b[0m\u001b[0;34m\u001b[0m\u001b[0m\n\u001b[1;32m      3\u001b[0m \u001b[0;34m\u001b[0m\u001b[0m\n\u001b[0;32m----> 4\u001b[0;31m \u001b[0minference_config\u001b[0m \u001b[0;34m=\u001b[0m \u001b[0mInferenceConfig\u001b[0m\u001b[0;34m(\u001b[0m\u001b[0mentry_script\u001b[0m\u001b[0;34m=\u001b[0m\u001b[0;34m'score.py'\u001b[0m\u001b[0;34m,\u001b[0m\u001b[0menvironment\u001b[0m\u001b[0;34m=\u001b[0m\u001b[0menv\u001b[0m\u001b[0;34m)\u001b[0m\u001b[0;34m\u001b[0m\u001b[0;34m\u001b[0m\u001b[0m\n\u001b[0m",
            "\u001b[0;32m/anaconda/envs/azureml_py36/lib/python3.6/site-packages/azureml/core/model.py\u001b[0m in \u001b[0;36m__init__\u001b[0;34m(self, entry_script, runtime, conda_file, extra_docker_file_steps, source_directory, enable_gpu, description, base_image, base_image_registry, cuda_version, environment)\u001b[0m\n\u001b[1;32m   2055\u001b[0m         \u001b[0mself\u001b[0m\u001b[0;34m.\u001b[0m\u001b[0menvironment\u001b[0m \u001b[0;34m=\u001b[0m \u001b[0menvironment\u001b[0m\u001b[0;34m\u001b[0m\u001b[0;34m\u001b[0m\u001b[0m\n\u001b[1;32m   2056\u001b[0m \u001b[0;34m\u001b[0m\u001b[0m\n\u001b[0;32m-> 2057\u001b[0;31m         \u001b[0mself\u001b[0m\u001b[0;34m.\u001b[0m\u001b[0mvalidate_configuration\u001b[0m\u001b[0;34m(\u001b[0m\u001b[0;34m)\u001b[0m\u001b[0;34m\u001b[0m\u001b[0;34m\u001b[0m\u001b[0m\n\u001b[0m\u001b[1;32m   2058\u001b[0m \u001b[0;34m\u001b[0m\u001b[0m\n\u001b[1;32m   2059\u001b[0m     \u001b[0;32mdef\u001b[0m \u001b[0m__repr__\u001b[0m\u001b[0;34m(\u001b[0m\u001b[0mself\u001b[0m\u001b[0;34m)\u001b[0m\u001b[0;34m:\u001b[0m\u001b[0;34m\u001b[0m\u001b[0;34m\u001b[0m\u001b[0m\n",
            "\u001b[0;32m/anaconda/envs/azureml_py36/lib/python3.6/site-packages/azureml/core/model.py\u001b[0m in \u001b[0;36mvalidate_configuration\u001b[0;34m(self)\u001b[0m\n\u001b[1;32m   2163\u001b[0m         validate_path_exists_or_throw(joinPath(self.source_directory, self.entry_script),\n\u001b[1;32m   2164\u001b[0m                                       \u001b[0;34m'entry_script'\u001b[0m\u001b[0;34m,\u001b[0m\u001b[0;34m\u001b[0m\u001b[0;34m\u001b[0m\u001b[0m\n\u001b[0;32m-> 2165\u001b[0;31m                                       \u001b[0mextra_message\u001b[0m\u001b[0;34m=\u001b[0m\u001b[0;34m'entry_script should be path relative to '\u001b[0m\u001b[0;34m\u001b[0m\u001b[0;34m\u001b[0m\u001b[0m\n\u001b[0m\u001b[1;32m   2166\u001b[0m                                                     'current working directory')\n\u001b[1;32m   2167\u001b[0m \u001b[0;34m\u001b[0m\u001b[0m\n",
            "\u001b[0;32m/anaconda/envs/azureml_py36/lib/python3.6/site-packages/azureml/_model_management/_util.py\u001b[0m in \u001b[0;36mvalidate_path_exists_or_throw\u001b[0;34m(member, name, extra_message)\u001b[0m\n\u001b[1;32m    875\u001b[0m     \u001b[0;32mif\u001b[0m \u001b[0;32mnot\u001b[0m \u001b[0mos\u001b[0m\u001b[0;34m.\u001b[0m\u001b[0mpath\u001b[0m\u001b[0;34m.\u001b[0m\u001b[0mexists\u001b[0m\u001b[0;34m(\u001b[0m\u001b[0mmember\u001b[0m\u001b[0;34m)\u001b[0m\u001b[0;34m:\u001b[0m\u001b[0;34m\u001b[0m\u001b[0;34m\u001b[0m\u001b[0m\n\u001b[1;32m    876\u001b[0m         raise WebserviceException(\"{0} {1} doesn't exist. {2}\".format(name, member, extra_message),\n\u001b[0;32m--> 877\u001b[0;31m                                   logger=module_logger)\n\u001b[0m\u001b[1;32m    878\u001b[0m \u001b[0;34m\u001b[0m\u001b[0m\n\u001b[1;32m    879\u001b[0m \u001b[0;34m\u001b[0m\u001b[0m\n",
            "\u001b[0;31mWebserviceException\u001b[0m: WebserviceException:\n\tMessage: entry_script score.py doesn't exist. entry_script should be path relative to current working directory\n\tInnerException None\n\tErrorResponse \n{\n    \"error\": {\n        \"message\": \"entry_script score.py doesn't exist. entry_script should be path relative to current working directory\"\n    }\n}"
          ]
        }
      ],
      "execution_count": 50,
      "metadata": {
        "collapsed": true,
        "jupyter": {
          "source_hidden": false,
          "outputs_hidden": false
        },
        "nteract": {
          "transient": {
            "deleting": false
          }
        }
      }
    },
    {
      "cell_type": "code",
      "source": [
        "service = model.deploy(Workspace=ws,name = 'titanic best model',models = [model],inference_config = inference_config, deployment_config=acid_config,overwrite=True)"
      ],
      "outputs": [
        {
          "output_type": "stream",
          "name": "stdout",
          "text": [
            "Help on Run in module azureml.core.run object:\n",
            "\n",
            "class Run(azureml._run_impl.run_base._RunBase)\n",
            " |  Defines the base class for all Azure Machine Learning experiment runs.\n",
            " |  \n",
            " |  A *run* represents a single trial of an experiment. Runs are used to monitor the asynchronous\n",
            " |  execution of a trial, log metrics and store output of the trial, and to analyze results and access\n",
            " |  artifacts generated by the trial.\n",
            " |  \n",
            " |  Run objects are created when you submit a script to train a model in many different scenarios in\n",
            " |  Azure Machine Learning, including HyperDrive runs, Pipeline runs, and AutoML runs.\n",
            " |  A Run object is also created when you :func:`azureml.core.experiment.Experiment.submit` or\n",
            " |  :func:`azureml.core.experiment.Experiment.start_logging` with the :class:`azureml.core.Experiment` class.\n",
            " |  \n",
            " |  To get started with experiments and runs, see\n",
            " |  \n",
            " |  * `Create and manage environments for training and\n",
            " |    deployment <https://docs.microsoft.com/azure/machine-learning/how-to-use-environments>`_\n",
            " |  * `How to manage runs <https://docs.microsoft.com/azure/machine-learning/how-to-manage-runs>`_\n",
            " |  \n",
            " |  .. remarks::\n",
            " |  \n",
            " |      A *run* represents a single trial of an experiment.  A Run object is used to monitor the\n",
            " |      asynchronous execution of a trial, log metrics and store output of the trial,\n",
            " |      and to analyze results and access artifacts generated by the trial.\n",
            " |  \n",
            " |      Run is used inside of your experimentation code to log metrics and artifacts to the Run History service.\n",
            " |  \n",
            " |      Run is used outside of your experiments to monitor progress and to query and analyze the metrics and\n",
            " |      results that were generated.\n",
            " |  \n",
            " |      The functionality of Run includes:\n",
            " |  \n",
            " |      *  Storing and retrieving metrics and data\n",
            " |      *  Uploading and downloading files\n",
            " |      *  Using tags as well as the child hierarchy for easy lookup of past runs\n",
            " |      *  Registering stored model files as a model that can be operationalized\n",
            " |      *  Storing, modifying, and retrieving properties of a run\n",
            " |      *  Loading the current run from a remote environment with the :meth:`azureml.core.run.Run.get_context` method\n",
            " |      *  Efficiently snapshotting a file or directory for reproducibility\n",
            " |  \n",
            " |      This class works with the :class:`azureml.core.Experiment` in these scenarios:\n",
            " |  \n",
            " |      * Creating a run by executing code using :func:`azureml.core.Experiment.submit`\n",
            " |      * Creating a run interactively in a notebook using :func:`azureml.core.Experiment.start_logging`\n",
            " |      * Logging metrics and uploading artifacts in your experiment, such as when using :func:`log`\n",
            " |      * Reading metrics and downloading artifacts when analyzing experimental results, such as when using\n",
            " |        :func:`get_metrics`\n",
            " |  \n",
            " |      To submit a run, create a configuration object that describes how the experiment is run. Here are examples\n",
            " |      of the different configuration objects you can use:\n",
            " |  \n",
            " |      * :class:`azureml.core.ScriptRunConfig`\n",
            " |      * :class:`azureml.train.automl.automlconfig.AutoMLConfig`\n",
            " |      * :class:`azureml.train.hyperdrive.HyperDriveConfig`\n",
            " |      * :class:`azureml.pipeline.core.Pipeline`\n",
            " |      * :class:`azureml.pipeline.core.PublishedPipeline`\n",
            " |      * :class:`azureml.pipeline.core.PipelineEndpoint`\n",
            " |  \n",
            " |      The following metrics can be added to a run while training an experiment.\n",
            " |  \n",
            " |      * Scalar\n",
            " |          * Log a numerical or string value to the run with the given name using :meth:`log`. Logging\n",
            " |            a metric to a run causes that metric to be stored in the run record in the experiment. You\n",
            " |            can log the same metric multiple times within a run, the result being considered a vector\n",
            " |            of that metric.\n",
            " |          * Example: ``run.log(\"accuracy\", 0.95)``\n",
            " |      * List\n",
            " |          * Log a list of values to the run with the given name using :meth:`log_list`.\n",
            " |          * Example: ``run.log_list(\"accuracies\", [0.6, 0.7, 0.87])``\n",
            " |      * Row\n",
            " |          * Using :meth:`log_row` creates a metric with multiple columns as described in ``kwargs``.\n",
            " |            Each named parameter generates a column with the value specified. ``log_row`` can be called\n",
            " |            once to log an arbitrary tuple, or multiple times in a loop to generate a complete table.\n",
            " |          * Example: ``run.log_row(\"Y over X\", x=1, y=0.4)``\n",
            " |      * Table\n",
            " |          * Log a dictionary object to the run with the given name using :meth:`log_table`.\n",
            " |          * Example: ``run.log_table(\"Y over X\", {\"x\":[1, 2, 3], \"y\":[0.6, 0.7, 0.89]})``\n",
            " |      * Image\n",
            " |          * Log an image to the run record. Use :meth:`log_image` to log an image file or a matplotlib plot to\n",
            " |            the run. These images will be visible and comparable in the run record.\n",
            " |          * Example: ``run.log_image(\"ROC\", path)``\n",
            " |  \n",
            " |  :param experiment: The containing experiment.\n",
            " |  :type experiment: azureml.core.Experiment\n",
            " |  :param run_id: The ID for the run.\n",
            " |  :type run_id: str\n",
            " |  :param outputs: The outputs to be tracked.\n",
            " |  :type outputs: str\n",
            " |  :param _run_dto: Internal use only.\n",
            " |  :type _run_dto: azureml._restclient.models.run_dto.RunDto\n",
            " |  :param kwargs: A dictionary of additional configuration parameters.\n",
            " |  :type kwargs: dict\n",
            " |  \n",
            " |  Method resolution order:\n",
            " |      Run\n",
            " |      azureml._run_impl.run_base._RunBase\n",
            " |      azureml._logging.chained_identity.ChainedIdentity\n",
            " |      azureml.core._portal.HasRunPortal\n",
            " |      azureml.core._portal.HasExperimentPortal\n",
            " |      azureml.core._portal.HasWorkspacePortal\n",
            " |      azureml.core._portal.HasPortal\n",
            " |      builtins.object\n",
            " |  \n",
            " |  Methods defined here:\n",
            " |  \n",
            " |  __enter__(self)\n",
            " |      Initialize features related to outputs tracking and status updates for the run.\".\n",
            " |      \n",
            " |      :return:\n",
            " |      :rtype: Run\n",
            " |  \n",
            " |  __exit__(self, exit_type, value, traceback)\n",
            " |      Close tracking and collect outputs.\n",
            " |      \n",
            " |      :param exit_type:\n",
            " |      :type exit_type:\n",
            " |      :param value:\n",
            " |      :type value:\n",
            " |      :param traceback:\n",
            " |      :type traceback:\n",
            " |      :return:\n",
            " |      :rtype: Run\n",
            " |  \n",
            " |  __init__(self, experiment, run_id, outputs=None, **kwargs)\n",
            " |      Initialize the Run object.\n",
            " |      \n",
            " |      :param experiment: The containing experiment.\n",
            " |      :type experiment: azureml.core.Experiment\n",
            " |      :param run_id: The ID for the run.\n",
            " |      :type run_id: str\n",
            " |      :param outputs: The outputs to be tracked.\n",
            " |      :type outputs: str\n",
            " |      :param kwargs: A dictionary of additional configuration parameters.\n",
            " |      :type kwargs: dict\n",
            " |  \n",
            " |  add_properties(self, properties)\n",
            " |      Add immutable properties to the run.\n",
            " |      \n",
            " |      Tags and properties (both dict[str, str]) differ in their mutability.\n",
            " |      Properties are immutable, so they create a permanent record for auditing purposes.\n",
            " |      Tags are mutable. For more information about working with tags and properties, see `Tag\n",
            " |      and find runs <https://docs.microsoft.com/azure/machine-learning/how-to-manage-runs#tag-and-find-runs>`_.\n",
            " |      \n",
            " |      :param properties: The hidden properties stored in the run object.\n",
            " |      :type properties: dict\n",
            " |  \n",
            " |  cancel(self)\n",
            " |      Mark the run as canceled.\n",
            " |      \n",
            " |      If there is an associated job with a set cancel_uri field, terminate that job as well.\n",
            " |  \n",
            " |  child_run(self, name=None, run_id=None, outputs=None)\n",
            " |      Create a child run.\n",
            " |      \n",
            " |      .. remarks::\n",
            " |      \n",
            " |          This is used to isolate part of a run into a subsection. This can be done for\n",
            " |          identifiable \"parts\" of a run that are interesting to separate, or to capture\n",
            " |          independent metrics across an interation of a subprocess.\n",
            " |      \n",
            " |          If an output directory is set for the child run, the contents of that directory will be\n",
            " |          uploaded to the child run record when the child is completed.\n",
            " |      \n",
            " |      :param name: An optional name for the child run, typically specified for a \"part\".\n",
            " |      :type name: str\n",
            " |      :param run_id: An optional run ID for the child, otherwise it is auto-generated. Typically this\n",
            " |          parameter is not set.\n",
            " |      :type run_id: str\n",
            " |      :param outputs: Optional outputs directory to track for the child.\n",
            " |      :type outputs: str\n",
            " |      :return: The child run.\n",
            " |      :rtype: azureml.core.run.Run\n",
            " |  \n",
            " |  clean(self)\n",
            " |      Remove the files corresponding to the current run on the target specified in the run configuration.\n",
            " |      \n",
            " |      :return: A list of files deleted.\n",
            " |      :rtype: builtin.list\n",
            " |  \n",
            " |  complete(self, _set_status=True)\n",
            " |      Wait for task queue to be processed.\n",
            " |      \n",
            " |      Then run is marked as completed. This is typically used in interactive notebook scenarios.\n",
            " |      \n",
            " |      :param _set_status: Indicates whether to send the status event for tracking.\n",
            " |      :type _set_status: bool\n",
            " |  \n",
            " |  create_children(self, count=None, tag_key=None, tag_values=None)\n",
            " |      Create one or many child runs.\n",
            " |      \n",
            " |      .. remarks::\n",
            " |      \n",
            " |          Either parameter ``count`` OR  parameters ``tag_key`` AND ``tag_values`` must be specified.\n",
            " |      \n",
            " |      :param count: An optional number of children to create.\n",
            " |      :type count: int\n",
            " |      :param tag_key: An optional key to populate the Tags entry in all created children.\n",
            " |      :type tag_key: str\n",
            " |      :param tag_Values: An optional list of values that will map onto Tags[tag_key] for the list of runs created.\n",
            " |      :type tag_values: [str]\n",
            " |      :return: The list of child runs.\n",
            " |      :rtype: builtin.list[azureml.core.run.Run]\n",
            " |  \n",
            " |  download_file(self, name, output_file_path=None, _validate_checksum=False)\n",
            " |      Download an associated file from storage.\n",
            " |      \n",
            " |      :param name: The name of the artifact to be downloaded.\n",
            " |      :type name: str\n",
            " |      :param output_file_path: The local path where to store the artifact.\n",
            " |      :type output_file_path: str\n",
            " |  \n",
            " |  download_files(self, prefix=None, output_directory=None, output_paths=None, batch_size=100, append_prefix=True)\n",
            " |      Download files from a given storage prefix (folder name) or the entire container if prefix is unspecified.\n",
            " |      \n",
            " |      :param prefix: The filepath prefix within the container from which to download all artifacts.\n",
            " |      :type prefix: str\n",
            " |      :param output_directory: An optional directory that all artifact paths use as a prefix.\n",
            " |      :type output_directory: str\n",
            " |      :param output_paths: Optional filepaths in which to store the downloaded artifacts.\n",
            " |          Should be unique and match length of paths.\n",
            " |      :type output_paths: [str]\n",
            " |      :param batch_size: The number of files to download per batch. The default is 100 files.\n",
            " |      :type batch_size: int\n",
            " |      :param append_prefix: An optional flag whether to append the specified prefix from the final output file path.\n",
            " |          If False then the prefix is removed from the output file path.\n",
            " |      :type append_prefix: bool\n",
            " |  \n",
            " |  fail(self, error_details=None, error_code=None, _set_status=True)\n",
            " |      Mark the run as failed.\n",
            " |      \n",
            " |      Optionally set the Error property of the run with a message or exception passed to ``error_details``.\n",
            " |      \n",
            " |      :param error_details: Optional details of the error.\n",
            " |      :type error_details: str or BaseException\n",
            " |      :param error_code: Optional error code of the error for the error classification.\n",
            " |      :type error_code: str\n",
            " |      :param _set_status: Indicates whether to send the status event for tracking.\n",
            " |      :type _set_status: bool\n",
            " |  \n",
            " |  flush(self, timeout_seconds=300)\n",
            " |      Wait for task queue to be processed.\n",
            " |      \n",
            " |      :param timeout_seconds: How long to wait (in seconds) for task queue to be processed.\n",
            " |      :type timeout_seconds: int\n",
            " |  \n",
            " |  get_all_logs(self, destination=None)\n",
            " |      Download all logs for the run to a directory.\n",
            " |      \n",
            " |      :param destination: The destination path to store logs. If unspecified, a directory named as the run ID\n",
            " |          is created in the project directory.\n",
            " |      :type destination: str\n",
            " |      :return: A list of names of logs downloaded.\n",
            " |      :rtype: builtin.list\n",
            " |  \n",
            " |  get_children(self, recursive=False, tags=None, properties=None, type=None, status=None, _rehydrate_runs=True)\n",
            " |      Get all children for the current run selected by specified filters.\n",
            " |      \n",
            " |      :param recursive: Indicates whether to recurse through all descendants.\n",
            " |      :type recursive: bool\n",
            " |      :param tags:  If specified, returns runs matching specified *\"tag\"* or {*\"tag\"*: *\"value\"*}.\n",
            " |      :type tags: str or dict\n",
            " |      :param properties: If specified, returns runs matching specified *\"property\"* or {*\"property\"*: *\"value\"*}.\n",
            " |      :type properties: str or dict\n",
            " |      :param type: If specified, returns runs matching this type.\n",
            " |      :type type: str\n",
            " |      :param status: If specified, returns runs with status specified *\"status\"*.\n",
            " |      :type status: str\n",
            " |      :param _rehydrate_runs: Indicates whether to instantiate a run of the original type\n",
            " |          or the base Run.\n",
            " |      :type _rehydrate_runs: bool\n",
            " |      :return: A list of :class:`azureml.core.run.Run` objects.\n",
            " |      :rtype: builtin.list\n",
            " |  \n",
            " |  get_detailed_status(self)\n",
            " |      Fetch the latest status of the run. If the status of the run is \"Queued\", it will show the details.\n",
            " |      \n",
            " |      .. remarks::\n",
            " |      \n",
            " |          * `status`: The run's current status. Same value as that returned from `get_status()`.\n",
            " |          * `details`: The detailed information for current status.\n",
            " |      \n",
            " |          .. code-block:: python\n",
            " |      \n",
            " |              run = experiment.submit(config)\n",
            " |              details = run.get_detailed_status()\n",
            " |              # details = {\n",
            " |              #     'status': 'Queued',\n",
            " |              #     'details': 'Run requested 1 node(s). Run is in pending status.',\n",
            " |              # }\n",
            " |      \n",
            " |      :return: The latest status and details\n",
            " |      :rtype: dict[str, str]\n",
            " |  \n",
            " |  get_details(self)\n",
            " |      Get the definition, status information, current log files, and other details of the run.\n",
            " |      \n",
            " |      .. remarks::\n",
            " |      \n",
            " |          The returned dictionary contains the following key-value pairs:\n",
            " |      \n",
            " |          * `runId`: ID of this run.\n",
            " |          * `target`\n",
            " |          * `status`: The run's current status. Same value as that returned from `get_status()`.\n",
            " |          * `startTimeUtc`: UTC time of when this run was started, in ISO8601.\n",
            " |          * `endTimeUtc`: UTC time of when this run was finished (either Completed or Failed), in ISO8601.\n",
            " |              This key does not exist if the run is still in progress.\n",
            " |          * `properties`: Immutable key-value pairs associated with the run. Default properties include\n",
            " |            the run's snapshot ID and information about the git repository from which the run was created (if any).\n",
            " |            Additional properties can be added to a run using :func:`add_properties`.\n",
            " |          * `datasets`: Datasets associated with the run.\n",
            " |          * `logFiles`\n",
            " |          * `submittedBy`\n",
            " |      \n",
            " |          .. code-block:: python\n",
            " |      \n",
            " |              run = experiment.start_logging()\n",
            " |      \n",
            " |              details = run.get_details()\n",
            " |              # details = {\n",
            " |              #     'runId': '5c24aa28-6e4a-4572-96a0-fb522d26fe2d',\n",
            " |              #     'target': 'sdk',\n",
            " |              #     'status': 'Running',\n",
            " |              #     'startTimeUtc': '2019-01-01T13:08:01.713777Z',\n",
            " |              #     'endTimeUtc': '2019-01-01T17:15:65.986253Z',\n",
            " |              #     'properties': {\n",
            " |              #         'azureml.git.repository_uri': 'https://example.com/my/git/repo',\n",
            " |              #         'azureml.git.branch': 'master',\n",
            " |              #         'azureml.git.commit': '7dc972657c2168927a02c3bc2b161e0f370365d7',\n",
            " |              #         'azureml.git.dirty': 'True',\n",
            " |              #         'mlflow.source.git.repoURL': 'https://example.com/my/git/repo',\n",
            " |              #         'mlflow.source.git.branch': 'master',\n",
            " |              #         'mlflow.source.git.commit': '7dc972657c2168927a02c3bc2b161e0f370365d7',\n",
            " |              #         'ContentSnapshotId': 'b4689489-ce2f-4db5-b6d7-6ad11e77079c'\n",
            " |              #     },\n",
            " |              #     'inputDatasets': [{\n",
            " |              #         'dataset': {'id': 'cdebf245-701d-4a68-8055-41f9cf44f298'},\n",
            " |              #         'consumptionDetails': {\n",
            " |              #             'type': 'RunInput',\n",
            " |              #             'inputName': 'training-data',\n",
            " |              #             'mechanism': 'Mount',\n",
            " |              #             'pathOnCompute': '/mnt/datasets/train'\n",
            " |              #         }\n",
            " |              #     }],\n",
            " |              #     'outputDatasets': [{\n",
            " |              #         'dataset': {'id': 'd04e8a19-1caa-4b1f-b318-4cbff9af9615'},\n",
            " |              #         'outputType': 'RunOutput',\n",
            " |              #         'outputDetails': {\n",
            " |              #             'outputName': 'training-result'\n",
            " |              #         }\n",
            " |              #     }],\n",
            " |              #     'runDefinition': {},\n",
            " |              #     'logFiles': {},\n",
            " |              #     'submittedBy': 'Alan Turing'\n",
            " |              # }\n",
            " |      \n",
            " |      :return: Return the details for the run\n",
            " |      :rtype: dict[str, str]\n",
            " |  \n",
            " |  get_details_with_logs(self)\n",
            " |      Return run status including log file content.\n",
            " |      \n",
            " |      :return: Returns the status for the run with log file contents.\n",
            " |      :rtype: dict\n",
            " |  \n",
            " |  get_environment(self)\n",
            " |      Get the environment definition that was used by this run.\n",
            " |      \n",
            " |      :return: Return the environment object.\n",
            " |      :rtype: azureml.core.environment.Environment\n",
            " |  \n",
            " |  get_file_names(self)\n",
            " |      List the files that are stored in association with the run.\n",
            " |      \n",
            " |      :return: The list of paths for existing artifacts\n",
            " |      :rtype: builtin.list[str]\n",
            " |  \n",
            " |  get_metrics(self, name=None, recursive=False, run_type=None, populate=False)\n",
            " |      Retrieve the metrics logged to the run.\n",
            " |      \n",
            " |      If ``recursive`` is True (False by default), then fetch metrics for runs in the given run's subtree.\n",
            " |      \n",
            " |      .. remarks::\n",
            " |      \n",
            " |          .. code-block:: python\n",
            " |      \n",
            " |              run = experiment.start_logging() # run id: 123\n",
            " |              run.log(\"A\", 1)\n",
            " |              with run.child_run() as child: # run id: 456\n",
            " |                  child.log(\"A\", 2)\n",
            " |      \n",
            " |              metrics = run.get_metrics()\n",
            " |              # metrics = { 'A': 1 }\n",
            " |      \n",
            " |              metrics = run.get_metrics(recursive=True)\n",
            " |              # metrics = { '123': { 'A': 1 }, '456': { 'A': 2 } } note key is runId\n",
            " |      \n",
            " |      :param name: The name of the metric.\n",
            " |      :type name: str\n",
            " |      :param recursive: Indicates whether to recurse through all descendants.\n",
            " |      :type recursive: bool\n",
            " |      :param run_type:\n",
            " |      :type run_type: str\n",
            " |      :param populate: Indicates whether to fetch the contents of external data linked to the metric.\n",
            " |      :type populate: bool\n",
            " |      :return: A dictionary containing the users metrics.\n",
            " |      :rtype: dict\n",
            " |  \n",
            " |  get_properties(self)\n",
            " |      Fetch the latest properties of the run from the service.\n",
            " |      \n",
            " |      .. remarks::\n",
            " |      \n",
            " |          Properties are immutable system-generated information such as\n",
            " |          duration, date of execution, user, and custom properties added with the\n",
            " |          :meth:`azureml.core.Run.add_properties` method. For more information, see `Tag and find runs\n",
            " |          <https://docs.microsoft.com/azure/machine-learning/how-to-manage-runs#tag-and-find-runs>`_.\n",
            " |      \n",
            " |          When submitting a job to Azure Machine Learning, if source files are stored in a local git\n",
            " |          repository then information about the repo is stored as properties.\n",
            " |          These git properties are added when creating a run or calling Experiment.submit.\n",
            " |          For more information about git properties see `Git integration for Azure Machine\n",
            " |          Learning <https://docs.microsoft.com/azure/machine-learning/concept-train-model-git-integration>`_.\n",
            " |      \n",
            " |      :return: The properties of the run.\n",
            " |      :rtype: dict\n",
            " |  \n",
            " |  get_secret(self, name)\n",
            " |      Get the secret value from the context of a run.\n",
            " |      \n",
            " |      Get the secret value for the name provided. The secret name references a value stored in\n",
            " |      Azure Key Vault associated with your workspace. For an example of working with secrets,\n",
            " |      see `Use secrets in training\n",
            " |      runs <https://docs.microsoft.com/azure/machine-learning/how-to-use-secrets-in-runs>`_.\n",
            " |      \n",
            " |      :param name: The secret name for which to return a secret.\n",
            " |      :type name: str\n",
            " |      :return: The secret value.\n",
            " |      :rtype: str\n",
            " |  \n",
            " |  get_secrets(self, secrets)\n",
            " |      Get the secret values for a given list of secret names.\n",
            " |      \n",
            " |      Get a dictionary of found and not found secrets for the list of names provided.\n",
            " |      Each secret name references a value stored in\n",
            " |      Azure Key Vault associated with your workspace. For an example of working with secrets,\n",
            " |      see `Use secrets in training\n",
            " |      runs <https://docs.microsoft.com/azure/machine-learning/how-to-use-secrets-in-runs>`_.\n",
            " |      \n",
            " |      :param secrets: A list of secret names for which to return secret values.\n",
            " |      :type secrets: builtin.list[str]\n",
            " |      :return: Returns a dictionary of found and not found secrets.\n",
            " |      :rtype: dict[str: str]\n",
            " |  \n",
            " |  get_snapshot_id(self)\n",
            " |      Get the latest snapshot ID.\n",
            " |      \n",
            " |      :return: The most recent snapshot ID.\n",
            " |      :rtype: str\n",
            " |  \n",
            " |  get_status(self)\n",
            " |      Fetch the latest status of the run.\n",
            " |      \n",
            " |      Common values returned include \"Running\", \"Completed\", and \"Failed\".\n",
            " |      \n",
            " |      .. remarks::\n",
            " |      \n",
            " |          * NotStarted - This is a temporary state client-side Run objects are in before cloud submission.\n",
            " |          * Starting - The Run has started being processed in the cloud. The caller has a run ID at this point.\n",
            " |          * Provisioning - Returned when on-demand compute is being created for a given job submission.\n",
            " |          * Preparing - The run environment is being prepared:\n",
            " |              * docker image build\n",
            " |              * conda environment setup\n",
            " |          * Queued - The job is queued in the compute target. For example, in BatchAI the job is in queued state\n",
            " |               while waiting for all the requested nodes to be ready.\n",
            " |          * Running - The job started to run in the compute target.\n",
            " |          * Finalizing - User code has completed and the run is in post-processing stages.\n",
            " |          * CancelRequested - Cancellation has been requested for the job.\n",
            " |          * Completed - The run completed successfully. This includes both the user code and run\n",
            " |              post-processing stages.\n",
            " |          * Failed - The run failed. Usually the Error property on a run will provide details as to why.\n",
            " |          * Canceled - Follows a cancellation request and indicates that the run is now successfully cancelled.\n",
            " |          * NotResponding - For runs that have Heartbeats enabled, no heartbeat has been recently sent.\n",
            " |      \n",
            " |          .. code-block:: python\n",
            " |      \n",
            " |              run = experiment.submit(config)\n",
            " |              while run.get_status() not in ['Completed', 'Failed']: # For example purposes only, not exhaustive\n",
            " |                  print('Run {} not in terminal state'.format(run.id))\n",
            " |                  time.sleep(10)\n",
            " |      \n",
            " |      :return: The latest status.\n",
            " |      :rtype: str\n",
            " |  \n",
            " |  get_tags(self)\n",
            " |      Fetch the latest set of mutable tags on the run from the service.\n",
            " |      \n",
            " |      :return: The tags stored on the run object.\n",
            " |      :rtype: dict\n",
            " |  \n",
            " |  log(self, name, value, description='')\n",
            " |      Log a metric value to the run with the given name.\n",
            " |      \n",
            " |      .. remarks::\n",
            " |      \n",
            " |          Logging a metric to a run causes that metric to be stored in\n",
            " |          the run record in the experiment.  You can log the same metric\n",
            " |          multiple times within a run, the result being considered a vector\n",
            " |          of that metric.\n",
            " |      \n",
            " |          .. code-block: python\n",
            " |      \n",
            " |              run = experiment.start_logging()\n",
            " |              run.log('Accuracy', (tp + tn) / (p + n))\n",
            " |              run.log('Precision', tp / (tp + fp))\n",
            " |              run.log('Recall', tp / (tp + fn))\n",
            " |      \n",
            " |      :param name: The name of metric.\n",
            " |      :type name: str\n",
            " |      :param value: The value to be posted to the service.\n",
            " |      :type value:\n",
            " |      :param description: An optional metric description.\n",
            " |      :type description: str\n",
            " |  \n",
            " |  log_accuracy_table(self, name, value, description='')\n",
            " |      Log an accuracy table to the artifact store.\n",
            " |      \n",
            " |      The accuracy table metric is a multi-use, non-scalar metric\n",
            " |      that can be used to produce multiple types of line charts\n",
            " |      that vary continuously over the space of predicted probabilities.\n",
            " |      Examples of these charts are ROC, precision-recall, and lift curves.\n",
            " |      \n",
            " |      The calculation of the accuracy table is similar to the calculation\n",
            " |      of an ROC curve. An ROC curve stores true positive rates and\n",
            " |      false positive rates at many different probability thresholds.\n",
            " |      The accuracy table stores the raw number of\n",
            " |      true positives, false positives, true negatives, and false negatives\n",
            " |      at many probability thresholds.\n",
            " |      \n",
            " |      There are two methods used for selecting thresholds: \"probability\" and\n",
            " |      \"percentile.\" They differ in how they sample from the space of\n",
            " |      predicted probabilities.\n",
            " |      \n",
            " |      Probability thresholds are uniformly spaced thresholds between 0 and 1.\n",
            " |      If NUM_POINTS is 5 the probability thresholds would be\n",
            " |      [0.0, 0.25, 0.5, 0.75, 1.0].\n",
            " |      \n",
            " |      Percentile thresholds are spaced according to the distribution of\n",
            " |      predicted probabilities. Each threshold corresponds to the percentile\n",
            " |      of the data at a probability threshold.\n",
            " |      For example, if NUM_POINTS is 5, then the first threshold would be at\n",
            " |      the 0th percentile, the second at the 25th percentile, the\n",
            " |      third at the 50th, and so on.\n",
            " |      \n",
            " |      The probability tables and percentile tables are both 3D lists where\n",
            " |      the first dimension represents the class label, the second dimension\n",
            " |      represents the sample at one threshold (scales with NUM_POINTS),\n",
            " |      and the third dimension always has 4 values: TP, FP, TN, FN, and\n",
            " |      always in that order.\n",
            " |      \n",
            " |      The confusion values (TP, FP, TN, FN) are computed with the\n",
            " |      one vs. rest strategy. See the following link for more details:\n",
            " |      `https://en.wikipedia.org/wiki/Multiclass_classification`\n",
            " |      \n",
            " |      .. remarks::\n",
            " |      \n",
            " |          Example of a valid JSON value:\n",
            " |      \n",
            " |          .. code-block:: json\n",
            " |      \n",
            " |              {\n",
            " |                  \"schema_type\": \"accuracy_table\",\n",
            " |                  \"schema_version\": \"v1\",\n",
            " |                  \"data\": {\n",
            " |                      \"probability_tables\": [\n",
            " |                          [\n",
            " |                              [82, 118, 0, 0],\n",
            " |                              [75, 31, 87, 7],\n",
            " |                              [66, 9, 109, 16],\n",
            " |                              [46, 2, 116, 36],\n",
            " |                              [0, 0, 118, 82]\n",
            " |                          ],\n",
            " |                          [\n",
            " |                              [60, 140, 0, 0],\n",
            " |                              [56, 20, 120, 4],\n",
            " |                              [47, 4, 136, 13],\n",
            " |                              [28, 0, 140, 32],\n",
            " |                              [0, 0, 140, 60]\n",
            " |                          ],\n",
            " |                          [\n",
            " |                              [58, 142, 0, 0],\n",
            " |                              [53, 29, 113, 5],\n",
            " |                              [40, 10, 132, 18],\n",
            " |                              [24, 1, 141, 34],\n",
            " |                              [0, 0, 142, 58]\n",
            " |                          ]\n",
            " |                      ],\n",
            " |                      \"percentile_tables\": [\n",
            " |                          [\n",
            " |                              [82, 118, 0, 0],\n",
            " |                              [82, 67, 51, 0],\n",
            " |                              [75, 26, 92, 7],\n",
            " |                              [48, 3, 115, 34],\n",
            " |                              [3, 0, 118, 79]\n",
            " |                          ],\n",
            " |                          [\n",
            " |                              [60, 140, 0, 0],\n",
            " |                              [60, 89, 51, 0],\n",
            " |                              [60, 41, 99, 0],\n",
            " |                              [46, 5, 135, 14],\n",
            " |                              [3, 0, 140, 57]\n",
            " |                          ],\n",
            " |                          [\n",
            " |                              [58, 142, 0, 0],\n",
            " |                              [56, 93, 49, 2],\n",
            " |                              [54, 47, 95, 4],\n",
            " |                              [41, 10, 132, 17],\n",
            " |                              [3, 0, 142, 55]\n",
            " |                          ]\n",
            " |                      ],\n",
            " |                      \"probability_thresholds\": [0.0, 0.25, 0.5, 0.75, 1.0],\n",
            " |                      \"percentile_thresholds\": [0.0, 25.0, 50.0, 75.0, 100.0],\n",
            " |                      \"class_labels\": [\"0\", \"1\", \"2\"]\n",
            " |                  }\n",
            " |              }\n",
            " |      \n",
            " |      N = # of samples in validation dataset (200 in example)\n",
            " |      M = # thresholds = # samples taken from the probability space (5 in example)\n",
            " |      C = # classes in full dataset (3 in example)\n",
            " |      \n",
            " |      Some invariants of the accuracy table:\n",
            " |      - TP + FP + TN + FN = N for all thresholds for all classes\n",
            " |      - TP + FN is the same at all thresholds for any class\n",
            " |      - TN + FP is the same at all thresholds for any class\n",
            " |      - Probability tables and percentile tables have shape [C, M, 4]\n",
            " |      \n",
            " |      Note: M can be any value and controls the resolution of the charts\n",
            " |      This is independent of the dataset, is defined when calculating\n",
            " |      metrics, and trades off storage space, computation time, and resolution.\n",
            " |      \n",
            " |      Class labels should be strings, confusion values should be integers, and\n",
            " |      thresholds should be floats.\n",
            " |      \n",
            " |      :param name: The name of the accuracy table.\n",
            " |      :type name: str\n",
            " |      :param value: JSON containing name, version, and data properties.\n",
            " |      :type value: str or dict\n",
            " |      :param description: An optional metric description.\n",
            " |      :type description: str\n",
            " |      :return:\n",
            " |  \n",
            " |  log_confusion_matrix(self, name, value, description='')\n",
            " |      Log a confusion matrix to the artifact store.\n",
            " |      \n",
            " |      This logs a wrapper around the sklearn confusion matrix.\n",
            " |      The metric data contains the class labels and a 2D list\n",
            " |      for the matrix itself.\n",
            " |      See the following link for more details on how the metric is computed:\n",
            " |      `https://scikit-learn.org/stable/modules/generated/sklearn.metrics.confusion_matrix.html`\n",
            " |      \n",
            " |      .. remarks::\n",
            " |      \n",
            " |          Example of a valid JSON value:\n",
            " |      \n",
            " |          .. code-block:: json\n",
            " |      \n",
            " |              {\n",
            " |                  \"schema_type\": \"confusion_matrix\",\n",
            " |                  \"schema_version\": \"v1\",\n",
            " |                  \"data\": {\n",
            " |                      \"class_labels\": [\"0\", \"1\", \"2\", \"3\"],\n",
            " |                      \"matrix\": [\n",
            " |                          [3, 0, 1, 0],\n",
            " |                          [0, 1, 0, 1],\n",
            " |                          [0, 0, 1, 0],\n",
            " |                          [0, 0, 0, 1]\n",
            " |                      ]\n",
            " |                  }\n",
            " |              }\n",
            " |      \n",
            " |      :param name: The name of the confusion matrix.\n",
            " |      :type name: str\n",
            " |      :param value: JSON containing name, version, and data properties.\n",
            " |      :type value: str or dict\n",
            " |      :param description: An optional metric description.\n",
            " |      :type description: str\n",
            " |      :return:\n",
            " |  \n",
            " |  log_image(self, name, path=None, plot=None, description='')\n",
            " |      Log an image metric to the run record.\n",
            " |      \n",
            " |      .. remarks::\n",
            " |      \n",
            " |          Use this method to log an image file or a `matplotlib plot <https://matplotlib.org/api/pyplot_api.html>`_\n",
            " |          to the run. These images will be visible and comparable in the run record.\n",
            " |      \n",
            " |      :param name: The name of the metric.\n",
            " |      :type name: str\n",
            " |      :param path: The path or stream of the image.\n",
            " |      :type path: str\n",
            " |      :param plot: The plot to log as an image.\n",
            " |      :type plot: matplotlib.pyplot\n",
            " |      :param description: An optional metric description.\n",
            " |      :type description: str\n",
            " |      :return:\n",
            " |  \n",
            " |  log_list(self, name, value, description='')\n",
            " |      Log a list of metric values to the run with the given name.\n",
            " |      \n",
            " |      :param name: The name of metric.\n",
            " |      :type name: str\n",
            " |      :param value: The values of the metric.\n",
            " |      :type value: builtin.list\n",
            " |      :param description: An optional metric description.\n",
            " |      :type description: str\n",
            " |  \n",
            " |  log_predictions(self, name, value, description='')\n",
            " |      Log predictions to the artifact store.\n",
            " |      \n",
            " |      This logs a metric score that can be used to compare\n",
            " |      the distributions of true target values to the\n",
            " |      distribution of predicted values for a regression task.\n",
            " |      \n",
            " |      The predictions are binned and standard deviations are calculated\n",
            " |      for error bars on a line chart.\n",
            " |      \n",
            " |      .. remarks::\n",
            " |      \n",
            " |          Example of a valid JSON value:\n",
            " |      \n",
            " |          .. code-block:: json\n",
            " |      \n",
            " |              {\n",
            " |                  \"schema_type\": \"predictions\",\n",
            " |                  \"schema_version\": \"v1\",\n",
            " |                  \"data\": {\n",
            " |                      \"bin_averages\": [0.25, 0.75],\n",
            " |                      \"bin_errors\": [0.013, 0.042],\n",
            " |                      \"bin_counts\": [56, 34],\n",
            " |                      \"bin_edges\": [0.0, 0.5, 1.0]\n",
            " |                  }\n",
            " |              }\n",
            " |      \n",
            " |      :param name: The name of the predictions.\n",
            " |      :type name: str\n",
            " |      :param value: JSON containing name, version, and data properties.\n",
            " |      :type value: str or dict\n",
            " |      :param description: An optional metric description.\n",
            " |      :type description: str\n",
            " |      :return:\n",
            " |  \n",
            " |  log_residuals(self, name, value, description='')\n",
            " |      Log residuals to the artifact store.\n",
            " |      \n",
            " |      This logs the data needed to display a histogram of\n",
            " |      residuals for a regression task.\n",
            " |      The residuals are predicted - actual.\n",
            " |      \n",
            " |      There should be one more edge than the number of counts.\n",
            " |      Please see the numpy histogram documentation for examples of\n",
            " |      using counts and edges to represent a histogram.\n",
            " |      `https://docs.scipy.org/doc/numpy/reference/generated/numpy.histogram.html`\n",
            " |      \n",
            " |      .. remarks::\n",
            " |      \n",
            " |          Example of a valid JSON value:\n",
            " |      \n",
            " |          .. code-block:: json\n",
            " |      \n",
            " |              {\n",
            " |                  \"schema_type\": \"residuals\",\n",
            " |                  \"schema_version\": \"v1\",\n",
            " |                  \"data\": {\n",
            " |                      \"bin_edges\": [50, 100, 200, 300, 350],\n",
            " |                      \"bin_counts\": [0.88, 20, 30, 50.99]\n",
            " |                  }\n",
            " |              }\n",
            " |      \n",
            " |      :param name: The name of the residuals.\n",
            " |      :type name: str\n",
            " |      :param value: JSON containing name, version, and data properties.\n",
            " |      :type value: str or dict\n",
            " |      :param description: An optional metric description.\n",
            " |      :type description: str\n",
            " |      :return:\n",
            " |  \n",
            " |  log_row(self, name, description=None, **kwargs)\n",
            " |      Log a row metric to the run with the given name.\n",
            " |      \n",
            " |      .. remarks::\n",
            " |      \n",
            " |          Using ``log_row`` creates a table metric with columns as described in kwargs.  Each named\n",
            " |          parameter generates a column with the value specified. ``log_row`` can be\n",
            " |          be called once to log an arbitrary tuple, or multiple times in a loop to generate\n",
            " |          a complete table.\n",
            " |      \n",
            " |          .. code-block:: python\n",
            " |      \n",
            " |              citrus = ['orange', 'lemon', 'lime']\n",
            " |              sizes = [ 10, 7, 3]\n",
            " |              for index in range(len(citrus)):\n",
            " |                  run.log_row(\"citrus\", fruit = citrus[index], size=sizes[index])\n",
            " |      \n",
            " |      :param name: The name of metric.\n",
            " |      :type name: str\n",
            " |      :param description: An optional metric description.\n",
            " |      :type description: str\n",
            " |      :param kwargs: A dictionary of additional parameters. In this case, the columns of the metric.\n",
            " |      :type kwargs: dict\n",
            " |  \n",
            " |  log_table(self, name, value, description='')\n",
            " |      Log a table metric to the run with the given name.\n",
            " |      \n",
            " |      :param name: The name of metric.\n",
            " |      :type name: str\n",
            " |      :param value: The table value of the metric, a dictionary where keys are columns to be posted to the service.\n",
            " |      :type value: dict\n",
            " |      :param description: An optional metric description.\n",
            " |      :type description: str\n",
            " |  \n",
            " |  register_model(self, model_name, model_path=None, tags=None, properties=None, model_framework=None, model_framework_version=None, description=None, datasets=None, sample_input_dataset=None, sample_output_dataset=None, resource_configuration=None, **kwargs)\n",
            " |      Register a model for operationalization.\n",
            " |      \n",
            " |      .. remarks::\n",
            " |      \n",
            " |          .. code-block:: python\n",
            " |      \n",
            " |              model = best_run.register_model(model_name = 'best_model', model_path = 'outputs/model.pkl')\n",
            " |      \n",
            " |      :param model_name: The name of the model.\n",
            " |      :type model_name: str\n",
            " |      :param model_path: The relative cloud path to the model, for example, \"outputs/modelname\".\n",
            " |          When not specified (None), ``model_name`` is used as the path.\n",
            " |      :type model_path: str\n",
            " |      :param tags: A dictionary of key value tags to assign to the model.\n",
            " |      :type tags: dict[str, str]\n",
            " |      :param properties: A dictionary of key value properties to assign to the model. These properties cannot\n",
            " |          be changed after model creation, however new key value pairs can be added.\n",
            " |      :type properties: dict[str, str]\n",
            " |      :param model_framework: The framework of the model to register.\n",
            " |          Currently supported frameworks: TensorFlow, ScikitLearn, Onnx, Custom, Multi\n",
            " |      :type model_framework: str\n",
            " |      :param model_framework_version: The framework version of the registered model.\n",
            " |      :type model_framework_version: str\n",
            " |      :param description: An optional description of the model.\n",
            " |      :type description: str\n",
            " |      :param datasets: A list of tuples where the first element describes the dataset-model relationship and\n",
            " |          the second element is the dataset.\n",
            " |      :type datasets: builtin.list[(str, azureml.data.abstract_dataset.AbstractDataset)]\n",
            " |      :param sample_input_dataset: Optional. Sample input dataset for the registered model\n",
            " |      :type sample_input_dataset: azureml.data.abstract_dataset.AbstractDataset\n",
            " |      :param sample_output_dataset: Optional. Sample output dataset for the registered model\n",
            " |      :type sample_output_dataset: azureml.data.abstract_dataset.AbstractDataset\n",
            " |      :param resource_configuration: Optional. Resource configuration to run the registered model\n",
            " |      :type resource_configuration: azureml.core.resource_configuration.ResourceConfiguration\n",
            " |      :param kwargs: Optional parameters.\n",
            " |      :type kwargs: dict\n",
            " |      :return: The registered model.\n",
            " |      :rtype: azureml.core.model.Model\n",
            " |  \n",
            " |  remove_tags(self, tags)\n",
            " |      Delete the list of mutable tags on this run.\n",
            " |      \n",
            " |      :param tags: A list of tags to remove.\n",
            " |      :type tags: builtin.list\n",
            " |      :return: The tags stored on the run object\n",
            " |  \n",
            " |  restore_snapshot(self, snapshot_id=None, path=None)\n",
            " |      Restore a snapshot as a ZIP file. Returns the path to the ZIP.\n",
            " |      \n",
            " |      :param snapshot_id: The snapshot ID to restore. The latest is used if not specified.\n",
            " |      :type snapshot_id: str\n",
            " |      :param path: The path where the downloaded ZIP is saved.\n",
            " |      :type path: str\n",
            " |      :return: The path.\n",
            " |      :rtype: str\n",
            " |  \n",
            " |  set_tags(self, tags)\n",
            " |      Add or modify a set of tags on the run. Tags not passed in the dictionary are left untouched.\n",
            " |      \n",
            " |      You can also add simple string tags. When these tags appear in the tag dictionary as keys,\n",
            " |      they have a value of None. For more information, see `Tag and find runs\n",
            " |      <https://docs.microsoft.com/azure/machine-learning/how-to-manage-runs#tag-and-find-runs>`_.\n",
            " |      \n",
            " |      :param tags: The tags stored in the run object.\n",
            " |      :type tags: dict[str] or str\n",
            " |  \n",
            " |  start(self)\n",
            " |      Mark the run as started.\n",
            " |      \n",
            " |      This is typically used in advanced scenarios when the run has been created by another actor.\n",
            " |  \n",
            " |  submit_child(self, config, tags=None, **kwargs)\n",
            " |      Submit an experiment and return the active child run.\n",
            " |      \n",
            " |      .. remarks::\n",
            " |      \n",
            " |          Submit is an asynchronous call to the Azure Machine Learning platform to execute a trial on local\n",
            " |          or remote hardware.  Depending on the configuration, submit will automatically prepare\n",
            " |          your execution environments, execute your code, and capture your source code and results\n",
            " |          into the experiment's run history.\n",
            " |      \n",
            " |          To submit an experiment you first need to create a configuration object describing\n",
            " |          how the experiment is to be run.  The configuration depends on the type of trial required.\n",
            " |      \n",
            " |          An example of how to submit a child experiment from your local machine using\n",
            " |          :class:`azureml.core.script_run_config.ScriptRunConfig` is as follows:\n",
            " |      \n",
            " |          .. code-block:: python\n",
            " |      \n",
            " |              from azureml.core import ScriptRunConfig\n",
            " |      \n",
            " |              # run a trial from the train.py code in your current directory\n",
            " |              config = ScriptRunConfig(source_directory='.', script='train.py',\n",
            " |                  run_config=RunConfiguration())\n",
            " |              run = parent_run.submit_child(config)\n",
            " |      \n",
            " |              # get the url to view the progress of the experiment and then wait\n",
            " |              # until the trial is complete\n",
            " |              print(run.get_portal_url())\n",
            " |              run.wait_for_completion()\n",
            " |      \n",
            " |          For details on how to configure a run, see :func:`azureml.core.Experiment.submit`.\n",
            " |      \n",
            " |      :param config: The config to be submitted.\n",
            " |      :type config: object\n",
            " |      :param tags: Tags to be added to the submitted run, e.g., {\"tag\": \"value\"}.\n",
            " |      :type tags: dict\n",
            " |      :param kwargs: Additional parameters used in submit function for configurations.\n",
            " |      :type kwargs: dict\n",
            " |      :return: A run object.\n",
            " |      :rtype: azureml.core.Run\n",
            " |  \n",
            " |  tag(self, key, value=None)\n",
            " |      Tag the run with a string key and optional string value.\n",
            " |      \n",
            " |      .. remarks::\n",
            " |      \n",
            " |          Tags and properties on a run are both dictionaries of string -> string. The difference between them\n",
            " |          is mutability: Tags can be set, updated, and deleted while Properties can only be added. This makes\n",
            " |          Properties more appropriate for system/workflow related behavior triggers, while Tags are generally\n",
            " |          user-facing and meaningful for the consumers of the experiment.\n",
            " |      \n",
            " |          .. code-block:: python\n",
            " |      \n",
            " |              run = experiment.start_logging()\n",
            " |              run.tag('DeploymentCandidate')\n",
            " |              run.tag('modifiedBy', 'Master CI')\n",
            " |              run.tag('modifiedBy', 'release pipeline') # Careful, tags are mutable\n",
            " |      \n",
            " |              run.add_properties({'BuildId': os.environ.get('VSTS_BUILD_ID')}) # Properties are not\n",
            " |      \n",
            " |              tags = run.get_tags()\n",
            " |              # tags = { 'DeploymentCandidate': None, 'modifiedBy': 'release pipeline' }\n",
            " |      \n",
            " |      \n",
            " |      :param key: The tag key\n",
            " |      :type key: str\n",
            " |      :param value: An optional value for the tag\n",
            " |      :type value: str\n",
            " |  \n",
            " |  take_snapshot(self, file_or_folder_path)\n",
            " |      Save a snapshot of the input file or folder.\n",
            " |      \n",
            " |      .. remarks::\n",
            " |      \n",
            " |          Snapshots are intended to be the *source code* used to execute the experiment run.\n",
            " |          These are stored with the run so that the run trial can be replicated in the future.\n",
            " |      \n",
            " |          .. note::\n",
            " |      \n",
            " |              Snapshots are automatically taken when :func:`azureml.core.Experiment.submit` is called. \\\n",
            " |              Typically, this the ``take_snapshot`` method  is only required for interactive (notebook) runs.\n",
            " |      \n",
            " |      :param file_or_folder_path: The file or folder containing the run source code.\n",
            " |      :type file_or_folder_path: str\n",
            " |      :return: Returns the snapshot ID.\n",
            " |      :rtype: str\n",
            " |  \n",
            " |  upload_file(self, name, path_or_stream)\n",
            " |      Upload a file to the run record.\n",
            " |      \n",
            " |      .. remarks::\n",
            " |      \n",
            " |          .. code-block:: python\n",
            " |      \n",
            " |              run = experiment.start_logging()\n",
            " |              run.upload_file(name='important_file', path_or_stream=\"path/on/disk/file.txt\")\n",
            " |      \n",
            " |          .. note::\n",
            " |      \n",
            " |              Runs automatically capture file in the specified output directory, which defaults \\\n",
            " |              to \"./outputs\" for most run types.  Use upload_file only when additional files need \\\n",
            " |              to be uploaded or an output directory is not specified.\n",
            " |      \n",
            " |      :param name: The name of the file to upload.\n",
            " |      :type name: str\n",
            " |      :param path_or_stream: The relative local path or stream to the file to upload.\n",
            " |      :type path_or_stream: str\n",
            " |      :return:\n",
            " |      :rtype: azure.storage.blob.models.ResourceProperties\n",
            " |  \n",
            " |  upload_files(self, names, paths, return_artifacts=False, timeout_seconds=None)\n",
            " |      Upload files to the run record.\n",
            " |      \n",
            " |      .. remarks::\n",
            " |      \n",
            " |          ``upload_files`` has the same effect as ``upload_file`` on separate files, however\n",
            " |          there are performance and resource utilization benefits when using ``upload_files``.\n",
            " |      \n",
            " |          .. code-block:: python\n",
            " |      \n",
            " |              import os\n",
            " |      \n",
            " |              run = experiment.start_logging()\n",
            " |              file_name_1 = 'important_file_1'\n",
            " |              file_name_2 = 'important_file_2'\n",
            " |              run.upload_files(names=[file_name_1, file_name_2],\n",
            " |                                  paths=['path/on/disk/file_1.txt', 'other/path/on/disk/file_2.txt'])\n",
            " |      \n",
            " |              run.download_file(file_name_1, 'file_1.txt')\n",
            " |      \n",
            " |              os.mkdir(\"path\")  # The path must exist\n",
            " |              run.download_file(file_name_2, 'path/file_2.txt')\n",
            " |      \n",
            " |          .. note::\n",
            " |      \n",
            " |              Runs automatically capture files in the specified output directory, which defaults \\\n",
            " |              to \"./outputs\" for most run types.  Use upload_files only when additional files need \\\n",
            " |              to be uploaded or an output directory is not specified.\n",
            " |      \n",
            " |      :param names: The names of the files to upload. If set, paths must also be set.\n",
            " |      :type names: builtin.list\n",
            " |      :param paths: The relative local paths to the files to upload. If set, names is required.\n",
            " |      :type paths: builtin.list\n",
            " |      :param return_artifacts: Indicates that an artifact object should be returned for each file uploaded.\n",
            " |      :type return_artifacts: bool\n",
            " |      :param timeout_seconds: The timeout for uploading files.\n",
            " |      :type timeout_seconds: int\n",
            " |  \n",
            " |  upload_folder(self, name, path)\n",
            " |      Upload the specified folder to the given prefix name.\n",
            " |      \n",
            " |      .. remarks::\n",
            " |      \n",
            " |          .. code-block:: python\n",
            " |      \n",
            " |              run = experiment.start_logging()\n",
            " |              run.upload_folder(name='important_files', path='path/on/disk')\n",
            " |      \n",
            " |              run.download_file('important_files/existing_file.txt', 'local_file.txt')\n",
            " |      \n",
            " |          .. note::\n",
            " |      \n",
            " |              Runs automatically capture files in the specified output directory, which defaults \\\n",
            " |              to \"./outputs\" for most run types.  Use upload_folder only when additional files need \\\n",
            " |              to be uploaded or an output directory is not specified.\n",
            " |      \n",
            " |      :param name: The name of the folder of files to upload.\n",
            " |      :type name: str\n",
            " |      :param folder: The relative local path to the folder to upload.\n",
            " |      :type folder: str\n",
            " |  \n",
            " |  wait_for_completion(self, show_output=False, wait_post_processing=False, raise_on_error=True)\n",
            " |      Wait for the completion of this run. Returns the status object after the wait.\n",
            " |      \n",
            " |      :param show_output: Indicates whether to show the run output on sys.stdout.\n",
            " |      :type show_output: bool\n",
            " |      :param wait_post_processing: Indicates whether to wait for the post processing to\n",
            " |          complete after the run completes.\n",
            " |      :type wait_post_processing: bool\n",
            " |      :param raise_on_error: Indicates whether an Error is raised when the Run is in a failed state.\n",
            " |      :type raise_on_error: bool\n",
            " |      :return: The status object.\n",
            " |      :rtype: dict\n",
            " |  \n",
            " |  ----------------------------------------------------------------------\n",
            " |  Class methods defined here:\n",
            " |  \n",
            " |  get_context(allow_offline=True, used_for_context_manager=False, **kwargs) from builtins.type\n",
            " |      Return current service context.\n",
            " |      \n",
            " |      Use this method to retrieve the current service context for logging metrics and uploading files. If\n",
            " |      ``allow_offline`` is True (the default), actions against the Run object will be printed to standard\n",
            " |      out.\n",
            " |      \n",
            " |      .. remarks::\n",
            " |      \n",
            " |          This function is commonly used to retrieve the authenticated Run object\n",
            " |          inside of a script to be submitted for execution via experiment.submit(). This run object is both\n",
            " |          an authenticated context to communicate with Azure Machine Learning services and a conceptual container\n",
            " |          within which metrics, files (artifacts), and models are contained.\n",
            " |      \n",
            " |          .. code-block:: python\n",
            " |      \n",
            " |              run = Run.get_context() # allow_offline=True by default, so can be run locally as well\n",
            " |              ...\n",
            " |              run.log(\"Accuracy\", 0.98)\n",
            " |              run.log_row(\"Performance\", epoch=e, error=err)\n",
            " |      \n",
            " |      :param cls: Indicates class method.\n",
            " |      :param allow_offline: Allow the service context to fall back to offline mode so that the training script\n",
            " |          can be tested locally without submitting a job with the SDK. True by default.\n",
            " |      :type allow_offline: bool\n",
            " |      :param kwargs: A dictionary of additional parameters.\n",
            " |      :type kwargs: dict\n",
            " |      :return: The submitted run.\n",
            " |      :rtype: azureml.core.run.Run\n",
            " |  \n",
            " |  get_submitted_run(**kwargs) from builtins.type\n",
            " |      DEPRECATED. Use :func:`get_context`.\n",
            " |      \n",
            " |      Get the submitted run for this experiment.\n",
            " |      \n",
            " |      :return: The submitted run.\n",
            " |      :rtype: azureml.core.run.Run\n",
            " |  \n",
            " |  ----------------------------------------------------------------------\n",
            " |  Static methods defined here:\n",
            " |  \n",
            " |  add_type_provider(runtype, run_factory)\n",
            " |      Extensibility hook for custom Run types stored in Run History.\n",
            " |      \n",
            " |      :param runtype: The value of Run.type for which the factory will be invoked. Examples include\n",
            " |          'hyperdrive' or 'azureml.scriptrun', but can be extended with custom types.\n",
            " |      :type runtype: str\n",
            " |      :param run_factory: A function with signature (Experiment, RunDto) -> Run to be invoked when\n",
            " |          listing runs.\n",
            " |      :type run_factory: function\n",
            " |  \n",
            " |  get(workspace, run_id)\n",
            " |      Get the run for this workspace with its run ID.\n",
            " |      \n",
            " |      :param workspace: The containing workspace.\n",
            " |      :type workspace: azureml.core.Workspace\n",
            " |      :param run_id: The run ID.\n",
            " |      :type run_id: string\n",
            " |      :return: The submitted run.\n",
            " |      :rtype: azureml.core.run.Run\n",
            " |  \n",
            " |  list(experiment, type=None, tags=None, properties=None, status=None, include_children=False, _rehydrate_runs=True)\n",
            " |      Get a list of runs in an experiment specified by optional filters.\n",
            " |      \n",
            " |      .. remarks::\n",
            " |      \n",
            " |          The following code example shows some uses of the ``list`` method.\n",
            " |      \n",
            " |          .. code-block:: python\n",
            " |      \n",
            " |              favorite_completed_runs = Run.list(experiment, status='Completed', tags='favorite')\n",
            " |      \n",
            " |              all_distinct_runs = Run.list(experiment)\n",
            " |              and_their_children = Run.list(experiment, include_children=True)\n",
            " |      \n",
            " |              only_script_runs = Run.list(experiment, type=ScriptRun.RUN_TYPE)\n",
            " |      \n",
            " |      :param experiment: The containing experiment.\n",
            " |      :type experiment: azureml.core.Experiment\n",
            " |      :param type: If specified, returns runs matching specified type.\n",
            " |      :type type: str\n",
            " |      :param tags:  If specified, returns runs matching specified *\"tag\"* or {*\"tag\"*: *\"value\"*}.\n",
            " |      :type tags: str or dict\n",
            " |      :param properties: If specified, returns runs matching specified *\"property\"* or {*\"property\"*: *\"value\"*}.\n",
            " |      :type properties: str or dict\n",
            " |      :param status: If specified, returns runs with status specified *\"status\"*.\n",
            " |      :type status: str\n",
            " |      :param include_children: If set to true, fetch all the runs, not only top-level ones.\n",
            " |      :type include_children: bool\n",
            " |      :param _rehydrate_runs: If set to True (by default), will use the registered provider to reinstantiate\n",
            " |          an object for that type instead of the base Run.\n",
            " |      :type _rehydrate_runs: bool\n",
            " |      :return: A list of runs.\n",
            " |      :rtype: builtin.list[azureml.core.run.Run]\n",
            " |  \n",
            " |  list_by_compute(compute, type=None, tags=None, properties=None, status=None)\n",
            " |      Get a list of runs in a compute specified by optional filters.\n",
            " |      \n",
            " |      :param compute: The containing compute.\n",
            " |      :type compute: azureml.core.ComputeTarget\n",
            " |      :param type: If specified, returns runs matching specified type.\n",
            " |      :type type: str\n",
            " |      :param tags:  If specified, returns runs matching specified *\"tag\"* or {*\"tag\"*: *\"value\"*}.\n",
            " |      :type tags: str or dict\n",
            " |      :param properties: If specified, returns runs matching specified *\"property\"* or {*\"property\"*: *\"value\"*}.\n",
            " |      :type properties: str or dict\n",
            " |      :param status: If specified, returns runs with status specified *\"status\"*.\n",
            " |          Only allowed values are \"Running\" and \"Queued\".\n",
            " |      :type status: str\n",
            " |      :return: a generator of ~_restclient.models.RunDto\n",
            " |      :rtype: builtin.generator\n",
            " |  \n",
            " |  ----------------------------------------------------------------------\n",
            " |  Data descriptors defined here:\n",
            " |  \n",
            " |  experiment\n",
            " |      Get experiment containing the run.\n",
            " |      \n",
            " |      :return: Retrieves the experiment corresponding to the run.\n",
            " |      :rtype: azureml.core.Experiment\n",
            " |  \n",
            " |  id\n",
            " |      Get run ID.\n",
            " |      \n",
            " |      The ID of the run is an identifier unique across the containing experiment.\n",
            " |      \n",
            " |      :return: The run ID.\n",
            " |      :rtype: str\n",
            " |  \n",
            " |  name\n",
            " |      Return the run name.\n",
            " |      \n",
            " |      The optional name of the run is a user-specified string useful for later identification of the run.\n",
            " |      \n",
            " |      :return: The run ID.\n",
            " |      :rtype: str\n",
            " |  \n",
            " |  number\n",
            " |      Get run number.\n",
            " |      \n",
            " |      A monotonically increasing number representing the order of runs within an experiment.\n",
            " |      \n",
            " |      :return: The run number.\n",
            " |      :rtype: int\n",
            " |  \n",
            " |  parent\n",
            " |      Fetch the parent run for this run from the service.\n",
            " |      \n",
            " |      Runs can have an optional parent, resulting in a potential tree hierarchy of runs. To log metrics to\n",
            " |      a parent run, use the :meth:`log` method of the parent object, for example, ``run.parent.log()``.\n",
            " |      \n",
            " |      :return: The parent run, or None if one is not set.\n",
            " |      :rtype: azureml.core.run.Run\n",
            " |  \n",
            " |  properties\n",
            " |      Return the immutable properties of this run.\n",
            " |      \n",
            " |      .. remarks::\n",
            " |      \n",
            " |          Properties include immutable system-generated information such as\n",
            " |          duration, date of execution, user, etc.\n",
            " |      \n",
            " |      :return: The locally cached properties of the run.\n",
            " |      :rtype: dict[str] or str\n",
            " |  \n",
            " |  status\n",
            " |      Return the run object's status.\n",
            " |  \n",
            " |  tags\n",
            " |      Return the set of mutable tags on this run.\n",
            " |      \n",
            " |      :return: The tags stored on the run object.\n",
            " |      :rtype: dict\n",
            " |  \n",
            " |  type\n",
            " |      Get run type.\n",
            " |      \n",
            " |      Indicates how the run was created or configured.\n",
            " |      \n",
            " |      :return: The run type.\n",
            " |      :rtype: str\n",
            " |  \n",
            " |  ----------------------------------------------------------------------\n",
            " |  Methods inherited from azureml._run_impl.run_base._RunBase:\n",
            " |  \n",
            " |  __repr__(self)\n",
            " |      Return repr(self).\n",
            " |  \n",
            " |  __str__(self)\n",
            " |      Return str(self).\n",
            " |  \n",
            " |  ----------------------------------------------------------------------\n",
            " |  Class methods inherited from azureml._run_impl.run_base._RunBase:\n",
            " |  \n",
            " |  get_docs_url() from builtins.type\n",
            " |  \n",
            " |  ----------------------------------------------------------------------\n",
            " |  Data descriptors inherited from azureml._logging.chained_identity.ChainedIdentity:\n",
            " |  \n",
            " |  __dict__\n",
            " |      dictionary for instance variables (if defined)\n",
            " |  \n",
            " |  __weakref__\n",
            " |      list of weak references to the object (if defined)\n",
            " |  \n",
            " |  identity\n",
            " |  \n",
            " |  ----------------------------------------------------------------------\n",
            " |  Data and other attributes inherited from azureml._logging.chained_identity.ChainedIdentity:\n",
            " |  \n",
            " |  DELIM = '#'\n",
            " |  \n",
            " |  ----------------------------------------------------------------------\n",
            " |  Methods inherited from azureml.core._portal.HasRunPortal:\n",
            " |  \n",
            " |  get_portal_url(self)\n",
            " |      :return: Returns the Azure portal url for the experiment.\n",
            " |      :rtype: str\n",
            " |  \n",
            " |  ----------------------------------------------------------------------\n",
            " |  Data and other attributes inherited from azureml.core._portal.HasRunPortal:\n",
            " |  \n",
            " |  RUN_PATH = '/runs/{0}'\n",
            " |  \n",
            " |  ----------------------------------------------------------------------\n",
            " |  Data and other attributes inherited from azureml.core._portal.HasExperimentPortal:\n",
            " |  \n",
            " |  EXPERIMENT_PATH = '/experiments/{0}'\n",
            " |  \n",
            " |  ----------------------------------------------------------------------\n",
            " |  Data descriptors inherited from azureml.core._portal.HasWorkspacePortal:\n",
            " |  \n",
            " |  portal_url\n",
            " |  \n",
            " |  ----------------------------------------------------------------------\n",
            " |  Data and other attributes inherited from azureml.core._portal.HasWorkspacePortal:\n",
            " |  \n",
            " |  WORKSPACE_FMT = '?wsid=/subscriptions/{0}/resourcegroups/{1}/workspace...\n",
            "\n"
          ]
        }
      ],
      "execution_count": 39,
      "metadata": {
        "collapsed": true,
        "jupyter": {
          "source_hidden": false,
          "outputs_hidden": false
        },
        "nteract": {
          "transient": {
            "deleting": false
          }
        },
        "gather": {
          "logged": 1612553408122
        }
      }
    },
    {
      "cell_type": "markdown",
      "source": [
        "### The above code is not needed anymore; only the very next line will be then matched befores we submit the experiment"
      ],
      "metadata": {
        "nteract": {
          "transient": {
            "deleting": false
          }
        }
      }
    },
    {
      "cell_type": "markdown",
      "source": [
        "## Run Details\n",
        "\n",
        "OPTIONAL: Write about the different models trained and their performance. Why do you think some models did better than others?\n",
        "\n",
        "TODO: In the cell below, use the `RunDetails` widget to show the different experiments."
      ],
      "metadata": {}
    },
    {
      "cell_type": "code",
      "source": [
        "from azureml.widgets import RunDetails\n",
        "RunDetails(pipeline_run).show()"
      ],
      "outputs": [],
      "execution_count": null,
      "metadata": {
        "gather": {
          "logged": 1612085133959
        },
        "jupyter": {
          "outputs_hidden": false,
          "source_hidden": false
        },
        "nteract": {
          "transient": {
            "deleting": false
          }
        }
      }
    },
    {
      "cell_type": "code",
      "source": [
        "pipeline_run.wait_for_completion()"
      ],
      "outputs": [],
      "execution_count": null,
      "metadata": {
        "gather": {
          "logged": 1612086926119
        }
      }
    },
    {
      "cell_type": "markdown",
      "source": [
        "## Examine Results\n",
        "\n",
        "### Retrieve the metrics of all child runs\n",
        "Outputs of above run can be used as inputs of other steps in pipeline. In this tutorial, we will examine the outputs by retrieve output data and running some tests."
      ],
      "metadata": {}
    },
    {
      "cell_type": "code",
      "source": [
        "metrics_output = pipeline_run.get_pipeline_output(metrics_output_name)\n",
        "metrics_output"
      ],
      "outputs": [],
      "execution_count": null,
      "metadata": {
        "gather": {
          "logged": 1612087269821
        }
      }
    },
    {
      "cell_type": "code",
      "source": [
        "num_file_downloaded = metrics_output.download('.', show_progress=True)"
      ],
      "outputs": [],
      "execution_count": null,
      "metadata": {
        "gather": {
          "logged": 1612087300726
        }
      }
    },
    {
      "cell_type": "code",
      "source": [
        "import json\n",
        "with open(metrics_output._path_on_datastore) as f:\n",
        "    metrics_output_result = f.read()\n",
        "    \n",
        "deserialized_metrics_output = json.loads(metrics_output_result)\n",
        "df = pd.DataFrame(deserialized_metrics_output)\n",
        "df"
      ],
      "outputs": [],
      "execution_count": null,
      "metadata": {
        "gather": {
          "logged": 1612087307461
        }
      }
    },
    {
      "cell_type": "markdown",
      "source": [
        "## Best Model\n",
        "\n",
        "TODO: In the cell below, get the best model from the automl experiments and display all the properties of the model.\n",
        "\n"
      ],
      "metadata": {}
    },
    {
      "cell_type": "code",
      "source": [
        "# Retrieve best model from Pipeline Run\n",
        "best_model_output = pipeline_run.get_pipeline_output(best_model_output_name)\n",
        "num_file_downloaded = best_model_output.download('.', show_progress=True)"
      ],
      "outputs": [],
      "execution_count": null,
      "metadata": {
        "gather": {
          "logged": 1612087328730
        },
        "jupyter": {
          "outputs_hidden": false,
          "source_hidden": false
        },
        "nteract": {
          "transient": {
            "deleting": false
          }
        }
      }
    },
    {
      "cell_type": "code",
      "source": [
        "#TODO: Save the best model\n",
        "import pickle\n",
        "\n",
        "with open(best_model_output._path_on_datastore, \"rb\" ) as f:\n",
        "    best_model = pickle.load(f)\n",
        "best_model"
      ],
      "outputs": [],
      "execution_count": null,
      "metadata": {
        "gather": {
          "logged": 1612087350205
        },
        "jupyter": {
          "outputs_hidden": false,
          "source_hidden": false
        },
        "nteract": {
          "transient": {
            "deleting": false
          }
        }
      }
    },
    {
      "cell_type": "code",
      "source": [
        "best_model.steps"
      ],
      "outputs": [],
      "execution_count": null,
      "metadata": {
        "gather": {
          "logged": 1612087362075
        }
      }
    },
    {
      "cell_type": "markdown",
      "source": [
        "### Test the Model:"
      ],
      "metadata": {}
    },
    {
      "cell_type": "code",
      "source": [
        "from sklearn.metrics import confusion_matrix\n",
        "ypred = best_model.predict(x_test)\n",
        "cm = confusion_matrix(y_test, ypred)"
      ],
      "outputs": [],
      "execution_count": null,
      "metadata": {
        "gather": {
          "logged": 1612087383962
        }
      }
    },
    {
      "cell_type": "code",
      "source": [
        "pd.DataFrame(cm).style.background_gradient(cmap='Blues', low=0, high=0.9)"
      ],
      "outputs": [],
      "execution_count": null,
      "metadata": {
        "gather": {
          "logged": 1612087393337
        }
      }
    },
    {
      "cell_type": "code",
      "source": [
        "#Accuracy Test:\r\n",
        "(152 + 62) / (152 + 62 + 38+10)"
      ],
      "outputs": [],
      "execution_count": null,
      "metadata": {
        "collapsed": true,
        "jupyter": {
          "source_hidden": false,
          "outputs_hidden": false
        },
        "nteract": {
          "transient": {
            "deleting": false
          }
        },
        "gather": {
          "logged": 1612087466563
        }
      }
    },
    {
      "cell_type": "markdown",
      "source": [
        "## Model Deployment\n",
        "\n",
        "Remember you have to deploy only one of the two models you trained.. Perform the steps in the rest of this notebook only if you wish to deploy this model.\n",
        "\n",
        "TODO: In the cell below, register the model, create an inference config and deploy the model as a web service."
      ],
      "metadata": {}
    },
    {
      "cell_type": "code",
      "source": [
        "best_model"
      ],
      "outputs": [],
      "execution_count": null,
      "metadata": {
        "gather": {
          "logged": 1612090412353
        },
        "jupyter": {
          "outputs_hidden": false,
          "source_hidden": false
        },
        "nteract": {
          "transient": {
            "deleting": false
          }
        }
      }
    },
    {
      "cell_type": "markdown",
      "source": [
        "TODO: In the cell below, send a request to the web service you deployed to test it."
      ],
      "metadata": {
        "collapsed": true,
        "gather": {
          "logged": 1598431657736
        },
        "jupyter": {
          "outputs_hidden": false,
          "source_hidden": false
        },
        "nteract": {
          "transient": {
            "deleting": false
          }
        }
      }
    },
    {
      "cell_type": "code",
      "source": [
        "#help(best_model)\r\n",
        "dir(pipeline_run)"
      ],
      "outputs": [],
      "execution_count": null,
      "metadata": {
        "gather": {
          "logged": 1612091863719
        },
        "jupyter": {
          "outputs_hidden": false,
          "source_hidden": false
        },
        "nteract": {
          "transient": {
            "deleting": false
          }
        }
      }
    },
    {
      "cell_type": "code",
      "source": [
        "pipeline_run.experiment"
      ],
      "outputs": [],
      "execution_count": null,
      "metadata": {
        "collapsed": true,
        "jupyter": {
          "source_hidden": false,
          "outputs_hidden": false
        },
        "nteract": {
          "transient": {
            "deleting": false
          }
        },
        "gather": {
          "logged": 1612092169172
        }
      }
    },
    {
      "cell_type": "markdown",
      "source": [
        "TODO: In the cell below, print the logs of the web service and delete the service"
      ],
      "metadata": {
        "collapsed": true,
        "gather": {
          "logged": 1598432765711
        },
        "jupyter": {
          "outputs_hidden": false,
          "source_hidden": false
        },
        "nteract": {
          "transient": {
            "deleting": false
          }
        }
      }
    },
    {
      "cell_type": "code",
      "source": [],
      "outputs": [],
      "execution_count": null,
      "metadata": {
        "jupyter": {
          "outputs_hidden": false,
          "source_hidden": false
        },
        "nteract": {
          "transient": {
            "deleting": false
          }
        }
      }
    }
  ],
  "metadata": {
    "kernel_info": {
      "name": "python3"
    },
    "kernelspec": {
      "name": "python3",
      "language": "python",
      "display_name": "Python 3"
    },
    "language_info": {
      "name": "python",
      "version": "3.6.9",
      "mimetype": "text/x-python",
      "codemirror_mode": {
        "name": "ipython",
        "version": 3
      },
      "pygments_lexer": "ipython3",
      "nbconvert_exporter": "python",
      "file_extension": ".py"
    },
    "nteract": {
      "version": "nteract-front-end@1.0.0"
    }
  },
  "nbformat": 4,
  "nbformat_minor": 2
}