{
  "cells": [
    {
      "cell_type": "markdown",
      "source": [
        "# Automated ML\n",
        "\n",
        "TODO: Import Dependencies. In the cell below, import all the dependencies that you will need to complete the project."
      ],
      "metadata": {}
    },
    {
      "cell_type": "code",
      "source": [
        "import logging\n",
        "import os\n",
        "import csv\n",
        "\n",
        "from matplotlib import pyplot as plt\n",
        "import numpy as np\n",
        "import pandas as pd\n",
        "from azureml.data.dataset_factory import TabularDatasetFactory\n",
        "import pkg_resources\n",
        "\n",
        "import azureml.core\n",
        "from azureml.core.experiment import Experiment\n",
        "from azureml.core.workspace import Workspace\n",
        "from azureml.train.automl import AutoMLConfig\n",
        "from azureml.core.dataset import Dataset\n",
        "\n",
        "from azureml.pipeline.steps import AutoMLStep\n",
        "\n",
        "# Check core SDK version number\n",
        "print(\"SDK version:\", azureml.core.VERSION) "
      ],
      "outputs": [
        {
          "output_type": "stream",
          "name": "stdout",
          "text": [
            "SDK version: 1.21.0\n"
          ]
        }
      ],
      "execution_count": 3,
      "metadata": {
        "gather": {
          "logged": 1612641326871
        },
        "jupyter": {
          "outputs_hidden": false,
          "source_hidden": false
        },
        "nteract": {
          "transient": {
            "deleting": false
          }
        }
      }
    },
    {
      "cell_type": "code",
      "source": [
        "#Testing the authentication using the Workspace method \"from_config\"\n",
        "Workspace.from_config()"
      ],
      "outputs": [
        {
          "output_type": "execute_result",
          "execution_count": 4,
          "data": {
            "text/plain": "Workspace.create(name='quick-starts-ws-137654', subscription_id='6971f5ac-8af1-446e-8034-05acea24681f', resource_group='aml-quickstarts-137654')"
          },
          "metadata": {}
        }
      ],
      "execution_count": 4,
      "metadata": {
        "gather": {
          "logged": 1612641342971
        }
      }
    },
    {
      "cell_type": "code",
      "source": [
        "#create workspace\r\n",
        "ws = Workspace.from_config()"
      ],
      "outputs": [],
      "execution_count": 5,
      "metadata": {
        "collapsed": true,
        "jupyter": {
          "source_hidden": false,
          "outputs_hidden": false
        },
        "nteract": {
          "transient": {
            "deleting": false
          }
        },
        "gather": {
          "logged": 1612641349404
        }
      }
    },
    {
      "cell_type": "code",
      "source": [
        " #!pip install --upgrade --upgrade-strategy eager azureml-sdk[automl,widgets,notebooks]==1.21.0"
      ],
      "outputs": [],
      "execution_count": 6,
      "metadata": {
        "collapsed": true,
        "jupyter": {
          "source_hidden": false,
          "outputs_hidden": false
        },
        "nteract": {
          "transient": {
            "deleting": false
          }
        },
        "gather": {
          "logged": 1612641357058
        }
      }
    },
    {
      "cell_type": "code",
      "source": [
        " print(\"SDK version:\", azureml.core.VERSION)"
      ],
      "outputs": [
        {
          "output_type": "stream",
          "name": "stdout",
          "text": [
            "SDK version: 1.21.0\n"
          ]
        }
      ],
      "execution_count": 7,
      "metadata": {
        "collapsed": true,
        "jupyter": {
          "source_hidden": false,
          "outputs_hidden": false
        },
        "nteract": {
          "transient": {
            "deleting": false
          }
        },
        "gather": {
          "logged": 1612641361457
        }
      }
    },
    {
      "cell_type": "code",
      "source": [
        "# Choose a name for the run history container in the workspace.\n",
        "# NOTE: update these to match your existing experiment name\n",
        "experiment_name = 'automl-experiment-1'\n",
        "project_folder = './pipeline-project'\n",
        "\n",
        "experiment = Experiment(ws, experiment_name)\n",
        "experiment"
      ],
      "outputs": [
        {
          "output_type": "execute_result",
          "execution_count": 8,
          "data": {
            "text/plain": "Experiment(Name: automl-experiment-1,\nWorkspace: quick-starts-ws-137654)",
            "text/html": "<table style=\"width:100%\"><tr><th>Name</th><th>Workspace</th><th>Report Page</th><th>Docs Page</th></tr><tr><td>automl-experiment-1</td><td>quick-starts-ws-137654</td><td><a href=\"https://ml.azure.com/experiments/automl-experiment-1?wsid=/subscriptions/6971f5ac-8af1-446e-8034-05acea24681f/resourcegroups/aml-quickstarts-137654/workspaces/quick-starts-ws-137654\" target=\"_blank\" rel=\"noopener\">Link to Azure Machine Learning studio</a></td><td><a href=\"https://docs.microsoft.com/en-us/python/api/azureml-core/azureml.core.experiment.Experiment?view=azure-ml-py\" target=\"_blank\" rel=\"noopener\">Link to Documentation</a></td></tr></table>"
          },
          "metadata": {}
        }
      ],
      "execution_count": 8,
      "metadata": {
        "gather": {
          "logged": 1612641366611
        }
      }
    },
    {
      "cell_type": "markdown",
      "source": [
        "## Dataset\n",
        "\n",
        "### Overview\n",
        "TODO: In this markdown cell, give an overview of the dataset you are using. Also mention the task you will be performing.\n",
        "\n",
        "\n",
        "TODO: Get data. In the cell below, write code to access the data you will be using in this project. Remember that the dataset needs to be external."
      ],
      "metadata": {}
    },
    {
      "cell_type": "code",
      "source": [
        "\n",
        "\n",
        "dataset = TabularDatasetFactory.from_delimited_files('https://www.openml.org/data/get_csv/16826755/phpMYEkMl')\n",
        "\n",
        "\n",
        "dataset = dataset.to_pandas_dataframe()\n",
        "dataset.describe()"
      ],
      "outputs": [
        {
          "output_type": "execute_result",
          "execution_count": 9,
          "data": {
            "text/plain": "            pclass     survived        sibsp        parch         fare\ncount  1309.000000  1309.000000  1309.000000  1309.000000  1308.000000\nmean      2.294882     0.381971     0.498854     0.385027    33.295479\nstd       0.837836     0.486055     1.041658     0.865560    51.758668\nmin       1.000000     0.000000     0.000000     0.000000     0.000000\n25%       2.000000     0.000000     0.000000     0.000000     7.895800\n50%       3.000000     0.000000     0.000000     0.000000    14.454200\n75%       3.000000     1.000000     1.000000     0.000000    31.275000\nmax       3.000000     1.000000     8.000000     9.000000   512.329200",
            "text/html": "<div>\n<style scoped>\n    .dataframe tbody tr th:only-of-type {\n        vertical-align: middle;\n    }\n\n    .dataframe tbody tr th {\n        vertical-align: top;\n    }\n\n    .dataframe thead th {\n        text-align: right;\n    }\n</style>\n<table border=\"1\" class=\"dataframe\">\n  <thead>\n    <tr style=\"text-align: right;\">\n      <th></th>\n      <th>pclass</th>\n      <th>survived</th>\n      <th>sibsp</th>\n      <th>parch</th>\n      <th>fare</th>\n    </tr>\n  </thead>\n  <tbody>\n    <tr>\n      <th>count</th>\n      <td>1309.000000</td>\n      <td>1309.000000</td>\n      <td>1309.000000</td>\n      <td>1309.000000</td>\n      <td>1308.000000</td>\n    </tr>\n    <tr>\n      <th>mean</th>\n      <td>2.294882</td>\n      <td>0.381971</td>\n      <td>0.498854</td>\n      <td>0.385027</td>\n      <td>33.295479</td>\n    </tr>\n    <tr>\n      <th>std</th>\n      <td>0.837836</td>\n      <td>0.486055</td>\n      <td>1.041658</td>\n      <td>0.865560</td>\n      <td>51.758668</td>\n    </tr>\n    <tr>\n      <th>min</th>\n      <td>1.000000</td>\n      <td>0.000000</td>\n      <td>0.000000</td>\n      <td>0.000000</td>\n      <td>0.000000</td>\n    </tr>\n    <tr>\n      <th>25%</th>\n      <td>2.000000</td>\n      <td>0.000000</td>\n      <td>0.000000</td>\n      <td>0.000000</td>\n      <td>7.895800</td>\n    </tr>\n    <tr>\n      <th>50%</th>\n      <td>3.000000</td>\n      <td>0.000000</td>\n      <td>0.000000</td>\n      <td>0.000000</td>\n      <td>14.454200</td>\n    </tr>\n    <tr>\n      <th>75%</th>\n      <td>3.000000</td>\n      <td>1.000000</td>\n      <td>1.000000</td>\n      <td>0.000000</td>\n      <td>31.275000</td>\n    </tr>\n    <tr>\n      <th>max</th>\n      <td>3.000000</td>\n      <td>1.000000</td>\n      <td>8.000000</td>\n      <td>9.000000</td>\n      <td>512.329200</td>\n    </tr>\n  </tbody>\n</table>\n</div>"
          },
          "metadata": {}
        }
      ],
      "execution_count": 9,
      "metadata": {
        "gather": {
          "logged": 1612641379927
        }
      }
    },
    {
      "cell_type": "code",
      "source": [
        "###Just in case:\n",
        "from azureml.core.compute import AmlCompute\n",
        "from azureml.core.compute import ComputeTarget\n",
        "from azureml.core.compute_target import ComputeTargetException\n",
        "\n",
        "# NOTE: update the cluster name to match the existing cluster\n",
        "# Choose a name for your CPU cluster\n",
        "amlcompute_cluster_name = \"auto-ml\"\n",
        "\n",
        "# Verify that cluster does not exist already\n",
        "try:\n",
        "    compute_target = ComputeTarget(workspace=ws, name=amlcompute_cluster_name)\n",
        "    print('Found existing cluster, use it.')\n",
        "except ComputeTargetException:\n",
        "    compute_config = AmlCompute.provisioning_configuration(vm_size='STANDARD_DS12_V2',# for GPU, use \"STANDARD_NC6\"\n",
        "                                                           #vm_priority = 'lowpriority', # optional\n",
        "                                                           min_nodes=1,\n",
        "                                                           max_nodes=6)\n",
        "    compute_target = ComputeTarget.create(ws, amlcompute_cluster_name, compute_config)\n",
        "\n",
        "compute_target.wait_for_completion(show_output=True)\n",
        "# For a more detailed view of current AmlCompute status, use get_status()."
      ],
      "outputs": [
        {
          "output_type": "stream",
          "name": "stdout",
          "text": [
            "Found existing cluster, use it.\n",
            "\n",
            "Running\n"
          ]
        }
      ],
      "execution_count": 10,
      "metadata": {
        "gather": {
          "logged": 1612641392255
        }
      }
    },
    {
      "cell_type": "markdown",
      "source": [
        "### Clean Data:"
      ],
      "metadata": {}
    },
    {
      "cell_type": "code",
      "source": [
        "from train import clean_data"
      ],
      "outputs": [],
      "execution_count": 11,
      "metadata": {
        "gather": {
          "logged": 1612641397113
        }
      }
    },
    {
      "cell_type": "code",
      "source": [
        "x, y = clean_data(dataset)"
      ],
      "outputs": [],
      "execution_count": 12,
      "metadata": {
        "gather": {
          "logged": 1612641401269
        }
      }
    },
    {
      "cell_type": "code",
      "source": [
        "from sklearn.preprocessing import StandardScaler"
      ],
      "outputs": [],
      "execution_count": 13,
      "metadata": {
        "gather": {
          "logged": 1612641404700
        }
      }
    },
    {
      "cell_type": "code",
      "source": [
        "# create scaler\n",
        "variables = x.columns.tolist()\n",
        "\n",
        "scaler = StandardScaler()\n",
        "scaler.fit(x[variables]) \n",
        "\n",
        "x = scaler.transform(x[variables])"
      ],
      "outputs": [],
      "execution_count": 14,
      "metadata": {
        "gather": {
          "logged": 1612641408853
        }
      }
    },
    {
      "cell_type": "code",
      "source": [
        "x = pd.DataFrame(x,columns=variables)\r\n"
      ],
      "outputs": [],
      "execution_count": 15,
      "metadata": {
        "collapsed": true,
        "jupyter": {
          "source_hidden": false,
          "outputs_hidden": false
        },
        "nteract": {
          "transient": {
            "deleting": false
          }
        },
        "gather": {
          "logged": 1612641415420
        }
      }
    },
    {
      "cell_type": "code",
      "source": [
        "from sklearn.model_selection import train_test_split\n",
        "\n",
        "x_train, x_test, y_train, y_test = train_test_split(x,y,\n",
        "                                                    test_size = 0.2,\n",
        "                                                    random_state=0)"
      ],
      "outputs": [],
      "execution_count": 16,
      "metadata": {
        "gather": {
          "logged": 1612641420649
        }
      }
    },
    {
      "cell_type": "code",
      "source": [
        "#bring them together them again\n",
        "dataset = pd.concat([x_train,y_train],axis=1)"
      ],
      "outputs": [],
      "execution_count": 17,
      "metadata": {
        "gather": {
          "logged": 1612641424710
        }
      }
    },
    {
      "cell_type": "code",
      "source": [
        "dataset.head()"
      ],
      "outputs": [
        {
          "output_type": "execute_result",
          "execution_count": 18,
          "data": {
            "text/plain": "        pclass       age     sibsp  parch      fare    age_NA  fare_NA  \\\n1118  0.841916 -0.349075 -0.479087 -0.445 -0.490240 -0.501432 -0.02765   \n44   -1.546098  0.891204 -0.479087 -0.445  1.956990 -0.501432 -0.02765   \n1072  0.841916 -0.116523 -0.479087 -0.445 -0.493947  1.994288 -0.02765   \n1130  0.841916 -0.891698 -0.479087 -0.445 -0.493141 -0.501432 -0.02765   \n574  -0.352091 -0.039005  0.481288 -0.445 -0.237445 -0.501432 -0.02765   \n\n      sex_male  cabin_Missing  cabin_Rare  embarked_Q  embarked_Rare  \\\n1118  0.743497       0.539377   -0.425920   -0.322040      -0.039118   \n44   -1.344995      -1.853992    2.347858   -0.322040      -0.039118   \n1072  0.743497       0.539377   -0.425920    3.105202      -0.039118   \n1130 -1.344995       0.539377   -0.425920   -0.322040      -0.039118   \n574   0.743497       0.539377   -0.425920   -0.322040      -0.039118   \n\n      embarked_S  title_Mr  title_Mrs  title_Rare  survived  \n1118    0.657394  0.852592   -0.42592   -0.274947         0  \n44     -1.521159 -1.172894   -0.42592   -0.274947         1  \n1072   -1.521159  0.852592   -0.42592   -0.274947         0  \n1130    0.657394 -1.172894   -0.42592   -0.274947         0  \n574     0.657394  0.852592   -0.42592   -0.274947         0  ",
            "text/html": "<div>\n<style scoped>\n    .dataframe tbody tr th:only-of-type {\n        vertical-align: middle;\n    }\n\n    .dataframe tbody tr th {\n        vertical-align: top;\n    }\n\n    .dataframe thead th {\n        text-align: right;\n    }\n</style>\n<table border=\"1\" class=\"dataframe\">\n  <thead>\n    <tr style=\"text-align: right;\">\n      <th></th>\n      <th>pclass</th>\n      <th>age</th>\n      <th>sibsp</th>\n      <th>parch</th>\n      <th>fare</th>\n      <th>age_NA</th>\n      <th>fare_NA</th>\n      <th>sex_male</th>\n      <th>cabin_Missing</th>\n      <th>cabin_Rare</th>\n      <th>embarked_Q</th>\n      <th>embarked_Rare</th>\n      <th>embarked_S</th>\n      <th>title_Mr</th>\n      <th>title_Mrs</th>\n      <th>title_Rare</th>\n      <th>survived</th>\n    </tr>\n  </thead>\n  <tbody>\n    <tr>\n      <th>1118</th>\n      <td>0.841916</td>\n      <td>-0.349075</td>\n      <td>-0.479087</td>\n      <td>-0.445</td>\n      <td>-0.490240</td>\n      <td>-0.501432</td>\n      <td>-0.02765</td>\n      <td>0.743497</td>\n      <td>0.539377</td>\n      <td>-0.425920</td>\n      <td>-0.322040</td>\n      <td>-0.039118</td>\n      <td>0.657394</td>\n      <td>0.852592</td>\n      <td>-0.42592</td>\n      <td>-0.274947</td>\n      <td>0</td>\n    </tr>\n    <tr>\n      <th>44</th>\n      <td>-1.546098</td>\n      <td>0.891204</td>\n      <td>-0.479087</td>\n      <td>-0.445</td>\n      <td>1.956990</td>\n      <td>-0.501432</td>\n      <td>-0.02765</td>\n      <td>-1.344995</td>\n      <td>-1.853992</td>\n      <td>2.347858</td>\n      <td>-0.322040</td>\n      <td>-0.039118</td>\n      <td>-1.521159</td>\n      <td>-1.172894</td>\n      <td>-0.42592</td>\n      <td>-0.274947</td>\n      <td>1</td>\n    </tr>\n    <tr>\n      <th>1072</th>\n      <td>0.841916</td>\n      <td>-0.116523</td>\n      <td>-0.479087</td>\n      <td>-0.445</td>\n      <td>-0.493947</td>\n      <td>1.994288</td>\n      <td>-0.02765</td>\n      <td>0.743497</td>\n      <td>0.539377</td>\n      <td>-0.425920</td>\n      <td>3.105202</td>\n      <td>-0.039118</td>\n      <td>-1.521159</td>\n      <td>0.852592</td>\n      <td>-0.42592</td>\n      <td>-0.274947</td>\n      <td>0</td>\n    </tr>\n    <tr>\n      <th>1130</th>\n      <td>0.841916</td>\n      <td>-0.891698</td>\n      <td>-0.479087</td>\n      <td>-0.445</td>\n      <td>-0.493141</td>\n      <td>-0.501432</td>\n      <td>-0.02765</td>\n      <td>-1.344995</td>\n      <td>0.539377</td>\n      <td>-0.425920</td>\n      <td>-0.322040</td>\n      <td>-0.039118</td>\n      <td>0.657394</td>\n      <td>-1.172894</td>\n      <td>-0.42592</td>\n      <td>-0.274947</td>\n      <td>0</td>\n    </tr>\n    <tr>\n      <th>574</th>\n      <td>-0.352091</td>\n      <td>-0.039005</td>\n      <td>0.481288</td>\n      <td>-0.445</td>\n      <td>-0.237445</td>\n      <td>-0.501432</td>\n      <td>-0.02765</td>\n      <td>0.743497</td>\n      <td>0.539377</td>\n      <td>-0.425920</td>\n      <td>-0.322040</td>\n      <td>-0.039118</td>\n      <td>0.657394</td>\n      <td>0.852592</td>\n      <td>-0.42592</td>\n      <td>-0.274947</td>\n      <td>0</td>\n    </tr>\n  </tbody>\n</table>\n</div>"
          },
          "metadata": {}
        }
      ],
      "execution_count": 18,
      "metadata": {
        "gather": {
          "logged": 1612641429209
        }
      }
    },
    {
      "cell_type": "code",
      "source": [
        "#To train the model we need a TabularDataset and not a dataframe, therefore the current df will be converterd \n",
        "#into a TabularDataset:\n",
        "\n",
        "#Convert the dataframe into a csv\n",
        "local_path = 'prepared.csv'\n",
        "\n",
        "#Save it locally\n",
        "dataset.to_csv(local_path,index=None)\n",
        "\n",
        "#Generate the a datastore object which is the the default datastore\n",
        "datastore = ws.get_default_datastore()"
      ],
      "outputs": [],
      "execution_count": 19,
      "metadata": {
        "gather": {
          "logged": 1612641434816
        }
      }
    },
    {
      "cell_type": "code",
      "source": [
        "#Upload the dataframe which was previosly converted into a csv\n",
        "datastore.upload(src_dir='.', target_path='data')"
      ],
      "outputs": [
        {
          "output_type": "stream",
          "name": "stdout",
          "text": [
            "Uploading an estimated of 14 files\n",
            "Target already exists. Skipping upload for data/.amlignore\n",
            "Target already exists. Skipping upload for data/.amlignore.amltmp\n",
            "Target already exists. Skipping upload for data/automl3.ipynb.amltmp\n",
            "Target already exists. Skipping upload for data/automl4.ipynb\n",
            "Target already exists. Skipping upload for data/automl4.ipynb.amltmp\n",
            "Target already exists. Skipping upload for data/prepared.csv\n",
            "Target already exists. Skipping upload for data/pre_preprocess.py\n",
            "Target already exists. Skipping upload for data/train.py\n",
            "Target already exists. Skipping upload for data/__pycache__/pre_preprocess.cpython-36.pyc\n",
            "Target already exists. Skipping upload for data/__pycache__/train.cpython-36.pyc\n",
            "Uploading ./.ipynb_aml_checkpoints/automl4-checkpoint2021-1-6-19-16-2.ipynb\n",
            "Uploaded ./.ipynb_aml_checkpoints/automl4-checkpoint2021-1-6-19-16-2.ipynb, 1 files out of an estimated total of 6\n",
            "Uploading ./.ipynb_aml_checkpoints/automl4-checkpoint2021-1-6-19-27-51.ipynb\n",
            "Uploaded ./.ipynb_aml_checkpoints/automl4-checkpoint2021-1-6-19-27-51.ipynb, 2 files out of an estimated total of 6\n",
            "Uploading ./.ipynb_aml_checkpoints/automl4-checkpoint2021-1-6-19-30-20.ipynb\n",
            "Uploaded ./.ipynb_aml_checkpoints/automl4-checkpoint2021-1-6-19-30-20.ipynb, 3 files out of an estimated total of 6\n",
            "Uploading ./.ipynb_aml_checkpoints/automl4-checkpoint2021-1-6-19-35-16.ipynb\n",
            "Uploaded ./.ipynb_aml_checkpoints/automl4-checkpoint2021-1-6-19-35-16.ipynb, 4 files out of an estimated total of 6\n",
            "Uploaded 4 files\n"
          ]
        },
        {
          "output_type": "execute_result",
          "execution_count": 20,
          "data": {
            "text/plain": "$AZUREML_DATAREFERENCE_7153bfb72a6a4424914d388474887e94"
          },
          "metadata": {}
        }
      ],
      "execution_count": 20,
      "metadata": {
        "gather": {
          "logged": 1612641438235
        }
      }
    },
    {
      "cell_type": "code",
      "source": [
        "#For the sake of checking; check the path\n",
        "datastore.path()"
      ],
      "outputs": [
        {
          "output_type": "execute_result",
          "execution_count": 21,
          "data": {
            "text/plain": "$AZUREML_DATAREFERENCE_workspaceblobstore"
          },
          "metadata": {}
        }
      ],
      "execution_count": 21,
      "metadata": {
        "gather": {
          "logged": 1612641444682
        }
      }
    },
    {
      "cell_type": "code",
      "source": [
        "#Now the uploaded file will be transformed into a Tabular dataset and store in a varible named 'training_dataset'\n",
        "training_dataset = Dataset.Tabular.from_delimited_files(path= [(datastore,('data/prepared.csv'))])"
      ],
      "outputs": [],
      "execution_count": 22,
      "metadata": {
        "gather": {
          "logged": 1612641450528
        }
      }
    },
    {
      "cell_type": "code",
      "source": [
        "#let's visualize the data:\n",
        "training_dataset.to_pandas_dataframe().head()"
      ],
      "outputs": [
        {
          "output_type": "execute_result",
          "execution_count": 23,
          "data": {
            "text/plain": "     pclass       age     sibsp  parch      fare    age_NA  fare_NA  sex_male  \\\n0  0.841916 -0.349075 -0.479087 -0.445 -0.490240 -0.501432 -0.02765  0.743497   \n1 -1.546098  0.891204 -0.479087 -0.445  1.956990 -0.501432 -0.02765 -1.344995   \n2  0.841916 -0.116523 -0.479087 -0.445 -0.493947  1.994288 -0.02765  0.743497   \n3  0.841916 -0.891698 -0.479087 -0.445 -0.493141 -0.501432 -0.02765 -1.344995   \n4 -0.352091 -0.039005  0.481288 -0.445 -0.237445 -0.501432 -0.02765  0.743497   \n\n   cabin_Missing  cabin_Rare  embarked_Q  embarked_Rare  embarked_S  title_Mr  \\\n0       0.539377   -0.425920   -0.322040      -0.039118    0.657394  0.852592   \n1      -1.853992    2.347858   -0.322040      -0.039118   -1.521159 -1.172894   \n2       0.539377   -0.425920    3.105202      -0.039118   -1.521159  0.852592   \n3       0.539377   -0.425920   -0.322040      -0.039118    0.657394 -1.172894   \n4       0.539377   -0.425920   -0.322040      -0.039118    0.657394  0.852592   \n\n   title_Mrs  title_Rare  survived  \n0   -0.42592   -0.274947         0  \n1   -0.42592   -0.274947         1  \n2   -0.42592   -0.274947         0  \n3   -0.42592   -0.274947         0  \n4   -0.42592   -0.274947         0  ",
            "text/html": "<div>\n<style scoped>\n    .dataframe tbody tr th:only-of-type {\n        vertical-align: middle;\n    }\n\n    .dataframe tbody tr th {\n        vertical-align: top;\n    }\n\n    .dataframe thead th {\n        text-align: right;\n    }\n</style>\n<table border=\"1\" class=\"dataframe\">\n  <thead>\n    <tr style=\"text-align: right;\">\n      <th></th>\n      <th>pclass</th>\n      <th>age</th>\n      <th>sibsp</th>\n      <th>parch</th>\n      <th>fare</th>\n      <th>age_NA</th>\n      <th>fare_NA</th>\n      <th>sex_male</th>\n      <th>cabin_Missing</th>\n      <th>cabin_Rare</th>\n      <th>embarked_Q</th>\n      <th>embarked_Rare</th>\n      <th>embarked_S</th>\n      <th>title_Mr</th>\n      <th>title_Mrs</th>\n      <th>title_Rare</th>\n      <th>survived</th>\n    </tr>\n  </thead>\n  <tbody>\n    <tr>\n      <th>0</th>\n      <td>0.841916</td>\n      <td>-0.349075</td>\n      <td>-0.479087</td>\n      <td>-0.445</td>\n      <td>-0.490240</td>\n      <td>-0.501432</td>\n      <td>-0.02765</td>\n      <td>0.743497</td>\n      <td>0.539377</td>\n      <td>-0.425920</td>\n      <td>-0.322040</td>\n      <td>-0.039118</td>\n      <td>0.657394</td>\n      <td>0.852592</td>\n      <td>-0.42592</td>\n      <td>-0.274947</td>\n      <td>0</td>\n    </tr>\n    <tr>\n      <th>1</th>\n      <td>-1.546098</td>\n      <td>0.891204</td>\n      <td>-0.479087</td>\n      <td>-0.445</td>\n      <td>1.956990</td>\n      <td>-0.501432</td>\n      <td>-0.02765</td>\n      <td>-1.344995</td>\n      <td>-1.853992</td>\n      <td>2.347858</td>\n      <td>-0.322040</td>\n      <td>-0.039118</td>\n      <td>-1.521159</td>\n      <td>-1.172894</td>\n      <td>-0.42592</td>\n      <td>-0.274947</td>\n      <td>1</td>\n    </tr>\n    <tr>\n      <th>2</th>\n      <td>0.841916</td>\n      <td>-0.116523</td>\n      <td>-0.479087</td>\n      <td>-0.445</td>\n      <td>-0.493947</td>\n      <td>1.994288</td>\n      <td>-0.02765</td>\n      <td>0.743497</td>\n      <td>0.539377</td>\n      <td>-0.425920</td>\n      <td>3.105202</td>\n      <td>-0.039118</td>\n      <td>-1.521159</td>\n      <td>0.852592</td>\n      <td>-0.42592</td>\n      <td>-0.274947</td>\n      <td>0</td>\n    </tr>\n    <tr>\n      <th>3</th>\n      <td>0.841916</td>\n      <td>-0.891698</td>\n      <td>-0.479087</td>\n      <td>-0.445</td>\n      <td>-0.493141</td>\n      <td>-0.501432</td>\n      <td>-0.02765</td>\n      <td>-1.344995</td>\n      <td>0.539377</td>\n      <td>-0.425920</td>\n      <td>-0.322040</td>\n      <td>-0.039118</td>\n      <td>0.657394</td>\n      <td>-1.172894</td>\n      <td>-0.42592</td>\n      <td>-0.274947</td>\n      <td>0</td>\n    </tr>\n    <tr>\n      <th>4</th>\n      <td>-0.352091</td>\n      <td>-0.039005</td>\n      <td>0.481288</td>\n      <td>-0.445</td>\n      <td>-0.237445</td>\n      <td>-0.501432</td>\n      <td>-0.02765</td>\n      <td>0.743497</td>\n      <td>0.539377</td>\n      <td>-0.425920</td>\n      <td>-0.322040</td>\n      <td>-0.039118</td>\n      <td>0.657394</td>\n      <td>0.852592</td>\n      <td>-0.42592</td>\n      <td>-0.274947</td>\n      <td>0</td>\n    </tr>\n  </tbody>\n</table>\n</div>"
          },
          "metadata": {}
        }
      ],
      "execution_count": 23,
      "metadata": {
        "gather": {
          "logged": 1612641454468
        }
      }
    },
    {
      "cell_type": "markdown",
      "source": [
        "## AutoML Configuration\n",
        "\n",
        "TODO: Explain why you chose the automl settings and cofiguration you used below."
      ],
      "metadata": {}
    },
    {
      "cell_type": "code",
      "source": [
        "#Create the automl settings which will be used as argurments in the automl config\n",
        "automl_settings = {\n",
        "    \"experiment_timeout_minutes\": 20,\n",
        "    \"max_concurrent_iterations\": 5,\n",
        "    \"primary_metric\" : 'accuracy'\n",
        "}\n",
        "\n",
        "#Create the automl_config\n",
        "automl_config = AutoMLConfig(compute_target=compute_target,\n",
        "                             task = \"classification\",\n",
        "                             training_data=training_dataset,\n",
        "                             label_column_name=\"survived\",   \n",
        "                             path = project_folder,\n",
        "                             enable_early_stopping= True,\n",
        "                             featurization= 'auto',\n",
        "                             debug_log = \"automl_errors.log\",\n",
        "                             **automl_settings\n",
        "                            )"
      ],
      "outputs": [],
      "execution_count": 24,
      "metadata": {
        "gather": {
          "logged": 1612641461639
        }
      }
    },
    {
      "cell_type": "code",
      "source": [
        "#New one\n",
        "#Original code\n",
        "# TODO: Submit your experiment\n",
        "#remote_run = experiment.submit(automl_config)\n",
        "automl_run = experiment.submit(automl_config,show_output=True)"
      ],
      "outputs": [
        {
          "output_type": "stream",
          "name": "stdout",
          "text": [
            "Running on remote.\n",
            "No run_configuration provided, running on auto-ml with default configuration\n",
            "Running on remote compute: auto-ml\n",
            "Parent Run ID: AutoML_504d70f0-c693-4ec3-bcf5-3860b75a3534\n",
            "\n",
            "Current status: FeaturesGeneration. Generating features for the dataset.\n",
            "Current status: ModelSelection. Beginning model selection.\n",
            "\n",
            "****************************************************************************************************\n",
            "DATA GUARDRAILS: \n",
            "\n",
            "TYPE:         Cross validation\n",
            "STATUS:       DONE\n",
            "DESCRIPTION:  Each iteration of the trained model was validated through cross-validation.\n",
            "              \n",
            "DETAILS:      \n",
            "+---------------------------------+\n",
            "|Number of folds                  |\n",
            "+=================================+\n",
            "|3                                |\n",
            "+---------------------------------+\n",
            "\n",
            "****************************************************************************************************\n",
            "\n",
            "TYPE:         Class balancing detection\n",
            "STATUS:       PASSED\n",
            "DESCRIPTION:  Your inputs were analyzed, and all classes are balanced in your training data.\n",
            "              Learn more about imbalanced data: https://aka.ms/AutomatedMLImbalancedData\n",
            "\n",
            "****************************************************************************************************\n",
            "\n",
            "TYPE:         Missing feature values imputation\n",
            "STATUS:       PASSED\n",
            "DESCRIPTION:  No feature missing values were detected in the training data.\n",
            "              Learn more about missing value imputation: https://aka.ms/AutomatedMLFeaturization\n",
            "\n",
            "****************************************************************************************************\n",
            "\n",
            "TYPE:         High cardinality feature detection\n",
            "STATUS:       PASSED\n",
            "DESCRIPTION:  Your inputs were analyzed, and no high cardinality features were detected.\n",
            "              Learn more about high cardinality feature handling: https://aka.ms/AutomatedMLFeaturization\n",
            "\n",
            "****************************************************************************************************\n",
            "\n",
            "****************************************************************************************************\n",
            "ITERATION: The iteration being evaluated.\n",
            "PIPELINE: A summary description of the pipeline being evaluated.\n",
            "DURATION: Time taken for the current iteration.\n",
            "METRIC: The result of computing score on the fitted pipeline.\n",
            "BEST: The best observed score thus far.\n",
            "****************************************************************************************************\n",
            "\n",
            " ITERATION   PIPELINE                                       DURATION      METRIC      BEST\n",
            "         1   MaxAbsScaler XGBoostClassifier                 0:00:48       0.8080    0.8080\n",
            "         0   MaxAbsScaler LightGBM                          0:00:57       0.7880    0.8080\n",
            "         2   MinMaxScaler RandomForest                      0:00:55       0.7985    0.8080\n",
            "         3   MinMaxScaler RandomForest                      0:00:52       0.7870    0.8080\n",
            "         4   MinMaxScaler RandomForest                      0:00:51       0.7918    0.8080\n",
            "         5   MinMaxScaler LightGBM                          0:00:56       0.8099    0.8099\n",
            "         6   SparseNormalizer XGBoostClassifier             0:00:48       0.7947    0.8099\n",
            "         9   SparseNormalizer XGBoostClassifier             0:00:52       0.7851    0.8099\n",
            "         7   MinMaxScaler SVM                               0:00:56       0.7985    0.8099\n",
            "         8   SparseNormalizer XGBoostClassifier             0:00:50       0.7861    0.8099\n",
            "        11   SparseNormalizer LightGBM                      0:00:50       0.8032    0.8099\n",
            "        13   StandardScalerWrapper RandomForest             0:00:46       0.7966    0.8099\n",
            "        10   SparseNormalizer XGBoostClassifier             0:01:01       0.7956    0.8099\n",
            "        12   MaxAbsScaler GradientBoosting                  0:00:53       0.7908    0.8099\n",
            "        14   MaxAbsScaler ExtremeRandomTrees                0:00:57       0.8013    0.8099\n",
            "        15   MaxAbsScaler LightGBM                          0:00:50       0.8071    0.8099\n",
            "        16   StandardScalerWrapper LightGBM                 0:00:46       0.8061    0.8099\n",
            "        17   SparseNormalizer XGBoostClassifier             0:00:48       0.8042    0.8099\n",
            "        18   StandardScalerWrapper LogisticRegression       0:00:56       0.7994    0.8099\n",
            "        19   SparseNormalizer XGBoostClassifier             0:00:47       0.7937    0.8099\n",
            "        21   MinMaxScaler LightGBM                          0:00:46       0.7899    0.8099\n",
            "        20   MinMaxScaler RandomForest                      0:00:59       0.7927    0.8099\n",
            "        22   MaxAbsScaler LightGBM                          0:00:48       0.7889    0.8099\n",
            "        23   MaxAbsScaler KNN                               0:00:55       0.7794    0.8099\n",
            "        24   StandardScalerWrapper ExtremeRandomTrees       0:01:01       0.7956    0.8099\n",
            "        25   StandardScalerWrapper LightGBM                 0:00:49       0.6180    0.8099\n",
            "        26   MinMaxScaler LightGBM                          0:00:50       0.7784    0.8099\n",
            "        27   MaxAbsScaler LightGBM                          0:00:49       0.7861    0.8099\n",
            "        28   StandardScalerWrapper LightGBM                 0:01:22       0.7870    0.8099\n",
            "        29   SparseNormalizer LightGBM                      0:00:47       0.7918    0.8099\n",
            "        30   SparseNormalizer LightGBM                      0:00:46       0.6180    0.8099\n",
            "        31   RobustScaler LightGBM                          0:00:52       0.8023    0.8099\n",
            "        32   SparseNormalizer XGBoostClassifier             0:00:46       0.8042    0.8099\n",
            "        33   SparseNormalizer XGBoostClassifier             0:00:54       0.7966    0.8099\n",
            "        34   MinMaxScaler RandomForest                      0:00:51       0.7947    0.8099\n",
            "        35   SparseNormalizer LightGBM                      0:00:43       0.8032    0.8099\n",
            "        36   StandardScalerWrapper ExtremeRandomTrees       0:00:29       0.7498    0.8099\n",
            "        37   MaxAbsScaler RandomForest                      0:00:27       0.7689    0.8099\n",
            "        38    VotingEnsemble                                0:01:16       0.8195    0.8195\n",
            "        39    StackEnsemble                                 0:01:20       0.8109    0.8195\n"
          ]
        }
      ],
      "execution_count": 25,
      "metadata": {
        "gather": {
          "logged": 1612642410558
        },
        "jupyter": {
          "outputs_hidden": false,
          "source_hidden": false
        },
        "nteract": {
          "transient": {
            "deleting": false
          }
        }
      }
    },
    {
      "cell_type": "code",
      "source": [
        "#Additional Run Details\r\n",
        "from azureml.widgets import RunDetails\r\n",
        "\r\n",
        "RunDetails(automl_run).show()"
      ],
      "outputs": [
        {
          "output_type": "display_data",
          "data": {
            "text/plain": "_AutoMLWidget(widget_settings={'childWidgetDisplay': 'popup', 'send_telemetry': False, 'log_level': 'INFO', 's…",
            "application/vnd.jupyter.widget-view+json": {
              "version_major": 2,
              "version_minor": 0,
              "model_id": "5cdb7bba72c3416aa61900f926c2943d"
            }
          },
          "metadata": {}
        },
        {
          "output_type": "display_data",
          "data": {
            "application/aml.mini.widget.v1": "{\"status\": \"Completed\", \"workbench_run_details_uri\": \"https://ml.azure.com/experiments/automl-experiment-1/runs/AutoML_504d70f0-c693-4ec3-bcf5-3860b75a3534?wsid=/subscriptions/6971f5ac-8af1-446e-8034-05acea24681f/resourcegroups/aml-quickstarts-137654/workspaces/quick-starts-ws-137654\", \"run_id\": \"AutoML_504d70f0-c693-4ec3-bcf5-3860b75a3534\", \"run_properties\": {\"run_id\": \"AutoML_504d70f0-c693-4ec3-bcf5-3860b75a3534\", \"created_utc\": \"2021-02-06T19:57:49.747941Z\", \"properties\": {\"num_iterations\": \"1000\", \"training_type\": \"TrainFull\", \"acquisition_function\": \"EI\", \"primary_metric\": \"accuracy\", \"train_split\": \"0\", \"acquisition_parameter\": \"0\", \"num_cross_validation\": null, \"target\": \"auto-ml\", \"AMLSettingsJsonString\": \"{\\\"path\\\":null,\\\"name\\\":\\\"automl-experiment-1\\\",\\\"subscription_id\\\":\\\"6971f5ac-8af1-446e-8034-05acea24681f\\\",\\\"resource_group\\\":\\\"aml-quickstarts-137654\\\",\\\"workspace_name\\\":\\\"quick-starts-ws-137654\\\",\\\"region\\\":\\\"southcentralus\\\",\\\"compute_target\\\":\\\"auto-ml\\\",\\\"spark_service\\\":null,\\\"azure_service\\\":\\\"remote\\\",\\\"many_models\\\":false,\\\"pipeline_fetch_max_batch_size\\\":1,\\\"iterations\\\":1000,\\\"primary_metric\\\":\\\"accuracy\\\",\\\"task_type\\\":\\\"classification\\\",\\\"data_script\\\":null,\\\"validation_size\\\":0.0,\\\"n_cross_validations\\\":null,\\\"y_min\\\":null,\\\"y_max\\\":null,\\\"num_classes\\\":null,\\\"featurization\\\":\\\"auto\\\",\\\"_ignore_package_version_incompatibilities\\\":false,\\\"is_timeseries\\\":false,\\\"max_cores_per_iteration\\\":1,\\\"max_concurrent_iterations\\\":5,\\\"iteration_timeout_minutes\\\":null,\\\"mem_in_mb\\\":null,\\\"enforce_time_on_windows\\\":false,\\\"experiment_timeout_minutes\\\":20,\\\"experiment_exit_score\\\":null,\\\"whitelist_models\\\":null,\\\"blacklist_algos\\\":[\\\"TensorFlowLinearClassifier\\\",\\\"TensorFlowDNN\\\"],\\\"supported_models\\\":[\\\"ExtremeRandomTrees\\\",\\\"MultinomialNaiveBayes\\\",\\\"LinearSVM\\\",\\\"BernoulliNaiveBayes\\\",\\\"XGBoostClassifier\\\",\\\"LogisticRegression\\\",\\\"TensorFlowLinearClassifier\\\",\\\"SVM\\\",\\\"TensorFlowDNN\\\",\\\"SGD\\\",\\\"LightGBM\\\",\\\"GradientBoosting\\\",\\\"RandomForest\\\",\\\"KNN\\\",\\\"DecisionTree\\\",\\\"AveragedPerceptronClassifier\\\"],\\\"auto_blacklist\\\":true,\\\"blacklist_samples_reached\\\":false,\\\"exclude_nan_labels\\\":true,\\\"verbosity\\\":20,\\\"_debug_log\\\":\\\"azureml_automl.log\\\",\\\"show_warnings\\\":false,\\\"model_explainability\\\":true,\\\"service_url\\\":null,\\\"sdk_url\\\":null,\\\"sdk_packages\\\":null,\\\"enable_onnx_compatible_models\\\":false,\\\"enable_split_onnx_featurizer_estimator_models\\\":false,\\\"vm_type\\\":\\\"STANDARD_DS12_V2\\\",\\\"telemetry_verbosity\\\":20,\\\"send_telemetry\\\":true,\\\"enable_dnn\\\":false,\\\"scenario\\\":\\\"SDK-1.13.0\\\",\\\"environment_label\\\":null,\\\"force_text_dnn\\\":false,\\\"enable_feature_sweeping\\\":true,\\\"enable_early_stopping\\\":true,\\\"early_stopping_n_iters\\\":10,\\\"metrics\\\":null,\\\"enable_ensembling\\\":true,\\\"enable_stack_ensembling\\\":true,\\\"ensemble_iterations\\\":15,\\\"enable_tf\\\":false,\\\"enable_subsampling\\\":null,\\\"subsample_seed\\\":null,\\\"enable_nimbusml\\\":false,\\\"enable_streaming\\\":false,\\\"force_streaming\\\":false,\\\"track_child_runs\\\":true,\\\"allowed_private_models\\\":[],\\\"label_column_name\\\":\\\"survived\\\",\\\"weight_column_name\\\":null,\\\"cv_split_column_names\\\":null,\\\"enable_local_managed\\\":false,\\\"_local_managed_run_id\\\":null,\\\"cost_mode\\\":1,\\\"lag_length\\\":0,\\\"metric_operation\\\":\\\"maximize\\\",\\\"preprocess\\\":true}\", \"DataPrepJsonString\": \"{\\\\\\\"training_data\\\\\\\": \\\\\\\"{\\\\\\\\\\\\\\\"blocks\\\\\\\\\\\\\\\": [{\\\\\\\\\\\\\\\"id\\\\\\\\\\\\\\\": \\\\\\\\\\\\\\\"7084149b-79a9-4ae1-ae0f-3df044048763\\\\\\\\\\\\\\\", \\\\\\\\\\\\\\\"type\\\\\\\\\\\\\\\": \\\\\\\\\\\\\\\"Microsoft.DPrep.GetDatastoreFilesBlock\\\\\\\\\\\\\\\", \\\\\\\\\\\\\\\"arguments\\\\\\\\\\\\\\\": {\\\\\\\\\\\\\\\"datastores\\\\\\\\\\\\\\\": [{\\\\\\\\\\\\\\\"datastoreName\\\\\\\\\\\\\\\": \\\\\\\\\\\\\\\"workspaceblobstore\\\\\\\\\\\\\\\", \\\\\\\\\\\\\\\"path\\\\\\\\\\\\\\\": \\\\\\\\\\\\\\\"data/prepared.csv\\\\\\\\\\\\\\\", \\\\\\\\\\\\\\\"resourceGroup\\\\\\\\\\\\\\\": \\\\\\\\\\\\\\\"aml-quickstarts-137654\\\\\\\\\\\\\\\", \\\\\\\\\\\\\\\"subscription\\\\\\\\\\\\\\\": \\\\\\\\\\\\\\\"6971f5ac-8af1-446e-8034-05acea24681f\\\\\\\\\\\\\\\", \\\\\\\\\\\\\\\"workspaceName\\\\\\\\\\\\\\\": \\\\\\\\\\\\\\\"quick-starts-ws-137654\\\\\\\\\\\\\\\"}]}, \\\\\\\\\\\\\\\"localData\\\\\\\\\\\\\\\": {}, \\\\\\\\\\\\\\\"isEnabled\\\\\\\\\\\\\\\": true, \\\\\\\\\\\\\\\"name\\\\\\\\\\\\\\\": null, \\\\\\\\\\\\\\\"annotation\\\\\\\\\\\\\\\": null}, {\\\\\\\\\\\\\\\"id\\\\\\\\\\\\\\\": \\\\\\\\\\\\\\\"3ca9e6c0-f633-479e-9b62-3a1d61b08506\\\\\\\\\\\\\\\", \\\\\\\\\\\\\\\"type\\\\\\\\\\\\\\\": \\\\\\\\\\\\\\\"Microsoft.DPrep.ParseDelimitedBlock\\\\\\\\\\\\\\\", \\\\\\\\\\\\\\\"arguments\\\\\\\\\\\\\\\": {\\\\\\\\\\\\\\\"columnHeadersMode\\\\\\\\\\\\\\\": 3, \\\\\\\\\\\\\\\"fileEncoding\\\\\\\\\\\\\\\": 0, \\\\\\\\\\\\\\\"handleQuotedLineBreaks\\\\\\\\\\\\\\\": false, \\\\\\\\\\\\\\\"preview\\\\\\\\\\\\\\\": false, \\\\\\\\\\\\\\\"separator\\\\\\\\\\\\\\\": \\\\\\\\\\\\\\\",\\\\\\\\\\\\\\\", \\\\\\\\\\\\\\\"skipRows\\\\\\\\\\\\\\\": 0, \\\\\\\\\\\\\\\"skipRowsMode\\\\\\\\\\\\\\\": 0}, \\\\\\\\\\\\\\\"localData\\\\\\\\\\\\\\\": {}, \\\\\\\\\\\\\\\"isEnabled\\\\\\\\\\\\\\\": true, \\\\\\\\\\\\\\\"name\\\\\\\\\\\\\\\": null, \\\\\\\\\\\\\\\"annotation\\\\\\\\\\\\\\\": null}, {\\\\\\\\\\\\\\\"id\\\\\\\\\\\\\\\": \\\\\\\\\\\\\\\"31ddce9e-0d03-4e08-9bd9-8d08d4626096\\\\\\\\\\\\\\\", \\\\\\\\\\\\\\\"type\\\\\\\\\\\\\\\": \\\\\\\\\\\\\\\"Microsoft.DPrep.DropColumnsBlock\\\\\\\\\\\\\\\", \\\\\\\\\\\\\\\"arguments\\\\\\\\\\\\\\\": {\\\\\\\\\\\\\\\"columns\\\\\\\\\\\\\\\": {\\\\\\\\\\\\\\\"type\\\\\\\\\\\\\\\": 0, \\\\\\\\\\\\\\\"details\\\\\\\\\\\\\\\": {\\\\\\\\\\\\\\\"selectedColumns\\\\\\\\\\\\\\\": [\\\\\\\\\\\\\\\"Path\\\\\\\\\\\\\\\"]}}}, \\\\\\\\\\\\\\\"localData\\\\\\\\\\\\\\\": {}, \\\\\\\\\\\\\\\"isEnabled\\\\\\\\\\\\\\\": true, \\\\\\\\\\\\\\\"name\\\\\\\\\\\\\\\": null, \\\\\\\\\\\\\\\"annotation\\\\\\\\\\\\\\\": null}, {\\\\\\\\\\\\\\\"id\\\\\\\\\\\\\\\": \\\\\\\\\\\\\\\"3f285890-11bc-4ae7-a85a-24dbb535f294\\\\\\\\\\\\\\\", \\\\\\\\\\\\\\\"type\\\\\\\\\\\\\\\": \\\\\\\\\\\\\\\"Microsoft.DPrep.SetColumnTypesBlock\\\\\\\\\\\\\\\", \\\\\\\\\\\\\\\"arguments\\\\\\\\\\\\\\\": {\\\\\\\\\\\\\\\"columnConversion\\\\\\\\\\\\\\\": [{\\\\\\\\\\\\\\\"column\\\\\\\\\\\\\\\": {\\\\\\\\\\\\\\\"type\\\\\\\\\\\\\\\": 2, \\\\\\\\\\\\\\\"details\\\\\\\\\\\\\\\": {\\\\\\\\\\\\\\\"selectedColumn\\\\\\\\\\\\\\\": \\\\\\\\\\\\\\\"pclass\\\\\\\\\\\\\\\"}}, \\\\\\\\\\\\\\\"typeProperty\\\\\\\\\\\\\\\": 3}, {\\\\\\\\\\\\\\\"column\\\\\\\\\\\\\\\": {\\\\\\\\\\\\\\\"type\\\\\\\\\\\\\\\": 2, \\\\\\\\\\\\\\\"details\\\\\\\\\\\\\\\": {\\\\\\\\\\\\\\\"selectedColumn\\\\\\\\\\\\\\\": \\\\\\\\\\\\\\\"age\\\\\\\\\\\\\\\"}}, \\\\\\\\\\\\\\\"typeProperty\\\\\\\\\\\\\\\": 3}, {\\\\\\\\\\\\\\\"column\\\\\\\\\\\\\\\": {\\\\\\\\\\\\\\\"type\\\\\\\\\\\\\\\": 2, \\\\\\\\\\\\\\\"details\\\\\\\\\\\\\\\": {\\\\\\\\\\\\\\\"selectedColumn\\\\\\\\\\\\\\\": \\\\\\\\\\\\\\\"sibsp\\\\\\\\\\\\\\\"}}, \\\\\\\\\\\\\\\"typeProperty\\\\\\\\\\\\\\\": 3}, {\\\\\\\\\\\\\\\"column\\\\\\\\\\\\\\\": {\\\\\\\\\\\\\\\"type\\\\\\\\\\\\\\\": 2, \\\\\\\\\\\\\\\"details\\\\\\\\\\\\\\\": {\\\\\\\\\\\\\\\"selectedColumn\\\\\\\\\\\\\\\": \\\\\\\\\\\\\\\"parch\\\\\\\\\\\\\\\"}}, \\\\\\\\\\\\\\\"typeProperty\\\\\\\\\\\\\\\": 3}, {\\\\\\\\\\\\\\\"column\\\\\\\\\\\\\\\": {\\\\\\\\\\\\\\\"type\\\\\\\\\\\\\\\": 2, \\\\\\\\\\\\\\\"details\\\\\\\\\\\\\\\": {\\\\\\\\\\\\\\\"selectedColumn\\\\\\\\\\\\\\\": \\\\\\\\\\\\\\\"fare\\\\\\\\\\\\\\\"}}, \\\\\\\\\\\\\\\"typeProperty\\\\\\\\\\\\\\\": 3}, {\\\\\\\\\\\\\\\"column\\\\\\\\\\\\\\\": {\\\\\\\\\\\\\\\"type\\\\\\\\\\\\\\\": 2, \\\\\\\\\\\\\\\"details\\\\\\\\\\\\\\\": {\\\\\\\\\\\\\\\"selectedColumn\\\\\\\\\\\\\\\": \\\\\\\\\\\\\\\"age_NA\\\\\\\\\\\\\\\"}}, \\\\\\\\\\\\\\\"typeProperty\\\\\\\\\\\\\\\": 3}, {\\\\\\\\\\\\\\\"column\\\\\\\\\\\\\\\": {\\\\\\\\\\\\\\\"type\\\\\\\\\\\\\\\": 2, \\\\\\\\\\\\\\\"details\\\\\\\\\\\\\\\": {\\\\\\\\\\\\\\\"selectedColumn\\\\\\\\\\\\\\\": \\\\\\\\\\\\\\\"fare_NA\\\\\\\\\\\\\\\"}}, \\\\\\\\\\\\\\\"typeProperty\\\\\\\\\\\\\\\": 3}, {\\\\\\\\\\\\\\\"column\\\\\\\\\\\\\\\": {\\\\\\\\\\\\\\\"type\\\\\\\\\\\\\\\": 2, \\\\\\\\\\\\\\\"details\\\\\\\\\\\\\\\": {\\\\\\\\\\\\\\\"selectedColumn\\\\\\\\\\\\\\\": \\\\\\\\\\\\\\\"sex_male\\\\\\\\\\\\\\\"}}, \\\\\\\\\\\\\\\"typeProperty\\\\\\\\\\\\\\\": 3}, {\\\\\\\\\\\\\\\"column\\\\\\\\\\\\\\\": {\\\\\\\\\\\\\\\"type\\\\\\\\\\\\\\\": 2, \\\\\\\\\\\\\\\"details\\\\\\\\\\\\\\\": {\\\\\\\\\\\\\\\"selectedColumn\\\\\\\\\\\\\\\": \\\\\\\\\\\\\\\"cabin_Missing\\\\\\\\\\\\\\\"}}, \\\\\\\\\\\\\\\"typeProperty\\\\\\\\\\\\\\\": 3}, {\\\\\\\\\\\\\\\"column\\\\\\\\\\\\\\\": {\\\\\\\\\\\\\\\"type\\\\\\\\\\\\\\\": 2, \\\\\\\\\\\\\\\"details\\\\\\\\\\\\\\\": {\\\\\\\\\\\\\\\"selectedColumn\\\\\\\\\\\\\\\": \\\\\\\\\\\\\\\"cabin_Rare\\\\\\\\\\\\\\\"}}, \\\\\\\\\\\\\\\"typeProperty\\\\\\\\\\\\\\\": 3}, {\\\\\\\\\\\\\\\"column\\\\\\\\\\\\\\\": {\\\\\\\\\\\\\\\"type\\\\\\\\\\\\\\\": 2, \\\\\\\\\\\\\\\"details\\\\\\\\\\\\\\\": {\\\\\\\\\\\\\\\"selectedColumn\\\\\\\\\\\\\\\": \\\\\\\\\\\\\\\"embarked_Q\\\\\\\\\\\\\\\"}}, \\\\\\\\\\\\\\\"typeProperty\\\\\\\\\\\\\\\": 3}, {\\\\\\\\\\\\\\\"column\\\\\\\\\\\\\\\": {\\\\\\\\\\\\\\\"type\\\\\\\\\\\\\\\": 2, \\\\\\\\\\\\\\\"details\\\\\\\\\\\\\\\": {\\\\\\\\\\\\\\\"selectedColumn\\\\\\\\\\\\\\\": \\\\\\\\\\\\\\\"embarked_Rare\\\\\\\\\\\\\\\"}}, \\\\\\\\\\\\\\\"typeProperty\\\\\\\\\\\\\\\": 3}, {\\\\\\\\\\\\\\\"column\\\\\\\\\\\\\\\": {\\\\\\\\\\\\\\\"type\\\\\\\\\\\\\\\": 2, \\\\\\\\\\\\\\\"details\\\\\\\\\\\\\\\": {\\\\\\\\\\\\\\\"selectedColumn\\\\\\\\\\\\\\\": \\\\\\\\\\\\\\\"embarked_S\\\\\\\\\\\\\\\"}}, \\\\\\\\\\\\\\\"typeProperty\\\\\\\\\\\\\\\": 3}, {\\\\\\\\\\\\\\\"column\\\\\\\\\\\\\\\": {\\\\\\\\\\\\\\\"type\\\\\\\\\\\\\\\": 2, \\\\\\\\\\\\\\\"details\\\\\\\\\\\\\\\": {\\\\\\\\\\\\\\\"selectedColumn\\\\\\\\\\\\\\\": \\\\\\\\\\\\\\\"title_Mr\\\\\\\\\\\\\\\"}}, \\\\\\\\\\\\\\\"typeProperty\\\\\\\\\\\\\\\": 3}, {\\\\\\\\\\\\\\\"column\\\\\\\\\\\\\\\": {\\\\\\\\\\\\\\\"type\\\\\\\\\\\\\\\": 2, \\\\\\\\\\\\\\\"details\\\\\\\\\\\\\\\": {\\\\\\\\\\\\\\\"selectedColumn\\\\\\\\\\\\\\\": \\\\\\\\\\\\\\\"title_Mrs\\\\\\\\\\\\\\\"}}, \\\\\\\\\\\\\\\"typeProperty\\\\\\\\\\\\\\\": 3}, {\\\\\\\\\\\\\\\"column\\\\\\\\\\\\\\\": {\\\\\\\\\\\\\\\"type\\\\\\\\\\\\\\\": 2, \\\\\\\\\\\\\\\"details\\\\\\\\\\\\\\\": {\\\\\\\\\\\\\\\"selectedColumn\\\\\\\\\\\\\\\": \\\\\\\\\\\\\\\"title_Rare\\\\\\\\\\\\\\\"}}, \\\\\\\\\\\\\\\"typeProperty\\\\\\\\\\\\\\\": 3}, {\\\\\\\\\\\\\\\"column\\\\\\\\\\\\\\\": {\\\\\\\\\\\\\\\"type\\\\\\\\\\\\\\\": 2, \\\\\\\\\\\\\\\"details\\\\\\\\\\\\\\\": {\\\\\\\\\\\\\\\"selectedColumn\\\\\\\\\\\\\\\": \\\\\\\\\\\\\\\"survived\\\\\\\\\\\\\\\"}}, \\\\\\\\\\\\\\\"typeProperty\\\\\\\\\\\\\\\": 2}]}, \\\\\\\\\\\\\\\"localData\\\\\\\\\\\\\\\": {}, \\\\\\\\\\\\\\\"isEnabled\\\\\\\\\\\\\\\": true, \\\\\\\\\\\\\\\"name\\\\\\\\\\\\\\\": null, \\\\\\\\\\\\\\\"annotation\\\\\\\\\\\\\\\": null}], \\\\\\\\\\\\\\\"inspectors\\\\\\\\\\\\\\\": [], \\\\\\\\\\\\\\\"meta\\\\\\\\\\\\\\\": {\\\\\\\\\\\\\\\"savedDatasetId\\\\\\\\\\\\\\\": \\\\\\\\\\\\\\\"591b8132-0ff9-47e3-9e2b-d28a3ad2e61f\\\\\\\\\\\\\\\", \\\\\\\\\\\\\\\"datasetType\\\\\\\\\\\\\\\": \\\\\\\\\\\\\\\"tabular\\\\\\\\\\\\\\\", \\\\\\\\\\\\\\\"subscriptionId\\\\\\\\\\\\\\\": \\\\\\\\\\\\\\\"6971f5ac-8af1-446e-8034-05acea24681f\\\\\\\\\\\\\\\", \\\\\\\\\\\\\\\"workspaceId\\\\\\\\\\\\\\\": \\\\\\\\\\\\\\\"0fe44c98-00be-4014-b68c-0c44c92a62ca\\\\\\\\\\\\\\\", \\\\\\\\\\\\\\\"workspaceLocation\\\\\\\\\\\\\\\": \\\\\\\\\\\\\\\"southcentralus\\\\\\\\\\\\\\\"}}\\\\\\\", \\\\\\\"activities\\\\\\\": 0}\", \"EnableSubsampling\": null, \"runTemplate\": \"AutoML\", \"azureml.runsource\": \"automl\", \"display_task_type\": \"classification\", \"dependencies_versions\": \"{\\\"azureml-widgets\\\": \\\"1.21.0\\\", \\\"azureml-train\\\": \\\"1.21.0\\\", \\\"azureml-train-restclients-hyperdrive\\\": \\\"1.21.0\\\", \\\"azureml-train-core\\\": \\\"1.21.0\\\", \\\"azureml-train-automl\\\": \\\"1.21.0\\\", \\\"azureml-train-automl-runtime\\\": \\\"1.21.0.post1\\\", \\\"azureml-train-automl-client\\\": \\\"1.21.0\\\", \\\"azureml-tensorboard\\\": \\\"1.20.0\\\", \\\"azureml-telemetry\\\": \\\"1.21.0\\\", \\\"azureml-sdk\\\": \\\"1.21.0\\\", \\\"azureml-samples\\\": \\\"0+unknown\\\", \\\"azureml-pipeline\\\": \\\"1.21.0\\\", \\\"azureml-pipeline-steps\\\": \\\"1.21.0\\\", \\\"azureml-pipeline-core\\\": \\\"1.21.0\\\", \\\"azureml-opendatasets\\\": \\\"1.20.0\\\", \\\"azureml-model-management-sdk\\\": \\\"1.0.1b6.post1\\\", \\\"azureml-mlflow\\\": \\\"1.20.0.post1\\\", \\\"azureml-interpret\\\": \\\"1.21.0\\\", \\\"azureml-explain-model\\\": \\\"1.20.0\\\", \\\"azureml-defaults\\\": \\\"1.21.0\\\", \\\"azureml-dataset-runtime\\\": \\\"1.21.0\\\", \\\"azureml-dataprep\\\": \\\"2.8.3\\\", \\\"azureml-dataprep-rslex\\\": \\\"1.6.0\\\", \\\"azureml-dataprep-native\\\": \\\"28.0.0\\\", \\\"azureml-datadrift\\\": \\\"1.20.0\\\", \\\"azureml-core\\\": \\\"1.21.0.post2\\\", \\\"azureml-contrib-services\\\": \\\"1.20.0\\\", \\\"azureml-contrib-server\\\": \\\"1.20.0\\\", \\\"azureml-contrib-reinforcementlearning\\\": \\\"1.20.0\\\", \\\"azureml-contrib-pipeline-steps\\\": \\\"1.20.0\\\", \\\"azureml-contrib-notebook\\\": \\\"1.21.0\\\", \\\"azureml-contrib-interpret\\\": \\\"1.20.0\\\", \\\"azureml-contrib-gbdt\\\": \\\"1.20.0\\\", \\\"azureml-contrib-fairness\\\": \\\"1.20.0\\\", \\\"azureml-contrib-dataset\\\": \\\"1.20.0\\\", \\\"azureml-cli-common\\\": \\\"1.20.0\\\", \\\"azureml-automl-runtime\\\": \\\"1.21.0\\\", \\\"azureml-automl-core\\\": \\\"1.21.0\\\", \\\"azureml-accel-models\\\": \\\"1.20.0\\\"}\", \"_aml_system_scenario_identification\": \"Remote.Parent\", \"ClientType\": \"SDK\", \"environment_cpu_name\": \"AzureML-AutoML\", \"environment_cpu_label\": \"prod\", \"environment_gpu_name\": \"AzureML-AutoML-GPU\", \"environment_gpu_label\": \"prod\", \"root_attribution\": \"automl\", \"attribution\": \"AutoML\", \"Orchestrator\": \"AutoML\", \"CancelUri\": \"https://southcentralus.experiments.azureml.net/jasmine/v1.0/subscriptions/6971f5ac-8af1-446e-8034-05acea24681f/resourceGroups/aml-quickstarts-137654/providers/Microsoft.MachineLearningServices/workspaces/quick-starts-ws-137654/experimentids/8b91d184-cd85-4411-8e42-4013d7896f79/cancel/AutoML_504d70f0-c693-4ec3-bcf5-3860b75a3534\", \"ClientSdkVersion\": \"1.21.0\", \"snapshotId\": \"00000000-0000-0000-0000-000000000000\", \"SetupRunId\": \"AutoML_504d70f0-c693-4ec3-bcf5-3860b75a3534_setup\", \"SetupRunContainerId\": \"dcid.AutoML_504d70f0-c693-4ec3-bcf5-3860b75a3534_setup\", \"FeaturizationRunJsonPath\": \"featurizer_container.json\", \"FeaturizationRunId\": \"AutoML_504d70f0-c693-4ec3-bcf5-3860b75a3534_featurize\", \"ProblemInfoJsonString\": \"{\\\"dataset_num_categorical\\\": 0, \\\"is_sparse\\\": false, \\\"subsampling\\\": false, \\\"dataset_classes\\\": 2, \\\"dataset_features\\\": 16, \\\"dataset_samples\\\": 1047, \\\"single_frequency_class_detected\\\": false}\", \"ModelExplainRunId\": \"AutoML_504d70f0-c693-4ec3-bcf5-3860b75a3534_ModelExplain\"}, \"tags\": {\"model_explain_run\": \"best_run\", \"_aml_system_azureml.automlComponent\": \"AutoML\", \"pipeline_id\": \"\", \"score\": \"\", \"predicted_cost\": \"\", \"fit_time\": \"\", \"training_percent\": \"\", \"iteration\": \"\", \"run_preprocessor\": \"\", \"run_algorithm\": \"\", \"dynamic_whitelisting_iterations\": \"<25>;<30>;<35>;\", \"automl_best_child_run_id\": \"AutoML_504d70f0-c693-4ec3-bcf5-3860b75a3534_38\", \"model_explain_best_run_child_id\": \"AutoML_504d70f0-c693-4ec3-bcf5-3860b75a3534_38\"}, \"end_time_utc\": \"2021-02-06T20:12:54.437552Z\", \"status\": \"Completed\", \"log_files\": {}, \"log_groups\": [], \"run_duration\": \"0:15:04\", \"run_number\": \"49\", \"run_queued_details\": {\"status\": \"Completed\", \"details\": null}}, \"child_runs\": [{\"run_id\": \"AutoML_504d70f0-c693-4ec3-bcf5-3860b75a3534_0\", \"run_number\": 53, \"metric\": null, \"status\": \"Completed\", \"run_type\": \"azureml.scriptrun\", \"training_percent\": \"100\", \"start_time\": \"2021-02-06T20:02:34.918289Z\", \"end_time\": \"2021-02-06T20:03:31.67138Z\", \"created_time\": \"2021-02-06T20:02:22.932632Z\", \"created_time_dt\": \"2021-02-06T20:02:22.932632Z\", \"duration\": \"0:01:08\", \"iteration\": \"0\", \"goal\": \"accuracy_max\", \"run_name\": \"MaxAbsScaler, LightGBM\", \"run_properties\": \"copy=True\", \"primary_metric\": 0.78796562, \"best_metric\": 0.78796562}, {\"run_id\": \"AutoML_504d70f0-c693-4ec3-bcf5-3860b75a3534_1\", \"run_number\": 54, \"metric\": null, \"status\": \"Completed\", \"run_type\": \"azureml.scriptrun\", \"training_percent\": \"100\", \"start_time\": \"2021-02-06T20:02:35.641287Z\", \"end_time\": \"2021-02-06T20:03:23.279206Z\", \"created_time\": \"2021-02-06T20:02:23.006878Z\", \"created_time_dt\": \"2021-02-06T20:02:23.006878Z\", \"duration\": \"0:01:00\", \"iteration\": \"1\", \"goal\": \"accuracy_max\", \"run_name\": \"MaxAbsScaler, XGBoostClassifier\", \"run_properties\": \"copy=True\", \"primary_metric\": 0.80802292, \"best_metric\": 0.80802292}, {\"run_id\": \"AutoML_504d70f0-c693-4ec3-bcf5-3860b75a3534_3\", \"run_number\": 55, \"metric\": null, \"status\": \"Completed\", \"run_type\": \"azureml.scriptrun\", \"training_percent\": \"100\", \"start_time\": \"2021-02-06T20:02:36.945254Z\", \"end_time\": \"2021-02-06T20:03:29.042664Z\", \"created_time\": \"2021-02-06T20:02:23.025972Z\", \"created_time_dt\": \"2021-02-06T20:02:23.025972Z\", \"duration\": \"0:01:06\", \"iteration\": \"3\", \"goal\": \"accuracy_max\", \"run_name\": \"MinMaxScaler, RandomForest\", \"run_properties\": \"copy=True, feature_range=(0, 1\", \"primary_metric\": 0.78701051, \"best_metric\": 0.80802292}, {\"run_id\": \"AutoML_504d70f0-c693-4ec3-bcf5-3860b75a3534_4\", \"run_number\": 56, \"metric\": null, \"status\": \"Completed\", \"run_type\": \"azureml.scriptrun\", \"training_percent\": \"100\", \"start_time\": \"2021-02-06T20:02:35.853895Z\", \"end_time\": \"2021-02-06T20:03:26.870163Z\", \"created_time\": \"2021-02-06T20:02:23.027602Z\", \"created_time_dt\": \"2021-02-06T20:02:23.027602Z\", \"duration\": \"0:01:03\", \"iteration\": \"4\", \"goal\": \"accuracy_max\", \"run_name\": \"MinMaxScaler, RandomForest\", \"run_properties\": \"copy=True, feature_range=(0, 1\", \"primary_metric\": 0.79178606, \"best_metric\": 0.80802292}, {\"run_id\": \"AutoML_504d70f0-c693-4ec3-bcf5-3860b75a3534_2\", \"run_number\": 57, \"metric\": null, \"status\": \"Completed\", \"run_type\": \"azureml.scriptrun\", \"training_percent\": \"100\", \"start_time\": \"2021-02-06T20:02:34.972236Z\", \"end_time\": \"2021-02-06T20:03:29.508504Z\", \"created_time\": \"2021-02-06T20:02:23.1501Z\", \"created_time_dt\": \"2021-02-06T20:02:23.1501Z\", \"duration\": \"0:01:06\", \"iteration\": \"2\", \"goal\": \"accuracy_max\", \"run_name\": \"MinMaxScaler, RandomForest\", \"run_properties\": \"copy=True, feature_range=(0, 1\", \"primary_metric\": 0.79847182, \"best_metric\": 0.80802292}, {\"run_id\": \"AutoML_504d70f0-c693-4ec3-bcf5-3860b75a3534_5\", \"run_number\": 58, \"metric\": null, \"status\": \"Completed\", \"run_type\": \"azureml.scriptrun\", \"training_percent\": \"100\", \"start_time\": \"2021-02-06T20:03:41.727915Z\", \"end_time\": \"2021-02-06T20:04:37.693747Z\", \"created_time\": \"2021-02-06T20:03:25.364247Z\", \"created_time_dt\": \"2021-02-06T20:03:25.364247Z\", \"duration\": \"0:01:12\", \"iteration\": \"5\", \"goal\": \"accuracy_max\", \"run_name\": \"MinMaxScaler, LightGBM\", \"run_properties\": \"copy=True, feature_range=(0, 1\", \"primary_metric\": 0.80993314, \"best_metric\": 0.80993314}, {\"run_id\": \"AutoML_504d70f0-c693-4ec3-bcf5-3860b75a3534_6\", \"run_number\": 59, \"metric\": null, \"status\": \"Completed\", \"run_type\": \"azureml.scriptrun\", \"training_percent\": \"100\", \"start_time\": \"2021-02-06T20:03:42.743795Z\", \"end_time\": \"2021-02-06T20:04:30.917635Z\", \"created_time\": \"2021-02-06T20:03:31.243375Z\", \"created_time_dt\": \"2021-02-06T20:03:31.243375Z\", \"duration\": \"0:00:59\", \"iteration\": \"6\", \"goal\": \"accuracy_max\", \"run_name\": \"SparseNormalizer, XGBoostClassifier\", \"run_properties\": \"<azureml.automl.runtime.shared.model_wrappers.SparseNormalizer object at 0x7f3c6df835f8\", \"primary_metric\": 0.79465138, \"best_metric\": 0.80993314}, {\"run_id\": \"AutoML_504d70f0-c693-4ec3-bcf5-3860b75a3534_7\", \"run_number\": 60, \"metric\": null, \"status\": \"Completed\", \"run_type\": \"azureml.scriptrun\", \"training_percent\": \"100\", \"start_time\": \"2021-02-06T20:03:48.794972Z\", \"end_time\": \"2021-02-06T20:04:45.218544Z\", \"created_time\": \"2021-02-06T20:03:35.602817Z\", \"created_time_dt\": \"2021-02-06T20:03:35.602817Z\", \"duration\": \"0:01:09\", \"iteration\": \"7\", \"goal\": \"accuracy_max\", \"run_name\": \"MinMaxScaler, SVM\", \"run_properties\": \"copy=True, feature_range=(0, 1\", \"primary_metric\": 0.79847182, \"best_metric\": 0.80993314}, {\"run_id\": \"AutoML_504d70f0-c693-4ec3-bcf5-3860b75a3534_9\", \"run_number\": 61, \"metric\": null, \"status\": \"Completed\", \"run_type\": \"azureml.scriptrun\", \"training_percent\": \"100\", \"start_time\": \"2021-02-06T20:03:46.913015Z\", \"end_time\": \"2021-02-06T20:04:39.094031Z\", \"created_time\": \"2021-02-06T20:03:35.719666Z\", \"created_time_dt\": \"2021-02-06T20:03:35.719666Z\", \"duration\": \"0:01:03\", \"iteration\": \"9\", \"goal\": \"accuracy_max\", \"run_name\": \"SparseNormalizer, XGBoostClassifier\", \"run_properties\": \"<azureml.automl.runtime.shared.model_wrappers.SparseNormalizer object at 0x7f3bc31fb7f0\", \"primary_metric\": 0.78510029, \"best_metric\": 0.80993314}, {\"run_id\": \"AutoML_504d70f0-c693-4ec3-bcf5-3860b75a3534_8\", \"run_number\": 62, \"metric\": null, \"status\": \"Completed\", \"run_type\": \"azureml.scriptrun\", \"training_percent\": \"100\", \"start_time\": \"2021-02-06T20:03:51.852291Z\", \"end_time\": \"2021-02-06T20:04:42.177583Z\", \"created_time\": \"2021-02-06T20:03:35.744301Z\", \"created_time_dt\": \"2021-02-06T20:03:35.744301Z\", \"duration\": \"0:01:06\", \"iteration\": \"8\", \"goal\": \"accuracy_max\", \"run_name\": \"SparseNormalizer, XGBoostClassifier\", \"run_properties\": \"<azureml.automl.runtime.shared.model_wrappers.SparseNormalizer object at 0x7fad2e9681d0\", \"primary_metric\": 0.7860554, \"best_metric\": 0.80993314}, {\"run_id\": \"AutoML_504d70f0-c693-4ec3-bcf5-3860b75a3534_10\", \"run_number\": 63, \"metric\": null, \"status\": \"Completed\", \"run_type\": \"azureml.scriptrun\", \"training_percent\": \"100\", \"start_time\": \"2021-02-06T20:04:46.923713Z\", \"end_time\": \"2021-02-06T20:05:47.844223Z\", \"created_time\": \"2021-02-06T20:04:33.75681Z\", \"created_time_dt\": \"2021-02-06T20:04:33.75681Z\", \"duration\": \"0:01:14\", \"iteration\": \"10\", \"goal\": \"accuracy_max\", \"run_name\": \"SparseNormalizer, XGBoostClassifier\", \"run_properties\": \"<azureml.automl.runtime.shared.model_wrappers.SparseNormalizer object at 0x7fab8cc8a748\", \"primary_metric\": 0.79560649, \"best_metric\": 0.80993314}, {\"run_id\": \"AutoML_504d70f0-c693-4ec3-bcf5-3860b75a3534_11\", \"run_number\": 64, \"metric\": null, \"status\": \"Completed\", \"run_type\": \"azureml.scriptrun\", \"training_percent\": \"100\", \"start_time\": \"2021-02-06T20:04:54.19362Z\", \"end_time\": \"2021-02-06T20:05:44.183492Z\", \"created_time\": \"2021-02-06T20:04:40.05302Z\", \"created_time_dt\": \"2021-02-06T20:04:40.05302Z\", \"duration\": \"0:01:04\", \"iteration\": \"11\", \"goal\": \"accuracy_max\", \"run_name\": \"SparseNormalizer, LightGBM\", \"run_properties\": \"<azureml.automl.runtime.shared.model_wrappers.SparseNormalizer object at 0x7f01562cc2e8\", \"primary_metric\": 0.80324737, \"best_metric\": 0.80993314}, {\"run_id\": \"AutoML_504d70f0-c693-4ec3-bcf5-3860b75a3534_12\", \"run_number\": 65, \"metric\": null, \"status\": \"Completed\", \"run_type\": \"azureml.scriptrun\", \"training_percent\": \"100\", \"start_time\": \"2021-02-06T20:04:57.589876Z\", \"end_time\": \"2021-02-06T20:05:50.929428Z\", \"created_time\": \"2021-02-06T20:04:45.929632Z\", \"created_time_dt\": \"2021-02-06T20:04:45.929632Z\", \"duration\": \"0:01:04\", \"iteration\": \"12\", \"goal\": \"accuracy_max\", \"run_name\": \"MaxAbsScaler, GradientBoosting\", \"run_properties\": \"copy=True\", \"primary_metric\": 0.79083095, \"best_metric\": 0.80993314}, {\"run_id\": \"AutoML_504d70f0-c693-4ec3-bcf5-3860b75a3534_13\", \"run_number\": 66, \"metric\": null, \"status\": \"Completed\", \"run_type\": \"azureml.scriptrun\", \"training_percent\": \"100\", \"start_time\": \"2021-02-06T20:04:59.273015Z\", \"end_time\": \"2021-02-06T20:05:45.313822Z\", \"created_time\": \"2021-02-06T20:04:46.064709Z\", \"created_time_dt\": \"2021-02-06T20:04:46.064709Z\", \"duration\": \"0:00:59\", \"iteration\": \"13\", \"goal\": \"accuracy_max\", \"run_name\": \"StandardScalerWrapper, RandomForest\", \"run_properties\": \"<azureml.automl.runtime.shared.model_wrappers.StandardScalerWrapper object at 0x7f3281272a58\", \"primary_metric\": 0.7965616, \"best_metric\": 0.80993314}, {\"run_id\": \"AutoML_504d70f0-c693-4ec3-bcf5-3860b75a3534_14\", \"run_number\": 67, \"metric\": null, \"status\": \"Completed\", \"run_type\": \"azureml.scriptrun\", \"training_percent\": \"100\", \"start_time\": \"2021-02-06T20:05:02.785956Z\", \"end_time\": \"2021-02-06T20:05:59.385151Z\", \"created_time\": \"2021-02-06T20:04:51.78846Z\", \"created_time_dt\": \"2021-02-06T20:04:51.78846Z\", \"duration\": \"0:01:07\", \"iteration\": \"14\", \"goal\": \"accuracy_max\", \"run_name\": \"MaxAbsScaler, ExtremeRandomTrees\", \"run_properties\": \"copy=True\", \"primary_metric\": 0.80133715, \"best_metric\": 0.80993314}, {\"run_id\": \"AutoML_504d70f0-c693-4ec3-bcf5-3860b75a3534_15\", \"run_number\": 68, \"metric\": null, \"status\": \"Completed\", \"run_type\": \"azureml.scriptrun\", \"training_percent\": \"100\", \"start_time\": \"2021-02-06T20:06:01.433888Z\", \"end_time\": \"2021-02-06T20:06:51.206667Z\", \"created_time\": \"2021-02-06T20:05:46.847294Z\", \"created_time_dt\": \"2021-02-06T20:05:46.847294Z\", \"duration\": \"0:01:04\", \"iteration\": \"15\", \"goal\": \"accuracy_max\", \"run_name\": \"MaxAbsScaler, LightGBM\", \"run_properties\": \"copy=True\", \"primary_metric\": 0.80706781, \"best_metric\": 0.80993314}, {\"run_id\": \"AutoML_504d70f0-c693-4ec3-bcf5-3860b75a3534_16\", \"run_number\": 69, \"metric\": null, \"status\": \"Completed\", \"run_type\": \"azureml.scriptrun\", \"training_percent\": \"100\", \"start_time\": \"2021-02-06T20:06:04.923612Z\", \"end_time\": \"2021-02-06T20:06:51.08645Z\", \"created_time\": \"2021-02-06T20:05:50.963304Z\", \"created_time_dt\": \"2021-02-06T20:05:50.963304Z\", \"duration\": \"0:01:00\", \"iteration\": \"16\", \"goal\": \"accuracy_max\", \"run_name\": \"StandardScalerWrapper, LightGBM\", \"run_properties\": \"<azureml.automl.runtime.shared.model_wrappers.StandardScalerWrapper object at 0x7f114c48fa58\", \"primary_metric\": 0.8061127, \"best_metric\": 0.80993314}, {\"run_id\": \"AutoML_504d70f0-c693-4ec3-bcf5-3860b75a3534_17\", \"run_number\": 70, \"metric\": null, \"status\": \"Completed\", \"run_type\": \"azureml.scriptrun\", \"training_percent\": \"100\", \"start_time\": \"2021-02-06T20:06:04.101953Z\", \"end_time\": \"2021-02-06T20:06:52.074843Z\", \"created_time\": \"2021-02-06T20:05:51.10727Z\", \"created_time_dt\": \"2021-02-06T20:05:51.10727Z\", \"duration\": \"0:01:00\", \"iteration\": \"17\", \"goal\": \"accuracy_max\", \"run_name\": \"SparseNormalizer, XGBoostClassifier\", \"run_properties\": \"<azureml.automl.runtime.shared.model_wrappers.SparseNormalizer object at 0x7fc8cd090a58\", \"primary_metric\": 0.80420248, \"best_metric\": 0.80993314}, {\"run_id\": \"AutoML_504d70f0-c693-4ec3-bcf5-3860b75a3534_18\", \"run_number\": 71, \"metric\": null, \"status\": \"Completed\", \"run_type\": \"azureml.scriptrun\", \"training_percent\": \"100\", \"start_time\": \"2021-02-06T20:06:09.701875Z\", \"end_time\": \"2021-02-06T20:07:05.624509Z\", \"created_time\": \"2021-02-06T20:05:56.850841Z\", \"created_time_dt\": \"2021-02-06T20:05:56.850841Z\", \"duration\": \"0:01:08\", \"iteration\": \"18\", \"goal\": \"accuracy_max\", \"run_name\": \"StandardScalerWrapper, LogisticRegression\", \"run_properties\": \"<azureml.automl.runtime.shared.model_wrappers.StandardScalerWrapper object at 0x7fe262c95be0\", \"primary_metric\": 0.79942693, \"best_metric\": 0.80993314}, {\"run_id\": \"AutoML_504d70f0-c693-4ec3-bcf5-3860b75a3534_19\", \"run_number\": 72, \"metric\": null, \"status\": \"Completed\", \"run_type\": \"azureml.scriptrun\", \"training_percent\": \"100\", \"start_time\": \"2021-02-06T20:06:13.338155Z\", \"end_time\": \"2021-02-06T20:07:00.160301Z\", \"created_time\": \"2021-02-06T20:06:02.341503Z\", \"created_time_dt\": \"2021-02-06T20:06:02.341503Z\", \"duration\": \"0:00:57\", \"iteration\": \"19\", \"goal\": \"accuracy_max\", \"run_name\": \"SparseNormalizer, XGBoostClassifier\", \"run_properties\": \"<azureml.automl.runtime.shared.model_wrappers.SparseNormalizer object at 0x7f034e8c4f60\", \"primary_metric\": 0.79369628, \"best_metric\": 0.80993314}, {\"run_id\": \"AutoML_504d70f0-c693-4ec3-bcf5-3860b75a3534_20\", \"run_number\": 73, \"metric\": null, \"status\": \"Completed\", \"run_type\": \"azureml.scriptrun\", \"training_percent\": \"100\", \"start_time\": \"2021-02-06T20:07:07.644297Z\", \"end_time\": \"2021-02-06T20:08:06.994144Z\", \"created_time\": \"2021-02-06T20:06:54.161808Z\", \"created_time_dt\": \"2021-02-06T20:06:54.161808Z\", \"duration\": \"0:01:12\", \"iteration\": \"20\", \"goal\": \"accuracy_max\", \"run_name\": \"MinMaxScaler, RandomForest\", \"run_properties\": \"copy=True, feature_range=(0, 1\", \"primary_metric\": 0.79274117, \"best_metric\": 0.80993314}, {\"run_id\": \"AutoML_504d70f0-c693-4ec3-bcf5-3860b75a3534_21\", \"run_number\": 74, \"metric\": null, \"status\": \"Completed\", \"run_type\": \"azureml.scriptrun\", \"training_percent\": \"100\", \"start_time\": \"2021-02-06T20:07:08.121975Z\", \"end_time\": \"2021-02-06T20:07:54.613338Z\", \"created_time\": \"2021-02-06T20:06:54.289799Z\", \"created_time_dt\": \"2021-02-06T20:06:54.289799Z\", \"duration\": \"0:01:00\", \"iteration\": \"21\", \"goal\": \"accuracy_max\", \"run_name\": \"MinMaxScaler, LightGBM\", \"run_properties\": \"copy=True, feature_range=(0, 1\", \"primary_metric\": 0.78987584, \"best_metric\": 0.80993314}, {\"run_id\": \"AutoML_504d70f0-c693-4ec3-bcf5-3860b75a3534_22\", \"run_number\": 75, \"metric\": null, \"status\": \"Completed\", \"run_type\": \"azureml.scriptrun\", \"training_percent\": \"100\", \"start_time\": \"2021-02-06T20:07:10.558228Z\", \"end_time\": \"2021-02-06T20:07:58.926178Z\", \"created_time\": \"2021-02-06T20:06:59.693756Z\", \"created_time_dt\": \"2021-02-06T20:06:59.693756Z\", \"duration\": \"0:00:59\", \"iteration\": \"22\", \"goal\": \"accuracy_max\", \"run_name\": \"MaxAbsScaler, LightGBM\", \"run_properties\": \"copy=True\", \"primary_metric\": 0.78892073, \"best_metric\": 0.80993314}, {\"run_id\": \"AutoML_504d70f0-c693-4ec3-bcf5-3860b75a3534_23\", \"run_number\": 76, \"metric\": null, \"status\": \"Completed\", \"run_type\": \"azureml.scriptrun\", \"training_percent\": \"100\", \"start_time\": \"2021-02-06T20:07:16.563877Z\", \"end_time\": \"2021-02-06T20:08:11.069828Z\", \"created_time\": \"2021-02-06T20:07:04.515324Z\", \"created_time_dt\": \"2021-02-06T20:07:04.515324Z\", \"duration\": \"0:01:06\", \"iteration\": \"23\", \"goal\": \"accuracy_max\", \"run_name\": \"MaxAbsScaler, KNN\", \"run_properties\": \"copy=True\", \"primary_metric\": 0.77936963, \"best_metric\": 0.80993314}, {\"run_id\": \"AutoML_504d70f0-c693-4ec3-bcf5-3860b75a3534_24\", \"run_number\": 77, \"metric\": null, \"status\": \"Completed\", \"run_type\": \"azureml.scriptrun\", \"training_percent\": \"100\", \"start_time\": \"2021-02-06T20:07:42.979361Z\", \"end_time\": \"2021-02-06T20:08:43.822174Z\", \"created_time\": \"2021-02-06T20:07:09.361203Z\", \"created_time_dt\": \"2021-02-06T20:07:09.361203Z\", \"duration\": \"0:01:34\", \"iteration\": \"24\", \"goal\": \"accuracy_max\", \"run_name\": \"StandardScalerWrapper, ExtremeRandomTrees\", \"run_properties\": \"<azureml.automl.runtime.shared.model_wrappers.StandardScalerWrapper object at 0x7ff8c8af7860\", \"primary_metric\": 0.79560649, \"best_metric\": 0.80993314}, {\"run_id\": \"AutoML_504d70f0-c693-4ec3-bcf5-3860b75a3534_25\", \"run_number\": 78, \"metric\": null, \"status\": \"Completed\", \"run_type\": \"azureml.scriptrun\", \"training_percent\": \"100\", \"start_time\": \"2021-02-06T20:08:12.031943Z\", \"end_time\": \"2021-02-06T20:09:01.392569Z\", \"created_time\": \"2021-02-06T20:07:58.313507Z\", \"created_time_dt\": \"2021-02-06T20:07:58.313507Z\", \"duration\": \"0:01:03\", \"iteration\": \"25\", \"goal\": \"accuracy_max\", \"run_name\": \"StandardScalerWrapper, LightGBM\", \"run_properties\": \"<azureml.automl.runtime.shared.model_wrappers.StandardScalerWrapper object at 0x7fc3349585f8\", \"primary_metric\": 0.61795606, \"best_metric\": 0.80993314}, {\"run_id\": \"AutoML_504d70f0-c693-4ec3-bcf5-3860b75a3534_26\", \"run_number\": 79, \"metric\": null, \"status\": \"Completed\", \"run_type\": \"azureml.scriptrun\", \"training_percent\": \"100\", \"start_time\": \"2021-02-06T20:08:20.576551Z\", \"end_time\": \"2021-02-06T20:09:10.20453Z\", \"created_time\": \"2021-02-06T20:08:04.541346Z\", \"created_time_dt\": \"2021-02-06T20:08:04.541346Z\", \"duration\": \"0:01:05\", \"iteration\": \"26\", \"goal\": \"accuracy_max\", \"run_name\": \"MinMaxScaler, LightGBM\", \"run_properties\": \"copy=True, feature_range=(0, 1\", \"primary_metric\": 0.77841452, \"best_metric\": 0.80993314}, {\"run_id\": \"AutoML_504d70f0-c693-4ec3-bcf5-3860b75a3534_27\", \"run_number\": 80, \"metric\": null, \"status\": \"Completed\", \"run_type\": \"azureml.scriptrun\", \"training_percent\": \"100\", \"start_time\": \"2021-02-06T20:08:24.970942Z\", \"end_time\": \"2021-02-06T20:09:14.185645Z\", \"created_time\": \"2021-02-06T20:08:11.669115Z\", \"created_time_dt\": \"2021-02-06T20:08:11.669115Z\", \"duration\": \"0:01:02\", \"iteration\": \"27\", \"goal\": \"accuracy_max\", \"run_name\": \"MaxAbsScaler, LightGBM\", \"run_properties\": \"copy=True\", \"primary_metric\": 0.7860554, \"best_metric\": 0.80993314}, {\"run_id\": \"AutoML_504d70f0-c693-4ec3-bcf5-3860b75a3534_28\", \"run_number\": 81, \"metric\": null, \"status\": \"Completed\", \"run_type\": \"azureml.scriptrun\", \"training_percent\": \"100\", \"start_time\": \"2021-02-06T20:08:28.745722Z\", \"end_time\": \"2021-02-06T20:09:50.807715Z\", \"created_time\": \"2021-02-06T20:08:16.906531Z\", \"created_time_dt\": \"2021-02-06T20:08:16.906531Z\", \"duration\": \"0:01:33\", \"iteration\": \"28\", \"goal\": \"accuracy_max\", \"run_name\": \"StandardScalerWrapper, LightGBM\", \"run_properties\": \"<azureml.automl.runtime.shared.model_wrappers.StandardScalerWrapper object at 0x7f13521cd0b8\", \"primary_metric\": 0.78701051, \"best_metric\": 0.80993314}, {\"run_id\": \"AutoML_504d70f0-c693-4ec3-bcf5-3860b75a3534_29\", \"run_number\": 82, \"metric\": null, \"status\": \"Completed\", \"run_type\": \"azureml.scriptrun\", \"training_percent\": \"100\", \"start_time\": \"2021-02-06T20:08:58.445367Z\", \"end_time\": \"2021-02-06T20:09:45.414587Z\", \"created_time\": \"2021-02-06T20:08:46.854946Z\", \"created_time_dt\": \"2021-02-06T20:08:46.854946Z\", \"duration\": \"0:00:58\", \"iteration\": \"29\", \"goal\": \"accuracy_max\", \"run_name\": \"SparseNormalizer, LightGBM\", \"run_properties\": \"<azureml.automl.runtime.shared.model_wrappers.SparseNormalizer object at 0x7f438fb31f28\", \"primary_metric\": 0.79178606, \"best_metric\": 0.80993314}, {\"run_id\": \"AutoML_504d70f0-c693-4ec3-bcf5-3860b75a3534_30\", \"run_number\": 83, \"metric\": null, \"status\": \"Completed\", \"run_type\": \"azureml.scriptrun\", \"training_percent\": \"100\", \"start_time\": \"2021-02-06T20:09:18.348817Z\", \"end_time\": \"2021-02-06T20:10:04.423589Z\", \"created_time\": \"2021-02-06T20:09:05.979787Z\", \"created_time_dt\": \"2021-02-06T20:09:05.979787Z\", \"duration\": \"0:00:58\", \"iteration\": \"30\", \"goal\": \"accuracy_max\", \"run_name\": \"SparseNormalizer, LightGBM\", \"run_properties\": \"<azureml.automl.runtime.shared.model_wrappers.SparseNormalizer object at 0x7fd1eb51ffd0\", \"primary_metric\": 0.61795606, \"best_metric\": 0.80993314}, {\"run_id\": \"AutoML_504d70f0-c693-4ec3-bcf5-3860b75a3534_31\", \"run_number\": 84, \"metric\": null, \"status\": \"Completed\", \"run_type\": \"azureml.scriptrun\", \"training_percent\": \"100\", \"start_time\": \"2021-02-06T20:09:25.700087Z\", \"end_time\": \"2021-02-06T20:10:17.818967Z\", \"created_time\": \"2021-02-06T20:09:12.545719Z\", \"created_time_dt\": \"2021-02-06T20:09:12.545719Z\", \"duration\": \"0:01:05\", \"iteration\": \"31\", \"goal\": \"accuracy_max\", \"run_name\": \"RobustScaler, LightGBM\", \"run_properties\": \"copy=True, quantile_range=[25, 75], with_centering=True,\\n             with_scaling=True\", \"primary_metric\": 0.80229226, \"best_metric\": 0.80993314}, {\"run_id\": \"AutoML_504d70f0-c693-4ec3-bcf5-3860b75a3534_32\", \"run_number\": 85, \"metric\": null, \"status\": \"Completed\", \"run_type\": \"azureml.scriptrun\", \"training_percent\": \"100\", \"start_time\": \"2021-02-06T20:09:29.683667Z\", \"end_time\": \"2021-02-06T20:10:16.110784Z\", \"created_time\": \"2021-02-06T20:09:17.527311Z\", \"created_time_dt\": \"2021-02-06T20:09:17.527311Z\", \"duration\": \"0:00:58\", \"iteration\": \"32\", \"goal\": \"accuracy_max\", \"run_name\": \"SparseNormalizer, XGBoostClassifier\", \"run_properties\": \"<azureml.automl.runtime.shared.model_wrappers.SparseNormalizer object at 0x7f837d7a7710\", \"primary_metric\": 0.80420248, \"best_metric\": 0.80993314}, {\"run_id\": \"AutoML_504d70f0-c693-4ec3-bcf5-3860b75a3534_33\", \"run_number\": 86, \"metric\": null, \"status\": \"Completed\", \"run_type\": \"azureml.scriptrun\", \"training_percent\": \"100\", \"start_time\": \"2021-02-06T20:10:00.416912Z\", \"end_time\": \"2021-02-06T20:10:54.08511Z\", \"created_time\": \"2021-02-06T20:09:48.042797Z\", \"created_time_dt\": \"2021-02-06T20:09:48.042797Z\", \"duration\": \"0:01:06\", \"iteration\": \"33\", \"goal\": \"accuracy_max\", \"run_name\": \"SparseNormalizer, XGBoostClassifier\", \"run_properties\": \"<azureml.automl.runtime.shared.model_wrappers.SparseNormalizer object at 0x7f7caf287278\", \"primary_metric\": 0.7965616, \"best_metric\": 0.80993314}, {\"run_id\": \"AutoML_504d70f0-c693-4ec3-bcf5-3860b75a3534_34\", \"run_number\": 87, \"metric\": null, \"status\": \"Completed\", \"run_type\": \"azureml.scriptrun\", \"training_percent\": \"100\", \"start_time\": \"2021-02-06T20:10:04.685332Z\", \"end_time\": \"2021-02-06T20:10:55.206161Z\", \"created_time\": \"2021-02-06T20:09:53.12809Z\", \"created_time_dt\": \"2021-02-06T20:09:53.12809Z\", \"duration\": \"0:01:02\", \"iteration\": \"34\", \"goal\": \"accuracy_max\", \"run_name\": \"MinMaxScaler, RandomForest\", \"run_properties\": \"copy=True, feature_range=(0, 1\", \"primary_metric\": 0.79465138, \"best_metric\": 0.80993314}, {\"run_id\": \"AutoML_504d70f0-c693-4ec3-bcf5-3860b75a3534_35\", \"run_number\": 88, \"metric\": null, \"status\": \"Canceled\", \"run_type\": \"azureml.scriptrun\", \"training_percent\": \"100\", \"start_time\": \"2021-02-06T20:10:19.842117Z\", \"end_time\": \"2021-02-06T20:11:03.271307Z\", \"created_time\": \"2021-02-06T20:10:07.777693Z\", \"created_time_dt\": \"2021-02-06T20:10:07.777693Z\", \"duration\": \"0:00:55\", \"iteration\": \"35\", \"goal\": \"accuracy_max\", \"run_name\": \"SparseNormalizer, LightGBM\", \"run_properties\": \"<azureml.automl.runtime.shared.model_wrappers.SparseNormalizer object at 0x7f026a6f84e0\", \"primary_metric\": 0.80324737, \"best_metric\": 0.80993314}, {\"run_id\": \"AutoML_504d70f0-c693-4ec3-bcf5-3860b75a3534_36\", \"run_number\": 89, \"metric\": null, \"status\": \"Canceled\", \"run_type\": \"azureml.scriptrun\", \"training_percent\": \"100\", \"start_time\": \"2021-02-06T20:10:32.771829Z\", \"end_time\": \"2021-02-06T20:11:02.224211Z\", \"created_time\": \"2021-02-06T20:10:18.750591Z\", \"created_time_dt\": \"2021-02-06T20:10:18.750591Z\", \"duration\": \"0:00:43\", \"iteration\": \"36\", \"goal\": null, \"run_name\": \"StandardScalerWrapper, ExtremeRandomTrees\", \"run_properties\": null, \"primary_metric\": 0.74976122, \"best_metric\": 0.80993314}, {\"run_id\": \"AutoML_504d70f0-c693-4ec3-bcf5-3860b75a3534_37\", \"run_number\": 90, \"metric\": null, \"status\": \"Canceled\", \"run_type\": \"azureml.scriptrun\", \"training_percent\": \"100\", \"start_time\": \"2021-02-06T20:10:35.461012Z\", \"end_time\": \"2021-02-06T20:11:02.366293Z\", \"created_time\": \"2021-02-06T20:10:24.12823Z\", \"created_time_dt\": \"2021-02-06T20:10:24.12823Z\", \"duration\": \"0:00:38\", \"iteration\": \"37\", \"goal\": null, \"run_name\": \"MaxAbsScaler, RandomForest\", \"run_properties\": null, \"primary_metric\": 0.76886342, \"best_metric\": 0.80993314}, {\"run_id\": \"AutoML_504d70f0-c693-4ec3-bcf5-3860b75a3534_38\", \"run_number\": 91, \"metric\": null, \"status\": \"Completed\", \"run_type\": \"azureml.scriptrun\", \"training_percent\": \"100\", \"start_time\": \"2021-02-06T20:11:19.119216Z\", \"end_time\": \"2021-02-06T20:12:34.811425Z\", \"created_time\": \"2021-02-06T20:11:04.536414Z\", \"created_time_dt\": \"2021-02-06T20:11:04.536414Z\", \"duration\": \"0:01:30\", \"iteration\": \"38\", \"goal\": \"accuracy_max\", \"run_name\": \"VotingEnsemble\", \"run_properties\": \"classification_labels=None,\\n                              estimators=[('5',\\n                                           Pipeline(memory=None,\\n                                                    steps=[('minmaxscaler',\\n                                                            MinMaxScaler(copy=True,\\n                                                                         feature_range=(0,\\n                                                                                        1\", \"primary_metric\": 0.81948424, \"best_metric\": 0.81948424}, {\"run_id\": \"AutoML_504d70f0-c693-4ec3-bcf5-3860b75a3534_39\", \"run_number\": 92, \"metric\": null, \"status\": \"Completed\", \"run_type\": \"azureml.scriptrun\", \"training_percent\": \"100\", \"start_time\": \"2021-02-06T20:11:17.768439Z\", \"end_time\": \"2021-02-06T20:12:38.232778Z\", \"created_time\": \"2021-02-06T20:11:04.647023Z\", \"created_time_dt\": \"2021-02-06T20:11:04.647023Z\", \"duration\": \"0:01:33\", \"iteration\": \"39\", \"goal\": \"accuracy_max\", \"run_name\": \"StackEnsemble\", \"run_properties\": \"base_learners=[('5',\\n                                        Pipeline(memory=None,\\n                                                 steps=[('minmaxscaler',\\n                                                         MinMaxScaler(copy=True,\\n                                                                      feature_range=(0,\\n                                                                                     1\", \"primary_metric\": 0.81088825, \"best_metric\": 0.81948424}], \"children_metrics\": {\"categories\": [0], \"series\": {\"precision_score_weighted\": [{\"categories\": [\"0\", \"1\", \"2\", \"3\", \"4\", \"5\", \"6\", \"7\", \"8\", \"9\", \"10\", \"11\", \"12\", \"13\", \"14\", \"15\", \"16\", \"17\", \"18\", \"19\", \"20\", \"21\", \"22\", \"23\", \"24\", \"25\", \"26\", \"27\", \"28\", \"29\", \"30\", \"31\", \"32\", \"33\", \"34\", \"35\", \"36\", \"37\", \"38\", \"39\"], \"mode\": \"markers\", \"name\": \"precision_score_weighted\", \"stepped\": false, \"type\": \"scatter\", \"data\": [0.7859357439862147, 0.8087665135888517, 0.7979345131349866, 0.7871745914842893, 0.794872629314788, 0.8090300014964864, 0.7938064854663655, 0.7995740146730794, 0.783888869356653, 0.7840735334655783, 0.7946829240991065, 0.8024951982577505, 0.7918627517594312, 0.7960999558611158, 0.8043193790013761, 0.8092422426239745, 0.8066532500461427, 0.8037252638641265, 0.7995236222404944, 0.7932616691477589, 0.8048268475284589, 0.7992964615524029, 0.8055940452423384, 0.7783864571710281, 0.7986749402243976, 0.38192625676308073, 0.7815496425570418, 0.7976904749112066, 0.7904724894358518, 0.7949776424125069, 0.38192625676308073, 0.8010998618836248, 0.8046654257654738, 0.7949868981935774, 0.7959778043271056, 0.8029820218256885, 0.7674398589239207, 0.7782693036210772, 0.8203930840703312, 0.8130146009039421]}, {\"categories\": [\"0\", \"1\", \"2\", \"3\", \"4\", \"5\", \"6\", \"7\", \"8\", \"9\", \"10\", \"11\", \"12\", \"13\", \"14\", \"15\", \"16\", \"17\", \"18\", \"19\", \"20\", \"21\", \"22\", \"23\", \"24\", \"25\", \"26\", \"27\", \"28\", \"29\", \"30\", \"31\", \"32\", \"33\", \"34\", \"35\", \"36\", \"37\", \"38\", \"39\"], \"mode\": \"lines\", \"name\": \"precision_score_weighted_max\", \"stepped\": true, \"type\": \"scatter\", \"data\": [0.7859357439862147, 0.8087665135888517, 0.8087665135888517, 0.8087665135888517, 0.8087665135888517, 0.8090300014964864, 0.8090300014964864, 0.8090300014964864, 0.8090300014964864, 0.8090300014964864, 0.8090300014964864, 0.8090300014964864, 0.8090300014964864, 0.8090300014964864, 0.8090300014964864, 0.8092422426239745, 0.8092422426239745, 0.8092422426239745, 0.8092422426239745, 0.8092422426239745, 0.8092422426239745, 0.8092422426239745, 0.8092422426239745, 0.8092422426239745, 0.8092422426239745, 0.8092422426239745, 0.8092422426239745, 0.8092422426239745, 0.8092422426239745, 0.8092422426239745, 0.8092422426239745, 0.8092422426239745, 0.8092422426239745, 0.8092422426239745, 0.8092422426239745, 0.8092422426239745, 0.8092422426239745, 0.8092422426239745, 0.8203930840703312, 0.8203930840703312]}], \"recall_score_micro\": [{\"categories\": [\"0\", \"1\", \"2\", \"3\", \"4\", \"5\", \"6\", \"7\", \"8\", \"9\", \"10\", \"11\", \"12\", \"13\", \"14\", \"15\", \"16\", \"17\", \"18\", \"19\", \"20\", \"21\", \"22\", \"23\", \"24\", \"25\", \"26\", \"27\", \"28\", \"29\", \"30\", \"31\", \"32\", \"33\", \"34\", \"35\", \"36\", \"37\", \"38\", \"39\"], \"mode\": \"markers\", \"name\": \"recall_score_micro\", \"stepped\": false, \"type\": \"scatter\", \"data\": [0.7879656160458453, 0.8080229226361032, 0.7984718242597899, 0.787010506208214, 0.7917860553963706, 0.8099331423113658, 0.7946513849092646, 0.7984718242597899, 0.7860553963705826, 0.7851002865329514, 0.7956064947468958, 0.8032473734479465, 0.7908309455587391, 0.7965616045845273, 0.801337153772684, 0.8070678127984717, 0.8061127029608404, 0.8042024832855779, 0.7994269340974212, 0.7936962750716332, 0.792741165234002, 0.7898758357211079, 0.7889207258834766, 0.7793696275071632, 0.7956064947468958, 0.617956064947469, 0.778414517669532, 0.7860553963705826, 0.7870105062082139, 0.7917860553963706, 0.617956064947469, 0.802292263610315, 0.8042024832855779, 0.7965616045845273, 0.7946513849092646, 0.8032473734479465, 0.7497612225405922, 0.7688634192932188, 0.8194842406876791, 0.8108882521489971]}, {\"categories\": [\"0\", \"1\", \"2\", \"3\", \"4\", \"5\", \"6\", \"7\", \"8\", \"9\", \"10\", \"11\", \"12\", \"13\", \"14\", \"15\", \"16\", \"17\", \"18\", \"19\", \"20\", \"21\", \"22\", \"23\", \"24\", \"25\", \"26\", \"27\", \"28\", \"29\", \"30\", \"31\", \"32\", \"33\", \"34\", \"35\", \"36\", \"37\", \"38\", \"39\"], \"mode\": \"lines\", \"name\": \"recall_score_micro_max\", \"stepped\": true, \"type\": \"scatter\", \"data\": [0.7879656160458453, 0.8080229226361032, 0.8080229226361032, 0.8080229226361032, 0.8080229226361032, 0.8099331423113658, 0.8099331423113658, 0.8099331423113658, 0.8099331423113658, 0.8099331423113658, 0.8099331423113658, 0.8099331423113658, 0.8099331423113658, 0.8099331423113658, 0.8099331423113658, 0.8099331423113658, 0.8099331423113658, 0.8099331423113658, 0.8099331423113658, 0.8099331423113658, 0.8099331423113658, 0.8099331423113658, 0.8099331423113658, 0.8099331423113658, 0.8099331423113658, 0.8099331423113658, 0.8099331423113658, 0.8099331423113658, 0.8099331423113658, 0.8099331423113658, 0.8099331423113658, 0.8099331423113658, 0.8099331423113658, 0.8099331423113658, 0.8099331423113658, 0.8099331423113658, 0.8099331423113658, 0.8099331423113658, 0.8194842406876791, 0.8194842406876791]}], \"AUC_macro\": [{\"categories\": [\"0\", \"1\", \"2\", \"3\", \"4\", \"5\", \"6\", \"7\", \"8\", \"9\", \"10\", \"11\", \"12\", \"13\", \"14\", \"15\", \"16\", \"17\", \"18\", \"19\", \"20\", \"21\", \"22\", \"23\", \"24\", \"25\", \"26\", \"27\", \"28\", \"29\", \"30\", \"31\", \"32\", \"33\", \"34\", \"35\", \"36\", \"37\", \"38\", \"39\"], \"mode\": \"markers\", \"name\": \"AUC_macro\", \"stepped\": false, \"type\": \"scatter\", \"data\": [0.8536678514349534, 0.8678531479143805, 0.8464062327069573, 0.8380061844352076, 0.8521416509092922, 0.8495574648727736, 0.8473560539751736, 0.8158436632084248, 0.8365041651068185, 0.8422872289487172, 0.8536018507196556, 0.847325517706997, 0.8391083507596836, 0.8486052430453843, 0.8489835619291458, 0.8502472881094292, 0.8496358032024145, 0.8570316963081416, 0.849638684787882, 0.8483418582012003, 0.8421532351407791, 0.8388963132968655, 0.8391855585106726, 0.8187637752131042, 0.8494865006832256, 0.8036205794456454, 0.838138722473417, 0.8533681883258893, 0.8399794476188355, 0.8500402285928571, 0.8204813582197584, 0.8484391400781485, 0.8541791568307979, 0.8474346167493686, 0.8398988083958896, 0.8410903651905534, 0.8335670159566563, 0.8400968770366708, 0.862007101503762, 0.8652871367550482]}, {\"categories\": [\"0\", \"1\", \"2\", \"3\", \"4\", \"5\", \"6\", \"7\", \"8\", \"9\", \"10\", \"11\", \"12\", \"13\", \"14\", \"15\", \"16\", \"17\", \"18\", \"19\", \"20\", \"21\", \"22\", \"23\", \"24\", \"25\", \"26\", \"27\", \"28\", \"29\", \"30\", \"31\", \"32\", \"33\", \"34\", \"35\", \"36\", \"37\", \"38\", \"39\"], \"mode\": \"lines\", \"name\": \"AUC_macro_max\", \"stepped\": true, \"type\": \"scatter\", \"data\": [0.8536678514349534, 0.8678531479143805, 0.8678531479143805, 0.8678531479143805, 0.8678531479143805, 0.8678531479143805, 0.8678531479143805, 0.8678531479143805, 0.8678531479143805, 0.8678531479143805, 0.8678531479143805, 0.8678531479143805, 0.8678531479143805, 0.8678531479143805, 0.8678531479143805, 0.8678531479143805, 0.8678531479143805, 0.8678531479143805, 0.8678531479143805, 0.8678531479143805, 0.8678531479143805, 0.8678531479143805, 0.8678531479143805, 0.8678531479143805, 0.8678531479143805, 0.8678531479143805, 0.8678531479143805, 0.8678531479143805, 0.8678531479143805, 0.8678531479143805, 0.8678531479143805, 0.8678531479143805, 0.8678531479143805, 0.8678531479143805, 0.8678531479143805, 0.8678531479143805, 0.8678531479143805, 0.8678531479143805, 0.8678531479143805, 0.8678531479143805]}], \"balanced_accuracy\": [{\"categories\": [\"0\", \"1\", \"2\", \"3\", \"4\", \"5\", \"6\", \"7\", \"8\", \"9\", \"10\", \"11\", \"12\", \"13\", \"14\", \"15\", \"16\", \"17\", \"18\", \"19\", \"20\", \"21\", \"22\", \"23\", \"24\", \"25\", \"26\", \"27\", \"28\", \"29\", \"30\", \"31\", \"32\", \"33\", \"34\", \"35\", \"36\", \"37\", \"38\", \"39\"], \"mode\": \"markers\", \"name\": \"balanced_accuracy\", \"stepped\": false, \"type\": \"scatter\", \"data\": [0.7663876731554501, 0.7802620657427856, 0.7778064867240762, 0.7711714199367283, 0.7814498264632949, 0.7833901895667141, 0.7710229956586132, 0.7667491453734799, 0.7600857508564793, 0.7619934402171857, 0.7771027344554297, 0.7771139944148029, 0.777083404934598, 0.7752302001111754, 0.7720132319651993, 0.7750322891878904, 0.77967960988078, 0.7842221407610195, 0.7863918742818624, 0.7653729213848907, 0.762491519299855, 0.7576122357665763, 0.739490611130841, 0.7622963891027128, 0.7711011993641392, 0.5, 0.752739262883268, 0.739569708483841, 0.7613752168925142, 0.7593166945658144, 0.5, 0.7774627737422136, 0.7783702381643162, 0.7702252180493998, 0.7743854527310198, 0.7784444093259882, 0.7549885505306322, 0.7683076130976731, 0.79170918888757, 0.7806704820684542]}, {\"categories\": [\"0\", \"1\", \"2\", \"3\", \"4\", \"5\", \"6\", \"7\", \"8\", \"9\", \"10\", \"11\", \"12\", \"13\", \"14\", \"15\", \"16\", \"17\", \"18\", \"19\", \"20\", \"21\", \"22\", \"23\", \"24\", \"25\", \"26\", \"27\", \"28\", \"29\", \"30\", \"31\", \"32\", \"33\", \"34\", \"35\", \"36\", \"37\", \"38\", \"39\"], \"mode\": \"lines\", \"name\": \"balanced_accuracy_max\", \"stepped\": true, \"type\": \"scatter\", \"data\": [0.7663876731554501, 0.7802620657427856, 0.7802620657427856, 0.7802620657427856, 0.7814498264632949, 0.7833901895667141, 0.7833901895667141, 0.7833901895667141, 0.7833901895667141, 0.7833901895667141, 0.7833901895667141, 0.7833901895667141, 0.7833901895667141, 0.7833901895667141, 0.7833901895667141, 0.7833901895667141, 0.7833901895667141, 0.7842221407610195, 0.7863918742818624, 0.7863918742818624, 0.7863918742818624, 0.7863918742818624, 0.7863918742818624, 0.7863918742818624, 0.7863918742818624, 0.7863918742818624, 0.7863918742818624, 0.7863918742818624, 0.7863918742818624, 0.7863918742818624, 0.7863918742818624, 0.7863918742818624, 0.7863918742818624, 0.7863918742818624, 0.7863918742818624, 0.7863918742818624, 0.7863918742818624, 0.7863918742818624, 0.79170918888757, 0.79170918888757]}], \"weighted_accuracy\": [{\"categories\": [\"0\", \"1\", \"2\", \"3\", \"4\", \"5\", \"6\", \"7\", \"8\", \"9\", \"10\", \"11\", \"12\", \"13\", \"14\", \"15\", \"16\", \"17\", \"18\", \"19\", \"20\", \"21\", \"22\", \"23\", \"24\", \"25\", \"26\", \"27\", \"28\", \"29\", \"30\", \"31\", \"32\", \"33\", \"34\", \"35\", \"36\", \"37\", \"38\", \"39\"], \"mode\": \"markers\", \"name\": \"weighted_accuracy\", \"stepped\": false, \"type\": \"scatter\", \"data\": [0.8071732841121863, 0.8328467405870117, 0.816964162967075, 0.8011553417097032, 0.8010487704282996, 0.8336197814572638, 0.8157339521604596, 0.8268222662688021, 0.8092011873904476, 0.8057326314829959, 0.8121166296486729, 0.8265817049556734, 0.8031027510400751, 0.8156377616393709, 0.8275665201305434, 0.8356881135162914, 0.8297541299308689, 0.8220608950919615, 0.8110525209781688, 0.818954843857224, 0.8199252347786602, 0.8188309602265856, 0.833098280973498, 0.7945568312606617, 0.8175192605007299, 0.7233423881241151, 0.8014895689929378, 0.8275995321980544, 0.8100225684502829, 0.8208011744865306, 0.7233423881241151, 0.8244844550246991, 0.82726745030631, 0.8200680268267533, 0.8128129183296006, 0.8253807304462001, 0.7450984478922509, 0.769324404245475, 0.8442910304613135, 0.8379093543015278]}, {\"categories\": [\"0\", \"1\", \"2\", \"3\", \"4\", \"5\", \"6\", \"7\", \"8\", \"9\", \"10\", \"11\", \"12\", \"13\", \"14\", \"15\", \"16\", \"17\", \"18\", \"19\", \"20\", \"21\", \"22\", \"23\", \"24\", \"25\", \"26\", \"27\", \"28\", \"29\", \"30\", \"31\", \"32\", \"33\", \"34\", \"35\", \"36\", \"37\", \"38\", \"39\"], \"mode\": \"lines\", \"name\": \"weighted_accuracy_max\", \"stepped\": true, \"type\": \"scatter\", \"data\": [0.8071732841121863, 0.8328467405870117, 0.8328467405870117, 0.8328467405870117, 0.8328467405870117, 0.8336197814572638, 0.8336197814572638, 0.8336197814572638, 0.8336197814572638, 0.8336197814572638, 0.8336197814572638, 0.8336197814572638, 0.8336197814572638, 0.8336197814572638, 0.8336197814572638, 0.8356881135162914, 0.8356881135162914, 0.8356881135162914, 0.8356881135162914, 0.8356881135162914, 0.8356881135162914, 0.8356881135162914, 0.8356881135162914, 0.8356881135162914, 0.8356881135162914, 0.8356881135162914, 0.8356881135162914, 0.8356881135162914, 0.8356881135162914, 0.8356881135162914, 0.8356881135162914, 0.8356881135162914, 0.8356881135162914, 0.8356881135162914, 0.8356881135162914, 0.8356881135162914, 0.8356881135162914, 0.8356881135162914, 0.8442910304613135, 0.8442910304613135]}], \"average_precision_score_micro\": [{\"categories\": [\"0\", \"1\", \"2\", \"3\", \"4\", \"5\", \"6\", \"7\", \"8\", \"9\", \"10\", \"11\", \"12\", \"13\", \"14\", \"15\", \"16\", \"17\", \"18\", \"19\", \"20\", \"21\", \"22\", \"23\", \"24\", \"25\", \"26\", \"27\", \"28\", \"29\", \"30\", \"31\", \"32\", \"33\", \"34\", \"35\", \"36\", \"37\", \"38\", \"39\"], \"mode\": \"markers\", \"name\": \"average_precision_score_micro\", \"stepped\": false, \"type\": \"scatter\", \"data\": [0.863666599473822, 0.876507107561335, 0.8521978267716621, 0.8456746967569293, 0.856684983553088, 0.8639571245016028, 0.8544341695101426, 0.8310779917369736, 0.8453685196018138, 0.8501875129850879, 0.8640365110162436, 0.849863258157073, 0.833039511244691, 0.8523355390299675, 0.8570429308329525, 0.8553399863125083, 0.8616091636828278, 0.866772039683712, 0.8601581851654657, 0.8598634988901855, 0.8448893946573574, 0.8497278916396843, 0.8274244216045327, 0.8067498780049086, 0.8584548056912281, 0.7636178675984517, 0.8457205956130727, 0.8436606876276481, 0.8364391220054911, 0.8421025333836406, 0.7702349737455899, 0.8580763138203501, 0.8612327497971247, 0.8577330041219903, 0.8481080489122869, 0.8467003912244175, 0.8312538405704845, 0.8441229655277221, 0.8725690667760623, 0.8711801929556019]}, {\"categories\": [\"0\", \"1\", \"2\", \"3\", \"4\", \"5\", \"6\", \"7\", \"8\", \"9\", \"10\", \"11\", \"12\", \"13\", \"14\", \"15\", \"16\", \"17\", \"18\", \"19\", \"20\", \"21\", \"22\", \"23\", \"24\", \"25\", \"26\", \"27\", \"28\", \"29\", \"30\", \"31\", \"32\", \"33\", \"34\", \"35\", \"36\", \"37\", \"38\", \"39\"], \"mode\": \"lines\", \"name\": \"average_precision_score_micro_max\", \"stepped\": true, \"type\": \"scatter\", \"data\": [0.863666599473822, 0.876507107561335, 0.876507107561335, 0.876507107561335, 0.876507107561335, 0.876507107561335, 0.876507107561335, 0.876507107561335, 0.876507107561335, 0.876507107561335, 0.876507107561335, 0.876507107561335, 0.876507107561335, 0.876507107561335, 0.876507107561335, 0.876507107561335, 0.876507107561335, 0.876507107561335, 0.876507107561335, 0.876507107561335, 0.876507107561335, 0.876507107561335, 0.876507107561335, 0.876507107561335, 0.876507107561335, 0.876507107561335, 0.876507107561335, 0.876507107561335, 0.876507107561335, 0.876507107561335, 0.876507107561335, 0.876507107561335, 0.876507107561335, 0.876507107561335, 0.876507107561335, 0.876507107561335, 0.876507107561335, 0.876507107561335, 0.876507107561335, 0.876507107561335]}], \"average_precision_score_macro\": [{\"categories\": [\"0\", \"1\", \"2\", \"3\", \"4\", \"5\", \"6\", \"7\", \"8\", \"9\", \"10\", \"11\", \"12\", \"13\", \"14\", \"15\", \"16\", \"17\", \"18\", \"19\", \"20\", \"21\", \"22\", \"23\", \"24\", \"25\", \"26\", \"27\", \"28\", \"29\", \"30\", \"31\", \"32\", \"33\", \"34\", \"35\", \"36\", \"37\", \"38\", \"39\"], \"mode\": \"markers\", \"name\": \"average_precision_score_macro\", \"stepped\": false, \"type\": \"scatter\", \"data\": [0.8498630991374253, 0.8626483091697338, 0.8402873659757643, 0.8346563040905574, 0.8444108009414052, 0.8486665790778257, 0.840403067338202, 0.8096013468381836, 0.8298997404961274, 0.8348950394308008, 0.851266430695734, 0.8429825464122075, 0.8326333608199065, 0.843430459446806, 0.8441071064096729, 0.8471231744321431, 0.8456328602090575, 0.8550474348722226, 0.8461131453340421, 0.8437185585952918, 0.8331816095915473, 0.8345257062756536, 0.8316810115105376, 0.7915324193092919, 0.8453501102791977, 0.8035405716785226, 0.8339378558646718, 0.8500733197029472, 0.8369216556533409, 0.8423185853919524, 0.8111811230326116, 0.8420060889642258, 0.8483650736985232, 0.8422518260500551, 0.8407294125431646, 0.8354369874761383, 0.8240620548862272, 0.839269298562773, 0.859445015083502, 0.861354326798876]}, {\"categories\": [\"0\", \"1\", \"2\", \"3\", \"4\", \"5\", \"6\", \"7\", \"8\", \"9\", \"10\", \"11\", \"12\", \"13\", \"14\", \"15\", \"16\", \"17\", \"18\", \"19\", \"20\", \"21\", \"22\", \"23\", \"24\", \"25\", \"26\", \"27\", \"28\", \"29\", \"30\", \"31\", \"32\", \"33\", \"34\", \"35\", \"36\", \"37\", \"38\", \"39\"], \"mode\": \"lines\", \"name\": \"average_precision_score_macro_max\", \"stepped\": true, \"type\": \"scatter\", \"data\": [0.8498630991374253, 0.8626483091697338, 0.8626483091697338, 0.8626483091697338, 0.8626483091697338, 0.8626483091697338, 0.8626483091697338, 0.8626483091697338, 0.8626483091697338, 0.8626483091697338, 0.8626483091697338, 0.8626483091697338, 0.8626483091697338, 0.8626483091697338, 0.8626483091697338, 0.8626483091697338, 0.8626483091697338, 0.8626483091697338, 0.8626483091697338, 0.8626483091697338, 0.8626483091697338, 0.8626483091697338, 0.8626483091697338, 0.8626483091697338, 0.8626483091697338, 0.8626483091697338, 0.8626483091697338, 0.8626483091697338, 0.8626483091697338, 0.8626483091697338, 0.8626483091697338, 0.8626483091697338, 0.8626483091697338, 0.8626483091697338, 0.8626483091697338, 0.8626483091697338, 0.8626483091697338, 0.8626483091697338, 0.8626483091697338, 0.8626483091697338]}], \"precision_score_macro\": [{\"categories\": [\"0\", \"1\", \"2\", \"3\", \"4\", \"5\", \"6\", \"7\", \"8\", \"9\", \"10\", \"11\", \"12\", \"13\", \"14\", \"15\", \"16\", \"17\", \"18\", \"19\", \"20\", \"21\", \"22\", \"23\", \"24\", \"25\", \"26\", \"27\", \"28\", \"29\", \"30\", \"31\", \"32\", \"33\", \"34\", \"35\", \"36\", \"37\", \"38\", \"39\"], \"mode\": \"markers\", \"name\": \"precision_score_macro\", \"stepped\": false, \"type\": \"scatter\", \"data\": [0.7778292651817117, 0.8073870581234374, 0.7910291010273914, 0.7761544107674755, 0.7818190651364773, 0.8065780965903784, 0.7879923969155539, 0.7994052369503368, 0.7780006751995665, 0.7769572520049085, 0.786021520976055, 0.7991022343138289, 0.7801963557244432, 0.7893057236865751, 0.8034783110608026, 0.8104692443118108, 0.8042259643744128, 0.7970674669349159, 0.7880490957616093, 0.7900120299015718, 0.8058777846696475, 0.8004108151929156, 0.8172564346318504, 0.7670719803535638, 0.7943755312683504, 0.3089780324737345, 0.7760937519777699, 0.8064076388188778, 0.7861083337292062, 0.7946899718966373, 0.3089780324737345, 0.7968902557378397, 0.8015680659155106, 0.7907682450536874, 0.7889368567466347, 0.7986191191852005, 0.7439042428359214, 0.7582548074444971, 0.8202960611647091, 0.8137343185199714]}, {\"categories\": [\"0\", \"1\", \"2\", \"3\", \"4\", \"5\", \"6\", \"7\", \"8\", \"9\", \"10\", \"11\", \"12\", \"13\", \"14\", \"15\", \"16\", \"17\", \"18\", \"19\", \"20\", \"21\", \"22\", \"23\", \"24\", \"25\", \"26\", \"27\", \"28\", \"29\", \"30\", \"31\", \"32\", \"33\", \"34\", \"35\", \"36\", \"37\", \"38\", \"39\"], \"mode\": \"lines\", \"name\": \"precision_score_macro_max\", \"stepped\": true, \"type\": \"scatter\", \"data\": [0.7778292651817117, 0.8073870581234374, 0.8073870581234374, 0.8073870581234374, 0.8073870581234374, 0.8073870581234374, 0.8073870581234374, 0.8073870581234374, 0.8073870581234374, 0.8073870581234374, 0.8073870581234374, 0.8073870581234374, 0.8073870581234374, 0.8073870581234374, 0.8073870581234374, 0.8104692443118108, 0.8104692443118108, 0.8104692443118108, 0.8104692443118108, 0.8104692443118108, 0.8104692443118108, 0.8104692443118108, 0.8172564346318504, 0.8172564346318504, 0.8172564346318504, 0.8172564346318504, 0.8172564346318504, 0.8172564346318504, 0.8172564346318504, 0.8172564346318504, 0.8172564346318504, 0.8172564346318504, 0.8172564346318504, 0.8172564346318504, 0.8172564346318504, 0.8172564346318504, 0.8172564346318504, 0.8172564346318504, 0.8202960611647091, 0.8202960611647091]}], \"recall_score_weighted\": [{\"categories\": [\"0\", \"1\", \"2\", \"3\", \"4\", \"5\", \"6\", \"7\", \"8\", \"9\", \"10\", \"11\", \"12\", \"13\", \"14\", \"15\", \"16\", \"17\", \"18\", \"19\", \"20\", \"21\", \"22\", \"23\", \"24\", \"25\", \"26\", \"27\", \"28\", \"29\", \"30\", \"31\", \"32\", \"33\", \"34\", \"35\", \"36\", \"37\", \"38\", \"39\"], \"mode\": \"markers\", \"name\": \"recall_score_weighted\", \"stepped\": false, \"type\": \"scatter\", \"data\": [0.7879656160458453, 0.8080229226361032, 0.7984718242597899, 0.787010506208214, 0.7917860553963706, 0.8099331423113658, 0.7946513849092646, 0.7984718242597899, 0.7860553963705826, 0.7851002865329514, 0.7956064947468958, 0.8032473734479465, 0.7908309455587391, 0.7965616045845273, 0.801337153772684, 0.8070678127984717, 0.8061127029608404, 0.8042024832855779, 0.7994269340974212, 0.7936962750716332, 0.792741165234002, 0.7898758357211079, 0.7889207258834766, 0.7793696275071632, 0.7956064947468958, 0.617956064947469, 0.778414517669532, 0.7860553963705826, 0.7870105062082139, 0.7917860553963706, 0.617956064947469, 0.802292263610315, 0.8042024832855779, 0.7965616045845273, 0.7946513849092646, 0.8032473734479465, 0.7497612225405922, 0.7688634192932188, 0.8194842406876791, 0.8108882521489971]}, {\"categories\": [\"0\", \"1\", \"2\", \"3\", \"4\", \"5\", \"6\", \"7\", \"8\", \"9\", \"10\", \"11\", \"12\", \"13\", \"14\", \"15\", \"16\", \"17\", \"18\", \"19\", \"20\", \"21\", \"22\", \"23\", \"24\", \"25\", \"26\", \"27\", \"28\", \"29\", \"30\", \"31\", \"32\", \"33\", \"34\", \"35\", \"36\", \"37\", \"38\", \"39\"], \"mode\": \"lines\", \"name\": \"recall_score_weighted_max\", \"stepped\": true, \"type\": \"scatter\", \"data\": [0.7879656160458453, 0.8080229226361032, 0.8080229226361032, 0.8080229226361032, 0.8080229226361032, 0.8099331423113658, 0.8099331423113658, 0.8099331423113658, 0.8099331423113658, 0.8099331423113658, 0.8099331423113658, 0.8099331423113658, 0.8099331423113658, 0.8099331423113658, 0.8099331423113658, 0.8099331423113658, 0.8099331423113658, 0.8099331423113658, 0.8099331423113658, 0.8099331423113658, 0.8099331423113658, 0.8099331423113658, 0.8099331423113658, 0.8099331423113658, 0.8099331423113658, 0.8099331423113658, 0.8099331423113658, 0.8099331423113658, 0.8099331423113658, 0.8099331423113658, 0.8099331423113658, 0.8099331423113658, 0.8099331423113658, 0.8099331423113658, 0.8099331423113658, 0.8099331423113658, 0.8099331423113658, 0.8099331423113658, 0.8194842406876791, 0.8194842406876791]}], \"precision_score_micro\": [{\"categories\": [\"0\", \"1\", \"2\", \"3\", \"4\", \"5\", \"6\", \"7\", \"8\", \"9\", \"10\", \"11\", \"12\", \"13\", \"14\", \"15\", \"16\", \"17\", \"18\", \"19\", \"20\", \"21\", \"22\", \"23\", \"24\", \"25\", \"26\", \"27\", \"28\", \"29\", \"30\", \"31\", \"32\", \"33\", \"34\", \"35\", \"36\", \"37\", \"38\", \"39\"], \"mode\": \"markers\", \"name\": \"precision_score_micro\", \"stepped\": false, \"type\": \"scatter\", \"data\": [0.7879656160458453, 0.8080229226361032, 0.7984718242597899, 0.787010506208214, 0.7917860553963706, 0.8099331423113658, 0.7946513849092646, 0.7984718242597899, 0.7860553963705826, 0.7851002865329514, 0.7956064947468958, 0.8032473734479465, 0.7908309455587391, 0.7965616045845273, 0.801337153772684, 0.8070678127984717, 0.8061127029608404, 0.8042024832855779, 0.7994269340974212, 0.7936962750716332, 0.792741165234002, 0.7898758357211079, 0.7889207258834766, 0.7793696275071632, 0.7956064947468958, 0.617956064947469, 0.778414517669532, 0.7860553963705826, 0.7870105062082139, 0.7917860553963706, 0.617956064947469, 0.802292263610315, 0.8042024832855779, 0.7965616045845273, 0.7946513849092646, 0.8032473734479465, 0.7497612225405922, 0.7688634192932188, 0.8194842406876791, 0.8108882521489971]}, {\"categories\": [\"0\", \"1\", \"2\", \"3\", \"4\", \"5\", \"6\", \"7\", \"8\", \"9\", \"10\", \"11\", \"12\", \"13\", \"14\", \"15\", \"16\", \"17\", \"18\", \"19\", \"20\", \"21\", \"22\", \"23\", \"24\", \"25\", \"26\", \"27\", \"28\", \"29\", \"30\", \"31\", \"32\", \"33\", \"34\", \"35\", \"36\", \"37\", \"38\", \"39\"], \"mode\": \"lines\", \"name\": \"precision_score_micro_max\", \"stepped\": true, \"type\": \"scatter\", \"data\": [0.7879656160458453, 0.8080229226361032, 0.8080229226361032, 0.8080229226361032, 0.8080229226361032, 0.8099331423113658, 0.8099331423113658, 0.8099331423113658, 0.8099331423113658, 0.8099331423113658, 0.8099331423113658, 0.8099331423113658, 0.8099331423113658, 0.8099331423113658, 0.8099331423113658, 0.8099331423113658, 0.8099331423113658, 0.8099331423113658, 0.8099331423113658, 0.8099331423113658, 0.8099331423113658, 0.8099331423113658, 0.8099331423113658, 0.8099331423113658, 0.8099331423113658, 0.8099331423113658, 0.8099331423113658, 0.8099331423113658, 0.8099331423113658, 0.8099331423113658, 0.8099331423113658, 0.8099331423113658, 0.8099331423113658, 0.8099331423113658, 0.8099331423113658, 0.8099331423113658, 0.8099331423113658, 0.8099331423113658, 0.8194842406876791, 0.8194842406876791]}], \"norm_macro_recall\": [{\"categories\": [\"0\", \"1\", \"2\", \"3\", \"4\", \"5\", \"6\", \"7\", \"8\", \"9\", \"10\", \"11\", \"12\", \"13\", \"14\", \"15\", \"16\", \"17\", \"18\", \"19\", \"20\", \"21\", \"22\", \"23\", \"24\", \"25\", \"26\", \"27\", \"28\", \"29\", \"30\", \"31\", \"32\", \"33\", \"34\", \"35\", \"36\", \"37\", \"38\", \"39\"], \"mode\": \"markers\", \"name\": \"norm_macro_recall\", \"stepped\": false, \"type\": \"scatter\", \"data\": [0.5327753463109004, 0.5605241314855711, 0.5556129734481524, 0.5423428398734567, 0.5628996529265896, 0.5667803791334282, 0.5420459913172263, 0.5334982907469599, 0.5201715017129588, 0.5239868804343714, 0.5542054689108596, 0.5542279888296057, 0.5541668098691961, 0.5504604002223509, 0.5440264639303987, 0.5500645783757806, 0.5593592197615599, 0.5684442815220391, 0.5727837485637249, 0.5307458427697812, 0.5249830385997102, 0.5152244715331524, 0.47898122226168205, 0.5245927782054255, 0.5422023987282786, 0.0, 0.505478525766536, 0.47913941696768214, 0.5227504337850282, 0.5186333891316289, 0.0, 0.5549255474844271, 0.5567404763286323, 0.5404504360987997, 0.5487709054620397, 0.5568888186519766, 0.5099771010612645, 0.5366152261953464, 0.58341837777514, 0.5613409641369084]}, {\"categories\": [\"0\", \"1\", \"2\", \"3\", \"4\", \"5\", \"6\", \"7\", \"8\", \"9\", \"10\", \"11\", \"12\", \"13\", \"14\", \"15\", \"16\", \"17\", \"18\", \"19\", \"20\", \"21\", \"22\", \"23\", \"24\", \"25\", \"26\", \"27\", \"28\", \"29\", \"30\", \"31\", \"32\", \"33\", \"34\", \"35\", \"36\", \"37\", \"38\", \"39\"], \"mode\": \"lines\", \"name\": \"norm_macro_recall_max\", \"stepped\": true, \"type\": \"scatter\", \"data\": [0.5327753463109004, 0.5605241314855711, 0.5605241314855711, 0.5605241314855711, 0.5628996529265896, 0.5667803791334282, 0.5667803791334282, 0.5667803791334282, 0.5667803791334282, 0.5667803791334282, 0.5667803791334282, 0.5667803791334282, 0.5667803791334282, 0.5667803791334282, 0.5667803791334282, 0.5667803791334282, 0.5667803791334282, 0.5684442815220391, 0.5727837485637249, 0.5727837485637249, 0.5727837485637249, 0.5727837485637249, 0.5727837485637249, 0.5727837485637249, 0.5727837485637249, 0.5727837485637249, 0.5727837485637249, 0.5727837485637249, 0.5727837485637249, 0.5727837485637249, 0.5727837485637249, 0.5727837485637249, 0.5727837485637249, 0.5727837485637249, 0.5727837485637249, 0.5727837485637249, 0.5727837485637249, 0.5727837485637249, 0.58341837777514, 0.58341837777514]}], \"f1_score_weighted\": [{\"categories\": [\"0\", \"1\", \"2\", \"3\", \"4\", \"5\", \"6\", \"7\", \"8\", \"9\", \"10\", \"11\", \"12\", \"13\", \"14\", \"15\", \"16\", \"17\", \"18\", \"19\", \"20\", \"21\", \"22\", \"23\", \"24\", \"25\", \"26\", \"27\", \"28\", \"29\", \"30\", \"31\", \"32\", \"33\", \"34\", \"35\", \"36\", \"37\", \"38\", \"39\"], \"mode\": \"markers\", \"name\": \"f1_score_weighted\", \"stepped\": false, \"type\": \"scatter\", \"data\": [0.7854079241439006, 0.8038003129381203, 0.7965077391544398, 0.7861482140943119, 0.7920775289751063, 0.8061561208274645, 0.7916842875570033, 0.7927914047697359, 0.7824183988507655, 0.7822623959975598, 0.794140070336748, 0.7995214231036281, 0.790466621085876, 0.7942988466844914, 0.7962684036660441, 0.8014603509866841, 0.8023510188925366, 0.8023693448577355, 0.7992445719750311, 0.7890696757582135, 0.7866690996228604, 0.783410425967379, 0.7745311300188812, 0.7783252173609765, 0.7918300083060723, 0.47206642512681, 0.7740913318631796, 0.7734886460336935, 0.7831801722478011, 0.7856575635670661, 0.47206642512681, 0.7991143278973771, 0.8004138409602238, 0.7928724601682972, 0.7926365775379897, 0.7995095497671745, 0.7525961050797715, 0.7711579304556873, 0.8153283965642727, 0.8059791679256799]}, {\"categories\": [\"0\", \"1\", \"2\", \"3\", \"4\", \"5\", \"6\", \"7\", \"8\", \"9\", \"10\", \"11\", \"12\", \"13\", \"14\", \"15\", \"16\", \"17\", \"18\", \"19\", \"20\", \"21\", \"22\", \"23\", \"24\", \"25\", \"26\", \"27\", \"28\", \"29\", \"30\", \"31\", \"32\", \"33\", \"34\", \"35\", \"36\", \"37\", \"38\", \"39\"], \"mode\": \"lines\", \"name\": \"f1_score_weighted_max\", \"stepped\": true, \"type\": \"scatter\", \"data\": [0.7854079241439006, 0.8038003129381203, 0.8038003129381203, 0.8038003129381203, 0.8038003129381203, 0.8061561208274645, 0.8061561208274645, 0.8061561208274645, 0.8061561208274645, 0.8061561208274645, 0.8061561208274645, 0.8061561208274645, 0.8061561208274645, 0.8061561208274645, 0.8061561208274645, 0.8061561208274645, 0.8061561208274645, 0.8061561208274645, 0.8061561208274645, 0.8061561208274645, 0.8061561208274645, 0.8061561208274645, 0.8061561208274645, 0.8061561208274645, 0.8061561208274645, 0.8061561208274645, 0.8061561208274645, 0.8061561208274645, 0.8061561208274645, 0.8061561208274645, 0.8061561208274645, 0.8061561208274645, 0.8061561208274645, 0.8061561208274645, 0.8061561208274645, 0.8061561208274645, 0.8061561208274645, 0.8061561208274645, 0.8153283965642727, 0.8153283965642727]}], \"AUC_micro\": [{\"categories\": [\"0\", \"1\", \"2\", \"3\", \"4\", \"5\", \"6\", \"7\", \"8\", \"9\", \"10\", \"11\", \"12\", \"13\", \"14\", \"15\", \"16\", \"17\", \"18\", \"19\", \"20\", \"21\", \"22\", \"23\", \"24\", \"25\", \"26\", \"27\", \"28\", \"29\", \"30\", \"31\", \"32\", \"33\", \"34\", \"35\", \"36\", \"37\", \"38\", \"39\"], \"mode\": \"markers\", \"name\": \"AUC_micro\", \"stepped\": false, \"type\": \"scatter\", \"data\": [0.8704444134284612, 0.885578388792648, 0.867001639285939, 0.8566267928834739, 0.8662079950082512, 0.8719194971031984, 0.8686217682941848, 0.8478912324200952, 0.8570701389972166, 0.8605594371146378, 0.8712626880458014, 0.8670837404181139, 0.8546454188936599, 0.8677432861799165, 0.8686573454514604, 0.8683070472875154, 0.871911286989981, 0.8758658248563913, 0.8682495764949932, 0.8683617813756319, 0.8639885277351308, 0.8626420691674671, 0.8494949412019058, 0.8333292282767246, 0.8676693951609593, 0.7613237986551834, 0.8578391529352524, 0.8542540701636275, 0.8538873517732476, 0.8625189174692052, 0.7692876084761209, 0.8702720010508944, 0.8729539713685984, 0.8685396671620103, 0.8608686847124956, 0.8636135992315334, 0.841610495808737, 0.8505732027377991, 0.8807918927868682, 0.8809861987996813]}, {\"categories\": [\"0\", \"1\", \"2\", \"3\", \"4\", \"5\", \"6\", \"7\", \"8\", \"9\", \"10\", \"11\", \"12\", \"13\", \"14\", \"15\", \"16\", \"17\", \"18\", \"19\", \"20\", \"21\", \"22\", \"23\", \"24\", \"25\", \"26\", \"27\", \"28\", \"29\", \"30\", \"31\", \"32\", \"33\", \"34\", \"35\", \"36\", \"37\", \"38\", \"39\"], \"mode\": \"lines\", \"name\": \"AUC_micro_max\", \"stepped\": true, \"type\": \"scatter\", \"data\": [0.8704444134284612, 0.885578388792648, 0.885578388792648, 0.885578388792648, 0.885578388792648, 0.885578388792648, 0.885578388792648, 0.885578388792648, 0.885578388792648, 0.885578388792648, 0.885578388792648, 0.885578388792648, 0.885578388792648, 0.885578388792648, 0.885578388792648, 0.885578388792648, 0.885578388792648, 0.885578388792648, 0.885578388792648, 0.885578388792648, 0.885578388792648, 0.885578388792648, 0.885578388792648, 0.885578388792648, 0.885578388792648, 0.885578388792648, 0.885578388792648, 0.885578388792648, 0.885578388792648, 0.885578388792648, 0.885578388792648, 0.885578388792648, 0.885578388792648, 0.885578388792648, 0.885578388792648, 0.885578388792648, 0.885578388792648, 0.885578388792648, 0.885578388792648, 0.885578388792648]}], \"AUC_weighted\": [{\"categories\": [\"0\", \"1\", \"2\", \"3\", \"4\", \"5\", \"6\", \"7\", \"8\", \"9\", \"10\", \"11\", \"12\", \"13\", \"14\", \"15\", \"16\", \"17\", \"18\", \"19\", \"20\", \"21\", \"22\", \"23\", \"24\", \"25\", \"26\", \"27\", \"28\", \"29\", \"30\", \"31\", \"32\", \"33\", \"34\", \"35\", \"36\", \"37\", \"38\", \"39\"], \"mode\": \"markers\", \"name\": \"AUC_weighted\", \"stepped\": false, \"type\": \"scatter\", \"data\": [0.8536678514349533, 0.8678531479143805, 0.8464062327069573, 0.8380061844352076, 0.8521416509092923, 0.8495574648727736, 0.8473560539751736, 0.8158436632084248, 0.8365041651068185, 0.8422872289487172, 0.8536018507196556, 0.8473255177069969, 0.8391083507596835, 0.8486052430453843, 0.8489835619291459, 0.8502472881094292, 0.8496358032024145, 0.8570316963081416, 0.849638684787882, 0.8483418582012002, 0.8421532351407791, 0.8388963132968655, 0.8391855585106726, 0.8187637752131042, 0.8494865006832256, 0.8036205794456454, 0.838138722473417, 0.8533681883258893, 0.8399794476188355, 0.8500402285928571, 0.8204813582197584, 0.8484391400781485, 0.854179156830798, 0.8474346167493686, 0.8398988083958896, 0.8410903651905534, 0.8335670159566563, 0.8400968770366708, 0.862007101503762, 0.8652871367550482]}, {\"categories\": [\"0\", \"1\", \"2\", \"3\", \"4\", \"5\", \"6\", \"7\", \"8\", \"9\", \"10\", \"11\", \"12\", \"13\", \"14\", \"15\", \"16\", \"17\", \"18\", \"19\", \"20\", \"21\", \"22\", \"23\", \"24\", \"25\", \"26\", \"27\", \"28\", \"29\", \"30\", \"31\", \"32\", \"33\", \"34\", \"35\", \"36\", \"37\", \"38\", \"39\"], \"mode\": \"lines\", \"name\": \"AUC_weighted_max\", \"stepped\": true, \"type\": \"scatter\", \"data\": [0.8536678514349533, 0.8678531479143805, 0.8678531479143805, 0.8678531479143805, 0.8678531479143805, 0.8678531479143805, 0.8678531479143805, 0.8678531479143805, 0.8678531479143805, 0.8678531479143805, 0.8678531479143805, 0.8678531479143805, 0.8678531479143805, 0.8678531479143805, 0.8678531479143805, 0.8678531479143805, 0.8678531479143805, 0.8678531479143805, 0.8678531479143805, 0.8678531479143805, 0.8678531479143805, 0.8678531479143805, 0.8678531479143805, 0.8678531479143805, 0.8678531479143805, 0.8678531479143805, 0.8678531479143805, 0.8678531479143805, 0.8678531479143805, 0.8678531479143805, 0.8678531479143805, 0.8678531479143805, 0.8678531479143805, 0.8678531479143805, 0.8678531479143805, 0.8678531479143805, 0.8678531479143805, 0.8678531479143805, 0.8678531479143805, 0.8678531479143805]}], \"matthews_correlation\": [{\"categories\": [\"0\", \"1\", \"2\", \"3\", \"4\", \"5\", \"6\", \"7\", \"8\", \"9\", \"10\", \"11\", \"12\", \"13\", \"14\", \"15\", \"16\", \"17\", \"18\", \"19\", \"20\", \"21\", \"22\", \"23\", \"24\", \"25\", \"26\", \"27\", \"28\", \"29\", \"30\", \"31\", \"32\", \"33\", \"34\", \"35\", \"36\", \"37\", \"38\", \"39\"], \"mode\": \"markers\", \"name\": \"matthews_correlation\", \"stepped\": false, \"type\": \"scatter\", \"data\": [0.5440028669916473, 0.5869092880764009, 0.568615958088995, 0.5472211392414285, 0.5631911739555661, 0.589485979037895, 0.5586178778967855, 0.5650873832141136, 0.5377200579784969, 0.5386016069866116, 0.5629906218967939, 0.5757108935575345, 0.557192024517618, 0.5642620987606107, 0.5742606074927329, 0.584324162237538, 0.5832718642423251, 0.5810758071445254, 0.5744182732482724, 0.5546133619000351, 0.5656881510716446, 0.5555642167080479, 0.5508979300563356, 0.5293007911766195, 0.5644937657972281, 0.0, 0.5278510505666204, 0.5416448383419379, 0.546526136786481, 0.552497635894484, 0.0, 0.5740058690231231, 0.5792359994032324, 0.5605890449842912, 0.5629611407144552, 0.5764551485881362, 0.49875717731474917, 0.5264595888115261, 0.6112567736316562, 0.5933838360264815]}, {\"categories\": [\"0\", \"1\", \"2\", \"3\", \"4\", \"5\", \"6\", \"7\", \"8\", \"9\", \"10\", \"11\", \"12\", \"13\", \"14\", \"15\", \"16\", \"17\", \"18\", \"19\", \"20\", \"21\", \"22\", \"23\", \"24\", \"25\", \"26\", \"27\", \"28\", \"29\", \"30\", \"31\", \"32\", \"33\", \"34\", \"35\", \"36\", \"37\", \"38\", \"39\"], \"mode\": \"lines\", \"name\": \"matthews_correlation_max\", \"stepped\": true, \"type\": \"scatter\", \"data\": [0.5440028669916473, 0.5869092880764009, 0.5869092880764009, 0.5869092880764009, 0.5869092880764009, 0.589485979037895, 0.589485979037895, 0.589485979037895, 0.589485979037895, 0.589485979037895, 0.589485979037895, 0.589485979037895, 0.589485979037895, 0.589485979037895, 0.589485979037895, 0.589485979037895, 0.589485979037895, 0.589485979037895, 0.589485979037895, 0.589485979037895, 0.589485979037895, 0.589485979037895, 0.589485979037895, 0.589485979037895, 0.589485979037895, 0.589485979037895, 0.589485979037895, 0.589485979037895, 0.589485979037895, 0.589485979037895, 0.589485979037895, 0.589485979037895, 0.589485979037895, 0.589485979037895, 0.589485979037895, 0.589485979037895, 0.589485979037895, 0.589485979037895, 0.6112567736316562, 0.6112567736316562]}], \"log_loss\": [{\"categories\": [\"0\", \"1\", \"2\", \"3\", \"4\", \"5\", \"6\", \"7\", \"8\", \"9\", \"10\", \"11\", \"12\", \"13\", \"14\", \"15\", \"16\", \"17\", \"18\", \"19\", \"20\", \"21\", \"22\", \"23\", \"24\", \"25\", \"26\", \"27\", \"28\", \"29\", \"30\", \"31\", \"32\", \"33\", \"34\", \"35\", \"36\", \"37\", \"38\", \"39\"], \"mode\": \"markers\", \"name\": \"log_loss\", \"stepped\": false, \"type\": \"scatter\", \"data\": [0.4998363352915116, 0.4311231554949873, 0.4571463791933876, 0.4748416236112137, 0.4615381861496175, 0.449436641229434, 0.4558019889879712, 0.4808586570732345, 0.4770386595004256, 0.4966055440968242, 0.4708990685992334, 0.45597199127189136, 0.47843831144528814, 0.4597965660685808, 0.4525888011466377, 0.46741145969774633, 0.44920442372562414, 0.44477360032935714, 0.4577627565448284, 0.45720993767149465, 0.46092271952411284, 0.46345411117758584, 0.514293483539782, 2.054321884729623, 0.4554226227356397, 0.6383541136110732, 0.47540106453681236, 0.5178806760600965, 0.48903901638418096, 0.4840154458680601, 0.6203971313261035, 0.4510934639262407, 0.45217079075710737, 0.459105752275265, 0.47072149764238785, 0.4619851356234827, 0.5120715935247829, 0.4993320387683271, 0.4367194848491343, 0.453234860160253]}, {\"categories\": [\"0\", \"1\", \"2\", \"3\", \"4\", \"5\", \"6\", \"7\", \"8\", \"9\", \"10\", \"11\", \"12\", \"13\", \"14\", \"15\", \"16\", \"17\", \"18\", \"19\", \"20\", \"21\", \"22\", \"23\", \"24\", \"25\", \"26\", \"27\", \"28\", \"29\", \"30\", \"31\", \"32\", \"33\", \"34\", \"35\", \"36\", \"37\", \"38\", \"39\"], \"mode\": \"lines\", \"name\": \"log_loss_min\", \"stepped\": true, \"type\": \"scatter\", \"data\": [0.4998363352915116, 0.4311231554949873, 0.4311231554949873, 0.4311231554949873, 0.4311231554949873, 0.4311231554949873, 0.4311231554949873, 0.4311231554949873, 0.4311231554949873, 0.4311231554949873, 0.4311231554949873, 0.4311231554949873, 0.4311231554949873, 0.4311231554949873, 0.4311231554949873, 0.4311231554949873, 0.4311231554949873, 0.4311231554949873, 0.4311231554949873, 0.4311231554949873, 0.4311231554949873, 0.4311231554949873, 0.4311231554949873, 0.4311231554949873, 0.4311231554949873, 0.4311231554949873, 0.4311231554949873, 0.4311231554949873, 0.4311231554949873, 0.4311231554949873, 0.4311231554949873, 0.4311231554949873, 0.4311231554949873, 0.4311231554949873, 0.4311231554949873, 0.4311231554949873, 0.4311231554949873, 0.4311231554949873, 0.4311231554949873, 0.4311231554949873]}], \"accuracy\": [{\"categories\": [\"0\", \"1\", \"2\", \"3\", \"4\", \"5\", \"6\", \"7\", \"8\", \"9\", \"10\", \"11\", \"12\", \"13\", \"14\", \"15\", \"16\", \"17\", \"18\", \"19\", \"20\", \"21\", \"22\", \"23\", \"24\", \"25\", \"26\", \"27\", \"28\", \"29\", \"30\", \"31\", \"32\", \"33\", \"34\", \"35\", \"36\", \"37\", \"38\", \"39\"], \"mode\": \"markers\", \"name\": \"accuracy\", \"stepped\": false, \"type\": \"scatter\", \"data\": [0.7879656160458453, 0.8080229226361032, 0.7984718242597899, 0.787010506208214, 0.7917860553963706, 0.8099331423113658, 0.7946513849092646, 0.7984718242597899, 0.7860553963705826, 0.7851002865329514, 0.7956064947468958, 0.8032473734479465, 0.7908309455587391, 0.7965616045845273, 0.801337153772684, 0.8070678127984717, 0.8061127029608404, 0.8042024832855779, 0.7994269340974212, 0.7936962750716332, 0.792741165234002, 0.7898758357211079, 0.7889207258834766, 0.7793696275071632, 0.7956064947468958, 0.617956064947469, 0.778414517669532, 0.7860553963705826, 0.7870105062082139, 0.7917860553963706, 0.617956064947469, 0.802292263610315, 0.8042024832855779, 0.7965616045845273, 0.7946513849092646, 0.8032473734479465, 0.7497612225405922, 0.7688634192932188, 0.8194842406876791, 0.8108882521489971]}, {\"categories\": [\"0\", \"1\", \"2\", \"3\", \"4\", \"5\", \"6\", \"7\", \"8\", \"9\", \"10\", \"11\", \"12\", \"13\", \"14\", \"15\", \"16\", \"17\", \"18\", \"19\", \"20\", \"21\", \"22\", \"23\", \"24\", \"25\", \"26\", \"27\", \"28\", \"29\", \"30\", \"31\", \"32\", \"33\", \"34\", \"35\", \"36\", \"37\", \"38\", \"39\"], \"mode\": \"lines\", \"name\": \"accuracy_max\", \"stepped\": true, \"type\": \"scatter\", \"data\": [0.7879656160458453, 0.8080229226361032, 0.8080229226361032, 0.8080229226361032, 0.8080229226361032, 0.8099331423113658, 0.8099331423113658, 0.8099331423113658, 0.8099331423113658, 0.8099331423113658, 0.8099331423113658, 0.8099331423113658, 0.8099331423113658, 0.8099331423113658, 0.8099331423113658, 0.8099331423113658, 0.8099331423113658, 0.8099331423113658, 0.8099331423113658, 0.8099331423113658, 0.8099331423113658, 0.8099331423113658, 0.8099331423113658, 0.8099331423113658, 0.8099331423113658, 0.8099331423113658, 0.8099331423113658, 0.8099331423113658, 0.8099331423113658, 0.8099331423113658, 0.8099331423113658, 0.8099331423113658, 0.8099331423113658, 0.8099331423113658, 0.8099331423113658, 0.8099331423113658, 0.8099331423113658, 0.8099331423113658, 0.8194842406876791, 0.8194842406876791]}], \"f1_score_micro\": [{\"categories\": [\"0\", \"1\", \"2\", \"3\", \"4\", \"5\", \"6\", \"7\", \"8\", \"9\", \"10\", \"11\", \"12\", \"13\", \"14\", \"15\", \"16\", \"17\", \"18\", \"19\", \"20\", \"21\", \"22\", \"23\", \"24\", \"25\", \"26\", \"27\", \"28\", \"29\", \"30\", \"31\", \"32\", \"33\", \"34\", \"35\", \"36\", \"37\", \"38\", \"39\"], \"mode\": \"markers\", \"name\": \"f1_score_micro\", \"stepped\": false, \"type\": \"scatter\", \"data\": [0.7879656160458453, 0.8080229226361032, 0.7984718242597899, 0.787010506208214, 0.7917860553963706, 0.8099331423113658, 0.7946513849092646, 0.7984718242597899, 0.7860553963705826, 0.7851002865329514, 0.7956064947468958, 0.8032473734479465, 0.7908309455587391, 0.7965616045845273, 0.801337153772684, 0.8070678127984717, 0.8061127029608404, 0.8042024832855779, 0.7994269340974212, 0.7936962750716332, 0.792741165234002, 0.7898758357211081, 0.7889207258834766, 0.7793696275071632, 0.7956064947468958, 0.617956064947469, 0.778414517669532, 0.7860553963705826, 0.7870105062082139, 0.7917860553963706, 0.617956064947469, 0.802292263610315, 0.8042024832855779, 0.7965616045845273, 0.7946513849092645, 0.8032473734479465, 0.7497612225405922, 0.7688634192932188, 0.8194842406876791, 0.8108882521489971]}, {\"categories\": [\"0\", \"1\", \"2\", \"3\", \"4\", \"5\", \"6\", \"7\", \"8\", \"9\", \"10\", \"11\", \"12\", \"13\", \"14\", \"15\", \"16\", \"17\", \"18\", \"19\", \"20\", \"21\", \"22\", \"23\", \"24\", \"25\", \"26\", \"27\", \"28\", \"29\", \"30\", \"31\", \"32\", \"33\", \"34\", \"35\", \"36\", \"37\", \"38\", \"39\"], \"mode\": \"lines\", \"name\": \"f1_score_micro_max\", \"stepped\": true, \"type\": \"scatter\", \"data\": [0.7879656160458453, 0.8080229226361032, 0.8080229226361032, 0.8080229226361032, 0.8080229226361032, 0.8099331423113658, 0.8099331423113658, 0.8099331423113658, 0.8099331423113658, 0.8099331423113658, 0.8099331423113658, 0.8099331423113658, 0.8099331423113658, 0.8099331423113658, 0.8099331423113658, 0.8099331423113658, 0.8099331423113658, 0.8099331423113658, 0.8099331423113658, 0.8099331423113658, 0.8099331423113658, 0.8099331423113658, 0.8099331423113658, 0.8099331423113658, 0.8099331423113658, 0.8099331423113658, 0.8099331423113658, 0.8099331423113658, 0.8099331423113658, 0.8099331423113658, 0.8099331423113658, 0.8099331423113658, 0.8099331423113658, 0.8099331423113658, 0.8099331423113658, 0.8099331423113658, 0.8099331423113658, 0.8099331423113658, 0.8194842406876791, 0.8194842406876791]}], \"recall_score_macro\": [{\"categories\": [\"0\", \"1\", \"2\", \"3\", \"4\", \"5\", \"6\", \"7\", \"8\", \"9\", \"10\", \"11\", \"12\", \"13\", \"14\", \"15\", \"16\", \"17\", \"18\", \"19\", \"20\", \"21\", \"22\", \"23\", \"24\", \"25\", \"26\", \"27\", \"28\", \"29\", \"30\", \"31\", \"32\", \"33\", \"34\", \"35\", \"36\", \"37\", \"38\", \"39\"], \"mode\": \"markers\", \"name\": \"recall_score_macro\", \"stepped\": false, \"type\": \"scatter\", \"data\": [0.7663876731554501, 0.7802620657427856, 0.7778064867240762, 0.7711714199367283, 0.7814498264632949, 0.7833901895667141, 0.7710229956586132, 0.7667491453734799, 0.7600857508564793, 0.7619934402171857, 0.7771027344554297, 0.7771139944148029, 0.777083404934598, 0.7752302001111754, 0.7720132319651993, 0.7750322891878904, 0.77967960988078, 0.7842221407610195, 0.7863918742818624, 0.7653729213848907, 0.762491519299855, 0.7576122357665763, 0.739490611130841, 0.7622963891027128, 0.7711011993641392, 0.5, 0.752739262883268, 0.739569708483841, 0.7613752168925142, 0.7593166945658144, 0.5, 0.7774627737422136, 0.7783702381643162, 0.7702252180493998, 0.7743854527310198, 0.7784444093259882, 0.7549885505306322, 0.7683076130976731, 0.79170918888757, 0.7806704820684542]}, {\"categories\": [\"0\", \"1\", \"2\", \"3\", \"4\", \"5\", \"6\", \"7\", \"8\", \"9\", \"10\", \"11\", \"12\", \"13\", \"14\", \"15\", \"16\", \"17\", \"18\", \"19\", \"20\", \"21\", \"22\", \"23\", \"24\", \"25\", \"26\", \"27\", \"28\", \"29\", \"30\", \"31\", \"32\", \"33\", \"34\", \"35\", \"36\", \"37\", \"38\", \"39\"], \"mode\": \"lines\", \"name\": \"recall_score_macro_max\", \"stepped\": true, \"type\": \"scatter\", \"data\": [0.7663876731554501, 0.7802620657427856, 0.7802620657427856, 0.7802620657427856, 0.7814498264632949, 0.7833901895667141, 0.7833901895667141, 0.7833901895667141, 0.7833901895667141, 0.7833901895667141, 0.7833901895667141, 0.7833901895667141, 0.7833901895667141, 0.7833901895667141, 0.7833901895667141, 0.7833901895667141, 0.7833901895667141, 0.7842221407610195, 0.7863918742818624, 0.7863918742818624, 0.7863918742818624, 0.7863918742818624, 0.7863918742818624, 0.7863918742818624, 0.7863918742818624, 0.7863918742818624, 0.7863918742818624, 0.7863918742818624, 0.7863918742818624, 0.7863918742818624, 0.7863918742818624, 0.7863918742818624, 0.7863918742818624, 0.7863918742818624, 0.7863918742818624, 0.7863918742818624, 0.7863918742818624, 0.7863918742818624, 0.79170918888757, 0.79170918888757]}], \"f1_score_macro\": [{\"categories\": [\"0\", \"1\", \"2\", \"3\", \"4\", \"5\", \"6\", \"7\", \"8\", \"9\", \"10\", \"11\", \"12\", \"13\", \"14\", \"15\", \"16\", \"17\", \"18\", \"19\", \"20\", \"21\", \"22\", \"23\", \"24\", \"25\", \"26\", \"27\", \"28\", \"29\", \"30\", \"31\", \"32\", \"33\", \"34\", \"35\", \"36\", \"37\", \"38\", \"39\"], \"mode\": \"markers\", \"name\": \"f1_score_macro\", \"stepped\": false, \"type\": \"scatter\", \"data\": [0.7703578865954945, 0.7886104338170347, 0.782521859180584, 0.772606601660632, 0.7802708159998822, 0.7912221889674728, 0.7766113233445925, 0.7759687274965076, 0.7661476986207404, 0.7668354770566846, 0.7804284337598041, 0.7843108385481946, 0.7776602356315019, 0.7799829700672297, 0.7802223995519008, 0.7851049362714194, 0.7873856989981531, 0.7888513650175053, 0.7869637373705007, 0.7726377119150851, 0.7702333134113761, 0.7661459198702302, 0.7518023793375789, 0.764062056759205, 0.7766369225559426, 0.3819228523840639, 0.7577488632439341, 0.7516033446113086, 0.7674373366869998, 0.7681181028746367, 0.3819228523840639, 0.7842787727427126, 0.7853665521478082, 0.7772213042042061, 0.7786536308584515, 0.7844079322426604, 0.7431312389001526, 0.7607013441458452, 0.8007603540131575, 0.7904076951884146]}, {\"categories\": [\"0\", \"1\", \"2\", \"3\", \"4\", \"5\", \"6\", \"7\", \"8\", \"9\", \"10\", \"11\", \"12\", \"13\", \"14\", \"15\", \"16\", \"17\", \"18\", \"19\", \"20\", \"21\", \"22\", \"23\", \"24\", \"25\", \"26\", \"27\", \"28\", \"29\", \"30\", \"31\", \"32\", \"33\", \"34\", \"35\", \"36\", \"37\", \"38\", \"39\"], \"mode\": \"lines\", \"name\": \"f1_score_macro_max\", \"stepped\": true, \"type\": \"scatter\", \"data\": [0.7703578865954945, 0.7886104338170347, 0.7886104338170347, 0.7886104338170347, 0.7886104338170347, 0.7912221889674728, 0.7912221889674728, 0.7912221889674728, 0.7912221889674728, 0.7912221889674728, 0.7912221889674728, 0.7912221889674728, 0.7912221889674728, 0.7912221889674728, 0.7912221889674728, 0.7912221889674728, 0.7912221889674728, 0.7912221889674728, 0.7912221889674728, 0.7912221889674728, 0.7912221889674728, 0.7912221889674728, 0.7912221889674728, 0.7912221889674728, 0.7912221889674728, 0.7912221889674728, 0.7912221889674728, 0.7912221889674728, 0.7912221889674728, 0.7912221889674728, 0.7912221889674728, 0.7912221889674728, 0.7912221889674728, 0.7912221889674728, 0.7912221889674728, 0.7912221889674728, 0.7912221889674728, 0.7912221889674728, 0.8007603540131575, 0.8007603540131575]}], \"average_precision_score_weighted\": [{\"categories\": [\"0\", \"1\", \"2\", \"3\", \"4\", \"5\", \"6\", \"7\", \"8\", \"9\", \"10\", \"11\", \"12\", \"13\", \"14\", \"15\", \"16\", \"17\", \"18\", \"19\", \"20\", \"21\", \"22\", \"23\", \"24\", \"25\", \"26\", \"27\", \"28\", \"29\", \"30\", \"31\", \"32\", \"33\", \"34\", \"35\", \"36\", \"37\", \"38\", \"39\"], \"mode\": \"markers\", \"name\": \"average_precision_score_weighted\", \"stepped\": false, \"type\": \"scatter\", \"data\": [0.8577584361582775, 0.869844220208552, 0.8464299066571875, 0.8425452631131134, 0.849994154535992, 0.8553163339516144, 0.8464209329037832, 0.8136151473776828, 0.8374052309946128, 0.8429268067126943, 0.8584330158383731, 0.8488603483442732, 0.8387418811327402, 0.8497574762927166, 0.8509768278920302, 0.8543660058005292, 0.8517418091783245, 0.8624594241139025, 0.8540006714851565, 0.8503786365853606, 0.84018539020823, 0.8405917182073224, 0.8382503090823551, 0.8043362145363133, 0.8528618329416983, 0.8146563685224969, 0.8402317357294846, 0.8584967277420996, 0.8440341509316532, 0.848420027935259, 0.8225437710583522, 0.848782082649115, 0.8555124580881449, 0.8481575179405368, 0.8471225115009055, 0.8414164357072943, 0.8317988197100173, 0.8463982571092323, 0.8659584906658383, 0.8681043153828645]}, {\"categories\": [\"0\", \"1\", \"2\", \"3\", \"4\", \"5\", \"6\", \"7\", \"8\", \"9\", \"10\", \"11\", \"12\", \"13\", \"14\", \"15\", \"16\", \"17\", \"18\", \"19\", \"20\", \"21\", \"22\", \"23\", \"24\", \"25\", \"26\", \"27\", \"28\", \"29\", \"30\", \"31\", \"32\", \"33\", \"34\", \"35\", \"36\", \"37\", \"38\", \"39\"], \"mode\": \"lines\", \"name\": \"average_precision_score_weighted_max\", \"stepped\": true, \"type\": \"scatter\", \"data\": [0.8577584361582775, 0.869844220208552, 0.869844220208552, 0.869844220208552, 0.869844220208552, 0.869844220208552, 0.869844220208552, 0.869844220208552, 0.869844220208552, 0.869844220208552, 0.869844220208552, 0.869844220208552, 0.869844220208552, 0.869844220208552, 0.869844220208552, 0.869844220208552, 0.869844220208552, 0.869844220208552, 0.869844220208552, 0.869844220208552, 0.869844220208552, 0.869844220208552, 0.869844220208552, 0.869844220208552, 0.869844220208552, 0.869844220208552, 0.869844220208552, 0.869844220208552, 0.869844220208552, 0.869844220208552, 0.869844220208552, 0.869844220208552, 0.869844220208552, 0.869844220208552, 0.869844220208552, 0.869844220208552, 0.869844220208552, 0.869844220208552, 0.869844220208552, 0.869844220208552]}]}, \"metricName\": null, \"primaryMetricName\": \"accuracy\", \"showLegend\": false}, \"run_metrics\": [{\"name\": \"experiment_status\", \"run_id\": \"AutoML_504d70f0-c693-4ec3-bcf5-3860b75a3534\", \"categories\": [0, 1, 2, 3, 4, 5, 6, 7, 8, 9, 10, 11, 12, 13], \"series\": [{\"data\": [\"DatasetEvaluation\", \"FeaturesGeneration\", \"DatasetFeaturization\", \"DatasetFeaturizationCompleted\", \"DatasetCrossValidationSplit\", \"ModelSelection\", \"BestRunExplainModel\", \"ModelExplanationDataSetSetup\", \"PickSurrogateModel\", \"EngineeredFeatureExplanations\", \"EngineeredFeatureExplanations\", \"RawFeaturesExplanations\", \"RawFeaturesExplanations\", \"BestRunExplainModel\"]}]}, {\"name\": \"experiment_status_description\", \"run_id\": \"AutoML_504d70f0-c693-4ec3-bcf5-3860b75a3534\", \"categories\": [0, 1, 2, 3, 4, 5, 6, 7, 8, 9, 10, 11, 12, 13], \"series\": [{\"data\": [\"Gathering dataset statistics.\", \"Generating features for the dataset.\", \"Beginning to fit featurizers and featurize the dataset.\", \"Completed fit featurizers and featurizing the dataset.\", \"Generating individually featurized CV splits.\", \"Beginning model selection.\", \"Best run model explanations started\", \"Model explanations data setup completed\", \"Choosing LightGBM as the surrogate model for explanations\", \"Computation of engineered features started\", \"Computation of engineered features completed\", \"Computation of raw features started\", \"Computation of raw features completed\", \"Best run model explanations completed\"]}]}, {\"name\": \"AUC_macro\", \"run_id\": \"AutoML_504d70f0-c693-4ec3-bcf5-3860b75a3534\", \"categories\": [0], \"series\": [{\"data\": [0.862007101503762]}]}, {\"name\": \"average_precision_score_micro\", \"run_id\": \"AutoML_504d70f0-c693-4ec3-bcf5-3860b75a3534\", \"categories\": [0], \"series\": [{\"data\": [0.8725690667760623]}]}, {\"name\": \"recall_score_macro\", \"run_id\": \"AutoML_504d70f0-c693-4ec3-bcf5-3860b75a3534\", \"categories\": [0], \"series\": [{\"data\": [0.79170918888757]}]}, {\"name\": \"precision_score_micro\", \"run_id\": \"AutoML_504d70f0-c693-4ec3-bcf5-3860b75a3534\", \"categories\": [0], \"series\": [{\"data\": [0.8194842406876791]}]}, {\"name\": \"weighted_accuracy\", \"run_id\": \"AutoML_504d70f0-c693-4ec3-bcf5-3860b75a3534\", \"categories\": [0], \"series\": [{\"data\": [0.8442910304613135]}]}, {\"name\": \"precision_score_weighted\", \"run_id\": \"AutoML_504d70f0-c693-4ec3-bcf5-3860b75a3534\", \"categories\": [0], \"series\": [{\"data\": [0.8203930840703312]}]}, {\"name\": \"f1_score_macro\", \"run_id\": \"AutoML_504d70f0-c693-4ec3-bcf5-3860b75a3534\", \"categories\": [0], \"series\": [{\"data\": [0.8007603540131575]}]}, {\"name\": \"balanced_accuracy\", \"run_id\": \"AutoML_504d70f0-c693-4ec3-bcf5-3860b75a3534\", \"categories\": [0], \"series\": [{\"data\": [0.79170918888757]}]}, {\"name\": \"norm_macro_recall\", \"run_id\": \"AutoML_504d70f0-c693-4ec3-bcf5-3860b75a3534\", \"categories\": [0], \"series\": [{\"data\": [0.58341837777514]}]}, {\"name\": \"precision_score_macro\", \"run_id\": \"AutoML_504d70f0-c693-4ec3-bcf5-3860b75a3534\", \"categories\": [0], \"series\": [{\"data\": [0.8202960611647091]}]}, {\"name\": \"recall_score_micro\", \"run_id\": \"AutoML_504d70f0-c693-4ec3-bcf5-3860b75a3534\", \"categories\": [0], \"series\": [{\"data\": [0.8194842406876791]}]}, {\"name\": \"f1_score_weighted\", \"run_id\": \"AutoML_504d70f0-c693-4ec3-bcf5-3860b75a3534\", \"categories\": [0], \"series\": [{\"data\": [0.8153283965642727]}]}, {\"name\": \"f1_score_micro\", \"run_id\": \"AutoML_504d70f0-c693-4ec3-bcf5-3860b75a3534\", \"categories\": [0], \"series\": [{\"data\": [0.8194842406876791]}]}, {\"name\": \"AUC_micro\", \"run_id\": \"AutoML_504d70f0-c693-4ec3-bcf5-3860b75a3534\", \"categories\": [0], \"series\": [{\"data\": [0.8807918927868682]}]}, {\"name\": \"log_loss\", \"run_id\": \"AutoML_504d70f0-c693-4ec3-bcf5-3860b75a3534\", \"categories\": [0], \"series\": [{\"data\": [0.4367194848491343]}]}, {\"name\": \"recall_score_weighted\", \"run_id\": \"AutoML_504d70f0-c693-4ec3-bcf5-3860b75a3534\", \"categories\": [0], \"series\": [{\"data\": [0.8194842406876791]}]}, {\"name\": \"average_precision_score_macro\", \"run_id\": \"AutoML_504d70f0-c693-4ec3-bcf5-3860b75a3534\", \"categories\": [0], \"series\": [{\"data\": [0.859445015083502]}]}, {\"name\": \"matthews_correlation\", \"run_id\": \"AutoML_504d70f0-c693-4ec3-bcf5-3860b75a3534\", \"categories\": [0], \"series\": [{\"data\": [0.6112567736316562]}]}, {\"name\": \"AUC_weighted\", \"run_id\": \"AutoML_504d70f0-c693-4ec3-bcf5-3860b75a3534\", \"categories\": [0], \"series\": [{\"data\": [0.862007101503762]}]}, {\"name\": \"accuracy\", \"run_id\": \"AutoML_504d70f0-c693-4ec3-bcf5-3860b75a3534\", \"categories\": [0], \"series\": [{\"data\": [0.8194842406876791]}]}, {\"name\": \"average_precision_score_weighted\", \"run_id\": \"AutoML_504d70f0-c693-4ec3-bcf5-3860b75a3534\", \"categories\": [0], \"series\": [{\"data\": [0.8659584906658383]}]}], \"run_logs\": \"\\nRun is completed.\", \"graph\": {}, \"widget_settings\": {\"childWidgetDisplay\": \"popup\", \"send_telemetry\": false, \"log_level\": \"INFO\", \"sdk_version\": \"1.21.0\"}, \"loading\": false}"
          },
          "metadata": {}
        }
      ],
      "execution_count": 26,
      "metadata": {
        "collapsed": true,
        "jupyter": {
          "source_hidden": false,
          "outputs_hidden": false
        },
        "nteract": {
          "transient": {
            "deleting": false
          }
        },
        "gather": {
          "logged": 1612642879841
        }
      }
    },
    {
      "cell_type": "code",
      "source": [
        "#Get generic outputs from the automl_run\r\n",
        "automl_run.get_output()"
      ],
      "outputs": [
        {
          "output_type": "execute_result",
          "execution_count": 27,
          "data": {
            "text/plain": "(Run(Experiment: automl-experiment-1,\n Id: AutoML_504d70f0-c693-4ec3-bcf5-3860b75a3534_38,\n Type: azureml.scriptrun,\n Status: Completed),\n Pipeline(memory=None,\n          steps=[('datatransformer',\n                  DataTransformer(enable_dnn=None, enable_feature_sweeping=None,\n                                  feature_sweeping_config=None,\n                                  feature_sweeping_timeout=None,\n                                  featurization_config=None, force_text_dnn=None,\n                                  is_cross_validation=None,\n                                  is_onnx_compatible=None, logger=None,\n                                  observer=None, task=None, working_dir=None)),\n                 ('prefittedsoftvotingclassifier',...\n                                                                                                 n_estimators=100,\n                                                                                                 n_jobs=1,\n                                                                                                 num_leaves=31,\n                                                                                                 objective=None,\n                                                                                                 random_state=None,\n                                                                                                 reg_alpha=0.0,\n                                                                                                 reg_lambda=0.0,\n                                                                                                 silent=True,\n                                                                                                 subsample=1.0,\n                                                                                                 subsample_for_bin=200000,\n                                                                                                 subsample_freq=0,\n                                                                                                 verbose=-10))],\n                                                                      verbose=False))],\n                                                flatten_transform=None,\n                                                weights=[0.3333333333333333,\n                                                         0.2222222222222222,\n                                                         0.1111111111111111,\n                                                         0.1111111111111111,\n                                                         0.1111111111111111,\n                                                         0.1111111111111111]))],\n          verbose=False))"
          },
          "metadata": {}
        }
      ],
      "execution_count": 27,
      "metadata": {
        "collapsed": true,
        "jupyter": {
          "source_hidden": false,
          "outputs_hidden": false
        },
        "nteract": {
          "transient": {
            "deleting": false
          }
        },
        "gather": {
          "logged": 1612643097916
        }
      }
    },
    {
      "cell_type": "code",
      "source": [
        "#Get the best model outputs\r\n",
        "best_automl_run, best_model = automl_run.get_output()\r\n"
      ],
      "outputs": [],
      "execution_count": 28,
      "metadata": {
        "collapsed": true,
        "jupyter": {
          "source_hidden": false,
          "outputs_hidden": false
        },
        "nteract": {
          "transient": {
            "deleting": false
          }
        },
        "gather": {
          "logged": 1612643098660
        }
      }
    },
    {
      "cell_type": "code",
      "source": [
        "#Get the best model id\r\n",
        "print(best_automl_run.id)"
      ],
      "outputs": [
        {
          "output_type": "stream",
          "name": "stdout",
          "text": [
            "AutoML_504d70f0-c693-4ec3-bcf5-3860b75a3534_38\n"
          ]
        }
      ],
      "execution_count": 29,
      "metadata": {
        "collapsed": true,
        "jupyter": {
          "source_hidden": false,
          "outputs_hidden": false
        },
        "nteract": {
          "transient": {
            "deleting": false
          }
        },
        "gather": {
          "logged": 1612643210847
        }
      }
    },
    {
      "cell_type": "code",
      "source": [
        "os.makedirs('outputs',exist_ok=True)"
      ],
      "outputs": [],
      "execution_count": 30,
      "metadata": {
        "collapsed": true,
        "jupyter": {
          "source_hidden": false,
          "outputs_hidden": false
        },
        "nteract": {
          "transient": {
            "deleting": false
          }
        },
        "gather": {
          "logged": 1612643216788
        }
      }
    },
    {
      "cell_type": "code",
      "source": [
        "#let's deploy since the automl is stronger thatn the hyperparametr model\r\n",
        "from azureml.core.model import Model\r\n",
        "from azureml.core.environment import Environment\r\n",
        "from azureml.core.model import InferenceConfig\r\n"
      ],
      "outputs": [],
      "execution_count": 31,
      "metadata": {
        "collapsed": true,
        "jupyter": {
          "source_hidden": false,
          "outputs_hidden": false
        },
        "nteract": {
          "transient": {
            "deleting": false
          }
        },
        "gather": {
          "logged": 1612643220822
        }
      }
    },
    {
      "cell_type": "markdown",
      "source": [
        "### Registering and Deployment (4th Try)"
      ],
      "metadata": {
        "nteract": {
          "transient": {
            "deleting": false
          }
        }
      }
    },
    {
      "cell_type": "code",
      "source": [
        "from azureml.core import Model\r\n",
        "from azureml.core.webservice import AciWebservice, Webservice\r\n",
        "import joblib"
      ],
      "outputs": [],
      "execution_count": 32,
      "metadata": {
        "collapsed": true,
        "jupyter": {
          "source_hidden": false,
          "outputs_hidden": false
        },
        "nteract": {
          "transient": {
            "deleting": false
          }
        },
        "gather": {
          "logged": 1612643225885
        }
      }
    },
    {
      "cell_type": "code",
      "source": [
        "#best_automl_run\r\n",
        "model = best_automl_run.register_model(model_name='best_run_automl.pkl', model_path='./outputs/',\r\n",
        "                       model_framework=Model.Framework.SCIKITLEARN)"
      ],
      "outputs": [],
      "execution_count": 33,
      "metadata": {
        "collapsed": true,
        "jupyter": {
          "source_hidden": false,
          "outputs_hidden": false
        },
        "nteract": {
          "transient": {
            "deleting": false
          }
        },
        "gather": {
          "logged": 1612643244108
        }
      }
    },
    {
      "cell_type": "code",
      "source": [
        "model"
      ],
      "outputs": [
        {
          "output_type": "execute_result",
          "execution_count": 34,
          "data": {
            "text/plain": "Model(workspace=Workspace.create(name='quick-starts-ws-137654', subscription_id='6971f5ac-8af1-446e-8034-05acea24681f', resource_group='aml-quickstarts-137654'), name=best_run_automl.pkl, id=best_run_automl.pkl:1, version=1, tags={}, properties={})"
          },
          "metadata": {}
        }
      ],
      "execution_count": 34,
      "metadata": {
        "collapsed": true,
        "jupyter": {
          "source_hidden": false,
          "outputs_hidden": false
        },
        "nteract": {
          "transient": {
            "deleting": false
          }
        },
        "gather": {
          "logged": 1612643247559
        }
      }
    },
    {
      "cell_type": "code",
      "source": [
        "print(model.id)\r\n"
      ],
      "outputs": [
        {
          "output_type": "stream",
          "name": "stdout",
          "text": [
            "best_run_automl.pkl:1\n"
          ]
        }
      ],
      "execution_count": 35,
      "metadata": {
        "collapsed": true,
        "jupyter": {
          "source_hidden": false,
          "outputs_hidden": false
        },
        "nteract": {
          "transient": {
            "deleting": false
          }
        },
        "gather": {
          "logged": 1612643251970
        }
      }
    },
    {
      "cell_type": "code",
      "source": [
        "#Defining the deployment\r\n",
        "from azureml.core.webservice import AciWebservice"
      ],
      "outputs": [],
      "execution_count": 36,
      "metadata": {
        "collapsed": true,
        "jupyter": {
          "source_hidden": false,
          "outputs_hidden": false
        },
        "nteract": {
          "transient": {
            "deleting": false
          }
        },
        "gather": {
          "logged": 1612643258203
        }
      }
    },
    {
      "cell_type": "code",
      "source": [
        "aci_config = AciWebservice.deploy_configuration(cpu_cores=1, memory_gb=2,\r\n",
        "                                              enable_app_insights=True)\r\n",
        "\r\n",
        "                                              "
      ],
      "outputs": [],
      "execution_count": 37,
      "metadata": {
        "collapsed": true,
        "jupyter": {
          "source_hidden": false,
          "outputs_hidden": false
        },
        "nteract": {
          "transient": {
            "deleting": false
          }
        },
        "gather": {
          "logged": 1612643264717
        }
      }
    },
    {
      "cell_type": "code",
      "source": [
        "service_name = 'my-sklearn-service'\r\n",
        "service = Model.deploy(ws, service_name, [model], deployment_config=aci_config)"
      ],
      "outputs": [],
      "execution_count": 38,
      "metadata": {
        "collapsed": true,
        "jupyter": {
          "source_hidden": false,
          "outputs_hidden": false
        },
        "nteract": {
          "transient": {
            "deleting": false
          }
        },
        "gather": {
          "logged": 1612643276174
        }
      }
    },
    {
      "cell_type": "code",
      "source": [
        "service.wait_for_deployment(show_output = True)\r\n",
        "print(service.get_logs())"
      ],
      "outputs": [
        {
          "output_type": "stream",
          "name": "stdout",
          "text": [
            "Tips: You can try get_logs(): https://aka.ms/debugimage#dockerlog or local deployment: https://aka.ms/debugimage#debug-locally to debug if deployment takes longer than 10 minutes.\n",
            "Running..................................................................\n",
            "Failed\n"
          ]
        },
        {
          "output_type": "stream",
          "name": "stderr",
          "text": [
            "ERROR:azureml.core.webservice.webservice:Service deployment polling reached non-successful terminal state, current service state: Failed\n",
            "Operation ID: 2600f536-1a8d-4ce0-a57f-24c6742231ea\n",
            "More information can be found using '.get_logs()'\n",
            "Error:\n",
            "{\n",
            "  \"code\": \"AciDeploymentFailed\",\n",
            "  \"statusCode\": 400,\n",
            "  \"message\": \"Aci Deployment failed with exception: Error in entry script, ImportError: cannot import name 'joblib' from 'sklearn.externals' (/azureml-envs/azureml_00066918e50f5ae481b726dc526556ed/lib/python3.7/site-packages/sklearn/externals/__init__.py), please run print(service.get_logs()) to get details.\",\n",
            "  \"details\": [\n",
            "    {\n",
            "      \"code\": \"CrashLoopBackOff\",\n",
            "      \"message\": \"Error in entry script, ImportError: cannot import name 'joblib' from 'sklearn.externals' (/azureml-envs/azureml_00066918e50f5ae481b726dc526556ed/lib/python3.7/site-packages/sklearn/externals/__init__.py), please run print(service.get_logs()) to get details.\"\n",
            "    }\n",
            "  ]\n",
            "}\n",
            "\n"
          ]
        },
        {
          "output_type": "error",
          "ename": "WebserviceException",
          "evalue": "WebserviceException:\n\tMessage: Service deployment polling reached non-successful terminal state, current service state: Failed\nOperation ID: 2600f536-1a8d-4ce0-a57f-24c6742231ea\nMore information can be found using '.get_logs()'\nError:\n{\n  \"code\": \"AciDeploymentFailed\",\n  \"statusCode\": 400,\n  \"message\": \"Aci Deployment failed with exception: Error in entry script, ImportError: cannot import name 'joblib' from 'sklearn.externals' (/azureml-envs/azureml_00066918e50f5ae481b726dc526556ed/lib/python3.7/site-packages/sklearn/externals/__init__.py), please run print(service.get_logs()) to get details.\",\n  \"details\": [\n    {\n      \"code\": \"CrashLoopBackOff\",\n      \"message\": \"Error in entry script, ImportError: cannot import name 'joblib' from 'sklearn.externals' (/azureml-envs/azureml_00066918e50f5ae481b726dc526556ed/lib/python3.7/site-packages/sklearn/externals/__init__.py), please run print(service.get_logs()) to get details.\"\n    }\n  ]\n}\n\tInnerException None\n\tErrorResponse \n{\n    \"error\": {\n        \"message\": \"Service deployment polling reached non-successful terminal state, current service state: Failed\\nOperation ID: 2600f536-1a8d-4ce0-a57f-24c6742231ea\\nMore information can be found using '.get_logs()'\\nError:\\n{\\n  \\\"code\\\": \\\"AciDeploymentFailed\\\",\\n  \\\"statusCode\\\": 400,\\n  \\\"message\\\": \\\"Aci Deployment failed with exception: Error in entry script, ImportError: cannot import name 'joblib' from 'sklearn.externals' (/azureml-envs/azureml_00066918e50f5ae481b726dc526556ed/lib/python3.7/site-packages/sklearn/externals/__init__.py), please run print(service.get_logs()) to get details.\\\",\\n  \\\"details\\\": [\\n    {\\n      \\\"code\\\": \\\"CrashLoopBackOff\\\",\\n      \\\"message\\\": \\\"Error in entry script, ImportError: cannot import name 'joblib' from 'sklearn.externals' (/azureml-envs/azureml_00066918e50f5ae481b726dc526556ed/lib/python3.7/site-packages/sklearn/externals/__init__.py), please run print(service.get_logs()) to get details.\\\"\\n    }\\n  ]\\n}\"\n    }\n}",
          "traceback": [
            "\u001b[0;31m---------------------------------------------------------------------------\u001b[0m",
            "\u001b[0;31mWebserviceException\u001b[0m                       Traceback (most recent call last)",
            "\u001b[0;32m<ipython-input-39-aeb2d6f34219>\u001b[0m in \u001b[0;36m<module>\u001b[0;34m\u001b[0m\n\u001b[0;32m----> 1\u001b[0;31m \u001b[0mservice\u001b[0m\u001b[0;34m.\u001b[0m\u001b[0mwait_for_deployment\u001b[0m\u001b[0;34m(\u001b[0m\u001b[0mshow_output\u001b[0m \u001b[0;34m=\u001b[0m \u001b[0;32mTrue\u001b[0m\u001b[0;34m)\u001b[0m\u001b[0;34m\u001b[0m\u001b[0;34m\u001b[0m\u001b[0m\n\u001b[0m\u001b[1;32m      2\u001b[0m \u001b[0mprint\u001b[0m\u001b[0;34m(\u001b[0m\u001b[0mservice\u001b[0m\u001b[0;34m.\u001b[0m\u001b[0mget_logs\u001b[0m\u001b[0;34m(\u001b[0m\u001b[0;34m)\u001b[0m\u001b[0;34m)\u001b[0m\u001b[0;34m\u001b[0m\u001b[0;34m\u001b[0m\u001b[0m\n",
            "\u001b[0;32m/anaconda/envs/azureml_py36/lib/python3.6/site-packages/azureml/core/webservice/webservice.py\u001b[0m in \u001b[0;36mwait_for_deployment\u001b[0;34m(self, show_output, timeout_sec)\u001b[0m\n\u001b[1;32m    913\u001b[0m                                           \u001b[0;34m'Error:\\n'\u001b[0m\u001b[0;34m\u001b[0m\u001b[0;34m\u001b[0m\u001b[0m\n\u001b[1;32m    914\u001b[0m                                           '{}'.format(self.state, self._operation_endpoint.split('/')[-1],\n\u001b[0;32m--> 915\u001b[0;31m                                                       logs_response, error_response), logger=module_logger)\n\u001b[0m\u001b[1;32m    916\u001b[0m             print('{} service creation operation finished, operation \"{}\"'.format(self._webservice_type,\n\u001b[1;32m    917\u001b[0m                                                                                   operation_state))\n",
            "\u001b[0;31mWebserviceException\u001b[0m: WebserviceException:\n\tMessage: Service deployment polling reached non-successful terminal state, current service state: Failed\nOperation ID: 2600f536-1a8d-4ce0-a57f-24c6742231ea\nMore information can be found using '.get_logs()'\nError:\n{\n  \"code\": \"AciDeploymentFailed\",\n  \"statusCode\": 400,\n  \"message\": \"Aci Deployment failed with exception: Error in entry script, ImportError: cannot import name 'joblib' from 'sklearn.externals' (/azureml-envs/azureml_00066918e50f5ae481b726dc526556ed/lib/python3.7/site-packages/sklearn/externals/__init__.py), please run print(service.get_logs()) to get details.\",\n  \"details\": [\n    {\n      \"code\": \"CrashLoopBackOff\",\n      \"message\": \"Error in entry script, ImportError: cannot import name 'joblib' from 'sklearn.externals' (/azureml-envs/azureml_00066918e50f5ae481b726dc526556ed/lib/python3.7/site-packages/sklearn/externals/__init__.py), please run print(service.get_logs()) to get details.\"\n    }\n  ]\n}\n\tInnerException None\n\tErrorResponse \n{\n    \"error\": {\n        \"message\": \"Service deployment polling reached non-successful terminal state, current service state: Failed\\nOperation ID: 2600f536-1a8d-4ce0-a57f-24c6742231ea\\nMore information can be found using '.get_logs()'\\nError:\\n{\\n  \\\"code\\\": \\\"AciDeploymentFailed\\\",\\n  \\\"statusCode\\\": 400,\\n  \\\"message\\\": \\\"Aci Deployment failed with exception: Error in entry script, ImportError: cannot import name 'joblib' from 'sklearn.externals' (/azureml-envs/azureml_00066918e50f5ae481b726dc526556ed/lib/python3.7/site-packages/sklearn/externals/__init__.py), please run print(service.get_logs()) to get details.\\\",\\n  \\\"details\\\": [\\n    {\\n      \\\"code\\\": \\\"CrashLoopBackOff\\\",\\n      \\\"message\\\": \\\"Error in entry script, ImportError: cannot import name 'joblib' from 'sklearn.externals' (/azureml-envs/azureml_00066918e50f5ae481b726dc526556ed/lib/python3.7/site-packages/sklearn/externals/__init__.py), please run print(service.get_logs()) to get details.\\\"\\n    }\\n  ]\\n}\"\n    }\n}"
          ]
        }
      ],
      "execution_count": 39,
      "metadata": {
        "collapsed": true,
        "jupyter": {
          "source_hidden": false,
          "outputs_hidden": false
        },
        "nteract": {
          "transient": {
            "deleting": false
          }
        }
      }
    },
    {
      "cell_type": "code",
      "source": [
        "print(service.get_logs())"
      ],
      "outputs": [
        {
          "output_type": "stream",
          "name": "stdout",
          "text": [
            "2021-02-06T20:34:21,101174774+00:00 - iot-server/run \n",
            "2021-02-06T20:34:21,102648230+00:00 - gunicorn/run \n",
            "2021-02-06T20:34:21,103752272+00:00 - rsyslog/run \n",
            "2021-02-06T20:34:21,102967542+00:00 - nginx/run \n",
            "EdgeHubConnectionString and IOTEDGE_IOTHUBHOSTNAME are not set. Exiting...\n",
            "2021-02-06T20:34:21,288396572+00:00 - iot-server/finish 1 0\n",
            "2021-02-06T20:34:21,289722022+00:00 - Exit code 1 is normal. Not restarting iot-server.\n",
            "Starting gunicorn 19.9.0\n",
            "Listening at: http://127.0.0.1:31311 (12)\n",
            "Using worker: sync\n",
            "worker timeout is set to 300\n",
            "Booting worker with pid: 39\n",
            "SPARK_HOME not set. Skipping PySpark Initialization.\n",
            "Initializing logger\n",
            "2021-02-06 20:34:22,252 | root | INFO | Starting up app insights client\n",
            "2021-02-06 20:34:22,253 | root | INFO | Starting up request id generator\n",
            "2021-02-06 20:34:22,253 | root | INFO | Starting up app insight hooks\n",
            "2021-02-06 20:34:22,253 | root | INFO | Invoking user's init function\n",
            "Model path: azureml-models/best_run_automl.pkl/1/outputs\n",
            "WARNING: Multiple files in model directory matched expected filename pattern:\n",
            "azureml-models/best_run_automl.pkl/1/outputs/model.pkl\n",
            "azureml-models/best_run_automl.pkl/1/outputs/internal_cross_validated_models.pkl\n",
            "Trying to load ScikitLearn model from azureml-models/best_run_automl.pkl/1/outputs/model.pkl.\n",
            "Load failed with ModuleNotFoundError: No module named 'azureml.automl'\n",
            "Trying to load ScikitLearn model from azureml-models/best_run_automl.pkl/1/outputs/internal_cross_validated_models.pkl.\n",
            "Load failed with ModuleNotFoundError: No module named 'azureml.automl'\n",
            "2021-02-06 20:34:22,259 | root | ERROR | User's init function failed\n",
            "2021-02-06 20:34:22,259 | root | ERROR | Encountered Exception Traceback (most recent call last):\n",
            "  File \"/var/azureml-server/aml_blueprint.py\", line 176, in register\n",
            "    main.init()\n",
            "  File \"/var/azureml-app/main.py\", line 115, in init\n",
            "    raise Exception('Cannot find or load ScikitLearn model file in model directory.')\n",
            "Exception: Cannot find or load ScikitLearn model file in model directory.\n",
            "\n",
            "Traceback (most recent call last):\n",
            "  File \"/var/azureml-app/main.py\", line 322, in load_model_file\n",
            "    model = joblib.load(filename)\n",
            "  File \"/azureml-envs/azureml_00066918e50f5ae481b726dc526556ed/lib/python3.7/site-packages/joblib/numpy_pickle.py\", line 598, in load\n",
            "    obj = _unpickle(fobj, filename, mmap_mode)\n",
            "  File \"/azureml-envs/azureml_00066918e50f5ae481b726dc526556ed/lib/python3.7/site-packages/joblib/numpy_pickle.py\", line 526, in _unpickle\n",
            "    obj = unpickler.load()\n",
            "  File \"/azureml-envs/azureml_00066918e50f5ae481b726dc526556ed/lib/python3.7/pickle.py\", line 1088, in load\n",
            "    dispatch[key[0]](self)\n",
            "  File \"/azureml-envs/azureml_00066918e50f5ae481b726dc526556ed/lib/python3.7/pickle.py\", line 1385, in load_stack_global\n",
            "    self.append(self.find_class(module, name))\n",
            "  File \"/azureml-envs/azureml_00066918e50f5ae481b726dc526556ed/lib/python3.7/pickle.py\", line 1426, in find_class\n",
            "    __import__(module, level=0)\n",
            "ModuleNotFoundError: No module named 'azureml.automl'\n",
            "\n",
            "During handling of the above exception, another exception occurred:\n",
            "Traceback (most recent call last):\n",
            "  File \"/var/azureml-app/main.py\", line 328, in load_model_file\n",
            "    from sklearn.externals import joblib as sklearn_joblib\n",
            "ImportError: cannot import name 'joblib' from 'sklearn.externals' (/azureml-envs/azureml_00066918e50f5ae481b726dc526556ed/lib/python3.7/site-packages/sklearn/externals/__init__.py)\n",
            "\n",
            "During handling of the above exception, another exception occurred:\n",
            "Traceback (most recent call last):\n",
            "  File \"/var/azureml-app/main.py\", line 109, in init\n",
            "    model = load_model_file(filename)\n",
            "  File \"/var/azureml-app/main.py\", line 333, in load_model_file\n",
            "    model = dill.load(f)\n",
            "  File \"/azureml-envs/azureml_00066918e50f5ae481b726dc526556ed/lib/python3.7/site-packages/dill/_dill.py\", line 305, in load\n",
            "    obj = pik.load()\n",
            "  File \"/azureml-envs/azureml_00066918e50f5ae481b726dc526556ed/lib/python3.7/site-packages/dill/_dill.py\", line 474, in find_class\n",
            "    return StockUnpickler.find_class(self, module, name)\n",
            "Worker exiting (pid: 39)\n",
            "ModuleNotFoundError: No module named 'azureml.automl'\n",
            "Traceback (most recent call last):\n",
            "  File \"/var/azureml-app/main.py\", line 322, in load_model_file\n",
            "    model = joblib.load(filename)\n",
            "  File \"/azureml-envs/azureml_00066918e50f5ae481b726dc526556ed/lib/python3.7/site-packages/joblib/numpy_pickle.py\", line 598, in load\n",
            "    obj = _unpickle(fobj, filename, mmap_mode)\n",
            "  File \"/azureml-envs/azureml_00066918e50f5ae481b726dc526556ed/lib/python3.7/site-packages/joblib/numpy_pickle.py\", line 526, in _unpickle\n",
            "    obj = unpickler.load()\n",
            "  File \"/azureml-envs/azureml_00066918e50f5ae481b726dc526556ed/lib/python3.7/pickle.py\", line 1088, in load\n",
            "    dispatch[key[0]](self)\n",
            "  File \"/azureml-envs/azureml_00066918e50f5ae481b726dc526556ed/lib/python3.7/pickle.py\", line 1385, in load_stack_global\n",
            "    self.append(self.find_class(module, name))\n",
            "  File \"/azureml-envs/azureml_00066918e50f5ae481b726dc526556ed/lib/python3.7/pickle.py\", line 1426, in find_class\n",
            "    __import__(module, level=0)\n",
            "ModuleNotFoundError: No module named 'azureml.automl'\n",
            "\n",
            "During handling of the above exception, another exception occurred:\n",
            "Traceback (most recent call last):\n",
            "  File \"/var/azureml-app/main.py\", line 328, in load_model_file\n",
            "    from sklearn.externals import joblib as sklearn_joblib\n",
            "ImportError: cannot import name 'joblib' from 'sklearn.externals' (/azureml-envs/azureml_00066918e50f5ae481b726dc526556ed/lib/python3.7/site-packages/sklearn/externals/__init__.py)\n",
            "\n",
            "During handling of the above exception, another exception occurred:\n",
            "Traceback (most recent call last):\n",
            "  File \"/var/azureml-app/main.py\", line 109, in init\n",
            "    model = load_model_file(filename)\n",
            "  File \"/var/azureml-app/main.py\", line 333, in load_model_file\n",
            "    model = dill.load(f)\n",
            "  File \"/azureml-envs/azureml_00066918e50f5ae481b726dc526556ed/lib/python3.7/site-packages/dill/_dill.py\", line 305, in load\n",
            "    obj = pik.load()\n",
            "  File \"/azureml-envs/azureml_00066918e50f5ae481b726dc526556ed/lib/python3.7/site-packages/dill/_dill.py\", line 474, in find_class\n",
            "    return StockUnpickler.find_class(self, module, name)\n",
            "ModuleNotFoundError: No module named 'azureml.automl'\n",
            "Shutting down: Master\n",
            "Reason: Worker failed to boot.\n",
            "2021-02-06T20:34:22,396845967+00:00 - gunicorn/finish 3 0\n",
            "2021-02-06T20:34:22,398022012+00:00 - Exit code 3 is not normal. Killing image.\n",
            "\n"
          ]
        }
      ],
      "execution_count": 40,
      "metadata": {
        "collapsed": true,
        "jupyter": {
          "source_hidden": false,
          "outputs_hidden": false
        },
        "nteract": {
          "transient": {
            "deleting": false
          }
        },
        "gather": {
          "logged": 1612643705664
        }
      }
    },
    {
      "cell_type": "code",
      "source": [
        "import requests\r\n",
        "import json\r\n",
        "# URL for the web service, should be similar to:\r\n",
        "# 'http://8530a665-66f3-49c8-a953-b82a2d312917.eastus.azurecontainer.io/score'\r\n",
        "\r\n",
        "scoring_uri = ''\r\n",
        "# If the service is authenticated, set the key or token\r\n",
        "key = ''\r\n",
        "# Two sets of data to score, so we get two results back\r\n",
        "test_data = json.dumps({'data':[{\r\n",
        "    'pclass': 0.8419164182590155,\r\n",
        "    'age': -0.34907541344456255,\r\n",
        "    'sibsp': -0.47908676070718687,\r\n",
        "    'parch': -0.444999501816175,\r\n",
        "    'fare': -0.4902404567566683,\r\n",
        "    'age_NA': -0.5014319838391105,\r\n",
        "    'fare_NA': -0.027650063180466557,\r\n",
        "    'sex_male': 0.743496915331831,\r\n",
        "    'cabin_Missing': 0.5393765119990418,\r\n",
        "    'cabin_Rare': -0.42592011250734235,\r\n",
        "    'embarked_Q': -0.32204029159373954,\r\n",
        "    'embarked_Rare': -0.03911805059269843,\r\n",
        "    'embarked_S': 0.6573935670276714,\r\n",
        "    'title_Mr': 0.8525918887485938,\r\n",
        "    'title_Mrs': -0.42592011250734235,\r\n",
        "    'title_Rare': -0.27494677157229536\r\n",
        "    }\r\n",
        "    ]\r\n",
        "        })\r\n",
        "\r\n",
        "test_data2 = json.dumps({'data':[{\r\n",
        "    'pclass': -15460978645168200,\r\n",
        "    'age': 0.8912042887450313,\r\n",
        "    'sibsp': -0.47908676070718687,\r\n",
        "    'parch': -0.444999501816175,\r\n",
        "    'fare': 19569900306355100,\r\n",
        "    'age_NA': -0.5014319838391105,\r\n",
        "    'fare_NA': -0.027650063180466557,\r\n",
        "    'sex_male': -13449954927569300,\r\n",
        "    'cabin_Missing': -18539924853119600,\r\n",
        "    'cabin_Rare': 23478581326275300,\r\n",
        "    'embarked_Q': -0.32204029159373954,\r\n",
        "    'embarked_Rare': -0.03911805059269843,\r\n",
        "    'embarked_S': -15211587854766800,\r\n",
        "    'title_Mr': -11728941046668400,\r\n",
        "    'title_Mrs': -0.42592011250734235,\r\n",
        "    'title_Rare': -0.27494677157229536\r\n",
        "\r\n",
        "    }\r\n",
        "    ]\r\n",
        "        })\r\n",
        "# Convert to JSON string\r\n",
        "input_data = json.dumps(data)\r\n",
        "with open(\"data.json\", \"w\") as _f:\r\n",
        "    _f.write(input_data)\r\n",
        "# Set the content type\r\n",
        "headers = {'Content-Type': 'application/json'}\r\n",
        "# If authentication is enabled, set the authorization header\r\n",
        "headers['Authorization'] = f'Bearer {key}'\r\n",
        "# Make the request and display the response\r\n",
        "resp = requests.post(scoring_uri, input_data, headers=headers)\r\n",
        "print(resp.json())"
      ],
      "outputs": [],
      "execution_count": null,
      "metadata": {
        "collapsed": true,
        "jupyter": {
          "source_hidden": false,
          "outputs_hidden": false
        },
        "nteract": {
          "transient": {
            "deleting": false
          }
        }
      }
    },
    {
      "cell_type": "markdown",
      "source": [
        "### End 4th Try; ignore the code below...Therse are other tries"
      ],
      "metadata": {
        "nteract": {
          "transient": {
            "deleting": false
          }
        }
      }
    },
    {
      "cell_type": "code",
      "source": [
        "#Generating the environment needed:\r\n",
        "env = best_automl_run.get_environment()"
      ],
      "outputs": [],
      "execution_count": null,
      "metadata": {
        "collapsed": true,
        "jupyter": {
          "source_hidden": false,
          "outputs_hidden": false
        },
        "nteract": {
          "transient": {
            "deleting": false
          }
        },
        "gather": {
          "logged": 1612613589584
        }
      }
    },
    {
      "cell_type": "code",
      "source": [
        "for pip_package in [\"scikit-learn\"]:\r\n",
        "    env.python.conda_dependencies.add_pip_package(pip_package)\r\n",
        "\r\n",
        "inference_config = InferenceConfig(entry_script='score.py',environment=env)"
      ],
      "outputs": [],
      "execution_count": null,
      "metadata": {
        "collapsed": true,
        "jupyter": {
          "source_hidden": false,
          "outputs_hidden": false
        },
        "nteract": {
          "transient": {
            "deleting": false
          }
        },
        "gather": {
          "logged": 1612613595568
        }
      }
    },
    {
      "cell_type": "code",
      "source": [
        "#service = model.deploy(Workspace=ws,name = 'titanic best model',models = [model],inference_config = inference_config, deployment_config=aci_config,overwrite=True)\r\n",
        "\r\n",
        "service_name = 'my-service-ml-3'\r\n",
        "\r\n",
        "service = Model.deploy(ws, service_name, [model], inference_config, deployment_config=aci_config)"
      ],
      "outputs": [],
      "execution_count": null,
      "metadata": {
        "collapsed": true,
        "jupyter": {
          "source_hidden": false,
          "outputs_hidden": false
        },
        "nteract": {
          "transient": {
            "deleting": false
          }
        },
        "gather": {
          "logged": 1612613632402
        }
      }
    },
    {
      "cell_type": "code",
      "source": [
        "#check on service\r\n",
        "service"
      ],
      "outputs": [],
      "execution_count": null,
      "metadata": {
        "collapsed": true,
        "jupyter": {
          "source_hidden": false,
          "outputs_hidden": false
        },
        "nteract": {
          "transient": {
            "deleting": false
          }
        },
        "gather": {
          "logged": 1612613639209
        }
      }
    },
    {
      "cell_type": "code",
      "source": [
        "#Check on deployment status:\r\n",
        "service.wait_for_deployment(True)\r\n",
        "print(service.state)\r\n"
      ],
      "outputs": [],
      "execution_count": null,
      "metadata": {
        "collapsed": true,
        "jupyter": {
          "source_hidden": false,
          "outputs_hidden": false
        },
        "nteract": {
          "transient": {
            "deleting": false
          }
        }
      }
    },
    {
      "cell_type": "code",
      "source": [
        "#Now let's get the scoring URI:\r\n",
        "scoring_uri = service.scoring_uri\r\n",
        "scoring_uri"
      ],
      "outputs": [],
      "execution_count": null,
      "metadata": {
        "collapsed": true,
        "jupyter": {
          "source_hidden": false,
          "outputs_hidden": false
        },
        "nteract": {
          "transient": {
            "deleting": false
          }
        }
      }
    },
    {
      "cell_type": "markdown",
      "source": [
        "### The above below is not needed anymore; only the very next line will be then matched befores we submit the experiment"
      ],
      "metadata": {
        "nteract": {
          "transient": {
            "deleting": false
          }
        }
      }
    },
    {
      "cell_type": "markdown",
      "source": [
        "## Run Details\n",
        "\n",
        "OPTIONAL: Write about the different models trained and their performance. Why do you think some models did better than others?\n",
        "\n",
        "TODO: In the cell below, use the `RunDetails` widget to show the different experiments."
      ],
      "metadata": {}
    },
    {
      "cell_type": "code",
      "source": [
        "from azureml.widgets import RunDetails\n",
        "RunDetails(pipeline_run).show()"
      ],
      "outputs": [],
      "execution_count": null,
      "metadata": {
        "gather": {
          "logged": 1612085133959
        },
        "jupyter": {
          "outputs_hidden": false,
          "source_hidden": false
        },
        "nteract": {
          "transient": {
            "deleting": false
          }
        }
      }
    },
    {
      "cell_type": "code",
      "source": [
        "pipeline_run.wait_for_completion()"
      ],
      "outputs": [],
      "execution_count": null,
      "metadata": {
        "gather": {
          "logged": 1612086926119
        }
      }
    },
    {
      "cell_type": "markdown",
      "source": [
        "## Examine Results\n",
        "\n",
        "### Retrieve the metrics of all child runs\n",
        "Outputs of above run can be used as inputs of other steps in pipeline. In this tutorial, we will examine the outputs by retrieve output data and running some tests."
      ],
      "metadata": {}
    },
    {
      "cell_type": "code",
      "source": [
        "metrics_output = pipeline_run.get_pipeline_output(metrics_output_name)\n",
        "metrics_output"
      ],
      "outputs": [],
      "execution_count": null,
      "metadata": {
        "gather": {
          "logged": 1612087269821
        }
      }
    },
    {
      "cell_type": "code",
      "source": [
        "num_file_downloaded = metrics_output.download('.', show_progress=True)"
      ],
      "outputs": [],
      "execution_count": null,
      "metadata": {
        "gather": {
          "logged": 1612087300726
        }
      }
    },
    {
      "cell_type": "code",
      "source": [
        "import json\n",
        "with open(metrics_output._path_on_datastore) as f:\n",
        "    metrics_output_result = f.read()\n",
        "    \n",
        "deserialized_metrics_output = json.loads(metrics_output_result)\n",
        "df = pd.DataFrame(deserialized_metrics_output)\n",
        "df"
      ],
      "outputs": [],
      "execution_count": null,
      "metadata": {
        "gather": {
          "logged": 1612087307461
        }
      }
    },
    {
      "cell_type": "markdown",
      "source": [
        "## Best Model\n",
        "\n",
        "TODO: In the cell below, get the best model from the automl experiments and display all the properties of the model.\n",
        "\n"
      ],
      "metadata": {}
    },
    {
      "cell_type": "code",
      "source": [
        "# Retrieve best model from Pipeline Run\n",
        "best_model_output = pipeline_run.get_pipeline_output(best_model_output_name)\n",
        "num_file_downloaded = best_model_output.download('.', show_progress=True)"
      ],
      "outputs": [],
      "execution_count": null,
      "metadata": {
        "gather": {
          "logged": 1612087328730
        },
        "jupyter": {
          "outputs_hidden": false,
          "source_hidden": false
        },
        "nteract": {
          "transient": {
            "deleting": false
          }
        }
      }
    },
    {
      "cell_type": "code",
      "source": [
        "#TODO: Save the best model\n",
        "import pickle\n",
        "\n",
        "with open(best_model_output._path_on_datastore, \"rb\" ) as f:\n",
        "    best_model = pickle.load(f)\n",
        "best_model"
      ],
      "outputs": [],
      "execution_count": null,
      "metadata": {
        "gather": {
          "logged": 1612087350205
        },
        "jupyter": {
          "outputs_hidden": false,
          "source_hidden": false
        },
        "nteract": {
          "transient": {
            "deleting": false
          }
        }
      }
    },
    {
      "cell_type": "code",
      "source": [
        "best_model.steps"
      ],
      "outputs": [],
      "execution_count": null,
      "metadata": {
        "gather": {
          "logged": 1612087362075
        }
      }
    },
    {
      "cell_type": "markdown",
      "source": [
        "### Test the Model:"
      ],
      "metadata": {}
    },
    {
      "cell_type": "code",
      "source": [
        "from sklearn.metrics import confusion_matrix\n",
        "ypred = best_model.predict(x_test)\n",
        "cm = confusion_matrix(y_test, ypred)"
      ],
      "outputs": [],
      "execution_count": null,
      "metadata": {
        "gather": {
          "logged": 1612087383962
        }
      }
    },
    {
      "cell_type": "code",
      "source": [
        "pd.DataFrame(cm).style.background_gradient(cmap='Blues', low=0, high=0.9)"
      ],
      "outputs": [],
      "execution_count": null,
      "metadata": {
        "gather": {
          "logged": 1612087393337
        }
      }
    },
    {
      "cell_type": "code",
      "source": [
        "#Accuracy Test:\r\n",
        "(152 + 62) / (152 + 62 + 38+10)"
      ],
      "outputs": [],
      "execution_count": null,
      "metadata": {
        "collapsed": true,
        "jupyter": {
          "source_hidden": false,
          "outputs_hidden": false
        },
        "nteract": {
          "transient": {
            "deleting": false
          }
        },
        "gather": {
          "logged": 1612087466563
        }
      }
    },
    {
      "cell_type": "markdown",
      "source": [
        "## Model Deployment\n",
        "\n",
        "Remember you have to deploy only one of the two models you trained.. Perform the steps in the rest of this notebook only if you wish to deploy this model.\n",
        "\n",
        "TODO: In the cell below, register the model, create an inference config and deploy the model as a web service."
      ],
      "metadata": {}
    },
    {
      "cell_type": "code",
      "source": [
        "best_model"
      ],
      "outputs": [],
      "execution_count": null,
      "metadata": {
        "gather": {
          "logged": 1612090412353
        },
        "jupyter": {
          "outputs_hidden": false,
          "source_hidden": false
        },
        "nteract": {
          "transient": {
            "deleting": false
          }
        }
      }
    },
    {
      "cell_type": "markdown",
      "source": [
        "TODO: In the cell below, send a request to the web service you deployed to test it."
      ],
      "metadata": {
        "collapsed": true,
        "gather": {
          "logged": 1598431657736
        },
        "jupyter": {
          "outputs_hidden": false,
          "source_hidden": false
        },
        "nteract": {
          "transient": {
            "deleting": false
          }
        }
      }
    },
    {
      "cell_type": "code",
      "source": [
        "#help(best_model)\r\n",
        "dir(pipeline_run)"
      ],
      "outputs": [],
      "execution_count": null,
      "metadata": {
        "gather": {
          "logged": 1612091863719
        },
        "jupyter": {
          "outputs_hidden": false,
          "source_hidden": false
        },
        "nteract": {
          "transient": {
            "deleting": false
          }
        }
      }
    },
    {
      "cell_type": "code",
      "source": [
        "pipeline_run.experiment"
      ],
      "outputs": [],
      "execution_count": null,
      "metadata": {
        "collapsed": true,
        "jupyter": {
          "source_hidden": false,
          "outputs_hidden": false
        },
        "nteract": {
          "transient": {
            "deleting": false
          }
        },
        "gather": {
          "logged": 1612092169172
        }
      }
    },
    {
      "cell_type": "markdown",
      "source": [
        "TODO: In the cell below, print the logs of the web service and delete the service"
      ],
      "metadata": {
        "collapsed": true,
        "gather": {
          "logged": 1598432765711
        },
        "jupyter": {
          "outputs_hidden": false,
          "source_hidden": false
        },
        "nteract": {
          "transient": {
            "deleting": false
          }
        }
      }
    },
    {
      "cell_type": "code",
      "source": [],
      "outputs": [],
      "execution_count": null,
      "metadata": {
        "jupyter": {
          "outputs_hidden": false,
          "source_hidden": false
        },
        "nteract": {
          "transient": {
            "deleting": false
          }
        }
      }
    }
  ],
  "metadata": {
    "kernel_info": {
      "name": "python3"
    },
    "kernelspec": {
      "name": "python3",
      "language": "python",
      "display_name": "Python 3"
    },
    "language_info": {
      "name": "python",
      "version": "3.6.9",
      "mimetype": "text/x-python",
      "codemirror_mode": {
        "name": "ipython",
        "version": 3
      },
      "pygments_lexer": "ipython3",
      "nbconvert_exporter": "python",
      "file_extension": ".py"
    },
    "nteract": {
      "version": "nteract-front-end@1.0.0"
    }
  },
  "nbformat": 4,
  "nbformat_minor": 2
}